{
 "cells": [
  {
   "cell_type": "code",
   "execution_count": 1,
   "metadata": {},
   "outputs": [
    {
     "name": "stdout",
     "output_type": "stream",
     "text": [
      "Requirement already satisfied: pydantic in c:\\python310\\lib\\site-packages (1.10.5)\n",
      "Requirement already satisfied: typing-extensions>=4.2.0 in c:\\python310\\lib\\site-packages (from pydantic) (4.4.0)\n"
     ]
    }
   ],
   "source": [
    "!pip install pydantic"
   ]
  },
  {
   "cell_type": "code",
   "execution_count": 2,
   "metadata": {},
   "outputs": [],
   "source": [
    "\"\"\"Class for the complaint.\"\"\"\n",
    "\n",
    "from pydantic import BaseModel\n",
    "from datetime import datetime\n",
    "\n",
    "class Complaint(BaseModel):\n",
    "    \"\"\"Class for the complaint.\"\"\"\n",
    "    # primary information\n",
    "    id: int\n",
    "    description: str\n",
    "    country: str\n",
    "\n",
    "    # metadata\n",
    "    date_received: datetime\n",
    "    date_occurred: datetime\n",
    "    owned_by: str"
   ]
  },
  {
   "cell_type": "code",
   "execution_count": null,
   "metadata": {},
   "outputs": [],
   "source": [
    "def region_from_country(country: str, tracer: dict) -> str:\n",
    "    \"\"\"Return the region from the country.\"\"\"\n",
    "    if country in tracer:\n",
    "        return tracer[country]"
   ]
  },
  {
   "cell_type": "code",
   "execution_count": null,
   "metadata": {},
   "outputs": [],
   "source": [
    "class ParentRecord(Complaint):\n",
    "    \"\"\"Class for the parent record.\"\"\"\n",
    "    def __init__(self, id, description, country, date_received, date_occurred, owned_by):\n",
    "        self.parent_id = id\n",
    "        self.event_description = description\n",
    "        self.country_of_origin = country\n",
    "        self.region = region_from_country(country)\n",
    "        self.receipt_date = date_received\n",
    "        self.event_date = date_occurred\n",
    "        self.assigned_to = owned_by\n",
    "\n",
    "        #super().__init__(id, description, country, date_received, date_occurred, owned_by)"
   ]
  }
 ],
 "metadata": {
  "kernelspec": {
   "display_name": "Python 3",
   "language": "python",
   "name": "python3"
  },
  "language_info": {
   "codemirror_mode": {
    "name": "ipython",
    "version": 3
   },
   "file_extension": ".py",
   "mimetype": "text/x-python",
   "name": "python",
   "nbconvert_exporter": "python",
   "pygments_lexer": "ipython3",
   "version": "3.10.6"
  }
 },
 "nbformat": 4,
 "nbformat_minor": 2
}
