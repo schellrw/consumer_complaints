{
 "cells": [
  {
   "cell_type": "markdown",
   "id": "cad504ae",
   "metadata": {},
   "source": [
    "## Package imports"
   ]
  },
  {
   "cell_type": "code",
   "execution_count": 101,
   "id": "e33e0e48",
   "metadata": {},
   "outputs": [],
   "source": [
    "import pandas as pd\n",
    "import numpy as np\n",
    "from tqdm import tqdm\n",
    "tqdm.pandas(desc=\"progress-bar\")\n",
    "import nltk\n",
    "from nltk.corpus import stopwords\n",
    "from nltk.stem import SnowballStemmer\n",
    "import string\n",
    "from textblob import TextBlob\n",
    "\n",
    "from sklearn.utils import shuffle\n",
    "from sklearn.feature_extraction.text import TfidfVectorizer\n",
    "from sklearn.linear_model import LogisticRegression, PassiveAggressiveClassifier\n",
    "from sklearn.ensemble import RandomForestClassifier, VotingClassifier\n",
    "from sklearn.metrics import accuracy_score, f1_score, classification_report, confusion_matrix\n",
    "from sklearn.model_selection import StratifiedShuffleSplit\n",
    "from sklearn.preprocessing import StandardScaler\n",
    "\n",
    "from xgboost import XGBClassifier\n",
    "from lightgbm import LGBMClassifier\n",
    "\n",
    "import optuna\n",
    "\n",
    "import re\n",
    "import seaborn as sns\n",
    "import matplotlib.pyplot as plt\n",
    "\n",
    "import scipy.stats as st\n",
    "from scipy import sparse\n",
    "from scipy.sparse import hstack\n",
    "import pickle"
   ]
  },
  {
   "cell_type": "code",
   "execution_count": 2,
   "id": "c727bc62",
   "metadata": {},
   "outputs": [
    {
     "name": "stderr",
     "output_type": "stream",
     "text": [
      "[nltk_data] Downloading package stopwords to\n",
      "[nltk_data]     C:\\Users\\schellr2\\AppData\\Roaming\\nltk_data...\n",
      "[nltk_data]   Package stopwords is already up-to-date!\n",
      "[nltk_data] Downloading package wordnet to\n",
      "[nltk_data]     C:\\Users\\schellr2\\AppData\\Roaming\\nltk_data...\n",
      "[nltk_data]   Package wordnet is already up-to-date!\n",
      "[nltk_data] Downloading package punkt to\n",
      "[nltk_data]     C:\\Users\\schellr2\\AppData\\Roaming\\nltk_data...\n",
      "[nltk_data]   Package punkt is already up-to-date!\n",
      "[nltk_data] Downloading package omw-1.4 to\n",
      "[nltk_data]     C:\\Users\\schellr2\\AppData\\Roaming\\nltk_data...\n",
      "[nltk_data]   Package omw-1.4 is already up-to-date!\n"
     ]
    }
   ],
   "source": [
    "# Downloads and display options\n",
    "nltk.download('stopwords')\n",
    "nltk.download('wordnet')\n",
    "nltk.download('punkt')\n",
    "nltk.download('omw-1.4')\n",
    "punctuation = string.punctuation\n",
    "stop_words = set(stopwords.words('english'))\n",
    "pd.options.display.max_columns = None\n",
    "pd.options.display.max_rows = None\n",
    "%matplotlib inline"
   ]
  },
  {
   "cell_type": "markdown",
   "id": "13533c37",
   "metadata": {},
   "source": [
    "## Define functions"
   ]
  },
  {
   "cell_type": "code",
   "execution_count": 3,
   "id": "7453ea4f",
   "metadata": {},
   "outputs": [],
   "source": [
    "def clean_text(df):\n",
    "    for i in [char for char in ':;\"?,/|\\\\}{1234567890.~!@#$%^&*_+=<>']:\n",
    "        df.text=df.text.apply(lambda x: str(x).replace(i,\"\"))\n",
    "\n",
    "    df.text=df.text.apply(lambda x: str(x).replace('-',\" \"))\n",
    "    return df"
   ]
  },
  {
   "cell_type": "code",
   "execution_count": 4,
   "id": "54a6b3a2",
   "metadata": {},
   "outputs": [],
   "source": [
    "#L = WordNetLemmatizer()\n",
    "s = SnowballStemmer('english')\n",
    "\n",
    "def wordPreProcess(sentence):\n",
    "    return ' '.join([s.stem(x.lower()) for x in re.split('\\W', sentence) if len(x) >= 1])"
   ]
  },
  {
   "cell_type": "code",
   "execution_count": 5,
   "id": "e47db2f2",
   "metadata": {},
   "outputs": [],
   "source": [
    "def getTextFeatures(df, txt, max_features=5000, ngrams=(1,2), verbose=True): #, max_features=10000\n",
    "    if verbose:\n",
    "        print('processing: ', txt)\n",
    "    vectorizer = TfidfVectorizer(stop_words=stop_words,\n",
    "                                 preprocessor=wordPreProcess,\n",
    "                                 max_features=max_features,\n",
    "                                 binary=True,\n",
    "                                 ngram_range=ngrams)\n",
    "    X = vectorizer.fit_transform(df[txt])\n",
    "    return X, vectorizer.get_feature_names()"
   ]
  },
  {
   "cell_type": "markdown",
   "id": "78df11da",
   "metadata": {},
   "source": [
    "## Import data"
   ]
  },
  {
   "cell_type": "code",
   "execution_count": 6,
   "id": "3ec7fe4a",
   "metadata": {},
   "outputs": [
    {
     "name": "stderr",
     "output_type": "stream",
     "text": [
      "C:\\Users\\schellr2\\AppData\\Local\\Temp\\ipykernel_46740\\2671578700.py:1: DtypeWarning: Columns (5,11) have mixed types. Specify dtype option on import or set low_memory=False.\n",
      "  data = pd.read_csv('./input/consumer_complaints.csv', header=0)\n"
     ]
    },
    {
     "data": {
      "text/html": [
       "<div>\n",
       "<style scoped>\n",
       "    .dataframe tbody tr th:only-of-type {\n",
       "        vertical-align: middle;\n",
       "    }\n",
       "\n",
       "    .dataframe tbody tr th {\n",
       "        vertical-align: top;\n",
       "    }\n",
       "\n",
       "    .dataframe thead th {\n",
       "        text-align: right;\n",
       "    }\n",
       "</style>\n",
       "<table border=\"1\" class=\"dataframe\">\n",
       "  <thead>\n",
       "    <tr style=\"text-align: right;\">\n",
       "      <th></th>\n",
       "      <th>date_received</th>\n",
       "      <th>product</th>\n",
       "      <th>sub_product</th>\n",
       "      <th>issue</th>\n",
       "      <th>sub_issue</th>\n",
       "      <th>consumer_complaint_narrative</th>\n",
       "      <th>company_public_response</th>\n",
       "      <th>company</th>\n",
       "      <th>state</th>\n",
       "      <th>zipcode</th>\n",
       "      <th>tags</th>\n",
       "      <th>consumer_consent_provided</th>\n",
       "      <th>submitted_via</th>\n",
       "      <th>date_sent_to_company</th>\n",
       "      <th>company_response_to_consumer</th>\n",
       "      <th>timely_response</th>\n",
       "      <th>consumer_disputed?</th>\n",
       "      <th>complaint_id</th>\n",
       "    </tr>\n",
       "  </thead>\n",
       "  <tbody>\n",
       "    <tr>\n",
       "      <th>0</th>\n",
       "      <td>08/30/2013</td>\n",
       "      <td>Mortgage</td>\n",
       "      <td>Other mortgage</td>\n",
       "      <td>Loan modification,collection,foreclosure</td>\n",
       "      <td>NaN</td>\n",
       "      <td>NaN</td>\n",
       "      <td>NaN</td>\n",
       "      <td>U.S. Bancorp</td>\n",
       "      <td>CA</td>\n",
       "      <td>95993</td>\n",
       "      <td>NaN</td>\n",
       "      <td>NaN</td>\n",
       "      <td>Referral</td>\n",
       "      <td>09/03/2013</td>\n",
       "      <td>Closed with explanation</td>\n",
       "      <td>Yes</td>\n",
       "      <td>Yes</td>\n",
       "      <td>511074</td>\n",
       "    </tr>\n",
       "    <tr>\n",
       "      <th>1</th>\n",
       "      <td>08/30/2013</td>\n",
       "      <td>Mortgage</td>\n",
       "      <td>Other mortgage</td>\n",
       "      <td>Loan servicing, payments, escrow account</td>\n",
       "      <td>NaN</td>\n",
       "      <td>NaN</td>\n",
       "      <td>NaN</td>\n",
       "      <td>Wells Fargo &amp; Company</td>\n",
       "      <td>CA</td>\n",
       "      <td>91104</td>\n",
       "      <td>NaN</td>\n",
       "      <td>NaN</td>\n",
       "      <td>Referral</td>\n",
       "      <td>09/03/2013</td>\n",
       "      <td>Closed with explanation</td>\n",
       "      <td>Yes</td>\n",
       "      <td>Yes</td>\n",
       "      <td>511080</td>\n",
       "    </tr>\n",
       "    <tr>\n",
       "      <th>2</th>\n",
       "      <td>08/30/2013</td>\n",
       "      <td>Credit reporting</td>\n",
       "      <td>NaN</td>\n",
       "      <td>Incorrect information on credit report</td>\n",
       "      <td>Account status</td>\n",
       "      <td>NaN</td>\n",
       "      <td>NaN</td>\n",
       "      <td>Wells Fargo &amp; Company</td>\n",
       "      <td>NY</td>\n",
       "      <td>11764</td>\n",
       "      <td>NaN</td>\n",
       "      <td>NaN</td>\n",
       "      <td>Postal mail</td>\n",
       "      <td>09/18/2013</td>\n",
       "      <td>Closed with explanation</td>\n",
       "      <td>Yes</td>\n",
       "      <td>No</td>\n",
       "      <td>510473</td>\n",
       "    </tr>\n",
       "    <tr>\n",
       "      <th>3</th>\n",
       "      <td>08/30/2013</td>\n",
       "      <td>Student loan</td>\n",
       "      <td>Non-federal student loan</td>\n",
       "      <td>Repaying your loan</td>\n",
       "      <td>Repaying your loan</td>\n",
       "      <td>NaN</td>\n",
       "      <td>NaN</td>\n",
       "      <td>Navient Solutions, Inc.</td>\n",
       "      <td>MD</td>\n",
       "      <td>21402</td>\n",
       "      <td>NaN</td>\n",
       "      <td>NaN</td>\n",
       "      <td>Email</td>\n",
       "      <td>08/30/2013</td>\n",
       "      <td>Closed with explanation</td>\n",
       "      <td>Yes</td>\n",
       "      <td>Yes</td>\n",
       "      <td>510326</td>\n",
       "    </tr>\n",
       "    <tr>\n",
       "      <th>4</th>\n",
       "      <td>08/30/2013</td>\n",
       "      <td>Debt collection</td>\n",
       "      <td>Credit card</td>\n",
       "      <td>False statements or representation</td>\n",
       "      <td>Attempted to collect wrong amount</td>\n",
       "      <td>NaN</td>\n",
       "      <td>NaN</td>\n",
       "      <td>Resurgent Capital Services L.P.</td>\n",
       "      <td>GA</td>\n",
       "      <td>30106</td>\n",
       "      <td>NaN</td>\n",
       "      <td>NaN</td>\n",
       "      <td>Web</td>\n",
       "      <td>08/30/2013</td>\n",
       "      <td>Closed with explanation</td>\n",
       "      <td>Yes</td>\n",
       "      <td>Yes</td>\n",
       "      <td>511067</td>\n",
       "    </tr>\n",
       "    <tr>\n",
       "      <th>5</th>\n",
       "      <td>08/30/2013</td>\n",
       "      <td>Credit card</td>\n",
       "      <td>NaN</td>\n",
       "      <td>Application processing delay</td>\n",
       "      <td>NaN</td>\n",
       "      <td>NaN</td>\n",
       "      <td>NaN</td>\n",
       "      <td>Capital One</td>\n",
       "      <td>NY</td>\n",
       "      <td>12206</td>\n",
       "      <td>NaN</td>\n",
       "      <td>NaN</td>\n",
       "      <td>Phone</td>\n",
       "      <td>09/03/2013</td>\n",
       "      <td>Closed with explanation</td>\n",
       "      <td>Yes</td>\n",
       "      <td>Yes</td>\n",
       "      <td>510098</td>\n",
       "    </tr>\n",
       "    <tr>\n",
       "      <th>6</th>\n",
       "      <td>08/30/2013</td>\n",
       "      <td>Credit card</td>\n",
       "      <td>NaN</td>\n",
       "      <td>Credit line increase/decrease</td>\n",
       "      <td>NaN</td>\n",
       "      <td>NaN</td>\n",
       "      <td>NaN</td>\n",
       "      <td>Wells Fargo &amp; Company</td>\n",
       "      <td>AZ</td>\n",
       "      <td>85730</td>\n",
       "      <td>NaN</td>\n",
       "      <td>NaN</td>\n",
       "      <td>Postal mail</td>\n",
       "      <td>09/05/2013</td>\n",
       "      <td>Closed with explanation</td>\n",
       "      <td>Yes</td>\n",
       "      <td>No</td>\n",
       "      <td>511062</td>\n",
       "    </tr>\n",
       "    <tr>\n",
       "      <th>7</th>\n",
       "      <td>08/30/2013</td>\n",
       "      <td>Bank account or service</td>\n",
       "      <td>Checking account</td>\n",
       "      <td>Deposits and withdrawals</td>\n",
       "      <td>NaN</td>\n",
       "      <td>NaN</td>\n",
       "      <td>NaN</td>\n",
       "      <td>Bank of America</td>\n",
       "      <td>IL</td>\n",
       "      <td>60660</td>\n",
       "      <td>NaN</td>\n",
       "      <td>NaN</td>\n",
       "      <td>Referral</td>\n",
       "      <td>09/04/2013</td>\n",
       "      <td>Closed with explanation</td>\n",
       "      <td>Yes</td>\n",
       "      <td>No</td>\n",
       "      <td>511116</td>\n",
       "    </tr>\n",
       "    <tr>\n",
       "      <th>8</th>\n",
       "      <td>08/30/2013</td>\n",
       "      <td>Bank account or service</td>\n",
       "      <td>Checking account</td>\n",
       "      <td>Deposits and withdrawals</td>\n",
       "      <td>NaN</td>\n",
       "      <td>NaN</td>\n",
       "      <td>NaN</td>\n",
       "      <td>Bank of America</td>\n",
       "      <td>GA</td>\n",
       "      <td>30016</td>\n",
       "      <td>NaN</td>\n",
       "      <td>NaN</td>\n",
       "      <td>Referral</td>\n",
       "      <td>09/04/2013</td>\n",
       "      <td>Closed with explanation</td>\n",
       "      <td>Yes</td>\n",
       "      <td>No</td>\n",
       "      <td>511091</td>\n",
       "    </tr>\n",
       "    <tr>\n",
       "      <th>9</th>\n",
       "      <td>09/17/2013</td>\n",
       "      <td>Mortgage</td>\n",
       "      <td>Conventional adjustable mortgage (ARM)</td>\n",
       "      <td>Loan modification,collection,foreclosure</td>\n",
       "      <td>NaN</td>\n",
       "      <td>NaN</td>\n",
       "      <td>NaN</td>\n",
       "      <td>SunTrust Banks, Inc.</td>\n",
       "      <td>CA</td>\n",
       "      <td>94551</td>\n",
       "      <td>NaN</td>\n",
       "      <td>NaN</td>\n",
       "      <td>Web</td>\n",
       "      <td>09/18/2013</td>\n",
       "      <td>Closed with explanation</td>\n",
       "      <td>Yes</td>\n",
       "      <td>Yes</td>\n",
       "      <td>530602</td>\n",
       "    </tr>\n",
       "  </tbody>\n",
       "</table>\n",
       "</div>"
      ],
      "text/plain": [
       "  date_received                  product  \\\n",
       "0    08/30/2013                 Mortgage   \n",
       "1    08/30/2013                 Mortgage   \n",
       "2    08/30/2013         Credit reporting   \n",
       "3    08/30/2013             Student loan   \n",
       "4    08/30/2013          Debt collection   \n",
       "5    08/30/2013              Credit card   \n",
       "6    08/30/2013              Credit card   \n",
       "7    08/30/2013  Bank account or service   \n",
       "8    08/30/2013  Bank account or service   \n",
       "9    09/17/2013                 Mortgage   \n",
       "\n",
       "                              sub_product  \\\n",
       "0                          Other mortgage   \n",
       "1                          Other mortgage   \n",
       "2                                     NaN   \n",
       "3                Non-federal student loan   \n",
       "4                             Credit card   \n",
       "5                                     NaN   \n",
       "6                                     NaN   \n",
       "7                        Checking account   \n",
       "8                        Checking account   \n",
       "9  Conventional adjustable mortgage (ARM)   \n",
       "\n",
       "                                      issue  \\\n",
       "0  Loan modification,collection,foreclosure   \n",
       "1  Loan servicing, payments, escrow account   \n",
       "2    Incorrect information on credit report   \n",
       "3                        Repaying your loan   \n",
       "4        False statements or representation   \n",
       "5              Application processing delay   \n",
       "6             Credit line increase/decrease   \n",
       "7                  Deposits and withdrawals   \n",
       "8                  Deposits and withdrawals   \n",
       "9  Loan modification,collection,foreclosure   \n",
       "\n",
       "                           sub_issue consumer_complaint_narrative  \\\n",
       "0                                NaN                          NaN   \n",
       "1                                NaN                          NaN   \n",
       "2                     Account status                          NaN   \n",
       "3                 Repaying your loan                          NaN   \n",
       "4  Attempted to collect wrong amount                          NaN   \n",
       "5                                NaN                          NaN   \n",
       "6                                NaN                          NaN   \n",
       "7                                NaN                          NaN   \n",
       "8                                NaN                          NaN   \n",
       "9                                NaN                          NaN   \n",
       "\n",
       "  company_public_response                          company state zipcode tags  \\\n",
       "0                     NaN                     U.S. Bancorp    CA   95993  NaN   \n",
       "1                     NaN            Wells Fargo & Company    CA   91104  NaN   \n",
       "2                     NaN            Wells Fargo & Company    NY   11764  NaN   \n",
       "3                     NaN          Navient Solutions, Inc.    MD   21402  NaN   \n",
       "4                     NaN  Resurgent Capital Services L.P.    GA   30106  NaN   \n",
       "5                     NaN                      Capital One    NY   12206  NaN   \n",
       "6                     NaN            Wells Fargo & Company    AZ   85730  NaN   \n",
       "7                     NaN                  Bank of America    IL   60660  NaN   \n",
       "8                     NaN                  Bank of America    GA   30016  NaN   \n",
       "9                     NaN             SunTrust Banks, Inc.    CA   94551  NaN   \n",
       "\n",
       "  consumer_consent_provided submitted_via date_sent_to_company  \\\n",
       "0                       NaN      Referral           09/03/2013   \n",
       "1                       NaN      Referral           09/03/2013   \n",
       "2                       NaN   Postal mail           09/18/2013   \n",
       "3                       NaN         Email           08/30/2013   \n",
       "4                       NaN           Web           08/30/2013   \n",
       "5                       NaN         Phone           09/03/2013   \n",
       "6                       NaN   Postal mail           09/05/2013   \n",
       "7                       NaN      Referral           09/04/2013   \n",
       "8                       NaN      Referral           09/04/2013   \n",
       "9                       NaN           Web           09/18/2013   \n",
       "\n",
       "  company_response_to_consumer timely_response consumer_disputed?  \\\n",
       "0      Closed with explanation             Yes                Yes   \n",
       "1      Closed with explanation             Yes                Yes   \n",
       "2      Closed with explanation             Yes                 No   \n",
       "3      Closed with explanation             Yes                Yes   \n",
       "4      Closed with explanation             Yes                Yes   \n",
       "5      Closed with explanation             Yes                Yes   \n",
       "6      Closed with explanation             Yes                 No   \n",
       "7      Closed with explanation             Yes                 No   \n",
       "8      Closed with explanation             Yes                 No   \n",
       "9      Closed with explanation             Yes                Yes   \n",
       "\n",
       "   complaint_id  \n",
       "0        511074  \n",
       "1        511080  \n",
       "2        510473  \n",
       "3        510326  \n",
       "4        511067  \n",
       "5        510098  \n",
       "6        511062  \n",
       "7        511116  \n",
       "8        511091  \n",
       "9        530602  "
      ]
     },
     "execution_count": 6,
     "metadata": {},
     "output_type": "execute_result"
    }
   ],
   "source": [
    "data = pd.read_csv('./input/consumer_complaints.csv', header=0)\n",
    "data.head(10)"
   ]
  },
  {
   "cell_type": "code",
   "execution_count": 7,
   "id": "56ead125",
   "metadata": {},
   "outputs": [],
   "source": [
    "# save data to df so won't have to reload data if need to start over with df.\n",
    "df = data.copy()"
   ]
  },
  {
   "cell_type": "code",
   "execution_count": 8,
   "id": "46bc2d31",
   "metadata": {},
   "outputs": [
    {
     "name": "stdout",
     "output_type": "stream",
     "text": [
      "<class 'pandas.core.frame.DataFrame'>\n",
      "RangeIndex: 555957 entries, 0 to 555956\n",
      "Data columns (total 18 columns):\n",
      " #   Column                        Non-Null Count   Dtype \n",
      "---  ------                        --------------   ----- \n",
      " 0   date_received                 555957 non-null  object\n",
      " 1   product                       555957 non-null  object\n",
      " 2   sub_product                   397635 non-null  object\n",
      " 3   issue                         555957 non-null  object\n",
      " 4   sub_issue                     212622 non-null  object\n",
      " 5   consumer_complaint_narrative  66806 non-null   object\n",
      " 6   company_public_response       85124 non-null   object\n",
      " 7   company                       555957 non-null  object\n",
      " 8   state                         551070 non-null  object\n",
      " 9   zipcode                       551452 non-null  object\n",
      " 10  tags                          77959 non-null   object\n",
      " 11  consumer_consent_provided     123458 non-null  object\n",
      " 12  submitted_via                 555957 non-null  object\n",
      " 13  date_sent_to_company          555957 non-null  object\n",
      " 14  company_response_to_consumer  555957 non-null  object\n",
      " 15  timely_response               555957 non-null  object\n",
      " 16  consumer_disputed?            555957 non-null  object\n",
      " 17  complaint_id                  555957 non-null  int64 \n",
      "dtypes: int64(1), object(17)\n",
      "memory usage: 76.3+ MB\n"
     ]
    }
   ],
   "source": [
    "df.info()"
   ]
  },
  {
   "cell_type": "code",
   "execution_count": 9,
   "id": "8c8bcc1d",
   "metadata": {},
   "outputs": [],
   "source": [
    "# Only keep records with a complaint narrative\n",
    "df = df[~df['consumer_complaint_narrative'].isnull()]"
   ]
  },
  {
   "cell_type": "code",
   "execution_count": 10,
   "id": "1f72ecc3",
   "metadata": {},
   "outputs": [],
   "source": [
    "# Only keep complaint narrative & product columns to see how well diff methods predict product from just text\n",
    "df = df[['consumer_complaint_narrative', 'product']]"
   ]
  },
  {
   "cell_type": "code",
   "execution_count": 11,
   "id": "c71133fd",
   "metadata": {},
   "outputs": [
    {
     "name": "stdout",
     "output_type": "stream",
     "text": [
      "<class 'pandas.core.frame.DataFrame'>\n",
      "Int64Index: 66806 entries, 190126 to 553096\n",
      "Data columns (total 2 columns):\n",
      " #   Column                        Non-Null Count  Dtype \n",
      "---  ------                        --------------  ----- \n",
      " 0   consumer_complaint_narrative  66806 non-null  object\n",
      " 1   product                       66806 non-null  object\n",
      "dtypes: object(2)\n",
      "memory usage: 1.5+ MB\n"
     ]
    }
   ],
   "source": [
    "df.info()"
   ]
  },
  {
   "cell_type": "code",
   "execution_count": 12,
   "id": "00de20b0",
   "metadata": {},
   "outputs": [
    {
     "data": {
      "text/plain": [
       "(66806, 2)"
      ]
     },
     "execution_count": 12,
     "metadata": {},
     "output_type": "execute_result"
    }
   ],
   "source": [
    "df.shape"
   ]
  },
  {
   "cell_type": "code",
   "execution_count": 13,
   "id": "e7527a7f",
   "metadata": {},
   "outputs": [
    {
     "data": {
      "text/plain": [
       "['consumer_complaint_narrative', 'product']"
      ]
     },
     "execution_count": 13,
     "metadata": {},
     "output_type": "execute_result"
    }
   ],
   "source": [
    "list(df.columns)"
   ]
  },
  {
   "cell_type": "code",
   "execution_count": 14,
   "id": "cfa07370",
   "metadata": {},
   "outputs": [
    {
     "name": "stdout",
     "output_type": "stream",
     "text": [
      "Debt collection            17552\n",
      "Mortgage                   14919\n",
      "Credit reporting           12526\n",
      "Credit card                 7929\n",
      "Bank account or service     5711\n",
      "Consumer Loan               3678\n",
      "Student loan                2128\n",
      "Prepaid card                 861\n",
      "Payday loan                  726\n",
      "Money transfers              666\n",
      "Other financial service      110\n",
      "Name: product, dtype: int64\n"
     ]
    }
   ],
   "source": [
    "product = df['product'].value_counts()\n",
    "print(product)"
   ]
  },
  {
   "cell_type": "code",
   "execution_count": 15,
   "id": "a649dd10",
   "metadata": {
    "scrolled": false
   },
   "outputs": [
    {
     "name": "stderr",
     "output_type": "stream",
     "text": [
      "c:\\Users\\schellr2\\Anaconda3\\lib\\site-packages\\seaborn\\_decorators.py:36: FutureWarning: Pass the following variables as keyword args: x, y. From version 0.12, the only valid positional argument will be `data`, and passing other arguments without an explicit keyword will result in an error or misinterpretation.\n",
      "  warnings.warn(\n"
     ]
    },
    {
     "data": {
      "image/png": "[encoded data removed]",
      "text/plain": [
       "<Figure size 864x288 with 1 Axes>"
      ]
     },
     "metadata": {
      "needs_background": "light"
     },
     "output_type": "display_data"
    }
   ],
   "source": [
    "plt.figure(figsize=(12,4))\n",
    "sns.barplot(product.index, product.values, alpha=0.8)\n",
    "plt.ylabel('Number of Occurrences', fontsize=12)\n",
    "plt.xlabel('Product', fontsize=12)\n",
    "plt.xticks(rotation=30)\n",
    "plt.show()"
   ]
  },
  {
   "cell_type": "code",
   "execution_count": 16,
   "id": "436bcf73",
   "metadata": {},
   "outputs": [
    {
     "name": "stdout",
     "output_type": "stream",
     "text": [
      "XXXX has claimed I owe them {$27.00} for XXXX years despite the PROOF of PAYMENT I sent them : canceled check and their ownPAID INVOICE for {$27.00}! \n",
      "They continue to insist I owe them and collection agencies are after me. \n",
      "How can I stop this harassment for a bill I already paid four years ago? \n",
      "\n",
      "#####################\n",
      "Due to inconsistencies in the amount owed that I was told by M & T Bank and the amount that was reported to the credit reporting agencies, I was advised to write a good will letter in order to address the issue and request the negative entry be removed from my credit report all together. I had a vehicle that was stolen and it was declared a total loss by insurance company. The insurance company and the GAP insurancw companypaid the outstanding balance of the loan, but I was told by M & T Bank that there was still a balance due on the loan. In good faith, without having received any proof as to why there was still a balance, I made a partial payment towards the remaining debt. I then sent the goodwill letter still offering to pay the remainder of the debt, but in exchange for the removal of the negative entry on my credit report. At one point, in XXXX 2015, per my credit monitoring agency, it showed a delinquent balance of {$0.00}, but when I checked my credit report again on XXXX XXXX 2015, there was a delinquent balance of {$1400.00}. The monies from the GAP insurance and my insurance company has been paid, M & T Bank says that I still owe {$620.00}, of which {$210.00} has already been paid. I contacted M & T Bank via return receipt mail, but I have not been given the courtesy of a response yet. \n",
      "\n",
      "#####################\n",
      "In XX/XX/XXXX my wages that I earned at my job decreased by almost half, by XX/XX/XXXX I knew I was in trouble with my home loan. I began contacting WFB whom my home loan is with, for assitance and options. \n",
      "In early XX/XX/XXXX I began the Loan Modification process with Wells Fargo Bank. I was told that they would not assist me with anything financial on my home loan until I fell 90 days behind, though at the time I started to inquire for assistance from WFB I was only a few weeks behind. So, I began working with a program called XXXX. They approved me for a variety of assistence and reached out to Wells Fargo Bank to determine what they could assist with. Wells Fargo then turned down the assistance from XXXX and finally offered to do a Loan Modification for me. The outcome was totally unknow about what I would be offered in the end by WFB for assistance. Wells Fargo lost my paperwork twice during this process, so it took 2 months from the time I started to the time my paperwork began to be processed for some kind of approval. In XX/XX/XXXX I was in a trial period of 3 months of payments based on a slightly modified amount. Roughly {$75.00} less than what I was paying on my original payment. However, my caseworker with WFB, failed to tell me that since the payments during this time were not the full amount of the original mortgage payment so they were not applied to the loan. I discovered this in XX/XX/XXXX when I was told by a creditor with XXXX that she could n't restore my line of credit because of something to do with my mortgage. I then called and found this out. My caseworker at WFB then told me it was n't her responsibility to tell me this information. I told her that she could have told me that if I could come up with the remaining amount of {$75.00} then the payments would be applied. Instead, she chose to withhold this information and damage my credit even further. Now we are into 5 months ( including the 90 days WFB told me I had to fall behind until they would help me ) without an applied payment to my home loan, going on 6 months. \n",
      "More paperwork was lost in XXXX as the modification was being finalized and my loan modification did n't go through until XX/XX/XXXX. I spoke to a lawyer that is working on a class-action lawsuit against WFB for people in a similar situation and said this paper loss is typical. \n",
      "Wells Fargo did not reduce the interest rate, but they did reduce the payment by less than {$100.00} and the payments I was behind went back into the loan. \n",
      "My property taxes also fell behind in my escrow account at this time because there was no payment on the loan. So, I am behind on my property taxes, have damaged credit, and and I am not in any better payment situation than I was. \n",
      "They can not give me a reason on why they rejected XXXX assistance. I was originally told they were not an approved agency but on a later phone call to Wells Fargo Bank I was told that they work with that program often and the WFB employee could not understand why they would reject the help. I also spoke with XXXX and they said that Wells Fargo works with this program all the time and could n't understand why they would do this. \n",
      "I feel that I have been taken advantage of by Wells Fargo and would like to pursue legal action against them based on negligence. \n",
      "Although my payments are back on track I am not making much more money now than I was before so it is only a matter of time before something like this happens again if something unforeseen happens to my life that affects my finances. \n",
      "\n",
      "#####################\n",
      "I have an open and current mortgage with Chase Bank # XXXX. Chase is reporting the loan payments to XXXX but XXXX is surpressing the information and reporting the loan as Discharged in BK. This mortgage was reaffirmed in a Chapter XXXX BK discharged dated XXXX/XXXX/2013. Chase keeps referring to BK Law for Chapter XXXX and we keep providing documentation for Chapter XXXX, and the account should be open and current with all the payments \n",
      "\n",
      "#####################\n",
      "XXXX was submitted XX/XX/XXXX. At the time I submitted this complaint, I had dealt with Rushmore Mortgage directly endeavoring to get them to stop the continuous daily calls I was receiving trying to collect on a mortgage for which I was not responsible due to bankruptcy. They denied having knowledge of the bankruptcy, even though I had spoken with them about it repeatedly and had written them repeatedly referencing the bankruptcy requesting them to cease the pursuit, they continued to do so. When they were unable to trick me into paying, force me into paying in retaliation they placed reported to my credit bureaus a past due mortgage amount that had been discharged in Federal Court. On XX/XX/XXXX Rushmore responded the referenced complaint indicating that they would remove the reporting from my bureau, yet it is still there now in XX/XX/XXXX. I would like them to remove it immediately and send me a letter indicating that it should not have been there in the first place and they are going to remove it from all my bureaus. Rushmore, when speaking to me, represented themselves as the new note holder, but when CFPB was involved, they identified themselves as the servicing agency for XXXX XXXX XXXX. This credit bullying and racial discrimination practices is damaging to anyone who is exposed to these tactics and this needs to stop. Them denying their intent and then walking away with no penalties of any kind is one of the reasons it continues. Please assist me in procuring the resolution once and for all. \n",
      "\n",
      "#####################\n"
     ]
    }
   ],
   "source": [
    "for i in df['consumer_complaint_narrative'].head(5):\n",
    "    print(i)\n",
    "    print(\"#####################\")"
   ]
  },
  {
   "cell_type": "code",
   "execution_count": 17,
   "id": "61ac8f73",
   "metadata": {},
   "outputs": [],
   "source": [
    "df = df.rename({'consumer_complaint_narrative':'text', 'product':'label'},axis=1)"
   ]
  },
  {
   "cell_type": "code",
   "execution_count": 18,
   "id": "604135ae",
   "metadata": {},
   "outputs": [],
   "source": [
    "df['text'] = df['text'].astype(str)"
   ]
  },
  {
   "cell_type": "code",
   "execution_count": 19,
   "id": "ec022ef7",
   "metadata": {},
   "outputs": [
    {
     "data": {
      "text/html": [
       "<div>\n",
       "<style scoped>\n",
       "    .dataframe tbody tr th:only-of-type {\n",
       "        vertical-align: middle;\n",
       "    }\n",
       "\n",
       "    .dataframe tbody tr th {\n",
       "        vertical-align: top;\n",
       "    }\n",
       "\n",
       "    .dataframe thead th {\n",
       "        text-align: right;\n",
       "    }\n",
       "</style>\n",
       "<table border=\"1\" class=\"dataframe\">\n",
       "  <thead>\n",
       "    <tr style=\"text-align: right;\">\n",
       "      <th></th>\n",
       "      <th>text</th>\n",
       "      <th>label</th>\n",
       "    </tr>\n",
       "  </thead>\n",
       "  <tbody>\n",
       "    <tr>\n",
       "      <th>190126</th>\n",
       "      <td>XXXX has claimed I owe them {$27.00} for XXXX ...</td>\n",
       "      <td>Debt collection</td>\n",
       "    </tr>\n",
       "    <tr>\n",
       "      <th>190135</th>\n",
       "      <td>Due to inconsistencies in the amount owed that...</td>\n",
       "      <td>Consumer Loan</td>\n",
       "    </tr>\n",
       "    <tr>\n",
       "      <th>190155</th>\n",
       "      <td>In XX/XX/XXXX my wages that I earned at my job...</td>\n",
       "      <td>Mortgage</td>\n",
       "    </tr>\n",
       "    <tr>\n",
       "      <th>190207</th>\n",
       "      <td>I have an open and current mortgage with Chase...</td>\n",
       "      <td>Mortgage</td>\n",
       "    </tr>\n",
       "    <tr>\n",
       "      <th>190208</th>\n",
       "      <td>XXXX was submitted XX/XX/XXXX. At the time I s...</td>\n",
       "      <td>Mortgage</td>\n",
       "    </tr>\n",
       "  </tbody>\n",
       "</table>\n",
       "</div>"
      ],
      "text/plain": [
       "                                                     text            label\n",
       "190126  XXXX has claimed I owe them {$27.00} for XXXX ...  Debt collection\n",
       "190135  Due to inconsistencies in the amount owed that...    Consumer Loan\n",
       "190155  In XX/XX/XXXX my wages that I earned at my job...         Mortgage\n",
       "190207  I have an open and current mortgage with Chase...         Mortgage\n",
       "190208  XXXX was submitted XX/XX/XXXX. At the time I s...         Mortgage"
      ]
     },
     "execution_count": 19,
     "metadata": {},
     "output_type": "execute_result"
    }
   ],
   "source": [
    "df.head()"
   ]
  },
  {
   "cell_type": "markdown",
   "id": "f4946ba2",
   "metadata": {},
   "source": [
    "## Sanitize and vectorize text"
   ]
  },
  {
   "cell_type": "code",
   "execution_count": 20,
   "id": "3480c46e",
   "metadata": {},
   "outputs": [],
   "source": [
    "df = clean_text(df)"
   ]
  },
  {
   "cell_type": "code",
   "execution_count": 22,
   "id": "4d7f1975",
   "metadata": {},
   "outputs": [
    {
     "name": "stdout",
     "output_type": "stream",
     "text": [
      "processing:  text\n"
     ]
    },
    {
     "name": "stderr",
     "output_type": "stream",
     "text": [
      "c:\\Users\\schellr2\\Anaconda3\\lib\\site-packages\\sklearn\\utils\\deprecation.py:87: FutureWarning: Function get_feature_names is deprecated; get_feature_names is deprecated in 1.0 and will be removed in 1.2. Please use get_feature_names_out instead.\n",
      "  warnings.warn(msg, category=FutureWarning)\n"
     ]
    }
   ],
   "source": [
    "X_text, feat_text = getTextFeatures(df, 'text')"
   ]
  },
  {
   "cell_type": "code",
   "execution_count": 23,
   "id": "5fb81528",
   "metadata": {},
   "outputs": [
    {
     "name": "stdout",
     "output_type": "stream",
     "text": [
      "  (0, 4971)\t0.16561904809480174\n",
      "  (0, 1754)\t0.26636888787163054\n",
      "  (0, 203)\t0.22365830584947977\n",
      "  (0, 3958)\t0.2619335812486446\n",
      "  (0, 894)\t0.14766461202505765\n",
      "  (0, 717)\t0.2606784861169404\n",
      "  (0, 3006)\t0.23642049527306408\n",
      "  (0, 3186)\t0.2476183440143874\n",
      "  (0, 4927)\t0.15260029231073144\n",
      "  (0, 2871)\t0.1853503057215472\n",
      "  (0, 860)\t0.22115749727707837\n",
      "  (0, 4636)\t0.2108612506766266\n",
      "  (0, 179)\t0.13975713778412782\n",
      "  (0, 1753)\t0.21647967772925253\n",
      "  (0, 2879)\t0.09908123962976813\n",
      "  (0, 202)\t0.1405638338092625\n",
      "  (0, 569)\t0.11730573254807165\n",
      "  (0, 1903)\t0.15482017344254168\n",
      "  (0, 3955)\t0.1349832894429062\n",
      "  (0, 172)\t0.11841887712565843\n",
      "  (0, 891)\t0.09891690865826656\n",
      "  (0, 2110)\t0.20079812332469088\n",
      "  (0, 1024)\t0.11590478672554481\n",
      "  (0, 2148)\t0.22912396180812358\n",
      "  (0, 826)\t0.10935226522853173\n",
      "  :\t:\n",
      "  (66805, 3164)\t0.04839373956643697\n",
      "  (66805, 4924)\t0.02396194138933754\n",
      "  (66805, 3538)\t0.048249824055887174\n",
      "  (66805, 2410)\t0.04573509575777334\n",
      "  (66805, 3273)\t0.06673490202603373\n",
      "  (66805, 3031)\t0.05870888189817904\n",
      "  (66805, 3101)\t0.05488141146235317\n",
      "  (66805, 2790)\t0.04389807876207311\n",
      "  (66805, 2921)\t0.0347204058983352\n",
      "  (66805, 255)\t0.034669300613499876\n",
      "  (66805, 3274)\t0.0309205325539957\n",
      "  (66805, 2315)\t0.03517126193331168\n",
      "  (66805, 4203)\t0.057787677450254586\n",
      "  (66805, 3493)\t0.038294662672150974\n",
      "  (66805, 2151)\t0.0439450712679856\n",
      "  (66805, 140)\t0.049415196059701225\n",
      "  (66805, 2834)\t0.05542882282779663\n",
      "  (66805, 2260)\t0.038418531544287024\n",
      "  (66805, 484)\t0.03587197537578762\n",
      "  (66805, 4168)\t0.03461262740552282\n",
      "  (66805, 239)\t0.041042866063094666\n",
      "  (66805, 1415)\t0.040690999238682246\n",
      "  (66805, 202)\t0.05484394833924309\n",
      "  (66805, 826)\t0.042666095697922034\n",
      "  (66805, 4577)\t0.017899501895199416\n"
     ]
    }
   ],
   "source": [
    "print(X_text)"
   ]
  },
  {
   "cell_type": "code",
   "execution_count": 24,
   "id": "ed720fca",
   "metadata": {},
   "outputs": [
    {
     "name": "stdout",
     "output_type": "stream",
     "text": [
      "['abid', 'abil', 'abl', 'abl access', 'abl get', 'abl make', 'abl pay', 'abl provid', 'abov', 'absolut', 'absurd', 'abus', 'accept', 'accept payment', 'accept xxxx', 'access', 'access account', 'access credit', 'access fund', 'access money', 'accid', 'accord', 'accord xxxx', 'account', 'account account', 'account activ', 'account also', 'account amount', 'account ani', 'account ask', 'account balanc', 'account bank', 'account becaus', 'account belong', 'account call', 'account charg', 'account chase', 'account check', 'account close', 'account collect', 'account compani', 'account contact', 'account could', 'account credit', 'account current', 'account date', 'account day', 'account delet', 'account delinqu', 'account disput', 'account doe', 'account due', 'account end', 'account even', 'account full', 'account go', 'account good', 'account holder', 'account howev', 'account immedi', 'account includ', 'account inform', 'account list', 'account made', 'account make', 'account manag', 'account mine', 'account month', 'account name', 'account need', 'account negat', 'account never', 'account number', 'account onli', 'account onlin', 'account open', 'account overdrawn', 'account paid', 'account past', 'account pay', 'account payment', 'account place', 'account pleas', 'account receiv', 'account refus', 'account remov', 'account report', 'account request', 'account said', 'account sent', 'account sever', 'account show', 'account sinc', 'account state', 'account statement', 'account status', 'account still', 'account time', 'account told', 'account transfer', 'account tri', 'account use', 'account want', 'account well', 'account went', 'account without', 'account would', 'account xxxx', 'account xxxxxxxx', 'account year', 'accru', 'accru interest', 'acct', 'acct xxxx', 'accumul', 'accur', 'accur inform', 'accuraci', 'accus', 'ach', 'acknowledg', 'acquir', 'across', 'act', 'act section', 'act xxxx', 'action', 'action taken', 'action xxxx', 'activ', 'activ account', 'actual', 'ad', 'add', 'addit', 'addit charg', 'addit fee', 'addit inform', 'addit payment', 'addit xxxx', 'address', 'address file', 'address issu', 'address list', 'address never', 'address phone', 'address xxxx', 'adequ', 'adjust', 'administr', 'admit', 'advanc', 'advantag', 'advers', 'advertis', 'advic', 'advis', 'advis provid', 'advis would', 'advis xxxx', 'ae', 'affair', 'affect', 'affect credit', 'affidavit', 'affili', 'afford', 'afford pay', 'afford payment', 'afraid', 'afternoon', 'age', 'agenc', 'agenc call', 'agenc report', 'agenc xxxx', 'agent', 'agent xxxx', 'aggress', 'ago', 'ago xxxx', 'agre', 'agre pay', 'agre upon', 'agreement', 'agreement xxxx', 'ahead', 'aid', 'alert', 'alert credit', 'alleg', 'alleg debt', 'alli', 'allow', 'allow us', 'allow xxxx', 'almost', 'almost month', 'almost xxxx', 'almost year', 'alon', 'along', 'alreadi', 'alreadi paid', 'alreadi sent', 'also', 'also ask', 'also attach', 'also call', 'also charg', 'also contact', 'also file', 'also inform', 'also like', 'also provid', 'also receiv', 'also refus', 'also report', 'also request', 'also said', 'also sent', 'also state', 'also told', 'also tri', 'also xxxx', 'alter', 'altern', 'although', 'alway', 'alway paid', 'alway pay', 'amend', 'america', 'america xxxx', 'american', 'american express', 'amex', 'among', 'amort', 'amount', 'amount account', 'amount credit', 'amount debt', 'amount due', 'amount interest', 'amount loan', 'amount money', 'amount owe', 'amount paid', 'amount time', 'amount would', 'amount xxxx', 'analysi', 'andor', 'angri', 'ani', 'ani account', 'ani action', 'ani addit', 'ani assist', 'ani bill', 'ani communic', 'ani compani', 'ani correspond', 'ani credit', 'ani debt', 'ani document', 'ani help', 'ani inform', 'ani inquiri', 'ani issu', 'ani kind', 'ani letter', 'ani loan', 'ani longer', 'ani money', 'ani notic', 'ani notif', 'ani paperwork', 'ani payment', 'ani person', 'ani problem', 'ani proof', 'ani question', 'ani reason', 'ani respons', 'ani time', 'ani type', 'ani way', 'ani xxxx', 'annoy', 'annual', 'annual credit', 'annual fee', 'anoth', 'anoth account', 'anoth bank', 'anoth call', 'anoth collect', 'anoth compani', 'anoth lender', 'anoth letter', 'anoth payment', 'anoth person', 'anoth xxxx', 'answer', 'answer call', 'answer phone', 'answer question', 'answer xxxx', 'anymor', 'anyon', 'anyon els', 'anyth', 'anyth els', 'anyth xxxx', 'anytim', 'anyway', 'anywher', 'apart', 'apart complex', 'apolog', 'app', 'appar', 'appeal', 'appear', 'appear credit', 'appear xxxx', 'appli', 'appli account', 'appli credit', 'appli loan', 'appli modif', 'appli mortgag', 'appli payment', 'appli princip', 'appli xxxx', 'applic', 'applic process', 'applic xxxx', 'appoint', 'apprais', 'appreci', 'approach', 'appropri', 'approv', 'approv loan', 'approv xxxx', 'approx', 'approxim', 'approxim xxxx', 'apr', 'area', 'argu', 'arm', 'around', 'around xxxx', 'around xxxxxxxx', 'arrang', 'arrear', 'arrest', 'arriv', 'asap', 'asid', 'ask', 'ask ani', 'ask bank', 'ask call', 'ask contact', 'ask copi', 'ask could', 'ask document', 'ask help', 'ask inform', 'ask name', 'ask pay', 'ask payment', 'ask pleas', 'ask proof', 'ask provid', 'ask question', 'ask remov', 'ask send', 'ask speak', 'ask stop', 'ask supervisor', 'ask verifi', 'ask want', 'ask whi', 'ask would', 'ask xxxx', 'assert', 'assess', 'asset', 'assign', 'assign xxxx', 'assist', 'assist matter', 'assist xxxx', 'associ', 'associ xxxx', 'assum', 'assur', 'assur would', 'atm', 'attach', 'attach copi', 'attach document', 'attach letter', 'attach xxxx', 'attempt', 'attempt call', 'attempt collect', 'attempt contact', 'attempt get', 'attempt make', 'attempt pay', 'attempt resolv', 'attend', 'attend xxxx', 'attent', 'attitud', 'attorney', 'attorney fee', 'attorney general', 'attorney offic', 'attorney xxxx', 'auction', 'audit', 'authent', 'author', 'author form', 'author user', 'author xxxx', 'auto', 'auto loan', 'auto pay', 'autom', 'autom system', 'automat', 'automat payment', 'avail', 'avail xxxx', 'averag', 'avoid', 'avoid foreclosur', 'await', 'awar', 'award', 'away', 'away xxxx', 'back', 'back account', 'back ask', 'back bank', 'back call', 'back credit', 'back day', 'back forth', 'back loan', 'back never', 'back said', 'back state', 'back told', 'back within', 'back xxxx', 'back xxxxxxxx', 'background', 'bad', 'bad credit', 'bait', 'bait switch', 'balanc', 'balanc account', 'balanc credit', 'balanc due', 'balanc full', 'balanc loan', 'balanc owe', 'balanc paid', 'balanc transfer', 'balanc would', 'balanc xxxx', 'balloon', 'bank', 'bank account', 'bank also', 'bank america', 'bank ask', 'bank bank', 'bank call', 'bank charg', 'bank check', 'bank close', 'bank credit', 'bank inform', 'bank never', 'bank refus', 'bank repres', 'bank said', 'bank sent', 'bank state', 'bank statement', 'bank told', 'bank well', 'bank would', 'bank xxxx', 'bank xxxxxxxx', 'banker', 'bankruptci', 'bankruptci court', 'bankruptci discharg', 'bankruptci file', 'bankruptci xxxx', 'bankruptci xxxxxxxx', 'bar', 'barclay', 'bare', 'base', 'base upon', 'base xxxx', 'basi', 'basic', 'battl', 'bb', 'bear', 'becam', 'becaus', 'becaus account', 'becaus bank', 'becaus could', 'becaus credit', 'becaus know', 'becaus loan', 'becaus never', 'becaus onli', 'becaus receiv', 'becaus said', 'becaus want', 'becaus would', 'becaus xxxx', 'becom', 'befor', 'befor close', 'befor could', 'befor due', 'befor xxxx', 'beg', 'began', 'begin', 'begin xxxx', 'begun', 'behalf', 'behalf xxxx', 'behavior', 'behind', 'behind mortgag', 'behind payment', 'belief', 'believ', 'believ xxxx', 'belong', 'benefit', 'besid', 'best', 'better', 'beyond', 'bi', 'big', 'bill', 'bill cycl', 'bill due', 'bill paid', 'bill pay', 'bill payment', 'bill sent', 'bill statement', 'bill time', 'bill xxxx', 'birth', 'bit', 'bk', 'blame', 'blank', 'blatant', 'block', 'boa', 'board', 'bofa', 'bogus', 'bonus', 'book', 'borrow', 'borrow money', 'boss', 'bother', 'bottom', 'bottom line', 'bought', 'bought xxxx', 'bounc', 'box', 'branch', 'branch manag', 'branch xxxx', 'breach', 'breach privaci', 'break', 'breakdown', 'bring', 'bring account', 'broke', 'broken', 'broker', 'brother', 'brought', 'budget', 'build', 'built', 'bulli', 'burden', 'bureau', 'bureau report', 'bureau xxxx', 'bureaus', 'bureaus remov', 'bureaus xxxx', 'busi', 'busi account', 'busi day', 'busi practic', 'busi xxxx', 'buy', 'buy home', 'buy hous', 'buyer', 'ca', 'ca afford', 'ca even', 'ca get', 'ca xxxx', 'cabl', 'calcul', 'calib', 'california', 'call', 'call ask', 'call back', 'call bank', 'call becaus', 'call call', 'call cell', 'call center', 'call chase', 'call collect', 'call compani', 'call continu', 'call credit', 'call custom', 'call day', 'call debt', 'call email', 'call even', 'call everi', 'call explain', 'call find', 'call get', 'call harass', 'call home', 'call inform', 'call inquir', 'call job', 'call left', 'call letter', 'call list', 'call made', 'call make', 'call multipl', 'call never', 'call number', 'call numer', 'call ocwen', 'call offic', 'call one', 'call person', 'call phone', 'call place', 'call receiv', 'call record', 'call regard', 'call repeat', 'call request', 'call said', 'call say', 'call sever', 'call spoke', 'call state', 'call stop', 'call tell', 'call time', 'call today', 'call told', 'call tri', 'call us', 'call well', 'call work', 'call would', 'call xxxx', 'call xxxxxxxx', 'caller', 'caller id', 'came', 'came back', 'came xxxx', 'cancel', 'cancel account', 'cancel card', 'cancel check', 'cancel servic', 'cancel xxxx', 'cant', 'capit', 'capit one', 'car', 'car loan', 'car payment', 'car xxxx', 'card', 'card account', 'card balanc', 'card bank', 'card becaus', 'card bill', 'card call', 'card charg', 'card close', 'card compani', 'card credit', 'card debt', 'card holder', 'card inform', 'card issu', 'card never', 'card number', 'card open', 'card paid', 'card pay', 'card payment', 'card purchas', 'card receiv', 'card servic', 'card sinc', 'card statement', 'card told', 'card use', 'card would', 'card xxxx', 'card xxxxxxxx', 'card year', 'care', 'care credit', 'care xxxx', 'carri', 'carrington', 'carrington mortgag', 'case', 'case number', 'case xxxx', 'cash', 'cash check', 'cash xxxx', 'cashier', 'cashier check', 'catch', 'caught', 'caus', 'cc', 'ceas', 'ceas desist', 'cell', 'cell phone', 'cent', 'center', 'central', 'ceo', 'certain', 'certif', 'certifi', 'certifi letter', 'certifi mail', 'cfpb', 'cfpb complaint', 'cfpb xxxx', 'chain', 'challeng', 'chanc', 'chang', 'chang account', 'chang xxxx', 'chapter', 'chapter xxxx', 'charact', 'charg', 'charg account', 'charg addit', 'charg amount', 'charg bank', 'charg call', 'charg card', 'charg credit', 'charg fee', 'charg interest', 'charg late', 'charg made', 'charg month', 'charg overdraft', 'charg us', 'charg would', 'charg xxxx', 'charg xxxxxxxx', 'chase', 'chase bank', 'chase credit', 'chase xxxx', 'chat', 'cheat', 'check', 'check account', 'check amount', 'check bank', 'check cash', 'check clear', 'check credit', 'check deposit', 'check mail', 'check person', 'check receiv', 'check return', 'check save', 'check sent', 'check status', 'check would', 'check xxxx', 'child', 'children', 'choic', 'choos', 'chose', 'circl', 'circumst', 'cite', 'citi', 'citi bank', 'citi xxxx', 'citibank', 'citimortgag', 'citizen', 'citizen bank', 'civil', 'claim', 'claim owe', 'claim xxxx', 'clarif', 'clarifi', 'class', 'class action', 'clean', 'clear', 'clear show', 'clear state', 'clear violat', 'clear xxxx', 'clerk', 'click', 'client', 'close', 'close account', 'close cost', 'close credit', 'close date', 'close due', 'close loan', 'close xxxx', 'close xxxxxxxx', 'closur', 'clue', 'co', 'co sign', 'co signer', 'code', 'code xxxx', 'collect', 'collect account', 'collect activ', 'collect agenc', 'collect call', 'collect compani', 'collect credit', 'collect debt', 'collect depart', 'collect letter', 'collect money', 'collect notic', 'collect practic', 'collect report', 'collect servic', 'collect state', 'collect xxxx', 'collector', 'collector call', 'collector xxxx', 'colleg', 'combin', 'come', 'come back', 'come xxxx', 'comfort', 'comment', 'commiss', 'commit', 'commit fraud', 'common', 'communic', 'communic xxxx', 'communiti', 'compani', 'compani also', 'compani ask', 'compani call', 'compani charg', 'compani claim', 'compani contact', 'compani continu', 'compani debt', 'compani doe', 'compani make', 'compani name', 'compani never', 'compani provid', 'compani receiv', 'compani refus', 'compani report', 'compani said', 'compani sent', 'compani state', 'compani told', 'compani tri', 'compani work', 'compani would', 'compani xxxx', 'compar', 'compens', 'compet', 'complain', 'complaint', 'complaint becaus', 'complaint cfpb', 'complaint compani', 'complaint file', 'complaint regard', 'complaint xxxx', 'complet', 'complet xxxx', 'complex', 'compli', 'complianc', 'compliant', 'compromis', 'comput', 'concern', 'concern xxxx', 'conclud', 'conclus', 'condit', 'condo', 'conduct', 'confer', 'confid', 'confirm', 'confirm number', 'confirm receiv', 'confirm xxxx', 'conflict', 'confus', 'connect', 'consecut', 'consent', 'consequ', 'consid', 'consider', 'consist', 'consolid', 'constant', 'constitut', 'construct', 'consult', 'consum', 'consum credit', 'consum financi', 'consum protect', 'consum report', 'consum right', 'contact', 'contact ani', 'contact attorney', 'contact bank', 'contact chase', 'contact collect', 'contact compani', 'contact credit', 'contact creditor', 'contact custom', 'contact debt', 'contact inform', 'contact number', 'contact person', 'contact phone', 'contact regard', 'contact us', 'contact via', 'contact well', 'contact xxxx', 'contain', 'content', 'continu', 'continu call', 'continu charg', 'continu get', 'continu harass', 'continu make', 'continu pay', 'continu receiv', 'continu report', 'continu send', 'contract', 'contract xxxx', 'contractor', 'contractu', 'contradict', 'control', 'conveni', 'convent', 'convers', 'convers xxxx', 'convert', 'convinc', 'cooper', 'copi', 'copi credit', 'copi document', 'copi letter', 'copi origin', 'copi sign', 'copi xxxx', 'corp', 'corpor', 'corpor offic', 'correct', 'correct account', 'correct address', 'correct amount', 'correct credit', 'correct error', 'correct inform', 'correct issu', 'correct report', 'correct xxxx', 'correspond', 'cosign', 'cost', 'cost xxxx', 'could', 'could afford', 'could call', 'could done', 'could explain', 'could find', 'could get', 'could give', 'could go', 'could help', 'could longer', 'could make', 'could onli', 'could pay', 'could possibl', 'could provid', 'could see', 'could send', 'could take', 'could tell', 'could use', 'counsel', 'counselor', 'count', 'counter', 'counti', 'countless', 'countri', 'coupl', 'coupl day', 'coupl month', 'cours', 'court', 'court date', 'court document', 'court order', 'court xxxx', 'courtesi', 'cover', 'coverag', 'cra', 'crazi', 'creat', 'credit', 'credit account', 'credit agenc', 'credit back', 'credit becaus', 'credit bureau', 'credit bureaus', 'credit card', 'credit check', 'credit collect', 'credit compani', 'credit credit', 'credit file', 'credit histori', 'credit inform', 'credit inquiri', 'credit limit', 'credit line', 'credit manag', 'credit monitor', 'credit payment', 'credit profil', 'credit rate', 'credit record', 'credit report', 'credit score', 'credit servic', 'credit union', 'credit within', 'credit would', 'credit xxxx', 'creditor', 'creditor xxxx', 'crime', 'crimin', 'crisi', 'criteria', 'crook', 'current', 'current address', 'current balanc', 'current loan', 'current mortgag', 'current payment', 'current xxxx', 'custom', 'custom servic', 'custom xxxx', 'cut', 'cycl', 'dad', 'daili', 'damag', 'damag credit', 'data', 'databas', 'date', 'date account', 'date birth', 'date last', 'date payment', 'date receiv', 'date xxxx', 'date xxxxxxxx', 'date xxxxxxxxxxxx', 'daughter', 'day', 'day ago', 'day ask', 'day befor', 'day call', 'day day', 'day even', 'day get', 'day late', 'day later', 'day notic', 'day past', 'day period', 'day prior', 'day receiv', 'day sinc', 'day time', 'day told', 'day verifi', 'day week', 'day would', 'day xxxx', 'day xxxxxxxx', 'dead', 'deadlin', 'deal', 'deal xxxx', 'dealer', 'dealership', 'dealt', 'dear', 'death', 'debit', 'debit account', 'debit card', 'debt', 'debt also', 'debt amount', 'debt ani', 'debt ask', 'debt becaus', 'debt call', 'debt collect', 'debt collector', 'debt compani', 'debt credit', 'debt debt', 'debt disput', 'debt even', 'debt mine', 'debt never', 'debt origin', 'debt owe', 'debt paid', 'debt receiv', 'debt remov', 'debt report', 'debt sent', 'debt still', 'debt told', 'debt valid', 'debt would', 'debt xxxx', 'debt xxxxxxxx', 'debt year', 'debtor', 'deceas', 'deceit', 'deceiv', 'decept', 'decept practic', 'decid', 'decis', 'declar', 'declin', 'decreas', 'deduct', 'deed', 'deed lieu', 'deed trust', 'deem', 'default', 'default loan', 'defend', 'defer', 'defici', 'definit', 'defraud', 'degre', 'delay', 'delet', 'delet account', 'delet credit', 'delet xxxx', 'deliber', 'delinqu', 'delinqu account', 'delinqu xxxx', 'deliv', 'deliveri', 'demand', 'demand payment', 'demonstr', 'deni', 'deni becaus', 'deni credit', 'deni loan', 'deni request', 'deni xxxx', 'denial', 'denial letter', 'depart', 'depart xxxx', 'depend', 'deposit', 'deposit account', 'deposit check', 'deposit money', 'deposit xxxx', 'dept', 'derogatori', 'describ', 'descript', 'deserv', 'design', 'desir', 'desist', 'desk', 'desper', 'despit', 'despit fact', 'destroy', 'detail', 'determin', 'didnt', 'die', 'differ', 'differ account', 'differ amount', 'differ number', 'differ peopl', 'differ time', 'difficult', 'difficulti', 'digit', 'dilig', 'direct', 'direct deposit', 'direct violat', 'direct xxxx', 'disagre', 'disappoint', 'disburs', 'discharg', 'discharg bankruptci', 'discharg xxxx', 'disclos', 'disclosur', 'disconnect', 'discontinu', 'discount', 'discov', 'discov card', 'discov xxxx', 'discrep', 'discrimin', 'discuss', 'dishonest', 'dismiss', 'display', 'disput', 'disput account', 'disput amount', 'disput charg', 'disput credit', 'disput debt', 'disput equifax', 'disput inform', 'disput item', 'disput letter', 'disput valid', 'disput xxxx', 'disregard', 'disrespect', 'distress', 'district', 'disturb', 'ditech', 'divis', 'divorc', 'dob', 'doc', 'doctor', 'document', 'document need', 'document prove', 'document provid', 'document receiv', 'document request', 'document sent', 'document show', 'document sign', 'document state', 'document submit', 'document support', 'document xxxx', 'doe', 'doe allow', 'doe belong', 'doe exist', 'doe make', 'doe match', 'doe seem', 'doe show', 'dollar', 'dollar xxxx', 'done', 'done everyth', 'done xxxx', 'dont', 'dont know', 'door', 'doubl', 'doubt', 'draft', 'drag', 'draw', 'drawn', 'drive', 'driver', 'driver licens', 'drop', 'drop xxxx', 'dual', 'dual track', 'due', 'due account', 'due amount', 'due balanc', 'due credit', 'due date', 'due dilig', 'due fact', 'due lack', 'due payment', 'due xxxx', 'due xxxxxxxx', 'duplic', 'dure', 'dure period', 'dure process', 'dure time', 'dure xxxx', 'duti', 'earli', 'earli xxxx', 'earlier', 'earn', 'easi', 'easili', 'econom', 'economi', 'educ', 'effect', 'effect credit', 'effect xxxx', 'effort', 'either', 'either xxxx', 'elder', 'electr', 'electron', 'elig', 'elimin', 'els', 'email', 'email address', 'email call', 'email phone', 'email sent', 'email state', 'email xxxx', 'email xxxxxxxxxxxx', 'embarrass', 'emerg', 'emot', 'employ', 'employ compani', 'employ xxxx', 'employe', 'employe xxxx', 'enclos', 'encount', 'encourag', 'end', 'end call', 'end month', 'end xxxx', 'endors', 'enforc', 'engag', 'enhanc', 'enhanc recoveri', 'enough', 'enough money', 'enrol', 'ensur', 'enter', 'entir', 'entiti', 'entitl', 'entri', 'envelop', 'equal', 'equifax', 'equifax credit', 'equifax refus', 'equifax report', 'equifax xxxx', 'equip', 'equiti', 'equiti line', 'equiti loan', 'erron', 'erron inform', 'error', 'error credit', 'error xxxx', 'escal', 'escrow', 'escrow account', 'escrow analysi', 'escrow payment', 'escrow shortag', 'especi', 'essenti', 'establish', 'estat', 'estim', 'etc', 'ethic', 'evalu', 'even', 'even call', 'even get', 'even know', 'even sent', 'even though', 'even told', 'even xxxx', 'event', 'eventu', 'ever', 'ever receiv', 'ever sinc', 'everi', 'everi day', 'everi month', 'everi singl', 'everi time', 'everi week', 'everi year', 'everyday', 'everyon', 'everyth', 'evict', 'evid', 'ex', 'ex husband', 'ex wife', 'exact', 'exampl', 'exceed', 'excel', 'excel credit', 'except', 'excess', 'exchang', 'excus', 'execut', 'execut offic', 'exempt', 'exercis', 'exhaust', 'exhibit', 'exist', 'expect', 'expedit', 'expens', 'experi', 'experian', 'experian credit', 'experian refus', 'experian report', 'experian xxxx', 'experienc', 'expir', 'explain', 'explain situat', 'explain whi', 'explain xxxx', 'explan', 'explan whi', 'express', 'ext', 'ext xxxx', 'extend', 'extens', 'extort', 'extra', 'extra money', 'extra payment', 'extrem', 'face', 'fact', 'fact xxxx', 'factor', 'fail', 'fail provid', 'fail respond', 'failur', 'fair', 'fair credit', 'fair debt', 'faith', 'fake', 'fall', 'fallen', 'fals', 'fals inform', 'fals report', 'fals statement', 'falsifi', 'famili', 'famili member', 'far', 'fargo', 'fargo bank', 'fargo home', 'fargo xxxx', 'fashion', 'fast', 'father', 'fault', 'favor', 'fax', 'fax copi', 'fax number', 'fax xxxx', 'fcra', 'fcra requir', 'fdcpa', 'fear', 'featur', 'fed', 'feder', 'feder govern', 'feder law', 'feder loan', 'feder state', 'feder trade', 'fee', 'fee account', 'fee becaus', 'fee call', 'fee charg', 'fee even', 'fee interest', 'fee paid', 'fee would', 'fee xxxx', 'feel', 'feel like', 'feet', 'fell', 'fell behind', 'felt', 'femal', 'fha', 'fha loan', 'fico', 'fico score', 'field', 'fight', 'figur', 'file', 'file bankruptci', 'file chapter', 'file claim', 'file complaint', 'file disput', 'file lawsuit', 'file polic', 'file report', 'file suit', 'file xxxx', 'file xxxxxxxx', 'fill', 'final', 'final abl', 'final got', 'final payment', 'final receiv', 'final xxxx', 'financ', 'financ charg', 'financ compani', 'financ xxxx', 'financi', 'financi hardship', 'financi inform', 'financi institut', 'financi protect', 'financi servic', 'financi situat', 'find', 'find whi', 'fine', 'finish', 'fire', 'firm', 'firm xxxx', 'first', 'first month', 'first mortgag', 'first payment', 'first place', 'first time', 'first xxxx', 'fit', 'five', 'five busi', 'five year', 'fix', 'fix incom', 'fix issu', 'fix problem', 'fix rate', 'fl', 'fl xxxx', 'flag', 'flood', 'florida', 'focus', 'follow', 'follow day', 'follow month', 'follow xxxx', 'food', 'forbear', 'forc', 'forc pay', 'foreclos', 'foreclos home', 'foreclos properti', 'foreclosur', 'foreclosur proceed', 'foreclosur process', 'foreclosur sale', 'foreclosur xxxx', 'forg', 'forgiv', 'forgiven', 'forgot', 'form', 'form xxxx', 'formal', 'formal complaint', 'former', 'forth', 'forward', 'found', 'found xxxx', 'four', 'four year', 'frame', 'frank', 'fraud', 'fraud alert', 'fraud depart', 'fraud xxxx', 'fraudul', 'fraudul account', 'fraudul activ', 'fraudul charg', 'fraudul credit', 'fraudul inquiri', 'free', 'free annual', 'free credit', 'freedom', 'freez', 'frequent', 'friday', 'friday xxxx', 'friend', 'front', 'frozen', 'frustrat', 'ftc', 'fulfil', 'full', 'full amount', 'full balanc', 'full payment', 'full time', 'full xxxx', 'fulli', 'function', 'fund', 'fund account', 'fund avail', 'fund would', 'fund xxxx', 'furnish', 'furnitur', 'furthermor', 'futur', 'ga', 'gain', 'game', 'gap', 'garnish', 'garnish wage', 'gas', 'gather', 'gave', 'gave right', 'gave us', 'gave xxxx', 'general', 'general offic', 'generat', 'gentleman', 'georgia', 'get', 'get account', 'get ani', 'get anoth', 'get answer', 'get approv', 'get away', 'get back', 'get call', 'get copi', 'get correct', 'get credit', 'get help', 'get hold', 'get inform', 'get letter', 'get loan', 'get modif', 'get money', 'get mortgag', 'get new', 'get paid', 'get payment', 'get phone', 'get remov', 'get resolv', 'get respons', 'get run', 'get xxxx', 'gift', 'give', 'give ani', 'give credit', 'give inform', 'give money', 'give us', 'give xxxx', 'given', 'given xxxx', 'go', 'go back', 'go get', 'go pay', 'go xxxx', 'goal', 'goe', 'gone', 'good', 'good credit', 'good faith', 'good stand', 'googl', 'got', 'got back', 'got call', 'got letter', 'got phone', 'got xxxx', 'gotten', 'govern', 'grace', 'grace period', 'graduat', 'grant', 'great', 'great appreci', 'greater', 'green', 'green tree', 'greentre', 'groceri', 'gross', 'ground', 'group', 'gt', 'guarante', 'guess', 'guidelin', 'guy', 'hack', 'half', 'hamp', 'hand', 'handl', 'hang', 'happen', 'happen xxxx', 'happi', 'harass', 'harass call', 'harass phone', 'hard', 'hard inquiri', 'hard time', 'hardship', 'harm', 'harp', 'harrass', 'head', 'health', 'hear', 'hear back', 'heard', 'heard anyth', 'heard back', 'heard noth', 'held', 'held account', 'hello', 'heloc', 'help', 'help becaus', 'help get', 'help matter', 'help pleas', 'help resolv', 'help thank', 'help us', 'help xxxx', 'henc', 'hi', 'hide', 'high', 'high interest', 'higher', 'higher interest', 'highest', 'hire', 'hire attorney', 'histori', 'histori xxxx', 'hit', 'hold', 'hold account', 'hold money', 'hold xxxx', 'holder', 'holiday', 'home', 'home address', 'home afford', 'home equiti', 'home loan', 'home mortgag', 'home owner', 'home phone', 'home xxxx', 'home xxxxxxxx', 'home year', 'homeless', 'homeown', 'homeown insur', 'honest', 'honor', 'hope', 'horribl', 'hospit', 'hotel', 'hour', 'hour later', 'hour phone', 'hour xxxx', 'hous', 'hous payment', 'hous xxxx', 'household', 'howev', 'howev never', 'howev receiv', 'howev xxxx', 'hsbc', 'hud', 'huge', 'human', 'hundr', 'hung', 'hung call', 'hung phone', 'hurt', 'hurt credit', 'husband', 'husband xxxx', 'id', 'id theft', 'id xxxx', 'idea', 'ident', 'ident stolen', 'ident theft', 'identif', 'identifi', 'identifi themselv', 'ie', 'ignor', 'ignor request', 'il', 'ill', 'illeg', 'im', 'imagin', 'immedi', 'immedi call', 'immedi contact', 'immedi remov', 'impact', 'impact credit', 'impli', 'import', 'impos', 'imposs', 'impress', 'improp', 'improv', 'inabl', 'inaccur', 'inaccur inform', 'inaccur report', 'inaccuraci', 'inact', 'inappropri', 'inc', 'inc xxxx', 'incent', 'incid', 'includ', 'includ bankruptci', 'includ xxxx', 'incom', 'incom tax', 'incom xxxx', 'incompet', 'incomplet', 'inconsist', 'inconveni', 'incorrect', 'incorrect inform', 'incorrect report', 'increas', 'increas month', 'increas payment', 'incred', 'incur', 'inde', 'independ', 'indic', 'individu', 'industri', 'inflat', 'info', 'inform', 'inform account', 'inform also', 'inform ani', 'inform ask', 'inform bank', 'inform becaus', 'inform call', 'inform compani', 'inform consum', 'inform contact', 'inform correct', 'inform could', 'inform credit', 'inform debt', 'inform file', 'inform given', 'inform includ', 'inform inform', 'inform loan', 'inform need', 'inform never', 'inform onli', 'inform provid', 'inform receiv', 'inform regard', 'inform remov', 'inform report', 'inform request', 'inform sent', 'inform told', 'inform us', 'inform verifi', 'inform would', 'inform xxxx', 'initi', 'injuri', 'inquir', 'inquir credit', 'inquiri', 'inquiri credit', 'inquiri immedi', 'inquiri made', 'inquiri xxxx', 'insert', 'insid', 'insist', 'inspect', 'instal', 'instanc', 'instead', 'instead xxxx', 'institut', 'instruct', 'instrument', 'insuffici', 'insuffici fund', 'insult', 'insur', 'insur compani', 'insur paid', 'insur polici', 'insur xxxx', 'intend', 'intent', 'interest', 'interest charg', 'interest fee', 'interest loan', 'interest onli', 'interest payment', 'interest rate', 'interest xxxx', 'intern', 'internet', 'intimid', 'invalid', 'invest', 'investig', 'investig account', 'investig disput', 'investig matter', 'investig xxxx', 'investor', 'invoic', 'involv', 'ir', 'issu', 'issu credit', 'issu new', 'issu resolv', 'issu xxxx', 'issuer', 'item', 'item credit', 'item remov', 'item report', 'item xxxx', 'ive', 'jail', 'job', 'job xxxx', 'joint', 'jp', 'jp morgan', 'judg', 'judgement', 'judgment', 'jump', 'justic', 'justifi', 'keep', 'keep call', 'keep get', 'keep home', 'keep send', 'keep tell', 'kept', 'key', 'kick', 'kid', 'kind', 'knew', 'know', 'know els', 'know go', 'know whi', 'know would', 'know xxxx', 'knowledg', 'knowledg consent', 'known', 'label', 'lack', 'ladi', 'laid', 'land', 'landlord', 'languag', 'larg', 'larger', 'last', 'last day', 'last month', 'last name', 'last payment', 'last time', 'last week', 'last xxxx', 'last year', 'late', 'late charg', 'late credit', 'late fee', 'late payment', 'late xxxx', 'later', 'later call', 'later day', 'later receiv', 'later xxxx', 'latest', 'laugh', 'law', 'law firm', 'law offic', 'law suit', 'law xxxx', 'lawsuit', 'lawyer', 'lead', 'learn', 'leas', 'least', 'least xxxx', 'leav', 'leav messag', 'led', 'left', 'left messag', 'left voicemail', 'left xxxx', 'legal', 'legal action', 'legal entitl', 'legal fee', 'legal right', 'legitim', 'lend', 'lender', 'lender xxxx', 'length', 'less', 'less xxxx', 'let', 'let know', 'letter', 'letter ask', 'letter attach', 'letter bank', 'letter call', 'letter collect', 'letter date', 'letter disput', 'letter explain', 'letter inform', 'letter mail', 'letter receiv', 'letter request', 'letter say', 'letter sent', 'letter state', 'letter tell', 'letter xxxx', 'letter xxxxxxxx', 'level', 'levi', 'liabil', 'liabl', 'licens', 'licens collect', 'lie', 'lien', 'lieu', 'life', 'lift', 'light', 'like', 'like know', 'like remov', 'like xxxx', 'limit', 'limit xxxx', 'line', 'line credit', 'line xxxx', 'link', 'list', 'list credit', 'list xxxx', 'listen', 'liter', 'litig', 'littl', 'live', 'live address', 'live home', 'live xxxx', 'llc', 'llc xxxx', 'load', 'loan', 'loan account', 'loan also', 'loan amount', 'loan applic', 'loan approv', 'loan ask', 'loan balanc', 'loan bank', 'loan becaus', 'loan call', 'loan close', 'loan compani', 'loan could', 'loan credit', 'loan current', 'loan debt', 'loan default', 'loan document', 'loan due', 'loan inform', 'loan interest', 'loan loan', 'loan mod', 'loan modif', 'loan never', 'loan number', 'loan offic', 'loan onli', 'loan origin', 'loan paid', 'loan pay', 'loan payment', 'loan process', 'loan servic', 'loan sinc', 'loan sold', 'loan still', 'loan taken', 'loan time', 'loan told', 'loan transfer', 'loan well', 'loan would', 'loan xxxx', 'loan xxxxxxxx', 'loan year', 'local', 'local branch', 'locat', 'locat xxxx', 'lock', 'log', 'long', 'long time', 'longer', 'look', 'look account', 'look credit', 'look forward', 'look like', 'look xxxx', 'loos', 'lose', 'lose home', 'loss', 'loss mitig', 'lost', 'lost job', 'lot', 'love', 'low', 'lower', 'lower credit', 'lower interest', 'lower payment', 'lower rate', 'loyal', 'luck', 'lump', 'machin', 'maci', 'made', 'made account', 'made ani', 'made awar', 'made credit', 'made mistak', 'made payment', 'made purchas', 'made sever', 'made time', 'made xxxx', 'made xxxxxxxx', 'mae', 'mail', 'mail address', 'mail check', 'mail copi', 'mail letter', 'mail receiv', 'mail state', 'mail xxxx', 'mail xxxxxxxx', 'main', 'maintain', 'mainten', 'major', 'major credit', 'make', 'make ani', 'make decis', 'make fraudul', 'make money', 'make month', 'make mortgag', 'make payment', 'make purchas', 'make sens', 'make sure', 'make xxxx', 'man', 'manag', 'manag call', 'manag told', 'manag xxxx', 'mandat', 'mani', 'mani peopl', 'mani time', 'mani year', 'manipul', 'manner', 'manual', 'mark', 'mark credit', 'market', 'marri', 'master', 'mastercard', 'match', 'materi', 'matter', 'matter resolv', 'matter xxxx', 'matur', 'max', 'maximum', 'may', 'may concern', 'mayb', 'mean', 'meant', 'meantim', 'meanwhil', 'media', 'mediat', 'medic', 'medic bill', 'meet', 'member', 'membership', 'mention', 'merchant', 'mere', 'mess', 'messag', 'messag call', 'messag left', 'messag xxxx', 'met', 'method', 'mid', 'middl', 'midland', 'midland credit', 'midland fund', 'might', 'mile', 'militari', 'min', 'mind', 'mine', 'mine xxxx', 'minimum', 'minimum payment', 'minor', 'minut', 'misinform', 'mislead', 'misrepres', 'misrepresent', 'miss', 'miss payment', 'miss xxxx', 'mistak', 'mistaken', 'mitig', 'mobil', 'mod', 'modif', 'modif agreement', 'modif applic', 'modif deni', 'modif loan', 'modif process', 'modif program', 'modif request', 'modif xxxx', 'modifi', 'modifi loan', 'mom', 'moment', 'monday', 'monday xxxx', 'money', 'money account', 'money back', 'money bank', 'money becaus', 'money order', 'money owe', 'money paid', 'money pay', 'money transfer', 'money would', 'money xxxx', 'moni', 'monitor', 'monitor servic', 'month', 'month account', 'month ago', 'month amount', 'month befor', 'month behind', 'month bill', 'month call', 'month charg', 'month fee', 'month get', 'month interest', 'month late', 'month later', 'month loan', 'month month', 'month mortgag', 'month paid', 'month pay', 'month payment', 'month receiv', 'month sinc', 'month statement', 'month still', 'month time', 'month told', 'month tri', 'month would', 'month xxxx', 'month xxxxxxxx', 'month year', 'moreov', 'morgan', 'morgan chase', 'morn', 'morn xxxx', 'mortgag', 'mortgag account', 'mortgag bank', 'mortgag compani', 'mortgag current', 'mortgag holder', 'mortgag home', 'mortgag insur', 'mortgag lender', 'mortgag loan', 'mortgag modif', 'mortgag paid', 'mortgag payment', 'mortgag servic', 'mortgag sold', 'mortgag statement', 'mortgag transfer', 'mortgag well', 'mortgag xxxx', 'mortgag xxxxxxxx', 'mother', 'mother xxxx', 'motion', 'move', 'move forward', 'move xxxx', 'much', 'much money', 'multipl', 'multipl time', 'must', 'must remov', 'na', 'name', 'name account', 'name address', 'name compani', 'name social', 'name xxxx', 'nasti', 'nation', 'nationstar', 'nationstar mortgag', 'natur', 'navient', 'nc', 'nd', 'near', 'near xxxx', 'necessari', 'need', 'need assist', 'need call', 'need contact', 'need get', 'need help', 'need know', 'need make', 'need money', 'need pay', 'need remov', 'need send', 'need stop', 'need xxxx', 'needless', 'needless say', 'negat', 'negat account', 'negat affect', 'negat balanc', 'negat credit', 'negat impact', 'negat inform', 'negat item', 'negat report', 'neglect', 'neglig', 'negoti', 'neighbor', 'neither', 'net', 'never', 'never abl', 'never ani', 'never appli', 'never author', 'never call', 'never contact', 'never even', 'never gave', 'never get', 'never given', 'never got', 'never happen', 'never heard', 'never inform', 'never late', 'never live', 'never made', 'never miss', 'never notifi', 'never open', 'never paid', 'never provid', 'never receiv', 'never respond', 'never return', 'never sent', 'never sign', 'never told', 'never use', 'never xxxx', 'new', 'new account', 'new address', 'new card', 'new credit', 'new home', 'new loan', 'new mortgag', 'new payment', 'new servic', 'new xxxx', 'new york', 'news', 'next', 'next day', 'next month', 'next payment', 'next step', 'next week', 'next year', 'nice', 'night', 'nightmar', 'nj', 'nobodi', 'non', 'non payment', 'none', 'normal', 'notar', 'notari', 'notat', 'note', 'note account', 'note xxxx', 'noth', 'noth could', 'noth done', 'notic', 'notic collect', 'notic default', 'notic xxxx', 'notif', 'notifi', 'notifi xxxx', 'nowher', 'nsf', 'number', 'number account', 'number back', 'number call', 'number list', 'number provid', 'number time', 'number told', 'number use', 'number xxxx', 'numer', 'numer call', 'numer occas', 'numer time', 'ny', 'ny xxxx', 'oblig', 'obtain', 'obtain credit', 'obtain loan', 'obvious', 'occas', 'occur', 'occur xxxx', 'ocwen', 'ocwen loan', 'ocwen xxxx', 'odd', 'offer', 'offer ani', 'offer pay', 'offer xxxx', 'offic', 'offic told', 'offic xxxx', 'offici', 'often', 'oh', 'ohio', 'ok', 'okay', 'old', 'old account', 'old address', 'old debt', 'old xxxx', 'older', 'onc', 'onc receiv', 'onc xxxx', 'one', 'one bank', 'one call', 'one credit', 'one day', 'one ever', 'one month', 'one time', 'one week', 'one would', 'one xxxx', 'one year', 'ongo', 'onli', 'onli find', 'onli one', 'onli option', 'onli pay', 'onli payment', 'onli reason', 'onli receiv', 'onli thing', 'onli told', 'onli way', 'onli xxxx', 'onlin', 'onlin account', 'onlin bank', 'onlin payment', 'onlin xxxx', 'onto', 'open', 'open account', 'open check', 'open credit', 'open name', 'open new', 'open xxxx', 'open xxxxxxxx', 'oper', 'opinion', 'opportun', 'opt', 'option', 'order', 'order get', 'order xxxx', 'organ', 'origin', 'origin amount', 'origin contract', 'origin creditor', 'origin debt', 'origin loan', 'origin mortgag', 'origin xxxx', 'otherwis', 'outcom', 'outdat', 'outlin', 'outrag', 'outsid', 'outstand', 'outstand balanc', 'outstand debt', 'overag', 'overal', 'overcharg', 'overdraft', 'overdraft fee', 'overdraft protect', 'overdrawn', 'overdu', 'overnight', 'overpay', 'owe', 'owe amount', 'owe ani', 'owe anyth', 'owe debt', 'owe money', 'owe xxxx', 'owner', 'ownership', 'pa', 'packag', 'packet', 'page', 'page xxxx', 'paid', 'paid account', 'paid agre', 'paid amount', 'paid back', 'paid balanc', 'paid bill', 'paid close', 'paid credit', 'paid debt', 'paid full', 'paid loan', 'paid month', 'paid mortgag', 'paid tax', 'paid time', 'paid xxxx', 'paid xxxxxxxx', 'pain', 'paper', 'paper work', 'paperwork', 'paragraph', 'parent', 'part', 'part xxxx', 'parti', 'partial', 'partial payment', 'particip', 'particular', 'partner', 'pass', 'pass away', 'password', 'past', 'past due', 'past month', 'past xxxx', 'past year', 'patient', 'pattern', 'pay', 'pay account', 'pay addit', 'pay amount', 'pay ani', 'pay back', 'pay balanc', 'pay becaus', 'pay bill', 'pay check', 'pay credit', 'pay day', 'pay debt', 'pay fee', 'pay full', 'pay interest', 'pay late', 'pay loan', 'pay money', 'pay month', 'pay mortgag', 'pay payment', 'pay rent', 'pay tax', 'pay time', 'pay would', 'pay xxxx', 'paycheck', 'payday', 'payday loan', 'payment', 'payment account', 'payment also', 'payment amount', 'payment ani', 'payment appli', 'payment arrang', 'payment ask', 'payment bank', 'payment becaus', 'payment befor', 'payment call', 'payment charg', 'payment check', 'payment could', 'payment credit', 'payment current', 'payment date', 'payment day', 'payment debt', 'payment due', 'payment even', 'payment everi', 'payment fee', 'payment full', 'payment get', 'payment go', 'payment histori', 'payment howev', 'payment increas', 'payment inform', 'payment late', 'payment loan', 'payment made', 'payment make', 'payment month', 'payment mortgag', 'payment never', 'payment onli', 'payment onlin', 'payment option', 'payment paid', 'payment past', 'payment pay', 'payment payment', 'payment per', 'payment phone', 'payment plan', 'payment post', 'payment process', 'payment receiv', 'payment report', 'payment return', 'payment said', 'payment schedul', 'payment sent', 'payment sinc', 'payment still', 'payment time', 'payment told', 'payment toward', 'payment tri', 'payment well', 'payment went', 'payment would', 'payment xxxx', 'payment xxxxxxxx', 'payment year', 'payoff', 'payoff amount', 'paypal', 'paypal account', 'paypal credit', 'payrol', 'penal', 'penalti', 'pend', 'penni', 'peopl', 'peopl xxxx', 'per', 'per day', 'per month', 'per xxxx', 'percent', 'percentag', 'perfect', 'perform', 'perhap', 'period', 'period time', 'period xxxx', 'perman', 'permiss', 'permit', 'persist', 'person', 'person account', 'person call', 'person check', 'person credit', 'person inform', 'person loan', 'person name', 'person phone', 'person spoke', 'person xxxx', 'personnel', 'pertain', 'phone', 'phone ask', 'phone call', 'phone convers', 'phone number', 'phone said', 'phone told', 'phone xxxx', 'physic', 'pick', 'pictur', 'piec', 'pin', 'place', 'place account', 'place collect', 'place credit', 'place employ', 'place hold', 'place xxxx', 'plaintiff', 'plan', 'play', 'plead', 'pleas', 'pleas advis', 'pleas assist', 'pleas contact', 'pleas help', 'pleas investig', 'pleas let', 'pleas note', 'pleas provid', 'pleas remov', 'pleas see', 'pleas send', 'plus', 'pmi', 'pnc', 'pnc bank', 'pocket', 'point', 'point contact', 'point xxxx', 'polic', 'polic depart', 'polic report', 'polici', 'poor', 'portal', 'portfolio', 'portfolio recoveri', 'portfolio servic', 'portion', 'posit', 'possess', 'possibl', 'post', 'post account', 'post offic', 'post xxxx', 'postal', 'postpon', 'potenti', 'power', 'practic', 'practic act', 'pre', 'pre approv', 'predatori', 'predatori lend', 'prefer', 'premium', 'prepaid', 'prepar', 'present', 'preserv', 'presid', 'press', 'pressur', 'pretti', 'prevent', 'previous', 'previous complaint', 'price', 'primari', 'primari resid', 'princip', 'princip balanc', 'princip interest', 'principl', 'print', 'prior', 'prior xxxx', 'privaci', 'privaci right', 'privat', 'privat loan', 'privat student', 'probabl', 'problem', 'problem xxxx', 'procedur', 'proceed', 'process', 'process loan', 'process payment', 'process xxxx', 'processor', 'produc', 'product', 'profession', 'profil', 'profit', 'program', 'program xxxx', 'progress', 'prohibit', 'promis', 'promissori', 'promissori note', 'promot', 'prompt', 'proof', 'proof author', 'proof debt', 'proof payment', 'proof xxxx', 'proper', 'proper investig', 'properti', 'properti tax', 'properti xxxx', 'propos', 'protect', 'protect bureau', 'prove', 'proven', 'provid', 'provid ani', 'provid copi', 'provid credit', 'provid document', 'provid inform', 'provid proof', 'provid request', 'provid us', 'provid xxxx', 'provis', 'public', 'public record', 'publish', 'pull', 'pull credit', 'punish', 'purchas', 'purchas car', 'purchas home', 'purchas hous', 'purchas made', 'purchas new', 'purchas vehicl', 'purchas xxxx', 'purport', 'purpos', 'pursu', 'pursuant', 'push', 'put', 'put account', 'put back', 'put credit', 'put hold', 'put xxxx', 'qualifi', 'qualifi loan', 'qualiti', 'question', 'question ask', 'question whi', 'question xxxx', 'quick', 'quit', 'quot', 'rais', 'ran', 'ran credit', 'random', 'rang', 'rate', 'rate loan', 'rate would', 'rate xxxx', 'rather', 'ratio', 'rd', 'rd parti', 'reach', 'reach xxxx', 'read', 'readi', 'reaffirm', 'real', 'real estat', 'realiz', 'realli', 'realli need', 'realtor', 'reappli', 'reason', 'reason whi', 'rebuild', 'recal', 'receipt', 'receiv', 'receiv ani', 'receiv anoth', 'receiv anyth', 'receiv bill', 'receiv call', 'receiv card', 'receiv check', 'receiv collect', 'receiv confirm', 'receiv copi', 'receiv correspond', 'receiv credit', 'receiv document', 'receiv email', 'receiv fund', 'receiv inform', 'receiv letter', 'receiv loan', 'receiv mail', 'receiv money', 'receiv new', 'receiv notic', 'receiv notif', 'receiv payment', 'receiv phone', 'receiv refund', 'receiv request', 'receiv respons', 'receiv sever', 'receiv statement', 'receiv written', 'receiv xxxx', 'receiv xxxxxxxx', 'recent', 'recent receiv', 'recent xxxx', 'reciev', 'recogn', 'recommend', 'record', 'record call', 'record show', 'record xxxx', 'recours', 'recov', 'recoveri', 'recoveri associ', 'rectifi', 'recur', 'red', 'reduc', 'reduct', 'refer', 'refer number', 'refer xxxx', 'referenc', 'refi', 'refin', 'refin home', 'refin loan', 'refin mortgag', 'refinanc', 'refinanc home', 'reflect', 'refund', 'refund check', 'refund money', 'refund xxxx', 'refus', 'refus accept', 'refus acknowledg', 'refus correct', 'refus give', 'refus help', 'refus honor', 'refus pay', 'refus provid', 'refus refund', 'refus remov', 'refus send', 'refus take', 'refus work', 'regard', 'regard account', 'regard debt', 'regard issu', 'regard loan', 'regard matter', 'regard xxxx', 'regardless', 'region', 'regist', 'regul', 'regular', 'regular payment', 'regulatori', 'reimburs', 'reinstat', 'reinvestig', 'reject', 'relat', 'relationship', 'relationship manag', 'releas', 'releas fund', 'relev', 'reli', 'relief', 'reloc', 'remain', 'remain balanc', 'remain credit', 'remaind', 'remark', 'remedi', 'rememb', 'remind', 'remov', 'remov account', 'remov collect', 'remov credit', 'remov immedi', 'remov inform', 'remov item', 'remov late', 'remov negat', 'remov report', 'remov unauthor', 'remov xxxx', 'render', 'renew', 'rent', 'rental', 'reopen', 'rep', 'rep said', 'rep told', 'rep xxxx', 'repair', 'repay', 'repay plan', 'repeat', 'repeat ask', 'repeat call', 'repeat request', 'replac', 'repli', 'repo', 'report', 'report account', 'report accur', 'report act', 'report agenc', 'report also', 'report ani', 'report balanc', 'report becaus', 'report bureaus', 'report call', 'report charg', 'report collect', 'report compani', 'report contact', 'report correct', 'report credit', 'report date', 'report day', 'report debt', 'report delinqu', 'report demand', 'report disput', 'report equifax', 'report even', 'report experian', 'report fals', 'report file', 'report found', 'report immedi', 'report inaccur', 'report incorrect', 'report inform', 'report late', 'report negat', 'report never', 'report notic', 'report number', 'report onli', 'report open', 'report owe', 'report paid', 'report payment', 'report pleas', 'report receiv', 'report remov', 'report report', 'report sent', 'report show', 'report sinc', 'report state', 'report still', 'report time', 'report told', 'report transunion', 'report well', 'report without', 'report would', 'report xxxx', 'report xxxxxxxx', 'report year', 'repossess', 'repres', 'repres said', 'repres spoke', 'repres state', 'repres told', 'repres xxxx', 'represent', 'reput', 'request', 'request account', 'request assist', 'request call', 'request copi', 'request credit', 'request document', 'request inform', 'request investig', 'request loan', 'request mail', 'request payment', 'request proof', 'request provid', 'request receiv', 'request remov', 'request sent', 'request speak', 'request valid', 'request verif', 'request write', 'request xxxx', 'requir', 'requir document', 'requir law', 'requir xxxx', 'rescind', 'research', 'reserv', 'resid', 'resid xxxx', 'residenti', 'resolut', 'resolv', 'resolv issu', 'resolv matter', 'resolv problem', 'resolv xxxx', 'resourc', 'respa', 'respect', 'respond', 'respond letter', 'respond request', 'respond xxxx', 'respons', 'respons receiv', 'respons xxxx', 'rest', 'restor', 'restrict', 'resubmit', 'result', 'result ident', 'result xxxx', 'resum', 'retail', 'retain', 'retali', 'retir', 'retriev', 'return', 'return call', 'return check', 'return money', 'return payment', 'return phone', 'return receipt', 'return xxxx', 'reveal', 'revenu', 'revers', 'review', 'review account', 'review credit', 'review xxxx', 'revis', 'revolv', 'reward', 'ridicul', 'right', 'right away', 'right disput', 'right request', 'right thing', 'ring', 'rip', 'risk', 'robo', 'roll', 'roof', 'room', 'rough', 'round', 'rout', 'rude', 'ruin', 'ruin credit', 'rule', 'run', 'run around', 'run credit', 'rush', 'rush card', 'rushcard', 'sad', 'safe', 'said', 'said account', 'said call', 'said could', 'said go', 'said need', 'said noth', 'said onli', 'said owe', 'said pay', 'said want', 'said would', 'said xxxx', 'said yes', 'salari', 'sale', 'sale date', 'sale home', 'sale xxxx', 'santand', 'sat', 'satisfact', 'satisfi', 'saturday', 'save', 'save account', 'save home', 'saw', 'say', 'say account', 'say need', 'say owe', 'say would', 'say xxxx', 'scam', 'scare', 'schedul', 'schedul payment', 'schedul xxxx', 'scheme', 'school', 'school xxxx', 'score', 'score drop', 'score xxxx', 'screen', 'search', 'sec', 'second', 'second mortgag', 'second time', 'section', 'section xxxx', 'secur', 'secur card', 'secur number', 'secur xxxx', 'see', 'see ani', 'see attach', 'see could', 'see xxxx', 'seek', 'seem', 'seem like', 'seen', 'select', 'select portfolio', 'self', 'sell', 'sell home', 'sell hous', 'seller', 'send', 'send ani', 'send back', 'send bill', 'send check', 'send collect', 'send copi', 'send document', 'send email', 'send inform', 'send letter', 'send money', 'send payment', 'send proof', 'send statement', 'send us', 'send xxxx', 'senior', 'sens', 'sensit', 'sent', 'sent ani', 'sent anoth', 'sent back', 'sent bill', 'sent certifi', 'sent check', 'sent collect', 'sent copi', 'sent credit', 'sent document', 'sent email', 'sent inform', 'sent letter', 'sent money', 'sent notic', 'sent payment', 'sent proof', 'sent request', 'sent sever', 'sent us', 'sent via', 'sent xxxx', 'sent xxxxxxxx', 'separ', 'seri', 'serious', 'serv', 'serv paper', 'server', 'servic', 'servic account', 'servic agent', 'servic call', 'servic compani', 'servic depart', 'servic inc', 'servic llc', 'servic loan', 'servic mortgag', 'servic never', 'servic number', 'servic provid', 'servic receiv', 'servic rep', 'servic repres', 'servic told', 'servic xxxx', 'set', 'set payment', 'set xxxx', 'seterus', 'settl', 'settl account', 'settl debt', 'settl xxxx', 'settlement', 'settlement agreement', 'setup', 'seven', 'seven year', 'sever', 'sever account', 'sever attempt', 'sever call', 'sever day', 'sever differ', 'sever month', 'sever occas', 'sever time', 'sever week', 'sever year', 'shadi', 'shall', 'share', 'sheet', 'sheriff', 'ship', 'shock', 'shop', 'short', 'short sale', 'shortag', 'shot', 'show', 'show account', 'show balanc', 'show credit', 'show late', 'show owe', 'show paid', 'show payment', 'show proof', 'show xxxx', 'shown', 'shut', 'sick', 'side', 'sign', 'sign ani', 'sign author', 'sign contract', 'sign document', 'sign loan', 'sign xxxx', 'signatur', 'signer', 'signific', 'similar', 'simpl', 'simpli', 'sinc', 'sinc account', 'sinc last', 'sinc loan', 'sinc never', 'sinc paid', 'sinc receiv', 'sinc time', 'sinc xxxx', 'sinc xxxxxxxx', 'sincer', 'sincer xxxx', 'singl', 'sir', 'sister', 'sit', 'site', 'situat', 'situat xxxx', 'six', 'six month', 'slip', 'slow', 'sls', 'small', 'smaller', 'social', 'social secur', 'sold', 'sold debt', 'sold loan', 'sold mortgag', 'sold xxxx', 'sole', 'solicit', 'solut', 'solv', 'somebodi', 'somehow', 'someon', 'someon els', 'someon would', 'someth', 'sometim', 'somewher', 'son', 'son xxxx', 'soon', 'soon possibl', 'sorri', 'sort', 'sought', 'sound', 'sound like', 'sourc', 'speak', 'speak manag', 'speak someon', 'speak supervisor', 'speak xxxx', 'special', 'specialist', 'specif', 'specifi', 'spend', 'spent', 'spent hour', 'spite', 'spoke', 'spoke repres', 'spoke someon', 'spoke supervisor', 'spoke xxxx', 'spoken', 'spoken xxxx', 'spous', 'sps', 'ss', 'ssn', 'st', 'staff', 'stall', 'stamp', 'stand', 'standard', 'star', 'start', 'start call', 'start get', 'start make', 'start pay', 'start process', 'start receiv', 'start xxxx', 'start xxxxxxxx', 'state', 'state account', 'state attorney', 'state call', 'state could', 'state credit', 'state debt', 'state feder', 'state go', 'state inform', 'state law', 'state loan', 'state need', 'state never', 'state onli', 'state owe', 'state payment', 'state receiv', 'state would', 'state xxxx', 'statement', 'statement account', 'statement credit', 'statement date', 'statement receiv', 'statement sent', 'statement show', 'statement xxxx', 'statu', 'statu limit', 'status', 'status account', 'status xxxx', 'statut', 'statut limit', 'stay', 'steal', 'step', 'still', 'still call', 'still charg', 'still continu', 'still credit', 'still get', 'still owe', 'still pay', 'still receiv', 'still refus', 'still report', 'still show', 'still tri', 'still wait', 'still xxxx', 'stipul', 'stole', 'stolen', 'stop', 'stop call', 'stop contact', 'stop harass', 'stop make', 'stop pay', 'stop payment', 'store', 'stori', 'straight', 'straighten', 'strang', 'street', 'stress', 'strong', 'struggl', 'stub', 'stuck', 'student', 'student loan', 'stuff', 'stupid', 'su', 'subject', 'submiss', 'submit', 'submit complaint', 'submit disput', 'submit document', 'submit request', 'submit xxxx', 'subsequ', 'substanti', 'success', 'sudden', 'sue', 'suffer', 'suffici', 'suggest', 'suit', 'sum', 'summari', 'summer', 'summon', 'sunday', 'suntrust', 'supervisor', 'supervisor told', 'supervisor xxxx', 'suppli', 'support', 'support document', 'suppos', 'sure', 'surpris', 'suspect', 'suspend', 'suspens', 'suspici', 'switch', 'synchroni', 'synchroni bank', 'system', 'system xxxx', 'tactic', 'take', 'take action', 'take advantag', 'take ani', 'take busi', 'take care', 'take court', 'take day', 'take home', 'take legal', 'take money', 'take payment', 'take place', 'take time', 'take xxxx', 'taken', 'taken account', 'taken advantag', 'taken care', 'taken xxxx', 'talk', 'talk someon', 'talk xxxx', 'target', 'tax', 'tax insur', 'tax lien', 'tax paid', 'tax return', 'tax xxxx', 'td', 'td bank', 'team', 'technic', 'telephon', 'telephon call', 'telephon number', 'tell', 'tell account', 'tell call', 'tell need', 'tell us', 'tell whi', 'tell xxxx', 'teller', 'temporari', 'ten', 'tenant', 'term', 'term condit', 'term loan', 'termin', 'terribl', 'texa', 'text', 'th', 'thank', 'thank advanc', 'thank time', 'thank xxxx', 'theft', 'themselv', 'thereaft', 'therebi', 'therefor', 'thing', 'think', 'third', 'third parti', 'thirti', 'thorough', 'though', 'though xxxx', 'thought', 'thousand', 'thousand dollar', 'threat', 'threaten', 'threaten legal', 'three', 'three credit', 'three day', 'three month', 'three time', 'three week', 'three year', 'throughout', 'thru', 'thru xxxx', 'thursday', 'thus', 'ticket', 'tie', 'till', 'time', 'time account', 'time also', 'time ask', 'time bank', 'time becaus', 'time call', 'time contact', 'time credit', 'time day', 'time disput', 'time even', 'time everi', 'time frame', 'time get', 'time last', 'time loan', 'time made', 'time make', 'time manner', 'time month', 'time need', 'time never', 'time onli', 'time past', 'time pay', 'time payment', 'time per', 'time period', 'time receiv', 'time request', 'time said', 'time sent', 'time sinc', 'time spoke', 'time time', 'time told', 'time tri', 'time well', 'time work', 'time would', 'time xxxx', 'time xxxxxxxx', 'time year', 'timelin', 'tire', 'titl', 'titl compani', 'today', 'today call', 'today receiv', 'today xxxx', 'today xxxxxxxx', 'togeth', 'told', 'told account', 'told bank', 'told becaus', 'told call', 'told contact', 'told could', 'told credit', 'told get', 'told go', 'told loan', 'told make', 'told need', 'told never', 'told noth', 'told onli', 'told owe', 'told pay', 'told payment', 'told receiv', 'told repres', 'told send', 'told us', 'told want', 'told would', 'told xxxx', 'toll', 'tomorrow', 'tone', 'took', 'took loan', 'took money', 'took place', 'took xxxx', 'top', 'total', 'total amount', 'total xxxx', 'touch', 'toward', 'town', 'track', 'track number', 'trade', 'trade commiss', 'trade line', 'tradelin', 'train', 'tran', 'tran union', 'transact', 'transact xxxx', 'transfer', 'transfer anoth', 'transfer fund', 'transfer loan', 'transfer money', 'transfer xxxx', 'transunion', 'transunion credit', 'transunion xxxx', 'travel', 'treat', 'treat like', 'treatment', 'tree', 'tree servic', 'tri', 'tri call', 'tri collect', 'tri contact', 'tri disput', 'tri explain', 'tri find', 'tri get', 'tri help', 'tri make', 'tri pay', 'tri reach', 'tri refin', 'tri resolv', 'tri use', 'tri work', 'trial', 'trial payment', 'trial period', 'trick', 'trip', 'troubl', 'truck', 'true', 'truli', 'trust', 'truste', 'truth', 'truth lend', 'tuesday', 'turn', 'turn collect', 'turn xxxx', 'twice', 'two', 'two day', 'two month', 'two week', 'two year', 'tx', 'tx xxxx', 'type', 'typic', 'ultim', 'un', 'unabl', 'unabl get', 'unabl make', 'unabl pay', 'unaccept', 'unauthor', 'unauthor charg', 'unauthor fraudul', 'unavail', 'unawar', 'understand', 'understand whi', 'understood', 'underwrit', 'unemploy', 'uneth', 'unfair', 'unfair decept', 'unfortun', 'union', 'unit', 'unit state', 'univers', 'univers xxxx', 'unknown', 'unlaw', 'unless', 'unnecessari', 'unpaid', 'unprofession', 'unreason', 'unsuccess', 'unsur', 'unverifi', 'unwil', 'updat', 'updat account', 'updat credit', 'updat inform', 'upgrad', 'upload', 'upon', 'upset', 'urgent', 'us', 'us bank', 'us pay', 'us would', 'us xxxx', 'usa', 'usaa', 'usc', 'use', 'use account', 'use card', 'use credit', 'use debit', 'use inform', 'use name', 'use pay', 'use person', 'use xxxx', 'user', 'usp', 'usual', 'util', 'util bill', 'va', 'va xxxx', 'vacat', 'vagu', 'valid', 'valid account', 'valid debt', 'valid letter', 'valid request', 'valu', 'various', 'vehicl', 'vehicl xxxx', 'vendor', 'verbal', 'veri', 'veri clear', 'veri difficult', 'veri frustrat', 'veri hard', 'veri much', 'veri rude', 'veri upset', 'verif', 'verif debt', 'verifi', 'verifi account', 'verifi debt', 'verifi ident', 'verifi inform', 'verifi valid', 'verifi xxxx', 'veteran', 'via', 'via certifi', 'via email', 'via fax', 'via mail', 'via phone', 'via xxxx', 'victim', 'victim ident', 'view', 'view credit', 'violat', 'violat fair', 'violat fcra', 'violat fdcpa', 'violat feder', 'violat law', 'violat right', 'visa', 'visit', 'voic', 'voic mail', 'voicemail', 'void', 'vs', 'wa', 'wage', 'wage garnish', 'wait', 'wait day', 'wait xxxx', 'waiv', 'walk', 'wallet', 'want', 'want account', 'want credit', 'want get', 'want help', 'want keep', 'want know', 'want make', 'want money', 'want pay', 'want remov', 'want xxxx', 'warn', 'warrant', 'warranti', 'wast', 'wast time', 'watch', 'water', 'way', 'way could', 'way get', 'way xxxx', 'web', 'web site', 'websit', 'websit xxxx', 'wednesday', 'week', 'week ago', 'week befor', 'week call', 'week later', 'week receiv', 'week xxxx', 'weekend', 'welcom', 'well', 'well fargo', 'well xxxx', 'went', 'went ahead', 'went back', 'went bank', 'went onlin', 'went xxxx', 'western', 'whatev', 'whatsoev', 'whenev', 'whether', 'whi', 'whi account', 'whi call', 'whi receiv', 'whi would', 'whi xxxx', 'whole', 'whose', 'wife', 'wife xxxx', 'window', 'wire', 'wire transfer', 'wish', 'wit', 'withdraw', 'withdrawn', 'withdrew', 'withhold', 'within', 'within busi', 'within day', 'within five', 'within hour', 'within month', 'within xxxx', 'without', 'without ani', 'without author', 'without consent', 'without knowledg', 'without notic', 'without permiss', 'wo', 'woman', 'wonder', 'wont', 'word', 'work', 'work call', 'work hard', 'work phone', 'work us', 'work xxxx', 'worker', 'world', 'worri', 'wors', 'worst', 'worth', 'worthi', 'would', 'would abl', 'would accept', 'would allow', 'would also', 'would appli', 'would appreci', 'would call', 'would charg', 'would close', 'would come', 'would contact', 'would continu', 'would correct', 'would credit', 'would file', 'would get', 'would give', 'would go', 'would great', 'would happen', 'would help', 'would issu', 'would let', 'would like', 'would look', 'would made', 'would make', 'would need', 'would never', 'would onli', 'would paid', 'would pay', 'would provid', 'would put', 'would receiv', 'would refund', 'would remov', 'would report', 'would return', 'would send', 'would sent', 'would still', 'would stop', 'would take', 'would taken', 'would tell', 'would work', 'would xxxx', 'write', 'write letter', 'write xxxx', 'written', 'written letter', 'written notic', 'written request', 'wrong', 'wrong address', 'wrong inform', 'wrote', 'wrote letter', 'xxxx', 'xxxx abl', 'xxxx accord', 'xxxx account', 'xxxx acct', 'xxxx actual', 'xxxx ad', 'xxxx addit', 'xxxx address', 'xxxx advis', 'xxxx agenc', 'xxxx agent', 'xxxx agre', 'xxxx allow', 'xxxx alreadi', 'xxxx also', 'xxxx amount', 'xxxx ani', 'xxxx anoth', 'xxxx answer', 'xxxx appear', 'xxxx appli', 'xxxx approv', 'xxxx around', 'xxxx ask', 'xxxx assist', 'xxxx assur', 'xxxx attach', 'xxxx attempt', 'xxxx attorney', 'xxxx author', 'xxxx back', 'xxxx balanc', 'xxxx bank', 'xxxx bankruptci', 'xxxx base', 'xxxx becaus', 'xxxx befor', 'xxxx began', 'xxxx believ', 'xxxx bill', 'xxxx bought', 'xxxx branch', 'xxxx bureaus', 'xxxx busi', 'xxxx ca', 'xxxx california', 'xxxx call', 'xxxx came', 'xxxx cancel', 'xxxx car', 'xxxx card', 'xxxx case', 'xxxx cash', 'xxxx chang', 'xxxx charg', 'xxxx chase', 'xxxx check', 'xxxx children', 'xxxx claim', 'xxxx clear', 'xxxx close', 'xxxx co', 'xxxx collect', 'xxxx colleg', 'xxxx compani', 'xxxx complaint', 'xxxx complet', 'xxxx confirm', 'xxxx consum', 'xxxx contact', 'xxxx continu', 'xxxx copi', 'xxxx correct', 'xxxx could', 'xxxx counti', 'xxxx court', 'xxxx credit', 'xxxx creditor', 'xxxx current', 'xxxx custom', 'xxxx date', 'xxxx day', 'xxxx debit', 'xxxx debt', 'xxxx decid', 'xxxx delet', 'xxxx deni', 'xxxx depart', 'xxxx deposit', 'xxxx differ', 'xxxx digit', 'xxxx direct', 'xxxx discov', 'xxxx disput', 'xxxx document', 'xxxx doe', 'xxxx dollar', 'xxxx done', 'xxxx due', 'xxxx dure', 'xxxx email', 'xxxx employe', 'xxxx end', 'xxxx equifax', 'xxxx even', 'xxxx everi', 'xxxx experian', 'xxxx explain', 'xxxx ext', 'xxxx fail', 'xxxx fax', 'xxxx feder', 'xxxx fee', 'xxxx feel', 'xxxx file', 'xxxx final', 'xxxx financ', 'xxxx financi', 'xxxx find', 'xxxx first', 'xxxx fl', 'xxxx florida', 'xxxx follow', 'xxxx form', 'xxxx found', 'xxxx fraud', 'xxxx fraudul', 'xxxx full', 'xxxx fund', 'xxxx ga', 'xxxx gave', 'xxxx get', 'xxxx give', 'xxxx given', 'xxxx go', 'xxxx got', 'xxxx hard', 'xxxx help', 'xxxx home', 'xxxx hospit', 'xxxx hour', 'xxxx hous', 'xxxx howev', 'xxxx husband', 'xxxx id', 'xxxx il', 'xxxx immedi', 'xxxx includ', 'xxxx incom', 'xxxx incorrect', 'xxxx indic', 'xxxx inform', 'xxxx initi', 'xxxx inquir', 'xxxx inquiri', 'xxxx instead', 'xxxx insur', 'xxxx interest', 'xxxx investig', 'xxxx issu', 'xxxx item', 'xxxx keep', 'xxxx know', 'xxxx last', 'xxxx late', 'xxxx later', 'xxxx law', 'xxxx left', 'xxxx legal', 'xxxx lender', 'xxxx letter', 'xxxx lien', 'xxxx list', 'xxxx live', 'xxxx loan', 'xxxx locat', 'xxxx longer', 'xxxx look', 'xxxx lost', 'xxxx made', 'xxxx mail', 'xxxx major', 'xxxx make', 'xxxx manag', 'xxxx mani', 'xxxx may', 'xxxx mile', 'xxxx minut', 'xxxx miss', 'xxxx modif', 'xxxx money', 'xxxx month', 'xxxx mortgag', 'xxxx move', 'xxxx name', 'xxxx nationstar', 'xxxx nc', 'xxxx need', 'xxxx never', 'xxxx new', 'xxxx next', 'xxxx nj', 'xxxx note', 'xxxx noth', 'xxxx notic', 'xxxx notifi', 'xxxx number', 'xxxx ny', 'xxxx occas', 'xxxx ocwen', 'xxxx offer', 'xxxx offic', 'xxxx onc', 'xxxx one', 'xxxx onli', 'xxxx onlin', 'xxxx open', 'xxxx order', 'xxxx origin', 'xxxx overdraft', 'xxxx owe', 'xxxx pa', 'xxxx page', 'xxxx paid', 'xxxx part', 'xxxx parti', 'xxxx past', 'xxxx pay', 'xxxx payment', 'xxxx peopl', 'xxxx per', 'xxxx person', 'xxxx phone', 'xxxx place', 'xxxx pleas', 'xxxx plus', 'xxxx point', 'xxxx polic', 'xxxx post', 'xxxx present', 'xxxx previous', 'xxxx prior', 'xxxx privat', 'xxxx problem', 'xxxx process', 'xxxx program', 'xxxx promis', 'xxxx properti', 'xxxx provid', 'xxxx purchas', 'xxxx put', 'xxxx question', 'xxxx reason', 'xxxx receiv', 'xxxx recent', 'xxxx record', 'xxxx refer', 'xxxx refus', 'xxxx regard', 'xxxx remov', 'xxxx rep', 'xxxx repeat', 'xxxx report', 'xxxx repres', 'xxxx request', 'xxxx requir', 'xxxx respond', 'xxxx respons', 'xxxx result', 'xxxx return', 'xxxx review', 'xxxx said', 'xxxx say', 'xxxx score', 'xxxx second', 'xxxx see', 'xxxx send', 'xxxx sent', 'xxxx separ', 'xxxx servic', 'xxxx set', 'xxxx sever', 'xxxx short', 'xxxx show', 'xxxx sign', 'xxxx sinc', 'xxxx social', 'xxxx sold', 'xxxx someon', 'xxxx speak', 'xxxx spoke', 'xxxx start', 'xxxx state', 'xxxx statement', 'xxxx still', 'xxxx stop', 'xxxx store', 'xxxx student', 'xxxx submit', 'xxxx supervisor', 'xxxx suppos', 'xxxx take', 'xxxx taken', 'xxxx talk', 'xxxx tax', 'xxxx tell', 'xxxx texa', 'xxxx thank', 'xxxx therefor', 'xxxx thing', 'xxxx think', 'xxxx time', 'xxxx today', 'xxxx told', 'xxxx took', 'xxxx total', 'xxxx transact', 'xxxx transfer', 'xxxx transunion', 'xxxx tri', 'xxxx turn', 'xxxx two', 'xxxx tx', 'xxxx unabl', 'xxxx understand', 'xxxx univers', 'xxxx upon', 'xxxx us', 'xxxx use', 'xxxx va', 'xxxx veri', 'xxxx verifi', 'xxxx veteran', 'xxxx via', 'xxxx violat', 'xxxx want', 'xxxx way', 'xxxx websit', 'xxxx week', 'xxxx well', 'xxxx went', 'xxxx whi', 'xxxx wife', 'xxxx without', 'xxxx work', 'xxxx would', 'xxxx xxxx', 'xxxx xxxxxxxx', 'xxxx xxxxxxxxxxxx', 'xxxx year', 'xxxx yet', 'xxxxi', 'xxxxmonth', 'xxxxxxxx', 'xxxxxxxx account', 'xxxxxxxx also', 'xxxxxxxx ask', 'xxxxxxxx bank', 'xxxxxxxx becaus', 'xxxxxxxx call', 'xxxxxxxx check', 'xxxxxxxx contact', 'xxxxxxxx credit', 'xxxxxxxx day', 'xxxxxxxx due', 'xxxxxxxx file', 'xxxxxxxx howev', 'xxxxxxxx inform', 'xxxxxxxx loan', 'xxxxxxxx made', 'xxxxxxxx mortgag', 'xxxxxxxx never', 'xxxxxxxx paid', 'xxxxxxxx payment', 'xxxxxxxx receiv', 'xxxxxxxx request', 'xxxxxxxx sent', 'xxxxxxxx sinc', 'xxxxxxxx spoke', 'xxxxxxxx state', 'xxxxxxxx still', 'xxxxxxxx time', 'xxxxxxxx told', 'xxxxxxxx tri', 'xxxxxxxx went', 'xxxxxxxx would', 'xxxxxxxx xxxx', 'xxxxxxxx xxxxxxxx', 'xxxxxxxxxxxx', 'xxxxxxxxxxxx receiv', 'xxxxxxxxxxxx xxxx', 'xxxxxxxxxxxx xxxxxxxxxxxx', 'year', 'year ago', 'year get', 'year later', 'year loan', 'year mortgag', 'year never', 'year old', 'year pay', 'year receiv', 'year sinc', 'year time', 'year tri', 'year xxxx', 'year xxxxxxxx', 'yell', 'yes', 'yesterday', 'yet', 'yet anoth', 'yet continu', 'yet receiv', 'yet still', 'yet xxxx', 'york', 'young', 'yr', 'yrs', 'zero', 'zero balanc']\n"
     ]
    }
   ],
   "source": [
    "print(feat_text)"
   ]
  },
  {
   "cell_type": "code",
   "execution_count": 25,
   "id": "edf5fa9b",
   "metadata": {},
   "outputs": [],
   "source": [
    "#Saving the combined features into an NPZ file\n",
    "sparse.save_npz(\"./bin/tfidf/X_text.npz\", X_text)"
   ]
  },
  {
   "cell_type": "markdown",
   "id": "dae7f1a7",
   "metadata": {},
   "source": [
    "## Stratified shuffle split data into training and test datasets"
   ]
  },
  {
   "cell_type": "code",
   "execution_count": 26,
   "id": "5a991dd2",
   "metadata": {},
   "outputs": [],
   "source": [
    "df['target'] = df['label'].astype('category').cat.codes  ## better way to factorize problem code to cat IDs"
   ]
  },
  {
   "cell_type": "code",
   "execution_count": 27,
   "id": "11601b71",
   "metadata": {},
   "outputs": [
    {
     "name": "stdout",
     "output_type": "stream",
     "text": [
      "(66806, 5000)\n",
      "(66806,)\n"
     ]
    }
   ],
   "source": [
    "y = df['target'].values\n",
    "print(X_text.shape)\n",
    "print(y.shape)"
   ]
  },
  {
   "cell_type": "code",
   "execution_count": 28,
   "id": "a633b9c6",
   "metadata": {},
   "outputs": [
    {
     "data": {
      "text/plain": [
       "4     17552\n",
       "6     14919\n",
       "3     12526\n",
       "2      7929\n",
       "0      5711\n",
       "1      3678\n",
       "10     2128\n",
       "9       861\n",
       "8       726\n",
       "5       666\n",
       "7       110\n",
       "Name: target, dtype: int64"
      ]
     },
     "execution_count": 28,
     "metadata": {},
     "output_type": "execute_result"
    }
   ],
   "source": [
    "df['target'].value_counts()"
   ]
  },
  {
   "cell_type": "code",
   "execution_count": 29,
   "id": "23c2f7c3",
   "metadata": {},
   "outputs": [],
   "source": [
    "# Use stratified shuffle split to keep same class proportions in train and test data.\n",
    "sss = StratifiedShuffleSplit(n_splits=2, test_size=0.2, random_state=2022)"
   ]
  },
  {
   "cell_type": "code",
   "execution_count": 30,
   "id": "76697a24",
   "metadata": {},
   "outputs": [
    {
     "name": "stdout",
     "output_type": "stream",
     "text": [
      "TRAIN: [21552 17614 26675 ... 21287 55579 26041] TEST: [38106 56208   152 ... 62311   397 32064]\n",
      "TRAIN: [31334 33221 32682 ... 43019 57821  1023] TEST: [45340 25255 49937 ...  9552 47021 23457]\n"
     ]
    }
   ],
   "source": [
    "for train_index, test_index in sss.split(X_text, y):\n",
    "    print(\"TRAIN:\", train_index, \"TEST:\", test_index)\n",
    "    X_train, X_test = X_text[train_index], X_text[test_index]\n",
    "    y_train, y_test = y[train_index], y[test_index]"
   ]
  },
  {
   "cell_type": "code",
   "execution_count": 31,
   "id": "a2d43096",
   "metadata": {},
   "outputs": [
    {
     "name": "stdout",
     "output_type": "stream",
     "text": [
      "Testing accuracy 0.8466546924113156\n",
      "Testing f1 score 0.8421756973639463\n"
     ]
    },
    {
     "data": {
      "text/html": [
       "<div>\n",
       "<style scoped>\n",
       "    .dataframe tbody tr th:only-of-type {\n",
       "        vertical-align: middle;\n",
       "    }\n",
       "\n",
       "    .dataframe tbody tr th {\n",
       "        vertical-align: top;\n",
       "    }\n",
       "\n",
       "    .dataframe thead th {\n",
       "        text-align: right;\n",
       "    }\n",
       "</style>\n",
       "<table border=\"1\" class=\"dataframe\">\n",
       "  <thead>\n",
       "    <tr style=\"text-align: right;\">\n",
       "      <th></th>\n",
       "      <th>precision</th>\n",
       "      <th>recall</th>\n",
       "      <th>f1-score</th>\n",
       "      <th>support</th>\n",
       "    </tr>\n",
       "  </thead>\n",
       "  <tbody>\n",
       "    <tr>\n",
       "      <th>0</th>\n",
       "      <td>0.794783</td>\n",
       "      <td>0.800350</td>\n",
       "      <td>0.797557</td>\n",
       "      <td>1142.000000</td>\n",
       "    </tr>\n",
       "    <tr>\n",
       "      <th>1</th>\n",
       "      <td>0.767007</td>\n",
       "      <td>0.612772</td>\n",
       "      <td>0.681269</td>\n",
       "      <td>736.000000</td>\n",
       "    </tr>\n",
       "    <tr>\n",
       "      <th>2</th>\n",
       "      <td>0.811344</td>\n",
       "      <td>0.829760</td>\n",
       "      <td>0.820449</td>\n",
       "      <td>1586.000000</td>\n",
       "    </tr>\n",
       "    <tr>\n",
       "      <th>3</th>\n",
       "      <td>0.852309</td>\n",
       "      <td>0.854691</td>\n",
       "      <td>0.853498</td>\n",
       "      <td>2505.000000</td>\n",
       "    </tr>\n",
       "    <tr>\n",
       "      <th>4</th>\n",
       "      <td>0.821943</td>\n",
       "      <td>0.894047</td>\n",
       "      <td>0.856480</td>\n",
       "      <td>3511.000000</td>\n",
       "    </tr>\n",
       "    <tr>\n",
       "      <th>5</th>\n",
       "      <td>0.766234</td>\n",
       "      <td>0.443609</td>\n",
       "      <td>0.561905</td>\n",
       "      <td>133.000000</td>\n",
       "    </tr>\n",
       "    <tr>\n",
       "      <th>6</th>\n",
       "      <td>0.926230</td>\n",
       "      <td>0.946716</td>\n",
       "      <td>0.936361</td>\n",
       "      <td>2984.000000</td>\n",
       "    </tr>\n",
       "    <tr>\n",
       "      <th>7</th>\n",
       "      <td>1.000000</td>\n",
       "      <td>0.000000</td>\n",
       "      <td>0.000000</td>\n",
       "      <td>22.000000</td>\n",
       "    </tr>\n",
       "    <tr>\n",
       "      <th>8</th>\n",
       "      <td>0.693878</td>\n",
       "      <td>0.234483</td>\n",
       "      <td>0.350515</td>\n",
       "      <td>145.000000</td>\n",
       "    </tr>\n",
       "    <tr>\n",
       "      <th>9</th>\n",
       "      <td>0.818182</td>\n",
       "      <td>0.680233</td>\n",
       "      <td>0.742857</td>\n",
       "      <td>172.000000</td>\n",
       "    </tr>\n",
       "    <tr>\n",
       "      <th>10</th>\n",
       "      <td>0.900568</td>\n",
       "      <td>0.744131</td>\n",
       "      <td>0.814910</td>\n",
       "      <td>426.000000</td>\n",
       "    </tr>\n",
       "    <tr>\n",
       "      <th>accuracy</th>\n",
       "      <td>0.846655</td>\n",
       "      <td>0.846655</td>\n",
       "      <td>0.846655</td>\n",
       "      <td>0.846655</td>\n",
       "    </tr>\n",
       "    <tr>\n",
       "      <th>macro avg</th>\n",
       "      <td>0.832043</td>\n",
       "      <td>0.640072</td>\n",
       "      <td>0.674164</td>\n",
       "      <td>13362.000000</td>\n",
       "    </tr>\n",
       "    <tr>\n",
       "      <th>weighted avg</th>\n",
       "      <td>0.845127</td>\n",
       "      <td>0.846655</td>\n",
       "      <td>0.842176</td>\n",
       "      <td>13362.000000</td>\n",
       "    </tr>\n",
       "  </tbody>\n",
       "</table>\n",
       "</div>"
      ],
      "text/plain": [
       "              precision    recall  f1-score       support\n",
       "0              0.794783  0.800350  0.797557   1142.000000\n",
       "1              0.767007  0.612772  0.681269    736.000000\n",
       "2              0.811344  0.829760  0.820449   1586.000000\n",
       "3              0.852309  0.854691  0.853498   2505.000000\n",
       "4              0.821943  0.894047  0.856480   3511.000000\n",
       "5              0.766234  0.443609  0.561905    133.000000\n",
       "6              0.926230  0.946716  0.936361   2984.000000\n",
       "7              1.000000  0.000000  0.000000     22.000000\n",
       "8              0.693878  0.234483  0.350515    145.000000\n",
       "9              0.818182  0.680233  0.742857    172.000000\n",
       "10             0.900568  0.744131  0.814910    426.000000\n",
       "accuracy       0.846655  0.846655  0.846655      0.846655\n",
       "macro avg      0.832043  0.640072  0.674164  13362.000000\n",
       "weighted avg   0.845127  0.846655  0.842176  13362.000000"
      ]
     },
     "execution_count": 31,
     "metadata": {},
     "output_type": "execute_result"
    }
   ],
   "source": [
    "# Baseline label classifier with logistic regression - minimal params\n",
    "\n",
    "log_base = LogisticRegression(\n",
    "    max_iter=10000,\n",
    "    random_state=2022\n",
    ")\n",
    "\n",
    "log_base.fit(X_train, y_train)\n",
    "\n",
    "y_pred = log_base.predict(X_test)\n",
    "print('Testing accuracy %s' % accuracy_score(y_test, y_pred))\n",
    "print('Testing f1 score %s' % f1_score(y_test, y_pred, average='weighted'))\n",
    "cm_log_base = confusion_matrix(y_test, y_pred) # can use to make heatmap\n",
    "cr_log_base = pd.DataFrame(classification_report(y_test, y_pred, zero_division=1, output_dict=True)).T #, average= 'weighted')\n",
    "cr_log_base"
   ]
  },
  {
   "cell_type": "code",
   "execution_count": 32,
   "id": "d2d118d3",
   "metadata": {},
   "outputs": [
    {
     "data": {
      "image/png": "[encoded data removed]",
      "text/plain": [
       "<Figure size 720x720 with 2 Axes>"
      ]
     },
     "metadata": {
      "needs_background": "light"
     },
     "output_type": "display_data"
    }
   ],
   "source": [
    "#Plotting the confusion matrix as heatmap\n",
    "plt.figure(figsize=(10,10))\n",
    "sns.heatmap(cm_log_base, annot=True, cmap='viridis') # cmap='crest')#, linewidth=.1)#, annot=True)\n",
    "plt.title('Confusion Matrix - Logistic Regression Model - Baseline')\n",
    "plt.ylabel('Actual Values')\n",
    "plt.xlabel('Predicted Values')\n",
    "plt.show()"
   ]
  },
  {
   "cell_type": "markdown",
   "id": "9f54abbf",
   "metadata": {},
   "source": [
    "- ### Baseline logistic regression performs well with accuracy and f1 score ~84%"
   ]
  },
  {
   "cell_type": "markdown",
   "id": "5919fdde",
   "metadata": {},
   "source": [
    "# Try hyperparameter optimization for the logistic regression model"
   ]
  },
  {
   "cell_type": "code",
   "execution_count": 33,
   "id": "2f04b801",
   "metadata": {},
   "outputs": [],
   "source": [
    "# Optimize logistic regression classifier with optuna\n",
    "def log_objective(trial):\n",
    "    #penalty = trial.suggest_categorical(\"penalty\", [\"l2\", \"l1\", \"elasticnet\", \"none\"]) #use defaut l2 penalty\n",
    "    tol = trial.suggest_float(\"tol\", 0.0001, 0.0091, step=0.001, log=False)\n",
    "    C = trial.suggest_float(\"C\", 0.1, 1.0, step=0.1, log=False)\n",
    "    #fit_intercept = trial.suggest_categorical(\"fit_intercept\", [\"True\", \"False\"])\n",
    "    class_weight = trial.suggest_categorical(\"class_weight\", [\"balanced\", None])\n",
    "    solver = trial.suggest_categorical(\"solver\", [\"newton-cg\", \"lbfgs\", \"sag\", \"saga\"]) #\"liblinear\", \n",
    "    n_jobs = trial.suggest_int(\"n_jobs\", 1, 12, step=1, log=False)\n",
    "    #l1_ratio = trial.suggest_float(\"l1_ratio\", 0.1, 1.0, step=0.1, log=False) ## only used by elasticnet\n",
    "        \n",
    "    ## Create Model\n",
    "    log = LogisticRegression(tol=tol, C=C, class_weight=class_weight, solver=solver, n_jobs=n_jobs,\n",
    "                            max_iter=10000, multi_class = \"multinomial\", random_state = 2022) #fit_intercept=fit_intercept, l1_ratio=l1_ratio, warm_start=True\n",
    "    ## Fit Model\n",
    "    log.fit(X_train, y_train)\n",
    "\n",
    "    return accuracy_score(y_test, log.predict(X_test))"
   ]
  },
  {
   "cell_type": "code",
   "execution_count": 34,
   "id": "9d2eeac7",
   "metadata": {},
   "outputs": [
    {
     "name": "stderr",
     "output_type": "stream",
     "text": [
      "\u001b[32m[I 2022-11-28 11:44:40,982]\u001b[0m A new study created in memory with name: Logistic Regression Classifier\u001b[0m\n",
      "\u001b[32m[I 2022-11-28 11:44:53,880]\u001b[0m Trial 0 finished with value: 0.8451579104924413 and parameters: {'tol': 0.0011, 'C': 0.8, 'class_weight': None, 'solver': 'newton-cg', 'n_jobs': 7}. Best is trial 0 with value: 0.8451579104924413.\u001b[0m\n",
      "\u001b[32m[I 2022-11-28 11:45:06,661]\u001b[0m Trial 1 finished with value: 0.846579853315372 and parameters: {'tol': 0.0021, 'C': 1.0, 'class_weight': None, 'solver': 'newton-cg', 'n_jobs': 4}. Best is trial 1 with value: 0.846579853315372.\u001b[0m\n",
      "\u001b[32m[I 2022-11-28 11:45:15,534]\u001b[0m Trial 2 finished with value: 0.8285436311929352 and parameters: {'tol': 0.0041, 'C': 0.9, 'class_weight': 'balanced', 'solver': 'newton-cg', 'n_jobs': 1}. Best is trial 1 with value: 0.846579853315372.\u001b[0m\n",
      "c:\\Users\\schellr2\\Anaconda3\\lib\\site-packages\\sklearn\\linear_model\\_sag.py:350: ConvergenceWarning: The max_iter was reached which means the coef_ did not converge\n",
      "  warnings.warn(\n",
      "\u001b[32m[I 2022-11-28 12:09:40,565]\u001b[0m Trial 3 finished with value: 0.800404131118096 and parameters: {'tol': 0.0071, 'C': 0.6, 'class_weight': 'balanced', 'solver': 'sag', 'n_jobs': 6}. Best is trial 1 with value: 0.846579853315372.\u001b[0m\n",
      "\u001b[32m[I 2022-11-28 12:09:54,250]\u001b[0m Trial 4 finished with value: 0.846579853315372 and parameters: {'tol': 0.0031, 'C': 1.0, 'class_weight': None, 'solver': 'newton-cg', 'n_jobs': 10}. Best is trial 1 with value: 0.846579853315372.\u001b[0m\n",
      "\u001b[32m[I 2022-11-28 12:09:56,382]\u001b[0m Trial 5 finished with value: 0.8446340368208352 and parameters: {'tol': 0.0011, 'C': 0.7000000000000001, 'class_weight': None, 'solver': 'sag', 'n_jobs': 9}. Best is trial 1 with value: 0.846579853315372.\u001b[0m\n",
      "\u001b[32m[I 2022-11-28 12:10:07,748]\u001b[0m Trial 6 finished with value: 0.8262984583146236 and parameters: {'tol': 0.0011, 'C': 0.2, 'class_weight': None, 'solver': 'newton-cg', 'n_jobs': 6}. Best is trial 1 with value: 0.846579853315372.\u001b[0m\n",
      "\u001b[32m[I 2022-11-28 12:10:09,676]\u001b[0m Trial 7 finished with value: 0.8075886843286934 and parameters: {'tol': 0.0001, 'C': 0.1, 'class_weight': None, 'solver': 'sag', 'n_jobs': 5}. Best is trial 1 with value: 0.846579853315372.\u001b[0m\n",
      "c:\\Users\\schellr2\\Anaconda3\\lib\\site-packages\\sklearn\\linear_model\\_sag.py:350: ConvergenceWarning: The max_iter was reached which means the coef_ did not converge\n",
      "  warnings.warn(\n",
      "\u001b[32m[I 2022-11-28 12:38:09,445]\u001b[0m Trial 8 finished with value: 0.5386918126029038 and parameters: {'tol': 0.0061, 'C': 0.7000000000000001, 'class_weight': 'balanced', 'solver': 'saga', 'n_jobs': 4}. Best is trial 1 with value: 0.846579853315372.\u001b[0m\n",
      "\u001b[32m[I 2022-11-28 12:38:13,339]\u001b[0m Trial 9 finished with value: 0.845756623259991 and parameters: {'tol': 0.0001, 'C': 0.9, 'class_weight': None, 'solver': 'saga', 'n_jobs': 2}. Best is trial 1 with value: 0.846579853315372.\u001b[0m\n"
     ]
    }
   ],
   "source": [
    "log_study = optuna.create_study(study_name=\"Logistic Regression Classifier\", direction=\"maximize\")\n",
    "log_study.optimize(log_objective, n_trials=10)"
   ]
  },
  {
   "cell_type": "code",
   "execution_count": 35,
   "id": "e1a37963",
   "metadata": {},
   "outputs": [
    {
     "name": "stdout",
     "output_type": "stream",
     "text": [
      "Best Params: {'tol': 0.0021, 'C': 1.0, 'class_weight': None, 'solver': 'newton-cg', 'n_jobs': 4}\n",
      "\n",
      "Best Accuracy: 0.846579853315372\n"
     ]
    }
   ],
   "source": [
    "print(\"Best Params: {}\".format(log_study.best_params))\n",
    "print(\"\\nBest Accuracy: {}\".format(log_study.best_value))"
   ]
  },
  {
   "cell_type": "code",
   "execution_count": 36,
   "id": "116eee6b",
   "metadata": {},
   "outputs": [
    {
     "name": "stdout",
     "output_type": "stream",
     "text": [
      "Logistic Regression Accuracy on Train Dataset: 0.8850198338447721\n",
      "\n",
      "Logistic Regression Accuracy on Test Dataset: 0.846579853315372\n",
      "#####################\n",
      "\n",
      "Logistic Regression F1 Score on Train Dataset: 0.8821859457433873\n",
      "\n",
      "Logistic Regression F1 Score on Test Dataset: 0.8421025002556072\n"
     ]
    },
    {
     "data": {
      "text/html": [
       "<div>\n",
       "<style scoped>\n",
       "    .dataframe tbody tr th:only-of-type {\n",
       "        vertical-align: middle;\n",
       "    }\n",
       "\n",
       "    .dataframe tbody tr th {\n",
       "        vertical-align: top;\n",
       "    }\n",
       "\n",
       "    .dataframe thead th {\n",
       "        text-align: right;\n",
       "    }\n",
       "</style>\n",
       "<table border=\"1\" class=\"dataframe\">\n",
       "  <thead>\n",
       "    <tr style=\"text-align: right;\">\n",
       "      <th></th>\n",
       "      <th>precision</th>\n",
       "      <th>recall</th>\n",
       "      <th>f1-score</th>\n",
       "      <th>support</th>\n",
       "    </tr>\n",
       "  </thead>\n",
       "  <tbody>\n",
       "    <tr>\n",
       "      <th>0</th>\n",
       "      <td>0.794783</td>\n",
       "      <td>0.800350</td>\n",
       "      <td>0.797557</td>\n",
       "      <td>1142.00000</td>\n",
       "    </tr>\n",
       "    <tr>\n",
       "      <th>1</th>\n",
       "      <td>0.767007</td>\n",
       "      <td>0.612772</td>\n",
       "      <td>0.681269</td>\n",
       "      <td>736.00000</td>\n",
       "    </tr>\n",
       "    <tr>\n",
       "      <th>2</th>\n",
       "      <td>0.810844</td>\n",
       "      <td>0.829760</td>\n",
       "      <td>0.820193</td>\n",
       "      <td>1586.00000</td>\n",
       "    </tr>\n",
       "    <tr>\n",
       "      <th>3</th>\n",
       "      <td>0.852250</td>\n",
       "      <td>0.854291</td>\n",
       "      <td>0.853270</td>\n",
       "      <td>2505.00000</td>\n",
       "    </tr>\n",
       "    <tr>\n",
       "      <th>4</th>\n",
       "      <td>0.821943</td>\n",
       "      <td>0.894047</td>\n",
       "      <td>0.856480</td>\n",
       "      <td>3511.00000</td>\n",
       "    </tr>\n",
       "    <tr>\n",
       "      <th>5</th>\n",
       "      <td>0.766234</td>\n",
       "      <td>0.443609</td>\n",
       "      <td>0.561905</td>\n",
       "      <td>133.00000</td>\n",
       "    </tr>\n",
       "    <tr>\n",
       "      <th>6</th>\n",
       "      <td>0.926230</td>\n",
       "      <td>0.946716</td>\n",
       "      <td>0.936361</td>\n",
       "      <td>2984.00000</td>\n",
       "    </tr>\n",
       "    <tr>\n",
       "      <th>7</th>\n",
       "      <td>1.000000</td>\n",
       "      <td>0.000000</td>\n",
       "      <td>0.000000</td>\n",
       "      <td>22.00000</td>\n",
       "    </tr>\n",
       "    <tr>\n",
       "      <th>8</th>\n",
       "      <td>0.693878</td>\n",
       "      <td>0.234483</td>\n",
       "      <td>0.350515</td>\n",
       "      <td>145.00000</td>\n",
       "    </tr>\n",
       "    <tr>\n",
       "      <th>9</th>\n",
       "      <td>0.818182</td>\n",
       "      <td>0.680233</td>\n",
       "      <td>0.742857</td>\n",
       "      <td>172.00000</td>\n",
       "    </tr>\n",
       "    <tr>\n",
       "      <th>10</th>\n",
       "      <td>0.900568</td>\n",
       "      <td>0.744131</td>\n",
       "      <td>0.814910</td>\n",
       "      <td>426.00000</td>\n",
       "    </tr>\n",
       "    <tr>\n",
       "      <th>accuracy</th>\n",
       "      <td>0.846580</td>\n",
       "      <td>0.846580</td>\n",
       "      <td>0.846580</td>\n",
       "      <td>0.84658</td>\n",
       "    </tr>\n",
       "    <tr>\n",
       "      <th>macro avg</th>\n",
       "      <td>0.831992</td>\n",
       "      <td>0.640036</td>\n",
       "      <td>0.674120</td>\n",
       "      <td>13362.00000</td>\n",
       "    </tr>\n",
       "    <tr>\n",
       "      <th>weighted avg</th>\n",
       "      <td>0.845057</td>\n",
       "      <td>0.846580</td>\n",
       "      <td>0.842103</td>\n",
       "      <td>13362.00000</td>\n",
       "    </tr>\n",
       "  </tbody>\n",
       "</table>\n",
       "</div>"
      ],
      "text/plain": [
       "              precision    recall  f1-score      support\n",
       "0              0.794783  0.800350  0.797557   1142.00000\n",
       "1              0.767007  0.612772  0.681269    736.00000\n",
       "2              0.810844  0.829760  0.820193   1586.00000\n",
       "3              0.852250  0.854291  0.853270   2505.00000\n",
       "4              0.821943  0.894047  0.856480   3511.00000\n",
       "5              0.766234  0.443609  0.561905    133.00000\n",
       "6              0.926230  0.946716  0.936361   2984.00000\n",
       "7              1.000000  0.000000  0.000000     22.00000\n",
       "8              0.693878  0.234483  0.350515    145.00000\n",
       "9              0.818182  0.680233  0.742857    172.00000\n",
       "10             0.900568  0.744131  0.814910    426.00000\n",
       "accuracy       0.846580  0.846580  0.846580      0.84658\n",
       "macro avg      0.831992  0.640036  0.674120  13362.00000\n",
       "weighted avg   0.845057  0.846580  0.842103  13362.00000"
      ]
     },
     "execution_count": 36,
     "metadata": {},
     "output_type": "execute_result"
    }
   ],
   "source": [
    "log_clf = LogisticRegression(**log_study.best_params)\n",
    "log_clf.fit(X_train, y_train)\n",
    "\n",
    "y_pred_train = log_clf.predict(X_train)\n",
    "y_pred_test = log_clf.predict(X_test)\n",
    "\n",
    "log_train_acc = accuracy_score(y_train, y_pred_train)\n",
    "log_test_acc = accuracy_score(y_test, y_pred_test)\n",
    "\n",
    "log_train_f1 = f1_score(y_train, y_pred_train, average='weighted')\n",
    "log_test_f1 = f1_score(y_test, y_pred_test, average='weighted')\n",
    "\n",
    "print(\"Logistic Regression Accuracy on Train Dataset: {}\".format(log_train_acc))\n",
    "print(\"\\nLogistic Regression Accuracy on Test Dataset: {}\".format(log_test_acc))\n",
    "print(\"#####################\")\n",
    "print(\"\\nLogistic Regression F1 Score on Train Dataset: {}\".format(log_train_f1))\n",
    "print(\"\\nLogistic Regression F1 Score on Test Dataset: {}\".format(log_test_f1))\n",
    "\n",
    "# Create Test Confusion Matrix and Classification Report\n",
    "cm_log = confusion_matrix(y_test, y_pred_test) # can use to make heatmap\n",
    "cr_log = pd.DataFrame(classification_report(y_test, y_pred_test, zero_division=1, output_dict=True)).T #, average= 'weighted')\n",
    "cr_log"
   ]
  },
  {
   "cell_type": "code",
   "execution_count": 37,
   "id": "f808ca6f",
   "metadata": {},
   "outputs": [
    {
     "data": {
      "image/png": "[encoded data removed]",
      "text/plain": [
       "<Figure size 720x720 with 2 Axes>"
      ]
     },
     "metadata": {
      "needs_background": "light"
     },
     "output_type": "display_data"
    }
   ],
   "source": [
    "# Plotting the confusion matrix as heatmap\n",
    "plt.figure(figsize=(10,10))\n",
    "sns.heatmap(cm_log, annot=True, cmap='viridis') #, cmap='crest')#, linewidth=.1)#, annot=True)\n",
    "plt.title('Confusion Matrix - Logistic Regression Model')\n",
    "plt.ylabel('Actual Values')\n",
    "plt.xlabel('Predicted Values')\n",
    "plt.show()"
   ]
  },
  {
   "cell_type": "markdown",
   "id": "05a49663",
   "metadata": {},
   "source": [
    "- ### Hyperparameter optimization with Optuna did not exhibit much improvement for logistic regression classification accuracy and f1 score.\n",
    "- ### Slight evidence of overfitting with higher metrics on training data."
   ]
  },
  {
   "cell_type": "markdown",
   "id": "5065bb29",
   "metadata": {},
   "source": [
    "# Try other classification model types with hyperparameter optimization"
   ]
  },
  {
   "cell_type": "markdown",
   "id": "b91c3aac",
   "metadata": {},
   "source": [
    "## Passive Aggressive Classifier"
   ]
  },
  {
   "cell_type": "code",
   "execution_count": 39,
   "id": "2f04b801",
   "metadata": {},
   "outputs": [],
   "source": [
    "# Optimize passive aggressive classifier with optuna\n",
    "def pac_objective(trial):\n",
    "    C = trial.suggest_float(\"C\", 0.1, 1.0, step=0.1, log=False)\n",
    "    tol = trial.suggest_float(\"tol\", 0.001, 0.01, step=0.001, log=False)\n",
    "    loss = trial.suggest_categorical(\"loss\", [\"hinge\", \"squared_hinge\"])\n",
    "    n_jobs = trial.suggest_int(\"n_jobs\", 1, 12, step=1, log=False)\n",
    "    class_weight = trial.suggest_categorical(\"class_weight\", [\"balanced\", None])\n",
    "            \n",
    "    ## Create Model\n",
    "    pac = PassiveAggressiveClassifier(C=C, tol=tol, loss=loss, n_jobs=n_jobs, \n",
    "                class_weight=class_weight, max_iter=10000, random_state = 2022) \n",
    "\n",
    "    ## Fit Model\n",
    "    pac.fit(X_train, y_train)\n",
    "\n",
    "    return accuracy_score(y_test, pac.predict(X_test))"
   ]
  },
  {
   "cell_type": "code",
   "execution_count": 40,
   "id": "9d2eeac7",
   "metadata": {},
   "outputs": [
    {
     "name": "stderr",
     "output_type": "stream",
     "text": [
      "\u001b[32m[I 2022-11-28 12:38:28,304]\u001b[0m A new study created in memory with name: Passive Aggressive Classifier\u001b[0m\n",
      "\u001b[32m[I 2022-11-28 12:38:28,713]\u001b[0m Trial 0 finished with value: 0.8479269570423589 and parameters: {'C': 0.2, 'tol': 0.007, 'loss': 'hinge', 'n_jobs': 12, 'class_weight': None}. Best is trial 0 with value: 0.8479269570423589.\u001b[0m\n",
      "\u001b[32m[I 2022-11-28 12:38:29,779]\u001b[0m Trial 1 finished with value: 0.806615776081425 and parameters: {'C': 0.7000000000000001, 'tol': 0.001, 'loss': 'hinge', 'n_jobs': 7, 'class_weight': 'balanced'}. Best is trial 0 with value: 0.8479269570423589.\u001b[0m\n",
      "\u001b[32m[I 2022-11-28 12:38:30,536]\u001b[0m Trial 2 finished with value: 0.807663523424637 and parameters: {'C': 0.8, 'tol': 0.003, 'loss': 'squared_hinge', 'n_jobs': 4, 'class_weight': None}. Best is trial 0 with value: 0.8479269570423589.\u001b[0m\n",
      "\u001b[32m[I 2022-11-28 12:38:31,048]\u001b[0m Trial 3 finished with value: 0.8259991019308487 and parameters: {'C': 0.5, 'tol': 0.004, 'loss': 'hinge', 'n_jobs': 10, 'class_weight': 'balanced'}. Best is trial 0 with value: 0.8479269570423589.\u001b[0m\n",
      "\u001b[32m[I 2022-11-28 12:38:32,022]\u001b[0m Trial 4 finished with value: 0.82884298757671 and parameters: {'C': 0.5, 'tol': 0.002, 'loss': 'hinge', 'n_jobs': 3, 'class_weight': None}. Best is trial 0 with value: 0.8479269570423589.\u001b[0m\n",
      "\u001b[32m[I 2022-11-28 12:38:32,454]\u001b[0m Trial 5 finished with value: 0.8156713066906152 and parameters: {'C': 0.8, 'tol': 0.01, 'loss': 'squared_hinge', 'n_jobs': 8, 'class_weight': None}. Best is trial 0 with value: 0.8479269570423589.\u001b[0m\n",
      "\u001b[32m[I 2022-11-28 12:38:32,819]\u001b[0m Trial 6 finished with value: 0.8193384223918575 and parameters: {'C': 0.8, 'tol': 0.009000000000000001, 'loss': 'hinge', 'n_jobs': 11, 'class_weight': 'balanced'}. Best is trial 0 with value: 0.8479269570423589.\u001b[0m\n",
      "\u001b[32m[I 2022-11-28 12:38:33,514]\u001b[0m Trial 7 finished with value: 0.7989073491992217 and parameters: {'C': 0.7000000000000001, 'tol': 0.004, 'loss': 'squared_hinge', 'n_jobs': 4, 'class_weight': 'balanced'}. Best is trial 0 with value: 0.8479269570423589.\u001b[0m\n",
      "\u001b[32m[I 2022-11-28 12:38:34,136]\u001b[0m Trial 8 finished with value: 0.8274958838497231 and parameters: {'C': 0.7000000000000001, 'tol': 0.004, 'loss': 'hinge', 'n_jobs': 4, 'class_weight': None}. Best is trial 0 with value: 0.8479269570423589.\u001b[0m\n",
      "\u001b[32m[I 2022-11-28 12:38:34,670]\u001b[0m Trial 9 finished with value: 0.8152222721149529 and parameters: {'C': 0.7000000000000001, 'tol': 0.006, 'loss': 'squared_hinge', 'n_jobs': 5, 'class_weight': None}. Best is trial 0 with value: 0.8479269570423589.\u001b[0m\n"
     ]
    }
   ],
   "source": [
    "pac_study = optuna.create_study(study_name=\"Passive Aggressive Classifier\", direction=\"maximize\")\n",
    "pac_study.optimize(pac_objective, n_trials=10)"
   ]
  },
  {
   "cell_type": "code",
   "execution_count": 41,
   "id": "e1a37963",
   "metadata": {},
   "outputs": [
    {
     "name": "stdout",
     "output_type": "stream",
     "text": [
      "Best Params: {'C': 0.2, 'tol': 0.007, 'loss': 'hinge', 'n_jobs': 12, 'class_weight': None}\n",
      "\n",
      "Best Accuracy: 0.8479269570423589\n"
     ]
    }
   ],
   "source": [
    "print(\"Best Params: {}\".format(pac_study.best_params))\n",
    "print(\"\\nBest Accuracy: {}\".format(pac_study.best_value))"
   ]
  },
  {
   "cell_type": "code",
   "execution_count": 42,
   "id": "116eee6b",
   "metadata": {},
   "outputs": [
    {
     "name": "stdout",
     "output_type": "stream",
     "text": [
      "Passive Aggressive Classifier Accuracy on Train Dataset: 0.9153880697552579\n",
      "\n",
      "Passive Aggressive Classifier Accuracy on Test Dataset: 0.8487501870977399\n",
      "#####################\n",
      "\n",
      "Passive Aggressive Classifier F1 Score on Train Dataset: 0.9146411494019296\n",
      "\n",
      "Passive Aggressive Classifier F1 Score on Test Dataset: 0.8465006307280486\n"
     ]
    },
    {
     "data": {
      "text/html": [
       "<div>\n",
       "<style scoped>\n",
       "    .dataframe tbody tr th:only-of-type {\n",
       "        vertical-align: middle;\n",
       "    }\n",
       "\n",
       "    .dataframe tbody tr th {\n",
       "        vertical-align: top;\n",
       "    }\n",
       "\n",
       "    .dataframe thead th {\n",
       "        text-align: right;\n",
       "    }\n",
       "</style>\n",
       "<table border=\"1\" class=\"dataframe\">\n",
       "  <thead>\n",
       "    <tr style=\"text-align: right;\">\n",
       "      <th></th>\n",
       "      <th>precision</th>\n",
       "      <th>recall</th>\n",
       "      <th>f1-score</th>\n",
       "      <th>support</th>\n",
       "    </tr>\n",
       "  </thead>\n",
       "  <tbody>\n",
       "    <tr>\n",
       "      <th>0</th>\n",
       "      <td>0.792287</td>\n",
       "      <td>0.791594</td>\n",
       "      <td>0.791940</td>\n",
       "      <td>1142.00000</td>\n",
       "    </tr>\n",
       "    <tr>\n",
       "      <th>1</th>\n",
       "      <td>0.749601</td>\n",
       "      <td>0.638587</td>\n",
       "      <td>0.689655</td>\n",
       "      <td>736.00000</td>\n",
       "    </tr>\n",
       "    <tr>\n",
       "      <th>2</th>\n",
       "      <td>0.800983</td>\n",
       "      <td>0.822194</td>\n",
       "      <td>0.811450</td>\n",
       "      <td>1586.00000</td>\n",
       "    </tr>\n",
       "    <tr>\n",
       "      <th>3</th>\n",
       "      <td>0.865362</td>\n",
       "      <td>0.864671</td>\n",
       "      <td>0.865016</td>\n",
       "      <td>2505.00000</td>\n",
       "    </tr>\n",
       "    <tr>\n",
       "      <th>4</th>\n",
       "      <td>0.839956</td>\n",
       "      <td>0.872971</td>\n",
       "      <td>0.856145</td>\n",
       "      <td>3511.00000</td>\n",
       "    </tr>\n",
       "    <tr>\n",
       "      <th>5</th>\n",
       "      <td>0.689076</td>\n",
       "      <td>0.616541</td>\n",
       "      <td>0.650794</td>\n",
       "      <td>133.00000</td>\n",
       "    </tr>\n",
       "    <tr>\n",
       "      <th>6</th>\n",
       "      <td>0.929300</td>\n",
       "      <td>0.947051</td>\n",
       "      <td>0.938091</td>\n",
       "      <td>2984.00000</td>\n",
       "    </tr>\n",
       "    <tr>\n",
       "      <th>7</th>\n",
       "      <td>0.000000</td>\n",
       "      <td>0.000000</td>\n",
       "      <td>0.000000</td>\n",
       "      <td>22.00000</td>\n",
       "    </tr>\n",
       "    <tr>\n",
       "      <th>8</th>\n",
       "      <td>0.612500</td>\n",
       "      <td>0.337931</td>\n",
       "      <td>0.435556</td>\n",
       "      <td>145.00000</td>\n",
       "    </tr>\n",
       "    <tr>\n",
       "      <th>9</th>\n",
       "      <td>0.765363</td>\n",
       "      <td>0.796512</td>\n",
       "      <td>0.780627</td>\n",
       "      <td>172.00000</td>\n",
       "    </tr>\n",
       "    <tr>\n",
       "      <th>10</th>\n",
       "      <td>0.882507</td>\n",
       "      <td>0.793427</td>\n",
       "      <td>0.835600</td>\n",
       "      <td>426.00000</td>\n",
       "    </tr>\n",
       "    <tr>\n",
       "      <th>accuracy</th>\n",
       "      <td>0.848750</td>\n",
       "      <td>0.848750</td>\n",
       "      <td>0.848750</td>\n",
       "      <td>0.84875</td>\n",
       "    </tr>\n",
       "    <tr>\n",
       "      <th>macro avg</th>\n",
       "      <td>0.720630</td>\n",
       "      <td>0.680134</td>\n",
       "      <td>0.695898</td>\n",
       "      <td>13362.00000</td>\n",
       "    </tr>\n",
       "    <tr>\n",
       "      <th>weighted avg</th>\n",
       "      <td>0.846038</td>\n",
       "      <td>0.848750</td>\n",
       "      <td>0.846501</td>\n",
       "      <td>13362.00000</td>\n",
       "    </tr>\n",
       "  </tbody>\n",
       "</table>\n",
       "</div>"
      ],
      "text/plain": [
       "              precision    recall  f1-score      support\n",
       "0              0.792287  0.791594  0.791940   1142.00000\n",
       "1              0.749601  0.638587  0.689655    736.00000\n",
       "2              0.800983  0.822194  0.811450   1586.00000\n",
       "3              0.865362  0.864671  0.865016   2505.00000\n",
       "4              0.839956  0.872971  0.856145   3511.00000\n",
       "5              0.689076  0.616541  0.650794    133.00000\n",
       "6              0.929300  0.947051  0.938091   2984.00000\n",
       "7              0.000000  0.000000  0.000000     22.00000\n",
       "8              0.612500  0.337931  0.435556    145.00000\n",
       "9              0.765363  0.796512  0.780627    172.00000\n",
       "10             0.882507  0.793427  0.835600    426.00000\n",
       "accuracy       0.848750  0.848750  0.848750      0.84875\n",
       "macro avg      0.720630  0.680134  0.695898  13362.00000\n",
       "weighted avg   0.846038  0.848750  0.846501  13362.00000"
      ]
     },
     "execution_count": 42,
     "metadata": {},
     "output_type": "execute_result"
    }
   ],
   "source": [
    "pac_clf = PassiveAggressiveClassifier(**pac_study.best_params)\n",
    "pac_clf.fit(X_train, y_train)\n",
    "\n",
    "y_pred_train = pac_clf.predict(X_train)\n",
    "y_pred_test = pac_clf.predict(X_test)\n",
    "\n",
    "pac_train_acc = accuracy_score(y_train, y_pred_train)\n",
    "pac_test_acc = accuracy_score(y_test, y_pred_test)\n",
    "\n",
    "pac_train_f1 = f1_score(y_train, y_pred_train, average='weighted')\n",
    "pac_test_f1 = f1_score(y_test, y_pred_test, average='weighted')\n",
    "\n",
    "print(\"Passive Aggressive Classifier Accuracy on Train Dataset: {}\".format(pac_train_acc))\n",
    "print(\"\\nPassive Aggressive Classifier Accuracy on Test Dataset: {}\".format(pac_test_acc))\n",
    "print(\"#####################\")\n",
    "print(\"\\nPassive Aggressive Classifier F1 Score on Train Dataset: {}\".format(pac_train_f1))\n",
    "print(\"\\nPassive Aggressive Classifier F1 Score on Test Dataset: {}\".format(pac_test_f1))\n",
    "\n",
    "# Create Test Confusion Matrix and Classification Report\n",
    "cm_pac = confusion_matrix(y_test, y_pred_test) # can use to make heatmap\n",
    "cr_pac = pd.DataFrame(classification_report(y_test, y_pred_test, zero_division=1, output_dict=True)).T #, average= 'weighted')\n",
    "cr_pac"
   ]
  },
  {
   "cell_type": "code",
   "execution_count": 43,
   "id": "f808ca6f",
   "metadata": {},
   "outputs": [
    {
     "data": {
      "image/png": "[encoded data removed]",
      "text/plain": [
       "<Figure size 720x720 with 2 Axes>"
      ]
     },
     "metadata": {
      "needs_background": "light"
     },
     "output_type": "display_data"
    }
   ],
   "source": [
    "# Plotting the confusion matrix as heatmap\n",
    "plt.figure(figsize=(10,10))\n",
    "sns.heatmap(cm_pac, annot=True, cmap='viridis') #, cmap='crest')#, linewidth=.1)#, annot=True)\n",
    "plt.title('Confusion Matrix - Passive Aggressive Classifier')\n",
    "plt.ylabel('Actual Values')\n",
    "plt.xlabel('Predicted Values')\n",
    "plt.show()"
   ]
  },
  {
   "cell_type": "markdown",
   "id": "f62a4d83",
   "metadata": {},
   "source": [
    "- ### Passive Aggressive Classifier exhibited similar accuracy and f1 score as Logistic Regression Classifier.\n",
    "- ### Marginal evidence of overfitting with higher metrics on training data."
   ]
  },
  {
   "cell_type": "markdown",
   "id": "7d9b8056",
   "metadata": {},
   "source": [
    "## Random Forest Classifier"
   ]
  },
  {
   "cell_type": "code",
   "execution_count": 44,
   "id": "51a15ee5",
   "metadata": {},
   "outputs": [],
   "source": [
    "# Optimize Random Forest Classifier with optuna\n",
    "def rfc_objective(trial):\n",
    "    n_estimators = trial.suggest_int(\"n_estimators\", 50, 550, step=100, log=False)\n",
    "    criterion = trial.suggest_categorical(\"criterion\", [\"gini\", \"entropy\", \"log_loss\"])\n",
    "    max_depth = trial.suggest_int(\"max_depth\", 2, 10, step=2, log=False)\n",
    "    min_samples_split = trial.suggest_int(\"min_samples_split\", 20, 100, step=20, log=False)\n",
    "    min_samples_leaf = trial.suggest_int(\"min_samples_leaf\", 10, 50, step=10, log=False)\n",
    "    max_features = trial.suggest_categorical(\"max_features\", [\"sqrt\", \"log2\", None])\n",
    "    bootstrap = trial.suggest_categorical(\"bootstrap\", [True, False])\n",
    "    n_jobs = trial.suggest_int(\"n_jobs\", 1, 12, step=1, log=False)\n",
    "    class_weight = trial.suggest_categorical(\"class_weight\", [\"balanced\", \"balanced_subsample\"])\n",
    "            \n",
    "    ## Create Model\n",
    "    rfc = RandomForestClassifier(n_estimators=n_estimators, criterion=criterion, max_depth=max_depth, min_samples_split=min_samples_split, \n",
    "                                    min_samples_leaf=min_samples_leaf, max_features=max_features, bootstrap=bootstrap, n_jobs=n_jobs, \n",
    "                                    class_weight=class_weight, random_state = 2022) \n",
    "\n",
    "    ## Fit Model\n",
    "    rfc.fit(X_train, y_train)\n",
    "\n",
    "    return accuracy_score(y_test, rfc.predict(X_test))"
   ]
  },
  {
   "cell_type": "code",
   "execution_count": 45,
   "id": "d8c6b31d",
   "metadata": {},
   "outputs": [
    {
     "name": "stderr",
     "output_type": "stream",
     "text": [
      "\u001b[32m[I 2022-11-28 12:38:35,753]\u001b[0m A new study created in memory with name: Random Forest Classifier\u001b[0m\n",
      "\u001b[32m[I 2022-11-28 12:38:37,422]\u001b[0m Trial 0 finished with value: 0.7572219727585691 and parameters: {'n_estimators': 250, 'criterion': 'log_loss', 'max_depth': 8, 'min_samples_split': 60, 'min_samples_leaf': 30, 'max_features': 'log2', 'bootstrap': False, 'n_jobs': 12, 'class_weight': 'balanced'}. Best is trial 0 with value: 0.7572219727585691.\u001b[0m\n",
      "\u001b[32m[I 2022-11-28 12:38:39,908]\u001b[0m Trial 1 finished with value: 0.7566980990869631 and parameters: {'n_estimators': 350, 'criterion': 'entropy', 'max_depth': 10, 'min_samples_split': 20, 'min_samples_leaf': 50, 'max_features': 'log2', 'bootstrap': True, 'n_jobs': 6, 'class_weight': 'balanced'}. Best is trial 0 with value: 0.7572219727585691.\u001b[0m\n",
      "\u001b[32m[I 2022-11-28 12:38:41,058]\u001b[0m Trial 2 finished with value: 0.7161353090854663 and parameters: {'n_estimators': 150, 'criterion': 'gini', 'max_depth': 6, 'min_samples_split': 20, 'min_samples_leaf': 20, 'max_features': 'sqrt', 'bootstrap': False, 'n_jobs': 12, 'class_weight': 'balanced_subsample'}. Best is trial 0 with value: 0.7572219727585691.\u001b[0m\n",
      "\u001b[32m[I 2022-11-28 12:40:44,833]\u001b[0m Trial 3 finished with value: 0.4707379134860051 and parameters: {'n_estimators': 450, 'criterion': 'gini', 'max_depth': 4, 'min_samples_split': 80, 'min_samples_leaf': 20, 'max_features': None, 'bootstrap': True, 'n_jobs': 6, 'class_weight': 'balanced_subsample'}. Best is trial 0 with value: 0.7572219727585691.\u001b[0m\n",
      "\u001b[32m[I 2022-11-28 12:40:46,618]\u001b[0m Trial 4 finished with value: 0.7297560245472234 and parameters: {'n_estimators': 250, 'criterion': 'gini', 'max_depth': 8, 'min_samples_split': 80, 'min_samples_leaf': 30, 'max_features': 'sqrt', 'bootstrap': True, 'n_jobs': 11, 'class_weight': 'balanced'}. Best is trial 0 with value: 0.7572219727585691.\u001b[0m\n",
      "\u001b[32m[I 2022-11-28 12:43:59,268]\u001b[0m Trial 5 finished with value: 0.6108367010926508 and parameters: {'n_estimators': 150, 'criterion': 'entropy', 'max_depth': 8, 'min_samples_split': 100, 'min_samples_leaf': 10, 'max_features': None, 'bootstrap': True, 'n_jobs': 9, 'class_weight': 'balanced_subsample'}. Best is trial 0 with value: 0.7572219727585691.\u001b[0m\n",
      "\u001b[32m[I 2022-11-28 12:44:40,557]\u001b[0m Trial 6 finished with value: 0.11787157611136058 and parameters: {'n_estimators': 150, 'criterion': 'log_loss', 'max_depth': 2, 'min_samples_split': 60, 'min_samples_leaf': 30, 'max_features': None, 'bootstrap': True, 'n_jobs': 12, 'class_weight': 'balanced'}. Best is trial 0 with value: 0.7572219727585691.\u001b[0m\n",
      "\u001b[32m[I 2022-11-28 12:44:49,459]\u001b[0m Trial 7 finished with value: 0.7242927705433319 and parameters: {'n_estimators': 350, 'criterion': 'entropy', 'max_depth': 6, 'min_samples_split': 60, 'min_samples_leaf': 40, 'max_features': 'sqrt', 'bootstrap': False, 'n_jobs': 7, 'class_weight': 'balanced'}. Best is trial 0 with value: 0.7572219727585691.\u001b[0m\n",
      "\u001b[32m[I 2022-11-28 12:44:52,729]\u001b[0m Trial 8 finished with value: 0.7000449034575662 and parameters: {'n_estimators': 450, 'criterion': 'entropy', 'max_depth': 2, 'min_samples_split': 60, 'min_samples_leaf': 20, 'max_features': 'sqrt', 'bootstrap': True, 'n_jobs': 7, 'class_weight': 'balanced'}. Best is trial 0 with value: 0.7572219727585691.\u001b[0m\n",
      "\u001b[32m[I 2022-11-28 12:44:53,279]\u001b[0m Trial 9 finished with value: 0.749738063164197 and parameters: {'n_estimators': 150, 'criterion': 'gini', 'max_depth': 10, 'min_samples_split': 40, 'min_samples_leaf': 50, 'max_features': 'log2', 'bootstrap': True, 'n_jobs': 10, 'class_weight': 'balanced'}. Best is trial 0 with value: 0.7572219727585691.\u001b[0m\n"
     ]
    }
   ],
   "source": [
    "rfc_study = optuna.create_study(study_name=\"Random Forest Classifier\", direction=\"maximize\")\n",
    "rfc_study.optimize(rfc_objective, n_trials=10)"
   ]
  },
  {
   "cell_type": "code",
   "execution_count": 46,
   "id": "ac5972b1",
   "metadata": {},
   "outputs": [
    {
     "name": "stdout",
     "output_type": "stream",
     "text": [
      "Best Params: {'n_estimators': 250, 'criterion': 'log_loss', 'max_depth': 8, 'min_samples_split': 60, 'min_samples_leaf': 30, 'max_features': 'log2', 'bootstrap': False, 'n_jobs': 12, 'class_weight': 'balanced'}\n",
      "\n",
      "Best Accuracy: 0.7572219727585691\n"
     ]
    }
   ],
   "source": [
    "print(\"Best Params: {}\".format(rfc_study.best_params))\n",
    "print(\"\\nBest Accuracy: {}\".format(rfc_study.best_value))"
   ]
  },
  {
   "cell_type": "code",
   "execution_count": 47,
   "id": "2f6fc067",
   "metadata": {},
   "outputs": [
    {
     "name": "stdout",
     "output_type": "stream",
     "text": [
      "Random Forest Classifier Accuracy on Train Dataset: 0.7618441733403188\n",
      "\n",
      "Random Forest Classifier Accuracy on Test Dataset: 0.7516838796587337\n",
      "#####################\n",
      "\n",
      "Random Forest Classifier F1 Score on Train Dataset: 0.7690630942041441\n",
      "\n",
      "Random Forest Classifier F1 Score on Test Dataset: 0.7608551871987782\n"
     ]
    },
    {
     "data": {
      "text/html": [
       "<div>\n",
       "<style scoped>\n",
       "    .dataframe tbody tr th:only-of-type {\n",
       "        vertical-align: middle;\n",
       "    }\n",
       "\n",
       "    .dataframe tbody tr th {\n",
       "        vertical-align: top;\n",
       "    }\n",
       "\n",
       "    .dataframe thead th {\n",
       "        text-align: right;\n",
       "    }\n",
       "</style>\n",
       "<table border=\"1\" class=\"dataframe\">\n",
       "  <thead>\n",
       "    <tr style=\"text-align: right;\">\n",
       "      <th></th>\n",
       "      <th>precision</th>\n",
       "      <th>recall</th>\n",
       "      <th>f1-score</th>\n",
       "      <th>support</th>\n",
       "    </tr>\n",
       "  </thead>\n",
       "  <tbody>\n",
       "    <tr>\n",
       "      <th>0</th>\n",
       "      <td>0.791485</td>\n",
       "      <td>0.634851</td>\n",
       "      <td>0.704568</td>\n",
       "      <td>1142.000000</td>\n",
       "    </tr>\n",
       "    <tr>\n",
       "      <th>1</th>\n",
       "      <td>0.704626</td>\n",
       "      <td>0.538043</td>\n",
       "      <td>0.610169</td>\n",
       "      <td>736.000000</td>\n",
       "    </tr>\n",
       "    <tr>\n",
       "      <th>2</th>\n",
       "      <td>0.806056</td>\n",
       "      <td>0.621059</td>\n",
       "      <td>0.701567</td>\n",
       "      <td>1586.000000</td>\n",
       "    </tr>\n",
       "    <tr>\n",
       "      <th>3</th>\n",
       "      <td>0.679800</td>\n",
       "      <td>0.867864</td>\n",
       "      <td>0.762406</td>\n",
       "      <td>2505.000000</td>\n",
       "    </tr>\n",
       "    <tr>\n",
       "      <th>4</th>\n",
       "      <td>0.871130</td>\n",
       "      <td>0.689262</td>\n",
       "      <td>0.769598</td>\n",
       "      <td>3511.000000</td>\n",
       "    </tr>\n",
       "    <tr>\n",
       "      <th>5</th>\n",
       "      <td>0.348765</td>\n",
       "      <td>0.849624</td>\n",
       "      <td>0.494530</td>\n",
       "      <td>133.000000</td>\n",
       "    </tr>\n",
       "    <tr>\n",
       "      <th>6</th>\n",
       "      <td>0.925808</td>\n",
       "      <td>0.873995</td>\n",
       "      <td>0.899155</td>\n",
       "      <td>2984.000000</td>\n",
       "    </tr>\n",
       "    <tr>\n",
       "      <th>7</th>\n",
       "      <td>0.085714</td>\n",
       "      <td>0.272727</td>\n",
       "      <td>0.130435</td>\n",
       "      <td>22.000000</td>\n",
       "    </tr>\n",
       "    <tr>\n",
       "      <th>8</th>\n",
       "      <td>0.221130</td>\n",
       "      <td>0.620690</td>\n",
       "      <td>0.326087</td>\n",
       "      <td>145.000000</td>\n",
       "    </tr>\n",
       "    <tr>\n",
       "      <th>9</th>\n",
       "      <td>0.347253</td>\n",
       "      <td>0.918605</td>\n",
       "      <td>0.503987</td>\n",
       "      <td>172.000000</td>\n",
       "    </tr>\n",
       "    <tr>\n",
       "      <th>10</th>\n",
       "      <td>0.601958</td>\n",
       "      <td>0.866197</td>\n",
       "      <td>0.710298</td>\n",
       "      <td>426.000000</td>\n",
       "    </tr>\n",
       "    <tr>\n",
       "      <th>accuracy</th>\n",
       "      <td>0.751684</td>\n",
       "      <td>0.751684</td>\n",
       "      <td>0.751684</td>\n",
       "      <td>0.751684</td>\n",
       "    </tr>\n",
       "    <tr>\n",
       "      <th>macro avg</th>\n",
       "      <td>0.580339</td>\n",
       "      <td>0.704811</td>\n",
       "      <td>0.601164</td>\n",
       "      <td>13362.000000</td>\n",
       "    </tr>\n",
       "    <tr>\n",
       "      <th>weighted avg</th>\n",
       "      <td>0.794898</td>\n",
       "      <td>0.751684</td>\n",
       "      <td>0.760855</td>\n",
       "      <td>13362.000000</td>\n",
       "    </tr>\n",
       "  </tbody>\n",
       "</table>\n",
       "</div>"
      ],
      "text/plain": [
       "              precision    recall  f1-score       support\n",
       "0              0.791485  0.634851  0.704568   1142.000000\n",
       "1              0.704626  0.538043  0.610169    736.000000\n",
       "2              0.806056  0.621059  0.701567   1586.000000\n",
       "3              0.679800  0.867864  0.762406   2505.000000\n",
       "4              0.871130  0.689262  0.769598   3511.000000\n",
       "5              0.348765  0.849624  0.494530    133.000000\n",
       "6              0.925808  0.873995  0.899155   2984.000000\n",
       "7              0.085714  0.272727  0.130435     22.000000\n",
       "8              0.221130  0.620690  0.326087    145.000000\n",
       "9              0.347253  0.918605  0.503987    172.000000\n",
       "10             0.601958  0.866197  0.710298    426.000000\n",
       "accuracy       0.751684  0.751684  0.751684      0.751684\n",
       "macro avg      0.580339  0.704811  0.601164  13362.000000\n",
       "weighted avg   0.794898  0.751684  0.760855  13362.000000"
      ]
     },
     "execution_count": 47,
     "metadata": {},
     "output_type": "execute_result"
    }
   ],
   "source": [
    "rfc_clf = RandomForestClassifier(**rfc_study.best_params)\n",
    "rfc_clf.fit(X_train, y_train)\n",
    "\n",
    "y_pred_train = rfc_clf.predict(X_train)\n",
    "y_pred_test = rfc_clf.predict(X_test)\n",
    "\n",
    "rfc_train_acc = accuracy_score(y_train, y_pred_train)\n",
    "rfc_test_acc = accuracy_score(y_test, y_pred_test)\n",
    "\n",
    "rfc_train_f1 = f1_score(y_train, y_pred_train, average='weighted')\n",
    "rfc_test_f1 = f1_score(y_test, y_pred_test, average='weighted')\n",
    "\n",
    "print(\"Random Forest Classifier Accuracy on Train Dataset: {}\".format(rfc_train_acc))\n",
    "print(\"\\nRandom Forest Classifier Accuracy on Test Dataset: {}\".format(rfc_test_acc))\n",
    "print(\"#####################\")\n",
    "print(\"\\nRandom Forest Classifier F1 Score on Train Dataset: {}\".format(rfc_train_f1))\n",
    "print(\"\\nRandom Forest Classifier F1 Score on Test Dataset: {}\".format(rfc_test_f1))\n",
    "\n",
    "# Create Test Confusion Matrix and Classification Report\n",
    "cm_rfc = confusion_matrix(y_test, y_pred_test) # can use to make heatmap\n",
    "cr_rfc = pd.DataFrame(classification_report(y_test, y_pred_test, zero_division=1, output_dict=True)).T #, average= 'weighted')\n",
    "cr_rfc"
   ]
  },
  {
   "cell_type": "code",
   "execution_count": 48,
   "id": "47ae5e67",
   "metadata": {},
   "outputs": [
    {
     "data": {
      "image/png": "[encoded data removed]",
      "text/plain": [
       "<Figure size 720x720 with 2 Axes>"
      ]
     },
     "metadata": {
      "needs_background": "light"
     },
     "output_type": "display_data"
    }
   ],
   "source": [
    "# Plotting the confusion matrix as heatmap\n",
    "plt.figure(figsize=(10,10))\n",
    "sns.heatmap(cm_rfc, annot=True, cmap='viridis') #, cmap='crest')#, linewidth=.1)#, annot=True)\n",
    "plt.title('Confusion Matrix - Random Forest Classifier')\n",
    "plt.ylabel('Actual Values')\n",
    "plt.xlabel('Predicted Values')\n",
    "plt.show()"
   ]
  },
  {
   "cell_type": "markdown",
   "id": "f5c632c8",
   "metadata": {},
   "source": [
    "- ### Random Forest Classifier performed slightly worse than Passive Aggressive and Logistic Regression Classifiers.\n",
    "- ### No evidence of overfitting with similar metrics between training and test data."
   ]
  },
  {
   "cell_type": "markdown",
   "id": "e62342d4",
   "metadata": {},
   "source": [
    "## XGBoost Classifier"
   ]
  },
  {
   "cell_type": "code",
   "execution_count": 49,
   "id": "1ee72688",
   "metadata": {},
   "outputs": [],
   "source": [
    "# Optimize XGBoost Classifier with optuna\n",
    "def xgb_objective(trial):\n",
    "    booster = trial.suggest_categorical(\"booster\", [\"gbtree\", \"gblinear\", \"dart\"])\n",
    "    eta = trial.suggest_float(\"eta\", 0.1, 1.0, step=0.1, log=False)\n",
    "    gamma = trial.suggest_int(\"gamma\", 0, 100, step=10, log=False)\n",
    "    max_depth = trial.suggest_int(\"max_depth\", 2, 42, step=4, log=False)\n",
    "    min_child_weight = trial.suggest_int(\"min_child_weight\", 0, 50, step=10, log=False)\n",
    "    subsample = trial.suggest_float(\"subsample\", 0.5, 1.0, step=0.1, log=False)\n",
    "    #sampling_method = trial.suggest_categorical(\"sampling_method\", [\"uniform\", \"gradient_based\"]) #gradient_based only for tree_method: gpu_hist\n",
    "            \n",
    "    ## Create Model\n",
    "    xgb = XGBClassifier(booster=booster, eta=eta, gamma=gamma, max_depth=max_depth, min_child_weight=min_child_weight, \n",
    "                            subsample=subsample, random_state = 2022) # booster=booster, sampling_method=sampling_method,\n",
    "\n",
    "    ## Fit Model\n",
    "    xgb.fit(X_train, y_train)\n",
    "\n",
    "    return accuracy_score(y_test, xgb.predict(X_test))"
   ]
  },
  {
   "cell_type": "code",
   "execution_count": 50,
   "id": "aea39e1a",
   "metadata": {},
   "outputs": [
    {
     "name": "stderr",
     "output_type": "stream",
     "text": [
      "\u001b[32m[I 2022-11-28 12:44:56,155]\u001b[0m A new study created in memory with name: XGBoost Classifier\u001b[0m\n",
      "\u001b[32m[I 2022-11-28 12:46:45,187]\u001b[0m Trial 0 finished with value: 0.7764556204161054 and parameters: {'booster': 'gbtree', 'eta': 0.1, 'gamma': 90, 'max_depth': 6, 'min_child_weight': 20, 'subsample': 0.7}. Best is trial 0 with value: 0.7764556204161054.\u001b[0m\n",
      "\u001b[32m[I 2022-11-28 12:52:08,056]\u001b[0m Trial 1 finished with value: 0.8013022002694208 and parameters: {'booster': 'gbtree', 'eta': 0.4, 'gamma': 30, 'max_depth': 42, 'min_child_weight': 10, 'subsample': 0.5}. Best is trial 1 with value: 0.8013022002694208.\u001b[0m\n"
     ]
    },
    {
     "name": "stdout",
     "output_type": "stream",
     "text": [
      "[12:52:08] WARNING: C:/buildkite-agent/builds/buildkite-windows-cpu-autoscaling-group-i-03de431ba26204c4d-1/xgboost/xgboost-ci-windows/src/learner.cc:767: \n",
      "Parameters: { \"gamma\", \"max_depth\", \"min_child_weight\", \"subsample\" } are not used.\n",
      "\n"
     ]
    },
    {
     "name": "stderr",
     "output_type": "stream",
     "text": [
      "\u001b[32m[I 2022-11-28 12:52:16,159]\u001b[0m Trial 2 finished with value: 0.7573716509504566 and parameters: {'booster': 'gblinear', 'eta': 0.4, 'gamma': 90, 'max_depth': 18, 'min_child_weight': 40, 'subsample': 0.7}. Best is trial 1 with value: 0.8013022002694208.\u001b[0m\n"
     ]
    },
    {
     "name": "stdout",
     "output_type": "stream",
     "text": [
      "[12:52:16] WARNING: C:/buildkite-agent/builds/buildkite-windows-cpu-autoscaling-group-i-03de431ba26204c4d-1/xgboost/xgboost-ci-windows/src/learner.cc:767: \n",
      "Parameters: { \"gamma\", \"max_depth\", \"min_child_weight\", \"subsample\" } are not used.\n",
      "\n"
     ]
    },
    {
     "name": "stderr",
     "output_type": "stream",
     "text": [
      "\u001b[32m[I 2022-11-28 12:52:24,368]\u001b[0m Trial 3 finished with value: 0.791573117796737 and parameters: {'booster': 'gblinear', 'eta': 0.1, 'gamma': 10, 'max_depth': 38, 'min_child_weight': 30, 'subsample': 0.8}. Best is trial 1 with value: 0.8013022002694208.\u001b[0m\n",
      "\u001b[32m[I 2022-11-28 12:58:28,487]\u001b[0m Trial 4 finished with value: 0.7957641071695853 and parameters: {'booster': 'dart', 'eta': 0.30000000000000004, 'gamma': 40, 'max_depth': 18, 'min_child_weight': 30, 'subsample': 0.6}. Best is trial 1 with value: 0.8013022002694208.\u001b[0m\n",
      "\u001b[32m[I 2022-11-28 12:59:02,110]\u001b[0m Trial 5 finished with value: 0.7745846430175124 and parameters: {'booster': 'gbtree', 'eta': 0.9, 'gamma': 80, 'max_depth': 2, 'min_child_weight': 50, 'subsample': 0.8}. Best is trial 1 with value: 0.8013022002694208.\u001b[0m\n"
     ]
    },
    {
     "name": "stdout",
     "output_type": "stream",
     "text": [
      "[12:59:02] WARNING: C:/buildkite-agent/builds/buildkite-windows-cpu-autoscaling-group-i-03de431ba26204c4d-1/xgboost/xgboost-ci-windows/src/learner.cc:767: \n",
      "Parameters: { \"gamma\", \"max_depth\", \"min_child_weight\", \"subsample\" } are not used.\n",
      "\n"
     ]
    },
    {
     "name": "stderr",
     "output_type": "stream",
     "text": [
      "\u001b[32m[I 2022-11-28 12:59:10,407]\u001b[0m Trial 6 finished with value: 0.7460709474629547 and parameters: {'booster': 'gblinear', 'eta': 0.6, 'gamma': 50, 'max_depth': 10, 'min_child_weight': 0, 'subsample': 0.6}. Best is trial 1 with value: 0.8013022002694208.\u001b[0m\n"
     ]
    },
    {
     "name": "stdout",
     "output_type": "stream",
     "text": [
      "[12:59:10] WARNING: C:/buildkite-agent/builds/buildkite-windows-cpu-autoscaling-group-i-03de431ba26204c4d-1/xgboost/xgboost-ci-windows/src/learner.cc:767: \n",
      "Parameters: { \"gamma\", \"max_depth\", \"min_child_weight\", \"subsample\" } are not used.\n",
      "\n"
     ]
    },
    {
     "name": "stderr",
     "output_type": "stream",
     "text": [
      "\u001b[32m[I 2022-11-28 12:59:18,852]\u001b[0m Trial 7 finished with value: 0.7625355485705733 and parameters: {'booster': 'gblinear', 'eta': 0.30000000000000004, 'gamma': 100, 'max_depth': 6, 'min_child_weight': 40, 'subsample': 0.5}. Best is trial 1 with value: 0.8013022002694208.\u001b[0m\n"
     ]
    },
    {
     "name": "stdout",
     "output_type": "stream",
     "text": [
      "[12:59:18] WARNING: C:/buildkite-agent/builds/buildkite-windows-cpu-autoscaling-group-i-03de431ba26204c4d-1/xgboost/xgboost-ci-windows/src/learner.cc:767: \n",
      "Parameters: { \"gamma\", \"max_depth\", \"min_child_weight\", \"subsample\" } are not used.\n",
      "\n"
     ]
    },
    {
     "name": "stderr",
     "output_type": "stream",
     "text": [
      "\u001b[32m[I 2022-11-28 12:59:27,171]\u001b[0m Trial 8 finished with value: 0.7627600658584044 and parameters: {'booster': 'gblinear', 'eta': 0.30000000000000004, 'gamma': 70, 'max_depth': 42, 'min_child_weight': 30, 'subsample': 0.9}. Best is trial 1 with value: 0.8013022002694208.\u001b[0m\n",
      "\u001b[32m[I 2022-11-28 13:01:33,572]\u001b[0m Trial 9 finished with value: 0.7649303996407724 and parameters: {'booster': 'gbtree', 'eta': 0.9, 'gamma': 70, 'max_depth': 14, 'min_child_weight': 50, 'subsample': 0.6}. Best is trial 1 with value: 0.8013022002694208.\u001b[0m\n"
     ]
    }
   ],
   "source": [
    "xgb_study = optuna.create_study(study_name=\"XGBoost Classifier\", direction=\"maximize\")\n",
    "xgb_study.optimize(xgb_objective, n_trials=10)"
   ]
  },
  {
   "cell_type": "code",
   "execution_count": 51,
   "id": "17a68a43",
   "metadata": {},
   "outputs": [
    {
     "name": "stdout",
     "output_type": "stream",
     "text": [
      "Best Params: {'booster': 'gbtree', 'eta': 0.4, 'gamma': 30, 'max_depth': 42, 'min_child_weight': 10, 'subsample': 0.5}\n",
      "\n",
      "Best Accuracy: 0.8013022002694208\n"
     ]
    }
   ],
   "source": [
    "print(\"Best Params: {}\".format(xgb_study.best_params))\n",
    "print(\"\\nBest Accuracy: {}\".format(xgb_study.best_value))"
   ]
  },
  {
   "cell_type": "code",
   "execution_count": 52,
   "id": "f91df8da",
   "metadata": {},
   "outputs": [
    {
     "name": "stdout",
     "output_type": "stream",
     "text": [
      "XGBoost Classifier Accuracy on Train Dataset: 0.8043372502058229\n",
      "\n",
      "XGBoost Classifier Accuracy on Test Dataset: 0.8033228558599013\n",
      "#####################\n",
      "\n",
      "XGBoost Classifier F1 Score on Train Dataset: 0.7992319382678712\n",
      "\n",
      "XGBoost Classifier F1 Score on Test Dataset: 0.7980745600105825\n"
     ]
    },
    {
     "data": {
      "text/html": [
       "<div>\n",
       "<style scoped>\n",
       "    .dataframe tbody tr th:only-of-type {\n",
       "        vertical-align: middle;\n",
       "    }\n",
       "\n",
       "    .dataframe tbody tr th {\n",
       "        vertical-align: top;\n",
       "    }\n",
       "\n",
       "    .dataframe thead th {\n",
       "        text-align: right;\n",
       "    }\n",
       "</style>\n",
       "<table border=\"1\" class=\"dataframe\">\n",
       "  <thead>\n",
       "    <tr style=\"text-align: right;\">\n",
       "      <th></th>\n",
       "      <th>precision</th>\n",
       "      <th>recall</th>\n",
       "      <th>f1-score</th>\n",
       "      <th>support</th>\n",
       "    </tr>\n",
       "  </thead>\n",
       "  <tbody>\n",
       "    <tr>\n",
       "      <th>0</th>\n",
       "      <td>0.749777</td>\n",
       "      <td>0.734676</td>\n",
       "      <td>0.742149</td>\n",
       "      <td>1142.000000</td>\n",
       "    </tr>\n",
       "    <tr>\n",
       "      <th>1</th>\n",
       "      <td>0.741088</td>\n",
       "      <td>0.536685</td>\n",
       "      <td>0.622537</td>\n",
       "      <td>736.000000</td>\n",
       "    </tr>\n",
       "    <tr>\n",
       "      <th>2</th>\n",
       "      <td>0.778947</td>\n",
       "      <td>0.746532</td>\n",
       "      <td>0.762395</td>\n",
       "      <td>1586.000000</td>\n",
       "    </tr>\n",
       "    <tr>\n",
       "      <th>3</th>\n",
       "      <td>0.787773</td>\n",
       "      <td>0.807585</td>\n",
       "      <td>0.797556</td>\n",
       "      <td>2505.000000</td>\n",
       "    </tr>\n",
       "    <tr>\n",
       "      <th>4</th>\n",
       "      <td>0.769777</td>\n",
       "      <td>0.864711</td>\n",
       "      <td>0.814487</td>\n",
       "      <td>3511.000000</td>\n",
       "    </tr>\n",
       "    <tr>\n",
       "      <th>5</th>\n",
       "      <td>0.680556</td>\n",
       "      <td>0.368421</td>\n",
       "      <td>0.478049</td>\n",
       "      <td>133.000000</td>\n",
       "    </tr>\n",
       "    <tr>\n",
       "      <th>6</th>\n",
       "      <td>0.904513</td>\n",
       "      <td>0.926944</td>\n",
       "      <td>0.915591</td>\n",
       "      <td>2984.000000</td>\n",
       "    </tr>\n",
       "    <tr>\n",
       "      <th>7</th>\n",
       "      <td>1.000000</td>\n",
       "      <td>0.000000</td>\n",
       "      <td>0.000000</td>\n",
       "      <td>22.000000</td>\n",
       "    </tr>\n",
       "    <tr>\n",
       "      <th>8</th>\n",
       "      <td>0.561404</td>\n",
       "      <td>0.220690</td>\n",
       "      <td>0.316832</td>\n",
       "      <td>145.000000</td>\n",
       "    </tr>\n",
       "    <tr>\n",
       "      <th>9</th>\n",
       "      <td>0.841270</td>\n",
       "      <td>0.616279</td>\n",
       "      <td>0.711409</td>\n",
       "      <td>172.000000</td>\n",
       "    </tr>\n",
       "    <tr>\n",
       "      <th>10</th>\n",
       "      <td>0.832877</td>\n",
       "      <td>0.713615</td>\n",
       "      <td>0.768647</td>\n",
       "      <td>426.000000</td>\n",
       "    </tr>\n",
       "    <tr>\n",
       "      <th>accuracy</th>\n",
       "      <td>0.803323</td>\n",
       "      <td>0.803323</td>\n",
       "      <td>0.803323</td>\n",
       "      <td>0.803323</td>\n",
       "    </tr>\n",
       "    <tr>\n",
       "      <th>macro avg</th>\n",
       "      <td>0.786180</td>\n",
       "      <td>0.594194</td>\n",
       "      <td>0.629968</td>\n",
       "      <td>13362.000000</td>\n",
       "    </tr>\n",
       "    <tr>\n",
       "      <th>weighted avg</th>\n",
       "      <td>0.801200</td>\n",
       "      <td>0.803323</td>\n",
       "      <td>0.798075</td>\n",
       "      <td>13362.000000</td>\n",
       "    </tr>\n",
       "  </tbody>\n",
       "</table>\n",
       "</div>"
      ],
      "text/plain": [
       "              precision    recall  f1-score       support\n",
       "0              0.749777  0.734676  0.742149   1142.000000\n",
       "1              0.741088  0.536685  0.622537    736.000000\n",
       "2              0.778947  0.746532  0.762395   1586.000000\n",
       "3              0.787773  0.807585  0.797556   2505.000000\n",
       "4              0.769777  0.864711  0.814487   3511.000000\n",
       "5              0.680556  0.368421  0.478049    133.000000\n",
       "6              0.904513  0.926944  0.915591   2984.000000\n",
       "7              1.000000  0.000000  0.000000     22.000000\n",
       "8              0.561404  0.220690  0.316832    145.000000\n",
       "9              0.841270  0.616279  0.711409    172.000000\n",
       "10             0.832877  0.713615  0.768647    426.000000\n",
       "accuracy       0.803323  0.803323  0.803323      0.803323\n",
       "macro avg      0.786180  0.594194  0.629968  13362.000000\n",
       "weighted avg   0.801200  0.803323  0.798075  13362.000000"
      ]
     },
     "execution_count": 52,
     "metadata": {},
     "output_type": "execute_result"
    }
   ],
   "source": [
    "xgb_clf = XGBClassifier(**xgb_study.best_params)\n",
    "xgb_clf.fit(X_train, y_train)\n",
    "\n",
    "y_pred_train = xgb_clf.predict(X_train)\n",
    "y_pred_test = xgb_clf.predict(X_test)\n",
    "\n",
    "xgb_train_acc = accuracy_score(y_train, y_pred_train)\n",
    "xgb_test_acc = accuracy_score(y_test, y_pred_test)\n",
    "\n",
    "xgb_train_f1 = f1_score(y_train, y_pred_train, average='weighted')\n",
    "xgb_test_f1 = f1_score(y_test, y_pred_test, average='weighted')\n",
    "\n",
    "print(\"XGBoost Classifier Accuracy on Train Dataset: {}\".format(xgb_train_acc))\n",
    "print(\"\\nXGBoost Classifier Accuracy on Test Dataset: {}\".format(xgb_test_acc))\n",
    "print(\"#####################\")\n",
    "print(\"\\nXGBoost Classifier F1 Score on Train Dataset: {}\".format(xgb_train_f1))\n",
    "print(\"\\nXGBoost Classifier F1 Score on Test Dataset: {}\".format(xgb_test_f1))\n",
    "\n",
    "# Create Test Confusion Matrix and Classification Report\n",
    "cm_xgb = confusion_matrix(y_test, y_pred_test) # can use to make heatmap\n",
    "cr_xgb = pd.DataFrame(classification_report(y_test, y_pred_test, zero_division=1, output_dict=True)).T #, average= 'weighted')\n",
    "cr_xgb"
   ]
  },
  {
   "cell_type": "code",
   "execution_count": 53,
   "id": "1868762d",
   "metadata": {},
   "outputs": [
    {
     "data": {
      "image/png": "[encoded data removed]",
      "text/plain": [
       "<Figure size 720x720 with 2 Axes>"
      ]
     },
     "metadata": {
      "needs_background": "light"
     },
     "output_type": "display_data"
    }
   ],
   "source": [
    "#Plotting the confusion matrix as heatmap\n",
    "plt.figure(figsize=(10,10))\n",
    "sns.heatmap(cm_xgb, annot=True, cmap='viridis') #, ax=ax) #, cmap='crest')#, linewidth=.1)#, annot=True)\n",
    "plt.title('Confusion Matrix - XGBoost Classifier Model')\n",
    "plt.ylabel('Actual Values')\n",
    "plt.xlabel('Predicted Values')\n",
    "plt.show()"
   ]
  },
  {
   "cell_type": "markdown",
   "id": "a03524e0",
   "metadata": {},
   "source": [
    "- ### XGBoost Classifier performed slightly worse than Passive Aggressive and Logistic Regression Classifiers but marginally better than Random Forest Classifier.\n",
    "- ### No evidence of overfitting with similar metrics between training and test data."
   ]
  },
  {
   "cell_type": "markdown",
   "id": "95fe73db",
   "metadata": {},
   "source": [
    "## LightGBM Classifier"
   ]
  },
  {
   "cell_type": "code",
   "execution_count": 56,
   "id": "2b3f8f42",
   "metadata": {},
   "outputs": [],
   "source": [
    "# Optimize LightGBM Classifier Classifier with optuna\n",
    "def lgb_objective(trial):\n",
    "    #boosting_type = trial.suggest_categorical(\"boosting_type\", [\"gbdt\", \"dart\", \"goss\", \"rf\"])\n",
    "    num_leaves = trial.suggest_int(\"num_leaves\", 4, 20, step=4, log=False) #decrease\n",
    "    max_depth = trial.suggest_int(\"max_depth\", 2, 8, step=2, log=False) #decrease\n",
    "    learning_rate = trial.suggest_float(\"learning_rate\", 0.06, 1.2, step=0.02, log=False)\n",
    "    n_estimators = trial.suggest_int(\"n_estimators\", 350, 500, step=25, log=False) #increase\n",
    "    min_child_weight = trial.suggest_float(\"min_child_weight\", 0.01, 0.10, step=0.01, log=False) #increase\n",
    "    min_child_samples = trial.suggest_int(\"min_child_samples\", 200, 300, step=25, log=False) #decrease\n",
    "    subsample = trial.suggest_float(\"subsample\", 0.2, 1.0, step=0.2, log=False)\n",
    "            \n",
    "    ## Create Model\n",
    "    lgb = LGBMClassifier(boosting_type=\"gbdt\", num_leaves=num_leaves, max_depth=max_depth, learning_rate=learning_rate, \n",
    "                            n_estimators=n_estimators, min_child_weight=min_child_weight, min_child_samples=min_child_samples, \n",
    "                            subsample=subsample, objective=\"multiclass\", random_state = 2022) #class_weight=class_weights_dict, \n",
    "\n",
    "    ## Fit Model\n",
    "    lgb.fit(X_train, y_train)\n",
    "\n",
    "    return accuracy_score(y_test, lgb.predict(X_test))"
   ]
  },
  {
   "cell_type": "code",
   "execution_count": 57,
   "id": "5ffea6d6",
   "metadata": {},
   "outputs": [
    {
     "name": "stderr",
     "output_type": "stream",
     "text": [
      "\u001b[32m[I 2022-11-28 14:11:36,682]\u001b[0m A new study created in memory with name: LightGBM Classifier\u001b[0m\n",
      "\u001b[32m[I 2022-11-28 14:13:39,380]\u001b[0m Trial 0 finished with value: 0.22923215087561744 and parameters: {'num_leaves': 8, 'max_depth': 2, 'learning_rate': 0.6399999999999999, 'n_estimators': 375, 'min_child_weight': 0.03, 'min_child_samples': 300, 'subsample': 0.4}. Best is trial 0 with value: 0.22923215087561744.\u001b[0m\n",
      "\u001b[32m[I 2022-11-28 14:16:39,912]\u001b[0m Trial 1 finished with value: 0.181335129471636 and parameters: {'num_leaves': 4, 'max_depth': 2, 'learning_rate': 0.6000000000000001, 'n_estimators': 475, 'min_child_weight': 0.06999999999999999, 'min_child_samples': 200, 'subsample': 0.6000000000000001}. Best is trial 0 with value: 0.22923215087561744.\u001b[0m\n",
      "\u001b[32m[I 2022-11-28 14:19:06,437]\u001b[0m Trial 2 finished with value: 0.27039365364466394 and parameters: {'num_leaves': 8, 'max_depth': 8, 'learning_rate': 0.8999999999999999, 'n_estimators': 400, 'min_child_weight': 0.060000000000000005, 'min_child_samples': 225, 'subsample': 1.0}. Best is trial 2 with value: 0.27039365364466394.\u001b[0m\n",
      "\u001b[32m[I 2022-11-28 14:21:15,378]\u001b[0m Trial 3 finished with value: 0.2769046549917677 and parameters: {'num_leaves': 20, 'max_depth': 8, 'learning_rate': 1.0, 'n_estimators': 350, 'min_child_weight': 0.06999999999999999, 'min_child_samples': 225, 'subsample': 1.0}. Best is trial 3 with value: 0.2769046549917677.\u001b[0m\n",
      "\u001b[32m[I 2022-11-28 14:23:53,565]\u001b[0m Trial 4 finished with value: 0.3129022601406975 and parameters: {'num_leaves': 16, 'max_depth': 2, 'learning_rate': 1.1600000000000001, 'n_estimators': 450, 'min_child_weight': 0.01, 'min_child_samples': 250, 'subsample': 1.0}. Best is trial 4 with value: 0.3129022601406975.\u001b[0m\n",
      "\u001b[32m[I 2022-11-28 14:26:27,235]\u001b[0m Trial 5 finished with value: 0.18230803771890436 and parameters: {'num_leaves': 4, 'max_depth': 8, 'learning_rate': 1.1600000000000001, 'n_estimators': 450, 'min_child_weight': 0.08, 'min_child_samples': 250, 'subsample': 0.4}. Best is trial 4 with value: 0.3129022601406975.\u001b[0m\n",
      "\u001b[32m[I 2022-11-28 14:29:10,903]\u001b[0m Trial 6 finished with value: 0.23881155515641372 and parameters: {'num_leaves': 8, 'max_depth': 8, 'learning_rate': 0.9199999999999999, 'n_estimators': 425, 'min_child_weight': 0.04, 'min_child_samples': 200, 'subsample': 0.8}. Best is trial 4 with value: 0.3129022601406975.\u001b[0m\n",
      "\u001b[32m[I 2022-11-28 14:31:45,314]\u001b[0m Trial 7 finished with value: 0.26807364167040865 and parameters: {'num_leaves': 16, 'max_depth': 2, 'learning_rate': 0.78, 'n_estimators': 450, 'min_child_weight': 0.08, 'min_child_samples': 250, 'subsample': 0.2}. Best is trial 4 with value: 0.3129022601406975.\u001b[0m\n",
      "\u001b[32m[I 2022-11-28 14:33:59,959]\u001b[0m Trial 8 finished with value: 0.314922915731178 and parameters: {'num_leaves': 4, 'max_depth': 4, 'learning_rate': 0.6399999999999999, 'n_estimators': 400, 'min_child_weight': 0.09, 'min_child_samples': 275, 'subsample': 0.4}. Best is trial 8 with value: 0.314922915731178.\u001b[0m\n",
      "\u001b[32m[I 2022-11-28 14:36:51,485]\u001b[0m Trial 9 finished with value: 0.8405927256398743 and parameters: {'num_leaves': 12, 'max_depth': 2, 'learning_rate': 0.3, 'n_estimators': 450, 'min_child_weight': 0.02, 'min_child_samples': 250, 'subsample': 0.2}. Best is trial 9 with value: 0.8405927256398743.\u001b[0m\n"
     ]
    }
   ],
   "source": [
    "lgb_study = optuna.create_study(study_name=\"LightGBM Classifier\", direction=\"maximize\")\n",
    "lgb_study.optimize(lgb_objective, n_trials=10)"
   ]
  },
  {
   "cell_type": "code",
   "execution_count": 58,
   "id": "91044b6b",
   "metadata": {},
   "outputs": [
    {
     "name": "stdout",
     "output_type": "stream",
     "text": [
      "Best Params: {'num_leaves': 12, 'max_depth': 2, 'learning_rate': 0.3, 'n_estimators': 450, 'min_child_weight': 0.02, 'min_child_samples': 250, 'subsample': 0.2}\n",
      "\n",
      "Best Accuracy: 0.8405927256398743\n"
     ]
    }
   ],
   "source": [
    "print(\"Best Params: {}\".format(lgb_study.best_params))\n",
    "print(\"\\nBest Accuracy: {}\".format(lgb_study.best_value))"
   ]
  },
  {
   "cell_type": "code",
   "execution_count": 59,
   "id": "738467e3",
   "metadata": {},
   "outputs": [
    {
     "name": "stdout",
     "output_type": "stream",
     "text": [
      "LightGBM Classifier Accuracy on Train Dataset: 0.9167165631315022\n",
      "\n",
      "LightGBM Classifier Accuracy on Test Dataset: 0.8405927256398743\n",
      "#####################\n",
      "\n",
      "LightGBM Classifier F1 Score on Train Dataset: 0.9163601491668051\n",
      "\n",
      "LightGBM Classifier F1 Score on Test Dataset: 0.8380584629776278\n"
     ]
    },
    {
     "data": {
      "text/html": [
       "<div>\n",
       "<style scoped>\n",
       "    .dataframe tbody tr th:only-of-type {\n",
       "        vertical-align: middle;\n",
       "    }\n",
       "\n",
       "    .dataframe tbody tr th {\n",
       "        vertical-align: top;\n",
       "    }\n",
       "\n",
       "    .dataframe thead th {\n",
       "        text-align: right;\n",
       "    }\n",
       "</style>\n",
       "<table border=\"1\" class=\"dataframe\">\n",
       "  <thead>\n",
       "    <tr style=\"text-align: right;\">\n",
       "      <th></th>\n",
       "      <th>precision</th>\n",
       "      <th>recall</th>\n",
       "      <th>f1-score</th>\n",
       "      <th>support</th>\n",
       "    </tr>\n",
       "  </thead>\n",
       "  <tbody>\n",
       "    <tr>\n",
       "      <th>0</th>\n",
       "      <td>0.776732</td>\n",
       "      <td>0.795096</td>\n",
       "      <td>0.785807</td>\n",
       "      <td>1142.000000</td>\n",
       "    </tr>\n",
       "    <tr>\n",
       "      <th>1</th>\n",
       "      <td>0.707692</td>\n",
       "      <td>0.625000</td>\n",
       "      <td>0.663781</td>\n",
       "      <td>736.000000</td>\n",
       "    </tr>\n",
       "    <tr>\n",
       "      <th>2</th>\n",
       "      <td>0.795226</td>\n",
       "      <td>0.798235</td>\n",
       "      <td>0.796728</td>\n",
       "      <td>1586.000000</td>\n",
       "    </tr>\n",
       "    <tr>\n",
       "      <th>3</th>\n",
       "      <td>0.854084</td>\n",
       "      <td>0.859880</td>\n",
       "      <td>0.856972</td>\n",
       "      <td>2505.000000</td>\n",
       "    </tr>\n",
       "    <tr>\n",
       "      <th>4</th>\n",
       "      <td>0.830032</td>\n",
       "      <td>0.883224</td>\n",
       "      <td>0.855802</td>\n",
       "      <td>3511.000000</td>\n",
       "    </tr>\n",
       "    <tr>\n",
       "      <th>5</th>\n",
       "      <td>0.728261</td>\n",
       "      <td>0.503759</td>\n",
       "      <td>0.595556</td>\n",
       "      <td>133.000000</td>\n",
       "    </tr>\n",
       "    <tr>\n",
       "      <th>6</th>\n",
       "      <td>0.936220</td>\n",
       "      <td>0.934651</td>\n",
       "      <td>0.935435</td>\n",
       "      <td>2984.000000</td>\n",
       "    </tr>\n",
       "    <tr>\n",
       "      <th>7</th>\n",
       "      <td>0.000000</td>\n",
       "      <td>0.000000</td>\n",
       "      <td>0.000000</td>\n",
       "      <td>22.000000</td>\n",
       "    </tr>\n",
       "    <tr>\n",
       "      <th>8</th>\n",
       "      <td>0.546392</td>\n",
       "      <td>0.365517</td>\n",
       "      <td>0.438017</td>\n",
       "      <td>145.000000</td>\n",
       "    </tr>\n",
       "    <tr>\n",
       "      <th>9</th>\n",
       "      <td>0.740741</td>\n",
       "      <td>0.697674</td>\n",
       "      <td>0.718563</td>\n",
       "      <td>172.000000</td>\n",
       "    </tr>\n",
       "    <tr>\n",
       "      <th>10</th>\n",
       "      <td>0.867403</td>\n",
       "      <td>0.737089</td>\n",
       "      <td>0.796954</td>\n",
       "      <td>426.000000</td>\n",
       "    </tr>\n",
       "    <tr>\n",
       "      <th>accuracy</th>\n",
       "      <td>0.840593</td>\n",
       "      <td>0.840593</td>\n",
       "      <td>0.840593</td>\n",
       "      <td>0.840593</td>\n",
       "    </tr>\n",
       "    <tr>\n",
       "      <th>macro avg</th>\n",
       "      <td>0.707526</td>\n",
       "      <td>0.654557</td>\n",
       "      <td>0.676692</td>\n",
       "      <td>13362.000000</td>\n",
       "    </tr>\n",
       "    <tr>\n",
       "      <th>weighted avg</th>\n",
       "      <td>0.837414</td>\n",
       "      <td>0.840593</td>\n",
       "      <td>0.838058</td>\n",
       "      <td>13362.000000</td>\n",
       "    </tr>\n",
       "  </tbody>\n",
       "</table>\n",
       "</div>"
      ],
      "text/plain": [
       "              precision    recall  f1-score       support\n",
       "0              0.776732  0.795096  0.785807   1142.000000\n",
       "1              0.707692  0.625000  0.663781    736.000000\n",
       "2              0.795226  0.798235  0.796728   1586.000000\n",
       "3              0.854084  0.859880  0.856972   2505.000000\n",
       "4              0.830032  0.883224  0.855802   3511.000000\n",
       "5              0.728261  0.503759  0.595556    133.000000\n",
       "6              0.936220  0.934651  0.935435   2984.000000\n",
       "7              0.000000  0.000000  0.000000     22.000000\n",
       "8              0.546392  0.365517  0.438017    145.000000\n",
       "9              0.740741  0.697674  0.718563    172.000000\n",
       "10             0.867403  0.737089  0.796954    426.000000\n",
       "accuracy       0.840593  0.840593  0.840593      0.840593\n",
       "macro avg      0.707526  0.654557  0.676692  13362.000000\n",
       "weighted avg   0.837414  0.840593  0.838058  13362.000000"
      ]
     },
     "execution_count": 59,
     "metadata": {},
     "output_type": "execute_result"
    }
   ],
   "source": [
    "lgb_clf = LGBMClassifier(**lgb_study.best_params)\n",
    "lgb_clf.fit(X_train, y_train)\n",
    "\n",
    "y_pred_train = lgb_clf.predict(X_train)\n",
    "y_pred_test = lgb_clf.predict(X_test)\n",
    "\n",
    "lgb_train_acc = accuracy_score(y_train, y_pred_train)\n",
    "lgb_test_acc = accuracy_score(y_test, y_pred_test)\n",
    "\n",
    "lgb_train_f1 = f1_score(y_train, y_pred_train, average='weighted')\n",
    "lgb_test_f1 = f1_score(y_test, y_pred_test, average='weighted')\n",
    "\n",
    "print(\"LightGBM Classifier Accuracy on Train Dataset: {}\".format(lgb_train_acc))\n",
    "print(\"\\nLightGBM Classifier Accuracy on Test Dataset: {}\".format(lgb_test_acc))\n",
    "print(\"#####################\")\n",
    "print(\"\\nLightGBM Classifier F1 Score on Train Dataset: {}\".format(lgb_train_f1))\n",
    "print(\"\\nLightGBM Classifier F1 Score on Test Dataset: {}\".format(lgb_test_f1))\n",
    "\n",
    "# Create Test Confusion Matrix and Classification Report\n",
    "cm_lgb = confusion_matrix(y_test, y_pred_test) # can use to make heatmap\n",
    "cr_lgb = pd.DataFrame(classification_report(y_test, y_pred_test, zero_division=1, output_dict=True)).T #, average= 'weighted')\n",
    "cr_lgb"
   ]
  },
  {
   "cell_type": "code",
   "execution_count": 60,
   "id": "58301ae3",
   "metadata": {},
   "outputs": [
    {
     "data": {
      "image/png": "[encoded data removed]",
      "text/plain": [
       "<Figure size 720x720 with 2 Axes>"
      ]
     },
     "metadata": {
      "needs_background": "light"
     },
     "output_type": "display_data"
    }
   ],
   "source": [
    "#Plotting the confusion matrix as heatmap\n",
    "plt.figure(figsize=(10,10))\n",
    "sns.heatmap(cm_lgb, annot=True, cmap='viridis') #, linewidth=.1)#, annot=True)\n",
    "plt.title('Confusion Matrix - LightGBM Classifier Model')\n",
    "plt.ylabel('Actual Values')\n",
    "plt.xlabel('Predicted Values')\n",
    "plt.show()"
   ]
  },
  {
   "cell_type": "markdown",
   "id": "71aaff3b",
   "metadata": {},
   "source": [
    "- ### LightGBM Classifier performed about the same as the Passive Aggressive and Logistic Regression Classifiers and, therefore, better than the Random Forest and XGBoost Classifiers.\n",
    "- ### Marginal evidence of overfitting with higher metrics on training data."
   ]
  },
  {
   "cell_type": "markdown",
   "id": "25c30f9f",
   "metadata": {},
   "source": [
    "## Save Models"
   ]
  },
  {
   "cell_type": "code",
   "execution_count": 62,
   "id": "c79796c0",
   "metadata": {},
   "outputs": [],
   "source": [
    "pickle.dump(log_clf, open('./bin/tfidf/log_clf.pkl', 'wb'))\n",
    "pickle.dump(pac_clf, open('./bin/tfidf/pac_clf.pkl', 'wb'))\n",
    "pickle.dump(rfc_clf, open('./bin/tfidf/rfc_clf.pkl', 'wb'))\n",
    "pickle.dump(xgb_clf, open('./bin/tfidf/xgb_clf.pkl', 'wb'))\n",
    "pickle.dump(lgb_clf, open('./bin/tfidf/lgb_clf.pkl', 'wb'))"
   ]
  },
  {
   "cell_type": "markdown",
   "id": "e1664c1f",
   "metadata": {},
   "source": [
    "## Ensemble best models together to balance bias-variance tradeoff / mitigate any overfitting."
   ]
  },
  {
   "cell_type": "code",
   "execution_count": null,
   "id": "f34b2b98",
   "metadata": {},
   "outputs": [],
   "source": [
    "# load 3 best saved models\n",
    "log_clf = pickle.load(open('./bin/tfidf/log_clf.pkl', 'rb'))\n",
    "pac_clf = pickle.load(open('./bin/tfidf/pac_clf.pkl', 'rb'))\n",
    "lgb_clf = pickle.load(open('./bin/tfidf/lgb_clf.pkl', 'rb'))"
   ]
  },
  {
   "cell_type": "code",
   "execution_count": 70,
   "id": "b9cb1709",
   "metadata": {},
   "outputs": [],
   "source": [
    "ensemble_clf = VotingClassifier(estimators=[('log', log_clf), ('pac', pac_clf), ('lgb', lgb_clf)], \n",
    "                                    voting='hard') # must use 'hard' voting and not 'soft' argmax voting since pac does not have predict_proba"
   ]
  },
  {
   "cell_type": "code",
   "execution_count": 71,
   "id": "8644201b",
   "metadata": {},
   "outputs": [],
   "source": [
    "ensemble_clf = ensemble_clf.fit(X_train, y_train)"
   ]
  },
  {
   "cell_type": "code",
   "execution_count": 72,
   "id": "3f6df065",
   "metadata": {},
   "outputs": [],
   "source": [
    "y_pred_train_ensemble = ensemble_clf.predict(X_train)\n",
    "y_pred_test_ensemble = ensemble_clf.predict(X_test)"
   ]
  },
  {
   "cell_type": "code",
   "execution_count": 73,
   "id": "0123a36e",
   "metadata": {},
   "outputs": [
    {
     "name": "stdout",
     "output_type": "stream",
     "text": [
      "Ensemble Accuracy on Train Dataset: 0.9090449816630491\n",
      "\n",
      "Ensemble Accuracy on Test Dataset: 0.8506211644963328\n",
      "#####################\n",
      "\n",
      "Ensemble F1 Score on Train Dataset: 0.9082211318733782\n",
      "\n",
      "Ensemble F1 Score on Test Dataset: 0.8471514707211656\n"
     ]
    }
   ],
   "source": [
    "results_ensemble_train_acc = accuracy_score(y_train, y_pred_train_ensemble)\n",
    "results_ensemble_test_acc = accuracy_score(y_test, y_pred_test_ensemble)\n",
    "\n",
    "results_ensemble_train_f1 = f1_score(y_train, y_pred_train_ensemble, average='weighted')\n",
    "results_ensemble_test_f1 = f1_score(y_test, y_pred_test_ensemble, average='weighted')\n",
    "\n",
    "print(\"Ensemble Accuracy on Train Dataset: {}\".format(results_ensemble_train_acc))\n",
    "print(\"\\nEnsemble Accuracy on Test Dataset: {}\".format(results_ensemble_test_acc))\n",
    "print(\"#####################\")\n",
    "print(\"\\nEnsemble F1 Score on Train Dataset: {}\".format(results_ensemble_train_f1))\n",
    "print(\"\\nEnsemble F1 Score on Test Dataset: {}\".format(results_ensemble_test_f1))"
   ]
  },
  {
   "cell_type": "markdown",
   "id": "16e65af3",
   "metadata": {},
   "source": [
    "- ### Still some overfitting to training data.  Try removing pac and only ensembling Logistic Regression and LightGBM together using 'soft' argmax voting with predict_proba"
   ]
  },
  {
   "cell_type": "code",
   "execution_count": 74,
   "id": "222b763a",
   "metadata": {},
   "outputs": [],
   "source": [
    "ensemble_clf_soft = VotingClassifier(estimators=[('log', log_clf), ('lgb', lgb_clf)], \n",
    "                                    voting='soft')"
   ]
  },
  {
   "cell_type": "code",
   "execution_count": 75,
   "id": "51beb670",
   "metadata": {},
   "outputs": [],
   "source": [
    "ensemble_clf_soft = ensemble_clf_soft.fit(X_train, y_train)"
   ]
  },
  {
   "cell_type": "code",
   "execution_count": 76,
   "id": "f8b72d7d",
   "metadata": {},
   "outputs": [],
   "source": [
    "y_pred_train_ensemble = ensemble_clf_soft.predict(X_train)\n",
    "y_pred_test_ensemble = ensemble_clf_soft.predict(X_test)"
   ]
  },
  {
   "cell_type": "code",
   "execution_count": 77,
   "id": "9d675581",
   "metadata": {},
   "outputs": [
    {
     "name": "stdout",
     "output_type": "stream",
     "text": [
      "Ensemble Accuracy on Train Dataset: 0.9106915650026196\n",
      "\n",
      "Ensemble Accuracy on Test Dataset: 0.8515940727436012\n",
      "#####################\n",
      "\n",
      "Ensemble F1 Score on Train Dataset: 0.9100973527599954\n",
      "\n",
      "Ensemble F1 Score on Test Dataset: 0.8483338785672996\n"
     ]
    }
   ],
   "source": [
    "results_ensemble_train_acc = accuracy_score(y_train, y_pred_train_ensemble)\n",
    "results_ensemble_test_acc = accuracy_score(y_test, y_pred_test_ensemble)\n",
    "\n",
    "results_ensemble_train_f1 = f1_score(y_train, y_pred_train_ensemble, average='weighted')\n",
    "results_ensemble_test_f1 = f1_score(y_test, y_pred_test_ensemble, average='weighted')\n",
    "\n",
    "print(\"Ensemble Accuracy on Train Dataset: {}\".format(results_ensemble_train_acc))\n",
    "print(\"\\nEnsemble Accuracy on Test Dataset: {}\".format(results_ensemble_test_acc))\n",
    "print(\"#####################\")\n",
    "print(\"\\nEnsemble F1 Score on Train Dataset: {}\".format(results_ensemble_train_f1))\n",
    "print(\"\\nEnsemble F1 Score on Test Dataset: {}\".format(results_ensemble_test_f1))"
   ]
  },
  {
   "cell_type": "markdown",
   "id": "a3ef936a",
   "metadata": {},
   "source": [
    "- ### Still some overfitting to training data but not drastic. Accuracy and f1 scores are slightly better when just ensembling Logistic Regression and LightGBM Classifiers using 'soft' argmax voting (predict_proba) than ensembling Logistic Regression, Passive Aggressive, and LightGBM Classifiers using 'hard' voting (predict, not predict_proba). "
   ]
  },
  {
   "cell_type": "markdown",
   "id": "42730897",
   "metadata": {},
   "source": [
    "## Look to improve results with feature engineering on the text"
   ]
  },
  {
   "cell_type": "markdown",
   "id": "3cf7a32e",
   "metadata": {},
   "source": [
    "#### Extract text related features\n",
    "1. Character count\n",
    "2. Word count\n",
    "3. Word density\n",
    "4. Punctutation count\n",
    "5. Title Word count\n",
    "6. Uppercase word count\n",
    "7. Stopword count"
   ]
  },
  {
   "cell_type": "code",
   "execution_count": 78,
   "id": "ba750d15",
   "metadata": {},
   "outputs": [
    {
     "data": {
      "text/html": [
       "<div>\n",
       "<style scoped>\n",
       "    .dataframe tbody tr th:only-of-type {\n",
       "        vertical-align: middle;\n",
       "    }\n",
       "\n",
       "    .dataframe tbody tr th {\n",
       "        vertical-align: top;\n",
       "    }\n",
       "\n",
       "    .dataframe thead th {\n",
       "        text-align: right;\n",
       "    }\n",
       "</style>\n",
       "<table border=\"1\" class=\"dataframe\">\n",
       "  <thead>\n",
       "    <tr style=\"text-align: right;\">\n",
       "      <th></th>\n",
       "      <th>text</th>\n",
       "      <th>label</th>\n",
       "      <th>target</th>\n",
       "    </tr>\n",
       "  </thead>\n",
       "  <tbody>\n",
       "    <tr>\n",
       "      <th>190126</th>\n",
       "      <td>XXXX has claimed I owe them  for XXXX years de...</td>\n",
       "      <td>Debt collection</td>\n",
       "      <td>4</td>\n",
       "    </tr>\n",
       "    <tr>\n",
       "      <th>190135</th>\n",
       "      <td>Due to inconsistencies in the amount owed that...</td>\n",
       "      <td>Consumer Loan</td>\n",
       "      <td>1</td>\n",
       "    </tr>\n",
       "    <tr>\n",
       "      <th>190155</th>\n",
       "      <td>In XXXXXXXX my wages that I earned at my job d...</td>\n",
       "      <td>Mortgage</td>\n",
       "      <td>6</td>\n",
       "    </tr>\n",
       "    <tr>\n",
       "      <th>190207</th>\n",
       "      <td>I have an open and current mortgage with Chase...</td>\n",
       "      <td>Mortgage</td>\n",
       "      <td>6</td>\n",
       "    </tr>\n",
       "    <tr>\n",
       "      <th>190208</th>\n",
       "      <td>XXXX was submitted XXXXXXXX At the time I subm...</td>\n",
       "      <td>Mortgage</td>\n",
       "      <td>6</td>\n",
       "    </tr>\n",
       "  </tbody>\n",
       "</table>\n",
       "</div>"
      ],
      "text/plain": [
       "                                                     text            label  \\\n",
       "190126  XXXX has claimed I owe them  for XXXX years de...  Debt collection   \n",
       "190135  Due to inconsistencies in the amount owed that...    Consumer Loan   \n",
       "190155  In XXXXXXXX my wages that I earned at my job d...         Mortgage   \n",
       "190207  I have an open and current mortgage with Chase...         Mortgage   \n",
       "190208  XXXX was submitted XXXXXXXX At the time I subm...         Mortgage   \n",
       "\n",
       "        target  \n",
       "190126       4  \n",
       "190135       1  \n",
       "190155       6  \n",
       "190207       6  \n",
       "190208       6  "
      ]
     },
     "execution_count": 78,
     "metadata": {},
     "output_type": "execute_result"
    }
   ],
   "source": [
    "df.head()"
   ]
  },
  {
   "cell_type": "code",
   "execution_count": 79,
   "id": "30a330c4",
   "metadata": {},
   "outputs": [],
   "source": [
    "# extract some features from text\n",
    "df['char_count'] = df['text'].apply(len)\n",
    "df['word_count'] = df['text'].apply(lambda x: len(x.split()))\n",
    "df['word_density'] = df['char_count'] / (df['word_count']+1)\n",
    "df['punctuation_count'] = df['text'].apply(lambda x: len(\"\".join(_ for _ in x if _ in punctuation)))\n",
    "df['title_word_count'] = df['text'].apply(lambda x: len([wrd for wrd in x.split() if wrd.istitle()]))\n",
    "df['upper_case_word_count'] = df['text'].apply(lambda x: len([wrd for wrd in x.split() if wrd.isupper()]))\n",
    "df['stopword_count'] = df['text'].apply(lambda x: len([wrd for wrd in x.split() if wrd.lower() in stop_words]))"
   ]
  },
  {
   "cell_type": "code",
   "execution_count": 80,
   "id": "b15301cf",
   "metadata": {},
   "outputs": [
    {
     "data": {
      "text/html": [
       "<div>\n",
       "<style scoped>\n",
       "    .dataframe tbody tr th:only-of-type {\n",
       "        vertical-align: middle;\n",
       "    }\n",
       "\n",
       "    .dataframe tbody tr th {\n",
       "        vertical-align: top;\n",
       "    }\n",
       "\n",
       "    .dataframe thead th {\n",
       "        text-align: right;\n",
       "    }\n",
       "</style>\n",
       "<table border=\"1\" class=\"dataframe\">\n",
       "  <thead>\n",
       "    <tr style=\"text-align: right;\">\n",
       "      <th></th>\n",
       "      <th>text</th>\n",
       "      <th>label</th>\n",
       "      <th>target</th>\n",
       "      <th>char_count</th>\n",
       "      <th>word_count</th>\n",
       "      <th>word_density</th>\n",
       "      <th>punctuation_count</th>\n",
       "      <th>title_word_count</th>\n",
       "      <th>upper_case_word_count</th>\n",
       "      <th>stopword_count</th>\n",
       "    </tr>\n",
       "  </thead>\n",
       "  <tbody>\n",
       "    <tr>\n",
       "      <th>190126</th>\n",
       "      <td>XXXX has claimed I owe them  for XXXX years de...</td>\n",
       "      <td>Debt collection</td>\n",
       "      <td>4</td>\n",
       "      <td>279</td>\n",
       "      <td>52</td>\n",
       "      <td>5.264151</td>\n",
       "      <td>0</td>\n",
       "      <td>7</td>\n",
       "      <td>10</td>\n",
       "      <td>26</td>\n",
       "    </tr>\n",
       "    <tr>\n",
       "      <th>190135</th>\n",
       "      <td>Due to inconsistencies in the amount owed that...</td>\n",
       "      <td>Consumer Loan</td>\n",
       "      <td>1</td>\n",
       "      <td>1251</td>\n",
       "      <td>238</td>\n",
       "      <td>5.234310</td>\n",
       "      <td>0</td>\n",
       "      <td>27</td>\n",
       "      <td>23</td>\n",
       "      <td>126</td>\n",
       "    </tr>\n",
       "    <tr>\n",
       "      <th>190155</th>\n",
       "      <td>In XXXXXXXX my wages that I earned at my job d...</td>\n",
       "      <td>Mortgage</td>\n",
       "      <td>6</td>\n",
       "      <td>3464</td>\n",
       "      <td>658</td>\n",
       "      <td>5.256449</td>\n",
       "      <td>6</td>\n",
       "      <td>71</td>\n",
       "      <td>52</td>\n",
       "      <td>355</td>\n",
       "    </tr>\n",
       "    <tr>\n",
       "      <th>190207</th>\n",
       "      <td>I have an open and current mortgage with Chase...</td>\n",
       "      <td>Mortgage</td>\n",
       "      <td>6</td>\n",
       "      <td>430</td>\n",
       "      <td>74</td>\n",
       "      <td>5.733333</td>\n",
       "      <td>0</td>\n",
       "      <td>11</td>\n",
       "      <td>11</td>\n",
       "      <td>32</td>\n",
       "    </tr>\n",
       "    <tr>\n",
       "      <th>190208</th>\n",
       "      <td>XXXX was submitted XXXXXXXX At the time I subm...</td>\n",
       "      <td>Mortgage</td>\n",
       "      <td>6</td>\n",
       "      <td>1503</td>\n",
       "      <td>259</td>\n",
       "      <td>5.780769</td>\n",
       "      <td>0</td>\n",
       "      <td>19</td>\n",
       "      <td>14</td>\n",
       "      <td>141</td>\n",
       "    </tr>\n",
       "  </tbody>\n",
       "</table>\n",
       "</div>"
      ],
      "text/plain": [
       "                                                     text            label  \\\n",
       "190126  XXXX has claimed I owe them  for XXXX years de...  Debt collection   \n",
       "190135  Due to inconsistencies in the amount owed that...    Consumer Loan   \n",
       "190155  In XXXXXXXX my wages that I earned at my job d...         Mortgage   \n",
       "190207  I have an open and current mortgage with Chase...         Mortgage   \n",
       "190208  XXXX was submitted XXXXXXXX At the time I subm...         Mortgage   \n",
       "\n",
       "        target  char_count  word_count  word_density  punctuation_count  \\\n",
       "190126       4         279          52      5.264151                  0   \n",
       "190135       1        1251         238      5.234310                  0   \n",
       "190155       6        3464         658      5.256449                  6   \n",
       "190207       6         430          74      5.733333                  0   \n",
       "190208       6        1503         259      5.780769                  0   \n",
       "\n",
       "        title_word_count  upper_case_word_count  stopword_count  \n",
       "190126                 7                     10              26  \n",
       "190135                27                     23             126  \n",
       "190155                71                     52             355  \n",
       "190207                11                     11              32  \n",
       "190208                19                     14             141  "
      ]
     },
     "execution_count": 80,
     "metadata": {},
     "output_type": "execute_result"
    }
   ],
   "source": [
    "df.head()"
   ]
  },
  {
   "cell_type": "markdown",
   "id": "d3ce5462",
   "metadata": {},
   "source": [
    "#### Sentiment Analysis\n",
    "1. Polarity\n",
    "2. Subjectivity"
   ]
  },
  {
   "cell_type": "code",
   "execution_count": 83,
   "id": "453c7191",
   "metadata": {},
   "outputs": [],
   "source": [
    "df['text_polarity'] = df['text'].apply(lambda x: TextBlob(x).polarity)\n",
    "df['text_subjectivity'] = df['text'].apply(lambda x: TextBlob(x).subjectivity)"
   ]
  },
  {
   "cell_type": "code",
   "execution_count": 84,
   "id": "40134e2f",
   "metadata": {},
   "outputs": [
    {
     "name": "stdout",
     "output_type": "stream",
     "text": [
      "<class 'pandas.core.frame.DataFrame'>\n",
      "Int64Index: 66806 entries, 190126 to 553096\n",
      "Data columns (total 12 columns):\n",
      " #   Column                 Non-Null Count  Dtype  \n",
      "---  ------                 --------------  -----  \n",
      " 0   text                   66806 non-null  object \n",
      " 1   label                  66806 non-null  object \n",
      " 2   target                 66806 non-null  int8   \n",
      " 3   char_count             66806 non-null  int64  \n",
      " 4   word_count             66806 non-null  int64  \n",
      " 5   word_density           66806 non-null  float64\n",
      " 6   punctuation_count      66806 non-null  int64  \n",
      " 7   title_word_count       66806 non-null  int64  \n",
      " 8   upper_case_word_count  66806 non-null  int64  \n",
      " 9   stopword_count         66806 non-null  int64  \n",
      " 10  text_polarity          66806 non-null  float64\n",
      " 11  text_subjectivity      66806 non-null  float64\n",
      "dtypes: float64(3), int64(6), int8(1), object(2)\n",
      "memory usage: 6.2+ MB\n"
     ]
    }
   ],
   "source": [
    "df.info()"
   ]
  },
  {
   "cell_type": "code",
   "execution_count": 85,
   "id": "68fdbebe",
   "metadata": {},
   "outputs": [],
   "source": [
    "numFeatures=['char_count', 'word_count', 'word_density', 'punctuation_count', 'title_word_count', \n",
    "            'upper_case_word_count', 'stopword_count', 'text_polarity', 'text_subjectivity']"
   ]
  },
  {
   "cell_type": "code",
   "execution_count": 86,
   "id": "276b9039",
   "metadata": {},
   "outputs": [
    {
     "data": {
      "text/html": [
       "<div>\n",
       "<style scoped>\n",
       "    .dataframe tbody tr th:only-of-type {\n",
       "        vertical-align: middle;\n",
       "    }\n",
       "\n",
       "    .dataframe tbody tr th {\n",
       "        vertical-align: top;\n",
       "    }\n",
       "\n",
       "    .dataframe thead th {\n",
       "        text-align: right;\n",
       "    }\n",
       "</style>\n",
       "<table border=\"1\" class=\"dataframe\">\n",
       "  <thead>\n",
       "    <tr style=\"text-align: right;\">\n",
       "      <th></th>\n",
       "      <th>char_count</th>\n",
       "      <th>word_count</th>\n",
       "      <th>word_density</th>\n",
       "      <th>punctuation_count</th>\n",
       "      <th>title_word_count</th>\n",
       "      <th>upper_case_word_count</th>\n",
       "      <th>stopword_count</th>\n",
       "      <th>text_polarity</th>\n",
       "      <th>text_subjectivity</th>\n",
       "    </tr>\n",
       "  </thead>\n",
       "  <tbody>\n",
       "    <tr>\n",
       "      <th>190126</th>\n",
       "      <td>279</td>\n",
       "      <td>52</td>\n",
       "      <td>5.264151</td>\n",
       "      <td>0</td>\n",
       "      <td>7</td>\n",
       "      <td>10</td>\n",
       "      <td>26</td>\n",
       "      <td>0.000000</td>\n",
       "      <td>0.000000</td>\n",
       "    </tr>\n",
       "    <tr>\n",
       "      <th>190135</th>\n",
       "      <td>1251</td>\n",
       "      <td>238</td>\n",
       "      <td>5.234310</td>\n",
       "      <td>0</td>\n",
       "      <td>27</td>\n",
       "      <td>23</td>\n",
       "      <td>126</td>\n",
       "      <td>0.085000</td>\n",
       "      <td>0.467500</td>\n",
       "    </tr>\n",
       "    <tr>\n",
       "      <th>190155</th>\n",
       "      <td>3464</td>\n",
       "      <td>658</td>\n",
       "      <td>5.256449</td>\n",
       "      <td>6</td>\n",
       "      <td>71</td>\n",
       "      <td>52</td>\n",
       "      <td>355</td>\n",
       "      <td>-0.016155</td>\n",
       "      <td>0.455409</td>\n",
       "    </tr>\n",
       "  </tbody>\n",
       "</table>\n",
       "</div>"
      ],
      "text/plain": [
       "        char_count  word_count  word_density  punctuation_count  \\\n",
       "190126         279          52      5.264151                  0   \n",
       "190135        1251         238      5.234310                  0   \n",
       "190155        3464         658      5.256449                  6   \n",
       "\n",
       "        title_word_count  upper_case_word_count  stopword_count  \\\n",
       "190126                 7                     10              26   \n",
       "190135                27                     23             126   \n",
       "190155                71                     52             355   \n",
       "\n",
       "        text_polarity  text_subjectivity  \n",
       "190126       0.000000           0.000000  \n",
       "190135       0.085000           0.467500  \n",
       "190155      -0.016155           0.455409  "
      ]
     },
     "execution_count": 86,
     "metadata": {},
     "output_type": "execute_result"
    }
   ],
   "source": [
    "df[numFeatures].head(3)"
   ]
  },
  {
   "cell_type": "code",
   "execution_count": 87,
   "id": "f627bd1b",
   "metadata": {},
   "outputs": [
    {
     "data": {
      "text/plain": [
       "char_count                 int64\n",
       "word_count                 int64\n",
       "word_density             float64\n",
       "punctuation_count          int64\n",
       "title_word_count           int64\n",
       "upper_case_word_count      int64\n",
       "stopword_count             int64\n",
       "text_polarity            float64\n",
       "text_subjectivity        float64\n",
       "dtype: object"
      ]
     },
     "execution_count": 87,
     "metadata": {},
     "output_type": "execute_result"
    }
   ],
   "source": [
    "df[numFeatures].dtypes"
   ]
  },
  {
   "cell_type": "code",
   "execution_count": 88,
   "id": "8c1f0b5f",
   "metadata": {},
   "outputs": [],
   "source": [
    "# Load X matrix here:\n",
    "X_text = sparse.load_npz(\"./bin/tfidf/X_text.npz\")"
   ]
  },
  {
   "cell_type": "code",
   "execution_count": 90,
   "id": "079ee1fb",
   "metadata": {},
   "outputs": [],
   "source": [
    "X = hstack((X_text, StandardScaler().fit_transform(df[numFeatures]))).tocsr()"
   ]
  },
  {
   "cell_type": "markdown",
   "id": "51ec9047",
   "metadata": {},
   "source": [
    "## Save feature engineered X matrix and df"
   ]
  },
  {
   "cell_type": "code",
   "execution_count": 91,
   "id": "59a440d4",
   "metadata": {},
   "outputs": [],
   "source": [
    "#Save the feature engineered X matrix into an NPZ file\n",
    "sparse.save_npz(\"./bin/tfidf/X_featured_engineered.npz\", X)"
   ]
  },
  {
   "cell_type": "code",
   "execution_count": 92,
   "id": "420735ef",
   "metadata": {},
   "outputs": [],
   "source": [
    "#Save the feature engineered dataframe\n",
    "pickle.dump(df, open(\"./bin/tfidf/df_feature_engineered.pkl\",'wb'))"
   ]
  },
  {
   "cell_type": "code",
   "execution_count": null,
   "id": "7d842fce",
   "metadata": {},
   "outputs": [],
   "source": [
    "# Load feature engineered X matrix and df:\n",
    "X = sparse.load_npz(\"./bin/tfidf/X_featured_engineered.npz\")\n",
    "df = pickle.load(open(\"./bin/tfidf/df_feature_engineered.pkl\", 'rb'))"
   ]
  },
  {
   "cell_type": "code",
   "execution_count": 93,
   "id": "45794df8",
   "metadata": {},
   "outputs": [
    {
     "name": "stdout",
     "output_type": "stream",
     "text": [
      "  (0, 172)\t0.11841887712565843\n",
      "  (0, 179)\t0.13975713778412782\n",
      "  (0, 202)\t0.1405638338092625\n",
      "  (0, 203)\t0.22365830584947977\n",
      "  (0, 569)\t0.11730573254807165\n",
      "  (0, 714)\t0.15422477070313387\n",
      "  (0, 717)\t0.2606784861169404\n",
      "  (0, 826)\t0.10935226522853173\n",
      "  (0, 859)\t0.12486571738159466\n",
      "  (0, 860)\t0.22115749727707837\n",
      "  (0, 891)\t0.09891690865826656\n",
      "  (0, 894)\t0.14766461202505765\n",
      "  (0, 1024)\t0.11590478672554481\n",
      "  (0, 1309)\t0.17662824810887562\n",
      "  (0, 1753)\t0.21647967772925253\n",
      "  (0, 1754)\t0.26636888787163054\n",
      "  (0, 1903)\t0.15482017344254168\n",
      "  (0, 2110)\t0.20079812332469088\n",
      "  (0, 2148)\t0.22912396180812358\n",
      "  (0, 2865)\t0.11452403769201529\n",
      "  (0, 2871)\t0.1853503057215472\n",
      "  (0, 2879)\t0.09908123962976813\n",
      "  (0, 2951)\t0.08257497398319331\n",
      "  (0, 3006)\t0.23642049527306408\n",
      "  (0, 3183)\t0.14223767778094765\n",
      "  :\t:\n",
      "  (66805, 4451)\t0.04627605789149749\n",
      "  (66805, 4473)\t0.06615802823578464\n",
      "  (66805, 4484)\t0.055693632865173516\n",
      "  (66805, 4516)\t0.0313790459348524\n",
      "  (66805, 4518)\t0.09224444921364815\n",
      "  (66805, 4540)\t0.060542023759386256\n",
      "  (66805, 4544)\t0.08172869688665518\n",
      "  (66805, 4548)\t0.08102752248272078\n",
      "  (66805, 4575)\t0.07316188879399839\n",
      "  (66805, 4577)\t0.017899501895199416\n",
      "  (66805, 4595)\t0.09472089085033364\n",
      "  (66805, 4601)\t0.07133290539354799\n",
      "  (66805, 4764)\t0.09784212894003202\n",
      "  (66805, 4807)\t0.0926174843244083\n",
      "  (66805, 4868)\t0.08122202493174246\n",
      "  (66805, 4924)\t0.02396194138933754\n",
      "  (66805, 5000)\t3.0287964600491524\n",
      "  (66805, 5001)\t2.796871770827995\n",
      "  (66805, 5002)\t0.8404490668463885\n",
      "  (66805, 5003)\t3.3224677172140065\n",
      "  (66805, 5004)\t2.6121980178026964\n",
      "  (66805, 5005)\t0.11055720456499164\n",
      "  (66805, 5006)\t2.6243144627757644\n",
      "  (66805, 5007)\t0.10386618672959236\n",
      "  (66805, 5008)\t0.6463595566424444\n"
     ]
    }
   ],
   "source": [
    "print(X)"
   ]
  },
  {
   "cell_type": "code",
   "execution_count": 94,
   "id": "b254395f",
   "metadata": {},
   "outputs": [
    {
     "name": "stdout",
     "output_type": "stream",
     "text": [
      "<class 'pandas.core.frame.DataFrame'>\n",
      "Int64Index: 66806 entries, 190126 to 553096\n",
      "Data columns (total 12 columns):\n",
      " #   Column                 Non-Null Count  Dtype  \n",
      "---  ------                 --------------  -----  \n",
      " 0   text                   66806 non-null  object \n",
      " 1   label                  66806 non-null  object \n",
      " 2   target                 66806 non-null  int8   \n",
      " 3   char_count             66806 non-null  int64  \n",
      " 4   word_count             66806 non-null  int64  \n",
      " 5   word_density           66806 non-null  float64\n",
      " 6   punctuation_count      66806 non-null  int64  \n",
      " 7   title_word_count       66806 non-null  int64  \n",
      " 8   upper_case_word_count  66806 non-null  int64  \n",
      " 9   stopword_count         66806 non-null  int64  \n",
      " 10  text_polarity          66806 non-null  float64\n",
      " 11  text_subjectivity      66806 non-null  float64\n",
      "dtypes: float64(3), int64(6), int8(1), object(2)\n",
      "memory usage: 6.2+ MB\n"
     ]
    }
   ],
   "source": [
    "df.info()"
   ]
  },
  {
   "cell_type": "code",
   "execution_count": 95,
   "id": "33111f5b",
   "metadata": {},
   "outputs": [
    {
     "name": "stdout",
     "output_type": "stream",
     "text": [
      "(66806, 5009)\n",
      "(66806,)\n"
     ]
    }
   ],
   "source": [
    "y = df['target'].values\n",
    "print(X.shape)\n",
    "print(y.shape)"
   ]
  },
  {
   "cell_type": "markdown",
   "id": "34f6343b",
   "metadata": {},
   "source": [
    "## Split feature engineered data into training and test datasets."
   ]
  },
  {
   "cell_type": "code",
   "execution_count": 96,
   "id": "76697a24",
   "metadata": {},
   "outputs": [
    {
     "name": "stdout",
     "output_type": "stream",
     "text": [
      "TRAIN: [21552 17614 26675 ... 21287 55579 26041] TEST: [38106 56208   152 ... 62311   397 32064]\n",
      "TRAIN: [31334 33221 32682 ... 43019 57821  1023] TEST: [45340 25255 49937 ...  9552 47021 23457]\n"
     ]
    }
   ],
   "source": [
    "for train_index, test_index in sss.split(X, y):\n",
    "    print(\"TRAIN:\", train_index, \"TEST:\", test_index)\n",
    "    X_train, X_test = X[train_index], X[test_index]\n",
    "    y_train, y_test = y[train_index], y[test_index]"
   ]
  },
  {
   "cell_type": "markdown",
   "id": "3123d7d1",
   "metadata": {},
   "source": [
    "## Fit ensemble model with 'soft' voting onto feature engineered data."
   ]
  },
  {
   "cell_type": "code",
   "execution_count": 97,
   "id": "222b763a",
   "metadata": {},
   "outputs": [],
   "source": [
    "ensemble_clf_soft_fe = VotingClassifier(estimators=[('log', log_clf), ('lgb', lgb_clf)], \n",
    "                                        voting='soft')"
   ]
  },
  {
   "cell_type": "code",
   "execution_count": 98,
   "id": "51beb670",
   "metadata": {},
   "outputs": [],
   "source": [
    "ensemble_clf_soft_fe = ensemble_clf_soft_fe.fit(X_train, y_train)"
   ]
  },
  {
   "cell_type": "code",
   "execution_count": 99,
   "id": "f8b72d7d",
   "metadata": {},
   "outputs": [],
   "source": [
    "y_pred_train_ensemble = ensemble_clf_soft_fe.predict(X_train)\n",
    "y_pred_test_ensemble = ensemble_clf_soft_fe.predict(X_test)"
   ]
  },
  {
   "cell_type": "code",
   "execution_count": 100,
   "id": "9d675581",
   "metadata": {},
   "outputs": [
    {
     "name": "stdout",
     "output_type": "stream",
     "text": [
      "Ensemble Accuracy on Train Dataset: 0.9123194371678767\n",
      "\n",
      "Ensemble Accuracy on Test Dataset: 0.8515940727436012\n",
      "#####################\n",
      "\n",
      "Ensemble F1 Score on Train Dataset: 0.9117656057711891\n",
      "\n",
      "Ensemble F1 Score on Test Dataset: 0.8484187601950788\n"
     ]
    }
   ],
   "source": [
    "results_ensemble_train_acc = accuracy_score(y_train, y_pred_train_ensemble)\n",
    "results_ensemble_test_acc = accuracy_score(y_test, y_pred_test_ensemble)\n",
    "\n",
    "results_ensemble_train_f1 = f1_score(y_train, y_pred_train_ensemble, average='weighted')\n",
    "results_ensemble_test_f1 = f1_score(y_test, y_pred_test_ensemble, average='weighted')\n",
    "\n",
    "print(\"Ensemble Accuracy on Train Dataset: {}\".format(results_ensemble_train_acc))\n",
    "print(\"\\nEnsemble Accuracy on Test Dataset: {}\".format(results_ensemble_test_acc))\n",
    "print(\"#####################\")\n",
    "print(\"\\nEnsemble F1 Score on Train Dataset: {}\".format(results_ensemble_train_f1))\n",
    "print(\"\\nEnsemble F1 Score on Test Dataset: {}\".format(results_ensemble_test_f1))"
   ]
  },
  {
   "cell_type": "markdown",
   "id": "a3ef936a",
   "metadata": {},
   "source": [
    "- ### Still some overfitting to training data but not drastic. However, not much improvement with text-related engineered features.\n",
    "- ### Try word embeddings using Gensim Word2Vec and Doc2Vec next."
   ]
  },
  {
   "cell_type": "code",
   "execution_count": null,
   "id": "1f719ab4",
   "metadata": {},
   "outputs": [],
   "source": []
  }
 ],
 "metadata": {
  "kernelspec": {
   "display_name": "Python 3.9.12 ('base')",
   "language": "python",
   "name": "python3"
  },
  "language_info": {
   "codemirror_mode": {
    "name": "ipython",
    "version": 3
   },
   "file_extension": ".py",
   "mimetype": "text/x-python",
   "name": "python",
   "nbconvert_exporter": "python",
   "pygments_lexer": "ipython3",
   "version": "3.9.12"
  },
  "vscode": {
   "interpreter": {
    "hash": "f1221626d38f612a20ecbe1e829aa068c791b4ef2833793e8e65f53f52760f36"
   }
  }
 },
 "nbformat": 4,
 "nbformat_minor": 5
}
