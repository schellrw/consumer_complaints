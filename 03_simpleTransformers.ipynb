{
 "cells": [
  {
   "cell_type": "markdown",
   "id": "cad504ae",
   "metadata": {},
   "source": [
    "## Package and helper imports"
   ]
  },
  {
   "cell_type": "code",
   "execution_count": 1,
   "id": "c3c610fd",
   "metadata": {},
   "outputs": [],
   "source": [
    "import os\n",
    "import re\n",
    "import numpy as np\n",
    "import pandas as pd\n",
    "import nltk\n",
    "from nltk.corpus import stopwords\n",
    "from nltk.stem import WordNetLemmatizer\n",
    "import string\n",
    "from sklearn.model_selection import StratifiedShuffleSplit\n",
    "from sklearn.metrics import accuracy_score, f1_score\n",
    "from simpletransformers.classification import ClassificationModel\n",
    "import torch\n",
    "import pickle\n",
    "import pyarrow\n",
    "import seaborn as sns\n",
    "import matplotlib.pyplot as plt\n",
    "# from transformers import TrainingArguments, Trainer\n",
    "# from transformers import BertTokenizer, BertForSequenceClassification\n",
    "# from transformers import EarlyStoppingCallback"
   ]
  },
  {
   "cell_type": "code",
   "execution_count": 2,
   "id": "cc20d249",
   "metadata": {},
   "outputs": [
    {
     "name": "stderr",
     "output_type": "stream",
     "text": [
      "[nltk_data] Downloading package stopwords to\n",
      "[nltk_data]     C:\\Users\\schel\\AppData\\Roaming\\nltk_data...\n",
      "[nltk_data]   Package stopwords is already up-to-date!\n",
      "[nltk_data] Downloading package wordnet to\n",
      "[nltk_data]     C:\\Users\\schel\\AppData\\Roaming\\nltk_data...\n",
      "[nltk_data]   Package wordnet is already up-to-date!\n",
      "[nltk_data] Downloading package punkt to\n",
      "[nltk_data]     C:\\Users\\schel\\AppData\\Roaming\\nltk_data...\n",
      "[nltk_data]   Package punkt is already up-to-date!\n",
      "[nltk_data] Downloading package omw-1.4 to\n",
      "[nltk_data]     C:\\Users\\schel\\AppData\\Roaming\\nltk_data...\n",
      "[nltk_data]   Package omw-1.4 is already up-to-date!\n"
     ]
    }
   ],
   "source": [
    "# Downloads and display options\n",
    "nltk.download('stopwords')\n",
    "nltk.download('wordnet')\n",
    "nltk.download('punkt')\n",
    "nltk.download('omw-1.4')\n",
    "punctuation = string.punctuation\n",
    "stop_words = set(stopwords.words('english'))\n",
    "pd.options.display.max_columns = None\n",
    "pd.options.display.max_rows = None\n",
    "%matplotlib inline"
   ]
  },
  {
   "attachments": {},
   "cell_type": "markdown",
   "id": "e5768503",
   "metadata": {},
   "source": [
    "## Ensure huggingface connection for pretrained LLM download(s)"
   ]
  },
  {
   "cell_type": "code",
   "execution_count": 3,
   "id": "daf6ba23",
   "metadata": {},
   "outputs": [
    {
     "data": {
      "text/plain": [
       "<Response [200]>"
      ]
     },
     "execution_count": 3,
     "metadata": {},
     "output_type": "execute_result"
    }
   ],
   "source": [
    "import requests\n",
    "url = \"https://huggingface.co/\"\n",
    "requests.get(url, verify=True)"
   ]
  },
  {
   "attachments": {},
   "cell_type": "markdown",
   "id": "6bc56660",
   "metadata": {},
   "source": [
    "## Ensure GPU available for acceleration"
   ]
  },
  {
   "cell_type": "code",
   "execution_count": 4,
   "id": "6f913590",
   "metadata": {},
   "outputs": [
    {
     "name": "stdout",
     "output_type": "stream",
     "text": [
      "2.10.1\n",
      "[PhysicalDevice(name='/physical_device:CPU:0', device_type='CPU'), PhysicalDevice(name='/physical_device:GPU:0', device_type='GPU')]\n"
     ]
    }
   ],
   "source": [
    "import tensorflow as tf\n",
    "print(tf.__version__)\n",
    "print(tf.config.list_physical_devices())"
   ]
  },
  {
   "cell_type": "code",
   "execution_count": 5,
   "id": "0e8b7b0b",
   "metadata": {},
   "outputs": [
    {
     "name": "stdout",
     "output_type": "stream",
     "text": [
      "Num GPUs Available:  1\n"
     ]
    },
    {
     "data": {
      "text/plain": [
       "[name: \"/device:CPU:0\"\n",
       " device_type: \"CPU\"\n",
       " memory_limit: 268435456\n",
       " locality {\n",
       " }\n",
       " incarnation: 11683619180439687873\n",
       " xla_global_id: -1,\n",
       " name: \"/device:GPU:0\"\n",
       " device_type: \"GPU\"\n",
       " memory_limit: 4163895296\n",
       " locality {\n",
       "   bus_id: 1\n",
       "   links {\n",
       "   }\n",
       " }\n",
       " incarnation: 6552564773498948965\n",
       " physical_device_desc: \"device: 0, name: NVIDIA GeForce GTX 1660 Ti, pci bus id: 0000:01:00.0, compute capability: 7.5\"\n",
       " xla_global_id: 416903419]"
      ]
     },
     "execution_count": 5,
     "metadata": {},
     "output_type": "execute_result"
    }
   ],
   "source": [
    "from tensorflow.python.client import device_lib\n",
    "\n",
    "print(\"Num GPUs Available: \", len(tf.config.list_physical_devices('GPU')))\n",
    "device_lib.list_local_devices()"
   ]
  },
  {
   "attachments": {},
   "cell_type": "markdown",
   "id": "215ebd95",
   "metadata": {},
   "source": [
    "## Define text cleaning function"
   ]
  },
  {
   "cell_type": "code",
   "execution_count": 6,
   "id": "f1125d52",
   "metadata": {},
   "outputs": [],
   "source": [
    "def clean_text(df):\n",
    "    for i in [char for char in ':;\"?,/|\\}{1234567890.~!@#$%^&*_+=<>']:\n",
    "        df.text=df.text.apply(lambda x: str(x).replace(i,\"\"))    \n",
    "\n",
    "    df.text=df.text.apply(lambda x: str(x).replace('-',\" \"))\n",
    "    df.text=df.text.apply(lambda x: str(x).replace(\"X\",\"\"))\n",
    "    df.text=df.text.apply(lambda x: str(x).replace(\"XX\",\"\"))\n",
    "    df.text=df.text.apply(lambda x: str(x).replace(\"XXX\",\"\"))\n",
    "    df.text=df.text.apply(lambda x: str(x).replace(\"XXXX\",\"\"))\n",
    "    df.text=df.text.apply(lambda x: str(x).replace(\"XXXXX\",\"\"))\n",
    "    df.text=df.text.apply(lambda x: str(x).replace(\"XXXXXX\",\"\"))\n",
    "    df.text=df.text.apply(lambda x: str(x).replace(\"XXXXXXX\",\"\"))\n",
    "    df.text=df.text.apply(lambda x: str(x).replace(\"XXXXXXXX\",\"\"))\n",
    "    df.text=df.text.apply(lambda x: str(x).replace(\"XXXXXXXXX\",\"\")) # removes redactions\n",
    "\n",
    "    stopword_dict= set(stopwords.words('english'))\n",
    "\n",
    "    def sw_remover(arr):\n",
    "        res=[]\n",
    "        for i in arr:\n",
    "            if i not in stopword_dict:\n",
    "                res.append(i)\n",
    "        return res\n",
    "\n",
    "    # def digit_remover(arr):\n",
    "    #     res=[]\n",
    "    #     for i in arr:\n",
    "    #         if i.isdigit()==False:\n",
    "    #             res.append(i)\n",
    "    #     return res\n",
    "\n",
    "    def lemmatizer(arr):\n",
    "        lem=nltk.stem.WordNetLemmatizer()\n",
    "        res=[lem.lemmatize(i) for i in arr]\n",
    "        return res\n",
    "\n",
    "    def joiner(arr):\n",
    "        if len(arr)==0:\n",
    "            return ''\n",
    "        elif len(arr)==1:\n",
    "            return arr[0]\n",
    "        else:\n",
    "            return ' '.join(arr)\n",
    "    \n",
    "    df.text = df.text.apply(lambda x: re.sub(r'\\[rnt]',\"\",x))\n",
    "    df.text = df.text.apply(lambda x: x.lower())\n",
    "    df.text = df.text.apply(lambda x: x.split())\n",
    "    df.text = df.text.apply(sw_remover)\n",
    "    df.text = df.text.apply(lemmatizer)\n",
    "    df.text = df.text.apply(joiner)\n",
    "\n",
    "    df['len'] = df['text'].apply(len)\n",
    "\n",
    "    return df"
   ]
  },
  {
   "attachments": {},
   "cell_type": "markdown",
   "id": "78df11da",
   "metadata": {},
   "source": [
    "## Import FEATURE-ENGINEERED training and validation data from EDA"
   ]
  },
  {
   "cell_type": "code",
   "execution_count": 7,
   "id": "3ec7fe4a",
   "metadata": {},
   "outputs": [
    {
     "data": {
      "text/html": [
       "<div>\n",
       "<style scoped>\n",
       "    .dataframe tbody tr th:only-of-type {\n",
       "        vertical-align: middle;\n",
       "    }\n",
       "\n",
       "    .dataframe tbody tr th {\n",
       "        vertical-align: top;\n",
       "    }\n",
       "\n",
       "    .dataframe thead th {\n",
       "        text-align: right;\n",
       "    }\n",
       "</style>\n",
       "<table border=\"1\" class=\"dataframe\">\n",
       "  <thead>\n",
       "    <tr style=\"text-align: right;\">\n",
       "      <th></th>\n",
       "      <th>consumer_complaint_narrative</th>\n",
       "      <th>timely_response</th>\n",
       "      <th>consumer_disputed?</th>\n",
       "      <th>days_between_receipt_and_sent</th>\n",
       "      <th>sub_product_freq</th>\n",
       "      <th>sub_product_null_flag</th>\n",
       "      <th>sub_product_low_flag</th>\n",
       "      <th>issue_freq</th>\n",
       "      <th>issue_low_flag</th>\n",
       "      <th>sub_issue_freq</th>\n",
       "      <th>sub_issue_null_flag</th>\n",
       "      <th>sub_issue_low_flag</th>\n",
       "      <th>company_public_response_freq</th>\n",
       "      <th>company_public_response_null_flag</th>\n",
       "      <th>company_public_response_low_flag</th>\n",
       "      <th>company_freq</th>\n",
       "      <th>company_low_flag</th>\n",
       "      <th>state_freq</th>\n",
       "      <th>state_null_flag</th>\n",
       "      <th>state_low_flag</th>\n",
       "      <th>zipcode_freq</th>\n",
       "      <th>zipcode_null_flag</th>\n",
       "      <th>zipcode_low_flag</th>\n",
       "      <th>Not Older American, Not Servicemember</th>\n",
       "      <th>Older American</th>\n",
       "      <th>Older American, Servicemember</th>\n",
       "      <th>Servicemember</th>\n",
       "      <th>Closed</th>\n",
       "      <th>Closed with explanation</th>\n",
       "      <th>Closed with monetary relief</th>\n",
       "      <th>Closed with non-monetary relief</th>\n",
       "      <th>Untimely response</th>\n",
       "    </tr>\n",
       "  </thead>\n",
       "  <tbody>\n",
       "    <tr>\n",
       "      <th>0</th>\n",
       "      <td>Dear Sir or Madam, Ever since XXXX XXXX XXXX s...</td>\n",
       "      <td>1</td>\n",
       "      <td>0</td>\n",
       "      <td>0</td>\n",
       "      <td>0.098495</td>\n",
       "      <td>0</td>\n",
       "      <td>0</td>\n",
       "      <td>0.097832</td>\n",
       "      <td>0</td>\n",
       "      <td>-1.000000</td>\n",
       "      <td>1</td>\n",
       "      <td>0</td>\n",
       "      <td>-1.000000</td>\n",
       "      <td>1</td>\n",
       "      <td>0</td>\n",
       "      <td>0.020208</td>\n",
       "      <td>0</td>\n",
       "      <td>0.018711</td>\n",
       "      <td>0</td>\n",
       "      <td>0</td>\n",
       "      <td>0.001198</td>\n",
       "      <td>0</td>\n",
       "      <td>0</td>\n",
       "      <td>1</td>\n",
       "      <td>0</td>\n",
       "      <td>0</td>\n",
       "      <td>0</td>\n",
       "      <td>0</td>\n",
       "      <td>1</td>\n",
       "      <td>0</td>\n",
       "      <td>0</td>\n",
       "      <td>0</td>\n",
       "    </tr>\n",
       "    <tr>\n",
       "      <th>1</th>\n",
       "      <td>on XXXX XXXX, 2015 there was an ACH transactio...</td>\n",
       "      <td>1</td>\n",
       "      <td>0</td>\n",
       "      <td>0</td>\n",
       "      <td>0.019973</td>\n",
       "      <td>0</td>\n",
       "      <td>0</td>\n",
       "      <td>0.020742</td>\n",
       "      <td>0</td>\n",
       "      <td>-1.000000</td>\n",
       "      <td>1</td>\n",
       "      <td>0</td>\n",
       "      <td>-1.000000</td>\n",
       "      <td>1</td>\n",
       "      <td>0</td>\n",
       "      <td>0.003037</td>\n",
       "      <td>1</td>\n",
       "      <td>0.089449</td>\n",
       "      <td>0</td>\n",
       "      <td>0</td>\n",
       "      <td>0.009858</td>\n",
       "      <td>0</td>\n",
       "      <td>0</td>\n",
       "      <td>1</td>\n",
       "      <td>0</td>\n",
       "      <td>0</td>\n",
       "      <td>0</td>\n",
       "      <td>0</td>\n",
       "      <td>1</td>\n",
       "      <td>0</td>\n",
       "      <td>0</td>\n",
       "      <td>0</td>\n",
       "    </tr>\n",
       "    <tr>\n",
       "      <th>2</th>\n",
       "      <td>My wife has not received a paper bill from Cha...</td>\n",
       "      <td>1</td>\n",
       "      <td>0</td>\n",
       "      <td>0</td>\n",
       "      <td>-1.000000</td>\n",
       "      <td>1</td>\n",
       "      <td>0</td>\n",
       "      <td>0.018283</td>\n",
       "      <td>0</td>\n",
       "      <td>-1.000000</td>\n",
       "      <td>1</td>\n",
       "      <td>0</td>\n",
       "      <td>-1.000000</td>\n",
       "      <td>1</td>\n",
       "      <td>0</td>\n",
       "      <td>0.038897</td>\n",
       "      <td>0</td>\n",
       "      <td>0.017599</td>\n",
       "      <td>0</td>\n",
       "      <td>0</td>\n",
       "      <td>0.002438</td>\n",
       "      <td>0</td>\n",
       "      <td>0</td>\n",
       "      <td>1</td>\n",
       "      <td>0</td>\n",
       "      <td>0</td>\n",
       "      <td>0</td>\n",
       "      <td>0</td>\n",
       "      <td>1</td>\n",
       "      <td>0</td>\n",
       "      <td>0</td>\n",
       "      <td>0</td>\n",
       "    </tr>\n",
       "    <tr>\n",
       "      <th>3</th>\n",
       "      <td>the company m &amp; M funding has been harassing f...</td>\n",
       "      <td>1</td>\n",
       "      <td>0</td>\n",
       "      <td>6</td>\n",
       "      <td>0.005902</td>\n",
       "      <td>0</td>\n",
       "      <td>1</td>\n",
       "      <td>0.020015</td>\n",
       "      <td>0</td>\n",
       "      <td>0.002545</td>\n",
       "      <td>0</td>\n",
       "      <td>1</td>\n",
       "      <td>-1.000000</td>\n",
       "      <td>1</td>\n",
       "      <td>0</td>\n",
       "      <td>0.000021</td>\n",
       "      <td>1</td>\n",
       "      <td>0.016786</td>\n",
       "      <td>0</td>\n",
       "      <td>0</td>\n",
       "      <td>0.001711</td>\n",
       "      <td>0</td>\n",
       "      <td>0</td>\n",
       "      <td>1</td>\n",
       "      <td>0</td>\n",
       "      <td>0</td>\n",
       "      <td>0</td>\n",
       "      <td>0</td>\n",
       "      <td>1</td>\n",
       "      <td>0</td>\n",
       "      <td>0</td>\n",
       "      <td>0</td>\n",
       "    </tr>\n",
       "    <tr>\n",
       "      <th>4</th>\n",
       "      <td>Can my reverse mortgage lender refuse to conti...</td>\n",
       "      <td>1</td>\n",
       "      <td>0</td>\n",
       "      <td>1</td>\n",
       "      <td>0.017449</td>\n",
       "      <td>0</td>\n",
       "      <td>0</td>\n",
       "      <td>0.024741</td>\n",
       "      <td>0</td>\n",
       "      <td>-1.000000</td>\n",
       "      <td>1</td>\n",
       "      <td>0</td>\n",
       "      <td>0.055727</td>\n",
       "      <td>0</td>\n",
       "      <td>0</td>\n",
       "      <td>0.045890</td>\n",
       "      <td>0</td>\n",
       "      <td>0.003143</td>\n",
       "      <td>0</td>\n",
       "      <td>1</td>\n",
       "      <td>0.000128</td>\n",
       "      <td>0</td>\n",
       "      <td>1</td>\n",
       "      <td>0</td>\n",
       "      <td>0</td>\n",
       "      <td>0</td>\n",
       "      <td>1</td>\n",
       "      <td>0</td>\n",
       "      <td>1</td>\n",
       "      <td>0</td>\n",
       "      <td>0</td>\n",
       "      <td>0</td>\n",
       "    </tr>\n",
       "  </tbody>\n",
       "</table>\n",
       "</div>"
      ],
      "text/plain": [
       "                        consumer_complaint_narrative  timely_response  \\\n",
       "0  Dear Sir or Madam, Ever since XXXX XXXX XXXX s...                1   \n",
       "1  on XXXX XXXX, 2015 there was an ACH transactio...                1   \n",
       "2  My wife has not received a paper bill from Cha...                1   \n",
       "3  the company m & M funding has been harassing f...                1   \n",
       "4  Can my reverse mortgage lender refuse to conti...                1   \n",
       "\n",
       "   consumer_disputed?  days_between_receipt_and_sent  sub_product_freq  \\\n",
       "0                   0                              0          0.098495   \n",
       "1                   0                              0          0.019973   \n",
       "2                   0                              0         -1.000000   \n",
       "3                   0                              6          0.005902   \n",
       "4                   0                              1          0.017449   \n",
       "\n",
       "   sub_product_null_flag  sub_product_low_flag  issue_freq  issue_low_flag  \\\n",
       "0                      0                     0    0.097832               0   \n",
       "1                      0                     0    0.020742               0   \n",
       "2                      1                     0    0.018283               0   \n",
       "3                      0                     1    0.020015               0   \n",
       "4                      0                     0    0.024741               0   \n",
       "\n",
       "   sub_issue_freq  sub_issue_null_flag  sub_issue_low_flag  \\\n",
       "0       -1.000000                    1                   0   \n",
       "1       -1.000000                    1                   0   \n",
       "2       -1.000000                    1                   0   \n",
       "3        0.002545                    0                   1   \n",
       "4       -1.000000                    1                   0   \n",
       "\n",
       "   company_public_response_freq  company_public_response_null_flag  \\\n",
       "0                     -1.000000                                  1   \n",
       "1                     -1.000000                                  1   \n",
       "2                     -1.000000                                  1   \n",
       "3                     -1.000000                                  1   \n",
       "4                      0.055727                                  0   \n",
       "\n",
       "   company_public_response_low_flag  company_freq  company_low_flag  \\\n",
       "0                                 0      0.020208                 0   \n",
       "1                                 0      0.003037                 1   \n",
       "2                                 0      0.038897                 0   \n",
       "3                                 0      0.000021                 1   \n",
       "4                                 0      0.045890                 0   \n",
       "\n",
       "   state_freq  state_null_flag  state_low_flag  zipcode_freq  \\\n",
       "0    0.018711                0               0      0.001198   \n",
       "1    0.089449                0               0      0.009858   \n",
       "2    0.017599                0               0      0.002438   \n",
       "3    0.016786                0               0      0.001711   \n",
       "4    0.003143                0               1      0.000128   \n",
       "\n",
       "   zipcode_null_flag  zipcode_low_flag  Not Older American, Not Servicemember  \\\n",
       "0                  0                 0                                      1   \n",
       "1                  0                 0                                      1   \n",
       "2                  0                 0                                      1   \n",
       "3                  0                 0                                      1   \n",
       "4                  0                 1                                      0   \n",
       "\n",
       "   Older American  Older American, Servicemember  Servicemember  Closed  \\\n",
       "0               0                              0              0       0   \n",
       "1               0                              0              0       0   \n",
       "2               0                              0              0       0   \n",
       "3               0                              0              0       0   \n",
       "4               0                              0              1       0   \n",
       "\n",
       "   Closed with explanation  Closed with monetary relief  \\\n",
       "0                        1                            0   \n",
       "1                        1                            0   \n",
       "2                        1                            0   \n",
       "3                        1                            0   \n",
       "4                        1                            0   \n",
       "\n",
       "   Closed with non-monetary relief  Untimely response  \n",
       "0                                0                  0  \n",
       "1                                0                  0  \n",
       "2                                0                  0  \n",
       "3                                0                  0  \n",
       "4                                0                  0  "
      ]
     },
     "execution_count": 7,
     "metadata": {},
     "output_type": "execute_result"
    }
   ],
   "source": [
    "df_train = pd.read_parquet('./input/dataframes/df_train_FE.parquet')\n",
    "df_train.head()"
   ]
  },
  {
   "cell_type": "code",
   "execution_count": 8,
   "id": "46bc2d31",
   "metadata": {},
   "outputs": [
    {
     "name": "stdout",
     "output_type": "stream",
     "text": [
      "<class 'pandas.core.frame.DataFrame'>\n",
      "RangeIndex: 46764 entries, 0 to 46763\n",
      "Data columns (total 32 columns):\n",
      " #   Column                                 Non-Null Count  Dtype  \n",
      "---  ------                                 --------------  -----  \n",
      " 0   consumer_complaint_narrative           46764 non-null  object \n",
      " 1   timely_response                        46764 non-null  int32  \n",
      " 2   consumer_disputed?                     46764 non-null  int32  \n",
      " 3   days_between_receipt_and_sent          46764 non-null  int64  \n",
      " 4   sub_product_freq                       46764 non-null  float64\n",
      " 5   sub_product_null_flag                  46764 non-null  int32  \n",
      " 6   sub_product_low_flag                   46764 non-null  int32  \n",
      " 7   issue_freq                             46764 non-null  float64\n",
      " 8   issue_low_flag                         46764 non-null  int32  \n",
      " 9   sub_issue_freq                         46764 non-null  float64\n",
      " 10  sub_issue_null_flag                    46764 non-null  int32  \n",
      " 11  sub_issue_low_flag                     46764 non-null  int32  \n",
      " 12  company_public_response_freq           46764 non-null  float64\n",
      " 13  company_public_response_null_flag      46764 non-null  int32  \n",
      " 14  company_public_response_low_flag       46764 non-null  int32  \n",
      " 15  company_freq                           46764 non-null  float64\n",
      " 16  company_low_flag                       46764 non-null  int32  \n",
      " 17  state_freq                             46764 non-null  float64\n",
      " 18  state_null_flag                        46764 non-null  int32  \n",
      " 19  state_low_flag                         46764 non-null  int32  \n",
      " 20  zipcode_freq                           46764 non-null  float64\n",
      " 21  zipcode_null_flag                      46764 non-null  int32  \n",
      " 22  zipcode_low_flag                       46764 non-null  int32  \n",
      " 23  Not Older American, Not Servicemember  46764 non-null  int32  \n",
      " 24  Older American                         46764 non-null  int32  \n",
      " 25  Older American, Servicemember          46764 non-null  int32  \n",
      " 26  Servicemember                          46764 non-null  int32  \n",
      " 27  Closed                                 46764 non-null  int32  \n",
      " 28  Closed with explanation                46764 non-null  int32  \n",
      " 29  Closed with monetary relief            46764 non-null  int32  \n",
      " 30  Closed with non-monetary relief        46764 non-null  int32  \n",
      " 31  Untimely response                      46764 non-null  int32  \n",
      "dtypes: float64(7), int32(23), int64(1), object(1)\n",
      "memory usage: 7.3+ MB\n"
     ]
    }
   ],
   "source": [
    "df_train.info()"
   ]
  },
  {
   "cell_type": "code",
   "execution_count": 9,
   "id": "00de20b0",
   "metadata": {},
   "outputs": [
    {
     "data": {
      "text/plain": [
       "(46764, 32)"
      ]
     },
     "execution_count": 9,
     "metadata": {},
     "output_type": "execute_result"
    }
   ],
   "source": [
    "df_train.shape"
   ]
  },
  {
   "cell_type": "code",
   "execution_count": 10,
   "id": "e7527a7f",
   "metadata": {},
   "outputs": [
    {
     "data": {
      "text/plain": [
       "['consumer_complaint_narrative',\n",
       " 'timely_response',\n",
       " 'consumer_disputed?',\n",
       " 'days_between_receipt_and_sent',\n",
       " 'sub_product_freq',\n",
       " 'sub_product_null_flag',\n",
       " 'sub_product_low_flag',\n",
       " 'issue_freq',\n",
       " 'issue_low_flag',\n",
       " 'sub_issue_freq',\n",
       " 'sub_issue_null_flag',\n",
       " 'sub_issue_low_flag',\n",
       " 'company_public_response_freq',\n",
       " 'company_public_response_null_flag',\n",
       " 'company_public_response_low_flag',\n",
       " 'company_freq',\n",
       " 'company_low_flag',\n",
       " 'state_freq',\n",
       " 'state_null_flag',\n",
       " 'state_low_flag',\n",
       " 'zipcode_freq',\n",
       " 'zipcode_null_flag',\n",
       " 'zipcode_low_flag',\n",
       " 'Not Older American, Not Servicemember',\n",
       " 'Older American',\n",
       " 'Older American, Servicemember',\n",
       " 'Servicemember',\n",
       " 'Closed',\n",
       " 'Closed with explanation',\n",
       " 'Closed with monetary relief',\n",
       " 'Closed with non-monetary relief',\n",
       " 'Untimely response']"
      ]
     },
     "execution_count": 10,
     "metadata": {},
     "output_type": "execute_result"
    }
   ],
   "source": [
    "list(df_train.columns)"
   ]
  },
  {
   "cell_type": "code",
   "execution_count": 11,
   "id": "3ec7fe4a",
   "metadata": {},
   "outputs": [
    {
     "data": {
      "text/html": [
       "<div>\n",
       "<style scoped>\n",
       "    .dataframe tbody tr th:only-of-type {\n",
       "        vertical-align: middle;\n",
       "    }\n",
       "\n",
       "    .dataframe tbody tr th {\n",
       "        vertical-align: top;\n",
       "    }\n",
       "\n",
       "    .dataframe thead th {\n",
       "        text-align: right;\n",
       "    }\n",
       "</style>\n",
       "<table border=\"1\" class=\"dataframe\">\n",
       "  <thead>\n",
       "    <tr style=\"text-align: right;\">\n",
       "      <th></th>\n",
       "      <th>consumer_complaint_narrative</th>\n",
       "      <th>timely_response</th>\n",
       "      <th>consumer_disputed?</th>\n",
       "      <th>days_between_receipt_and_sent</th>\n",
       "      <th>sub_product_freq</th>\n",
       "      <th>sub_product_null_flag</th>\n",
       "      <th>sub_product_low_flag</th>\n",
       "      <th>issue_freq</th>\n",
       "      <th>issue_low_flag</th>\n",
       "      <th>sub_issue_freq</th>\n",
       "      <th>sub_issue_null_flag</th>\n",
       "      <th>sub_issue_low_flag</th>\n",
       "      <th>company_public_response_freq</th>\n",
       "      <th>company_public_response_null_flag</th>\n",
       "      <th>company_public_response_low_flag</th>\n",
       "      <th>company_freq</th>\n",
       "      <th>company_low_flag</th>\n",
       "      <th>state_freq</th>\n",
       "      <th>state_null_flag</th>\n",
       "      <th>state_low_flag</th>\n",
       "      <th>zipcode_freq</th>\n",
       "      <th>zipcode_null_flag</th>\n",
       "      <th>zipcode_low_flag</th>\n",
       "      <th>Not Older American, Not Servicemember</th>\n",
       "      <th>Older American</th>\n",
       "      <th>Older American, Servicemember</th>\n",
       "      <th>Servicemember</th>\n",
       "      <th>Closed</th>\n",
       "      <th>Closed with explanation</th>\n",
       "      <th>Closed with monetary relief</th>\n",
       "      <th>Closed with non-monetary relief</th>\n",
       "      <th>Untimely response</th>\n",
       "    </tr>\n",
       "  </thead>\n",
       "  <tbody>\n",
       "    <tr>\n",
       "      <th>0</th>\n",
       "      <td>I bought a house in XXXX XXXX in XXXX. It was ...</td>\n",
       "      <td>1</td>\n",
       "      <td>0</td>\n",
       "      <td>0</td>\n",
       "      <td>0.040416</td>\n",
       "      <td>0</td>\n",
       "      <td>0</td>\n",
       "      <td>0.076057</td>\n",
       "      <td>0</td>\n",
       "      <td>-1.000000</td>\n",
       "      <td>1</td>\n",
       "      <td>0</td>\n",
       "      <td>0.291824</td>\n",
       "      <td>0</td>\n",
       "      <td>0</td>\n",
       "      <td>0.051108</td>\n",
       "      <td>0</td>\n",
       "      <td>0.149975</td>\n",
       "      <td>0</td>\n",
       "      <td>0</td>\n",
       "      <td>0.001996</td>\n",
       "      <td>0</td>\n",
       "      <td>0</td>\n",
       "      <td>1</td>\n",
       "      <td>0</td>\n",
       "      <td>0</td>\n",
       "      <td>0</td>\n",
       "      <td>0</td>\n",
       "      <td>1</td>\n",
       "      <td>0</td>\n",
       "      <td>0</td>\n",
       "      <td>0</td>\n",
       "    </tr>\n",
       "    <tr>\n",
       "      <th>1</th>\n",
       "      <td>XX/XX/XXXX my husband and I took an equity lin...</td>\n",
       "      <td>1</td>\n",
       "      <td>0</td>\n",
       "      <td>0</td>\n",
       "      <td>0.013044</td>\n",
       "      <td>0</td>\n",
       "      <td>0</td>\n",
       "      <td>0.023950</td>\n",
       "      <td>0</td>\n",
       "      <td>-1.000000</td>\n",
       "      <td>1</td>\n",
       "      <td>0</td>\n",
       "      <td>0.291824</td>\n",
       "      <td>0</td>\n",
       "      <td>0</td>\n",
       "      <td>0.051108</td>\n",
       "      <td>0</td>\n",
       "      <td>0.034571</td>\n",
       "      <td>0</td>\n",
       "      <td>0</td>\n",
       "      <td>0.001212</td>\n",
       "      <td>0</td>\n",
       "      <td>0</td>\n",
       "      <td>1</td>\n",
       "      <td>0</td>\n",
       "      <td>0</td>\n",
       "      <td>0</td>\n",
       "      <td>0</td>\n",
       "      <td>1</td>\n",
       "      <td>0</td>\n",
       "      <td>0</td>\n",
       "      <td>0</td>\n",
       "    </tr>\n",
       "    <tr>\n",
       "      <th>2</th>\n",
       "      <td>Dear sir/madam, I want ESCALLATE to remove the...</td>\n",
       "      <td>1</td>\n",
       "      <td>1</td>\n",
       "      <td>0</td>\n",
       "      <td>0.039490</td>\n",
       "      <td>0</td>\n",
       "      <td>0</td>\n",
       "      <td>0.115546</td>\n",
       "      <td>0</td>\n",
       "      <td>0.070283</td>\n",
       "      <td>0</td>\n",
       "      <td>0</td>\n",
       "      <td>0.291824</td>\n",
       "      <td>0</td>\n",
       "      <td>0</td>\n",
       "      <td>0.000143</td>\n",
       "      <td>1</td>\n",
       "      <td>0.037066</td>\n",
       "      <td>0</td>\n",
       "      <td>0</td>\n",
       "      <td>0.006914</td>\n",
       "      <td>0</td>\n",
       "      <td>0</td>\n",
       "      <td>1</td>\n",
       "      <td>0</td>\n",
       "      <td>0</td>\n",
       "      <td>0</td>\n",
       "      <td>1</td>\n",
       "      <td>0</td>\n",
       "      <td>0</td>\n",
       "      <td>0</td>\n",
       "      <td>0</td>\n",
       "    </tr>\n",
       "    <tr>\n",
       "      <th>3</th>\n",
       "      <td>I had XXXX Alliance One Accounts on my credit ...</td>\n",
       "      <td>1</td>\n",
       "      <td>0</td>\n",
       "      <td>0</td>\n",
       "      <td>0.077625</td>\n",
       "      <td>0</td>\n",
       "      <td>0</td>\n",
       "      <td>0.024449</td>\n",
       "      <td>0</td>\n",
       "      <td>0.017963</td>\n",
       "      <td>0</td>\n",
       "      <td>0</td>\n",
       "      <td>-1.000000</td>\n",
       "      <td>1</td>\n",
       "      <td>0</td>\n",
       "      <td>0.000998</td>\n",
       "      <td>1</td>\n",
       "      <td>0.022168</td>\n",
       "      <td>0</td>\n",
       "      <td>0</td>\n",
       "      <td>0.003707</td>\n",
       "      <td>0</td>\n",
       "      <td>0</td>\n",
       "      <td>1</td>\n",
       "      <td>0</td>\n",
       "      <td>0</td>\n",
       "      <td>0</td>\n",
       "      <td>0</td>\n",
       "      <td>1</td>\n",
       "      <td>0</td>\n",
       "      <td>0</td>\n",
       "      <td>0</td>\n",
       "    </tr>\n",
       "    <tr>\n",
       "      <th>4</th>\n",
       "      <td>Portfolio Recovery continues to contact me and...</td>\n",
       "      <td>1</td>\n",
       "      <td>0</td>\n",
       "      <td>0</td>\n",
       "      <td>0.052890</td>\n",
       "      <td>0</td>\n",
       "      <td>0</td>\n",
       "      <td>0.039775</td>\n",
       "      <td>0</td>\n",
       "      <td>0.023024</td>\n",
       "      <td>0</td>\n",
       "      <td>0</td>\n",
       "      <td>-1.000000</td>\n",
       "      <td>1</td>\n",
       "      <td>0</td>\n",
       "      <td>0.010692</td>\n",
       "      <td>0</td>\n",
       "      <td>0.031150</td>\n",
       "      <td>0</td>\n",
       "      <td>0</td>\n",
       "      <td>0.000356</td>\n",
       "      <td>0</td>\n",
       "      <td>1</td>\n",
       "      <td>1</td>\n",
       "      <td>0</td>\n",
       "      <td>0</td>\n",
       "      <td>0</td>\n",
       "      <td>0</td>\n",
       "      <td>0</td>\n",
       "      <td>0</td>\n",
       "      <td>1</td>\n",
       "      <td>0</td>\n",
       "    </tr>\n",
       "  </tbody>\n",
       "</table>\n",
       "</div>"
      ],
      "text/plain": [
       "                        consumer_complaint_narrative  timely_response  \\\n",
       "0  I bought a house in XXXX XXXX in XXXX. It was ...                1   \n",
       "1  XX/XX/XXXX my husband and I took an equity lin...                1   \n",
       "2  Dear sir/madam, I want ESCALLATE to remove the...                1   \n",
       "3  I had XXXX Alliance One Accounts on my credit ...                1   \n",
       "4  Portfolio Recovery continues to contact me and...                1   \n",
       "\n",
       "   consumer_disputed?  days_between_receipt_and_sent  sub_product_freq  \\\n",
       "0                   0                              0          0.040416   \n",
       "1                   0                              0          0.013044   \n",
       "2                   1                              0          0.039490   \n",
       "3                   0                              0          0.077625   \n",
       "4                   0                              0          0.052890   \n",
       "\n",
       "   sub_product_null_flag  sub_product_low_flag  issue_freq  issue_low_flag  \\\n",
       "0                      0                     0    0.076057               0   \n",
       "1                      0                     0    0.023950               0   \n",
       "2                      0                     0    0.115546               0   \n",
       "3                      0                     0    0.024449               0   \n",
       "4                      0                     0    0.039775               0   \n",
       "\n",
       "   sub_issue_freq  sub_issue_null_flag  sub_issue_low_flag  \\\n",
       "0       -1.000000                    1                   0   \n",
       "1       -1.000000                    1                   0   \n",
       "2        0.070283                    0                   0   \n",
       "3        0.017963                    0                   0   \n",
       "4        0.023024                    0                   0   \n",
       "\n",
       "   company_public_response_freq  company_public_response_null_flag  \\\n",
       "0                      0.291824                                  0   \n",
       "1                      0.291824                                  0   \n",
       "2                      0.291824                                  0   \n",
       "3                     -1.000000                                  1   \n",
       "4                     -1.000000                                  1   \n",
       "\n",
       "   company_public_response_low_flag  company_freq  company_low_flag  \\\n",
       "0                                 0      0.051108                 0   \n",
       "1                                 0      0.051108                 0   \n",
       "2                                 0      0.000143                 1   \n",
       "3                                 0      0.000998                 1   \n",
       "4                                 0      0.010692                 0   \n",
       "\n",
       "   state_freq  state_null_flag  state_low_flag  zipcode_freq  \\\n",
       "0    0.149975                0               0      0.001996   \n",
       "1    0.034571                0               0      0.001212   \n",
       "2    0.037066                0               0      0.006914   \n",
       "3    0.022168                0               0      0.003707   \n",
       "4    0.031150                0               0      0.000356   \n",
       "\n",
       "   zipcode_null_flag  zipcode_low_flag  Not Older American, Not Servicemember  \\\n",
       "0                  0                 0                                      1   \n",
       "1                  0                 0                                      1   \n",
       "2                  0                 0                                      1   \n",
       "3                  0                 0                                      1   \n",
       "4                  0                 1                                      1   \n",
       "\n",
       "   Older American  Older American, Servicemember  Servicemember  Closed  \\\n",
       "0               0                              0              0       0   \n",
       "1               0                              0              0       0   \n",
       "2               0                              0              0       1   \n",
       "3               0                              0              0       0   \n",
       "4               0                              0              0       0   \n",
       "\n",
       "   Closed with explanation  Closed with monetary relief  \\\n",
       "0                        1                            0   \n",
       "1                        1                            0   \n",
       "2                        0                            0   \n",
       "3                        1                            0   \n",
       "4                        0                            0   \n",
       "\n",
       "   Closed with non-monetary relief  Untimely response  \n",
       "0                                0                  0  \n",
       "1                                0                  0  \n",
       "2                                0                  0  \n",
       "3                                0                  0  \n",
       "4                                1                  0  "
      ]
     },
     "execution_count": 11,
     "metadata": {},
     "output_type": "execute_result"
    }
   ],
   "source": [
    "df_val = pd.read_parquet('./input/dataframes/df_val_FE.parquet')\n",
    "df_val.head()"
   ]
  },
  {
   "cell_type": "code",
   "execution_count": 12,
   "id": "46bc2d31",
   "metadata": {},
   "outputs": [
    {
     "name": "stdout",
     "output_type": "stream",
     "text": [
      "<class 'pandas.core.frame.DataFrame'>\n",
      "RangeIndex: 14029 entries, 0 to 14028\n",
      "Data columns (total 32 columns):\n",
      " #   Column                                 Non-Null Count  Dtype  \n",
      "---  ------                                 --------------  -----  \n",
      " 0   consumer_complaint_narrative           14029 non-null  object \n",
      " 1   timely_response                        14029 non-null  int32  \n",
      " 2   consumer_disputed?                     14029 non-null  int32  \n",
      " 3   days_between_receipt_and_sent          14029 non-null  int64  \n",
      " 4   sub_product_freq                       14029 non-null  float64\n",
      " 5   sub_product_null_flag                  14029 non-null  int32  \n",
      " 6   sub_product_low_flag                   14029 non-null  int32  \n",
      " 7   issue_freq                             14029 non-null  float64\n",
      " 8   issue_low_flag                         14029 non-null  int32  \n",
      " 9   sub_issue_freq                         14029 non-null  float64\n",
      " 10  sub_issue_null_flag                    14029 non-null  int32  \n",
      " 11  sub_issue_low_flag                     14029 non-null  int32  \n",
      " 12  company_public_response_freq           14029 non-null  float64\n",
      " 13  company_public_response_null_flag      14029 non-null  int32  \n",
      " 14  company_public_response_low_flag       14029 non-null  int32  \n",
      " 15  company_freq                           14029 non-null  float64\n",
      " 16  company_low_flag                       14029 non-null  int32  \n",
      " 17  state_freq                             14029 non-null  float64\n",
      " 18  state_null_flag                        14029 non-null  int32  \n",
      " 19  state_low_flag                         14029 non-null  int32  \n",
      " 20  zipcode_freq                           14029 non-null  float64\n",
      " 21  zipcode_null_flag                      14029 non-null  int32  \n",
      " 22  zipcode_low_flag                       14029 non-null  int32  \n",
      " 23  Not Older American, Not Servicemember  14029 non-null  int32  \n",
      " 24  Older American                         14029 non-null  int32  \n",
      " 25  Older American, Servicemember          14029 non-null  int32  \n",
      " 26  Servicemember                          14029 non-null  int32  \n",
      " 27  Closed                                 14029 non-null  int32  \n",
      " 28  Closed with explanation                14029 non-null  int32  \n",
      " 29  Closed with monetary relief            14029 non-null  int32  \n",
      " 30  Closed with non-monetary relief        14029 non-null  int32  \n",
      " 31  Untimely response                      14029 non-null  int32  \n",
      "dtypes: float64(7), int32(23), int64(1), object(1)\n",
      "memory usage: 2.2+ MB\n"
     ]
    }
   ],
   "source": [
    "df_val.info()"
   ]
  },
  {
   "cell_type": "code",
   "execution_count": 13,
   "id": "00de20b0",
   "metadata": {},
   "outputs": [
    {
     "data": {
      "text/plain": [
       "(14029, 32)"
      ]
     },
     "execution_count": 13,
     "metadata": {},
     "output_type": "execute_result"
    }
   ],
   "source": [
    "df_val.shape"
   ]
  },
  {
   "cell_type": "code",
   "execution_count": 14,
   "id": "e7527a7f",
   "metadata": {},
   "outputs": [
    {
     "data": {
      "text/plain": [
       "['consumer_complaint_narrative',\n",
       " 'timely_response',\n",
       " 'consumer_disputed?',\n",
       " 'days_between_receipt_and_sent',\n",
       " 'sub_product_freq',\n",
       " 'sub_product_null_flag',\n",
       " 'sub_product_low_flag',\n",
       " 'issue_freq',\n",
       " 'issue_low_flag',\n",
       " 'sub_issue_freq',\n",
       " 'sub_issue_null_flag',\n",
       " 'sub_issue_low_flag',\n",
       " 'company_public_response_freq',\n",
       " 'company_public_response_null_flag',\n",
       " 'company_public_response_low_flag',\n",
       " 'company_freq',\n",
       " 'company_low_flag',\n",
       " 'state_freq',\n",
       " 'state_null_flag',\n",
       " 'state_low_flag',\n",
       " 'zipcode_freq',\n",
       " 'zipcode_null_flag',\n",
       " 'zipcode_low_flag',\n",
       " 'Not Older American, Not Servicemember',\n",
       " 'Older American',\n",
       " 'Older American, Servicemember',\n",
       " 'Servicemember',\n",
       " 'Closed',\n",
       " 'Closed with explanation',\n",
       " 'Closed with monetary relief',\n",
       " 'Closed with non-monetary relief',\n",
       " 'Untimely response']"
      ]
     },
     "execution_count": 14,
     "metadata": {},
     "output_type": "execute_result"
    }
   ],
   "source": [
    "list(df_val.columns)"
   ]
  },
  {
   "attachments": {},
   "cell_type": "markdown",
   "id": "64306381",
   "metadata": {},
   "source": [
    "## Import label-encoded targets for training and validation data"
   ]
  },
  {
   "cell_type": "code",
   "execution_count": 15,
   "id": "d5235d33",
   "metadata": {},
   "outputs": [
    {
     "data": {
      "text/html": [
       "<div>\n",
       "<style scoped>\n",
       "    .dataframe tbody tr th:only-of-type {\n",
       "        vertical-align: middle;\n",
       "    }\n",
       "\n",
       "    .dataframe tbody tr th {\n",
       "        vertical-align: top;\n",
       "    }\n",
       "\n",
       "    .dataframe thead th {\n",
       "        text-align: right;\n",
       "    }\n",
       "</style>\n",
       "<table border=\"1\" class=\"dataframe\">\n",
       "  <thead>\n",
       "    <tr style=\"text-align: right;\">\n",
       "      <th></th>\n",
       "      <th>label</th>\n",
       "    </tr>\n",
       "  </thead>\n",
       "  <tbody>\n",
       "    <tr>\n",
       "      <th>0</th>\n",
       "      <td>6</td>\n",
       "    </tr>\n",
       "    <tr>\n",
       "      <th>1</th>\n",
       "      <td>0</td>\n",
       "    </tr>\n",
       "    <tr>\n",
       "      <th>2</th>\n",
       "      <td>2</td>\n",
       "    </tr>\n",
       "    <tr>\n",
       "      <th>3</th>\n",
       "      <td>4</td>\n",
       "    </tr>\n",
       "    <tr>\n",
       "      <th>4</th>\n",
       "      <td>1</td>\n",
       "    </tr>\n",
       "  </tbody>\n",
       "</table>\n",
       "</div>"
      ],
      "text/plain": [
       "   label\n",
       "0      6\n",
       "1      0\n",
       "2      2\n",
       "3      4\n",
       "4      1"
      ]
     },
     "execution_count": 15,
     "metadata": {},
     "output_type": "execute_result"
    }
   ],
   "source": [
    "# Training data targets\n",
    "y_train = pd.read_parquet('./input/y_targets/y_train_LE.parquet')\n",
    "y_train.head()"
   ]
  },
  {
   "cell_type": "code",
   "execution_count": 16,
   "id": "491d8ed8",
   "metadata": {},
   "outputs": [
    {
     "name": "stdout",
     "output_type": "stream",
     "text": [
      "4     12286\n",
      "6     10443\n",
      "3      8768\n",
      "2      5550\n",
      "0      3998\n",
      "1      2575\n",
      "10     1490\n",
      "9       603\n",
      "8       508\n",
      "5       466\n",
      "7        77\n",
      "Name: label, dtype: int64\n"
     ]
    }
   ],
   "source": [
    "product_train = y_train['label'].value_counts()\n",
    "print(product_train)"
   ]
  },
  {
   "cell_type": "code",
   "execution_count": 17,
   "id": "12a92fc9",
   "metadata": {},
   "outputs": [
    {
     "data": {
      "image/png": "[encoded data removed]",
      "text/plain": [
       "<Figure size 1200x400 with 1 Axes>"
      ]
     },
     "metadata": {},
     "output_type": "display_data"
    }
   ],
   "source": [
    "plt.figure(figsize=(12,4))\n",
    "sns.barplot(x=product_train.index, y=product_train.values, alpha=0.8)\n",
    "plt.title('Training Data Target')\n",
    "plt.ylabel('Number of Occurrences', fontsize=12)\n",
    "plt.xlabel('Product', fontsize=12)\n",
    "plt.xticks(rotation=30)\n",
    "plt.show()"
   ]
  },
  {
   "cell_type": "code",
   "execution_count": 18,
   "id": "3821987b",
   "metadata": {},
   "outputs": [
    {
     "data": {
      "text/html": [
       "<div>\n",
       "<style scoped>\n",
       "    .dataframe tbody tr th:only-of-type {\n",
       "        vertical-align: middle;\n",
       "    }\n",
       "\n",
       "    .dataframe tbody tr th {\n",
       "        vertical-align: top;\n",
       "    }\n",
       "\n",
       "    .dataframe thead th {\n",
       "        text-align: right;\n",
       "    }\n",
       "</style>\n",
       "<table border=\"1\" class=\"dataframe\">\n",
       "  <thead>\n",
       "    <tr style=\"text-align: right;\">\n",
       "      <th></th>\n",
       "      <th>label</th>\n",
       "    </tr>\n",
       "  </thead>\n",
       "  <tbody>\n",
       "    <tr>\n",
       "      <th>0</th>\n",
       "      <td>6</td>\n",
       "    </tr>\n",
       "    <tr>\n",
       "      <th>1</th>\n",
       "      <td>6</td>\n",
       "    </tr>\n",
       "    <tr>\n",
       "      <th>2</th>\n",
       "      <td>4</td>\n",
       "    </tr>\n",
       "    <tr>\n",
       "      <th>3</th>\n",
       "      <td>4</td>\n",
       "    </tr>\n",
       "    <tr>\n",
       "      <th>4</th>\n",
       "      <td>4</td>\n",
       "    </tr>\n",
       "  </tbody>\n",
       "</table>\n",
       "</div>"
      ],
      "text/plain": [
       "   label\n",
       "0      6\n",
       "1      6\n",
       "2      4\n",
       "3      4\n",
       "4      4"
      ]
     },
     "execution_count": 18,
     "metadata": {},
     "output_type": "execute_result"
    }
   ],
   "source": [
    "# Validation data targets\n",
    "y_val = pd.read_parquet('./input/y_targets/y_val_LE.parquet')\n",
    "y_val.head()"
   ]
  },
  {
   "cell_type": "code",
   "execution_count": 19,
   "id": "e163cc59",
   "metadata": {},
   "outputs": [
    {
     "name": "stdout",
     "output_type": "stream",
     "text": [
      "4     3686\n",
      "6     3133\n",
      "3     2630\n",
      "2     1665\n",
      "0     1199\n",
      "1      772\n",
      "10     447\n",
      "9      181\n",
      "8      153\n",
      "5      140\n",
      "7       23\n",
      "Name: label, dtype: int64\n"
     ]
    }
   ],
   "source": [
    "product_val = y_val['label'].value_counts()\n",
    "print(product_val)"
   ]
  },
  {
   "cell_type": "code",
   "execution_count": 20,
   "id": "6e7ce042",
   "metadata": {},
   "outputs": [
    {
     "data": {
      "image/png": "[encoded data removed]",
      "text/plain": [
       "<Figure size 1200x400 with 1 Axes>"
      ]
     },
     "metadata": {},
     "output_type": "display_data"
    }
   ],
   "source": [
    "plt.figure(figsize=(12,4))\n",
    "sns.barplot(x=product_val.index, y=product_val.values, alpha=0.8)\n",
    "plt.title('Validation Data Target')\n",
    "plt.ylabel('Number of Occurrences', fontsize=12)\n",
    "plt.xlabel('Product', fontsize=12)\n",
    "plt.xticks(rotation=30)\n",
    "plt.show()"
   ]
  },
  {
   "cell_type": "code",
   "execution_count": 21,
   "id": "7827b722",
   "metadata": {},
   "outputs": [],
   "source": [
    "# Rename 'label' column to 'labels' so simpleTransformers can identify\n",
    "y_train = y_train.rename({'label':'labels'},axis=1)\n",
    "y_val = y_val.rename({'label':'labels'},axis=1)"
   ]
  },
  {
   "cell_type": "code",
   "execution_count": 22,
   "id": "16ff34e3",
   "metadata": {},
   "outputs": [],
   "source": [
    "# save prepped y_train df\n",
    "y_train.to_parquet('./input/dataframes/transformers/y_train_labels.parquet')"
   ]
  },
  {
   "cell_type": "code",
   "execution_count": 23,
   "id": "dc0f96c3",
   "metadata": {},
   "outputs": [],
   "source": [
    "# save prepped y_val df\n",
    "y_val.to_parquet('./input/dataframes/transformers/y_val_labels.parquet')"
   ]
  },
  {
   "attachments": {},
   "cell_type": "markdown",
   "id": "60e02d98",
   "metadata": {},
   "source": [
    "## Inspect unvectorized text and ensure all is converted to string for both Training and Validation Data"
   ]
  },
  {
   "cell_type": "code",
   "execution_count": 24,
   "id": "436bcf73",
   "metadata": {},
   "outputs": [
    {
     "name": "stdout",
     "output_type": "stream",
     "text": [
      "Dear Sir or Madam, Ever since XXXX XXXX XXXX sold our Mortgage Loan to XXXX, we have had nothing but problems. My husband and I back in 2009, tried to modify the loan. This was an absolute nightmare. After submitting information several times and going through numerous \" scheduling '' of calls with Loan counselors, who when I finally got to talk to them, had nothing of substance to discuss or help me with and offered no guidance or help. They would tell me that I needed to get certain pieces of info. and schedule yet another call ( which were always 2 weeks later ) and take it from there, then it was like XXXX XXXX XXXX ... .. I would schedule call after call just to discuss separate pieces of my Loan Mod. Application. It made NO SENSE! I got nowhere and gave up. I have a file 3 inches thick with my application, with forms and notes and all the back up info that I scanned to them, which they claimed to never have received ... .. I finally gave up. With my husband laid off due the construction industry being very slow at the time, I decided to file bankruptcy. I believe that had I was given the chance to modify, I could have avoided filing for Chapter XXXX. About 4 years later or so, here I am now, and the loan was sold to Nationstar. Again, I am having issues which again stem from XXXX. I have had to have my bankruptcy attorney help me to get a simple answer about why my escrows all of the sudden went up {$300.00} per month! My taxes did not go up. The only thing that I did do was switch my Homeowners Insurer and my payment should have only gone up around {$30.00} a month, or less!! XXXX sent me XXXX copies of an Escrow Analysis which was XXXX or so pages, which raised my payment upwards of {$300.00} per month, and did not offer a clear reason why. I called and was given no explanation by XXXX. As a matter of fact, I was told \" you were not supposed to see that ''. I did not know what that meant. I received a letter from XXXX after this saying my loan was transferred to NationStar. I called them for explanation and guidance, and got fuzzy answers from them. Nobody could explain the payment increase. They even told my attorney that they did not know what happened. I kind of let it go for a while, and then when I called in my payment for that month they would not take my normal payment. They would only take the payment with the increase of {$300.00}. I did not want to pay that because I did not agree with it and it is not in my budget being in Chapter XXXX, plus I was offered no reason why the payment increased! So, for the next several months I had to mail in my payments ( my normal payment NOT the payment with their increase calculations ), and my payments were late. In the meantime, I am having an attorney help me. After approximately 7 months, my attorney FINALLY got an answer ... .. my payment did increase but buy {$90.00}, not {$300.00} - however, I still do not why! I have the form and my loan number is crossed out, so I do n't even know if it is mine .... Right now, I am so confused. I have now incurred attorneys fees and late fees due to this error. I do not think I should be obligated to pay these fees due to XXXX error and Nationstar 's ignorance in its inability to explain the increase. Is there anything you can do to help me. \n",
      "\n",
      "#####################\n",
      "on XXXX XXXX, 2015 there was an ACH transaction withdrawal from my account without my permission for {$750.00} to a company bamed XXXX. this ACH transaction caused my business account to go into a negative balance. when I noticed the transaction on XXXX XXXX, 2015 I immediately called my bank and spoke to the claims department. I explain the situation that this was a fraudulent activity that I have no knowledge or no relations to XXXX or the bank that was involved as well named fifth third Bank in Michigan. XXXX XXXX filed the claim XXXX XXXX filed the claims for me and told me I would receive a refund in 12 hours or up to 1 to 2 business days. When I followed up on XXXX XXXX, 2015 with XXXX who holds my business account at approximately XXXX XXXX I was told that my claim was denied because I needed to make a claim within 24 hours of the transaction. before finding out that my claim was denied I have been going back-and-forth with the XXXX the claim department and the claim department from fifth third Bank. From here I was able to claim the company ID and the trace number in regards to this transaction. after finding out that my claim was denied I had spoke to my branch manager at XXXX to have a representative called the claim department in regards to the situation. I was able to retrieve my contract that I had signed with the business account. On Monday, XXXX XXXX, 2015 I have to call the XXXX claim department and they will be contacting fifth third bank with me on the line in regards to this transaction. I have filed a claim two times more after the my claim was denied. \n",
      "\n",
      "#####################\n",
      "My wife has not received a paper bill from Chase Card Services for an Amazon account in two years. I was informed that the account had paperless billing. The card is basically maxed out with late fees despite receiving payments and I had no idea. \n",
      "\n",
      "#####################\n",
      "the company m & M funding has been harassing from the time i bought my first vehicle in 2011 from them the would call me when the declaration page on my insurance would expire instead of calling the insurance company they also lied to me had me pay for gap on my vehicle than when my son wrecked my vehicle they told me they were not doing gap because of the payment process of gap they call me when im at work all the time im about ready to be fired i can not answer my phone at work there former manager told me XXXX time that he did n't think i had insurance because he was having a hard time getting the declaration page from the insurance company he basically said i was lying he told me his daughter worked for the same insurance company i had and i and i lying about how long it was going to take for me to get the paperwork i talked to XXXX at the company on XXXX/XXXX/2015 at XXXX our time and than he called me again today for the same thing i already talked to him about i would like to own both of my vehicles from this company there is other things they have called continuously about but i ca n't remember than all right now. they are also very rude with there clients they are always got new employees so you never know who your talking to from XXXX month to the next so everyone at the company knows your business its not just XXXX person working on the file. \n",
      "\n",
      "#####################\n",
      "Can my reverse mortgage lender refuse to continue/renew my current property tax loan? \n",
      "\n",
      "Hi, My lender, Wells Fargo, is telling me that they can not continue/renew my current loan that they had advanced for property taxes that were due. They have informed me that, unless I repay the full balance, they will begin foreclosure proceedings on my home now. I am told that HUD XX/XX/2015 issued new rules to lenders affecting reverse mortgage loans. Specifically, in my case, I now no longer meet the \" XXXX '' requirement ; I am told that I am at XXXX %. \n",
      "\n",
      "I am XXXX years old and do n't want to lose my home. My husband XXXX last year, he was XXXX and had XXXX XXXX. We have never been late on any payments to Wells Fargo, and I can comfortably meet all my expenses, including the payment that I make to Wells Fargo for back property taxes each month. \n",
      "\n",
      "This change of rules came as a total surprise. I hate to say this, but I feel that I have been misled, unwittingly perhaps. To their credit, Wells Fargo has assigned a financial counselor to my case, XXXX XXXX, which I appreciate. I am told by XXXX XXXX, this HUD rule change is not only a problem for me but also pertains to many other seniors in our country who have property tax and/or home insurance advances from their lenders. I suspect that many of these seniors are not able to speak up for themselves and will, indeed, loose their homes. \n",
      "\n",
      "#####################\n"
     ]
    }
   ],
   "source": [
    "for i in df_train['consumer_complaint_narrative'].head(5):\n",
    "    print(i)\n",
    "    print(\"#####################\")"
   ]
  },
  {
   "cell_type": "code",
   "execution_count": 25,
   "id": "61ac8f73",
   "metadata": {},
   "outputs": [],
   "source": [
    "df_train = df_train.rename({'consumer_complaint_narrative':'text'},axis=1)"
   ]
  },
  {
   "cell_type": "code",
   "execution_count": 26,
   "id": "604135ae",
   "metadata": {},
   "outputs": [],
   "source": [
    "df_train['text'] = df_train['text'].astype(str)"
   ]
  },
  {
   "cell_type": "code",
   "execution_count": 27,
   "id": "436bcf73",
   "metadata": {},
   "outputs": [
    {
     "name": "stdout",
     "output_type": "stream",
     "text": [
      "I bought a house in XXXX XXXX in XXXX. It was my primary residence. I fixed it up and made the payments regularly until about XXXX XXXX at which point I called the bank to see what options were available. I explained that I was unable to make the payments any longer, that my parents were sick and that I had put the house on the market in XXXX and moved to XXXX. I gave them all the information they requested. Since then they have continually bounced me from one representative to another almost like a shell game. They did this until the information was outdated and I had to submit all new information such as my XXXX tax statements, bank statements, recent pay stubs, and an explanation why I was unable to make the payments. They would then tell me via mail that I do n't meet investor guidelines. I talked to HUD and they tell me I do! The bank assigns me another representative and we go through the whole procedure again. By now we are 9 months into this process doing this hide and seek and we start a new year. Now I must submit my XXXX taxes, bank info and an explaination why I cant make the payments. My realtor has been going through all this with me over and over again I think at least XXXX times in the past year, so my realtor tells me this week that this is going to be the last time! Today I get a letter from the bank stating that my mortgage is being transferred to another servicer! This XXXX has been going on now for a year and 8 months! \n",
      "\n",
      "#####################\n",
      "XX/XX/XXXX my husband and I took an equity line of credit with Bank of America. We had a pre-existing 2nd mortgage with them for {$120000.00}. and a {$530000.00} 1st mortgage with XXXX XXXX ( whom is not XXXX XXXX ). At the time, the appraisal came in at {$750000.00} and so Bank of America gave us a new 2nd mortgage at {$210000.00}. \n",
      "We did not know that we could not finance 100 % of the equity in our home. We still have the XXXX mortgages with an appraisal at {$580000.00}. I am only paying interest on the Bank of America loan and I have modified my mortgage payment 2 years ago. I tried to modify it again but was unable because they could not lower my payment to the govt. percentage rate. That is when I learned that I should n't have been able to finance to 100 %. I did all the mortgage application through a salesman that had contacted me by phone and thus the mortgage is in my name only ( we really do n't understand why ). \n",
      "At this point, my salary is XXXX of the amount it was in XXXX am a XXXX and my reimbursements from the XXXX is the reason for the lower pay. I am taking classes to obtain a XXXX in XXXX but I am only partially into this program. When I finish, I have {$95000.00} of student loan debt to begin paying also. This is why I tried to modify again ; I sent paper work in once using my salary and a contribution from my husband 's and I was denied because they said I did not make enough money. I reapplied and tried to have my husband 's name put on the mortgage and was denied again due to not meeting the govt percentage requirement. XXXX told me that I can not add his name without refinancing and we would be denied for that. \n",
      "Yes, we were stupid like so many others. We are hanging on and I am afraid to even contact Bank of America for fear that they will want me to give back a percentage of the 2nd mortgage. We have no savings, living week to week so there 's no possible way we could handle that. My office is in my home so even if I was to downsize my home, I would have to lease office space so I ca n't win. \n",
      "2 years ago, I had to file Chapter XXXX bankruptcy for myself because of the loss of income. The attorney at that time was not a mortgage attorney but felt that there has been some questionable activities in loaning us money. I can not afford to hire another attorney to investigate especially when XXXX XXXX says there is nothing that can be modified. \n",
      "Is there? \n",
      "\n",
      "#####################\n",
      "Dear sir/madam, I want ESCALLATE to remove the negative report they noted on my credit report because I do n't own the debt in question ( MEDICAL BILL ). They have to remove that from my credit report IMMEDIATELY \n",
      "\n",
      "#####################\n",
      "I had XXXX Alliance One Accounts on my credit report, for {$60.00} each from \" parking tickets. '' They were from a car that I had sold, but the buyer did n't transfer the title. \n",
      "When I called to make a payment, they told me they would delete the accounts from my credit report. On XXXX XXXX, I was notified by the credit bureaus they came off my report. On XXXX XXXX, they re-reported with no notification from the debt collector or the credit bureaus. Now, when I call the debt collector, they say that I owe {$5400.00} in past parking tickets. Every time I 've ever dealt with this company, I 've paid my account IN FULL. This is so disheartening that they do this to consumers. I paid them in full, they agreed to delete the accounts, not they re-reported them and it weighed down my credit score by XXXX points. \n",
      "\n",
      "#####################\n",
      "Portfolio Recovery continues to contact me and my parents from multiple numbers at all times of the day! \n",
      "\n",
      "#####################\n"
     ]
    }
   ],
   "source": [
    "for i in df_val['consumer_complaint_narrative'].head(5):\n",
    "    print(i)\n",
    "    print(\"#####################\")"
   ]
  },
  {
   "cell_type": "code",
   "execution_count": 28,
   "id": "61ac8f73",
   "metadata": {},
   "outputs": [],
   "source": [
    "df_val = df_val.rename({'consumer_complaint_narrative':'text'},axis=1)"
   ]
  },
  {
   "cell_type": "code",
   "execution_count": 29,
   "id": "604135ae",
   "metadata": {},
   "outputs": [],
   "source": [
    "df_val['text'] = df_val['text'].astype(str)"
   ]
  },
  {
   "attachments": {},
   "cell_type": "markdown",
   "id": "200802ce",
   "metadata": {},
   "source": [
    "## Join feature-engineered text and target dataframes for transformer"
   ]
  },
  {
   "cell_type": "code",
   "execution_count": 30,
   "id": "e3c54b87",
   "metadata": {},
   "outputs": [],
   "source": [
    "df_train = df_train.join(y_train)"
   ]
  },
  {
   "cell_type": "code",
   "execution_count": 31,
   "id": "ed71a59b",
   "metadata": {},
   "outputs": [],
   "source": [
    "df_val = df_val.join(y_val)"
   ]
  },
  {
   "attachments": {},
   "cell_type": "markdown",
   "id": "de9b39ef",
   "metadata": {},
   "source": [
    "## Sanitize text"
   ]
  },
  {
   "cell_type": "code",
   "execution_count": 32,
   "id": "385b012d",
   "metadata": {},
   "outputs": [],
   "source": [
    "df_train = clean_text(df_train)"
   ]
  },
  {
   "cell_type": "code",
   "execution_count": 33,
   "id": "c3d9ab58",
   "metadata": {},
   "outputs": [
    {
     "name": "stdout",
     "output_type": "stream",
     "text": [
      "dear sir madam ever since sold mortgage loan nothing problem husband back tried modify loan absolute nightmare submitting information several time going numerous scheduling '' call loan counselor finally got talk nothing substance discus help offered guidance help would tell needed get certain piece info schedule yet another call ( always week later ) take like would schedule call call discus separate piece loan mod application made sense got nowhere gave file inch thick application form note back info scanned claimed never received finally gave husband laid due construction industry slow time decided file bankruptcy believe given chance modify could avoided filing chapter year later loan sold nationstar issue stem bankruptcy attorney help get simple answer escrow sudden went per month tax go thing switch homeowner insurer payment gone around month le sent copy escrow analysis page raised payment upwards per month offer clear reason called given explanation matter fact told supposed see '' know meant received letter saying loan transferred nationstar called explanation guidance got fuzzy answer nobody could explain payment increase even told attorney know happened kind let go called payment month would take normal payment would take payment increase want pay agree budget chapter plus offered reason payment increased next several month mail payment ( normal payment payment increase calculation ) payment late meantime attorney help approximately month attorney finally got answer payment increase buy however still form loan number crossed n't even know mine right confused incurred attorney fee late fee due error think obligated pay fee due error nationstar 's ignorance inability explain increase anything help\n",
      "#####################\n",
      "ach transaction withdrawal account without permission company bamed ach transaction caused business account go negative balance noticed transaction immediately called bank spoke claim department explain situation fraudulent activity knowledge relation bank involved well named fifth third bank michigan filed claim filed claim told would receive refund hour business day followed hold business account approximately told claim denied needed make claim within hour transaction finding claim denied going back forth claim department claim department fifth third bank able claim company id trace number regard transaction finding claim denied spoke branch manager representative called claim department regard situation able retrieve contract signed business account monday call claim department contacting fifth third bank line regard transaction filed claim two time claim denied\n",
      "#####################\n",
      "wife received paper bill chase card service amazon account two year informed account paperless billing card basically maxed late fee despite receiving payment idea\n",
      "#####################\n",
      "company funding harassing time bought first vehicle would call declaration page insurance would expire instead calling insurance company also lied pay gap vehicle son wrecked vehicle told gap payment process gap call im work time im ready fired answer phone work former manager told time n't think insurance hard time getting declaration page insurance company basically said lying told daughter worked insurance company lying long going take get paperwork talked company time called today thing already talked would like vehicle company thing called continuously ca n't remember right also rude client always got new employee never know talking month next everyone company know business person working file\n",
      "#####################\n",
      "reverse mortgage lender refuse continuerenew current property tax loan hi lender well fargo telling continuerenew current loan advanced property tax due informed unless repay full balance begin foreclosure proceeding home told hud issued new rule lender affecting reverse mortgage loan specifically case longer meet '' requirement told year old n't want lose home husband last year never late payment well fargo comfortably meet expense including payment make well fargo back property tax month change rule came total surprise hate say feel misled unwittingly perhaps credit well fargo assigned financial counselor case appreciate told hud rule change problem also pertains many senior country property tax andor home insurance advance lender suspect many senior able speak indeed loose home\n",
      "#####################\n"
     ]
    }
   ],
   "source": [
    "for i in df_train['text'].head(5):\n",
    "    print(i)\n",
    "    print(\"#####################\")"
   ]
  },
  {
   "cell_type": "code",
   "execution_count": 34,
   "id": "385b012d",
   "metadata": {},
   "outputs": [],
   "source": [
    "df_val = clean_text(df_val)"
   ]
  },
  {
   "cell_type": "code",
   "execution_count": 35,
   "id": "c3d9ab58",
   "metadata": {},
   "outputs": [
    {
     "name": "stdout",
     "output_type": "stream",
     "text": [
      "bought house primary residence fixed made payment regularly point called bank see option available explained unable make payment longer parent sick put house market moved gave information requested since continually bounced one representative another almost like shell game information outdated submit new information tax statement bank statement recent pay stub explanation unable make payment would tell via mail n't meet investor guideline talked hud tell bank assigns another representative go whole procedure month process hide seek start new year must submit tax bank info explaination cant make payment realtor going think least time past year realtor tell week going last time today get letter bank stating mortgage transferred another servicer going year month\n",
      "#####################\n",
      "husband took equity line credit bank america pre existing nd mortgage st mortgage ( ) time appraisal came bank america gave u new nd mortgage know could finance equity home still mortgage appraisal paying interest bank america loan modified mortgage payment year ago tried modify unable could lower payment govt percentage rate learned n't able finance mortgage application salesman contacted phone thus mortgage name ( really n't understand ) point salary amount reimbursement reason lower pay taking class obtain partially program finish student loan debt begin paying also tried modify sent paper work using salary contribution husband 's denied said make enough money reapplied tried husband 's name put mortgage denied due meeting govt percentage requirement told add name without refinancing would denied yes stupid like many others hanging afraid even contact bank america fear want give back percentage nd mortgage saving living week week 's possible way could handle office home even downsize home would lease office space ca n't win year ago file chapter bankruptcy loss income attorney time mortgage attorney felt questionable activity loaning u money afford hire another attorney investigate especially say nothing modified\n",
      "#####################\n",
      "dear sirmadam want escallate remove negative report noted credit report n't debt question ( medical bill ) remove credit report immediately\n",
      "#####################\n",
      "alliance one account credit report parking ticket '' car sold buyer n't transfer title called make payment told would delete account credit report notified credit bureau came report reported notification debt collector credit bureau call debt collector say owe past parking ticket every time 've ever dealt company 've paid account full disheartening consumer paid full agreed delete account reported weighed credit score point\n",
      "#####################\n",
      "portfolio recovery continues contact parent multiple number time day\n",
      "#####################\n"
     ]
    }
   ],
   "source": [
    "for i in df_val['text'].head(5):\n",
    "    print(i)\n",
    "    print(\"#####################\")"
   ]
  },
  {
   "attachments": {},
   "cell_type": "markdown",
   "id": "6edb57ca",
   "metadata": {},
   "source": [
    "## Tokenize text"
   ]
  },
  {
   "cell_type": "code",
   "execution_count": 36,
   "id": "0a5f516b",
   "metadata": {},
   "outputs": [],
   "source": [
    "df_train['text'] = df_train.apply(\n",
    "    lambda x: nltk.word_tokenize(x['text']), axis=1)"
   ]
  },
  {
   "cell_type": "code",
   "execution_count": 37,
   "id": "3f091ea5",
   "metadata": {},
   "outputs": [
    {
     "name": "stdout",
     "output_type": "stream",
     "text": [
      "['dear', 'sir', 'madam', 'ever', 'since', 'sold', 'mortgage', 'loan', 'nothing', 'problem', 'husband', 'back', 'tried', 'modify', 'loan', 'absolute', 'nightmare', 'submitting', 'information', 'several', 'time', 'going', 'numerous', 'scheduling', '``', 'call', 'loan', 'counselor', 'finally', 'got', 'talk', 'nothing', 'substance', 'discus', 'help', 'offered', 'guidance', 'help', 'would', 'tell', 'needed', 'get', 'certain', 'piece', 'info', 'schedule', 'yet', 'another', 'call', '(', 'always', 'week', 'later', ')', 'take', 'like', 'would', 'schedule', 'call', 'call', 'discus', 'separate', 'piece', 'loan', 'mod', 'application', 'made', 'sense', 'got', 'nowhere', 'gave', 'file', 'inch', 'thick', 'application', 'form', 'note', 'back', 'info', 'scanned', 'claimed', 'never', 'received', 'finally', 'gave', 'husband', 'laid', 'due', 'construction', 'industry', 'slow', 'time', 'decided', 'file', 'bankruptcy', 'believe', 'given', 'chance', 'modify', 'could', 'avoided', 'filing', 'chapter', 'year', 'later', 'loan', 'sold', 'nationstar', 'issue', 'stem', 'bankruptcy', 'attorney', 'help', 'get', 'simple', 'answer', 'escrow', 'sudden', 'went', 'per', 'month', 'tax', 'go', 'thing', 'switch', 'homeowner', 'insurer', 'payment', 'gone', 'around', 'month', 'le', 'sent', 'copy', 'escrow', 'analysis', 'page', 'raised', 'payment', 'upwards', 'per', 'month', 'offer', 'clear', 'reason', 'called', 'given', 'explanation', 'matter', 'fact', 'told', 'supposed', 'see', '``', 'know', 'meant', 'received', 'letter', 'saying', 'loan', 'transferred', 'nationstar', 'called', 'explanation', 'guidance', 'got', 'fuzzy', 'answer', 'nobody', 'could', 'explain', 'payment', 'increase', 'even', 'told', 'attorney', 'know', 'happened', 'kind', 'let', 'go', 'called', 'payment', 'month', 'would', 'take', 'normal', 'payment', 'would', 'take', 'payment', 'increase', 'want', 'pay', 'agree', 'budget', 'chapter', 'plus', 'offered', 'reason', 'payment', 'increased', 'next', 'several', 'month', 'mail', 'payment', '(', 'normal', 'payment', 'payment', 'increase', 'calculation', ')', 'payment', 'late', 'meantime', 'attorney', 'help', 'approximately', 'month', 'attorney', 'finally', 'got', 'answer', 'payment', 'increase', 'buy', 'however', 'still', 'form', 'loan', 'number', 'crossed', \"n't\", 'even', 'know', 'mine', 'right', 'confused', 'incurred', 'attorney', 'fee', 'late', 'fee', 'due', 'error', 'think', 'obligated', 'pay', 'fee', 'due', 'error', 'nationstar', \"'s\", 'ignorance', 'inability', 'explain', 'increase', 'anything', 'help']\n",
      "#####################\n",
      "['ach', 'transaction', 'withdrawal', 'account', 'without', 'permission', 'company', 'bamed', 'ach', 'transaction', 'caused', 'business', 'account', 'go', 'negative', 'balance', 'noticed', 'transaction', 'immediately', 'called', 'bank', 'spoke', 'claim', 'department', 'explain', 'situation', 'fraudulent', 'activity', 'knowledge', 'relation', 'bank', 'involved', 'well', 'named', 'fifth', 'third', 'bank', 'michigan', 'filed', 'claim', 'filed', 'claim', 'told', 'would', 'receive', 'refund', 'hour', 'business', 'day', 'followed', 'hold', 'business', 'account', 'approximately', 'told', 'claim', 'denied', 'needed', 'make', 'claim', 'within', 'hour', 'transaction', 'finding', 'claim', 'denied', 'going', 'back', 'forth', 'claim', 'department', 'claim', 'department', 'fifth', 'third', 'bank', 'able', 'claim', 'company', 'id', 'trace', 'number', 'regard', 'transaction', 'finding', 'claim', 'denied', 'spoke', 'branch', 'manager', 'representative', 'called', 'claim', 'department', 'regard', 'situation', 'able', 'retrieve', 'contract', 'signed', 'business', 'account', 'monday', 'call', 'claim', 'department', 'contacting', 'fifth', 'third', 'bank', 'line', 'regard', 'transaction', 'filed', 'claim', 'two', 'time', 'claim', 'denied']\n",
      "#####################\n",
      "['wife', 'received', 'paper', 'bill', 'chase', 'card', 'service', 'amazon', 'account', 'two', 'year', 'informed', 'account', 'paperless', 'billing', 'card', 'basically', 'maxed', 'late', 'fee', 'despite', 'receiving', 'payment', 'idea']\n",
      "#####################\n",
      "['company', 'funding', 'harassing', 'time', 'bought', 'first', 'vehicle', 'would', 'call', 'declaration', 'page', 'insurance', 'would', 'expire', 'instead', 'calling', 'insurance', 'company', 'also', 'lied', 'pay', 'gap', 'vehicle', 'son', 'wrecked', 'vehicle', 'told', 'gap', 'payment', 'process', 'gap', 'call', 'im', 'work', 'time', 'im', 'ready', 'fired', 'answer', 'phone', 'work', 'former', 'manager', 'told', 'time', \"n't\", 'think', 'insurance', 'hard', 'time', 'getting', 'declaration', 'page', 'insurance', 'company', 'basically', 'said', 'lying', 'told', 'daughter', 'worked', 'insurance', 'company', 'lying', 'long', 'going', 'take', 'get', 'paperwork', 'talked', 'company', 'time', 'called', 'today', 'thing', 'already', 'talked', 'would', 'like', 'vehicle', 'company', 'thing', 'called', 'continuously', 'ca', \"n't\", 'remember', 'right', 'also', 'rude', 'client', 'always', 'got', 'new', 'employee', 'never', 'know', 'talking', 'month', 'next', 'everyone', 'company', 'know', 'business', 'person', 'working', 'file']\n",
      "#####################\n",
      "['reverse', 'mortgage', 'lender', 'refuse', 'continuerenew', 'current', 'property', 'tax', 'loan', 'hi', 'lender', 'well', 'fargo', 'telling', 'continuerenew', 'current', 'loan', 'advanced', 'property', 'tax', 'due', 'informed', 'unless', 'repay', 'full', 'balance', 'begin', 'foreclosure', 'proceeding', 'home', 'told', 'hud', 'issued', 'new', 'rule', 'lender', 'affecting', 'reverse', 'mortgage', 'loan', 'specifically', 'case', 'longer', 'meet', '``', 'requirement', 'told', 'year', 'old', \"n't\", 'want', 'lose', 'home', 'husband', 'last', 'year', 'never', 'late', 'payment', 'well', 'fargo', 'comfortably', 'meet', 'expense', 'including', 'payment', 'make', 'well', 'fargo', 'back', 'property', 'tax', 'month', 'change', 'rule', 'came', 'total', 'surprise', 'hate', 'say', 'feel', 'misled', 'unwittingly', 'perhaps', 'credit', 'well', 'fargo', 'assigned', 'financial', 'counselor', 'case', 'appreciate', 'told', 'hud', 'rule', 'change', 'problem', 'also', 'pertains', 'many', 'senior', 'country', 'property', 'tax', 'andor', 'home', 'insurance', 'advance', 'lender', 'suspect', 'many', 'senior', 'able', 'speak', 'indeed', 'loose', 'home']\n",
      "#####################\n"
     ]
    }
   ],
   "source": [
    "for i in df_train['text'].head(5):\n",
    "    print(i)\n",
    "    print(\"#####################\")"
   ]
  },
  {
   "cell_type": "code",
   "execution_count": 38,
   "id": "fce3ad78",
   "metadata": {},
   "outputs": [],
   "source": [
    "df_val['text'] = df_val.apply(\n",
    "    lambda x: nltk.word_tokenize(x['text']), axis=1)"
   ]
  },
  {
   "cell_type": "code",
   "execution_count": 39,
   "id": "0b48a3f8",
   "metadata": {},
   "outputs": [
    {
     "name": "stdout",
     "output_type": "stream",
     "text": [
      "['bought', 'house', 'primary', 'residence', 'fixed', 'made', 'payment', 'regularly', 'point', 'called', 'bank', 'see', 'option', 'available', 'explained', 'unable', 'make', 'payment', 'longer', 'parent', 'sick', 'put', 'house', 'market', 'moved', 'gave', 'information', 'requested', 'since', 'continually', 'bounced', 'one', 'representative', 'another', 'almost', 'like', 'shell', 'game', 'information', 'outdated', 'submit', 'new', 'information', 'tax', 'statement', 'bank', 'statement', 'recent', 'pay', 'stub', 'explanation', 'unable', 'make', 'payment', 'would', 'tell', 'via', 'mail', \"n't\", 'meet', 'investor', 'guideline', 'talked', 'hud', 'tell', 'bank', 'assigns', 'another', 'representative', 'go', 'whole', 'procedure', 'month', 'process', 'hide', 'seek', 'start', 'new', 'year', 'must', 'submit', 'tax', 'bank', 'info', 'explaination', 'cant', 'make', 'payment', 'realtor', 'going', 'think', 'least', 'time', 'past', 'year', 'realtor', 'tell', 'week', 'going', 'last', 'time', 'today', 'get', 'letter', 'bank', 'stating', 'mortgage', 'transferred', 'another', 'servicer', 'going', 'year', 'month']\n",
      "#####################\n",
      "['husband', 'took', 'equity', 'line', 'credit', 'bank', 'america', 'pre', 'existing', 'nd', 'mortgage', 'st', 'mortgage', '(', ')', 'time', 'appraisal', 'came', 'bank', 'america', 'gave', 'u', 'new', 'nd', 'mortgage', 'know', 'could', 'finance', 'equity', 'home', 'still', 'mortgage', 'appraisal', 'paying', 'interest', 'bank', 'america', 'loan', 'modified', 'mortgage', 'payment', 'year', 'ago', 'tried', 'modify', 'unable', 'could', 'lower', 'payment', 'govt', 'percentage', 'rate', 'learned', \"n't\", 'able', 'finance', 'mortgage', 'application', 'salesman', 'contacted', 'phone', 'thus', 'mortgage', 'name', '(', 'really', \"n't\", 'understand', ')', 'point', 'salary', 'amount', 'reimbursement', 'reason', 'lower', 'pay', 'taking', 'class', 'obtain', 'partially', 'program', 'finish', 'student', 'loan', 'debt', 'begin', 'paying', 'also', 'tried', 'modify', 'sent', 'paper', 'work', 'using', 'salary', 'contribution', 'husband', \"'s\", 'denied', 'said', 'make', 'enough', 'money', 'reapplied', 'tried', 'husband', \"'s\", 'name', 'put', 'mortgage', 'denied', 'due', 'meeting', 'govt', 'percentage', 'requirement', 'told', 'add', 'name', 'without', 'refinancing', 'would', 'denied', 'yes', 'stupid', 'like', 'many', 'others', 'hanging', 'afraid', 'even', 'contact', 'bank', 'america', 'fear', 'want', 'give', 'back', 'percentage', 'nd', 'mortgage', 'saving', 'living', 'week', 'week', \"'s\", 'possible', 'way', 'could', 'handle', 'office', 'home', 'even', 'downsize', 'home', 'would', 'lease', 'office', 'space', 'ca', \"n't\", 'win', 'year', 'ago', 'file', 'chapter', 'bankruptcy', 'loss', 'income', 'attorney', 'time', 'mortgage', 'attorney', 'felt', 'questionable', 'activity', 'loaning', 'u', 'money', 'afford', 'hire', 'another', 'attorney', 'investigate', 'especially', 'say', 'nothing', 'modified']\n",
      "#####################\n",
      "['dear', 'sirmadam', 'want', 'escallate', 'remove', 'negative', 'report', 'noted', 'credit', 'report', \"n't\", 'debt', 'question', '(', 'medical', 'bill', ')', 'remove', 'credit', 'report', 'immediately']\n",
      "#####################\n",
      "['alliance', 'one', 'account', 'credit', 'report', 'parking', 'ticket', '``', 'car', 'sold', 'buyer', \"n't\", 'transfer', 'title', 'called', 'make', 'payment', 'told', 'would', 'delete', 'account', 'credit', 'report', 'notified', 'credit', 'bureau', 'came', 'report', 'reported', 'notification', 'debt', 'collector', 'credit', 'bureau', 'call', 'debt', 'collector', 'say', 'owe', 'past', 'parking', 'ticket', 'every', 'time', \"'ve\", 'ever', 'dealt', 'company', \"'ve\", 'paid', 'account', 'full', 'disheartening', 'consumer', 'paid', 'full', 'agreed', 'delete', 'account', 'reported', 'weighed', 'credit', 'score', 'point']\n",
      "#####################\n",
      "['portfolio', 'recovery', 'continues', 'contact', 'parent', 'multiple', 'number', 'time', 'day']\n",
      "#####################\n"
     ]
    }
   ],
   "source": [
    "for i in df_val['text'].head(5):\n",
    "    print(i)\n",
    "    print(\"#####################\")"
   ]
  },
  {
   "cell_type": "code",
   "execution_count": 40,
   "id": "f14ade64",
   "metadata": {},
   "outputs": [
    {
     "name": "stdout",
     "output_type": "stream",
     "text": [
      "<class 'pandas.core.frame.DataFrame'>\n",
      "RangeIndex: 46764 entries, 0 to 46763\n",
      "Data columns (total 34 columns):\n",
      " #   Column                                 Non-Null Count  Dtype  \n",
      "---  ------                                 --------------  -----  \n",
      " 0   text                                   46764 non-null  object \n",
      " 1   timely_response                        46764 non-null  int32  \n",
      " 2   consumer_disputed?                     46764 non-null  int32  \n",
      " 3   days_between_receipt_and_sent          46764 non-null  int64  \n",
      " 4   sub_product_freq                       46764 non-null  float64\n",
      " 5   sub_product_null_flag                  46764 non-null  int32  \n",
      " 6   sub_product_low_flag                   46764 non-null  int32  \n",
      " 7   issue_freq                             46764 non-null  float64\n",
      " 8   issue_low_flag                         46764 non-null  int32  \n",
      " 9   sub_issue_freq                         46764 non-null  float64\n",
      " 10  sub_issue_null_flag                    46764 non-null  int32  \n",
      " 11  sub_issue_low_flag                     46764 non-null  int32  \n",
      " 12  company_public_response_freq           46764 non-null  float64\n",
      " 13  company_public_response_null_flag      46764 non-null  int32  \n",
      " 14  company_public_response_low_flag       46764 non-null  int32  \n",
      " 15  company_freq                           46764 non-null  float64\n",
      " 16  company_low_flag                       46764 non-null  int32  \n",
      " 17  state_freq                             46764 non-null  float64\n",
      " 18  state_null_flag                        46764 non-null  int32  \n",
      " 19  state_low_flag                         46764 non-null  int32  \n",
      " 20  zipcode_freq                           46764 non-null  float64\n",
      " 21  zipcode_null_flag                      46764 non-null  int32  \n",
      " 22  zipcode_low_flag                       46764 non-null  int32  \n",
      " 23  Not Older American, Not Servicemember  46764 non-null  int32  \n",
      " 24  Older American                         46764 non-null  int32  \n",
      " 25  Older American, Servicemember          46764 non-null  int32  \n",
      " 26  Servicemember                          46764 non-null  int32  \n",
      " 27  Closed                                 46764 non-null  int32  \n",
      " 28  Closed with explanation                46764 non-null  int32  \n",
      " 29  Closed with monetary relief            46764 non-null  int32  \n",
      " 30  Closed with non-monetary relief        46764 non-null  int32  \n",
      " 31  Untimely response                      46764 non-null  int32  \n",
      " 32  labels                                 46764 non-null  int32  \n",
      " 33  len                                    46764 non-null  int64  \n",
      "dtypes: float64(7), int32(24), int64(2), object(1)\n",
      "memory usage: 7.8+ MB\n"
     ]
    }
   ],
   "source": [
    "df_train.info()"
   ]
  },
  {
   "cell_type": "code",
   "execution_count": 41,
   "id": "96994da9",
   "metadata": {},
   "outputs": [
    {
     "name": "stdout",
     "output_type": "stream",
     "text": [
      "<class 'pandas.core.frame.DataFrame'>\n",
      "RangeIndex: 14029 entries, 0 to 14028\n",
      "Data columns (total 34 columns):\n",
      " #   Column                                 Non-Null Count  Dtype  \n",
      "---  ------                                 --------------  -----  \n",
      " 0   text                                   14029 non-null  object \n",
      " 1   timely_response                        14029 non-null  int32  \n",
      " 2   consumer_disputed?                     14029 non-null  int32  \n",
      " 3   days_between_receipt_and_sent          14029 non-null  int64  \n",
      " 4   sub_product_freq                       14029 non-null  float64\n",
      " 5   sub_product_null_flag                  14029 non-null  int32  \n",
      " 6   sub_product_low_flag                   14029 non-null  int32  \n",
      " 7   issue_freq                             14029 non-null  float64\n",
      " 8   issue_low_flag                         14029 non-null  int32  \n",
      " 9   sub_issue_freq                         14029 non-null  float64\n",
      " 10  sub_issue_null_flag                    14029 non-null  int32  \n",
      " 11  sub_issue_low_flag                     14029 non-null  int32  \n",
      " 12  company_public_response_freq           14029 non-null  float64\n",
      " 13  company_public_response_null_flag      14029 non-null  int32  \n",
      " 14  company_public_response_low_flag       14029 non-null  int32  \n",
      " 15  company_freq                           14029 non-null  float64\n",
      " 16  company_low_flag                       14029 non-null  int32  \n",
      " 17  state_freq                             14029 non-null  float64\n",
      " 18  state_null_flag                        14029 non-null  int32  \n",
      " 19  state_low_flag                         14029 non-null  int32  \n",
      " 20  zipcode_freq                           14029 non-null  float64\n",
      " 21  zipcode_null_flag                      14029 non-null  int32  \n",
      " 22  zipcode_low_flag                       14029 non-null  int32  \n",
      " 23  Not Older American, Not Servicemember  14029 non-null  int32  \n",
      " 24  Older American                         14029 non-null  int32  \n",
      " 25  Older American, Servicemember          14029 non-null  int32  \n",
      " 26  Servicemember                          14029 non-null  int32  \n",
      " 27  Closed                                 14029 non-null  int32  \n",
      " 28  Closed with explanation                14029 non-null  int32  \n",
      " 29  Closed with monetary relief            14029 non-null  int32  \n",
      " 30  Closed with non-monetary relief        14029 non-null  int32  \n",
      " 31  Untimely response                      14029 non-null  int32  \n",
      " 32  labels                                 14029 non-null  int32  \n",
      " 33  len                                    14029 non-null  int64  \n",
      "dtypes: float64(7), int32(24), int64(2), object(1)\n",
      "memory usage: 2.4+ MB\n"
     ]
    }
   ],
   "source": [
    "df_val.info()"
   ]
  },
  {
   "cell_type": "code",
   "execution_count": 42,
   "id": "e05f03a0",
   "metadata": {},
   "outputs": [],
   "source": [
    "# save prepped df_train dataframe\n",
    "df_train.to_parquet('./input/dataframes/transformers/df_y_train_tokenized.parquet')"
   ]
  },
  {
   "cell_type": "code",
   "execution_count": 44,
   "id": "8d9e2eca",
   "metadata": {},
   "outputs": [],
   "source": [
    "# save prepped df_val dataframe\n",
    "df_val.to_parquet('./input/dataframes/transformers/df_y_val_tokenized.parquet')"
   ]
  },
  {
   "attachments": {},
   "cell_type": "markdown",
   "id": "b67941b1",
   "metadata": {},
   "source": [
    "## Enable GPU acceleration"
   ]
  },
  {
   "cell_type": "raw",
   "id": "572e3c8b",
   "metadata": {},
   "source": [
    "os.environ[\"CUDA_VISIBLE_DEVICES\"]=\"0\""
   ]
  },
  {
   "cell_type": "code",
   "execution_count": 45,
   "id": "88f78d03",
   "metadata": {},
   "outputs": [],
   "source": [
    "cuda_available = torch.cuda.is_available()"
   ]
  },
  {
   "attachments": {},
   "cell_type": "markdown",
   "id": "b8187d34",
   "metadata": {},
   "source": [
    "## BERT base uncased model"
   ]
  },
  {
   "cell_type": "code",
   "execution_count": 75,
   "id": "b88b49de",
   "metadata": {},
   "outputs": [],
   "source": [
    "model_args = {\"num_train_epochs\": 1,\n",
    "              \"fp16\": True, \n",
    "              \"n_gpu\": 1,\n",
    "              \"learning_rate\": 4e-5,\n",
    "              \"train_batch_size\": 32,\n",
    "               \"weight_decay\": 1e-3, #\"reprocess_input_data\": True,\n",
    "              \"overwrite_output_dir\": True,\n",
    "              \"no_cache\":True, \n",
    "              \"no_save\":True,\n",
    "              \"save_eval_checkpoints\":False,\n",
    "              \"save_model_every_epoch\":False,\n",
    "              \"save_optimizer_and_scheduler\":False,\n",
    "              \"use_early_stopping\":True}"
   ]
  },
  {
   "cell_type": "code",
   "execution_count": 76,
   "id": "de92a023",
   "metadata": {},
   "outputs": [
    {
     "name": "stderr",
     "output_type": "stream",
     "text": [
      "Some weights of the model checkpoint at bert-base-uncased were not used when initializing BertForSequenceClassification: ['cls.seq_relationship.bias', 'cls.predictions.bias', 'cls.seq_relationship.weight', 'cls.predictions.transform.LayerNorm.weight', 'cls.predictions.decoder.weight', 'cls.predictions.transform.dense.bias', 'cls.predictions.transform.LayerNorm.bias', 'cls.predictions.transform.dense.weight']\n",
      "- This IS expected if you are initializing BertForSequenceClassification from the checkpoint of a model trained on another task or with another architecture (e.g. initializing a BertForSequenceClassification model from a BertForPreTraining model).\n",
      "- This IS NOT expected if you are initializing BertForSequenceClassification from the checkpoint of a model that you expect to be exactly identical (initializing a BertForSequenceClassification model from a BertForSequenceClassification model).\n",
      "Some weights of BertForSequenceClassification were not initialized from the model checkpoint at bert-base-uncased and are newly initialized: ['classifier.weight', 'classifier.bias']\n",
      "You should probably TRAIN this model on a down-stream task to be able to use it for predictions and inference.\n"
     ]
    }
   ],
   "source": [
    "# Create a ClassificationModel with modified attributes and GPU acceleration (use_cuda=True)\n",
    "model = ClassificationModel(\n",
    "    'bert', \n",
    "    'bert-base-uncased', \n",
    "    num_labels=11, \n",
    "    args=model_args,\n",
    "    use_cuda=cuda_available, #is_cuda_gpu_available,\n",
    "    cuda_device=1\n",
    ")"
   ]
  },
  {
   "cell_type": "code",
   "execution_count": 77,
   "id": "373e5304",
   "metadata": {},
   "outputs": [
    {
     "data": {
      "application/vnd.jupyter.widget-view+json": {
       "model_id": "cbba9312a6724dd29f166661ed5cbeb3",
       "version_major": 2,
       "version_minor": 0
      },
      "text/plain": [
       "  0%|          | 0/46764 [00:00<?, ?it/s]"
      ]
     },
     "metadata": {},
     "output_type": "display_data"
    },
    {
     "data": {
      "application/vnd.jupyter.widget-view+json": {
       "model_id": "66cc592419134722bbd664a3a9feb335",
       "version_major": 2,
       "version_minor": 0
      },
      "text/plain": [
       "Epoch:   0%|          | 0/1 [00:00<?, ?it/s]"
      ]
     },
     "metadata": {},
     "output_type": "display_data"
    },
    {
     "data": {
      "application/vnd.jupyter.widget-view+json": {
       "model_id": "b74f40568c2c4164bb6bbd8693fc49e4",
       "version_major": 2,
       "version_minor": 0
      },
      "text/plain": [
       "Running Epoch 0 of 1:   0%|          | 0/2923 [00:00<?, ?it/s]"
      ]
     },
     "metadata": {},
     "output_type": "display_data"
    }
   ],
   "source": [
    "# Train the model\n",
    "model.train_model(df_train)"
   ]
  },
  {
   "attachments": {},
   "cell_type": "markdown",
   "id": "ce1145ba",
   "metadata": {},
   "source": [
    "## Assess model Accuracy and F1 Score on Validation data"
   ]
  },
  {
   "cell_type": "code",
   "execution_count": null,
   "id": "f042f913",
   "metadata": {},
   "outputs": [],
   "source": [
    "def f1_multiclass(labels, preds):\n",
    "    return f1_score(labels, preds, average='weighted')"
   ]
  },
  {
   "cell_type": "code",
   "execution_count": null,
   "id": "f0c95608",
   "metadata": {},
   "outputs": [
    {
     "data": {
      "application/vnd.jupyter.widget-view+json": {
       "model_id": "a9676e50a1a94458a3411fb022844560",
       "version_major": 2,
       "version_minor": 0
      },
      "text/plain": [
       "  0%|          | 0/14029 [00:00<?, ?it/s]"
      ]
     },
     "metadata": {},
     "output_type": "display_data"
    },
    {
     "data": {
      "application/vnd.jupyter.widget-view+json": {
       "model_id": "beecd5a16dc7435f97a1b91b3d575b49",
       "version_major": 2,
       "version_minor": 0
      },
      "text/plain": [
       "Running Evaluation:   0%|          | 0/1754 [00:00<?, ?it/s]"
      ]
     },
     "metadata": {},
     "output_type": "display_data"
    }
   ],
   "source": [
    "# Evaluate the model on Validation dataset\n",
    "result, model_outputs, wrong_predictions = model.eval_model(df_val, acc=accuracy_score, f1=f1_multiclass)"
   ]
  },
  {
   "cell_type": "code",
   "execution_count": null,
   "id": "930521b6",
   "metadata": {},
   "outputs": [
    {
     "name": "stdout",
     "output_type": "stream",
     "text": [
      "{'mcc': 0.8102805100074923, 'acc': 0.8448214413001639, 'f1': 0.8425415274276015, 'eval_loss': 0.528297142183542}\n"
     ]
    }
   ],
   "source": [
    "print(result)"
   ]
  },
  {
   "cell_type": "code",
   "execution_count": null,
   "id": "a969b2b3",
   "metadata": {},
   "outputs": [
    {
     "name": "stdout",
     "output_type": "stream",
     "text": [
      "[[ 0.96155506 -0.15471375 -0.40629286 ... -2.22780252 -2.21353269\n",
      "  -1.64585412]\n",
      " [ 1.37362385 -0.19850746 -0.51009369 ... -2.26011133 -2.27221441\n",
      "  -1.55057919]\n",
      " [-1.12098408 -0.03287375  0.98449969 ... -2.04535389 -2.94812393\n",
      "  -1.57522452]\n",
      " ...\n",
      " [-0.8311221  -0.44779235 -0.2140888  ... -1.88468564 -1.6095047\n",
      "  -1.68618941]\n",
      " [ 5.88516283 -0.47483876  1.10770965 ... -1.61313045 -0.92738819\n",
      "  -1.89347827]\n",
      " [ 2.74324656 -2.07674766  1.96322322 ... -1.773911    5.38644838\n",
      "  -2.29855132]]\n"
     ]
    }
   ],
   "source": [
    "print(model_outputs)"
   ]
  },
  {
   "cell_type": "raw",
   "id": "dab2dff7",
   "metadata": {},
   "source": [
    "print(wrong_predictions)"
   ]
  },
  {
   "attachments": {},
   "cell_type": "markdown",
   "id": "65b39a3a",
   "metadata": {},
   "source": [
    "- ### Pretrained bert-base-uncased LLM (12-layer, 768-hidden, 12-heads, 110M parameters) with 1 training epoch for simpleTransformers multi-classification with GPU acceleration performs fairly well with Accuracy and F1 score of ~84% and Mathew's Correlation Coefficient of ~81% on the validation dataset.\n",
    "    - #### Evaluate performance on test dataset next."
   ]
  },
  {
   "attachments": {},
   "cell_type": "markdown",
   "id": "14dcd035",
   "metadata": {},
   "source": [
    "## Load the test data for model evaluation on out-of-sample data"
   ]
  },
  {
   "cell_type": "code",
   "execution_count": 53,
   "id": "3ec7fe4a",
   "metadata": {},
   "outputs": [
    {
     "data": {
      "text/html": [
       "<div>\n",
       "<style scoped>\n",
       "    .dataframe tbody tr th:only-of-type {\n",
       "        vertical-align: middle;\n",
       "    }\n",
       "\n",
       "    .dataframe tbody tr th {\n",
       "        vertical-align: top;\n",
       "    }\n",
       "\n",
       "    .dataframe thead th {\n",
       "        text-align: right;\n",
       "    }\n",
       "</style>\n",
       "<table border=\"1\" class=\"dataframe\">\n",
       "  <thead>\n",
       "    <tr style=\"text-align: right;\">\n",
       "      <th></th>\n",
       "      <th>consumer_complaint_narrative</th>\n",
       "      <th>timely_response</th>\n",
       "      <th>consumer_disputed?</th>\n",
       "      <th>days_between_receipt_and_sent</th>\n",
       "      <th>sub_product_freq</th>\n",
       "      <th>sub_product_null_flag</th>\n",
       "      <th>sub_product_low_flag</th>\n",
       "      <th>issue_freq</th>\n",
       "      <th>issue_low_flag</th>\n",
       "      <th>sub_issue_freq</th>\n",
       "      <th>sub_issue_null_flag</th>\n",
       "      <th>sub_issue_low_flag</th>\n",
       "      <th>company_public_response_freq</th>\n",
       "      <th>company_public_response_null_flag</th>\n",
       "      <th>company_public_response_low_flag</th>\n",
       "      <th>company_freq</th>\n",
       "      <th>company_low_flag</th>\n",
       "      <th>state_freq</th>\n",
       "      <th>state_null_flag</th>\n",
       "      <th>state_low_flag</th>\n",
       "      <th>zipcode_freq</th>\n",
       "      <th>zipcode_null_flag</th>\n",
       "      <th>zipcode_low_flag</th>\n",
       "      <th>Not Older American, Not Servicemember</th>\n",
       "      <th>Older American</th>\n",
       "      <th>Older American, Servicemember</th>\n",
       "      <th>Servicemember</th>\n",
       "      <th>Closed</th>\n",
       "      <th>Closed with explanation</th>\n",
       "      <th>Closed with monetary relief</th>\n",
       "      <th>Closed with non-monetary relief</th>\n",
       "      <th>Untimely response</th>\n",
       "    </tr>\n",
       "  </thead>\n",
       "  <tbody>\n",
       "    <tr>\n",
       "      <th>0</th>\n",
       "      <td>My husband and I agreed to pay off our mortgag...</td>\n",
       "      <td>1</td>\n",
       "      <td>0</td>\n",
       "      <td>0</td>\n",
       "      <td>0.008482</td>\n",
       "      <td>0</td>\n",
       "      <td>1</td>\n",
       "      <td>0.098287</td>\n",
       "      <td>0</td>\n",
       "      <td>-1.000000</td>\n",
       "      <td>1</td>\n",
       "      <td>0</td>\n",
       "      <td>0.293032</td>\n",
       "      <td>0</td>\n",
       "      <td>0</td>\n",
       "      <td>0.043406</td>\n",
       "      <td>0</td>\n",
       "      <td>0.037086</td>\n",
       "      <td>0</td>\n",
       "      <td>0</td>\n",
       "      <td>0.001330</td>\n",
       "      <td>0</td>\n",
       "      <td>0</td>\n",
       "      <td>0</td>\n",
       "      <td>1</td>\n",
       "      <td>0</td>\n",
       "      <td>0</td>\n",
       "      <td>0</td>\n",
       "      <td>1</td>\n",
       "      <td>0</td>\n",
       "      <td>0</td>\n",
       "      <td>0</td>\n",
       "    </tr>\n",
       "    <tr>\n",
       "      <th>1</th>\n",
       "      <td>I am filing a complaint because EQUIFAX has ig...</td>\n",
       "      <td>1</td>\n",
       "      <td>0</td>\n",
       "      <td>0</td>\n",
       "      <td>-1.000000</td>\n",
       "      <td>1</td>\n",
       "      <td>0</td>\n",
       "      <td>0.028771</td>\n",
       "      <td>0</td>\n",
       "      <td>0.012806</td>\n",
       "      <td>0</td>\n",
       "      <td>0</td>\n",
       "      <td>-1.000000</td>\n",
       "      <td>1</td>\n",
       "      <td>0</td>\n",
       "      <td>0.061034</td>\n",
       "      <td>0</td>\n",
       "      <td>0.020289</td>\n",
       "      <td>0</td>\n",
       "      <td>0</td>\n",
       "      <td>0.005322</td>\n",
       "      <td>0</td>\n",
       "      <td>0</td>\n",
       "      <td>1</td>\n",
       "      <td>0</td>\n",
       "      <td>0</td>\n",
       "      <td>0</td>\n",
       "      <td>0</td>\n",
       "      <td>1</td>\n",
       "      <td>0</td>\n",
       "      <td>0</td>\n",
       "      <td>0</td>\n",
       "    </tr>\n",
       "    <tr>\n",
       "      <th>2</th>\n",
       "      <td>This account is fraudulent and the company ref...</td>\n",
       "      <td>1</td>\n",
       "      <td>1</td>\n",
       "      <td>0</td>\n",
       "      <td>0.059538</td>\n",
       "      <td>0</td>\n",
       "      <td>0</td>\n",
       "      <td>0.110095</td>\n",
       "      <td>0</td>\n",
       "      <td>0.010311</td>\n",
       "      <td>0</td>\n",
       "      <td>0</td>\n",
       "      <td>-1.000000</td>\n",
       "      <td>1</td>\n",
       "      <td>0</td>\n",
       "      <td>0.000333</td>\n",
       "      <td>1</td>\n",
       "      <td>0.013637</td>\n",
       "      <td>0</td>\n",
       "      <td>0</td>\n",
       "      <td>0.001829</td>\n",
       "      <td>0</td>\n",
       "      <td>0</td>\n",
       "      <td>1</td>\n",
       "      <td>0</td>\n",
       "      <td>0</td>\n",
       "      <td>0</td>\n",
       "      <td>0</td>\n",
       "      <td>1</td>\n",
       "      <td>0</td>\n",
       "      <td>0</td>\n",
       "      <td>0</td>\n",
       "    </tr>\n",
       "    <tr>\n",
       "      <th>3</th>\n",
       "      <td>Again, I lived in XXXX from : XX/XX/XXXX, unti...</td>\n",
       "      <td>1</td>\n",
       "      <td>0</td>\n",
       "      <td>3</td>\n",
       "      <td>0.056710</td>\n",
       "      <td>0</td>\n",
       "      <td>0</td>\n",
       "      <td>0.012972</td>\n",
       "      <td>0</td>\n",
       "      <td>-1.000000</td>\n",
       "      <td>1</td>\n",
       "      <td>0</td>\n",
       "      <td>0.293032</td>\n",
       "      <td>0</td>\n",
       "      <td>0</td>\n",
       "      <td>0.004823</td>\n",
       "      <td>1</td>\n",
       "      <td>0.002994</td>\n",
       "      <td>0</td>\n",
       "      <td>1</td>\n",
       "      <td>0.000499</td>\n",
       "      <td>0</td>\n",
       "      <td>1</td>\n",
       "      <td>0</td>\n",
       "      <td>0</td>\n",
       "      <td>1</td>\n",
       "      <td>0</td>\n",
       "      <td>0</td>\n",
       "      <td>1</td>\n",
       "      <td>0</td>\n",
       "      <td>0</td>\n",
       "      <td>0</td>\n",
       "    </tr>\n",
       "    <tr>\n",
       "      <th>4</th>\n",
       "      <td>This company calls multiple times a day despit...</td>\n",
       "      <td>1</td>\n",
       "      <td>0</td>\n",
       "      <td>0</td>\n",
       "      <td>0.059538</td>\n",
       "      <td>0</td>\n",
       "      <td>0</td>\n",
       "      <td>0.043240</td>\n",
       "      <td>0</td>\n",
       "      <td>0.023283</td>\n",
       "      <td>0</td>\n",
       "      <td>0</td>\n",
       "      <td>-1.000000</td>\n",
       "      <td>1</td>\n",
       "      <td>0</td>\n",
       "      <td>0.009147</td>\n",
       "      <td>1</td>\n",
       "      <td>0.032762</td>\n",
       "      <td>0</td>\n",
       "      <td>0</td>\n",
       "      <td>0.002661</td>\n",
       "      <td>0</td>\n",
       "      <td>0</td>\n",
       "      <td>1</td>\n",
       "      <td>0</td>\n",
       "      <td>0</td>\n",
       "      <td>0</td>\n",
       "      <td>0</td>\n",
       "      <td>0</td>\n",
       "      <td>0</td>\n",
       "      <td>1</td>\n",
       "      <td>0</td>\n",
       "    </tr>\n",
       "  </tbody>\n",
       "</table>\n",
       "</div>"
      ],
      "text/plain": [
       "                        consumer_complaint_narrative  timely_response  \\\n",
       "0  My husband and I agreed to pay off our mortgag...                1   \n",
       "1  I am filing a complaint because EQUIFAX has ig...                1   \n",
       "2  This account is fraudulent and the company ref...                1   \n",
       "3  Again, I lived in XXXX from : XX/XX/XXXX, unti...                1   \n",
       "4  This company calls multiple times a day despit...                1   \n",
       "\n",
       "   consumer_disputed?  days_between_receipt_and_sent  sub_product_freq  \\\n",
       "0                   0                              0          0.008482   \n",
       "1                   0                              0         -1.000000   \n",
       "2                   1                              0          0.059538   \n",
       "3                   0                              3          0.056710   \n",
       "4                   0                              0          0.059538   \n",
       "\n",
       "   sub_product_null_flag  sub_product_low_flag  issue_freq  issue_low_flag  \\\n",
       "0                      0                     1    0.098287               0   \n",
       "1                      1                     0    0.028771               0   \n",
       "2                      0                     0    0.110095               0   \n",
       "3                      0                     0    0.012972               0   \n",
       "4                      0                     0    0.043240               0   \n",
       "\n",
       "   sub_issue_freq  sub_issue_null_flag  sub_issue_low_flag  \\\n",
       "0       -1.000000                    1                   0   \n",
       "1        0.012806                    0                   0   \n",
       "2        0.010311                    0                   0   \n",
       "3       -1.000000                    1                   0   \n",
       "4        0.023283                    0                   0   \n",
       "\n",
       "   company_public_response_freq  company_public_response_null_flag  \\\n",
       "0                      0.293032                                  0   \n",
       "1                     -1.000000                                  1   \n",
       "2                     -1.000000                                  1   \n",
       "3                      0.293032                                  0   \n",
       "4                     -1.000000                                  1   \n",
       "\n",
       "   company_public_response_low_flag  company_freq  company_low_flag  \\\n",
       "0                                 0      0.043406                 0   \n",
       "1                                 0      0.061034                 0   \n",
       "2                                 0      0.000333                 1   \n",
       "3                                 0      0.004823                 1   \n",
       "4                                 0      0.009147                 1   \n",
       "\n",
       "   state_freq  state_null_flag  state_low_flag  zipcode_freq  \\\n",
       "0    0.037086                0               0      0.001330   \n",
       "1    0.020289                0               0      0.005322   \n",
       "2    0.013637                0               0      0.001829   \n",
       "3    0.002994                0               1      0.000499   \n",
       "4    0.032762                0               0      0.002661   \n",
       "\n",
       "   zipcode_null_flag  zipcode_low_flag  Not Older American, Not Servicemember  \\\n",
       "0                  0                 0                                      0   \n",
       "1                  0                 0                                      1   \n",
       "2                  0                 0                                      1   \n",
       "3                  0                 1                                      0   \n",
       "4                  0                 0                                      1   \n",
       "\n",
       "   Older American  Older American, Servicemember  Servicemember  Closed  \\\n",
       "0               1                              0              0       0   \n",
       "1               0                              0              0       0   \n",
       "2               0                              0              0       0   \n",
       "3               0                              1              0       0   \n",
       "4               0                              0              0       0   \n",
       "\n",
       "   Closed with explanation  Closed with monetary relief  \\\n",
       "0                        1                            0   \n",
       "1                        1                            0   \n",
       "2                        1                            0   \n",
       "3                        1                            0   \n",
       "4                        0                            0   \n",
       "\n",
       "   Closed with non-monetary relief  Untimely response  \n",
       "0                                0                  0  \n",
       "1                                0                  0  \n",
       "2                                0                  0  \n",
       "3                                0                  0  \n",
       "4                                1                  0  "
      ]
     },
     "execution_count": 53,
     "metadata": {},
     "output_type": "execute_result"
    }
   ],
   "source": [
    "df_test = pd.read_parquet('./input/dataframes/df_test_FE.parquet')\n",
    "df_test.head()"
   ]
  },
  {
   "cell_type": "code",
   "execution_count": 54,
   "id": "46bc2d31",
   "metadata": {},
   "outputs": [
    {
     "name": "stdout",
     "output_type": "stream",
     "text": [
      "<class 'pandas.core.frame.DataFrame'>\n",
      "RangeIndex: 6013 entries, 0 to 6012\n",
      "Data columns (total 32 columns):\n",
      " #   Column                                 Non-Null Count  Dtype  \n",
      "---  ------                                 --------------  -----  \n",
      " 0   consumer_complaint_narrative           6013 non-null   object \n",
      " 1   timely_response                        6013 non-null   int32  \n",
      " 2   consumer_disputed?                     6013 non-null   int32  \n",
      " 3   days_between_receipt_and_sent          6013 non-null   int64  \n",
      " 4   sub_product_freq                       6013 non-null   float64\n",
      " 5   sub_product_null_flag                  6013 non-null   int32  \n",
      " 6   sub_product_low_flag                   6013 non-null   int32  \n",
      " 7   issue_freq                             6013 non-null   float64\n",
      " 8   issue_low_flag                         6013 non-null   int32  \n",
      " 9   sub_issue_freq                         6013 non-null   float64\n",
      " 10  sub_issue_null_flag                    6013 non-null   int32  \n",
      " 11  sub_issue_low_flag                     6013 non-null   int32  \n",
      " 12  company_public_response_freq           6013 non-null   float64\n",
      " 13  company_public_response_null_flag      6013 non-null   int32  \n",
      " 14  company_public_response_low_flag       6013 non-null   int32  \n",
      " 15  company_freq                           6013 non-null   float64\n",
      " 16  company_low_flag                       6013 non-null   int32  \n",
      " 17  state_freq                             6013 non-null   float64\n",
      " 18  state_null_flag                        6013 non-null   int32  \n",
      " 19  state_low_flag                         6013 non-null   int32  \n",
      " 20  zipcode_freq                           6013 non-null   float64\n",
      " 21  zipcode_null_flag                      6013 non-null   int32  \n",
      " 22  zipcode_low_flag                       6013 non-null   int32  \n",
      " 23  Not Older American, Not Servicemember  6013 non-null   int32  \n",
      " 24  Older American                         6013 non-null   int32  \n",
      " 25  Older American, Servicemember          6013 non-null   int32  \n",
      " 26  Servicemember                          6013 non-null   int32  \n",
      " 27  Closed                                 6013 non-null   int32  \n",
      " 28  Closed with explanation                6013 non-null   int32  \n",
      " 29  Closed with monetary relief            6013 non-null   int32  \n",
      " 30  Closed with non-monetary relief        6013 non-null   int32  \n",
      " 31  Untimely response                      6013 non-null   int32  \n",
      "dtypes: float64(7), int32(23), int64(1), object(1)\n",
      "memory usage: 963.1+ KB\n"
     ]
    }
   ],
   "source": [
    "df_test.info()"
   ]
  },
  {
   "cell_type": "code",
   "execution_count": 55,
   "id": "00de20b0",
   "metadata": {},
   "outputs": [
    {
     "data": {
      "text/plain": [
       "(6013, 32)"
      ]
     },
     "execution_count": 55,
     "metadata": {},
     "output_type": "execute_result"
    }
   ],
   "source": [
    "df_test.shape"
   ]
  },
  {
   "cell_type": "code",
   "execution_count": 56,
   "id": "e7527a7f",
   "metadata": {},
   "outputs": [
    {
     "data": {
      "text/plain": [
       "['consumer_complaint_narrative',\n",
       " 'timely_response',\n",
       " 'consumer_disputed?',\n",
       " 'days_between_receipt_and_sent',\n",
       " 'sub_product_freq',\n",
       " 'sub_product_null_flag',\n",
       " 'sub_product_low_flag',\n",
       " 'issue_freq',\n",
       " 'issue_low_flag',\n",
       " 'sub_issue_freq',\n",
       " 'sub_issue_null_flag',\n",
       " 'sub_issue_low_flag',\n",
       " 'company_public_response_freq',\n",
       " 'company_public_response_null_flag',\n",
       " 'company_public_response_low_flag',\n",
       " 'company_freq',\n",
       " 'company_low_flag',\n",
       " 'state_freq',\n",
       " 'state_null_flag',\n",
       " 'state_low_flag',\n",
       " 'zipcode_freq',\n",
       " 'zipcode_null_flag',\n",
       " 'zipcode_low_flag',\n",
       " 'Not Older American, Not Servicemember',\n",
       " 'Older American',\n",
       " 'Older American, Servicemember',\n",
       " 'Servicemember',\n",
       " 'Closed',\n",
       " 'Closed with explanation',\n",
       " 'Closed with monetary relief',\n",
       " 'Closed with non-monetary relief',\n",
       " 'Untimely response']"
      ]
     },
     "execution_count": 56,
     "metadata": {},
     "output_type": "execute_result"
    }
   ],
   "source": [
    "list(df_test.columns)"
   ]
  },
  {
   "attachments": {},
   "cell_type": "markdown",
   "id": "64306381",
   "metadata": {},
   "source": [
    "## Import label-encoded target for test data"
   ]
  },
  {
   "cell_type": "code",
   "execution_count": 57,
   "id": "d5235d33",
   "metadata": {},
   "outputs": [
    {
     "data": {
      "text/html": [
       "<div>\n",
       "<style scoped>\n",
       "    .dataframe tbody tr th:only-of-type {\n",
       "        vertical-align: middle;\n",
       "    }\n",
       "\n",
       "    .dataframe tbody tr th {\n",
       "        vertical-align: top;\n",
       "    }\n",
       "\n",
       "    .dataframe thead th {\n",
       "        text-align: right;\n",
       "    }\n",
       "</style>\n",
       "<table border=\"1\" class=\"dataframe\">\n",
       "  <thead>\n",
       "    <tr style=\"text-align: right;\">\n",
       "      <th></th>\n",
       "      <th>label</th>\n",
       "    </tr>\n",
       "  </thead>\n",
       "  <tbody>\n",
       "    <tr>\n",
       "      <th>0</th>\n",
       "      <td>6</td>\n",
       "    </tr>\n",
       "    <tr>\n",
       "      <th>1</th>\n",
       "      <td>3</td>\n",
       "    </tr>\n",
       "    <tr>\n",
       "      <th>2</th>\n",
       "      <td>4</td>\n",
       "    </tr>\n",
       "    <tr>\n",
       "      <th>3</th>\n",
       "      <td>0</td>\n",
       "    </tr>\n",
       "    <tr>\n",
       "      <th>4</th>\n",
       "      <td>4</td>\n",
       "    </tr>\n",
       "  </tbody>\n",
       "</table>\n",
       "</div>"
      ],
      "text/plain": [
       "   label\n",
       "0      6\n",
       "1      3\n",
       "2      4\n",
       "3      0\n",
       "4      4"
      ]
     },
     "execution_count": 57,
     "metadata": {},
     "output_type": "execute_result"
    }
   ],
   "source": [
    "# Test data targets\n",
    "y_test = pd.read_parquet('./input/y_targets/y_test_LE.parquet')\n",
    "y_test.head()"
   ]
  },
  {
   "cell_type": "code",
   "execution_count": 58,
   "id": "491d8ed8",
   "metadata": {},
   "outputs": [
    {
     "name": "stdout",
     "output_type": "stream",
     "text": [
      "4     1580\n",
      "6     1343\n",
      "3     1128\n",
      "2      714\n",
      "0      514\n",
      "1      331\n",
      "10     191\n",
      "9       77\n",
      "8       65\n",
      "5       60\n",
      "7       10\n",
      "Name: label, dtype: int64\n"
     ]
    }
   ],
   "source": [
    "product_test = y_test['label'].value_counts()\n",
    "print(product_test)"
   ]
  },
  {
   "cell_type": "code",
   "execution_count": 59,
   "id": "12a92fc9",
   "metadata": {},
   "outputs": [
    {
     "data": {
      "image/png": "[encoded data removed]",
      "text/plain": [
       "<Figure size 1200x400 with 1 Axes>"
      ]
     },
     "metadata": {},
     "output_type": "display_data"
    }
   ],
   "source": [
    "plt.figure(figsize=(12,4))\n",
    "sns.barplot(x=product_test.index, y=product_test.values, alpha=0.8)\n",
    "plt.title('Test Data Target')\n",
    "plt.ylabel('Number of Occurrences', fontsize=12)\n",
    "plt.xlabel('Product', fontsize=12)\n",
    "plt.xticks(rotation=30)\n",
    "plt.show()"
   ]
  },
  {
   "cell_type": "code",
   "execution_count": 60,
   "id": "7827b722",
   "metadata": {},
   "outputs": [],
   "source": [
    "# Rename 'label' column to 'labels' so simpleTransformers can identify\n",
    "y_test = y_test.rename({'label':'labels'},axis=1)"
   ]
  },
  {
   "cell_type": "code",
   "execution_count": 61,
   "id": "9f9b8b2d",
   "metadata": {},
   "outputs": [],
   "source": [
    "# save prepped y_test df\n",
    "y_test.to_parquet('./input/dataframes/transformers/y_test_labels.parquet')"
   ]
  },
  {
   "attachments": {},
   "cell_type": "markdown",
   "id": "60e02d98",
   "metadata": {},
   "source": [
    "## Inspect unvectorized text and ensure all is converted to string for Test Data"
   ]
  },
  {
   "cell_type": "code",
   "execution_count": 62,
   "id": "436bcf73",
   "metadata": {},
   "outputs": [
    {
     "name": "stdout",
     "output_type": "stream",
     "text": [
      "My husband and I agreed to pay off our mortgage. We felt the best way to pay this off would be to start making a payment per day. Our payment amount is less than {$600.00}. We decided to pay {$600.00} each day until the mortgage was completely payed off. Understanding that we confirmed with the bank that each payment would be recognized as a monthly payment. And we would not be held responsible for payments in arrears, should either of us fall ill and not be able to make a payment during a 90 day period that would let us rest at ease that payments represented a monthly payment. We see a full months amount of interest taken out of the payment, even though we have made the payments on a daily basis. or even several payments on one day. A mortgage should be interest calculated on the days required between payments against the balance. May we please have this in writing as to why they are making this payment as principal and interest for the full month 's interest? Am I mistaken on this issue? They did tell me that they would have a problem with escrow, if that were the case we could pay that separately. But interest needs to be corrected in my thoughts. Thank you for your time and consideration on this matter. I have included documentation to show this application of payments to the balance of the mortgage. \n",
      "The mortgage department has not been helpful with this situation. It seems that they can no longer use the regular method of calculating interest. That it is so given away to automation to be calculated by computers that it is no longer an application they can master when it is a trifle out of the ordinary. All of our statements are sent as soon as we make a payment instead at the end of a month, so each statement looks like a payment per month. This is a little discerning that a bank the size is having this issue with calculation. Earlier I caught an error on a checking account that fees were being deducted that should not have been and I had to have them reversed by the manager. Who is taking care of quality assurance in customers accounts. Why are the accounts allowed to persist with mistakes with no one watching them. Why are they not being reviewed and audited for these errors. We also had money from previous mortgages from this bank end up in the escheats division of the state because the checks was never forwarded to our address. Really, we did n't move, just refinanced. This happened 2 times with this bank. Why? Because if no one sends it out it does n't get returned, we could have cashed the funds from the previous errors in the mortgage payoffs. Which should have been calculated down to the penny by working with all the tax authorities and insurance agencies, etc. but no one is willing to work out the math and make the phone calls to get the amount correct. Again this is very discouraging. This last time we refinanced the person dealing with us made so many mistakes we were ready to walk away. The mortgage took twice as long and was twice as difficult and we were put into a VA loan immediately when all we ask was which would be the best benefit for us. Twice as long, twice the fees, when we needed it ASAP. \n",
      "\n",
      "#####################\n",
      "I am filing a complaint because EQUIFAX has ignored my request to provide me with the documents that their company has on file that was used to verify the accounts i disputed. Being that they have gone past the 30 day mark and can not verify these accounts, under Section 611 ( 5 ) ( A ) of the FCRA- they are required to \" ... promptly delete all information which can not be verified. '' that I have disputed. Please resolve this manner as soon as possible. Thank you \n",
      "\n",
      "#####################\n",
      "This account is fraudulent and the company refuse to remove the account due to identity theft. Someone went to the XXXX under my name and created a debt. \n",
      "\n",
      "#####################\n",
      "Again, I lived in XXXX from : XX/XX/XXXX, until XX/XX/XXXX. ALL XXXX-Credit Agencies are reporting my ADDRESSES from THAT TIME ... ( ALMOST 5-YEARS ), as me STILL LIVING IN XXXX! How can I live XXXX, & have an ADDRESS ( OF LIVING ), IN THE UNITED STATES? Please have ALL XXXX-Credit Agencies, take off any & all PREVIOUS ADDRESSES, from that period of time .... ( XX/XX/XXXX til XX/XX/XXXX ). \n",
      "Also, make sure ALL XXXX-CREDIT AGENCIES take off ''AFNI COLLECTION AGENCY '' report of the FRAUD .... ( already filed a report or claim to your Agency : # XXXX ). \n",
      "I PAID this XXXX XXXX XXXX Mobile Cell Phone '' off, via my ''B.B. & T. Bank '', XX/XX/XXXX ... .for : $ XXXX-Dollars. Despite me paying this off, ( even thou I did ''NOT '' owe it ). After I discovered I DID NOT OWE THIS BILL, I ASK MY BANK TO REFUND MY MONEY OF $ XXXX-Dollars ... which they are yet to do. I have filed a Dispute with ''B.B. & T. Bank '', for the above amount. \n",
      "Even thou I paid this FRAUD OFF ... .. '' XXXX '' STILL IS REPORTING THIS ON XXXX '' & XXXX '', as still being on my Account, ( as PAID OR CLOSED ), BUT STILL LISTING THIS ''FRAUD '', on my XXXX-above Credit Agencies. I requested ' '' XXXX '' to take this FRAUD OFF OF ALL XXXX-CREDIT AGENCIES, & they XXXX '', has ''NOT '' done this, despite THEM telling me that they would. \n",
      "\n",
      "PLEASE TELL ''B.B. & T. BANK '' ... ... TO REFUND MY XX/XX/XXXX XXXX XXXX XXXX XX/XX/XXXX XXXX XXXX XXXX BB & T CHECK CARD PURCHASE {$320.00}. \n",
      "\n",
      "PLUS, TELL ''B.B. & T. BANK '' ... ... TO REFUND MY LATE FEE AS WHEN I DEPOSITED THE CHECK FROM : XXXX XXXX XXXX XXXX THEY ( WERE SUPPOSE TO DISCARD MY CHECK, AS I NOW HAVE XXXX VA '' ... .INSURANCE FOR MY WIFE & SON ... .. ( AS I 'M A XXXX VETERAN ). THEREFORE, I DO N'T NEED THIS XXXX. \n",
      "SO HAVE ''B.B. & T. BANK '' TO RETURN THE {$320.00} ... ... ( AS XXXX '' LIED TO ME ), THEY TOLD ME I HAD TO PAY THIS OFF!!! & THEY WOULD TAKE IT OFF OF MY CREDIT REPORT ... ... AGAIN THEY LIED ... .TO DATE THEY HAVE NOT REMOVED THIS ITEM FROM MY CREDIT REPORT. \n",
      "MAKE SURE ''B.B. & T. BANK '' ... ..ALSO RETURNS MY LATE FEE OF $ XXXX-DOLLARS WHICH THEY CHARGE ME AS WELL. \n",
      "Thanks, XXXX ... ... ... OVERDRAFT FEEGet this notice fast. Sign up for free BB & T Alerts. \n",
      "\n",
      "Printable VersionYour account had insufficient funds to pay XXXX item ( s ). BB & T paid the following item ( s ). \n",
      "\n",
      "BB & T ONLINE BILL PAYMEXXXX $ XXXXTotal Item Amount : $ XXXXTOTAL OVERDRAFT FEE : {$36.00} {$36.00} - $ XXXXXX/XX/XXXX Check XXXX XXXX XXXX XXXX XXXX # XXXX View {$140.00}. \n",
      "\n",
      "AT FIRST THEY ONLY GAVE ME CREDIT FOR $ XXXX-DOLLARS, DESPITE THEM KNOWING OR THEM TELLING ME, THAT JUST AS SOON AS I GET THE ' '' XXXX XXXX XXXX CHECK '' FOR {$140.00} ... ..*DEPOSIT THE CHECK ... .... ( BB & T. BANK ONLY GAVE ME CREDIT FOR $ XXXX-DOLLARS! ***MAKING ME OVERDRAWEN*** \n",
      "\n",
      "#####################\n",
      "This company calls multiple times a day despite requests that they remove our number from their database. They do not provide information on the debt that they are attempting to collect. I know of no debts owed by me and am inclined to think that these computer generated calls are merely fishing expeditions seeking a similarly named person. They have not responded to requests to communicate via mail nor provided any evidence of a debt owed by me. \n",
      "\n",
      "#####################\n"
     ]
    }
   ],
   "source": [
    "for i in df_test['consumer_complaint_narrative'].head(5):\n",
    "    print(i)\n",
    "    print(\"#####################\")"
   ]
  },
  {
   "cell_type": "code",
   "execution_count": 63,
   "id": "61ac8f73",
   "metadata": {},
   "outputs": [],
   "source": [
    "df_test = df_test.rename({'consumer_complaint_narrative':'text'},axis=1)"
   ]
  },
  {
   "cell_type": "code",
   "execution_count": 64,
   "id": "604135ae",
   "metadata": {},
   "outputs": [],
   "source": [
    "df_test['text'] = df_test['text'].astype(str)"
   ]
  },
  {
   "attachments": {},
   "cell_type": "markdown",
   "id": "200802ce",
   "metadata": {},
   "source": [
    "## Join feature-engineered text and target dataframes for transformer"
   ]
  },
  {
   "cell_type": "code",
   "execution_count": 65,
   "id": "e3c54b87",
   "metadata": {},
   "outputs": [],
   "source": [
    "df_test = df_test.join(y_test)"
   ]
  },
  {
   "attachments": {},
   "cell_type": "markdown",
   "id": "de9b39ef",
   "metadata": {},
   "source": [
    "## Sanitize text"
   ]
  },
  {
   "cell_type": "code",
   "execution_count": 66,
   "id": "385b012d",
   "metadata": {},
   "outputs": [],
   "source": [
    "df_test = clean_text(df_test)"
   ]
  },
  {
   "cell_type": "code",
   "execution_count": 67,
   "id": "c3d9ab58",
   "metadata": {},
   "outputs": [
    {
     "name": "stdout",
     "output_type": "stream",
     "text": [
      "husband agreed pay mortgage felt best way pay would start making payment per day payment amount le decided pay day mortgage completely payed understanding confirmed bank payment would recognized monthly payment would held responsible payment arrears either u fall ill able make payment day period would let u rest ease payment represented monthly payment see full month amount interest taken payment even though made payment daily basis even several payment one day mortgage interest calculated day required payment balance may please writing making payment principal interest full month 's interest mistaken issue tell would problem escrow case could pay separately interest need corrected thought thank time consideration matter included documentation show application payment balance mortgage mortgage department helpful situation seems longer use regular method calculating interest given away automation calculated computer longer application master trifle ordinary statement sent soon make payment instead end month statement look like payment per month little discerning bank size issue calculation earlier caught error checking account fee deducted reversed manager taking care quality assurance customer account account allowed persist mistake one watching reviewed audited error also money previous mortgage bank end escheat division state check never forwarded address really n't move refinanced happened time bank one sends n't get returned could cashed fund previous error mortgage payoff calculated penny working tax authority insurance agency etc one willing work math make phone call get amount correct discouraging last time refinanced person dealing u made many mistake ready walk away mortgage took twice long twice difficult put va loan immediately ask would best benefit u twice long twice fee needed asap\n",
      "#####################\n",
      "filing complaint equifa ignored request provide document company file used verify account disputed gone past day mark verify account section ( ) ( ) fcra required promptly delete information verified '' disputed please resolve manner soon possible thank\n",
      "#####################\n",
      "account fraudulent company refuse remove account due identity theft someone went name created debt\n",
      "#####################\n",
      "lived credit agency reporting address time ( almost year ) still living live address ( living ) united state please credit agency take previous address period time ( til ) also make sure credit agency take ''afni collection agency '' report fraud ( already filed report claim agency ) paid mobile cell phone '' via ''bb bank '' dollar despite paying ( even thou ''not '' owe ) discovered owe bill ask bank refund money dollar yet filed dispute ''bb bank '' amount even thou paid fraud '' '' still reporting '' '' still account ( paid closed ) still listing ''fraud '' credit agency requested ' '' '' take fraud credit agency '' ''not '' done despite telling would please tell ''bb bank '' refund bb check card purchase plus tell ''bb bank '' refund late fee deposited check ( suppose discard check va '' insurance wife son ( 'm veteran ) therefore n't need ''bb bank '' return ( '' lied ) told pay would take credit report lied date removed item credit report make sure ''bb bank '' also return late fee dollar charge well thanks overdraft feeget notice fast sign free bb alert printable versionyour account insufficient fund pay item ( ) bb paid following item ( ) bb online bill payme total item amount total overdraft fee check view first gave credit dollar despite knowing telling soon get ' '' check '' deposit check ( bb bank gave credit dollar making overdrawen\n",
      "#####################\n",
      "company call multiple time day despite request remove number database provide information debt attempting collect know debt owed inclined think computer generated call merely fishing expedition seeking similarly named person responded request communicate via mail provided evidence debt owed\n",
      "#####################\n"
     ]
    }
   ],
   "source": [
    "for i in df_test['text'].head(5):\n",
    "    print(i)\n",
    "    print(\"#####################\")"
   ]
  },
  {
   "attachments": {},
   "cell_type": "markdown",
   "id": "78995fe6",
   "metadata": {},
   "source": [
    "## Tokenize text"
   ]
  },
  {
   "cell_type": "code",
   "execution_count": 68,
   "id": "0a5f516b",
   "metadata": {},
   "outputs": [],
   "source": [
    "df_test['text'] = df_test.apply(\n",
    "    lambda x: nltk.word_tokenize(x['text']), axis=1)"
   ]
  },
  {
   "cell_type": "code",
   "execution_count": 69,
   "id": "3f091ea5",
   "metadata": {},
   "outputs": [
    {
     "name": "stdout",
     "output_type": "stream",
     "text": [
      "['husband', 'agreed', 'pay', 'mortgage', 'felt', 'best', 'way', 'pay', 'would', 'start', 'making', 'payment', 'per', 'day', 'payment', 'amount', 'le', 'decided', 'pay', 'day', 'mortgage', 'completely', 'payed', 'understanding', 'confirmed', 'bank', 'payment', 'would', 'recognized', 'monthly', 'payment', 'would', 'held', 'responsible', 'payment', 'arrears', 'either', 'u', 'fall', 'ill', 'able', 'make', 'payment', 'day', 'period', 'would', 'let', 'u', 'rest', 'ease', 'payment', 'represented', 'monthly', 'payment', 'see', 'full', 'month', 'amount', 'interest', 'taken', 'payment', 'even', 'though', 'made', 'payment', 'daily', 'basis', 'even', 'several', 'payment', 'one', 'day', 'mortgage', 'interest', 'calculated', 'day', 'required', 'payment', 'balance', 'may', 'please', 'writing', 'making', 'payment', 'principal', 'interest', 'full', 'month', \"'s\", 'interest', 'mistaken', 'issue', 'tell', 'would', 'problem', 'escrow', 'case', 'could', 'pay', 'separately', 'interest', 'need', 'corrected', 'thought', 'thank', 'time', 'consideration', 'matter', 'included', 'documentation', 'show', 'application', 'payment', 'balance', 'mortgage', 'mortgage', 'department', 'helpful', 'situation', 'seems', 'longer', 'use', 'regular', 'method', 'calculating', 'interest', 'given', 'away', 'automation', 'calculated', 'computer', 'longer', 'application', 'master', 'trifle', 'ordinary', 'statement', 'sent', 'soon', 'make', 'payment', 'instead', 'end', 'month', 'statement', 'look', 'like', 'payment', 'per', 'month', 'little', 'discerning', 'bank', 'size', 'issue', 'calculation', 'earlier', 'caught', 'error', 'checking', 'account', 'fee', 'deducted', 'reversed', 'manager', 'taking', 'care', 'quality', 'assurance', 'customer', 'account', 'account', 'allowed', 'persist', 'mistake', 'one', 'watching', 'reviewed', 'audited', 'error', 'also', 'money', 'previous', 'mortgage', 'bank', 'end', 'escheat', 'division', 'state', 'check', 'never', 'forwarded', 'address', 'really', \"n't\", 'move', 'refinanced', 'happened', 'time', 'bank', 'one', 'sends', \"n't\", 'get', 'returned', 'could', 'cashed', 'fund', 'previous', 'error', 'mortgage', 'payoff', 'calculated', 'penny', 'working', 'tax', 'authority', 'insurance', 'agency', 'etc', 'one', 'willing', 'work', 'math', 'make', 'phone', 'call', 'get', 'amount', 'correct', 'discouraging', 'last', 'time', 'refinanced', 'person', 'dealing', 'u', 'made', 'many', 'mistake', 'ready', 'walk', 'away', 'mortgage', 'took', 'twice', 'long', 'twice', 'difficult', 'put', 'va', 'loan', 'immediately', 'ask', 'would', 'best', 'benefit', 'u', 'twice', 'long', 'twice', 'fee', 'needed', 'asap']\n",
      "#####################\n",
      "['filing', 'complaint', 'equifa', 'ignored', 'request', 'provide', 'document', 'company', 'file', 'used', 'verify', 'account', 'disputed', 'gone', 'past', 'day', 'mark', 'verify', 'account', 'section', '(', ')', '(', ')', 'fcra', 'required', 'promptly', 'delete', 'information', 'verified', '``', 'disputed', 'please', 'resolve', 'manner', 'soon', 'possible', 'thank']\n",
      "#####################\n",
      "['account', 'fraudulent', 'company', 'refuse', 'remove', 'account', 'due', 'identity', 'theft', 'someone', 'went', 'name', 'created', 'debt']\n",
      "#####################\n",
      "['lived', 'credit', 'agency', 'reporting', 'address', 'time', '(', 'almost', 'year', ')', 'still', 'living', 'live', 'address', '(', 'living', ')', 'united', 'state', 'please', 'credit', 'agency', 'take', 'previous', 'address', 'period', 'time', '(', 'til', ')', 'also', 'make', 'sure', 'credit', 'agency', 'take', '``', 'afni', 'collection', 'agency', '``', 'report', 'fraud', '(', 'already', 'filed', 'report', 'claim', 'agency', ')', 'paid', 'mobile', 'cell', 'phone', '``', 'via', '``', 'bb', 'bank', '``', 'dollar', 'despite', 'paying', '(', 'even', 'thou', '``', 'not', '``', 'owe', ')', 'discovered', 'owe', 'bill', 'ask', 'bank', 'refund', 'money', 'dollar', 'yet', 'filed', 'dispute', '``', 'bb', 'bank', '``', 'amount', 'even', 'thou', 'paid', 'fraud', '``', '``', 'still', 'reporting', '``', '``', 'still', 'account', '(', 'paid', 'closed', ')', 'still', 'listing', '``', 'fraud', '``', 'credit', 'agency', 'requested', \"'\", '``', '``', 'take', 'fraud', 'credit', 'agency', '``', '``', 'not', '``', 'done', 'despite', 'telling', 'would', 'please', 'tell', '``', 'bb', 'bank', '``', 'refund', 'bb', 'check', 'card', 'purchase', 'plus', 'tell', '``', 'bb', 'bank', '``', 'refund', 'late', 'fee', 'deposited', 'check', '(', 'suppose', 'discard', 'check', 'va', '``', 'insurance', 'wife', 'son', '(', \"'m\", 'veteran', ')', 'therefore', \"n't\", 'need', '``', 'bb', 'bank', '``', 'return', '(', '``', 'lied', ')', 'told', 'pay', 'would', 'take', 'credit', 'report', 'lied', 'date', 'removed', 'item', 'credit', 'report', 'make', 'sure', '``', 'bb', 'bank', '``', 'also', 'return', 'late', 'fee', 'dollar', 'charge', 'well', 'thanks', 'overdraft', 'feeget', 'notice', 'fast', 'sign', 'free', 'bb', 'alert', 'printable', 'versionyour', 'account', 'insufficient', 'fund', 'pay', 'item', '(', ')', 'bb', 'paid', 'following', 'item', '(', ')', 'bb', 'online', 'bill', 'payme', 'total', 'item', 'amount', 'total', 'overdraft', 'fee', 'check', 'view', 'first', 'gave', 'credit', 'dollar', 'despite', 'knowing', 'telling', 'soon', 'get', \"'\", '``', 'check', '``', 'deposit', 'check', '(', 'bb', 'bank', 'gave', 'credit', 'dollar', 'making', 'overdrawen']\n",
      "#####################\n",
      "['company', 'call', 'multiple', 'time', 'day', 'despite', 'request', 'remove', 'number', 'database', 'provide', 'information', 'debt', 'attempting', 'collect', 'know', 'debt', 'owed', 'inclined', 'think', 'computer', 'generated', 'call', 'merely', 'fishing', 'expedition', 'seeking', 'similarly', 'named', 'person', 'responded', 'request', 'communicate', 'via', 'mail', 'provided', 'evidence', 'debt', 'owed']\n",
      "#####################\n"
     ]
    }
   ],
   "source": [
    "for i in df_test['text'].head(5):\n",
    "    print(i)\n",
    "    print(\"#####################\")"
   ]
  },
  {
   "cell_type": "code",
   "execution_count": 70,
   "id": "29a45153",
   "metadata": {},
   "outputs": [
    {
     "name": "stdout",
     "output_type": "stream",
     "text": [
      "<class 'pandas.core.frame.DataFrame'>\n",
      "RangeIndex: 6013 entries, 0 to 6012\n",
      "Data columns (total 34 columns):\n",
      " #   Column                                 Non-Null Count  Dtype  \n",
      "---  ------                                 --------------  -----  \n",
      " 0   text                                   6013 non-null   object \n",
      " 1   timely_response                        6013 non-null   int32  \n",
      " 2   consumer_disputed?                     6013 non-null   int32  \n",
      " 3   days_between_receipt_and_sent          6013 non-null   int64  \n",
      " 4   sub_product_freq                       6013 non-null   float64\n",
      " 5   sub_product_null_flag                  6013 non-null   int32  \n",
      " 6   sub_product_low_flag                   6013 non-null   int32  \n",
      " 7   issue_freq                             6013 non-null   float64\n",
      " 8   issue_low_flag                         6013 non-null   int32  \n",
      " 9   sub_issue_freq                         6013 non-null   float64\n",
      " 10  sub_issue_null_flag                    6013 non-null   int32  \n",
      " 11  sub_issue_low_flag                     6013 non-null   int32  \n",
      " 12  company_public_response_freq           6013 non-null   float64\n",
      " 13  company_public_response_null_flag      6013 non-null   int32  \n",
      " 14  company_public_response_low_flag       6013 non-null   int32  \n",
      " 15  company_freq                           6013 non-null   float64\n",
      " 16  company_low_flag                       6013 non-null   int32  \n",
      " 17  state_freq                             6013 non-null   float64\n",
      " 18  state_null_flag                        6013 non-null   int32  \n",
      " 19  state_low_flag                         6013 non-null   int32  \n",
      " 20  zipcode_freq                           6013 non-null   float64\n",
      " 21  zipcode_null_flag                      6013 non-null   int32  \n",
      " 22  zipcode_low_flag                       6013 non-null   int32  \n",
      " 23  Not Older American, Not Servicemember  6013 non-null   int32  \n",
      " 24  Older American                         6013 non-null   int32  \n",
      " 25  Older American, Servicemember          6013 non-null   int32  \n",
      " 26  Servicemember                          6013 non-null   int32  \n",
      " 27  Closed                                 6013 non-null   int32  \n",
      " 28  Closed with explanation                6013 non-null   int32  \n",
      " 29  Closed with monetary relief            6013 non-null   int32  \n",
      " 30  Closed with non-monetary relief        6013 non-null   int32  \n",
      " 31  Untimely response                      6013 non-null   int32  \n",
      " 32  labels                                 6013 non-null   int32  \n",
      " 33  len                                    6013 non-null   int64  \n",
      "dtypes: float64(7), int32(24), int64(2), object(1)\n",
      "memory usage: 1.0+ MB\n"
     ]
    }
   ],
   "source": [
    "df_test.info()"
   ]
  },
  {
   "cell_type": "code",
   "execution_count": 71,
   "id": "2b2581d6",
   "metadata": {},
   "outputs": [],
   "source": [
    "# save prepped df_test dataframe\n",
    "df_test.to_parquet('./input/dataframes/transformers/df_y_test_tokenized.parquet')"
   ]
  },
  {
   "attachments": {},
   "cell_type": "markdown",
   "id": "18db172d",
   "metadata": {},
   "source": [
    "## Assess model Accuracy and F1 Score on Test data"
   ]
  },
  {
   "cell_type": "code",
   "execution_count": 72,
   "id": "7112b938",
   "metadata": {},
   "outputs": [
    {
     "data": {
      "application/vnd.jupyter.widget-view+json": {
       "model_id": "a31fead023224f1bbc83e6801bf2c142",
       "version_major": 2,
       "version_minor": 0
      },
      "text/plain": [
       "  0%|          | 0/6013 [00:00<?, ?it/s]"
      ]
     },
     "metadata": {},
     "output_type": "display_data"
    },
    {
     "data": {
      "application/vnd.jupyter.widget-view+json": {
       "model_id": "4da3592f76284435bb12bfd9b3ae74e0",
       "version_major": 2,
       "version_minor": 0
      },
      "text/plain": [
       "Running Evaluation:   0%|          | 0/752 [00:00<?, ?it/s]"
      ]
     },
     "metadata": {},
     "output_type": "display_data"
    }
   ],
   "source": [
    "# Evaluate the model on Test dataset\n",
    "result_test, model_outputs_test, wrong_predictions_test = model.eval_model(df_test, acc=accuracy_score, f1=f1_multiclass)"
   ]
  },
  {
   "cell_type": "code",
   "execution_count": 73,
   "id": "930521b6",
   "metadata": {},
   "outputs": [
    {
     "name": "stdout",
     "output_type": "stream",
     "text": [
      "{'mcc': 0.814542523031679, 'acc': 0.8483286213204723, 'f1': 0.8456833693214488, 'eval_loss': 0.5280188761708485}\n"
     ]
    }
   ],
   "source": [
    "print(result_test)"
   ]
  },
  {
   "cell_type": "code",
   "execution_count": 74,
   "id": "a969b2b3",
   "metadata": {},
   "outputs": [
    {
     "name": "stdout",
     "output_type": "stream",
     "text": [
      "[[ 0.61465776 -0.3285833  -1.06643903 ... -2.22561836 -2.25424695\n",
      "  -1.45495725]\n",
      " [-1.19698656 -0.49420178 -0.81689137 ... -1.48504472 -1.52047181\n",
      "  -1.20198703]\n",
      " [-0.5997569  -0.42783108  0.89182848 ... -1.63881183 -2.55891848\n",
      "  -1.81029046]\n",
      " ...\n",
      " [-1.52295017  0.7562924  -0.17994785 ... -0.174768   -2.87623\n",
      "  -0.64222938]\n",
      " [-1.38447022 -0.1229734   0.54148972 ... -1.50250316 -3.20864415\n",
      "  -1.5010159 ]\n",
      " [ 0.67167962 -0.38985011 -1.03083205 ... -2.26355815 -2.1627717\n",
      "  -1.44791961]]\n"
     ]
    }
   ],
   "source": [
    "print(model_outputs_test)"
   ]
  },
  {
   "cell_type": "raw",
   "id": "5f6b1f49",
   "metadata": {},
   "source": [
    "print(wrong_predictions_test)"
   ]
  },
  {
   "attachments": {},
   "cell_type": "markdown",
   "id": "ee945c9d",
   "metadata": {},
   "source": [
    "- ### The model performed very similarly on the test dataset as the validation dataset with Accuracy and F1 score of ~85% and Mathew's Correlation Coefficient of ~81% on the test dataset."
   ]
  },
  {
   "attachments": {},
   "cell_type": "markdown",
   "id": "246981a3",
   "metadata": {},
   "source": [
    "## BERT Large uncased"
   ]
  },
  {
   "cell_type": "code",
   "execution_count": 7,
   "id": "2789ae0e",
   "metadata": {},
   "outputs": [],
   "source": [
    "# load tokenized training dataframe\n",
    "df_train = pd.read_parquet('./input/dataframes/transformers/df_y_train_tokenized.parquet')"
   ]
  },
  {
   "cell_type": "code",
   "execution_count": 8,
   "id": "14f4d0cb",
   "metadata": {},
   "outputs": [
    {
     "data": {
      "text/html": [
       "<div>\n",
       "<style scoped>\n",
       "    .dataframe tbody tr th:only-of-type {\n",
       "        vertical-align: middle;\n",
       "    }\n",
       "\n",
       "    .dataframe tbody tr th {\n",
       "        vertical-align: top;\n",
       "    }\n",
       "\n",
       "    .dataframe thead th {\n",
       "        text-align: right;\n",
       "    }\n",
       "</style>\n",
       "<table border=\"1\" class=\"dataframe\">\n",
       "  <thead>\n",
       "    <tr style=\"text-align: right;\">\n",
       "      <th></th>\n",
       "      <th>text</th>\n",
       "      <th>timely_response</th>\n",
       "      <th>consumer_disputed?</th>\n",
       "      <th>days_between_receipt_and_sent</th>\n",
       "      <th>sub_product_freq</th>\n",
       "      <th>sub_product_null_flag</th>\n",
       "      <th>sub_product_low_flag</th>\n",
       "      <th>issue_freq</th>\n",
       "      <th>issue_low_flag</th>\n",
       "      <th>sub_issue_freq</th>\n",
       "      <th>sub_issue_null_flag</th>\n",
       "      <th>sub_issue_low_flag</th>\n",
       "      <th>company_public_response_freq</th>\n",
       "      <th>company_public_response_null_flag</th>\n",
       "      <th>company_public_response_low_flag</th>\n",
       "      <th>company_freq</th>\n",
       "      <th>company_low_flag</th>\n",
       "      <th>state_freq</th>\n",
       "      <th>state_null_flag</th>\n",
       "      <th>state_low_flag</th>\n",
       "      <th>zipcode_freq</th>\n",
       "      <th>zipcode_null_flag</th>\n",
       "      <th>zipcode_low_flag</th>\n",
       "      <th>Not Older American, Not Servicemember</th>\n",
       "      <th>Older American</th>\n",
       "      <th>Older American, Servicemember</th>\n",
       "      <th>Servicemember</th>\n",
       "      <th>Closed</th>\n",
       "      <th>Closed with explanation</th>\n",
       "      <th>Closed with monetary relief</th>\n",
       "      <th>Closed with non-monetary relief</th>\n",
       "      <th>Untimely response</th>\n",
       "      <th>labels</th>\n",
       "      <th>len</th>\n",
       "    </tr>\n",
       "  </thead>\n",
       "  <tbody>\n",
       "    <tr>\n",
       "      <th>0</th>\n",
       "      <td>[dear, sir, madam, ever, since, sold, mortgage...</td>\n",
       "      <td>1</td>\n",
       "      <td>0</td>\n",
       "      <td>0</td>\n",
       "      <td>0.098495</td>\n",
       "      <td>0</td>\n",
       "      <td>0</td>\n",
       "      <td>0.097832</td>\n",
       "      <td>0</td>\n",
       "      <td>-1.0</td>\n",
       "      <td>1</td>\n",
       "      <td>0</td>\n",
       "      <td>-1.0</td>\n",
       "      <td>1</td>\n",
       "      <td>0</td>\n",
       "      <td>0.020208</td>\n",
       "      <td>0</td>\n",
       "      <td>0.018711</td>\n",
       "      <td>0</td>\n",
       "      <td>0</td>\n",
       "      <td>0.001198</td>\n",
       "      <td>0</td>\n",
       "      <td>0</td>\n",
       "      <td>1</td>\n",
       "      <td>0</td>\n",
       "      <td>0</td>\n",
       "      <td>0</td>\n",
       "      <td>0</td>\n",
       "      <td>1</td>\n",
       "      <td>0</td>\n",
       "      <td>0</td>\n",
       "      <td>0</td>\n",
       "      <td>6</td>\n",
       "      <td>1735</td>\n",
       "    </tr>\n",
       "    <tr>\n",
       "      <th>1</th>\n",
       "      <td>[ach, transaction, withdrawal, account, withou...</td>\n",
       "      <td>1</td>\n",
       "      <td>0</td>\n",
       "      <td>0</td>\n",
       "      <td>0.019973</td>\n",
       "      <td>0</td>\n",
       "      <td>0</td>\n",
       "      <td>0.020742</td>\n",
       "      <td>0</td>\n",
       "      <td>-1.0</td>\n",
       "      <td>1</td>\n",
       "      <td>0</td>\n",
       "      <td>-1.0</td>\n",
       "      <td>1</td>\n",
       "      <td>0</td>\n",
       "      <td>0.003037</td>\n",
       "      <td>1</td>\n",
       "      <td>0.089449</td>\n",
       "      <td>0</td>\n",
       "      <td>0</td>\n",
       "      <td>0.009858</td>\n",
       "      <td>0</td>\n",
       "      <td>0</td>\n",
       "      <td>1</td>\n",
       "      <td>0</td>\n",
       "      <td>0</td>\n",
       "      <td>0</td>\n",
       "      <td>0</td>\n",
       "      <td>1</td>\n",
       "      <td>0</td>\n",
       "      <td>0</td>\n",
       "      <td>0</td>\n",
       "      <td>0</td>\n",
       "      <td>878</td>\n",
       "    </tr>\n",
       "    <tr>\n",
       "      <th>2</th>\n",
       "      <td>[wife, received, paper, bill, chase, card, ser...</td>\n",
       "      <td>1</td>\n",
       "      <td>0</td>\n",
       "      <td>0</td>\n",
       "      <td>-1.000000</td>\n",
       "      <td>1</td>\n",
       "      <td>0</td>\n",
       "      <td>0.018283</td>\n",
       "      <td>0</td>\n",
       "      <td>-1.0</td>\n",
       "      <td>1</td>\n",
       "      <td>0</td>\n",
       "      <td>-1.0</td>\n",
       "      <td>1</td>\n",
       "      <td>0</td>\n",
       "      <td>0.038897</td>\n",
       "      <td>0</td>\n",
       "      <td>0.017599</td>\n",
       "      <td>0</td>\n",
       "      <td>0</td>\n",
       "      <td>0.002438</td>\n",
       "      <td>0</td>\n",
       "      <td>0</td>\n",
       "      <td>1</td>\n",
       "      <td>0</td>\n",
       "      <td>0</td>\n",
       "      <td>0</td>\n",
       "      <td>0</td>\n",
       "      <td>1</td>\n",
       "      <td>0</td>\n",
       "      <td>0</td>\n",
       "      <td>0</td>\n",
       "      <td>2</td>\n",
       "      <td>163</td>\n",
       "    </tr>\n",
       "  </tbody>\n",
       "</table>\n",
       "</div>"
      ],
      "text/plain": [
       "                                                text  timely_response  \\\n",
       "0  [dear, sir, madam, ever, since, sold, mortgage...                1   \n",
       "1  [ach, transaction, withdrawal, account, withou...                1   \n",
       "2  [wife, received, paper, bill, chase, card, ser...                1   \n",
       "\n",
       "   consumer_disputed?  days_between_receipt_and_sent  sub_product_freq  \\\n",
       "0                   0                              0          0.098495   \n",
       "1                   0                              0          0.019973   \n",
       "2                   0                              0         -1.000000   \n",
       "\n",
       "   sub_product_null_flag  sub_product_low_flag  issue_freq  issue_low_flag  \\\n",
       "0                      0                     0    0.097832               0   \n",
       "1                      0                     0    0.020742               0   \n",
       "2                      1                     0    0.018283               0   \n",
       "\n",
       "   sub_issue_freq  sub_issue_null_flag  sub_issue_low_flag  \\\n",
       "0            -1.0                    1                   0   \n",
       "1            -1.0                    1                   0   \n",
       "2            -1.0                    1                   0   \n",
       "\n",
       "   company_public_response_freq  company_public_response_null_flag  \\\n",
       "0                          -1.0                                  1   \n",
       "1                          -1.0                                  1   \n",
       "2                          -1.0                                  1   \n",
       "\n",
       "   company_public_response_low_flag  company_freq  company_low_flag  \\\n",
       "0                                 0      0.020208                 0   \n",
       "1                                 0      0.003037                 1   \n",
       "2                                 0      0.038897                 0   \n",
       "\n",
       "   state_freq  state_null_flag  state_low_flag  zipcode_freq  \\\n",
       "0    0.018711                0               0      0.001198   \n",
       "1    0.089449                0               0      0.009858   \n",
       "2    0.017599                0               0      0.002438   \n",
       "\n",
       "   zipcode_null_flag  zipcode_low_flag  Not Older American, Not Servicemember  \\\n",
       "0                  0                 0                                      1   \n",
       "1                  0                 0                                      1   \n",
       "2                  0                 0                                      1   \n",
       "\n",
       "   Older American  Older American, Servicemember  Servicemember  Closed  \\\n",
       "0               0                              0              0       0   \n",
       "1               0                              0              0       0   \n",
       "2               0                              0              0       0   \n",
       "\n",
       "   Closed with explanation  Closed with monetary relief  \\\n",
       "0                        1                            0   \n",
       "1                        1                            0   \n",
       "2                        1                            0   \n",
       "\n",
       "   Closed with non-monetary relief  Untimely response  labels   len  \n",
       "0                                0                  0       6  1735  \n",
       "1                                0                  0       0   878  \n",
       "2                                0                  0       2   163  "
      ]
     },
     "execution_count": 8,
     "metadata": {},
     "output_type": "execute_result"
    }
   ],
   "source": [
    "df_train.head(3)"
   ]
  },
  {
   "cell_type": "code",
   "execution_count": 9,
   "id": "07eeda4d",
   "metadata": {},
   "outputs": [],
   "source": [
    "# load tokenized validation dataframe\n",
    "df_val = pd.read_parquet('./input/dataframes/transformers/df_y_val_tokenized.parquet')"
   ]
  },
  {
   "cell_type": "code",
   "execution_count": 10,
   "id": "dcb0d824",
   "metadata": {},
   "outputs": [
    {
     "data": {
      "text/html": [
       "<div>\n",
       "<style scoped>\n",
       "    .dataframe tbody tr th:only-of-type {\n",
       "        vertical-align: middle;\n",
       "    }\n",
       "\n",
       "    .dataframe tbody tr th {\n",
       "        vertical-align: top;\n",
       "    }\n",
       "\n",
       "    .dataframe thead th {\n",
       "        text-align: right;\n",
       "    }\n",
       "</style>\n",
       "<table border=\"1\" class=\"dataframe\">\n",
       "  <thead>\n",
       "    <tr style=\"text-align: right;\">\n",
       "      <th></th>\n",
       "      <th>text</th>\n",
       "      <th>timely_response</th>\n",
       "      <th>consumer_disputed?</th>\n",
       "      <th>days_between_receipt_and_sent</th>\n",
       "      <th>sub_product_freq</th>\n",
       "      <th>sub_product_null_flag</th>\n",
       "      <th>sub_product_low_flag</th>\n",
       "      <th>issue_freq</th>\n",
       "      <th>issue_low_flag</th>\n",
       "      <th>sub_issue_freq</th>\n",
       "      <th>sub_issue_null_flag</th>\n",
       "      <th>sub_issue_low_flag</th>\n",
       "      <th>company_public_response_freq</th>\n",
       "      <th>company_public_response_null_flag</th>\n",
       "      <th>company_public_response_low_flag</th>\n",
       "      <th>company_freq</th>\n",
       "      <th>company_low_flag</th>\n",
       "      <th>state_freq</th>\n",
       "      <th>state_null_flag</th>\n",
       "      <th>state_low_flag</th>\n",
       "      <th>zipcode_freq</th>\n",
       "      <th>zipcode_null_flag</th>\n",
       "      <th>zipcode_low_flag</th>\n",
       "      <th>Not Older American, Not Servicemember</th>\n",
       "      <th>Older American</th>\n",
       "      <th>Older American, Servicemember</th>\n",
       "      <th>Servicemember</th>\n",
       "      <th>Closed</th>\n",
       "      <th>Closed with explanation</th>\n",
       "      <th>Closed with monetary relief</th>\n",
       "      <th>Closed with non-monetary relief</th>\n",
       "      <th>Untimely response</th>\n",
       "      <th>labels</th>\n",
       "      <th>len</th>\n",
       "    </tr>\n",
       "  </thead>\n",
       "  <tbody>\n",
       "    <tr>\n",
       "      <th>0</th>\n",
       "      <td>[bought, house, primary, residence, fixed, mad...</td>\n",
       "      <td>1</td>\n",
       "      <td>0</td>\n",
       "      <td>0</td>\n",
       "      <td>0.040416</td>\n",
       "      <td>0</td>\n",
       "      <td>0</td>\n",
       "      <td>0.076057</td>\n",
       "      <td>0</td>\n",
       "      <td>-1.000000</td>\n",
       "      <td>1</td>\n",
       "      <td>0</td>\n",
       "      <td>0.291824</td>\n",
       "      <td>0</td>\n",
       "      <td>0</td>\n",
       "      <td>0.051108</td>\n",
       "      <td>0</td>\n",
       "      <td>0.149975</td>\n",
       "      <td>0</td>\n",
       "      <td>0</td>\n",
       "      <td>0.001996</td>\n",
       "      <td>0</td>\n",
       "      <td>0</td>\n",
       "      <td>1</td>\n",
       "      <td>0</td>\n",
       "      <td>0</td>\n",
       "      <td>0</td>\n",
       "      <td>0</td>\n",
       "      <td>1</td>\n",
       "      <td>0</td>\n",
       "      <td>0</td>\n",
       "      <td>0</td>\n",
       "      <td>6</td>\n",
       "      <td>769</td>\n",
       "    </tr>\n",
       "    <tr>\n",
       "      <th>1</th>\n",
       "      <td>[husband, took, equity, line, credit, bank, am...</td>\n",
       "      <td>1</td>\n",
       "      <td>0</td>\n",
       "      <td>0</td>\n",
       "      <td>0.013044</td>\n",
       "      <td>0</td>\n",
       "      <td>0</td>\n",
       "      <td>0.023950</td>\n",
       "      <td>0</td>\n",
       "      <td>-1.000000</td>\n",
       "      <td>1</td>\n",
       "      <td>0</td>\n",
       "      <td>0.291824</td>\n",
       "      <td>0</td>\n",
       "      <td>0</td>\n",
       "      <td>0.051108</td>\n",
       "      <td>0</td>\n",
       "      <td>0.034571</td>\n",
       "      <td>0</td>\n",
       "      <td>0</td>\n",
       "      <td>0.001212</td>\n",
       "      <td>0</td>\n",
       "      <td>0</td>\n",
       "      <td>1</td>\n",
       "      <td>0</td>\n",
       "      <td>0</td>\n",
       "      <td>0</td>\n",
       "      <td>0</td>\n",
       "      <td>1</td>\n",
       "      <td>0</td>\n",
       "      <td>0</td>\n",
       "      <td>0</td>\n",
       "      <td>6</td>\n",
       "      <td>1235</td>\n",
       "    </tr>\n",
       "    <tr>\n",
       "      <th>2</th>\n",
       "      <td>[dear, sirmadam, want, escallate, remove, nega...</td>\n",
       "      <td>1</td>\n",
       "      <td>1</td>\n",
       "      <td>0</td>\n",
       "      <td>0.039490</td>\n",
       "      <td>0</td>\n",
       "      <td>0</td>\n",
       "      <td>0.115546</td>\n",
       "      <td>0</td>\n",
       "      <td>0.070283</td>\n",
       "      <td>0</td>\n",
       "      <td>0</td>\n",
       "      <td>0.291824</td>\n",
       "      <td>0</td>\n",
       "      <td>0</td>\n",
       "      <td>0.000143</td>\n",
       "      <td>1</td>\n",
       "      <td>0.037066</td>\n",
       "      <td>0</td>\n",
       "      <td>0</td>\n",
       "      <td>0.006914</td>\n",
       "      <td>0</td>\n",
       "      <td>0</td>\n",
       "      <td>1</td>\n",
       "      <td>0</td>\n",
       "      <td>0</td>\n",
       "      <td>0</td>\n",
       "      <td>1</td>\n",
       "      <td>0</td>\n",
       "      <td>0</td>\n",
       "      <td>0</td>\n",
       "      <td>0</td>\n",
       "      <td>4</td>\n",
       "      <td>139</td>\n",
       "    </tr>\n",
       "  </tbody>\n",
       "</table>\n",
       "</div>"
      ],
      "text/plain": [
       "                                                text  timely_response  \\\n",
       "0  [bought, house, primary, residence, fixed, mad...                1   \n",
       "1  [husband, took, equity, line, credit, bank, am...                1   \n",
       "2  [dear, sirmadam, want, escallate, remove, nega...                1   \n",
       "\n",
       "   consumer_disputed?  days_between_receipt_and_sent  sub_product_freq  \\\n",
       "0                   0                              0          0.040416   \n",
       "1                   0                              0          0.013044   \n",
       "2                   1                              0          0.039490   \n",
       "\n",
       "   sub_product_null_flag  sub_product_low_flag  issue_freq  issue_low_flag  \\\n",
       "0                      0                     0    0.076057               0   \n",
       "1                      0                     0    0.023950               0   \n",
       "2                      0                     0    0.115546               0   \n",
       "\n",
       "   sub_issue_freq  sub_issue_null_flag  sub_issue_low_flag  \\\n",
       "0       -1.000000                    1                   0   \n",
       "1       -1.000000                    1                   0   \n",
       "2        0.070283                    0                   0   \n",
       "\n",
       "   company_public_response_freq  company_public_response_null_flag  \\\n",
       "0                      0.291824                                  0   \n",
       "1                      0.291824                                  0   \n",
       "2                      0.291824                                  0   \n",
       "\n",
       "   company_public_response_low_flag  company_freq  company_low_flag  \\\n",
       "0                                 0      0.051108                 0   \n",
       "1                                 0      0.051108                 0   \n",
       "2                                 0      0.000143                 1   \n",
       "\n",
       "   state_freq  state_null_flag  state_low_flag  zipcode_freq  \\\n",
       "0    0.149975                0               0      0.001996   \n",
       "1    0.034571                0               0      0.001212   \n",
       "2    0.037066                0               0      0.006914   \n",
       "\n",
       "   zipcode_null_flag  zipcode_low_flag  Not Older American, Not Servicemember  \\\n",
       "0                  0                 0                                      1   \n",
       "1                  0                 0                                      1   \n",
       "2                  0                 0                                      1   \n",
       "\n",
       "   Older American  Older American, Servicemember  Servicemember  Closed  \\\n",
       "0               0                              0              0       0   \n",
       "1               0                              0              0       0   \n",
       "2               0                              0              0       1   \n",
       "\n",
       "   Closed with explanation  Closed with monetary relief  \\\n",
       "0                        1                            0   \n",
       "1                        1                            0   \n",
       "2                        0                            0   \n",
       "\n",
       "   Closed with non-monetary relief  Untimely response  labels   len  \n",
       "0                                0                  0       6   769  \n",
       "1                                0                  0       6  1235  \n",
       "2                                0                  0       4   139  "
      ]
     },
     "execution_count": 10,
     "metadata": {},
     "output_type": "execute_result"
    }
   ],
   "source": [
    "df_val.head(3)"
   ]
  },
  {
   "cell_type": "code",
   "execution_count": 11,
   "id": "88f78d03",
   "metadata": {},
   "outputs": [],
   "source": [
    "cuda_available = torch.cuda.is_available()"
   ]
  },
  {
   "cell_type": "code",
   "execution_count": 15,
   "id": "de92a023",
   "metadata": {},
   "outputs": [
    {
     "name": "stderr",
     "output_type": "stream",
     "text": [
      "Some weights of the model checkpoint at bert-large-uncased were not used when initializing BertForSequenceClassification: ['cls.seq_relationship.weight', 'cls.predictions.transform.dense.bias', 'cls.predictions.transform.dense.weight', 'cls.predictions.transform.LayerNorm.bias', 'cls.predictions.decoder.weight', 'cls.predictions.transform.LayerNorm.weight', 'cls.predictions.bias', 'cls.seq_relationship.bias']\n",
      "- This IS expected if you are initializing BertForSequenceClassification from the checkpoint of a model trained on another task or with another architecture (e.g. initializing a BertForSequenceClassification model from a BertForPreTraining model).\n",
      "- This IS NOT expected if you are initializing BertForSequenceClassification from the checkpoint of a model that you expect to be exactly identical (initializing a BertForSequenceClassification model from a BertForSequenceClassification model).\n",
      "Some weights of BertForSequenceClassification were not initialized from the model checkpoint at bert-large-uncased and are newly initialized: ['classifier.weight', 'classifier.bias']\n",
      "You should probably TRAIN this model on a down-stream task to be able to use it for predictions and inference.\n"
     ]
    }
   ],
   "source": [
    "# Create a ClassificationModel with modified attributes and GPU acceleration (use_cuda=True)\n",
    "model = ClassificationModel(\n",
    "    'bert', \n",
    "    'bert-large-uncased', \n",
    "    num_labels=11, \n",
    "    args={\"num_train_epochs\": 1, \"fp16\": True, \"n_gpu\": 1, \"learning_rate\": 4e-5, \"overwrite_output_dir\": True}, #\"reprocess_input_data\": True, \" \n",
    "    use_cuda=cuda_available, #is_cuda_gpu_available,\n",
    "    cuda_device=1\n",
    ")"
   ]
  },
  {
   "cell_type": "code",
   "execution_count": 16,
   "id": "373e5304",
   "metadata": {},
   "outputs": [
    {
     "data": {
      "application/vnd.jupyter.widget-view+json": {
       "model_id": "565edca7d1894f338322e00dad5730a1",
       "version_major": 2,
       "version_minor": 0
      },
      "text/plain": [
       "  0%|          | 0/46764 [00:00<?, ?it/s]"
      ]
     },
     "metadata": {},
     "output_type": "display_data"
    },
    {
     "data": {
      "application/vnd.jupyter.widget-view+json": {
       "model_id": "8b9b9f5f9eac48589c045feaed1e5607",
       "version_major": 2,
       "version_minor": 0
      },
      "text/plain": [
       "Epoch:   0%|          | 0/1 [00:00<?, ?it/s]"
      ]
     },
     "metadata": {},
     "output_type": "display_data"
    },
    {
     "data": {
      "application/vnd.jupyter.widget-view+json": {
       "model_id": "1716ff6e04b14b02a6b13261abfbfea6",
       "version_major": 2,
       "version_minor": 0
      },
      "text/plain": [
       "Running Epoch 0 of 1:   0%|          | 0/5846 [00:00<?, ?it/s]"
      ]
     },
     "metadata": {},
     "output_type": "display_data"
    },
    {
     "data": {
      "text/plain": [
       "(5846, 0.6798972107706291)"
      ]
     },
     "execution_count": 16,
     "metadata": {},
     "output_type": "execute_result"
    }
   ],
   "source": [
    "# Train the model\n",
    "model.train_model(df_train)"
   ]
  },
  {
   "attachments": {},
   "cell_type": "markdown",
   "id": "ce1145ba",
   "metadata": {},
   "source": [
    "## Assess model Accuracy and F1 Score on Validation data"
   ]
  },
  {
   "cell_type": "code",
   "execution_count": 17,
   "id": "f042f913",
   "metadata": {},
   "outputs": [],
   "source": [
    "def f1_multiclass(labels, preds):\n",
    "    return f1_score(labels, preds, average='weighted')"
   ]
  },
  {
   "cell_type": "code",
   "execution_count": 18,
   "id": "f0c95608",
   "metadata": {},
   "outputs": [
    {
     "data": {
      "application/vnd.jupyter.widget-view+json": {
       "model_id": "3d7ab9411f7f4c76bda2421312d4c337",
       "version_major": 2,
       "version_minor": 0
      },
      "text/plain": [
       "  0%|          | 0/14029 [00:00<?, ?it/s]"
      ]
     },
     "metadata": {},
     "output_type": "display_data"
    },
    {
     "data": {
      "application/vnd.jupyter.widget-view+json": {
       "model_id": "2966b27bab6a44c4a819849c52cc02c5",
       "version_major": 2,
       "version_minor": 0
      },
      "text/plain": [
       "Running Evaluation:   0%|          | 0/1754 [00:00<?, ?it/s]"
      ]
     },
     "metadata": {},
     "output_type": "display_data"
    }
   ],
   "source": [
    "# Evaluate the model on Validation dataset\n",
    "result, model_outputs, wrong_predictions = model.eval_model(df_val, acc=accuracy_score, f1=f1_multiclass)"
   ]
  },
  {
   "cell_type": "code",
   "execution_count": 19,
   "id": "930521b6",
   "metadata": {},
   "outputs": [
    {
     "name": "stdout",
     "output_type": "stream",
     "text": [
      "{'mcc': 0.8244022865864482, 'acc': 0.8564402309501746, 'f1': 0.8541679441777809, 'eval_loss': 0.4896781569638288}\n"
     ]
    }
   ],
   "source": [
    "print(result)"
   ]
  },
  {
   "cell_type": "code",
   "execution_count": 20,
   "id": "a969b2b3",
   "metadata": {},
   "outputs": [
    {
     "name": "stdout",
     "output_type": "stream",
     "text": [
      "[[ 1.77979326  0.46817097  0.32381961 ... -2.7097981  -3.43765163\n",
      "  -1.25056279]\n",
      " [ 1.26641309 -0.115224   -0.94947231 ... -2.79276156 -3.83917379\n",
      "  -1.20241618]\n",
      " [-0.81283849  0.02800251  1.79577613 ... -1.81015253 -3.15479946\n",
      "  -1.52776122]\n",
      " ...\n",
      " [-0.53108609 -0.32950237  0.42721787 ... -2.5257926  -2.40311933\n",
      "  -0.87345475]\n",
      " [ 6.41187668 -0.26876014  1.23721325 ... -2.41010284 -1.50895667\n",
      "  -2.24304533]\n",
      " [ 3.45721483 -1.5082773   3.09394956 ... -2.2389102   5.13824654\n",
      "  -2.1130197 ]]\n"
     ]
    }
   ],
   "source": [
    "print(model_outputs)"
   ]
  },
  {
   "cell_type": "raw",
   "id": "dab2dff7",
   "metadata": {},
   "source": [
    "print(wrong_predictions)"
   ]
  },
  {
   "attachments": {},
   "cell_type": "markdown",
   "id": "65b39a3a",
   "metadata": {},
   "source": [
    "- ### Pretrained bert-large-uncased LLM (24-layer, 1024-hidden, 16-heads, 340M parameters) with 1 training epoch for simpleTransformers multi-classification with GPU acceleration performs only slightly better than the bert-base-uncased LLM with F1 score and Accuracy of ~85/86% and Mathew's Correlation Coefficient of ~82% on the validation dataset.\n",
    "    - #### Evaluate performance on test dataset next."
   ]
  },
  {
   "attachments": {},
   "cell_type": "markdown",
   "id": "14dcd035",
   "metadata": {},
   "source": [
    "## Load the test data for model evaluation on out-of-sample data"
   ]
  },
  {
   "cell_type": "code",
   "execution_count": 21,
   "id": "07eeda4d",
   "metadata": {},
   "outputs": [],
   "source": [
    "# load tokenized test dataframe\n",
    "df_test = pd.read_parquet('./input/dataframes/transformers/df_y_test_tokenized.parquet')"
   ]
  },
  {
   "cell_type": "code",
   "execution_count": 22,
   "id": "dcb0d824",
   "metadata": {},
   "outputs": [
    {
     "data": {
      "text/html": [
       "<div>\n",
       "<style scoped>\n",
       "    .dataframe tbody tr th:only-of-type {\n",
       "        vertical-align: middle;\n",
       "    }\n",
       "\n",
       "    .dataframe tbody tr th {\n",
       "        vertical-align: top;\n",
       "    }\n",
       "\n",
       "    .dataframe thead th {\n",
       "        text-align: right;\n",
       "    }\n",
       "</style>\n",
       "<table border=\"1\" class=\"dataframe\">\n",
       "  <thead>\n",
       "    <tr style=\"text-align: right;\">\n",
       "      <th></th>\n",
       "      <th>text</th>\n",
       "      <th>timely_response</th>\n",
       "      <th>consumer_disputed?</th>\n",
       "      <th>days_between_receipt_and_sent</th>\n",
       "      <th>sub_product_freq</th>\n",
       "      <th>sub_product_null_flag</th>\n",
       "      <th>sub_product_low_flag</th>\n",
       "      <th>issue_freq</th>\n",
       "      <th>issue_low_flag</th>\n",
       "      <th>sub_issue_freq</th>\n",
       "      <th>sub_issue_null_flag</th>\n",
       "      <th>sub_issue_low_flag</th>\n",
       "      <th>company_public_response_freq</th>\n",
       "      <th>company_public_response_null_flag</th>\n",
       "      <th>company_public_response_low_flag</th>\n",
       "      <th>company_freq</th>\n",
       "      <th>company_low_flag</th>\n",
       "      <th>state_freq</th>\n",
       "      <th>state_null_flag</th>\n",
       "      <th>state_low_flag</th>\n",
       "      <th>zipcode_freq</th>\n",
       "      <th>zipcode_null_flag</th>\n",
       "      <th>zipcode_low_flag</th>\n",
       "      <th>Not Older American, Not Servicemember</th>\n",
       "      <th>Older American</th>\n",
       "      <th>Older American, Servicemember</th>\n",
       "      <th>Servicemember</th>\n",
       "      <th>Closed</th>\n",
       "      <th>Closed with explanation</th>\n",
       "      <th>Closed with monetary relief</th>\n",
       "      <th>Closed with non-monetary relief</th>\n",
       "      <th>Untimely response</th>\n",
       "      <th>labels</th>\n",
       "      <th>len</th>\n",
       "    </tr>\n",
       "  </thead>\n",
       "  <tbody>\n",
       "    <tr>\n",
       "      <th>0</th>\n",
       "      <td>[husband, agreed, pay, mortgage, felt, best, w...</td>\n",
       "      <td>1</td>\n",
       "      <td>0</td>\n",
       "      <td>0</td>\n",
       "      <td>0.008482</td>\n",
       "      <td>0</td>\n",
       "      <td>1</td>\n",
       "      <td>0.098287</td>\n",
       "      <td>0</td>\n",
       "      <td>-1.000000</td>\n",
       "      <td>1</td>\n",
       "      <td>0</td>\n",
       "      <td>0.293032</td>\n",
       "      <td>0</td>\n",
       "      <td>0</td>\n",
       "      <td>0.043406</td>\n",
       "      <td>0</td>\n",
       "      <td>0.037086</td>\n",
       "      <td>0</td>\n",
       "      <td>0</td>\n",
       "      <td>0.001330</td>\n",
       "      <td>0</td>\n",
       "      <td>0</td>\n",
       "      <td>0</td>\n",
       "      <td>1</td>\n",
       "      <td>0</td>\n",
       "      <td>0</td>\n",
       "      <td>0</td>\n",
       "      <td>1</td>\n",
       "      <td>0</td>\n",
       "      <td>0</td>\n",
       "      <td>0</td>\n",
       "      <td>6</td>\n",
       "      <td>1826</td>\n",
       "    </tr>\n",
       "    <tr>\n",
       "      <th>1</th>\n",
       "      <td>[filing, complaint, equifa, ignored, request, ...</td>\n",
       "      <td>1</td>\n",
       "      <td>0</td>\n",
       "      <td>0</td>\n",
       "      <td>-1.000000</td>\n",
       "      <td>1</td>\n",
       "      <td>0</td>\n",
       "      <td>0.028771</td>\n",
       "      <td>0</td>\n",
       "      <td>0.012806</td>\n",
       "      <td>0</td>\n",
       "      <td>0</td>\n",
       "      <td>-1.000000</td>\n",
       "      <td>1</td>\n",
       "      <td>0</td>\n",
       "      <td>0.061034</td>\n",
       "      <td>0</td>\n",
       "      <td>0.020289</td>\n",
       "      <td>0</td>\n",
       "      <td>0</td>\n",
       "      <td>0.005322</td>\n",
       "      <td>0</td>\n",
       "      <td>0</td>\n",
       "      <td>1</td>\n",
       "      <td>0</td>\n",
       "      <td>0</td>\n",
       "      <td>0</td>\n",
       "      <td>0</td>\n",
       "      <td>1</td>\n",
       "      <td>0</td>\n",
       "      <td>0</td>\n",
       "      <td>0</td>\n",
       "      <td>3</td>\n",
       "      <td>253</td>\n",
       "    </tr>\n",
       "    <tr>\n",
       "      <th>2</th>\n",
       "      <td>[account, fraudulent, company, refuse, remove,...</td>\n",
       "      <td>1</td>\n",
       "      <td>1</td>\n",
       "      <td>0</td>\n",
       "      <td>0.059538</td>\n",
       "      <td>0</td>\n",
       "      <td>0</td>\n",
       "      <td>0.110095</td>\n",
       "      <td>0</td>\n",
       "      <td>0.010311</td>\n",
       "      <td>0</td>\n",
       "      <td>0</td>\n",
       "      <td>-1.000000</td>\n",
       "      <td>1</td>\n",
       "      <td>0</td>\n",
       "      <td>0.000333</td>\n",
       "      <td>1</td>\n",
       "      <td>0.013637</td>\n",
       "      <td>0</td>\n",
       "      <td>0</td>\n",
       "      <td>0.001829</td>\n",
       "      <td>0</td>\n",
       "      <td>0</td>\n",
       "      <td>1</td>\n",
       "      <td>0</td>\n",
       "      <td>0</td>\n",
       "      <td>0</td>\n",
       "      <td>0</td>\n",
       "      <td>1</td>\n",
       "      <td>0</td>\n",
       "      <td>0</td>\n",
       "      <td>0</td>\n",
       "      <td>4</td>\n",
       "      <td>98</td>\n",
       "    </tr>\n",
       "  </tbody>\n",
       "</table>\n",
       "</div>"
      ],
      "text/plain": [
       "                                                text  timely_response  \\\n",
       "0  [husband, agreed, pay, mortgage, felt, best, w...                1   \n",
       "1  [filing, complaint, equifa, ignored, request, ...                1   \n",
       "2  [account, fraudulent, company, refuse, remove,...                1   \n",
       "\n",
       "   consumer_disputed?  days_between_receipt_and_sent  sub_product_freq  \\\n",
       "0                   0                              0          0.008482   \n",
       "1                   0                              0         -1.000000   \n",
       "2                   1                              0          0.059538   \n",
       "\n",
       "   sub_product_null_flag  sub_product_low_flag  issue_freq  issue_low_flag  \\\n",
       "0                      0                     1    0.098287               0   \n",
       "1                      1                     0    0.028771               0   \n",
       "2                      0                     0    0.110095               0   \n",
       "\n",
       "   sub_issue_freq  sub_issue_null_flag  sub_issue_low_flag  \\\n",
       "0       -1.000000                    1                   0   \n",
       "1        0.012806                    0                   0   \n",
       "2        0.010311                    0                   0   \n",
       "\n",
       "   company_public_response_freq  company_public_response_null_flag  \\\n",
       "0                      0.293032                                  0   \n",
       "1                     -1.000000                                  1   \n",
       "2                     -1.000000                                  1   \n",
       "\n",
       "   company_public_response_low_flag  company_freq  company_low_flag  \\\n",
       "0                                 0      0.043406                 0   \n",
       "1                                 0      0.061034                 0   \n",
       "2                                 0      0.000333                 1   \n",
       "\n",
       "   state_freq  state_null_flag  state_low_flag  zipcode_freq  \\\n",
       "0    0.037086                0               0      0.001330   \n",
       "1    0.020289                0               0      0.005322   \n",
       "2    0.013637                0               0      0.001829   \n",
       "\n",
       "   zipcode_null_flag  zipcode_low_flag  Not Older American, Not Servicemember  \\\n",
       "0                  0                 0                                      0   \n",
       "1                  0                 0                                      1   \n",
       "2                  0                 0                                      1   \n",
       "\n",
       "   Older American  Older American, Servicemember  Servicemember  Closed  \\\n",
       "0               1                              0              0       0   \n",
       "1               0                              0              0       0   \n",
       "2               0                              0              0       0   \n",
       "\n",
       "   Closed with explanation  Closed with monetary relief  \\\n",
       "0                        1                            0   \n",
       "1                        1                            0   \n",
       "2                        1                            0   \n",
       "\n",
       "   Closed with non-monetary relief  Untimely response  labels   len  \n",
       "0                                0                  0       6  1826  \n",
       "1                                0                  0       3   253  \n",
       "2                                0                  0       4    98  "
      ]
     },
     "execution_count": 22,
     "metadata": {},
     "output_type": "execute_result"
    }
   ],
   "source": [
    "df_test.head(3)"
   ]
  },
  {
   "cell_type": "code",
   "execution_count": 24,
   "id": "f1c3ef08",
   "metadata": {},
   "outputs": [
    {
     "data": {
      "application/vnd.jupyter.widget-view+json": {
       "model_id": "2f7df9487ed042538b81cda311193bf7",
       "version_major": 2,
       "version_minor": 0
      },
      "text/plain": [
       "  0%|          | 0/6013 [00:00<?, ?it/s]"
      ]
     },
     "metadata": {},
     "output_type": "display_data"
    },
    {
     "data": {
      "application/vnd.jupyter.widget-view+json": {
       "model_id": "86e8e5749b9c49288dbcc2a4a3b13417",
       "version_major": 2,
       "version_minor": 0
      },
      "text/plain": [
       "Running Evaluation:   0%|          | 0/752 [00:00<?, ?it/s]"
      ]
     },
     "metadata": {},
     "output_type": "display_data"
    }
   ],
   "source": [
    "# Evaluate the model on Test dataset\n",
    "result_test, model_outputs_test, wrong_predictions_test = model.eval_model(df_test, acc=accuracy_score, f1=f1_multiclass)"
   ]
  },
  {
   "cell_type": "code",
   "execution_count": 25,
   "id": "930521b6",
   "metadata": {},
   "outputs": [
    {
     "name": "stdout",
     "output_type": "stream",
     "text": [
      "{'mcc': 0.8251322679767202, 'acc': 0.8571428571428571, 'f1': 0.8539173738158243, 'eval_loss': 0.4875485729005069}\n"
     ]
    }
   ],
   "source": [
    "print(result_test)"
   ]
  },
  {
   "cell_type": "code",
   "execution_count": 26,
   "id": "a969b2b3",
   "metadata": {},
   "outputs": [
    {
     "name": "stdout",
     "output_type": "stream",
     "text": [
      "[[ 0.07288639  0.07712284 -1.13970864 ... -1.59373367 -3.88249016\n",
      "  -0.62689865]\n",
      " [-1.03401554 -0.74709749  0.13950717 ... -2.60264611 -2.30399847\n",
      "  -0.59721136]\n",
      " [-1.01924169  0.51335251  1.59316671 ... -0.99861568 -3.17220736\n",
      "  -1.34367681]\n",
      " ...\n",
      " [-1.72565985  1.34124923  0.35642153 ...  0.60298139 -3.41338968\n",
      "  -0.39880502]\n",
      " [-1.51029742  0.43059582  1.24585831 ... -0.97058797 -3.36513233\n",
      "  -1.17122602]\n",
      " [ 0.43345636 -0.41482311 -1.71174765 ... -2.47501159 -3.54775572\n",
      "  -0.66805679]]\n"
     ]
    }
   ],
   "source": [
    "print(model_outputs_test)"
   ]
  },
  {
   "cell_type": "raw",
   "id": "dab2dff7",
   "metadata": {},
   "source": [
    "print(wrong_predictions_test)"
   ]
  },
  {
   "attachments": {},
   "cell_type": "markdown",
   "id": "751d1fec",
   "metadata": {},
   "source": [
    "- ### The model performed very similarly on the test dataset as the validation dataset with F1 score and Accuracy of ~85/86% and a Mathew's Correlation Coefficient of ~83% on the test dataset."
   ]
  },
  {
   "attachments": {},
   "cell_type": "markdown",
   "id": "bcb7dd61",
   "metadata": {},
   "source": [
    "## Next Steps:\n",
    "- ### Further evaluations are warranted, perhaps with additional text preprocessing, more training epochs, hyperparameter tuning (e.g. different learning rates), and different/larger pretrained LLMs."
   ]
  },
  {
   "cell_type": "code",
   "execution_count": null,
   "id": "a3152115",
   "metadata": {},
   "outputs": [],
   "source": []
  },
  {
   "attachments": {},
   "cell_type": "markdown",
   "id": "c29be7cd",
   "metadata": {},
   "source": [
    "### Appendix"
   ]
  },
  {
   "cell_type": "raw",
   "id": "49e61273",
   "metadata": {},
   "source": [
    "# additional model hyperparameters to potentially evaluate/tune:\n",
    "args = {\n",
    "    \"output_dir\": \"outputs/\",\n",
    "    \"cache_dir\": \"cache_dir/\",\n",
    "\n",
    "    \"fp16\": True,\n",
    "    \"fp16_opt_level\": \"O1\",\n",
    "    \"max_seq_length\": 128,\n",
    "    \"train_batch_size\": 32,\n",
    "    \"gradient_accumulation_steps\": 1,\n",
    "    \"eval_batch_size\": 8,\n",
    "    \"num_train_epochs\": 1,\n",
    "    \"weight_decay\": 0,\n",
    "    \"learning_rate\": 4e-5,\n",
    "    \"adam_epsilon\": 1e-8,\n",
    "    \"warmup_ratio\": 0.06,\n",
    "    \"warmup_steps\": 0,\n",
    "    \"max_grad_norm\": 1.0,\n",
    "\n",
    "    \"logging_steps\": 50,\n",
    "    \"save_steps\": 2000,\n",
    "\n",
    "    \"overwrite_output_dir\": False,\n",
    "    \"reprocess_input_data\": False,\n",
    "    \"evaluate_during_training\": False,\n",
    "\n",
    "    \"process_count\": cpu_count() - 2 if cpu_count() > 2 else 1,\n",
    "    \"n_gpu\": 1,\n",
    "\n",
    "# using ClassificationArgs method:\n",
    "model_args = ClassificationArgs()\n",
    "model_args.eval_batch_size = 32\n",
    "model_args.evaluate_during_training = True\n",
    "model_args.evaluate_during_training_silent = False\n",
    "model_args.evaluate_during_training_steps = -1\n",
    "model_args.learning_rate = 0.00003173\n",
    "model_args.manual_seed = 4\n",
    "model_args.max_seq_length = 256\n",
    "model_args.multiprocessing_chunksize = 5000\n",
    "model_args.no_cache = True\n",
    "model_args.no_save = True\n",
    "model_args.num_train_epochs = 40\n",
    "model_args.overwrite_output_dir = True\n",
    "model_args.reprocess_input_data = True\n",
    "model_args.train_batch_size = 16\n",
    "model_args.gradient_accumulation_steps = 2\n",
    "model_args.train_custom_parameters_only = False\n",
    "model_args.labels_list = [\"not_entailment\", \"entailment\"]\n",
    "model_args.output_dir = \"vanilla_output\"\n",
    "model_args.best_model_dir = \"vanilla_output/best_model\"\n",
    "model_args.wandb_project = \"RTE - Hyperparameter Optimization\"\n",
    "model_args.wandb_kwargs = {\"name\": \"vanilla\"}"
   ]
  }
 ],
 "metadata": {
  "kernelspec": {
   "display_name": "Python 3",
   "language": "python",
   "name": "python3"
  },
  "language_info": {
   "codemirror_mode": {
    "name": "ipython",
    "version": 3
   },
   "file_extension": ".py",
   "mimetype": "text/x-python",
   "name": "python",
   "nbconvert_exporter": "python",
   "pygments_lexer": "ipython3",
   "version": "3.9.0 (default, Nov 15 2020, 08:30:55) [MSC v.1916 64 bit (AMD64)]"
  },
  "vscode": {
   "interpreter": {
    "hash": "3d00ce96abf83bb4cf2960a98ebc0f7617ff67904ab36479ee95b5efd4b346a2"
   }
  }
 },
 "nbformat": 4,
 "nbformat_minor": 5
}
