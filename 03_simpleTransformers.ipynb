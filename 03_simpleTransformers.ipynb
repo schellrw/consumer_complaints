{
 "cells": [
  {
   "cell_type": "markdown",
   "id": "cad504ae",
   "metadata": {},
   "source": [
    "## Package and helper imports"
   ]
  },
  {
   "cell_type": "code",
   "execution_count": 1,
   "id": "c3c610fd",
   "metadata": {},
   "outputs": [
    {
     "name": "stderr",
     "output_type": "stream",
     "text": [
      "C:\\Users\\schellr2\\Anaconda3\\envs\\tensorflow\\lib\\site-packages\\tqdm\\auto.py:22: TqdmWarning: IProgress not found. Please update jupyter and ipywidgets. See https://ipywidgets.readthedocs.io/en/stable/user_install.html\n",
      "  from .autonotebook import tqdm as notebook_tqdm\n"
     ]
    }
   ],
   "source": [
    "import os\n",
    "import numpy as np\n",
    "import pandas as pd\n",
    "from sklearn.model_selection import StratifiedShuffleSplit\n",
    "from sklearn.metrics import accuracy_score, f1_score\n",
    "from simpletransformers.classification import ClassificationModel\n",
    "import torch\n",
    "# from transformers import TrainingArguments, Trainer\n",
    "# from transformers import BertTokenizer, BertForSequenceClassification\n",
    "# from transformers import EarlyStoppingCallback\n",
    "import pickle\n",
    "import pyarrow\n",
    "import seaborn as sns\n",
    "import matplotlib.pyplot as plt"
   ]
  },
  {
   "cell_type": "code",
   "execution_count": 2,
   "id": "daf6ba23",
   "metadata": {},
   "outputs": [
    {
     "data": {
      "text/plain": [
       "<Response [200]>"
      ]
     },
     "execution_count": 2,
     "metadata": {},
     "output_type": "execute_result"
    }
   ],
   "source": [
    "import requests\n",
    "url = \"https://huggingface.co/\"\n",
    "requests.get(url, verify=True)"
   ]
  },
  {
   "cell_type": "code",
   "execution_count": 3,
   "id": "6f913590",
   "metadata": {},
   "outputs": [
    {
     "name": "stdout",
     "output_type": "stream",
     "text": [
      "2.10.1\n",
      "[PhysicalDevice(name='/physical_device:CPU:0', device_type='CPU'), PhysicalDevice(name='/physical_device:GPU:0', device_type='GPU')]\n"
     ]
    }
   ],
   "source": [
    "import tensorflow as tf\n",
    "print(tf.__version__)\n",
    "print(tf.config.list_physical_devices())"
   ]
  },
  {
   "cell_type": "code",
   "execution_count": 4,
   "id": "0e8b7b0b",
   "metadata": {},
   "outputs": [
    {
     "name": "stdout",
     "output_type": "stream",
     "text": [
      "Num GPUs Available:  1\n"
     ]
    },
    {
     "data": {
      "text/plain": [
       "[name: \"/device:CPU:0\"\n",
       " device_type: \"CPU\"\n",
       " memory_limit: 268435456\n",
       " locality {\n",
       " }\n",
       " incarnation: 9292393150121664513\n",
       " xla_global_id: -1,\n",
       " name: \"/device:GPU:0\"\n",
       " device_type: \"GPU\"\n",
       " memory_limit: 1742602240\n",
       " locality {\n",
       "   bus_id: 1\n",
       "   links {\n",
       "   }\n",
       " }\n",
       " incarnation: 3328263902925138058\n",
       " physical_device_desc: \"device: 0, name: NVIDIA RTX A2000 Laptop GPU, pci bus id: 0000:01:00.0, compute capability: 8.6\"\n",
       " xla_global_id: 416903419]"
      ]
     },
     "execution_count": 4,
     "metadata": {},
     "output_type": "execute_result"
    }
   ],
   "source": [
    "from tensorflow.python.client import device_lib\n",
    "\n",
    "print(\"Num GPUs Available: \", len(tf.config.list_physical_devices('GPU')))\n",
    "device_lib.list_local_devices()"
   ]
  },
  {
   "attachments": {},
   "cell_type": "markdown",
   "id": "215ebd95",
   "metadata": {},
   "source": [
    "## Define text cleaning function"
   ]
  },
  {
   "cell_type": "code",
   "execution_count": 5,
   "id": "f1125d52",
   "metadata": {},
   "outputs": [],
   "source": [
    "def clean_text(df):\n",
    "    for i in [char for char in ':;\"?,/|\\}{1234567890.~!@#$%^&*_+=<>']:\n",
    "        df.text=df.text.apply(lambda x: str(x).replace(i,\"\"))\n",
    "\n",
    "    df.text=df.text.apply(lambda x: str(x).replace('-',\" \"))\n",
    "    return df"
   ]
  },
  {
   "cell_type": "markdown",
   "id": "78df11da",
   "metadata": {},
   "source": [
    "## Import data"
   ]
  },
  {
   "cell_type": "code",
   "execution_count": 6,
   "id": "3ec7fe4a",
   "metadata": {},
   "outputs": [
    {
     "data": {
      "text/html": [
       "<div>\n",
       "<style scoped>\n",
       "    .dataframe tbody tr th:only-of-type {\n",
       "        vertical-align: middle;\n",
       "    }\n",
       "\n",
       "    .dataframe tbody tr th {\n",
       "        vertical-align: top;\n",
       "    }\n",
       "\n",
       "    .dataframe thead th {\n",
       "        text-align: right;\n",
       "    }\n",
       "</style>\n",
       "<table border=\"1\" class=\"dataframe\">\n",
       "  <thead>\n",
       "    <tr style=\"text-align: right;\">\n",
       "      <th></th>\n",
       "      <th>date_received</th>\n",
       "      <th>product</th>\n",
       "      <th>sub_product</th>\n",
       "      <th>issue</th>\n",
       "      <th>sub_issue</th>\n",
       "      <th>consumer_complaint_narrative</th>\n",
       "      <th>company_public_response</th>\n",
       "      <th>company</th>\n",
       "      <th>state</th>\n",
       "      <th>zipcode</th>\n",
       "      <th>tags</th>\n",
       "      <th>consumer_consent_provided</th>\n",
       "      <th>submitted_via</th>\n",
       "      <th>date_sent_to_company</th>\n",
       "      <th>company_response_to_consumer</th>\n",
       "      <th>timely_response</th>\n",
       "      <th>consumer_disputed?</th>\n",
       "      <th>complaint_id</th>\n",
       "    </tr>\n",
       "  </thead>\n",
       "  <tbody>\n",
       "    <tr>\n",
       "      <th>0</th>\n",
       "      <td>08/30/2013</td>\n",
       "      <td>Mortgage</td>\n",
       "      <td>Other mortgage</td>\n",
       "      <td>Loan modification,collection,foreclosure</td>\n",
       "      <td>None</td>\n",
       "      <td>None</td>\n",
       "      <td>None</td>\n",
       "      <td>U.S. Bancorp</td>\n",
       "      <td>CA</td>\n",
       "      <td>95993</td>\n",
       "      <td>None</td>\n",
       "      <td>None</td>\n",
       "      <td>Referral</td>\n",
       "      <td>09/03/2013</td>\n",
       "      <td>Closed with explanation</td>\n",
       "      <td>Yes</td>\n",
       "      <td>Yes</td>\n",
       "      <td>511074</td>\n",
       "    </tr>\n",
       "    <tr>\n",
       "      <th>1</th>\n",
       "      <td>08/30/2013</td>\n",
       "      <td>Mortgage</td>\n",
       "      <td>Other mortgage</td>\n",
       "      <td>Loan servicing, payments, escrow account</td>\n",
       "      <td>None</td>\n",
       "      <td>None</td>\n",
       "      <td>None</td>\n",
       "      <td>Wells Fargo &amp; Company</td>\n",
       "      <td>CA</td>\n",
       "      <td>91104</td>\n",
       "      <td>None</td>\n",
       "      <td>None</td>\n",
       "      <td>Referral</td>\n",
       "      <td>09/03/2013</td>\n",
       "      <td>Closed with explanation</td>\n",
       "      <td>Yes</td>\n",
       "      <td>Yes</td>\n",
       "      <td>511080</td>\n",
       "    </tr>\n",
       "    <tr>\n",
       "      <th>2</th>\n",
       "      <td>08/30/2013</td>\n",
       "      <td>Credit reporting</td>\n",
       "      <td>None</td>\n",
       "      <td>Incorrect information on credit report</td>\n",
       "      <td>Account status</td>\n",
       "      <td>None</td>\n",
       "      <td>None</td>\n",
       "      <td>Wells Fargo &amp; Company</td>\n",
       "      <td>NY</td>\n",
       "      <td>11764</td>\n",
       "      <td>None</td>\n",
       "      <td>None</td>\n",
       "      <td>Postal mail</td>\n",
       "      <td>09/18/2013</td>\n",
       "      <td>Closed with explanation</td>\n",
       "      <td>Yes</td>\n",
       "      <td>No</td>\n",
       "      <td>510473</td>\n",
       "    </tr>\n",
       "    <tr>\n",
       "      <th>3</th>\n",
       "      <td>08/30/2013</td>\n",
       "      <td>Student loan</td>\n",
       "      <td>Non-federal student loan</td>\n",
       "      <td>Repaying your loan</td>\n",
       "      <td>Repaying your loan</td>\n",
       "      <td>None</td>\n",
       "      <td>None</td>\n",
       "      <td>Navient Solutions, Inc.</td>\n",
       "      <td>MD</td>\n",
       "      <td>21402</td>\n",
       "      <td>None</td>\n",
       "      <td>None</td>\n",
       "      <td>Email</td>\n",
       "      <td>08/30/2013</td>\n",
       "      <td>Closed with explanation</td>\n",
       "      <td>Yes</td>\n",
       "      <td>Yes</td>\n",
       "      <td>510326</td>\n",
       "    </tr>\n",
       "    <tr>\n",
       "      <th>4</th>\n",
       "      <td>08/30/2013</td>\n",
       "      <td>Debt collection</td>\n",
       "      <td>Credit card</td>\n",
       "      <td>False statements or representation</td>\n",
       "      <td>Attempted to collect wrong amount</td>\n",
       "      <td>None</td>\n",
       "      <td>None</td>\n",
       "      <td>Resurgent Capital Services L.P.</td>\n",
       "      <td>GA</td>\n",
       "      <td>30106</td>\n",
       "      <td>None</td>\n",
       "      <td>None</td>\n",
       "      <td>Web</td>\n",
       "      <td>08/30/2013</td>\n",
       "      <td>Closed with explanation</td>\n",
       "      <td>Yes</td>\n",
       "      <td>Yes</td>\n",
       "      <td>511067</td>\n",
       "    </tr>\n",
       "    <tr>\n",
       "      <th>5</th>\n",
       "      <td>08/30/2013</td>\n",
       "      <td>Credit card</td>\n",
       "      <td>None</td>\n",
       "      <td>Application processing delay</td>\n",
       "      <td>None</td>\n",
       "      <td>None</td>\n",
       "      <td>None</td>\n",
       "      <td>Capital One</td>\n",
       "      <td>NY</td>\n",
       "      <td>12206</td>\n",
       "      <td>None</td>\n",
       "      <td>None</td>\n",
       "      <td>Phone</td>\n",
       "      <td>09/03/2013</td>\n",
       "      <td>Closed with explanation</td>\n",
       "      <td>Yes</td>\n",
       "      <td>Yes</td>\n",
       "      <td>510098</td>\n",
       "    </tr>\n",
       "    <tr>\n",
       "      <th>6</th>\n",
       "      <td>08/30/2013</td>\n",
       "      <td>Credit card</td>\n",
       "      <td>None</td>\n",
       "      <td>Credit line increase/decrease</td>\n",
       "      <td>None</td>\n",
       "      <td>None</td>\n",
       "      <td>None</td>\n",
       "      <td>Wells Fargo &amp; Company</td>\n",
       "      <td>AZ</td>\n",
       "      <td>85730</td>\n",
       "      <td>None</td>\n",
       "      <td>None</td>\n",
       "      <td>Postal mail</td>\n",
       "      <td>09/05/2013</td>\n",
       "      <td>Closed with explanation</td>\n",
       "      <td>Yes</td>\n",
       "      <td>No</td>\n",
       "      <td>511062</td>\n",
       "    </tr>\n",
       "    <tr>\n",
       "      <th>7</th>\n",
       "      <td>08/30/2013</td>\n",
       "      <td>Bank account or service</td>\n",
       "      <td>Checking account</td>\n",
       "      <td>Deposits and withdrawals</td>\n",
       "      <td>None</td>\n",
       "      <td>None</td>\n",
       "      <td>None</td>\n",
       "      <td>Bank of America</td>\n",
       "      <td>IL</td>\n",
       "      <td>60660</td>\n",
       "      <td>None</td>\n",
       "      <td>None</td>\n",
       "      <td>Referral</td>\n",
       "      <td>09/04/2013</td>\n",
       "      <td>Closed with explanation</td>\n",
       "      <td>Yes</td>\n",
       "      <td>No</td>\n",
       "      <td>511116</td>\n",
       "    </tr>\n",
       "    <tr>\n",
       "      <th>8</th>\n",
       "      <td>08/30/2013</td>\n",
       "      <td>Bank account or service</td>\n",
       "      <td>Checking account</td>\n",
       "      <td>Deposits and withdrawals</td>\n",
       "      <td>None</td>\n",
       "      <td>None</td>\n",
       "      <td>None</td>\n",
       "      <td>Bank of America</td>\n",
       "      <td>GA</td>\n",
       "      <td>30016</td>\n",
       "      <td>None</td>\n",
       "      <td>None</td>\n",
       "      <td>Referral</td>\n",
       "      <td>09/04/2013</td>\n",
       "      <td>Closed with explanation</td>\n",
       "      <td>Yes</td>\n",
       "      <td>No</td>\n",
       "      <td>511091</td>\n",
       "    </tr>\n",
       "    <tr>\n",
       "      <th>9</th>\n",
       "      <td>09/17/2013</td>\n",
       "      <td>Mortgage</td>\n",
       "      <td>Conventional adjustable mortgage (ARM)</td>\n",
       "      <td>Loan modification,collection,foreclosure</td>\n",
       "      <td>None</td>\n",
       "      <td>None</td>\n",
       "      <td>None</td>\n",
       "      <td>SunTrust Banks, Inc.</td>\n",
       "      <td>CA</td>\n",
       "      <td>94551</td>\n",
       "      <td>None</td>\n",
       "      <td>None</td>\n",
       "      <td>Web</td>\n",
       "      <td>09/18/2013</td>\n",
       "      <td>Closed with explanation</td>\n",
       "      <td>Yes</td>\n",
       "      <td>Yes</td>\n",
       "      <td>530602</td>\n",
       "    </tr>\n",
       "  </tbody>\n",
       "</table>\n",
       "</div>"
      ],
      "text/plain": [
       "  date_received                  product  \\\n",
       "0    08/30/2013                 Mortgage   \n",
       "1    08/30/2013                 Mortgage   \n",
       "2    08/30/2013         Credit reporting   \n",
       "3    08/30/2013             Student loan   \n",
       "4    08/30/2013          Debt collection   \n",
       "5    08/30/2013              Credit card   \n",
       "6    08/30/2013              Credit card   \n",
       "7    08/30/2013  Bank account or service   \n",
       "8    08/30/2013  Bank account or service   \n",
       "9    09/17/2013                 Mortgage   \n",
       "\n",
       "                              sub_product  \\\n",
       "0                          Other mortgage   \n",
       "1                          Other mortgage   \n",
       "2                                    None   \n",
       "3                Non-federal student loan   \n",
       "4                             Credit card   \n",
       "5                                    None   \n",
       "6                                    None   \n",
       "7                        Checking account   \n",
       "8                        Checking account   \n",
       "9  Conventional adjustable mortgage (ARM)   \n",
       "\n",
       "                                      issue  \\\n",
       "0  Loan modification,collection,foreclosure   \n",
       "1  Loan servicing, payments, escrow account   \n",
       "2    Incorrect information on credit report   \n",
       "3                        Repaying your loan   \n",
       "4        False statements or representation   \n",
       "5              Application processing delay   \n",
       "6             Credit line increase/decrease   \n",
       "7                  Deposits and withdrawals   \n",
       "8                  Deposits and withdrawals   \n",
       "9  Loan modification,collection,foreclosure   \n",
       "\n",
       "                           sub_issue consumer_complaint_narrative  \\\n",
       "0                               None                         None   \n",
       "1                               None                         None   \n",
       "2                     Account status                         None   \n",
       "3                 Repaying your loan                         None   \n",
       "4  Attempted to collect wrong amount                         None   \n",
       "5                               None                         None   \n",
       "6                               None                         None   \n",
       "7                               None                         None   \n",
       "8                               None                         None   \n",
       "9                               None                         None   \n",
       "\n",
       "  company_public_response                          company state zipcode  \\\n",
       "0                    None                     U.S. Bancorp    CA   95993   \n",
       "1                    None            Wells Fargo & Company    CA   91104   \n",
       "2                    None            Wells Fargo & Company    NY   11764   \n",
       "3                    None          Navient Solutions, Inc.    MD   21402   \n",
       "4                    None  Resurgent Capital Services L.P.    GA   30106   \n",
       "5                    None                      Capital One    NY   12206   \n",
       "6                    None            Wells Fargo & Company    AZ   85730   \n",
       "7                    None                  Bank of America    IL   60660   \n",
       "8                    None                  Bank of America    GA   30016   \n",
       "9                    None             SunTrust Banks, Inc.    CA   94551   \n",
       "\n",
       "   tags consumer_consent_provided submitted_via date_sent_to_company  \\\n",
       "0  None                      None      Referral           09/03/2013   \n",
       "1  None                      None      Referral           09/03/2013   \n",
       "2  None                      None   Postal mail           09/18/2013   \n",
       "3  None                      None         Email           08/30/2013   \n",
       "4  None                      None           Web           08/30/2013   \n",
       "5  None                      None         Phone           09/03/2013   \n",
       "6  None                      None   Postal mail           09/05/2013   \n",
       "7  None                      None      Referral           09/04/2013   \n",
       "8  None                      None      Referral           09/04/2013   \n",
       "9  None                      None           Web           09/18/2013   \n",
       "\n",
       "  company_response_to_consumer timely_response consumer_disputed?  \\\n",
       "0      Closed with explanation             Yes                Yes   \n",
       "1      Closed with explanation             Yes                Yes   \n",
       "2      Closed with explanation             Yes                 No   \n",
       "3      Closed with explanation             Yes                Yes   \n",
       "4      Closed with explanation             Yes                Yes   \n",
       "5      Closed with explanation             Yes                Yes   \n",
       "6      Closed with explanation             Yes                 No   \n",
       "7      Closed with explanation             Yes                 No   \n",
       "8      Closed with explanation             Yes                 No   \n",
       "9      Closed with explanation             Yes                Yes   \n",
       "\n",
       "   complaint_id  \n",
       "0        511074  \n",
       "1        511080  \n",
       "2        510473  \n",
       "3        510326  \n",
       "4        511067  \n",
       "5        510098  \n",
       "6        511062  \n",
       "7        511116  \n",
       "8        511091  \n",
       "9        530602  "
      ]
     },
     "execution_count": 6,
     "metadata": {},
     "output_type": "execute_result"
    }
   ],
   "source": [
    "data = pd.read_parquet('./input/consumer_complaints.parquet')\n",
    "data.head(10)"
   ]
  },
  {
   "cell_type": "code",
   "execution_count": 7,
   "id": "56ead125",
   "metadata": {},
   "outputs": [],
   "source": [
    "# save data to df so won't have to reload data if need to start over with df.\n",
    "df = data.copy()"
   ]
  },
  {
   "cell_type": "code",
   "execution_count": 8,
   "id": "46bc2d31",
   "metadata": {},
   "outputs": [
    {
     "name": "stdout",
     "output_type": "stream",
     "text": [
      "<class 'pandas.core.frame.DataFrame'>\n",
      "RangeIndex: 555957 entries, 0 to 555956\n",
      "Data columns (total 18 columns):\n",
      " #   Column                        Non-Null Count   Dtype \n",
      "---  ------                        --------------   ----- \n",
      " 0   date_received                 555957 non-null  object\n",
      " 1   product                       555957 non-null  object\n",
      " 2   sub_product                   397635 non-null  object\n",
      " 3   issue                         555957 non-null  object\n",
      " 4   sub_issue                     212622 non-null  object\n",
      " 5   consumer_complaint_narrative  66806 non-null   object\n",
      " 6   company_public_response       85124 non-null   object\n",
      " 7   company                       555957 non-null  object\n",
      " 8   state                         551070 non-null  object\n",
      " 9   zipcode                       551452 non-null  object\n",
      " 10  tags                          77959 non-null   object\n",
      " 11  consumer_consent_provided     123458 non-null  object\n",
      " 12  submitted_via                 555957 non-null  object\n",
      " 13  date_sent_to_company          555957 non-null  object\n",
      " 14  company_response_to_consumer  555957 non-null  object\n",
      " 15  timely_response               555957 non-null  object\n",
      " 16  consumer_disputed?            555957 non-null  object\n",
      " 17  complaint_id                  555957 non-null  int64 \n",
      "dtypes: int64(1), object(17)\n",
      "memory usage: 76.3+ MB\n"
     ]
    }
   ],
   "source": [
    "df.info()"
   ]
  },
  {
   "cell_type": "code",
   "execution_count": 9,
   "id": "8c8bcc1d",
   "metadata": {},
   "outputs": [],
   "source": [
    "# Only keep records with a complaint narrative\n",
    "df = df[~df['consumer_complaint_narrative'].isnull()]"
   ]
  },
  {
   "cell_type": "code",
   "execution_count": 10,
   "id": "1f72ecc3",
   "metadata": {},
   "outputs": [],
   "source": [
    "# Only keep complaint narrative & product columns to see how well diff methods predict product from just text\n",
    "df = df[['consumer_complaint_narrative', 'product']]"
   ]
  },
  {
   "cell_type": "code",
   "execution_count": 11,
   "id": "c71133fd",
   "metadata": {},
   "outputs": [
    {
     "name": "stdout",
     "output_type": "stream",
     "text": [
      "<class 'pandas.core.frame.DataFrame'>\n",
      "Int64Index: 66806 entries, 190126 to 553096\n",
      "Data columns (total 2 columns):\n",
      " #   Column                        Non-Null Count  Dtype \n",
      "---  ------                        --------------  ----- \n",
      " 0   consumer_complaint_narrative  66806 non-null  object\n",
      " 1   product                       66806 non-null  object\n",
      "dtypes: object(2)\n",
      "memory usage: 1.5+ MB\n"
     ]
    }
   ],
   "source": [
    "df.info()"
   ]
  },
  {
   "cell_type": "code",
   "execution_count": 12,
   "id": "00de20b0",
   "metadata": {},
   "outputs": [
    {
     "data": {
      "text/plain": [
       "(66806, 2)"
      ]
     },
     "execution_count": 12,
     "metadata": {},
     "output_type": "execute_result"
    }
   ],
   "source": [
    "df.shape"
   ]
  },
  {
   "cell_type": "code",
   "execution_count": 13,
   "id": "e7527a7f",
   "metadata": {},
   "outputs": [
    {
     "data": {
      "text/plain": [
       "['consumer_complaint_narrative', 'product']"
      ]
     },
     "execution_count": 13,
     "metadata": {},
     "output_type": "execute_result"
    }
   ],
   "source": [
    "list(df.columns)"
   ]
  },
  {
   "cell_type": "code",
   "execution_count": 14,
   "id": "cfa07370",
   "metadata": {},
   "outputs": [
    {
     "name": "stdout",
     "output_type": "stream",
     "text": [
      "Debt collection            17552\n",
      "Mortgage                   14919\n",
      "Credit reporting           12526\n",
      "Credit card                 7929\n",
      "Bank account or service     5711\n",
      "Consumer Loan               3678\n",
      "Student loan                2128\n",
      "Prepaid card                 861\n",
      "Payday loan                  726\n",
      "Money transfers              666\n",
      "Other financial service      110\n",
      "Name: product, dtype: int64\n"
     ]
    }
   ],
   "source": [
    "product = df['product'].value_counts()\n",
    "print(product)"
   ]
  },
  {
   "cell_type": "code",
   "execution_count": 15,
   "id": "a649dd10",
   "metadata": {
    "scrolled": false
   },
   "outputs": [
    {
     "data": {
      "image/png": "[encoded data removed]",
      "text/plain": [
       "<Figure size 1200x400 with 1 Axes>"
      ]
     },
     "metadata": {},
     "output_type": "display_data"
    }
   ],
   "source": [
    "plt.figure(figsize=(12,4))\n",
    "sns.barplot(x=product.index, y=product.values, alpha=0.8)\n",
    "plt.title('Barplot - Product Categories')\n",
    "plt.ylabel('Number of Occurrences', fontsize=12)\n",
    "plt.xlabel('Product', fontsize=12)\n",
    "plt.xticks(rotation=30)\n",
    "plt.show()"
   ]
  },
  {
   "cell_type": "code",
   "execution_count": 16,
   "id": "436bcf73",
   "metadata": {},
   "outputs": [
    {
     "name": "stdout",
     "output_type": "stream",
     "text": [
      "XXXX has claimed I owe them {$27.00} for XXXX years despite the PROOF of PAYMENT I sent them : canceled check and their ownPAID INVOICE for {$27.00}! \n",
      "They continue to insist I owe them and collection agencies are after me. \n",
      "How can I stop this harassment for a bill I already paid four years ago? \n",
      "\n",
      "#####################\n",
      "Due to inconsistencies in the amount owed that I was told by M & T Bank and the amount that was reported to the credit reporting agencies, I was advised to write a good will letter in order to address the issue and request the negative entry be removed from my credit report all together. I had a vehicle that was stolen and it was declared a total loss by insurance company. The insurance company and the GAP insurancw companypaid the outstanding balance of the loan, but I was told by M & T Bank that there was still a balance due on the loan. In good faith, without having received any proof as to why there was still a balance, I made a partial payment towards the remaining debt. I then sent the goodwill letter still offering to pay the remainder of the debt, but in exchange for the removal of the negative entry on my credit report. At one point, in XXXX 2015, per my credit monitoring agency, it showed a delinquent balance of {$0.00}, but when I checked my credit report again on XXXX XXXX 2015, there was a delinquent balance of {$1400.00}. The monies from the GAP insurance and my insurance company has been paid, M & T Bank says that I still owe {$620.00}, of which {$210.00} has already been paid. I contacted M & T Bank via return receipt mail, but I have not been given the courtesy of a response yet. \n",
      "\n",
      "#####################\n",
      "In XX/XX/XXXX my wages that I earned at my job decreased by almost half, by XX/XX/XXXX I knew I was in trouble with my home loan. I began contacting WFB whom my home loan is with, for assitance and options. \n",
      "In early XX/XX/XXXX I began the Loan Modification process with Wells Fargo Bank. I was told that they would not assist me with anything financial on my home loan until I fell 90 days behind, though at the time I started to inquire for assistance from WFB I was only a few weeks behind. So, I began working with a program called XXXX. They approved me for a variety of assistence and reached out to Wells Fargo Bank to determine what they could assist with. Wells Fargo then turned down the assistance from XXXX and finally offered to do a Loan Modification for me. The outcome was totally unknow about what I would be offered in the end by WFB for assistance. Wells Fargo lost my paperwork twice during this process, so it took 2 months from the time I started to the time my paperwork began to be processed for some kind of approval. In XX/XX/XXXX I was in a trial period of 3 months of payments based on a slightly modified amount. Roughly {$75.00} less than what I was paying on my original payment. However, my caseworker with WFB, failed to tell me that since the payments during this time were not the full amount of the original mortgage payment so they were not applied to the loan. I discovered this in XX/XX/XXXX when I was told by a creditor with XXXX that she could n't restore my line of credit because of something to do with my mortgage. I then called and found this out. My caseworker at WFB then told me it was n't her responsibility to tell me this information. I told her that she could have told me that if I could come up with the remaining amount of {$75.00} then the payments would be applied. Instead, she chose to withhold this information and damage my credit even further. Now we are into 5 months ( including the 90 days WFB told me I had to fall behind until they would help me ) without an applied payment to my home loan, going on 6 months. \n",
      "More paperwork was lost in XXXX as the modification was being finalized and my loan modification did n't go through until XX/XX/XXXX. I spoke to a lawyer that is working on a class-action lawsuit against WFB for people in a similar situation and said this paper loss is typical. \n",
      "Wells Fargo did not reduce the interest rate, but they did reduce the payment by less than {$100.00} and the payments I was behind went back into the loan. \n",
      "My property taxes also fell behind in my escrow account at this time because there was no payment on the loan. So, I am behind on my property taxes, have damaged credit, and and I am not in any better payment situation than I was. \n",
      "They can not give me a reason on why they rejected XXXX assistance. I was originally told they were not an approved agency but on a later phone call to Wells Fargo Bank I was told that they work with that program often and the WFB employee could not understand why they would reject the help. I also spoke with XXXX and they said that Wells Fargo works with this program all the time and could n't understand why they would do this. \n",
      "I feel that I have been taken advantage of by Wells Fargo and would like to pursue legal action against them based on negligence. \n",
      "Although my payments are back on track I am not making much more money now than I was before so it is only a matter of time before something like this happens again if something unforeseen happens to my life that affects my finances. \n",
      "\n",
      "#####################\n",
      "I have an open and current mortgage with Chase Bank # XXXX. Chase is reporting the loan payments to XXXX but XXXX is surpressing the information and reporting the loan as Discharged in BK. This mortgage was reaffirmed in a Chapter XXXX BK discharged dated XXXX/XXXX/2013. Chase keeps referring to BK Law for Chapter XXXX and we keep providing documentation for Chapter XXXX, and the account should be open and current with all the payments \n",
      "\n",
      "#####################\n",
      "XXXX was submitted XX/XX/XXXX. At the time I submitted this complaint, I had dealt with Rushmore Mortgage directly endeavoring to get them to stop the continuous daily calls I was receiving trying to collect on a mortgage for which I was not responsible due to bankruptcy. They denied having knowledge of the bankruptcy, even though I had spoken with them about it repeatedly and had written them repeatedly referencing the bankruptcy requesting them to cease the pursuit, they continued to do so. When they were unable to trick me into paying, force me into paying in retaliation they placed reported to my credit bureaus a past due mortgage amount that had been discharged in Federal Court. On XX/XX/XXXX Rushmore responded the referenced complaint indicating that they would remove the reporting from my bureau, yet it is still there now in XX/XX/XXXX. I would like them to remove it immediately and send me a letter indicating that it should not have been there in the first place and they are going to remove it from all my bureaus. Rushmore, when speaking to me, represented themselves as the new note holder, but when CFPB was involved, they identified themselves as the servicing agency for XXXX XXXX XXXX. This credit bullying and racial discrimination practices is damaging to anyone who is exposed to these tactics and this needs to stop. Them denying their intent and then walking away with no penalties of any kind is one of the reasons it continues. Please assist me in procuring the resolution once and for all. \n",
      "\n",
      "#####################\n"
     ]
    }
   ],
   "source": [
    "for i in df['consumer_complaint_narrative'].head(5):\n",
    "    print(i)\n",
    "    print(\"#####################\")"
   ]
  },
  {
   "cell_type": "code",
   "execution_count": 17,
   "id": "61ac8f73",
   "metadata": {},
   "outputs": [],
   "source": [
    "df = df.rename({'consumer_complaint_narrative':'text', 'product':'label'},axis=1)"
   ]
  },
  {
   "cell_type": "code",
   "execution_count": 18,
   "id": "604135ae",
   "metadata": {},
   "outputs": [],
   "source": [
    "df['text'] = df['text'].astype(str)"
   ]
  },
  {
   "cell_type": "code",
   "execution_count": 19,
   "id": "ec022ef7",
   "metadata": {},
   "outputs": [
    {
     "data": {
      "text/html": [
       "<div>\n",
       "<style scoped>\n",
       "    .dataframe tbody tr th:only-of-type {\n",
       "        vertical-align: middle;\n",
       "    }\n",
       "\n",
       "    .dataframe tbody tr th {\n",
       "        vertical-align: top;\n",
       "    }\n",
       "\n",
       "    .dataframe thead th {\n",
       "        text-align: right;\n",
       "    }\n",
       "</style>\n",
       "<table border=\"1\" class=\"dataframe\">\n",
       "  <thead>\n",
       "    <tr style=\"text-align: right;\">\n",
       "      <th></th>\n",
       "      <th>text</th>\n",
       "      <th>label</th>\n",
       "    </tr>\n",
       "  </thead>\n",
       "  <tbody>\n",
       "    <tr>\n",
       "      <th>190126</th>\n",
       "      <td>XXXX has claimed I owe them {$27.00} for XXXX ...</td>\n",
       "      <td>Debt collection</td>\n",
       "    </tr>\n",
       "    <tr>\n",
       "      <th>190135</th>\n",
       "      <td>Due to inconsistencies in the amount owed that...</td>\n",
       "      <td>Consumer Loan</td>\n",
       "    </tr>\n",
       "    <tr>\n",
       "      <th>190155</th>\n",
       "      <td>In XX/XX/XXXX my wages that I earned at my job...</td>\n",
       "      <td>Mortgage</td>\n",
       "    </tr>\n",
       "    <tr>\n",
       "      <th>190207</th>\n",
       "      <td>I have an open and current mortgage with Chase...</td>\n",
       "      <td>Mortgage</td>\n",
       "    </tr>\n",
       "    <tr>\n",
       "      <th>190208</th>\n",
       "      <td>XXXX was submitted XX/XX/XXXX. At the time I s...</td>\n",
       "      <td>Mortgage</td>\n",
       "    </tr>\n",
       "  </tbody>\n",
       "</table>\n",
       "</div>"
      ],
      "text/plain": [
       "                                                     text            label\n",
       "190126  XXXX has claimed I owe them {$27.00} for XXXX ...  Debt collection\n",
       "190135  Due to inconsistencies in the amount owed that...    Consumer Loan\n",
       "190155  In XX/XX/XXXX my wages that I earned at my job...         Mortgage\n",
       "190207  I have an open and current mortgage with Chase...         Mortgage\n",
       "190208  XXXX was submitted XX/XX/XXXX. At the time I s...         Mortgage"
      ]
     },
     "execution_count": 19,
     "metadata": {},
     "output_type": "execute_result"
    }
   ],
   "source": [
    "df.head()"
   ]
  },
  {
   "cell_type": "code",
   "execution_count": 20,
   "id": "c0ba6d9c",
   "metadata": {},
   "outputs": [],
   "source": [
    "# Factorize label to target\n",
    "df['target'] = df['label'].astype('category').cat.codes "
   ]
  },
  {
   "cell_type": "code",
   "execution_count": 21,
   "id": "410b5310",
   "metadata": {},
   "outputs": [
    {
     "data": {
      "text/html": [
       "<div>\n",
       "<style scoped>\n",
       "    .dataframe tbody tr th:only-of-type {\n",
       "        vertical-align: middle;\n",
       "    }\n",
       "\n",
       "    .dataframe tbody tr th {\n",
       "        vertical-align: top;\n",
       "    }\n",
       "\n",
       "    .dataframe thead th {\n",
       "        text-align: right;\n",
       "    }\n",
       "</style>\n",
       "<table border=\"1\" class=\"dataframe\">\n",
       "  <thead>\n",
       "    <tr style=\"text-align: right;\">\n",
       "      <th></th>\n",
       "      <th>text</th>\n",
       "      <th>label</th>\n",
       "      <th>target</th>\n",
       "    </tr>\n",
       "  </thead>\n",
       "  <tbody>\n",
       "    <tr>\n",
       "      <th>190126</th>\n",
       "      <td>XXXX has claimed I owe them {$27.00} for XXXX ...</td>\n",
       "      <td>Debt collection</td>\n",
       "      <td>4</td>\n",
       "    </tr>\n",
       "    <tr>\n",
       "      <th>190135</th>\n",
       "      <td>Due to inconsistencies in the amount owed that...</td>\n",
       "      <td>Consumer Loan</td>\n",
       "      <td>1</td>\n",
       "    </tr>\n",
       "    <tr>\n",
       "      <th>190155</th>\n",
       "      <td>In XX/XX/XXXX my wages that I earned at my job...</td>\n",
       "      <td>Mortgage</td>\n",
       "      <td>6</td>\n",
       "    </tr>\n",
       "    <tr>\n",
       "      <th>190207</th>\n",
       "      <td>I have an open and current mortgage with Chase...</td>\n",
       "      <td>Mortgage</td>\n",
       "      <td>6</td>\n",
       "    </tr>\n",
       "    <tr>\n",
       "      <th>190208</th>\n",
       "      <td>XXXX was submitted XX/XX/XXXX. At the time I s...</td>\n",
       "      <td>Mortgage</td>\n",
       "      <td>6</td>\n",
       "    </tr>\n",
       "  </tbody>\n",
       "</table>\n",
       "</div>"
      ],
      "text/plain": [
       "                                                     text            label  \\\n",
       "190126  XXXX has claimed I owe them {$27.00} for XXXX ...  Debt collection   \n",
       "190135  Due to inconsistencies in the amount owed that...    Consumer Loan   \n",
       "190155  In XX/XX/XXXX my wages that I earned at my job...         Mortgage   \n",
       "190207  I have an open and current mortgage with Chase...         Mortgage   \n",
       "190208  XXXX was submitted XX/XX/XXXX. At the time I s...         Mortgage   \n",
       "\n",
       "        target  \n",
       "190126       4  \n",
       "190135       1  \n",
       "190155       6  \n",
       "190207       6  \n",
       "190208       6  "
      ]
     },
     "execution_count": 21,
     "metadata": {},
     "output_type": "execute_result"
    }
   ],
   "source": [
    "df.head()"
   ]
  },
  {
   "cell_type": "code",
   "execution_count": 22,
   "id": "07e0d78f",
   "metadata": {},
   "outputs": [],
   "source": [
    "df = df.drop(['label'], axis =1)"
   ]
  },
  {
   "cell_type": "code",
   "execution_count": 23,
   "id": "b255c07c",
   "metadata": {},
   "outputs": [
    {
     "data": {
      "text/html": [
       "<div>\n",
       "<style scoped>\n",
       "    .dataframe tbody tr th:only-of-type {\n",
       "        vertical-align: middle;\n",
       "    }\n",
       "\n",
       "    .dataframe tbody tr th {\n",
       "        vertical-align: top;\n",
       "    }\n",
       "\n",
       "    .dataframe thead th {\n",
       "        text-align: right;\n",
       "    }\n",
       "</style>\n",
       "<table border=\"1\" class=\"dataframe\">\n",
       "  <thead>\n",
       "    <tr style=\"text-align: right;\">\n",
       "      <th></th>\n",
       "      <th>text</th>\n",
       "      <th>target</th>\n",
       "    </tr>\n",
       "  </thead>\n",
       "  <tbody>\n",
       "    <tr>\n",
       "      <th>190126</th>\n",
       "      <td>XXXX has claimed I owe them {$27.00} for XXXX ...</td>\n",
       "      <td>4</td>\n",
       "    </tr>\n",
       "    <tr>\n",
       "      <th>190135</th>\n",
       "      <td>Due to inconsistencies in the amount owed that...</td>\n",
       "      <td>1</td>\n",
       "    </tr>\n",
       "    <tr>\n",
       "      <th>190155</th>\n",
       "      <td>In XX/XX/XXXX my wages that I earned at my job...</td>\n",
       "      <td>6</td>\n",
       "    </tr>\n",
       "    <tr>\n",
       "      <th>190207</th>\n",
       "      <td>I have an open and current mortgage with Chase...</td>\n",
       "      <td>6</td>\n",
       "    </tr>\n",
       "    <tr>\n",
       "      <th>190208</th>\n",
       "      <td>XXXX was submitted XX/XX/XXXX. At the time I s...</td>\n",
       "      <td>6</td>\n",
       "    </tr>\n",
       "  </tbody>\n",
       "</table>\n",
       "</div>"
      ],
      "text/plain": [
       "                                                     text  target\n",
       "190126  XXXX has claimed I owe them {$27.00} for XXXX ...       4\n",
       "190135  Due to inconsistencies in the amount owed that...       1\n",
       "190155  In XX/XX/XXXX my wages that I earned at my job...       6\n",
       "190207  I have an open and current mortgage with Chase...       6\n",
       "190208  XXXX was submitted XX/XX/XXXX. At the time I s...       6"
      ]
     },
     "execution_count": 23,
     "metadata": {},
     "output_type": "execute_result"
    }
   ],
   "source": [
    "df.head()"
   ]
  },
  {
   "attachments": {},
   "cell_type": "markdown",
   "id": "de9b39ef",
   "metadata": {},
   "source": [
    "## Sanitize text"
   ]
  },
  {
   "cell_type": "code",
   "execution_count": 24,
   "id": "385b012d",
   "metadata": {},
   "outputs": [],
   "source": [
    "df = clean_text(df)"
   ]
  },
  {
   "cell_type": "code",
   "execution_count": 25,
   "id": "c3d9ab58",
   "metadata": {},
   "outputs": [
    {
     "name": "stdout",
     "output_type": "stream",
     "text": [
      "XXXX has claimed I owe them  for XXXX years despite the PROOF of PAYMENT I sent them  canceled check and their ownPAID INVOICE for  \n",
      "They continue to insist I owe them and collection agencies are after me \n",
      "How can I stop this harassment for a bill I already paid four years ago \n",
      "\n",
      "#####################\n",
      "Due to inconsistencies in the amount owed that I was told by M  T Bank and the amount that was reported to the credit reporting agencies I was advised to write a good will letter in order to address the issue and request the negative entry be removed from my credit report all together I had a vehicle that was stolen and it was declared a total loss by insurance company The insurance company and the GAP insurancw companypaid the outstanding balance of the loan but I was told by M  T Bank that there was still a balance due on the loan In good faith without having received any proof as to why there was still a balance I made a partial payment towards the remaining debt I then sent the goodwill letter still offering to pay the remainder of the debt but in exchange for the removal of the negative entry on my credit report At one point in XXXX  per my credit monitoring agency it showed a delinquent balance of  but when I checked my credit report again on XXXX XXXX  there was a delinquent balance of  The monies from the GAP insurance and my insurance company has been paid M  T Bank says that I still owe  of which  has already been paid I contacted M  T Bank via return receipt mail but I have not been given the courtesy of a response yet \n",
      "\n",
      "#####################\n",
      "In XXXXXXXX my wages that I earned at my job decreased by almost half by XXXXXXXX I knew I was in trouble with my home loan I began contacting WFB whom my home loan is with for assitance and options \n",
      "In early XXXXXXXX I began the Loan Modification process with Wells Fargo Bank I was told that they would not assist me with anything financial on my home loan until I fell  days behind though at the time I started to inquire for assistance from WFB I was only a few weeks behind So I began working with a program called XXXX They approved me for a variety of assistence and reached out to Wells Fargo Bank to determine what they could assist with Wells Fargo then turned down the assistance from XXXX and finally offered to do a Loan Modification for me The outcome was totally unknow about what I would be offered in the end by WFB for assistance Wells Fargo lost my paperwork twice during this process so it took  months from the time I started to the time my paperwork began to be processed for some kind of approval In XXXXXXXX I was in a trial period of  months of payments based on a slightly modified amount Roughly  less than what I was paying on my original payment However my caseworker with WFB failed to tell me that since the payments during this time were not the full amount of the original mortgage payment so they were not applied to the loan I discovered this in XXXXXXXX when I was told by a creditor with XXXX that she could n't restore my line of credit because of something to do with my mortgage I then called and found this out My caseworker at WFB then told me it was n't her responsibility to tell me this information I told her that she could have told me that if I could come up with the remaining amount of  then the payments would be applied Instead she chose to withhold this information and damage my credit even further Now we are into  months ( including the  days WFB told me I had to fall behind until they would help me ) without an applied payment to my home loan going on  months \n",
      "More paperwork was lost in XXXX as the modification was being finalized and my loan modification did n't go through until XXXXXXXX I spoke to a lawyer that is working on a class action lawsuit against WFB for people in a similar situation and said this paper loss is typical \n",
      "Wells Fargo did not reduce the interest rate but they did reduce the payment by less than  and the payments I was behind went back into the loan \n",
      "My property taxes also fell behind in my escrow account at this time because there was no payment on the loan So I am behind on my property taxes have damaged credit and and I am not in any better payment situation than I was \n",
      "They can not give me a reason on why they rejected XXXX assistance I was originally told they were not an approved agency but on a later phone call to Wells Fargo Bank I was told that they work with that program often and the WFB employee could not understand why they would reject the help I also spoke with XXXX and they said that Wells Fargo works with this program all the time and could n't understand why they would do this \n",
      "I feel that I have been taken advantage of by Wells Fargo and would like to pursue legal action against them based on negligence \n",
      "Although my payments are back on track I am not making much more money now than I was before so it is only a matter of time before something like this happens again if something unforeseen happens to my life that affects my finances \n",
      "\n",
      "#####################\n",
      "I have an open and current mortgage with Chase Bank  XXXX Chase is reporting the loan payments to XXXX but XXXX is surpressing the information and reporting the loan as Discharged in BK This mortgage was reaffirmed in a Chapter XXXX BK discharged dated XXXXXXXX Chase keeps referring to BK Law for Chapter XXXX and we keep providing documentation for Chapter XXXX and the account should be open and current with all the payments \n",
      "\n",
      "#####################\n",
      "XXXX was submitted XXXXXXXX At the time I submitted this complaint I had dealt with Rushmore Mortgage directly endeavoring to get them to stop the continuous daily calls I was receiving trying to collect on a mortgage for which I was not responsible due to bankruptcy They denied having knowledge of the bankruptcy even though I had spoken with them about it repeatedly and had written them repeatedly referencing the bankruptcy requesting them to cease the pursuit they continued to do so When they were unable to trick me into paying force me into paying in retaliation they placed reported to my credit bureaus a past due mortgage amount that had been discharged in Federal Court On XXXXXXXX Rushmore responded the referenced complaint indicating that they would remove the reporting from my bureau yet it is still there now in XXXXXXXX I would like them to remove it immediately and send me a letter indicating that it should not have been there in the first place and they are going to remove it from all my bureaus Rushmore when speaking to me represented themselves as the new note holder but when CFPB was involved they identified themselves as the servicing agency for XXXX XXXX XXXX This credit bullying and racial discrimination practices is damaging to anyone who is exposed to these tactics and this needs to stop Them denying their intent and then walking away with no penalties of any kind is one of the reasons it continues Please assist me in procuring the resolution once and for all \n",
      "\n",
      "#####################\n"
     ]
    }
   ],
   "source": [
    "for i in df['text'].head(5):\n",
    "    print(i)\n",
    "    print(\"#####################\")"
   ]
  },
  {
   "attachments": {},
   "cell_type": "markdown",
   "id": "31dc4e8d",
   "metadata": {},
   "source": [
    "## Split data into training and test datasets"
   ]
  },
  {
   "cell_type": "code",
   "execution_count": 26,
   "id": "23c2f7c3",
   "metadata": {},
   "outputs": [],
   "source": [
    "# Use stratified shuffle split to keep same class proportions in train and test data.\n",
    "sss = StratifiedShuffleSplit(n_splits=2, test_size=0.2, random_state=2022)"
   ]
  },
  {
   "cell_type": "code",
   "execution_count": 27,
   "id": "ecb8d3b4",
   "metadata": {},
   "outputs": [],
   "source": [
    "for train_index, test_index  in sss.split(df, df['target']):\n",
    "    train_df = df.iloc[train_index]\n",
    "    test_df  = df.iloc[test_index]"
   ]
  },
  {
   "attachments": {},
   "cell_type": "markdown",
   "id": "b67941b1",
   "metadata": {},
   "source": [
    "## Enable GPU acceleration"
   ]
  },
  {
   "cell_type": "raw",
   "id": "572e3c8b",
   "metadata": {},
   "source": [
    "os.environ[\"CUDA_VISIBLE_DEVICES\"]=\"0\""
   ]
  },
  {
   "cell_type": "code",
   "execution_count": 28,
   "id": "88f78d03",
   "metadata": {},
   "outputs": [],
   "source": [
    "cuda_available = torch.cuda.is_available()"
   ]
  },
  {
   "cell_type": "code",
   "execution_count": 29,
   "id": "de92a023",
   "metadata": {},
   "outputs": [
    {
     "name": "stderr",
     "output_type": "stream",
     "text": [
      "Some weights of the model checkpoint at bert-base-uncased were not used when initializing BertForSequenceClassification: ['cls.predictions.transform.LayerNorm.weight', 'cls.predictions.transform.LayerNorm.bias', 'cls.predictions.bias', 'cls.predictions.transform.dense.weight', 'cls.seq_relationship.bias', 'cls.predictions.transform.dense.bias', 'cls.seq_relationship.weight', 'cls.predictions.decoder.weight']\n",
      "- This IS expected if you are initializing BertForSequenceClassification from the checkpoint of a model trained on another task or with another architecture (e.g. initializing a BertForSequenceClassification model from a BertForPreTraining model).\n",
      "- This IS NOT expected if you are initializing BertForSequenceClassification from the checkpoint of a model that you expect to be exactly identical (initializing a BertForSequenceClassification model from a BertForSequenceClassification model).\n",
      "Some weights of BertForSequenceClassification were not initialized from the model checkpoint at bert-base-uncased and are newly initialized: ['classifier.weight', 'classifier.bias']\n",
      "You should probably TRAIN this model on a down-stream task to be able to use it for predictions and inference.\n"
     ]
    }
   ],
   "source": [
    "# Create a ClassificationModel with modified attributes and GPU acceleration (use_cuda=True)\n",
    "model = ClassificationModel(\n",
    "    'bert', \n",
    "    'bert-base-uncased', \n",
    "    num_labels=11, \n",
    "    args={\"num_train_epochs\": 4, \"reprocess_input_data\": True, \"overwrite_output_dir\": True, \"fp16\": True, \"n_gpu\": 1}, #\"learning_rate\":1e-5, \n",
    "    use_cuda=cuda_available, #is_cuda_gpu_available,\n",
    "    cuda_device=1\n",
    ")"
   ]
  },
  {
   "cell_type": "code",
   "execution_count": 30,
   "id": "373e5304",
   "metadata": {},
   "outputs": [
    {
     "name": "stderr",
     "output_type": "stream",
     "text": [
      "C:\\Users\\schellr2\\Anaconda3\\envs\\tensorflow\\lib\\site-packages\\simpletransformers\\classification\\classification_model.py:612: UserWarning: Dataframe headers not specified. Falling back to using column 0 as text and column 1 as labels.\n",
      "  warnings.warn(\n",
      "  0%|          | 107/53444 [00:20<2:46:17,  5.35it/s]\n",
      "Epochs 0/4. Running Loss:    1.2287: 100%|██████████| 6681/6681 [6:10:57<00:00,  3.33s/it]\n",
      "Epochs 1/4. Running Loss:    1.0850: 100%|██████████| 6681/6681 [5:54:13<00:00,  3.18s/it]\n",
      "Epochs 2/4. Running Loss:    1.1938: 100%|██████████| 6681/6681 [6:18:32<00:00,  3.40s/it]\n",
      "Epochs 3/4. Running Loss:    0.0329: 100%|██████████| 6681/6681 [6:24:53<00:00,  3.46s/it]\n",
      "Epoch 4 of 4: 100%|██████████| 4/4 [24:48:41<00:00, 22330.45s/it]  \n"
     ]
    },
    {
     "data": {
      "text/plain": [
       "(26724, 0.5326744979717312)"
      ]
     },
     "execution_count": 30,
     "metadata": {},
     "output_type": "execute_result"
    }
   ],
   "source": [
    "# Train the model\n",
    "model.train_model(train_df)"
   ]
  },
  {
   "attachments": {},
   "cell_type": "markdown",
   "id": "ce1145ba",
   "metadata": {},
   "source": [
    "## Assess model accuracy and F1 Score"
   ]
  },
  {
   "cell_type": "code",
   "execution_count": 31,
   "id": "f042f913",
   "metadata": {},
   "outputs": [],
   "source": [
    "def f1_multiclass(labels, preds):\n",
    "    return f1_score(labels, preds, average='weighted')"
   ]
  },
  {
   "cell_type": "code",
   "execution_count": 32,
   "id": "f0c95608",
   "metadata": {},
   "outputs": [
    {
     "name": "stderr",
     "output_type": "stream",
     "text": [
      "C:\\Users\\schellr2\\Anaconda3\\envs\\tensorflow\\lib\\site-packages\\simpletransformers\\classification\\classification_model.py:1454: UserWarning: Dataframe headers not specified. Falling back to using column 0 as text and column 1 as labels.\n",
      "  warnings.warn(\n",
      "  0%|          | 27/13362 [00:19<2:37:18,  1.41it/s]\n",
      "Running Evaluation: 100%|██████████| 1671/1671 [25:07<00:00,  1.11it/s]\n"
     ]
    }
   ],
   "source": [
    "# Evaluate the model\n",
    "result, model_outputs, wrong_predictions = model.eval_model(test_df, acc=accuracy_score, f1=f1_multiclass)"
   ]
  },
  {
   "cell_type": "code",
   "execution_count": 33,
   "id": "930521b6",
   "metadata": {},
   "outputs": [
    {
     "name": "stdout",
     "output_type": "stream",
     "text": [
      "{'mcc': 0.7736993349985836, 'acc': 0.8149229157311779, 'f1': 0.8134015328447742, 'eval_loss': 0.9034905752869639}\n"
     ]
    }
   ],
   "source": [
    "print(result)"
   ]
  },
  {
   "cell_type": "code",
   "execution_count": 34,
   "id": "a969b2b3",
   "metadata": {},
   "outputs": [
    {
     "name": "stdout",
     "output_type": "stream",
     "text": [
      "[[-1.67254806  0.28777698 -0.80678099 ... -1.29855585 -3.23763871\n",
      "  -1.15644073]\n",
      " [ 0.71823108  2.7125802  -3.03726149 ... -0.71481079 -3.60634732\n",
      "  -0.82201153]\n",
      " [-2.44901657  2.82374191  1.70637023 ... -0.60539675 -3.27823138\n",
      "   1.37897837]\n",
      " ...\n",
      " [-2.05006003 -0.93875355 -2.08781314 ... -1.02807951 -0.92811465\n",
      "   8.95067692]\n",
      " [-0.88709855  0.33534247  1.3407259  ... -1.27730334 -2.86031222\n",
      "  -2.64283872]\n",
      " [ 1.05577326 -0.29493147 -2.18358421 ... -1.49408114 -3.22949958\n",
      "  -2.054636  ]]\n"
     ]
    }
   ],
   "source": [
    "print(model_outputs)"
   ]
  },
  {
   "attachments": {},
   "cell_type": "markdown",
   "id": "65b39a3a",
   "metadata": {},
   "source": [
    "- ### SimpleTransformers classification with GPU acceleration and minimal text preprocessing performs fairly well with accuracy and f1 score ~81%.\n",
    "- ### SimpleTransformers performed better than Doc2Vec models in terms of accuracy and f1 score.\n",
    "- ### SimpleTransformers performed marginally worse than tfidf models in terms of accuracy and f1 score."
   ]
  },
  {
   "cell_type": "code",
   "execution_count": null,
   "id": "7112b938",
   "metadata": {},
   "outputs": [],
   "source": []
  },
  {
   "cell_type": "raw",
   "id": "49e61273",
   "metadata": {},
   "source": [
    "# additional model arguments to potentially evaluate\n",
    "args = {\n",
    "    \"output_dir\": \"outputs/\",\n",
    "    \"cache_dir\": \"cache_dir/\",\n",
    "\n",
    "    \"fp16\": True,\n",
    "    \"fp16_opt_level\": \"O1\",\n",
    "    \"max_seq_length\": 128,\n",
    "    \"train_batch_size\": 8,\n",
    "    \"gradient_accumulation_steps\": 1,\n",
    "    \"eval_batch_size\": 8,\n",
    "    \"num_train_epochs\": 1,\n",
    "    \"weight_decay\": 0,\n",
    "    \"learning_rate\": 4e-5,\n",
    "    \"adam_epsilon\": 1e-8,\n",
    "    \"warmup_ratio\": 0.06,\n",
    "    \"warmup_steps\": 0,\n",
    "    \"max_grad_norm\": 1.0,\n",
    "\n",
    "    \"logging_steps\": 50,\n",
    "    \"save_steps\": 2000,\n",
    "\n",
    "    \"overwrite_output_dir\": False,\n",
    "    \"reprocess_input_data\": False,\n",
    "    \"evaluate_during_training\": False,\n",
    "\n",
    "    \"process_count\": cpu_count() - 2 if cpu_count() > 2 else 1,\n",
    "    \"n_gpu\": 1,\n"
   ]
  }
 ],
 "metadata": {
  "kernelspec": {
   "display_name": "tensorflow",
   "language": "python",
   "name": "tensorflow"
  },
  "language_info": {
   "codemirror_mode": {
    "name": "ipython",
    "version": 3
   },
   "file_extension": ".py",
   "mimetype": "text/x-python",
   "name": "python",
   "nbconvert_exporter": "python",
   "pygments_lexer": "ipython3",
   "version": "3.9.0"
  },
  "vscode": {
   "interpreter": {
    "hash": "85a79a9e71fc4dbde8ae9def6ae8d35b177ba8041d34de3d3e155914c9dbe42a"
   }
  }
 },
 "nbformat": 4,
 "nbformat_minor": 5
}
