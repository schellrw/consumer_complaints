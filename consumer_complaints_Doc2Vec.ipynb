{
 "cells": [
  {
   "cell_type": "markdown",
   "id": "cad504ae",
   "metadata": {},
   "source": [
    "## Package and helper imports"
   ]
  },
  {
   "cell_type": "code",
   "execution_count": 1,
   "id": "e33e0e48",
   "metadata": {},
   "outputs": [],
   "source": [
    "import pandas as pd\n",
    "import numpy as np\n",
    "from tqdm import tqdm\n",
    "tqdm.pandas(desc=\"progress-bar\")\n",
    "import nltk\n",
    "from nltk.corpus import stopwords\n",
    "from nltk.stem import WordNetLemmatizer\n",
    "import string\n",
    "from textblob import TextBlob\n",
    "\n",
    "from gensim.models.doc2vec import Doc2Vec, TaggedDocument\n",
    "\n",
    "from sklearn.utils import shuffle\n",
    "from sklearn.linear_model import LogisticRegression, PassiveAggressiveClassifier\n",
    "from sklearn.ensemble import RandomForestClassifier, VotingClassifier\n",
    "from sklearn.metrics import accuracy_score, f1_score, classification_report, confusion_matrix\n",
    "from sklearn.model_selection import StratifiedShuffleSplit\n",
    "from sklearn.preprocessing import StandardScaler, MinMaxScaler, LabelEncoder\n",
    "\n",
    "from xgboost import XGBClassifier\n",
    "from lightgbm import LGBMClassifier\n",
    "\n",
    "import optuna\n",
    "\n",
    "import re\n",
    "import seaborn as sns\n",
    "import matplotlib.pyplot as plt\n",
    "\n",
    "import scipy.stats as st\n",
    "from scipy import sparse\n",
    "from scipy.sparse import hstack\n",
    "import pickle"
   ]
  },
  {
   "cell_type": "code",
   "execution_count": 91,
   "id": "c727bc62",
   "metadata": {},
   "outputs": [
    {
     "name": "stderr",
     "output_type": "stream",
     "text": [
      "[nltk_data] Downloading package stopwords to\n",
      "[nltk_data]     C:\\Users\\schellr2\\AppData\\Roaming\\nltk_data...\n",
      "[nltk_data]   Package stopwords is already up-to-date!\n",
      "[nltk_data] Downloading package wordnet to\n",
      "[nltk_data]     C:\\Users\\schellr2\\AppData\\Roaming\\nltk_data...\n",
      "[nltk_data]   Package wordnet is already up-to-date!\n",
      "[nltk_data] Downloading package punkt to\n",
      "[nltk_data]     C:\\Users\\schellr2\\AppData\\Roaming\\nltk_data...\n",
      "[nltk_data]   Package punkt is already up-to-date!\n",
      "[nltk_data] Downloading package omw-1.4 to\n",
      "[nltk_data]     C:\\Users\\schellr2\\AppData\\Roaming\\nltk_data...\n",
      "[nltk_data]   Package omw-1.4 is already up-to-date!\n"
     ]
    }
   ],
   "source": [
    "# Downloads and display options\n",
    "nltk.download('stopwords')\n",
    "nltk.download('wordnet')\n",
    "nltk.download('punkt')\n",
    "nltk.download('omw-1.4')\n",
    "punctuation = string.punctuation\n",
    "stop_words = set(stopwords.words('english'))\n",
    "pd.options.display.max_columns = None\n",
    "pd.options.display.max_rows = None\n",
    "%matplotlib inline"
   ]
  },
  {
   "cell_type": "markdown",
   "id": "13533c37",
   "metadata": {},
   "source": [
    "## Define functions"
   ]
  },
  {
   "cell_type": "code",
   "execution_count": 3,
   "id": "170f7214",
   "metadata": {},
   "outputs": [],
   "source": [
    "def clean_text_df(data):\n",
    "    for i in [char for char in ':;\"?,/|\\\\}{1234567890.~!@#$%^&*_+=<>']:\n",
    "        data.unvec=data.unvec.apply(lambda x: str(x).replace(i,\"\"))\n",
    "\n",
    "    data.unvec=data.unvec.apply(lambda x: str(x).replace('-',\" \"))\n",
    "\n",
    "    stopword_dict= set(stopwords.words('english'))\n",
    "\n",
    "    def sw_remover(arr):\n",
    "        res=[]\n",
    "        for i in arr:\n",
    "            if i not in stopword_dict:\n",
    "                res.append(i)\n",
    "        return res\n",
    "\n",
    "    # def digit_remover(arr):\n",
    "    #     res=[]\n",
    "    #     for i in arr:\n",
    "    #         if i.isdigit()==False:\n",
    "    #             res.append(i)\n",
    "    #     return res\n",
    "\n",
    "    def lemmatizer(arr):\n",
    "        lem=nltk.stem.WordNetLemmatizer()\n",
    "        res=[lem.lemmatize(i) for i in arr]\n",
    "        return res\n",
    "\n",
    "    def joiner(arr):\n",
    "        if len(arr)==0:\n",
    "            return ''\n",
    "        elif len(arr)==1:\n",
    "            return arr[0]\n",
    "        else:\n",
    "            return ' '.join(arr)\n",
    "    \n",
    "    data.unvec=data.unvec.apply(lambda x: re.sub(r'\\[rnt]',\"\",x))\n",
    "    data.unvec=data.unvec.apply(lambda x: x.lower())\n",
    "    data.unvec=data.unvec.apply(lambda x: x.split())\n",
    "    data.unvec=data.unvec.apply(sw_remover)\n",
    "    data.unvec=data.unvec.apply(lemmatizer)\n",
    "    data.unvec=data.unvec.apply(joiner)\n",
    "\n",
    "    data['len']=data['unvec'].apply(len)\n",
    "    \n",
    "    return data"
   ]
  },
  {
   "cell_type": "code",
   "execution_count": 4,
   "id": "1a169ea6",
   "metadata": {},
   "outputs": [],
   "source": [
    "# def cleanText(text):\n",
    "#     text = BeautifulSoup(text, \"lxml\").text\n",
    "#     text = re.sub(r'\\[rnt]', '', text) \n",
    "#     text = re.sub(r'http\\S+', r'<URL>', text)\n",
    "#     text = text.lower()\n",
    "#     text = text.replace('x', '')\n",
    "#     return text"
   ]
  },
  {
   "cell_type": "code",
   "execution_count": 5,
   "id": "fe4efd26",
   "metadata": {},
   "outputs": [],
   "source": [
    "def tokenize_text(text):\n",
    "    tokens = []\n",
    "    for sent in nltk.sent_tokenize(text):\n",
    "        for word in nltk.word_tokenize(sent):\n",
    "            if len(word) < 2:\n",
    "                continue\n",
    "            tokens.append(word.lower())\n",
    "    return tokens"
   ]
  },
  {
   "cell_type": "code",
   "execution_count": 6,
   "id": "83cb542e",
   "metadata": {},
   "outputs": [],
   "source": [
    "def vec_for_learning(model, tagged_docs):\n",
    "    sents = tagged_docs.values\n",
    "    targets, regressors = zip(*[(doc.tags[0], model.infer_vector(doc.words)) for doc in sents]) #(doc.words, steps=20))\n",
    "    return targets, regressors"
   ]
  },
  {
   "cell_type": "markdown",
   "id": "78df11da",
   "metadata": {},
   "source": [
    "## Import data"
   ]
  },
  {
   "cell_type": "code",
   "execution_count": 7,
   "id": "3ec7fe4a",
   "metadata": {},
   "outputs": [
    {
     "data": {
      "text/html": [
       "<div>\n",
       "<style scoped>\n",
       "    .dataframe tbody tr th:only-of-type {\n",
       "        vertical-align: middle;\n",
       "    }\n",
       "\n",
       "    .dataframe tbody tr th {\n",
       "        vertical-align: top;\n",
       "    }\n",
       "\n",
       "    .dataframe thead th {\n",
       "        text-align: right;\n",
       "    }\n",
       "</style>\n",
       "<table border=\"1\" class=\"dataframe\">\n",
       "  <thead>\n",
       "    <tr style=\"text-align: right;\">\n",
       "      <th></th>\n",
       "      <th>date_received</th>\n",
       "      <th>product</th>\n",
       "      <th>sub_product</th>\n",
       "      <th>issue</th>\n",
       "      <th>sub_issue</th>\n",
       "      <th>consumer_complaint_narrative</th>\n",
       "      <th>company_public_response</th>\n",
       "      <th>company</th>\n",
       "      <th>state</th>\n",
       "      <th>zipcode</th>\n",
       "      <th>tags</th>\n",
       "      <th>consumer_consent_provided</th>\n",
       "      <th>submitted_via</th>\n",
       "      <th>date_sent_to_company</th>\n",
       "      <th>company_response_to_consumer</th>\n",
       "      <th>timely_response</th>\n",
       "      <th>consumer_disputed?</th>\n",
       "      <th>complaint_id</th>\n",
       "    </tr>\n",
       "  </thead>\n",
       "  <tbody>\n",
       "    <tr>\n",
       "      <th>0</th>\n",
       "      <td>08/30/2013</td>\n",
       "      <td>Mortgage</td>\n",
       "      <td>Other mortgage</td>\n",
       "      <td>Loan modification,collection,foreclosure</td>\n",
       "      <td>NaN</td>\n",
       "      <td>NaN</td>\n",
       "      <td>NaN</td>\n",
       "      <td>U.S. Bancorp</td>\n",
       "      <td>CA</td>\n",
       "      <td>95993</td>\n",
       "      <td>NaN</td>\n",
       "      <td>NaN</td>\n",
       "      <td>Referral</td>\n",
       "      <td>09/03/2013</td>\n",
       "      <td>Closed with explanation</td>\n",
       "      <td>Yes</td>\n",
       "      <td>Yes</td>\n",
       "      <td>511074</td>\n",
       "    </tr>\n",
       "    <tr>\n",
       "      <th>1</th>\n",
       "      <td>08/30/2013</td>\n",
       "      <td>Mortgage</td>\n",
       "      <td>Other mortgage</td>\n",
       "      <td>Loan servicing, payments, escrow account</td>\n",
       "      <td>NaN</td>\n",
       "      <td>NaN</td>\n",
       "      <td>NaN</td>\n",
       "      <td>Wells Fargo &amp; Company</td>\n",
       "      <td>CA</td>\n",
       "      <td>91104</td>\n",
       "      <td>NaN</td>\n",
       "      <td>NaN</td>\n",
       "      <td>Referral</td>\n",
       "      <td>09/03/2013</td>\n",
       "      <td>Closed with explanation</td>\n",
       "      <td>Yes</td>\n",
       "      <td>Yes</td>\n",
       "      <td>511080</td>\n",
       "    </tr>\n",
       "    <tr>\n",
       "      <th>2</th>\n",
       "      <td>08/30/2013</td>\n",
       "      <td>Credit reporting</td>\n",
       "      <td>NaN</td>\n",
       "      <td>Incorrect information on credit report</td>\n",
       "      <td>Account status</td>\n",
       "      <td>NaN</td>\n",
       "      <td>NaN</td>\n",
       "      <td>Wells Fargo &amp; Company</td>\n",
       "      <td>NY</td>\n",
       "      <td>11764</td>\n",
       "      <td>NaN</td>\n",
       "      <td>NaN</td>\n",
       "      <td>Postal mail</td>\n",
       "      <td>09/18/2013</td>\n",
       "      <td>Closed with explanation</td>\n",
       "      <td>Yes</td>\n",
       "      <td>No</td>\n",
       "      <td>510473</td>\n",
       "    </tr>\n",
       "    <tr>\n",
       "      <th>3</th>\n",
       "      <td>08/30/2013</td>\n",
       "      <td>Student loan</td>\n",
       "      <td>Non-federal student loan</td>\n",
       "      <td>Repaying your loan</td>\n",
       "      <td>Repaying your loan</td>\n",
       "      <td>NaN</td>\n",
       "      <td>NaN</td>\n",
       "      <td>Navient Solutions, Inc.</td>\n",
       "      <td>MD</td>\n",
       "      <td>21402</td>\n",
       "      <td>NaN</td>\n",
       "      <td>NaN</td>\n",
       "      <td>Email</td>\n",
       "      <td>08/30/2013</td>\n",
       "      <td>Closed with explanation</td>\n",
       "      <td>Yes</td>\n",
       "      <td>Yes</td>\n",
       "      <td>510326</td>\n",
       "    </tr>\n",
       "    <tr>\n",
       "      <th>4</th>\n",
       "      <td>08/30/2013</td>\n",
       "      <td>Debt collection</td>\n",
       "      <td>Credit card</td>\n",
       "      <td>False statements or representation</td>\n",
       "      <td>Attempted to collect wrong amount</td>\n",
       "      <td>NaN</td>\n",
       "      <td>NaN</td>\n",
       "      <td>Resurgent Capital Services L.P.</td>\n",
       "      <td>GA</td>\n",
       "      <td>30106</td>\n",
       "      <td>NaN</td>\n",
       "      <td>NaN</td>\n",
       "      <td>Web</td>\n",
       "      <td>08/30/2013</td>\n",
       "      <td>Closed with explanation</td>\n",
       "      <td>Yes</td>\n",
       "      <td>Yes</td>\n",
       "      <td>511067</td>\n",
       "    </tr>\n",
       "    <tr>\n",
       "      <th>5</th>\n",
       "      <td>08/30/2013</td>\n",
       "      <td>Credit card</td>\n",
       "      <td>NaN</td>\n",
       "      <td>Application processing delay</td>\n",
       "      <td>NaN</td>\n",
       "      <td>NaN</td>\n",
       "      <td>NaN</td>\n",
       "      <td>Capital One</td>\n",
       "      <td>NY</td>\n",
       "      <td>12206</td>\n",
       "      <td>NaN</td>\n",
       "      <td>NaN</td>\n",
       "      <td>Phone</td>\n",
       "      <td>09/03/2013</td>\n",
       "      <td>Closed with explanation</td>\n",
       "      <td>Yes</td>\n",
       "      <td>Yes</td>\n",
       "      <td>510098</td>\n",
       "    </tr>\n",
       "    <tr>\n",
       "      <th>6</th>\n",
       "      <td>08/30/2013</td>\n",
       "      <td>Credit card</td>\n",
       "      <td>NaN</td>\n",
       "      <td>Credit line increase/decrease</td>\n",
       "      <td>NaN</td>\n",
       "      <td>NaN</td>\n",
       "      <td>NaN</td>\n",
       "      <td>Wells Fargo &amp; Company</td>\n",
       "      <td>AZ</td>\n",
       "      <td>85730</td>\n",
       "      <td>NaN</td>\n",
       "      <td>NaN</td>\n",
       "      <td>Postal mail</td>\n",
       "      <td>09/05/2013</td>\n",
       "      <td>Closed with explanation</td>\n",
       "      <td>Yes</td>\n",
       "      <td>No</td>\n",
       "      <td>511062</td>\n",
       "    </tr>\n",
       "    <tr>\n",
       "      <th>7</th>\n",
       "      <td>08/30/2013</td>\n",
       "      <td>Bank account or service</td>\n",
       "      <td>Checking account</td>\n",
       "      <td>Deposits and withdrawals</td>\n",
       "      <td>NaN</td>\n",
       "      <td>NaN</td>\n",
       "      <td>NaN</td>\n",
       "      <td>Bank of America</td>\n",
       "      <td>IL</td>\n",
       "      <td>60660</td>\n",
       "      <td>NaN</td>\n",
       "      <td>NaN</td>\n",
       "      <td>Referral</td>\n",
       "      <td>09/04/2013</td>\n",
       "      <td>Closed with explanation</td>\n",
       "      <td>Yes</td>\n",
       "      <td>No</td>\n",
       "      <td>511116</td>\n",
       "    </tr>\n",
       "    <tr>\n",
       "      <th>8</th>\n",
       "      <td>08/30/2013</td>\n",
       "      <td>Bank account or service</td>\n",
       "      <td>Checking account</td>\n",
       "      <td>Deposits and withdrawals</td>\n",
       "      <td>NaN</td>\n",
       "      <td>NaN</td>\n",
       "      <td>NaN</td>\n",
       "      <td>Bank of America</td>\n",
       "      <td>GA</td>\n",
       "      <td>30016</td>\n",
       "      <td>NaN</td>\n",
       "      <td>NaN</td>\n",
       "      <td>Referral</td>\n",
       "      <td>09/04/2013</td>\n",
       "      <td>Closed with explanation</td>\n",
       "      <td>Yes</td>\n",
       "      <td>No</td>\n",
       "      <td>511091</td>\n",
       "    </tr>\n",
       "    <tr>\n",
       "      <th>9</th>\n",
       "      <td>09/17/2013</td>\n",
       "      <td>Mortgage</td>\n",
       "      <td>Conventional adjustable mortgage (ARM)</td>\n",
       "      <td>Loan modification,collection,foreclosure</td>\n",
       "      <td>NaN</td>\n",
       "      <td>NaN</td>\n",
       "      <td>NaN</td>\n",
       "      <td>SunTrust Banks, Inc.</td>\n",
       "      <td>CA</td>\n",
       "      <td>94551</td>\n",
       "      <td>NaN</td>\n",
       "      <td>NaN</td>\n",
       "      <td>Web</td>\n",
       "      <td>09/18/2013</td>\n",
       "      <td>Closed with explanation</td>\n",
       "      <td>Yes</td>\n",
       "      <td>Yes</td>\n",
       "      <td>530602</td>\n",
       "    </tr>\n",
       "  </tbody>\n",
       "</table>\n",
       "</div>"
      ],
      "text/plain": [
       "  date_received                  product  \\\n",
       "0    08/30/2013                 Mortgage   \n",
       "1    08/30/2013                 Mortgage   \n",
       "2    08/30/2013         Credit reporting   \n",
       "3    08/30/2013             Student loan   \n",
       "4    08/30/2013          Debt collection   \n",
       "5    08/30/2013              Credit card   \n",
       "6    08/30/2013              Credit card   \n",
       "7    08/30/2013  Bank account or service   \n",
       "8    08/30/2013  Bank account or service   \n",
       "9    09/17/2013                 Mortgage   \n",
       "\n",
       "                              sub_product  \\\n",
       "0                          Other mortgage   \n",
       "1                          Other mortgage   \n",
       "2                                     NaN   \n",
       "3                Non-federal student loan   \n",
       "4                             Credit card   \n",
       "5                                     NaN   \n",
       "6                                     NaN   \n",
       "7                        Checking account   \n",
       "8                        Checking account   \n",
       "9  Conventional adjustable mortgage (ARM)   \n",
       "\n",
       "                                      issue  \\\n",
       "0  Loan modification,collection,foreclosure   \n",
       "1  Loan servicing, payments, escrow account   \n",
       "2    Incorrect information on credit report   \n",
       "3                        Repaying your loan   \n",
       "4        False statements or representation   \n",
       "5              Application processing delay   \n",
       "6             Credit line increase/decrease   \n",
       "7                  Deposits and withdrawals   \n",
       "8                  Deposits and withdrawals   \n",
       "9  Loan modification,collection,foreclosure   \n",
       "\n",
       "                           sub_issue consumer_complaint_narrative  \\\n",
       "0                                NaN                          NaN   \n",
       "1                                NaN                          NaN   \n",
       "2                     Account status                          NaN   \n",
       "3                 Repaying your loan                          NaN   \n",
       "4  Attempted to collect wrong amount                          NaN   \n",
       "5                                NaN                          NaN   \n",
       "6                                NaN                          NaN   \n",
       "7                                NaN                          NaN   \n",
       "8                                NaN                          NaN   \n",
       "9                                NaN                          NaN   \n",
       "\n",
       "  company_public_response                          company state zipcode tags  \\\n",
       "0                     NaN                     U.S. Bancorp    CA   95993  NaN   \n",
       "1                     NaN            Wells Fargo & Company    CA   91104  NaN   \n",
       "2                     NaN            Wells Fargo & Company    NY   11764  NaN   \n",
       "3                     NaN          Navient Solutions, Inc.    MD   21402  NaN   \n",
       "4                     NaN  Resurgent Capital Services L.P.    GA   30106  NaN   \n",
       "5                     NaN                      Capital One    NY   12206  NaN   \n",
       "6                     NaN            Wells Fargo & Company    AZ   85730  NaN   \n",
       "7                     NaN                  Bank of America    IL   60660  NaN   \n",
       "8                     NaN                  Bank of America    GA   30016  NaN   \n",
       "9                     NaN             SunTrust Banks, Inc.    CA   94551  NaN   \n",
       "\n",
       "  consumer_consent_provided submitted_via date_sent_to_company  \\\n",
       "0                       NaN      Referral           09/03/2013   \n",
       "1                       NaN      Referral           09/03/2013   \n",
       "2                       NaN   Postal mail           09/18/2013   \n",
       "3                       NaN         Email           08/30/2013   \n",
       "4                       NaN           Web           08/30/2013   \n",
       "5                       NaN         Phone           09/03/2013   \n",
       "6                       NaN   Postal mail           09/05/2013   \n",
       "7                       NaN      Referral           09/04/2013   \n",
       "8                       NaN      Referral           09/04/2013   \n",
       "9                       NaN           Web           09/18/2013   \n",
       "\n",
       "  company_response_to_consumer timely_response consumer_disputed?  \\\n",
       "0      Closed with explanation             Yes                Yes   \n",
       "1      Closed with explanation             Yes                Yes   \n",
       "2      Closed with explanation             Yes                 No   \n",
       "3      Closed with explanation             Yes                Yes   \n",
       "4      Closed with explanation             Yes                Yes   \n",
       "5      Closed with explanation             Yes                Yes   \n",
       "6      Closed with explanation             Yes                 No   \n",
       "7      Closed with explanation             Yes                 No   \n",
       "8      Closed with explanation             Yes                 No   \n",
       "9      Closed with explanation             Yes                Yes   \n",
       "\n",
       "   complaint_id  \n",
       "0        511074  \n",
       "1        511080  \n",
       "2        510473  \n",
       "3        510326  \n",
       "4        511067  \n",
       "5        510098  \n",
       "6        511062  \n",
       "7        511116  \n",
       "8        511091  \n",
       "9        530602  "
      ]
     },
     "execution_count": 7,
     "metadata": {},
     "output_type": "execute_result"
    }
   ],
   "source": [
    "data = pickle.load(open('./input/consumer_complaints.pkl', 'rb'))\n",
    "data.head(10)"
   ]
  },
  {
   "cell_type": "code",
   "execution_count": 8,
   "id": "56ead125",
   "metadata": {},
   "outputs": [],
   "source": [
    "# save data to df so won't have to reload data if need to start over with df.\n",
    "df = data.copy()"
   ]
  },
  {
   "cell_type": "code",
   "execution_count": 9,
   "id": "46bc2d31",
   "metadata": {},
   "outputs": [
    {
     "name": "stdout",
     "output_type": "stream",
     "text": [
      "<class 'pandas.core.frame.DataFrame'>\n",
      "RangeIndex: 555957 entries, 0 to 555956\n",
      "Data columns (total 18 columns):\n",
      " #   Column                        Non-Null Count   Dtype \n",
      "---  ------                        --------------   ----- \n",
      " 0   date_received                 555957 non-null  object\n",
      " 1   product                       555957 non-null  object\n",
      " 2   sub_product                   397635 non-null  object\n",
      " 3   issue                         555957 non-null  object\n",
      " 4   sub_issue                     212622 non-null  object\n",
      " 5   consumer_complaint_narrative  66806 non-null   object\n",
      " 6   company_public_response       85124 non-null   object\n",
      " 7   company                       555957 non-null  object\n",
      " 8   state                         551070 non-null  object\n",
      " 9   zipcode                       551452 non-null  object\n",
      " 10  tags                          77959 non-null   object\n",
      " 11  consumer_consent_provided     123458 non-null  object\n",
      " 12  submitted_via                 555957 non-null  object\n",
      " 13  date_sent_to_company          555957 non-null  object\n",
      " 14  company_response_to_consumer  555957 non-null  object\n",
      " 15  timely_response               555957 non-null  object\n",
      " 16  consumer_disputed?            555957 non-null  object\n",
      " 17  complaint_id                  555957 non-null  int64 \n",
      "dtypes: int64(1), object(17)\n",
      "memory usage: 76.3+ MB\n"
     ]
    }
   ],
   "source": [
    "df.info()"
   ]
  },
  {
   "cell_type": "code",
   "execution_count": 10,
   "id": "8c8bcc1d",
   "metadata": {},
   "outputs": [],
   "source": [
    "# Only keep records with a complaint narrative\n",
    "df = df[~df['consumer_complaint_narrative'].isnull()]"
   ]
  },
  {
   "cell_type": "code",
   "execution_count": 11,
   "id": "1f72ecc3",
   "metadata": {},
   "outputs": [],
   "source": [
    "# Only keep complaint narrative & product columns to see how well diff methods predict product from just text\n",
    "df = df[['consumer_complaint_narrative', 'product']]"
   ]
  },
  {
   "cell_type": "code",
   "execution_count": 12,
   "id": "c71133fd",
   "metadata": {},
   "outputs": [
    {
     "name": "stdout",
     "output_type": "stream",
     "text": [
      "<class 'pandas.core.frame.DataFrame'>\n",
      "Int64Index: 66806 entries, 190126 to 553096\n",
      "Data columns (total 2 columns):\n",
      " #   Column                        Non-Null Count  Dtype \n",
      "---  ------                        --------------  ----- \n",
      " 0   consumer_complaint_narrative  66806 non-null  object\n",
      " 1   product                       66806 non-null  object\n",
      "dtypes: object(2)\n",
      "memory usage: 1.5+ MB\n"
     ]
    }
   ],
   "source": [
    "df.info()"
   ]
  },
  {
   "cell_type": "code",
   "execution_count": 13,
   "id": "00de20b0",
   "metadata": {},
   "outputs": [
    {
     "data": {
      "text/plain": [
       "(66806, 2)"
      ]
     },
     "execution_count": 13,
     "metadata": {},
     "output_type": "execute_result"
    }
   ],
   "source": [
    "df.shape"
   ]
  },
  {
   "cell_type": "code",
   "execution_count": 14,
   "id": "e7527a7f",
   "metadata": {},
   "outputs": [
    {
     "data": {
      "text/plain": [
       "['consumer_complaint_narrative', 'product']"
      ]
     },
     "execution_count": 14,
     "metadata": {},
     "output_type": "execute_result"
    }
   ],
   "source": [
    "list(df.columns)"
   ]
  },
  {
   "cell_type": "code",
   "execution_count": 15,
   "id": "cfa07370",
   "metadata": {},
   "outputs": [
    {
     "name": "stdout",
     "output_type": "stream",
     "text": [
      "Debt collection            17552\n",
      "Mortgage                   14919\n",
      "Credit reporting           12526\n",
      "Credit card                 7929\n",
      "Bank account or service     5711\n",
      "Consumer Loan               3678\n",
      "Student loan                2128\n",
      "Prepaid card                 861\n",
      "Payday loan                  726\n",
      "Money transfers              666\n",
      "Other financial service      110\n",
      "Name: product, dtype: int64\n"
     ]
    }
   ],
   "source": [
    "product = df['product'].value_counts()\n",
    "print(product)"
   ]
  },
  {
   "cell_type": "code",
   "execution_count": 16,
   "id": "a649dd10",
   "metadata": {
    "scrolled": false
   },
   "outputs": [
    {
     "name": "stderr",
     "output_type": "stream",
     "text": [
      "c:\\Users\\schellr2\\Anaconda3\\lib\\site-packages\\seaborn\\_decorators.py:36: FutureWarning: Pass the following variables as keyword args: x, y. From version 0.12, the only valid positional argument will be `data`, and passing other arguments without an explicit keyword will result in an error or misinterpretation.\n",
      "  warnings.warn(\n"
     ]
    },
    {
     "data": {
      "image/png": "[encoded data removed]",
      "text/plain": [
       "<Figure size 864x288 with 1 Axes>"
      ]
     },
     "metadata": {
      "needs_background": "light"
     },
     "output_type": "display_data"
    }
   ],
   "source": [
    "plt.figure(figsize=(12,4))\n",
    "sns.barplot(product.index, product.values, alpha=0.8)\n",
    "plt.title('Barplot - Product Categories')\n",
    "plt.ylabel('Number of Occurrences', fontsize=12)\n",
    "plt.xlabel('Product', fontsize=12)\n",
    "plt.xticks(rotation=30)\n",
    "plt.show()"
   ]
  },
  {
   "cell_type": "code",
   "execution_count": 17,
   "id": "436bcf73",
   "metadata": {},
   "outputs": [
    {
     "name": "stdout",
     "output_type": "stream",
     "text": [
      "XXXX has claimed I owe them {$27.00} for XXXX years despite the PROOF of PAYMENT I sent them : canceled check and their ownPAID INVOICE for {$27.00}! \n",
      "They continue to insist I owe them and collection agencies are after me. \n",
      "How can I stop this harassment for a bill I already paid four years ago? \n",
      "\n",
      "#####################\n",
      "Due to inconsistencies in the amount owed that I was told by M & T Bank and the amount that was reported to the credit reporting agencies, I was advised to write a good will letter in order to address the issue and request the negative entry be removed from my credit report all together. I had a vehicle that was stolen and it was declared a total loss by insurance company. The insurance company and the GAP insurancw companypaid the outstanding balance of the loan, but I was told by M & T Bank that there was still a balance due on the loan. In good faith, without having received any proof as to why there was still a balance, I made a partial payment towards the remaining debt. I then sent the goodwill letter still offering to pay the remainder of the debt, but in exchange for the removal of the negative entry on my credit report. At one point, in XXXX 2015, per my credit monitoring agency, it showed a delinquent balance of {$0.00}, but when I checked my credit report again on XXXX XXXX 2015, there was a delinquent balance of {$1400.00}. The monies from the GAP insurance and my insurance company has been paid, M & T Bank says that I still owe {$620.00}, of which {$210.00} has already been paid. I contacted M & T Bank via return receipt mail, but I have not been given the courtesy of a response yet. \n",
      "\n",
      "#####################\n",
      "In XX/XX/XXXX my wages that I earned at my job decreased by almost half, by XX/XX/XXXX I knew I was in trouble with my home loan. I began contacting WFB whom my home loan is with, for assitance and options. \n",
      "In early XX/XX/XXXX I began the Loan Modification process with Wells Fargo Bank. I was told that they would not assist me with anything financial on my home loan until I fell 90 days behind, though at the time I started to inquire for assistance from WFB I was only a few weeks behind. So, I began working with a program called XXXX. They approved me for a variety of assistence and reached out to Wells Fargo Bank to determine what they could assist with. Wells Fargo then turned down the assistance from XXXX and finally offered to do a Loan Modification for me. The outcome was totally unknow about what I would be offered in the end by WFB for assistance. Wells Fargo lost my paperwork twice during this process, so it took 2 months from the time I started to the time my paperwork began to be processed for some kind of approval. In XX/XX/XXXX I was in a trial period of 3 months of payments based on a slightly modified amount. Roughly {$75.00} less than what I was paying on my original payment. However, my caseworker with WFB, failed to tell me that since the payments during this time were not the full amount of the original mortgage payment so they were not applied to the loan. I discovered this in XX/XX/XXXX when I was told by a creditor with XXXX that she could n't restore my line of credit because of something to do with my mortgage. I then called and found this out. My caseworker at WFB then told me it was n't her responsibility to tell me this information. I told her that she could have told me that if I could come up with the remaining amount of {$75.00} then the payments would be applied. Instead, she chose to withhold this information and damage my credit even further. Now we are into 5 months ( including the 90 days WFB told me I had to fall behind until they would help me ) without an applied payment to my home loan, going on 6 months. \n",
      "More paperwork was lost in XXXX as the modification was being finalized and my loan modification did n't go through until XX/XX/XXXX. I spoke to a lawyer that is working on a class-action lawsuit against WFB for people in a similar situation and said this paper loss is typical. \n",
      "Wells Fargo did not reduce the interest rate, but they did reduce the payment by less than {$100.00} and the payments I was behind went back into the loan. \n",
      "My property taxes also fell behind in my escrow account at this time because there was no payment on the loan. So, I am behind on my property taxes, have damaged credit, and and I am not in any better payment situation than I was. \n",
      "They can not give me a reason on why they rejected XXXX assistance. I was originally told they were not an approved agency but on a later phone call to Wells Fargo Bank I was told that they work with that program often and the WFB employee could not understand why they would reject the help. I also spoke with XXXX and they said that Wells Fargo works with this program all the time and could n't understand why they would do this. \n",
      "I feel that I have been taken advantage of by Wells Fargo and would like to pursue legal action against them based on negligence. \n",
      "Although my payments are back on track I am not making much more money now than I was before so it is only a matter of time before something like this happens again if something unforeseen happens to my life that affects my finances. \n",
      "\n",
      "#####################\n",
      "I have an open and current mortgage with Chase Bank # XXXX. Chase is reporting the loan payments to XXXX but XXXX is surpressing the information and reporting the loan as Discharged in BK. This mortgage was reaffirmed in a Chapter XXXX BK discharged dated XXXX/XXXX/2013. Chase keeps referring to BK Law for Chapter XXXX and we keep providing documentation for Chapter XXXX, and the account should be open and current with all the payments \n",
      "\n",
      "#####################\n",
      "XXXX was submitted XX/XX/XXXX. At the time I submitted this complaint, I had dealt with Rushmore Mortgage directly endeavoring to get them to stop the continuous daily calls I was receiving trying to collect on a mortgage for which I was not responsible due to bankruptcy. They denied having knowledge of the bankruptcy, even though I had spoken with them about it repeatedly and had written them repeatedly referencing the bankruptcy requesting them to cease the pursuit, they continued to do so. When they were unable to trick me into paying, force me into paying in retaliation they placed reported to my credit bureaus a past due mortgage amount that had been discharged in Federal Court. On XX/XX/XXXX Rushmore responded the referenced complaint indicating that they would remove the reporting from my bureau, yet it is still there now in XX/XX/XXXX. I would like them to remove it immediately and send me a letter indicating that it should not have been there in the first place and they are going to remove it from all my bureaus. Rushmore, when speaking to me, represented themselves as the new note holder, but when CFPB was involved, they identified themselves as the servicing agency for XXXX XXXX XXXX. This credit bullying and racial discrimination practices is damaging to anyone who is exposed to these tactics and this needs to stop. Them denying their intent and then walking away with no penalties of any kind is one of the reasons it continues. Please assist me in procuring the resolution once and for all. \n",
      "\n",
      "#####################\n"
     ]
    }
   ],
   "source": [
    "for i in df['consumer_complaint_narrative'].head(5):\n",
    "    print(i)\n",
    "    print(\"#####################\")"
   ]
  },
  {
   "cell_type": "code",
   "execution_count": 18,
   "id": "61ac8f73",
   "metadata": {},
   "outputs": [],
   "source": [
    "df = df.rename({'consumer_complaint_narrative':'unvec', 'product':'label'},axis=1)"
   ]
  },
  {
   "cell_type": "code",
   "execution_count": 19,
   "id": "604135ae",
   "metadata": {},
   "outputs": [],
   "source": [
    "df['unvec'] = df['unvec'].astype(str)"
   ]
  },
  {
   "cell_type": "code",
   "execution_count": 20,
   "id": "ec022ef7",
   "metadata": {},
   "outputs": [
    {
     "data": {
      "text/html": [
       "<div>\n",
       "<style scoped>\n",
       "    .dataframe tbody tr th:only-of-type {\n",
       "        vertical-align: middle;\n",
       "    }\n",
       "\n",
       "    .dataframe tbody tr th {\n",
       "        vertical-align: top;\n",
       "    }\n",
       "\n",
       "    .dataframe thead th {\n",
       "        text-align: right;\n",
       "    }\n",
       "</style>\n",
       "<table border=\"1\" class=\"dataframe\">\n",
       "  <thead>\n",
       "    <tr style=\"text-align: right;\">\n",
       "      <th></th>\n",
       "      <th>unvec</th>\n",
       "      <th>label</th>\n",
       "    </tr>\n",
       "  </thead>\n",
       "  <tbody>\n",
       "    <tr>\n",
       "      <th>190126</th>\n",
       "      <td>XXXX has claimed I owe them {$27.00} for XXXX ...</td>\n",
       "      <td>Debt collection</td>\n",
       "    </tr>\n",
       "    <tr>\n",
       "      <th>190135</th>\n",
       "      <td>Due to inconsistencies in the amount owed that...</td>\n",
       "      <td>Consumer Loan</td>\n",
       "    </tr>\n",
       "    <tr>\n",
       "      <th>190155</th>\n",
       "      <td>In XX/XX/XXXX my wages that I earned at my job...</td>\n",
       "      <td>Mortgage</td>\n",
       "    </tr>\n",
       "    <tr>\n",
       "      <th>190207</th>\n",
       "      <td>I have an open and current mortgage with Chase...</td>\n",
       "      <td>Mortgage</td>\n",
       "    </tr>\n",
       "    <tr>\n",
       "      <th>190208</th>\n",
       "      <td>XXXX was submitted XX/XX/XXXX. At the time I s...</td>\n",
       "      <td>Mortgage</td>\n",
       "    </tr>\n",
       "  </tbody>\n",
       "</table>\n",
       "</div>"
      ],
      "text/plain": [
       "                                                    unvec            label\n",
       "190126  XXXX has claimed I owe them {$27.00} for XXXX ...  Debt collection\n",
       "190135  Due to inconsistencies in the amount owed that...    Consumer Loan\n",
       "190155  In XX/XX/XXXX my wages that I earned at my job...         Mortgage\n",
       "190207  I have an open and current mortgage with Chase...         Mortgage\n",
       "190208  XXXX was submitted XX/XX/XXXX. At the time I s...         Mortgage"
      ]
     },
     "execution_count": 20,
     "metadata": {},
     "output_type": "execute_result"
    }
   ],
   "source": [
    "df.head()"
   ]
  },
  {
   "cell_type": "markdown",
   "id": "f4946ba2",
   "metadata": {},
   "source": [
    "## Sanitize text"
   ]
  },
  {
   "cell_type": "code",
   "execution_count": 21,
   "id": "4d7f1975",
   "metadata": {},
   "outputs": [],
   "source": [
    "df = clean_text_df(df)"
   ]
  },
  {
   "cell_type": "code",
   "execution_count": 22,
   "id": "12ff95ed",
   "metadata": {},
   "outputs": [
    {
     "name": "stdout",
     "output_type": "stream",
     "text": [
      "xxxx claimed owe xxxx year despite proof payment sent canceled check ownpaid invoice continue insist owe collection agency stop harassment bill already paid four year ago\n",
      "#####################\n",
      "due inconsistency amount owed told bank amount reported credit reporting agency advised write good letter order address issue request negative entry removed credit report together vehicle stolen declared total loss insurance company insurance company gap insurancw companypaid outstanding balance loan told bank still balance due loan good faith without received proof still balance made partial payment towards remaining debt sent goodwill letter still offering pay remainder debt exchange removal negative entry credit report one point xxxx per credit monitoring agency showed delinquent balance checked credit report xxxx xxxx delinquent balance monies gap insurance insurance company paid bank say still owe already paid contacted bank via return receipt mail given courtesy response yet\n",
      "#####################\n",
      "xxxxxxxx wage earned job decreased almost half xxxxxxxx knew trouble home loan began contacting wfb home loan assitance option early xxxxxxxx began loan modification process well fargo bank told would assist anything financial home loan fell day behind though time started inquire assistance wfb week behind began working program called xxxx approved variety assistence reached well fargo bank determine could assist well fargo turned assistance xxxx finally offered loan modification outcome totally unknow would offered end wfb assistance well fargo lost paperwork twice process took month time started time paperwork began processed kind approval xxxxxxxx trial period month payment based slightly modified amount roughly le paying original payment however caseworker wfb failed tell since payment time full amount original mortgage payment applied loan discovered xxxxxxxx told creditor xxxx could n't restore line credit something mortgage called found caseworker wfb told n't responsibility tell information told could told could come remaining amount payment would applied instead chose withhold information damage credit even month ( including day wfb told fall behind would help ) without applied payment home loan going month paperwork lost xxxx modification finalized loan modification n't go xxxxxxxx spoke lawyer working class action lawsuit wfb people similar situation said paper loss typical well fargo reduce interest rate reduce payment le payment behind went back loan property tax also fell behind escrow account time payment loan behind property tax damaged credit better payment situation give reason rejected xxxx assistance originally told approved agency later phone call well fargo bank told work program often wfb employee could understand would reject help also spoke xxxx said well fargo work program time could n't understand would feel taken advantage well fargo would like pursue legal action based negligence although payment back track making much money matter time something like happens something unforeseen happens life affect finance\n",
      "#####################\n",
      "open current mortgage chase bank xxxx chase reporting loan payment xxxx xxxx surpressing information reporting loan discharged bk mortgage reaffirmed chapter xxxx bk discharged dated xxxxxxxx chase keep referring bk law chapter xxxx keep providing documentation chapter xxxx account open current payment\n",
      "#####################\n",
      "xxxx submitted xxxxxxxx time submitted complaint dealt rushmore mortgage directly endeavoring get stop continuous daily call receiving trying collect mortgage responsible due bankruptcy denied knowledge bankruptcy even though spoken repeatedly written repeatedly referencing bankruptcy requesting cease pursuit continued unable trick paying force paying retaliation placed reported credit bureau past due mortgage amount discharged federal court xxxxxxxx rushmore responded referenced complaint indicating would remove reporting bureau yet still xxxxxxxx would like remove immediately send letter indicating first place going remove bureau rushmore speaking represented new note holder cfpb involved identified servicing agency xxxx xxxx xxxx credit bullying racial discrimination practice damaging anyone exposed tactic need stop denying intent walking away penalty kind one reason continues please assist procuring resolution\n",
      "#####################\n"
     ]
    }
   ],
   "source": [
    "for i in df['unvec'].head(5):\n",
    "    print(i)\n",
    "    print(\"#####################\")"
   ]
  },
  {
   "cell_type": "code",
   "execution_count": 23,
   "id": "2d5e76e9",
   "metadata": {},
   "outputs": [
    {
     "name": "stdout",
     "output_type": "stream",
     "text": [
      "Debt collection\n",
      "#####################\n",
      "Consumer Loan\n",
      "#####################\n",
      "Mortgage\n",
      "#####################\n",
      "Mortgage\n",
      "#####################\n",
      "Mortgage\n",
      "#####################\n"
     ]
    }
   ],
   "source": [
    "for i in df['label'].head(5):\n",
    "    print(i)\n",
    "    print(\"#####################\")"
   ]
  },
  {
   "cell_type": "markdown",
   "id": "dae7f1a7",
   "metadata": {},
   "source": [
    "## Stratified shuffle split data into training and test datasets"
   ]
  },
  {
   "cell_type": "code",
   "execution_count": 24,
   "id": "23c2f7c3",
   "metadata": {},
   "outputs": [],
   "source": [
    "# Use stratified shuffle split to keep same class proportions in train and test data.\n",
    "sss = StratifiedShuffleSplit(n_splits=2, test_size=0.2, random_state=2022)"
   ]
  },
  {
   "cell_type": "code",
   "execution_count": 25,
   "id": "76697a24",
   "metadata": {},
   "outputs": [],
   "source": [
    "for train_index, test_index  in sss.split(df, df['label']):\n",
    "    train_df = df.iloc[train_index]\n",
    "    test_df  = df.iloc[test_index]"
   ]
  },
  {
   "cell_type": "code",
   "execution_count": 26,
   "id": "b8559332",
   "metadata": {},
   "outputs": [
    {
     "data": {
      "text/html": [
       "<div>\n",
       "<style scoped>\n",
       "    .dataframe tbody tr th:only-of-type {\n",
       "        vertical-align: middle;\n",
       "    }\n",
       "\n",
       "    .dataframe tbody tr th {\n",
       "        vertical-align: top;\n",
       "    }\n",
       "\n",
       "    .dataframe thead th {\n",
       "        text-align: right;\n",
       "    }\n",
       "</style>\n",
       "<table border=\"1\" class=\"dataframe\">\n",
       "  <thead>\n",
       "    <tr style=\"text-align: right;\">\n",
       "      <th></th>\n",
       "      <th>unvec</th>\n",
       "      <th>label</th>\n",
       "      <th>len</th>\n",
       "    </tr>\n",
       "  </thead>\n",
       "  <tbody>\n",
       "    <tr>\n",
       "      <th>284037</th>\n",
       "      <td>nationstar mortgage let home owner 's insuranc...</td>\n",
       "      <td>Mortgage</td>\n",
       "      <td>167</td>\n",
       "    </tr>\n",
       "    <tr>\n",
       "      <th>289227</th>\n",
       "      <td>applied xxxx autoloan xxxx called first paymen...</td>\n",
       "      <td>Consumer Loan</td>\n",
       "      <td>202</td>\n",
       "    </tr>\n",
       "    <tr>\n",
       "      <th>287827</th>\n",
       "      <td>call ( lot different number every day ) every ...</td>\n",
       "      <td>Debt collection</td>\n",
       "      <td>151</td>\n",
       "    </tr>\n",
       "    <tr>\n",
       "      <th>316585</th>\n",
       "      <td>contacted reporting xxxx xxxx numerous time go...</td>\n",
       "      <td>Credit reporting</td>\n",
       "      <td>407</td>\n",
       "    </tr>\n",
       "    <tr>\n",
       "      <th>498787</th>\n",
       "      <td>saturday xxxx xxxx xxxx wife called well fargo...</td>\n",
       "      <td>Mortgage</td>\n",
       "      <td>1403</td>\n",
       "    </tr>\n",
       "  </tbody>\n",
       "</table>\n",
       "</div>"
      ],
      "text/plain": [
       "                                                    unvec             label  \\\n",
       "284037  nationstar mortgage let home owner 's insuranc...          Mortgage   \n",
       "289227  applied xxxx autoloan xxxx called first paymen...     Consumer Loan   \n",
       "287827  call ( lot different number every day ) every ...   Debt collection   \n",
       "316585  contacted reporting xxxx xxxx numerous time go...  Credit reporting   \n",
       "498787  saturday xxxx xxxx xxxx wife called well fargo...          Mortgage   \n",
       "\n",
       "         len  \n",
       "284037   167  \n",
       "289227   202  \n",
       "287827   151  \n",
       "316585   407  \n",
       "498787  1403  "
      ]
     },
     "execution_count": 26,
     "metadata": {},
     "output_type": "execute_result"
    }
   ],
   "source": [
    "train_df.head()"
   ]
  },
  {
   "cell_type": "code",
   "execution_count": 27,
   "id": "e686fc55",
   "metadata": {},
   "outputs": [
    {
     "data": {
      "text/html": [
       "<div>\n",
       "<style scoped>\n",
       "    .dataframe tbody tr th:only-of-type {\n",
       "        vertical-align: middle;\n",
       "    }\n",
       "\n",
       "    .dataframe tbody tr th {\n",
       "        vertical-align: top;\n",
       "    }\n",
       "\n",
       "    .dataframe thead th {\n",
       "        text-align: right;\n",
       "    }\n",
       "</style>\n",
       "<table border=\"1\" class=\"dataframe\">\n",
       "  <thead>\n",
       "    <tr style=\"text-align: right;\">\n",
       "      <th></th>\n",
       "      <th>unvec</th>\n",
       "      <th>label</th>\n",
       "      <th>len</th>\n",
       "    </tr>\n",
       "  </thead>\n",
       "  <tbody>\n",
       "    <tr>\n",
       "      <th>318689</th>\n",
       "      <td>vacated apartment purchase home xxxx xxxx ( co...</td>\n",
       "      <td>Debt collection</td>\n",
       "      <td>1078</td>\n",
       "    </tr>\n",
       "    <tr>\n",
       "      <th>268804</th>\n",
       "      <td>recently applied va home loan loan depot xxxx ...</td>\n",
       "      <td>Mortgage</td>\n",
       "      <td>891</td>\n",
       "    </tr>\n",
       "    <tr>\n",
       "      <th>491443</th>\n",
       "      <td>ocwen start calling first month prior payment ...</td>\n",
       "      <td>Debt collection</td>\n",
       "      <td>253</td>\n",
       "    </tr>\n",
       "    <tr>\n",
       "      <th>264312</th>\n",
       "      <td>public record xxxx xxxx xxxx superior docket x...</td>\n",
       "      <td>Credit reporting</td>\n",
       "      <td>552</td>\n",
       "    </tr>\n",
       "    <tr>\n",
       "      <th>324725</th>\n",
       "      <td>transunion allowed individual ( criminal ) usi...</td>\n",
       "      <td>Credit reporting</td>\n",
       "      <td>386</td>\n",
       "    </tr>\n",
       "  </tbody>\n",
       "</table>\n",
       "</div>"
      ],
      "text/plain": [
       "                                                    unvec             label  \\\n",
       "318689  vacated apartment purchase home xxxx xxxx ( co...   Debt collection   \n",
       "268804  recently applied va home loan loan depot xxxx ...          Mortgage   \n",
       "491443  ocwen start calling first month prior payment ...   Debt collection   \n",
       "264312  public record xxxx xxxx xxxx superior docket x...  Credit reporting   \n",
       "324725  transunion allowed individual ( criminal ) usi...  Credit reporting   \n",
       "\n",
       "         len  \n",
       "318689  1078  \n",
       "268804   891  \n",
       "491443   253  \n",
       "264312   552  \n",
       "324725   386  "
      ]
     },
     "execution_count": 27,
     "metadata": {},
     "output_type": "execute_result"
    }
   ],
   "source": [
    "test_df.head()"
   ]
  },
  {
   "cell_type": "code",
   "execution_count": 28,
   "id": "079d9515",
   "metadata": {},
   "outputs": [
    {
     "data": {
      "text/plain": [
       "53444"
      ]
     },
     "execution_count": 28,
     "metadata": {},
     "output_type": "execute_result"
    }
   ],
   "source": [
    "len(train_df)"
   ]
  },
  {
   "cell_type": "code",
   "execution_count": 29,
   "id": "177088ba",
   "metadata": {},
   "outputs": [
    {
     "data": {
      "text/plain": [
       "13362"
      ]
     },
     "execution_count": 29,
     "metadata": {},
     "output_type": "execute_result"
    }
   ],
   "source": [
    "len(test_df)"
   ]
  },
  {
   "cell_type": "code",
   "execution_count": 30,
   "id": "908ba7c3",
   "metadata": {},
   "outputs": [
    {
     "name": "stdout",
     "output_type": "stream",
     "text": [
      "0.20001197497230788\n"
     ]
    }
   ],
   "source": [
    "test_prop = len(test_df) / (len(test_df) + len(train_df))\n",
    "print(test_prop)"
   ]
  },
  {
   "cell_type": "code",
   "execution_count": 31,
   "id": "1e333449",
   "metadata": {},
   "outputs": [
    {
     "name": "stdout",
     "output_type": "stream",
     "text": [
      "Debt collection            14041\n",
      "Mortgage                   11935\n",
      "Credit reporting           10021\n",
      "Credit card                 6343\n",
      "Bank account or service     4569\n",
      "Consumer Loan               2942\n",
      "Student loan                1702\n",
      "Prepaid card                 689\n",
      "Payday loan                  581\n",
      "Money transfers              533\n",
      "Other financial service       88\n",
      "Name: label, dtype: int64\n"
     ]
    }
   ],
   "source": [
    "product_train_df = train_df['label'].value_counts()\n",
    "print(product_train_df)"
   ]
  },
  {
   "cell_type": "code",
   "execution_count": 32,
   "id": "a649dd10",
   "metadata": {
    "scrolled": false
   },
   "outputs": [
    {
     "name": "stderr",
     "output_type": "stream",
     "text": [
      "c:\\Users\\schellr2\\Anaconda3\\lib\\site-packages\\seaborn\\_decorators.py:36: FutureWarning: Pass the following variables as keyword args: x, y. From version 0.12, the only valid positional argument will be `data`, and passing other arguments without an explicit keyword will result in an error or misinterpretation.\n",
      "  warnings.warn(\n"
     ]
    },
    {
     "data": {
      "image/png": "[encoded data removed]",
      "text/plain": [
       "<Figure size 864x288 with 1 Axes>"
      ]
     },
     "metadata": {
      "needs_background": "light"
     },
     "output_type": "display_data"
    }
   ],
   "source": [
    "plt.figure(figsize=(12,4))\n",
    "sns.barplot(product_train_df.index, product_train_df.values, alpha=0.8)\n",
    "plt.title('Barplot - Product Categories for Training Dataset')\n",
    "plt.ylabel('Number of Occurrences', fontsize=12)\n",
    "plt.xlabel('Product', fontsize=12)\n",
    "plt.xticks(rotation=30)\n",
    "plt.show()"
   ]
  },
  {
   "cell_type": "code",
   "execution_count": 33,
   "id": "66452ecb",
   "metadata": {},
   "outputs": [
    {
     "name": "stdout",
     "output_type": "stream",
     "text": [
      "Debt collection            3511\n",
      "Mortgage                   2984\n",
      "Credit reporting           2505\n",
      "Credit card                1586\n",
      "Bank account or service    1142\n",
      "Consumer Loan               736\n",
      "Student loan                426\n",
      "Prepaid card                172\n",
      "Payday loan                 145\n",
      "Money transfers             133\n",
      "Other financial service      22\n",
      "Name: label, dtype: int64\n"
     ]
    }
   ],
   "source": [
    "product_test_df = test_df['label'].value_counts()\n",
    "print(product_test_df)"
   ]
  },
  {
   "cell_type": "code",
   "execution_count": 34,
   "id": "a649dd10",
   "metadata": {
    "scrolled": false
   },
   "outputs": [
    {
     "name": "stderr",
     "output_type": "stream",
     "text": [
      "c:\\Users\\schellr2\\Anaconda3\\lib\\site-packages\\seaborn\\_decorators.py:36: FutureWarning: Pass the following variables as keyword args: x, y. From version 0.12, the only valid positional argument will be `data`, and passing other arguments without an explicit keyword will result in an error or misinterpretation.\n",
      "  warnings.warn(\n"
     ]
    },
    {
     "data": {
      "image/png": "[encoded data removed]",
      "text/plain": [
       "<Figure size 864x288 with 1 Axes>"
      ]
     },
     "metadata": {
      "needs_background": "light"
     },
     "output_type": "display_data"
    }
   ],
   "source": [
    "plt.figure(figsize=(12,4))\n",
    "sns.barplot(product_test_df.index, product_test_df.values, alpha=0.8)\n",
    "plt.title('Barplot - Product Categories for Test Dataset')\n",
    "plt.ylabel('Number of Occurrences', fontsize=12)\n",
    "plt.xlabel('Product', fontsize=12)\n",
    "plt.xticks(rotation=30)\n",
    "plt.show()"
   ]
  },
  {
   "cell_type": "markdown",
   "id": "953f38ae",
   "metadata": {},
   "source": [
    "- ### Similar class labels proportions in both train and test datasets by using StratifiedShuffleSplit."
   ]
  },
  {
   "cell_type": "code",
   "execution_count": 35,
   "id": "92fa2416",
   "metadata": {},
   "outputs": [
    {
     "name": "stderr",
     "output_type": "stream",
     "text": [
      "C:\\Users\\schellr2\\AppData\\Local\\Temp\\ipykernel_79148\\33861037.py:2: SettingWithCopyWarning: \n",
      "A value is trying to be set on a copy of a slice from a DataFrame.\n",
      "Try using .loc[row_indexer,col_indexer] = value instead\n",
      "\n",
      "See the caveats in the documentation: https://pandas.pydata.org/pandas-docs/stable/user_guide/indexing.html#returning-a-view-versus-a-copy\n",
      "  train_df['target'] = train_df['label'].astype('category').cat.codes  ## better way to factorize product code to categorical IDs\n",
      "C:\\Users\\schellr2\\AppData\\Local\\Temp\\ipykernel_79148\\33861037.py:3: SettingWithCopyWarning: \n",
      "A value is trying to be set on a copy of a slice from a DataFrame.\n",
      "Try using .loc[row_indexer,col_indexer] = value instead\n",
      "\n",
      "See the caveats in the documentation: https://pandas.pydata.org/pandas-docs/stable/user_guide/indexing.html#returning-a-view-versus-a-copy\n",
      "  test_df['target'] = test_df['label'].astype('category').cat.codes\n"
     ]
    }
   ],
   "source": [
    "# Factorize label to target\n",
    "train_df['target'] = train_df['label'].astype('category').cat.codes  ## better way to factorize product code to categorical IDs\n",
    "test_df['target'] = test_df['label'].astype('category').cat.codes"
   ]
  },
  {
   "cell_type": "code",
   "execution_count": 36,
   "id": "0298a767",
   "metadata": {},
   "outputs": [],
   "source": [
    "train_tagged = train_df.apply(\n",
    "    lambda r: TaggedDocument(words=tokenize_text(r['unvec']), tags=[r['target']]), axis=1)\n",
    "test_tagged = test_df.apply(\n",
    "    lambda r: TaggedDocument(words=tokenize_text(r['unvec']), tags=[r['target']]), axis=1)"
   ]
  },
  {
   "cell_type": "code",
   "execution_count": 37,
   "id": "5a68eff4",
   "metadata": {},
   "outputs": [
    {
     "data": {
      "text/plain": [
       "TaggedDocument(words=['process', 'closing', 'home', 'loan', 'instructed', 'pay', 'account', 'contact', 'southern', 'management', 'system', 'talk', 'xxxx', 'xxxx', 'xxxx', 'lady', 'pick', 'phone', 'came', 'agreement', 'pay', 'debt', 'first', 'wanted', 'assure', 'give', 'offer', 'letter', 'letter', 'paid', 'debt', 'payment', 'processed', 'upon', 'requesting', 'document', 'xxxx', 'xxxx', \"'s\", 'professionalism', 'left', 'began', 'extremely', 'rude', 'said', 'sending', 'anything', \"n't\", 'like', 'bad', 'back', 'forth', 'moment', 'hung', 'tried', 'resolve', 'issue', 'never', 'call', 'back', 'also', 'asked', 'could', 'verify', 'debt', 'refused', 'could', 'well', 'hurt', 'approval', 'loan', 'trying', 'pay', 'wont', 'work'], tags=[4])"
      ]
     },
     "execution_count": 37,
     "metadata": {},
     "output_type": "execute_result"
    }
   ],
   "source": [
    "train_tagged.values[100]"
   ]
  },
  {
   "cell_type": "code",
   "execution_count": 38,
   "id": "31c4d5b8",
   "metadata": {},
   "outputs": [
    {
     "data": {
      "text/plain": [
       "TaggedDocument(words=['credit', 'indebtedness', 'satisfied', 'yet', 'credit', 'card', 'company', 'reluctant', 'remove', 'change', 'status', 'credit', 'report'], tags=[3])"
      ]
     },
     "execution_count": 38,
     "metadata": {},
     "output_type": "execute_result"
    }
   ],
   "source": [
    "test_tagged.values[100]"
   ]
  },
  {
   "cell_type": "code",
   "execution_count": 39,
   "id": "55acf789",
   "metadata": {},
   "outputs": [
    {
     "name": "stdout",
     "output_type": "stream",
     "text": [
      "12\n"
     ]
    }
   ],
   "source": [
    "import multiprocessing\n",
    "cores = multiprocessing.cpu_count()\n",
    "print(cores)"
   ]
  },
  {
   "cell_type": "code",
   "execution_count": 40,
   "id": "fc6dae02",
   "metadata": {},
   "outputs": [],
   "source": [
    "# First make distributed Bag-of-Words model\n",
    "# create 300 dimension vectors\n",
    "model_dbow = Doc2Vec(\n",
    "    dm=0,             # 0 or 1 - 0 for distributed BOW that is like word2vec skipgram or 1 for distributed memory\n",
    "    vector_size=300,  # \n",
    "    min_count=2,      # ignores all words with total frq less than this\n",
    "    #negative=5,       # specifies how many noisy words to draw out\n",
    "    workers=cores\n",
    ")"
   ]
  },
  {
   "cell_type": "code",
   "execution_count": 41,
   "id": "de231813",
   "metadata": {},
   "outputs": [],
   "source": [
    "# Also make distributed Memory model\n",
    "# Also create 300 dimension vectors\n",
    "model_dm = Doc2Vec(\n",
    "    dm=1,             # 0 or 1 - 0 for distributed BOW that is like word2vec skipgram or 1 for distributed memory\n",
    "    vector_size=300,  # \n",
    "    min_count=2,      # ignores all words with total frq less than this\n",
    "    #negative=5,       # specifies how many noisy words to draw out\n",
    "    workers=cores\n",
    ")"
   ]
  },
  {
   "cell_type": "code",
   "execution_count": 42,
   "id": "9b49dc44",
   "metadata": {},
   "outputs": [
    {
     "name": "stderr",
     "output_type": "stream",
     "text": [
      "100%|██████████| 53444/53444 [00:00<00:00, 3250774.16it/s]\n"
     ]
    }
   ],
   "source": [
    "model_dbow.build_vocab([x for x in tqdm(train_tagged.values)])"
   ]
  },
  {
   "cell_type": "code",
   "execution_count": 43,
   "id": "1d6811af",
   "metadata": {},
   "outputs": [
    {
     "name": "stderr",
     "output_type": "stream",
     "text": [
      "100%|██████████| 53444/53444 [00:00<00:00, 7356515.47it/s]\n",
      "100%|██████████| 53444/53444 [00:00<00:00, 3335769.62it/s]\n",
      "100%|██████████| 53444/53444 [00:00<00:00, 6680586.01it/s]\n",
      "100%|██████████| 53444/53444 [00:00<00:00, 6682577.60it/s]\n",
      "100%|██████████| 53444/53444 [00:00<00:00, 6682577.60it/s]\n",
      "100%|██████████| 53444/53444 [00:00<00:00, 3244704.10it/s]\n",
      "100%|██████████| 53444/53444 [00:00<00:00, 6681581.66it/s]\n",
      "100%|██████████| 53444/53444 [00:00<00:00, 2553050.45it/s]\n",
      "100%|██████████| 53444/53444 [00:00<00:00, 2784428.08it/s]\n",
      "100%|██████████| 53444/53444 [00:00<00:00, 6668462.98it/s]\n",
      "100%|██████████| 53444/53444 [00:00<00:00, 6679590.66it/s]\n",
      "100%|██████████| 53444/53444 [00:00<00:00, 3338203.77it/s]\n",
      "100%|██████████| 53444/53444 [00:00<00:00, 6683773.12it/s]\n",
      "100%|██████████| 53444/53444 [00:00<00:00, 6680785.12it/s]\n",
      "100%|██████████| 53444/53444 [00:00<00:00, 6683773.12it/s]\n",
      "100%|██████████| 53444/53444 [00:00<00:00, 6668462.98it/s]\n",
      "100%|██████████| 53444/53444 [00:00<00:00, 19682183.07it/s]\n",
      "100%|██████████| 53444/53444 [00:00<00:00, 6677600.85it/s]\n",
      "100%|██████████| 53444/53444 [00:00<00:00, 6692153.78it/s]\n",
      "100%|██████████| 53444/53444 [00:00<00:00, 6682179.19it/s]\n",
      "100%|██████████| 53444/53444 [00:00<00:00, 6598774.89it/s]\n",
      "100%|██████████| 53444/53444 [00:00<00:00, 3330318.13it/s]\n",
      "100%|██████████| 53444/53444 [00:00<00:00, 6669851.91it/s]\n",
      "100%|██████████| 53444/53444 [00:00<00:00, 3320599.40it/s]\n",
      "100%|██████████| 53444/53444 [00:00<00:00, 6672432.89it/s]\n",
      "100%|██████████| 53444/53444 [00:00<00:00, 3016476.25it/s]\n",
      "100%|██████████| 53444/53444 [00:00<00:00, 6672432.89it/s]\n",
      "100%|██████████| 53444/53444 [00:00<00:00, 3164632.06it/s]\n",
      "100%|██████████| 53444/53444 [00:00<00:00, 3338850.16it/s]\n",
      "100%|██████████| 53444/53444 [00:00<00:00, 6646712.62it/s]\n"
     ]
    },
    {
     "name": "stdout",
     "output_type": "stream",
     "text": [
      "CPU times: total: 4min 11s\n",
      "Wall time: 1min 37s\n"
     ]
    }
   ],
   "source": [
    "%%time\n",
    "for epoch in range(30):\n",
    "    model_dbow.train(shuffle([x for x in tqdm(train_tagged.values)]), total_examples=len(train_tagged.values), epochs=1)\n",
    "    model_dbow.alpha -= 0.002\n",
    "    model_dbow.min_alpha = model_dbow.alpha"
   ]
  },
  {
   "cell_type": "code",
   "execution_count": 44,
   "id": "b9c23ac8",
   "metadata": {},
   "outputs": [
    {
     "name": "stderr",
     "output_type": "stream",
     "text": [
      "100%|██████████| 53444/53444 [00:00<00:00, 3143463.51it/s]\n"
     ]
    }
   ],
   "source": [
    "model_dm.build_vocab([x for x in tqdm(train_tagged.values)])"
   ]
  },
  {
   "cell_type": "code",
   "execution_count": 45,
   "id": "8cfddc62",
   "metadata": {},
   "outputs": [
    {
     "name": "stderr",
     "output_type": "stream",
     "text": [
      "100%|██████████| 53444/53444 [00:00<00:00, 5944322.01it/s]\n",
      "100%|██████████| 53444/53444 [00:00<00:00, 6546740.16it/s]\n",
      "100%|██████████| 53444/53444 [00:00<00:00, 6381063.59it/s]\n",
      "100%|██████████| 53444/53444 [00:00<00:00, 6675214.64it/s]\n",
      "100%|██████████| 53444/53444 [00:00<00:00, 6681780.82it/s]\n",
      "100%|██████████| 53444/53444 [00:00<00:00, 6673028.79it/s]\n",
      "100%|██████████| 53444/53444 [00:00<00:00, 6451586.79it/s]\n",
      "100%|██████████| 53444/53444 [00:00<00:00, 3338551.79it/s]\n",
      "100%|██████████| 53444/53444 [00:00<00:00, 6674419.62it/s]\n",
      "100%|██████████| 53444/53444 [00:00<00:00, 6687362.26it/s]\n",
      "100%|██████████| 53444/53444 [00:00<00:00, 3077435.24it/s]\n",
      "100%|██████████| 53444/53444 [00:00<00:00, 6688559.50it/s]\n",
      "100%|██████████| 53444/53444 [00:00<00:00, 6637855.58it/s]\n",
      "100%|██████████| 53444/53444 [00:00<00:00, 5685453.70it/s]\n",
      "100%|██████████| 53444/53444 [00:00<00:00, 6672035.69it/s]\n",
      "100%|██████████| 53444/53444 [00:00<00:00, 6317046.16it/s]\n",
      "100%|██████████| 53444/53444 [00:00<00:00, 6682179.19it/s]\n",
      "100%|██████████| 53444/53444 [00:00<00:00, 6682577.60it/s]\n",
      "100%|██████████| 53444/53444 [00:00<00:00, 6670050.38it/s]\n",
      "100%|██████████| 53444/53444 [00:00<00:00, 2240058.19it/s]\n",
      "100%|██████████| 53444/53444 [00:00<00:00, 6539291.78it/s]\n",
      "100%|██████████| 53444/53444 [00:00<00:00, 4134198.61it/s]\n",
      "100%|██████████| 53444/53444 [00:00<00:00, 6233950.25it/s]\n",
      "100%|██████████| 53444/53444 [00:00<00:00, 6684969.07it/s]\n",
      "100%|██████████| 53444/53444 [00:00<00:00, 6662318.94it/s]\n",
      "100%|██████████| 53444/53444 [00:00<00:00, 6669653.46it/s]\n",
      "100%|██████████| 53444/53444 [00:00<00:00, 6669851.91it/s]\n",
      "100%|██████████| 53444/53444 [00:00<00:00, 3339049.10it/s]\n",
      "100%|██████████| 53444/53444 [00:00<00:00, 6672234.28it/s]\n",
      "100%|██████████| 53444/53444 [00:00<00:00, 5974583.09it/s]\n"
     ]
    },
    {
     "name": "stdout",
     "output_type": "stream",
     "text": [
      "CPU times: total: 6min 52s\n",
      "Wall time: 3min 9s\n"
     ]
    }
   ],
   "source": [
    "%%time\n",
    "for epoch in range(30):\n",
    "    model_dm.train(shuffle([x for x in tqdm(train_tagged.values)]), total_examples=len(train_tagged.values), epochs=1)\n",
    "    model_dm.alpha -= 0.002\n",
    "    model_dm.min_alpha = model_dm.alpha"
   ]
  },
  {
   "cell_type": "code",
   "execution_count": 46,
   "id": "50ead127",
   "metadata": {},
   "outputs": [],
   "source": [
    "# Output targets and regressors from user-defined vec_for_learning function - dBOW model\n",
    "y_train_dbow, X_train_dbow = vec_for_learning(model_dbow, train_tagged)\n",
    "y_test_dbow, X_test_dbow = vec_for_learning(model_dbow, test_tagged)"
   ]
  },
  {
   "cell_type": "code",
   "execution_count": 47,
   "id": "a2d43096",
   "metadata": {},
   "outputs": [
    {
     "name": "stdout",
     "output_type": "stream",
     "text": [
      "Testing accuracy 0.3622212243676096\n",
      "Testing f1 score 0.31431942515078626\n"
     ]
    },
    {
     "data": {
      "text/html": [
       "<div>\n",
       "<style scoped>\n",
       "    .dataframe tbody tr th:only-of-type {\n",
       "        vertical-align: middle;\n",
       "    }\n",
       "\n",
       "    .dataframe tbody tr th {\n",
       "        vertical-align: top;\n",
       "    }\n",
       "\n",
       "    .dataframe thead th {\n",
       "        text-align: right;\n",
       "    }\n",
       "</style>\n",
       "<table border=\"1\" class=\"dataframe\">\n",
       "  <thead>\n",
       "    <tr style=\"text-align: right;\">\n",
       "      <th></th>\n",
       "      <th>precision</th>\n",
       "      <th>recall</th>\n",
       "      <th>f1-score</th>\n",
       "      <th>support</th>\n",
       "    </tr>\n",
       "  </thead>\n",
       "  <tbody>\n",
       "    <tr>\n",
       "      <th>0</th>\n",
       "      <td>0.294355</td>\n",
       "      <td>0.063923</td>\n",
       "      <td>0.105036</td>\n",
       "      <td>1142.000000</td>\n",
       "    </tr>\n",
       "    <tr>\n",
       "      <th>1</th>\n",
       "      <td>0.450000</td>\n",
       "      <td>0.012228</td>\n",
       "      <td>0.023810</td>\n",
       "      <td>736.000000</td>\n",
       "    </tr>\n",
       "    <tr>\n",
       "      <th>2</th>\n",
       "      <td>0.296073</td>\n",
       "      <td>0.123581</td>\n",
       "      <td>0.174377</td>\n",
       "      <td>1586.000000</td>\n",
       "    </tr>\n",
       "    <tr>\n",
       "      <th>3</th>\n",
       "      <td>0.376898</td>\n",
       "      <td>0.326946</td>\n",
       "      <td>0.350150</td>\n",
       "      <td>2505.000000</td>\n",
       "    </tr>\n",
       "    <tr>\n",
       "      <th>4</th>\n",
       "      <td>0.368813</td>\n",
       "      <td>0.564512</td>\n",
       "      <td>0.446145</td>\n",
       "      <td>3511.000000</td>\n",
       "    </tr>\n",
       "    <tr>\n",
       "      <th>5</th>\n",
       "      <td>1.000000</td>\n",
       "      <td>0.000000</td>\n",
       "      <td>0.000000</td>\n",
       "      <td>133.000000</td>\n",
       "    </tr>\n",
       "    <tr>\n",
       "      <th>6</th>\n",
       "      <td>0.360558</td>\n",
       "      <td>0.588807</td>\n",
       "      <td>0.447244</td>\n",
       "      <td>2984.000000</td>\n",
       "    </tr>\n",
       "    <tr>\n",
       "      <th>7</th>\n",
       "      <td>1.000000</td>\n",
       "      <td>0.000000</td>\n",
       "      <td>0.000000</td>\n",
       "      <td>22.000000</td>\n",
       "    </tr>\n",
       "    <tr>\n",
       "      <th>8</th>\n",
       "      <td>1.000000</td>\n",
       "      <td>0.000000</td>\n",
       "      <td>0.000000</td>\n",
       "      <td>145.000000</td>\n",
       "    </tr>\n",
       "    <tr>\n",
       "      <th>9</th>\n",
       "      <td>1.000000</td>\n",
       "      <td>0.000000</td>\n",
       "      <td>0.000000</td>\n",
       "      <td>172.000000</td>\n",
       "    </tr>\n",
       "    <tr>\n",
       "      <th>10</th>\n",
       "      <td>0.333333</td>\n",
       "      <td>0.009390</td>\n",
       "      <td>0.018265</td>\n",
       "      <td>426.000000</td>\n",
       "    </tr>\n",
       "    <tr>\n",
       "      <th>accuracy</th>\n",
       "      <td>0.362221</td>\n",
       "      <td>0.362221</td>\n",
       "      <td>0.362221</td>\n",
       "      <td>0.362221</td>\n",
       "    </tr>\n",
       "    <tr>\n",
       "      <th>macro avg</th>\n",
       "      <td>0.589094</td>\n",
       "      <td>0.153581</td>\n",
       "      <td>0.142275</td>\n",
       "      <td>13362.000000</td>\n",
       "    </tr>\n",
       "    <tr>\n",
       "      <th>weighted avg</th>\n",
       "      <td>0.379125</td>\n",
       "      <td>0.362221</td>\n",
       "      <td>0.314319</td>\n",
       "      <td>13362.000000</td>\n",
       "    </tr>\n",
       "  </tbody>\n",
       "</table>\n",
       "</div>"
      ],
      "text/plain": [
       "              precision    recall  f1-score       support\n",
       "0              0.294355  0.063923  0.105036   1142.000000\n",
       "1              0.450000  0.012228  0.023810    736.000000\n",
       "2              0.296073  0.123581  0.174377   1586.000000\n",
       "3              0.376898  0.326946  0.350150   2505.000000\n",
       "4              0.368813  0.564512  0.446145   3511.000000\n",
       "5              1.000000  0.000000  0.000000    133.000000\n",
       "6              0.360558  0.588807  0.447244   2984.000000\n",
       "7              1.000000  0.000000  0.000000     22.000000\n",
       "8              1.000000  0.000000  0.000000    145.000000\n",
       "9              1.000000  0.000000  0.000000    172.000000\n",
       "10             0.333333  0.009390  0.018265    426.000000\n",
       "accuracy       0.362221  0.362221  0.362221      0.362221\n",
       "macro avg      0.589094  0.153581  0.142275  13362.000000\n",
       "weighted avg   0.379125  0.362221  0.314319  13362.000000"
      ]
     },
     "execution_count": 47,
     "metadata": {},
     "output_type": "execute_result"
    }
   ],
   "source": [
    "# Baseline label classifier with logistic regression and minimal params - dBOW model\n",
    "\n",
    "logreg_dbow = LogisticRegression(\n",
    "    max_iter=10000,\n",
    "    random_state=2022,\n",
    ")\n",
    "\n",
    "logreg_dbow.fit(X_train_dbow, y_train_dbow)\n",
    "\n",
    "y_pred_dbow = logreg_dbow.predict(X_test_dbow)\n",
    "print('Testing accuracy %s' % accuracy_score(y_test_dbow, y_pred_dbow))\n",
    "print('Testing f1 score %s' % f1_score(y_test_dbow, y_pred_dbow, average='weighted'))\n",
    "cm_lr_dbow = confusion_matrix(y_test_dbow, y_pred_dbow) # can use to make heatmap\n",
    "cr_lr_dbow = pd.DataFrame(classification_report(y_test_dbow, y_pred_dbow, zero_division=1, output_dict=True)).T #, average= 'weighted')\n",
    "cr_lr_dbow"
   ]
  },
  {
   "cell_type": "code",
   "execution_count": 48,
   "id": "d2d118d3",
   "metadata": {},
   "outputs": [
    {
     "data": {
      "image/png": "[encoded data removed]",
      "text/plain": [
       "<Figure size 720x720 with 2 Axes>"
      ]
     },
     "metadata": {
      "needs_background": "light"
     },
     "output_type": "display_data"
    }
   ],
   "source": [
    "#Plotting the confusion matrix as heatmap\n",
    "plt.figure(figsize=(10,10))\n",
    "sns.heatmap(cm_lr_dbow, annot=True, cmap='viridis') #, ax=ax) #, cmap='crest')#, linewidth=.1)#, annot=True)\n",
    "plt.title('Confusion Matrix - Distributed BoW / Logistic Regression Baseline Model')\n",
    "plt.ylabel('Actual Values')\n",
    "plt.xlabel('Predicted Values')\n",
    "plt.show()"
   ]
  },
  {
   "cell_type": "code",
   "execution_count": 49,
   "id": "f42c8411",
   "metadata": {},
   "outputs": [],
   "source": [
    "# Output targets and regressors from user-defined vec_for_learning function - dm model\n",
    "y_train_dm, X_train_dm = vec_for_learning(model_dm, train_tagged)\n",
    "y_test_dm, X_test_dm = vec_for_learning(model_dm, test_tagged)"
   ]
  },
  {
   "cell_type": "code",
   "execution_count": 50,
   "id": "f30eee45",
   "metadata": {},
   "outputs": [
    {
     "name": "stdout",
     "output_type": "stream",
     "text": [
      "Testing accuracy 0.6986229606346356\n",
      "Testing f1 score 0.6863170902725051\n"
     ]
    },
    {
     "data": {
      "text/html": [
       "<div>\n",
       "<style scoped>\n",
       "    .dataframe tbody tr th:only-of-type {\n",
       "        vertical-align: middle;\n",
       "    }\n",
       "\n",
       "    .dataframe tbody tr th {\n",
       "        vertical-align: top;\n",
       "    }\n",
       "\n",
       "    .dataframe thead th {\n",
       "        text-align: right;\n",
       "    }\n",
       "</style>\n",
       "<table border=\"1\" class=\"dataframe\">\n",
       "  <thead>\n",
       "    <tr style=\"text-align: right;\">\n",
       "      <th></th>\n",
       "      <th>precision</th>\n",
       "      <th>recall</th>\n",
       "      <th>f1-score</th>\n",
       "      <th>support</th>\n",
       "    </tr>\n",
       "  </thead>\n",
       "  <tbody>\n",
       "    <tr>\n",
       "      <th>0</th>\n",
       "      <td>0.749100</td>\n",
       "      <td>0.546410</td>\n",
       "      <td>0.631899</td>\n",
       "      <td>1142.000000</td>\n",
       "    </tr>\n",
       "    <tr>\n",
       "      <th>1</th>\n",
       "      <td>0.737265</td>\n",
       "      <td>0.373641</td>\n",
       "      <td>0.495942</td>\n",
       "      <td>736.000000</td>\n",
       "    </tr>\n",
       "    <tr>\n",
       "      <th>2</th>\n",
       "      <td>0.661388</td>\n",
       "      <td>0.552963</td>\n",
       "      <td>0.602335</td>\n",
       "      <td>1586.000000</td>\n",
       "    </tr>\n",
       "    <tr>\n",
       "      <th>3</th>\n",
       "      <td>0.662491</td>\n",
       "      <td>0.760080</td>\n",
       "      <td>0.707938</td>\n",
       "      <td>2505.000000</td>\n",
       "    </tr>\n",
       "    <tr>\n",
       "      <th>4</th>\n",
       "      <td>0.630054</td>\n",
       "      <td>0.829963</td>\n",
       "      <td>0.716323</td>\n",
       "      <td>3511.000000</td>\n",
       "    </tr>\n",
       "    <tr>\n",
       "      <th>5</th>\n",
       "      <td>0.545455</td>\n",
       "      <td>0.135338</td>\n",
       "      <td>0.216867</td>\n",
       "      <td>133.000000</td>\n",
       "    </tr>\n",
       "    <tr>\n",
       "      <th>6</th>\n",
       "      <td>0.826729</td>\n",
       "      <td>0.825067</td>\n",
       "      <td>0.825897</td>\n",
       "      <td>2984.000000</td>\n",
       "    </tr>\n",
       "    <tr>\n",
       "      <th>7</th>\n",
       "      <td>0.000000</td>\n",
       "      <td>0.000000</td>\n",
       "      <td>0.000000</td>\n",
       "      <td>22.000000</td>\n",
       "    </tr>\n",
       "    <tr>\n",
       "      <th>8</th>\n",
       "      <td>0.571429</td>\n",
       "      <td>0.055172</td>\n",
       "      <td>0.100629</td>\n",
       "      <td>145.000000</td>\n",
       "    </tr>\n",
       "    <tr>\n",
       "      <th>9</th>\n",
       "      <td>0.738462</td>\n",
       "      <td>0.279070</td>\n",
       "      <td>0.405063</td>\n",
       "      <td>172.000000</td>\n",
       "    </tr>\n",
       "    <tr>\n",
       "      <th>10</th>\n",
       "      <td>0.857741</td>\n",
       "      <td>0.481221</td>\n",
       "      <td>0.616541</td>\n",
       "      <td>426.000000</td>\n",
       "    </tr>\n",
       "    <tr>\n",
       "      <th>accuracy</th>\n",
       "      <td>0.698623</td>\n",
       "      <td>0.698623</td>\n",
       "      <td>0.698623</td>\n",
       "      <td>0.698623</td>\n",
       "    </tr>\n",
       "    <tr>\n",
       "      <th>macro avg</th>\n",
       "      <td>0.634556</td>\n",
       "      <td>0.439902</td>\n",
       "      <td>0.483585</td>\n",
       "      <td>13362.000000</td>\n",
       "    </tr>\n",
       "    <tr>\n",
       "      <th>weighted avg</th>\n",
       "      <td>0.705994</td>\n",
       "      <td>0.698623</td>\n",
       "      <td>0.686317</td>\n",
       "      <td>13362.000000</td>\n",
       "    </tr>\n",
       "  </tbody>\n",
       "</table>\n",
       "</div>"
      ],
      "text/plain": [
       "              precision    recall  f1-score       support\n",
       "0              0.749100  0.546410  0.631899   1142.000000\n",
       "1              0.737265  0.373641  0.495942    736.000000\n",
       "2              0.661388  0.552963  0.602335   1586.000000\n",
       "3              0.662491  0.760080  0.707938   2505.000000\n",
       "4              0.630054  0.829963  0.716323   3511.000000\n",
       "5              0.545455  0.135338  0.216867    133.000000\n",
       "6              0.826729  0.825067  0.825897   2984.000000\n",
       "7              0.000000  0.000000  0.000000     22.000000\n",
       "8              0.571429  0.055172  0.100629    145.000000\n",
       "9              0.738462  0.279070  0.405063    172.000000\n",
       "10             0.857741  0.481221  0.616541    426.000000\n",
       "accuracy       0.698623  0.698623  0.698623      0.698623\n",
       "macro avg      0.634556  0.439902  0.483585  13362.000000\n",
       "weighted avg   0.705994  0.698623  0.686317  13362.000000"
      ]
     },
     "execution_count": 50,
     "metadata": {},
     "output_type": "execute_result"
    }
   ],
   "source": [
    "# Baseline label classifier with Logistic Regression and minimal params - dm model\n",
    "\n",
    "logreg_dm = LogisticRegression(\n",
    "    max_iter=10000,\n",
    "    random_state=2022,\n",
    ")\n",
    "\n",
    "logreg_dm.fit(X_train_dm, y_train_dm)\n",
    "\n",
    "y_pred_dm = logreg_dm.predict(X_test_dm)\n",
    "print('Testing accuracy %s' % accuracy_score(y_test_dm, y_pred_dm))\n",
    "print('Testing f1 score %s' % f1_score(y_test_dm, y_pred_dm, average='weighted'))\n",
    "cm_lr_dm = confusion_matrix(y_test_dm, y_pred_dm) # can use to make heatmap\n",
    "cr_lr_dm = pd.DataFrame(classification_report(y_test_dm, y_pred_dm, zero_division=1, output_dict=True)).T #, average= 'weighted')\n",
    "cr_lr_dm"
   ]
  },
  {
   "cell_type": "code",
   "execution_count": 51,
   "id": "26ba9597",
   "metadata": {},
   "outputs": [
    {
     "data": {
      "image/png": "[encoded data removed]",
      "text/plain": [
       "<Figure size 720x720 with 2 Axes>"
      ]
     },
     "metadata": {
      "needs_background": "light"
     },
     "output_type": "display_data"
    }
   ],
   "source": [
    "#Plotting the confusion matrix as heatmap\n",
    "plt.figure(figsize=(10,10))\n",
    "sns.heatmap(cm_lr_dm, annot=True, cmap='viridis') #, ax=ax) #, cmap='crest')#, linewidth=.1)#, annot=True)\n",
    "plt.title('Confusion Matrix - Distributed Memory / Logistic Regression Baseline Model')\n",
    "plt.ylabel('Actual Values')\n",
    "plt.xlabel('Predicted Values')\n",
    "plt.show()"
   ]
  },
  {
   "cell_type": "markdown",
   "id": "9f54abbf",
   "metadata": {},
   "source": [
    "- ### Distributed Memory (dm) model performs much better on baseline than Distributed Bag-of-Words (dbow) model.  Will utilize dm model for additional modeling\n",
    "- ### Baseline logistic regression with dm performs moderately well with accuracy and f1 score ~79%"
   ]
  },
  {
   "cell_type": "code",
   "execution_count": 52,
   "id": "3a24697b",
   "metadata": {},
   "outputs": [],
   "source": [
    "# Rename dm targets and regressors to drop 'dm' suffix\n",
    "y_train = y_train_dm\n",
    "X_train = X_train_dm\n",
    "y_test = y_test_dm \n",
    "X_test = X_test_dm"
   ]
  },
  {
   "cell_type": "markdown",
   "id": "42fb96cb",
   "metadata": {},
   "source": [
    "# Try hyperparameter optimization for the logistic regression model"
   ]
  },
  {
   "cell_type": "code",
   "execution_count": 53,
   "id": "364c0197",
   "metadata": {},
   "outputs": [],
   "source": [
    "# Optimize logistic regression classifier with optuna\n",
    "def log_objective(trial):\n",
    "    #penalty = trial.suggest_categorical(\"penalty\", [\"l2\", \"l1\", \"elasticnet\", \"none\"]) #use defaut l2 penalty\n",
    "    tol = trial.suggest_float(\"tol\", 0.0001, 0.0091, step=0.001, log=False)\n",
    "    C = trial.suggest_float(\"C\", 0.1, 1.0, step=0.1, log=False)\n",
    "    #fit_intercept = trial.suggest_categorical(\"fit_intercept\", [\"True\", \"False\"])\n",
    "    class_weight = trial.suggest_categorical(\"class_weight\", [\"balanced\", None])\n",
    "    solver = trial.suggest_categorical(\"solver\", [\"newton-cg\", \"lbfgs\", \"sag\", \"saga\"]) #\"liblinear\", \n",
    "    n_jobs = trial.suggest_int(\"n_jobs\", 1, 12, step=1, log=False)\n",
    "    #l1_ratio = trial.suggest_float(\"l1_ratio\", 0.1, 1.0, step=0.1, log=False) ## only used by elasticnet\n",
    "        \n",
    "    ## Create Model\n",
    "    log = LogisticRegression(tol=tol, C=C, class_weight=class_weight, solver=solver, \n",
    "                            max_iter=10000, multi_class = \"multinomial\", random_state = 2022) #fit_intercept=fit_intercept, l1_ratio=l1_ratio\n",
    "    ## Fit Model\n",
    "    log.fit(X_train, y_train)\n",
    "\n",
    "    return accuracy_score(y_test, log.predict(X_test))"
   ]
  },
  {
   "cell_type": "code",
   "execution_count": 54,
   "id": "00261bf9",
   "metadata": {},
   "outputs": [
    {
     "name": "stderr",
     "output_type": "stream",
     "text": [
      "\u001b[32m[I 2022-11-30 07:53:29,374]\u001b[0m A new study created in memory with name: Logistic Regression\u001b[0m\n",
      "\u001b[32m[I 2022-11-30 07:53:50,249]\u001b[0m Trial 0 finished with value: 0.6869480616674151 and parameters: {'tol': 0.0031, 'C': 0.4, 'class_weight': None, 'solver': 'newton-cg', 'n_jobs': 9}. Best is trial 0 with value: 0.6869480616674151.\u001b[0m\n",
      "\u001b[32m[I 2022-11-30 07:54:07,796]\u001b[0m Trial 1 finished with value: 0.6447388115551564 and parameters: {'tol': 0.0071, 'C': 1.0, 'class_weight': 'balanced', 'solver': 'sag', 'n_jobs': 3}. Best is trial 0 with value: 0.6869480616674151.\u001b[0m\n",
      "\u001b[32m[I 2022-11-30 07:54:28,785]\u001b[0m Trial 2 finished with value: 0.6445142942673252 and parameters: {'tol': 0.0031, 'C': 0.4, 'class_weight': 'balanced', 'solver': 'newton-cg', 'n_jobs': 2}. Best is trial 0 with value: 0.6869480616674151.\u001b[0m\n",
      "\u001b[32m[I 2022-11-30 07:54:51,446]\u001b[0m Trial 3 finished with value: 0.6866487052836402 and parameters: {'tol': 0.0061, 'C': 0.6, 'class_weight': None, 'solver': 'saga', 'n_jobs': 8}. Best is trial 0 with value: 0.6869480616674151.\u001b[0m\n",
      "\u001b[32m[I 2022-11-30 07:55:24,462]\u001b[0m Trial 4 finished with value: 0.6449633288429876 and parameters: {'tol': 0.0051, 'C': 1.0, 'class_weight': 'balanced', 'solver': 'saga', 'n_jobs': 6}. Best is trial 0 with value: 0.6869480616674151.\u001b[0m\n",
      "\u001b[32m[I 2022-11-30 07:55:47,042]\u001b[0m Trial 5 finished with value: 0.6751234845083072 and parameters: {'tol': 0.0001, 'C': 0.2, 'class_weight': None, 'solver': 'newton-cg', 'n_jobs': 7}. Best is trial 0 with value: 0.6869480616674151.\u001b[0m\n",
      "\u001b[32m[I 2022-11-30 07:56:07,885]\u001b[0m Trial 6 finished with value: 0.6932345457266876 and parameters: {'tol': 0.0001, 'C': 0.6, 'class_weight': None, 'solver': 'lbfgs', 'n_jobs': 6}. Best is trial 6 with value: 0.6932345457266876.\u001b[0m\n",
      "\u001b[32m[I 2022-11-30 07:56:23,845]\u001b[0m Trial 7 finished with value: 0.6335129471635983 and parameters: {'tol': 0.0081, 'C': 0.2, 'class_weight': 'balanced', 'solver': 'newton-cg', 'n_jobs': 4}. Best is trial 6 with value: 0.6932345457266876.\u001b[0m\n",
      "\u001b[32m[I 2022-11-30 07:56:40,307]\u001b[0m Trial 8 finished with value: 0.6445142942673252 and parameters: {'tol': 0.0001, 'C': 0.4, 'class_weight': 'balanced', 'solver': 'lbfgs', 'n_jobs': 11}. Best is trial 6 with value: 0.6932345457266876.\u001b[0m\n",
      "\u001b[32m[I 2022-11-30 07:56:58,552]\u001b[0m Trial 9 finished with value: 0.6952552013171681 and parameters: {'tol': 0.0051, 'C': 0.9, 'class_weight': None, 'solver': 'sag', 'n_jobs': 3}. Best is trial 9 with value: 0.6952552013171681.\u001b[0m\n"
     ]
    }
   ],
   "source": [
    "log_study = optuna.create_study(study_name=\"Logistic Regression\", direction=\"maximize\")\n",
    "log_study.optimize(log_objective, n_trials=10)"
   ]
  },
  {
   "cell_type": "code",
   "execution_count": 55,
   "id": "f58ccc16",
   "metadata": {},
   "outputs": [
    {
     "name": "stdout",
     "output_type": "stream",
     "text": [
      "Best Params: {'tol': 0.0051, 'C': 0.9, 'class_weight': None, 'solver': 'sag', 'n_jobs': 3}\n",
      "\n",
      "Best Accuracy: 0.6952552013171681\n"
     ]
    }
   ],
   "source": [
    "print(\"Best Params: {}\".format(log_study.best_params))\n",
    "print(\"\\nBest Accuracy: {}\".format(log_study.best_value))"
   ]
  },
  {
   "cell_type": "code",
   "execution_count": 56,
   "id": "d804fa19",
   "metadata": {},
   "outputs": [
    {
     "name": "stdout",
     "output_type": "stream",
     "text": [
      "Logistic Regression Accuracy on Train Dataset: 0.7553888182022304\n",
      "\n",
      "Logistic Regression Accuracy on Test Dataset: 0.6950306840293369\n",
      "#####################\n",
      "\n",
      "Logistic Regression F1 Score on Train Dataset: 0.747762474972267\n",
      "\n",
      "Logistic Regression F1 Score on Test Dataset: 0.6820642450592339\n"
     ]
    },
    {
     "data": {
      "text/html": [
       "<div>\n",
       "<style scoped>\n",
       "    .dataframe tbody tr th:only-of-type {\n",
       "        vertical-align: middle;\n",
       "    }\n",
       "\n",
       "    .dataframe tbody tr th {\n",
       "        vertical-align: top;\n",
       "    }\n",
       "\n",
       "    .dataframe thead th {\n",
       "        text-align: right;\n",
       "    }\n",
       "</style>\n",
       "<table border=\"1\" class=\"dataframe\">\n",
       "  <thead>\n",
       "    <tr style=\"text-align: right;\">\n",
       "      <th></th>\n",
       "      <th>precision</th>\n",
       "      <th>recall</th>\n",
       "      <th>f1-score</th>\n",
       "      <th>support</th>\n",
       "    </tr>\n",
       "  </thead>\n",
       "  <tbody>\n",
       "    <tr>\n",
       "      <th>0</th>\n",
       "      <td>0.758918</td>\n",
       "      <td>0.540280</td>\n",
       "      <td>0.631202</td>\n",
       "      <td>1142.000000</td>\n",
       "    </tr>\n",
       "    <tr>\n",
       "      <th>1</th>\n",
       "      <td>0.732044</td>\n",
       "      <td>0.360054</td>\n",
       "      <td>0.482696</td>\n",
       "      <td>736.000000</td>\n",
       "    </tr>\n",
       "    <tr>\n",
       "      <th>2</th>\n",
       "      <td>0.661388</td>\n",
       "      <td>0.552963</td>\n",
       "      <td>0.602335</td>\n",
       "      <td>1586.000000</td>\n",
       "    </tr>\n",
       "    <tr>\n",
       "      <th>3</th>\n",
       "      <td>0.659486</td>\n",
       "      <td>0.757685</td>\n",
       "      <td>0.705183</td>\n",
       "      <td>2505.000000</td>\n",
       "    </tr>\n",
       "    <tr>\n",
       "      <th>4</th>\n",
       "      <td>0.622066</td>\n",
       "      <td>0.830248</td>\n",
       "      <td>0.711236</td>\n",
       "      <td>3511.000000</td>\n",
       "    </tr>\n",
       "    <tr>\n",
       "      <th>5</th>\n",
       "      <td>0.566667</td>\n",
       "      <td>0.127820</td>\n",
       "      <td>0.208589</td>\n",
       "      <td>133.000000</td>\n",
       "    </tr>\n",
       "    <tr>\n",
       "      <th>6</th>\n",
       "      <td>0.825413</td>\n",
       "      <td>0.820710</td>\n",
       "      <td>0.823055</td>\n",
       "      <td>2984.000000</td>\n",
       "    </tr>\n",
       "    <tr>\n",
       "      <th>7</th>\n",
       "      <td>1.000000</td>\n",
       "      <td>0.000000</td>\n",
       "      <td>0.000000</td>\n",
       "      <td>22.000000</td>\n",
       "    </tr>\n",
       "    <tr>\n",
       "      <th>8</th>\n",
       "      <td>0.700000</td>\n",
       "      <td>0.048276</td>\n",
       "      <td>0.090323</td>\n",
       "      <td>145.000000</td>\n",
       "    </tr>\n",
       "    <tr>\n",
       "      <th>9</th>\n",
       "      <td>0.754386</td>\n",
       "      <td>0.250000</td>\n",
       "      <td>0.375546</td>\n",
       "      <td>172.000000</td>\n",
       "    </tr>\n",
       "    <tr>\n",
       "      <th>10</th>\n",
       "      <td>0.854077</td>\n",
       "      <td>0.467136</td>\n",
       "      <td>0.603945</td>\n",
       "      <td>426.000000</td>\n",
       "    </tr>\n",
       "    <tr>\n",
       "      <th>accuracy</th>\n",
       "      <td>0.695031</td>\n",
       "      <td>0.695031</td>\n",
       "      <td>0.695031</td>\n",
       "      <td>0.695031</td>\n",
       "    </tr>\n",
       "    <tr>\n",
       "      <th>macro avg</th>\n",
       "      <td>0.739495</td>\n",
       "      <td>0.432288</td>\n",
       "      <td>0.475828</td>\n",
       "      <td>13362.000000</td>\n",
       "    </tr>\n",
       "    <tr>\n",
       "      <th>weighted avg</th>\n",
       "      <td>0.706930</td>\n",
       "      <td>0.695031</td>\n",
       "      <td>0.682064</td>\n",
       "      <td>13362.000000</td>\n",
       "    </tr>\n",
       "  </tbody>\n",
       "</table>\n",
       "</div>"
      ],
      "text/plain": [
       "              precision    recall  f1-score       support\n",
       "0              0.758918  0.540280  0.631202   1142.000000\n",
       "1              0.732044  0.360054  0.482696    736.000000\n",
       "2              0.661388  0.552963  0.602335   1586.000000\n",
       "3              0.659486  0.757685  0.705183   2505.000000\n",
       "4              0.622066  0.830248  0.711236   3511.000000\n",
       "5              0.566667  0.127820  0.208589    133.000000\n",
       "6              0.825413  0.820710  0.823055   2984.000000\n",
       "7              1.000000  0.000000  0.000000     22.000000\n",
       "8              0.700000  0.048276  0.090323    145.000000\n",
       "9              0.754386  0.250000  0.375546    172.000000\n",
       "10             0.854077  0.467136  0.603945    426.000000\n",
       "accuracy       0.695031  0.695031  0.695031      0.695031\n",
       "macro avg      0.739495  0.432288  0.475828  13362.000000\n",
       "weighted avg   0.706930  0.695031  0.682064  13362.000000"
      ]
     },
     "execution_count": 56,
     "metadata": {},
     "output_type": "execute_result"
    }
   ],
   "source": [
    "log_clf = LogisticRegression(**log_study.best_params)\n",
    "log_clf.fit(X_train, y_train)\n",
    "\n",
    "y_pred_train = log_clf.predict(X_train)\n",
    "y_pred_test = log_clf.predict(X_test)\n",
    "\n",
    "log_train_acc = accuracy_score(y_train, y_pred_train)\n",
    "log_test_acc = accuracy_score(y_test, y_pred_test)\n",
    "\n",
    "log_train_f1 = f1_score(y_train, y_pred_train, average='weighted')\n",
    "log_test_f1 = f1_score(y_test, y_pred_test, average='weighted')\n",
    "\n",
    "print(\"Logistic Regression Accuracy on Train Dataset: {}\".format(log_train_acc))\n",
    "print(\"\\nLogistic Regression Accuracy on Test Dataset: {}\".format(log_test_acc))\n",
    "print(\"#####################\")\n",
    "print(\"\\nLogistic Regression F1 Score on Train Dataset: {}\".format(log_train_f1))\n",
    "print(\"\\nLogistic Regression F1 Score on Test Dataset: {}\".format(log_test_f1))\n",
    "\n",
    "# Create Test Confusion Matrix and Classification Report\n",
    "cm_log = confusion_matrix(y_test, y_pred_test) # can use to make heatmap\n",
    "cr_log = pd.DataFrame(classification_report(y_test, y_pred_test, zero_division=1, output_dict=True)).T #, average= 'weighted')\n",
    "cr_log"
   ]
  },
  {
   "cell_type": "code",
   "execution_count": 57,
   "id": "7423406c",
   "metadata": {},
   "outputs": [
    {
     "data": {
      "image/png": "[encoded data removed]",
      "text/plain": [
       "<Figure size 720x720 with 2 Axes>"
      ]
     },
     "metadata": {
      "needs_background": "light"
     },
     "output_type": "display_data"
    }
   ],
   "source": [
    "# Plotting the confusion matrix as heatmap\n",
    "plt.figure(figsize=(10,10))\n",
    "sns.heatmap(cm_log, annot=True, cmap='viridis') #, cmap='crest')#, linewidth=.1)#, annot=True)\n",
    "plt.title('Confusion Matrix - Logistic Regression Model')\n",
    "plt.ylabel('Actual Values')\n",
    "plt.xlabel('Predicted Values')\n",
    "plt.show()"
   ]
  },
  {
   "cell_type": "markdown",
   "id": "39a2dae8",
   "metadata": {},
   "source": [
    "- ### Hyperparameter optimization with Optuna did not exhibit much improvement for logistic regression classification accuracy and f1 score.\n",
    "- ### Slight evidence of overfitting with higher metrics on training data."
   ]
  },
  {
   "cell_type": "markdown",
   "id": "5065bb29",
   "metadata": {},
   "source": [
    "# Try other classification model types with hyperparameter optimization"
   ]
  },
  {
   "cell_type": "markdown",
   "id": "b91c3aac",
   "metadata": {},
   "source": [
    "## Passive Aggressive Classifier"
   ]
  },
  {
   "cell_type": "code",
   "execution_count": 60,
   "id": "99e74a72",
   "metadata": {},
   "outputs": [],
   "source": [
    "# Passive Aggressive Classifier needs scaling preprocessing for input data\n",
    "scaler = MinMaxScaler() #scaler = StandardScaler()\n",
    "X_scaled = scaler.fit_transform(X_train)\n",
    "\n",
    "# Optimize passive aggressive classifier with optuna\n",
    "def pac_objective(trial):\n",
    "    C = trial.suggest_float(\"C\", 0.1, 1.0, step=0.1, log=False)\n",
    "    tol = trial.suggest_float(\"tol\", 0.001, 0.01, step=0.001, log=False)\n",
    "    loss = trial.suggest_categorical(\"loss\", [\"hinge\", \"squared_hinge\"])\n",
    "    n_jobs = trial.suggest_int(\"n_jobs\", 1, 12, step=1, log=False)\n",
    "    class_weight = trial.suggest_categorical(\"class_weight\", [\"balanced\", None])\n",
    "            \n",
    "    ## Create Model\n",
    "    pac = PassiveAggressiveClassifier(C=C, tol=tol, loss=loss, n_jobs=n_jobs, \n",
    "                class_weight=class_weight, max_iter=10000, random_state = 2022) \n",
    "\n",
    "    ## Fit Model\n",
    "    pac.fit(X_scaled, y_train)\n",
    "\n",
    "    return accuracy_score(y_test, pac.predict(X_test))"
   ]
  },
  {
   "cell_type": "code",
   "execution_count": 61,
   "id": "00261bf9",
   "metadata": {},
   "outputs": [
    {
     "name": "stderr",
     "output_type": "stream",
     "text": [
      "\u001b[32m[I 2022-11-30 07:58:19,169]\u001b[0m A new study created in memory with name: Passive Aggressive Classifier\u001b[0m\n",
      "\u001b[32m[I 2022-11-30 07:58:21,155]\u001b[0m Trial 0 finished with value: 0.5778326597814698 and parameters: {'C': 0.1, 'tol': 0.002, 'loss': 'hinge', 'n_jobs': 9, 'class_weight': None}. Best is trial 0 with value: 0.5778326597814698.\u001b[0m\n",
      "\u001b[32m[I 2022-11-30 07:58:23,147]\u001b[0m Trial 1 finished with value: 0.5779823379733573 and parameters: {'C': 1.0, 'tol': 0.002, 'loss': 'squared_hinge', 'n_jobs': 11, 'class_weight': None}. Best is trial 1 with value: 0.5779823379733573.\u001b[0m\n",
      "\u001b[32m[I 2022-11-30 07:58:24,080]\u001b[0m Trial 2 finished with value: 0.5978895374943871 and parameters: {'C': 0.30000000000000004, 'tol': 0.007, 'loss': 'squared_hinge', 'n_jobs': 11, 'class_weight': None}. Best is trial 2 with value: 0.5978895374943871.\u001b[0m\n",
      "\u001b[32m[I 2022-11-30 07:58:25,932]\u001b[0m Trial 3 finished with value: 0.5777578206855262 and parameters: {'C': 0.5, 'tol': 0.002, 'loss': 'hinge', 'n_jobs': 10, 'class_weight': None}. Best is trial 2 with value: 0.5978895374943871.\u001b[0m\n",
      "\u001b[32m[I 2022-11-30 07:58:30,294]\u001b[0m Trial 4 finished with value: 0.5449782966621763 and parameters: {'C': 0.9, 'tol': 0.01, 'loss': 'hinge', 'n_jobs': 1, 'class_weight': 'balanced'}. Best is trial 2 with value: 0.5978895374943871.\u001b[0m\n",
      "\u001b[32m[I 2022-11-30 07:58:33,117]\u001b[0m Trial 5 finished with value: 0.59332435264182 and parameters: {'C': 0.5, 'tol': 0.006, 'loss': 'hinge', 'n_jobs': 2, 'class_weight': 'balanced'}. Best is trial 2 with value: 0.5978895374943871.\u001b[0m\n",
      "\u001b[32m[I 2022-11-30 07:58:34,348]\u001b[0m Trial 6 finished with value: 0.600883101332136 and parameters: {'C': 0.4, 'tol': 0.006, 'loss': 'squared_hinge', 'n_jobs': 6, 'class_weight': None}. Best is trial 6 with value: 0.600883101332136.\u001b[0m\n",
      "\u001b[32m[I 2022-11-30 07:58:36,171]\u001b[0m Trial 7 finished with value: 0.5777578206855262 and parameters: {'C': 0.2, 'tol': 0.002, 'loss': 'hinge', 'n_jobs': 9, 'class_weight': None}. Best is trial 6 with value: 0.600883101332136.\u001b[0m\n",
      "\u001b[32m[I 2022-11-30 07:58:38,049]\u001b[0m Trial 8 finished with value: 0.606496033527915 and parameters: {'C': 0.9, 'tol': 0.003, 'loss': 'hinge', 'n_jobs': 4, 'class_weight': 'balanced'}. Best is trial 8 with value: 0.606496033527915.\u001b[0m\n",
      "\u001b[32m[I 2022-11-30 07:58:41,648]\u001b[0m Trial 9 finished with value: 0.616150276904655 and parameters: {'C': 0.8, 'tol': 0.003, 'loss': 'hinge', 'n_jobs': 2, 'class_weight': None}. Best is trial 9 with value: 0.616150276904655.\u001b[0m\n"
     ]
    }
   ],
   "source": [
    "pac_study = optuna.create_study(study_name=\"Passive Aggressive Classifier\", direction=\"maximize\")\n",
    "pac_study.optimize(pac_objective, n_trials=10)"
   ]
  },
  {
   "cell_type": "code",
   "execution_count": 62,
   "id": "f58ccc16",
   "metadata": {},
   "outputs": [
    {
     "name": "stdout",
     "output_type": "stream",
     "text": [
      "Best Params: {'C': 0.8, 'tol': 0.003, 'loss': 'hinge', 'n_jobs': 2, 'class_weight': None}\n",
      "\n",
      "Best Accuracy: 0.616150276904655\n"
     ]
    }
   ],
   "source": [
    "print(\"Best Params: {}\".format(pac_study.best_params))\n",
    "print(\"\\nBest Accuracy: {}\".format(pac_study.best_value))"
   ]
  },
  {
   "cell_type": "code",
   "execution_count": 63,
   "id": "8d9e40db",
   "metadata": {},
   "outputs": [
    {
     "name": "stdout",
     "output_type": "stream",
     "text": [
      "Passive Aggressive Classifier Accuracy on Train Dataset: 0.7270226779432677\n",
      "\n",
      "Passive Aggressive Classifier Accuracy on Test Dataset: 0.6640472983086364\n",
      "#####################\n",
      "\n",
      "Passive Aggressive Classifier F1 Score on Train Dataset: 0.7236797378105765\n",
      "\n",
      "Passive Aggressive Classifier F1 Score on Test Dataset: 0.6582336446090878\n"
     ]
    },
    {
     "data": {
      "text/html": [
       "<div>\n",
       "<style scoped>\n",
       "    .dataframe tbody tr th:only-of-type {\n",
       "        vertical-align: middle;\n",
       "    }\n",
       "\n",
       "    .dataframe tbody tr th {\n",
       "        vertical-align: top;\n",
       "    }\n",
       "\n",
       "    .dataframe thead th {\n",
       "        text-align: right;\n",
       "    }\n",
       "</style>\n",
       "<table border=\"1\" class=\"dataframe\">\n",
       "  <thead>\n",
       "    <tr style=\"text-align: right;\">\n",
       "      <th></th>\n",
       "      <th>precision</th>\n",
       "      <th>recall</th>\n",
       "      <th>f1-score</th>\n",
       "      <th>support</th>\n",
       "    </tr>\n",
       "  </thead>\n",
       "  <tbody>\n",
       "    <tr>\n",
       "      <th>0</th>\n",
       "      <td>0.796148</td>\n",
       "      <td>0.434326</td>\n",
       "      <td>0.562040</td>\n",
       "      <td>1142.000000</td>\n",
       "    </tr>\n",
       "    <tr>\n",
       "      <th>1</th>\n",
       "      <td>0.448357</td>\n",
       "      <td>0.519022</td>\n",
       "      <td>0.481108</td>\n",
       "      <td>736.000000</td>\n",
       "    </tr>\n",
       "    <tr>\n",
       "      <th>2</th>\n",
       "      <td>0.475647</td>\n",
       "      <td>0.683480</td>\n",
       "      <td>0.560931</td>\n",
       "      <td>1586.000000</td>\n",
       "    </tr>\n",
       "    <tr>\n",
       "      <th>3</th>\n",
       "      <td>0.727162</td>\n",
       "      <td>0.711776</td>\n",
       "      <td>0.719387</td>\n",
       "      <td>2505.000000</td>\n",
       "    </tr>\n",
       "    <tr>\n",
       "      <th>4</th>\n",
       "      <td>0.855504</td>\n",
       "      <td>0.573341</td>\n",
       "      <td>0.686562</td>\n",
       "      <td>3511.000000</td>\n",
       "    </tr>\n",
       "    <tr>\n",
       "      <th>5</th>\n",
       "      <td>0.394737</td>\n",
       "      <td>0.225564</td>\n",
       "      <td>0.287081</td>\n",
       "      <td>133.000000</td>\n",
       "    </tr>\n",
       "    <tr>\n",
       "      <th>6</th>\n",
       "      <td>0.655264</td>\n",
       "      <td>0.911528</td>\n",
       "      <td>0.762439</td>\n",
       "      <td>2984.000000</td>\n",
       "    </tr>\n",
       "    <tr>\n",
       "      <th>7</th>\n",
       "      <td>1.000000</td>\n",
       "      <td>0.000000</td>\n",
       "      <td>0.000000</td>\n",
       "      <td>22.000000</td>\n",
       "    </tr>\n",
       "    <tr>\n",
       "      <th>8</th>\n",
       "      <td>0.818182</td>\n",
       "      <td>0.062069</td>\n",
       "      <td>0.115385</td>\n",
       "      <td>145.000000</td>\n",
       "    </tr>\n",
       "    <tr>\n",
       "      <th>9</th>\n",
       "      <td>0.536458</td>\n",
       "      <td>0.598837</td>\n",
       "      <td>0.565934</td>\n",
       "      <td>172.000000</td>\n",
       "    </tr>\n",
       "    <tr>\n",
       "      <th>10</th>\n",
       "      <td>0.678284</td>\n",
       "      <td>0.593897</td>\n",
       "      <td>0.633292</td>\n",
       "      <td>426.000000</td>\n",
       "    </tr>\n",
       "    <tr>\n",
       "      <th>accuracy</th>\n",
       "      <td>0.664047</td>\n",
       "      <td>0.664047</td>\n",
       "      <td>0.664047</td>\n",
       "      <td>0.664047</td>\n",
       "    </tr>\n",
       "    <tr>\n",
       "      <th>macro avg</th>\n",
       "      <td>0.671431</td>\n",
       "      <td>0.483076</td>\n",
       "      <td>0.488560</td>\n",
       "      <td>13362.000000</td>\n",
       "    </tr>\n",
       "    <tr>\n",
       "      <th>weighted avg</th>\n",
       "      <td>0.699629</td>\n",
       "      <td>0.664047</td>\n",
       "      <td>0.658234</td>\n",
       "      <td>13362.000000</td>\n",
       "    </tr>\n",
       "  </tbody>\n",
       "</table>\n",
       "</div>"
      ],
      "text/plain": [
       "              precision    recall  f1-score       support\n",
       "0              0.796148  0.434326  0.562040   1142.000000\n",
       "1              0.448357  0.519022  0.481108    736.000000\n",
       "2              0.475647  0.683480  0.560931   1586.000000\n",
       "3              0.727162  0.711776  0.719387   2505.000000\n",
       "4              0.855504  0.573341  0.686562   3511.000000\n",
       "5              0.394737  0.225564  0.287081    133.000000\n",
       "6              0.655264  0.911528  0.762439   2984.000000\n",
       "7              1.000000  0.000000  0.000000     22.000000\n",
       "8              0.818182  0.062069  0.115385    145.000000\n",
       "9              0.536458  0.598837  0.565934    172.000000\n",
       "10             0.678284  0.593897  0.633292    426.000000\n",
       "accuracy       0.664047  0.664047  0.664047      0.664047\n",
       "macro avg      0.671431  0.483076  0.488560  13362.000000\n",
       "weighted avg   0.699629  0.664047  0.658234  13362.000000"
      ]
     },
     "execution_count": 63,
     "metadata": {},
     "output_type": "execute_result"
    }
   ],
   "source": [
    "pac_clf = PassiveAggressiveClassifier(**pac_study.best_params)\n",
    "pac_clf.fit(X_train, y_train)\n",
    "\n",
    "y_pred_train = pac_clf.predict(X_train)\n",
    "y_pred_test = pac_clf.predict(X_test)\n",
    "\n",
    "pac_train_acc = accuracy_score(y_train, y_pred_train)\n",
    "pac_test_acc = accuracy_score(y_test, y_pred_test)\n",
    "\n",
    "pac_train_f1 = f1_score(y_train, y_pred_train, average='weighted')\n",
    "pac_test_f1 = f1_score(y_test, y_pred_test, average='weighted')\n",
    "\n",
    "print(\"Passive Aggressive Classifier Accuracy on Train Dataset: {}\".format(pac_train_acc))\n",
    "print(\"\\nPassive Aggressive Classifier Accuracy on Test Dataset: {}\".format(pac_test_acc))\n",
    "print(\"#####################\")\n",
    "print(\"\\nPassive Aggressive Classifier F1 Score on Train Dataset: {}\".format(pac_train_f1))\n",
    "print(\"\\nPassive Aggressive Classifier F1 Score on Test Dataset: {}\".format(pac_test_f1))\n",
    "\n",
    "# Create Test Confusion Matrix and Classification Report\n",
    "cm_pac = confusion_matrix(y_test, y_pred_test) # can use to make heatmap\n",
    "cr_pac = pd.DataFrame(classification_report(y_test, y_pred_test, zero_division=1, output_dict=True)).T #, average= 'weighted')\n",
    "cr_pac"
   ]
  },
  {
   "cell_type": "code",
   "execution_count": 64,
   "id": "7423406c",
   "metadata": {},
   "outputs": [
    {
     "data": {
      "image/png": "[encoded data removed]",
      "text/plain": [
       "<Figure size 720x720 with 2 Axes>"
      ]
     },
     "metadata": {
      "needs_background": "light"
     },
     "output_type": "display_data"
    }
   ],
   "source": [
    "# Plotting the confusion matrix as heatmap\n",
    "plt.figure(figsize=(10,10))\n",
    "sns.heatmap(cm_pac, annot=True, cmap='viridis') #, cmap='crest')#, linewidth=.1)#, annot=True)\n",
    "plt.title('Confusion Matrix - Passive Aggressive Classifier')\n",
    "plt.ylabel('Actual Values')\n",
    "plt.xlabel('Predicted Values')\n",
    "plt.show()"
   ]
  },
  {
   "cell_type": "markdown",
   "id": "f5c632c8",
   "metadata": {},
   "source": [
    "- ### Passive Aggressive Classifier exhibited similar accuracy and f1 score as Logistic Regression Classifier.\n",
    "- ### Slight evidence of overfitting with higher metrics on training data."
   ]
  },
  {
   "cell_type": "markdown",
   "id": "04a75197",
   "metadata": {},
   "source": [
    "## Random Forest Classifier"
   ]
  },
  {
   "cell_type": "code",
   "execution_count": 65,
   "id": "edc0d58b",
   "metadata": {},
   "outputs": [],
   "source": [
    "# Optimize Random Forest Classifier with optuna\n",
    "def rfc_objective(trial):\n",
    "    n_estimators = trial.suggest_int(\"n_estimators\", 50, 550, step=100, log=False)\n",
    "    criterion = trial.suggest_categorical(\"criterion\", [\"gini\", \"entropy\", \"log_loss\"])\n",
    "    max_depth = trial.suggest_int(\"max_depth\", 2, 10, step=2, log=False)\n",
    "    min_samples_split = trial.suggest_int(\"min_samples_split\", 20, 100, step=20, log=False)\n",
    "    min_samples_leaf = trial.suggest_int(\"min_samples_leaf\", 10, 50, step=10, log=False)\n",
    "    max_features = trial.suggest_categorical(\"max_features\", [\"sqrt\", \"log2\", None])\n",
    "    bootstrap = trial.suggest_categorical(\"bootstrap\", [True, False])\n",
    "    n_jobs = trial.suggest_int(\"n_jobs\", 1, 12, step=1, log=False)\n",
    "    class_weight = trial.suggest_categorical(\"class_weight\", [\"balanced\", \"balanced_subsample\"])\n",
    "            \n",
    "    ## Create Model\n",
    "    rfc = RandomForestClassifier(n_estimators=n_estimators, criterion=criterion, max_depth=max_depth, min_samples_split=min_samples_split, \n",
    "                                    min_samples_leaf=min_samples_leaf, max_features=max_features, bootstrap=bootstrap, n_jobs=n_jobs, \n",
    "                                    class_weight=class_weight, random_state = 2022) \n",
    "\n",
    "    ## Fit Model\n",
    "    rfc.fit(X_train, y_train)\n",
    "\n",
    "    return accuracy_score(y_test, rfc.predict(X_test))"
   ]
  },
  {
   "cell_type": "code",
   "execution_count": 66,
   "id": "00261bf9",
   "metadata": {},
   "outputs": [
    {
     "name": "stderr",
     "output_type": "stream",
     "text": [
      "\u001b[32m[I 2022-11-30 07:59:13,096]\u001b[0m A new study created in memory with name: Random Forest Classifier\u001b[0m\n",
      "\u001b[32m[I 2022-11-30 07:59:30,813]\u001b[0m Trial 0 finished with value: 0.38295165394402036 and parameters: {'n_estimators': 250, 'criterion': 'gini', 'max_depth': 8, 'min_samples_split': 80, 'min_samples_leaf': 30, 'max_features': 'log2', 'bootstrap': True, 'n_jobs': 5, 'class_weight': 'balanced_subsample'}. Best is trial 0 with value: 0.38295165394402036.\u001b[0m\n",
      "\u001b[32m[I 2022-11-30 07:59:54,371]\u001b[0m Trial 1 finished with value: 0.4148331088160455 and parameters: {'n_estimators': 50, 'criterion': 'entropy', 'max_depth': 10, 'min_samples_split': 60, 'min_samples_leaf': 40, 'max_features': 'sqrt', 'bootstrap': True, 'n_jobs': 6, 'class_weight': 'balanced'}. Best is trial 1 with value: 0.4148331088160455.\u001b[0m\n",
      "\u001b[32m[I 2022-11-30 08:00:52,974]\u001b[0m Trial 2 finished with value: 0.3984433468043706 and parameters: {'n_estimators': 50, 'criterion': 'gini', 'max_depth': 10, 'min_samples_split': 40, 'min_samples_leaf': 20, 'max_features': 'sqrt', 'bootstrap': False, 'n_jobs': 1, 'class_weight': 'balanced'}. Best is trial 1 with value: 0.4148331088160455.\u001b[0m\n",
      "\u001b[32m[I 2022-11-30 08:07:45,830]\u001b[0m Trial 3 finished with value: 0.39784463403682085 and parameters: {'n_estimators': 350, 'criterion': 'log_loss', 'max_depth': 8, 'min_samples_split': 80, 'min_samples_leaf': 20, 'max_features': 'sqrt', 'bootstrap': True, 'n_jobs': 2, 'class_weight': 'balanced'}. Best is trial 1 with value: 0.4148331088160455.\u001b[0m\n",
      "\u001b[32m[I 2022-11-30 08:08:52,912]\u001b[0m Trial 4 finished with value: 0.24225415356982488 and parameters: {'n_estimators': 550, 'criterion': 'log_loss', 'max_depth': 2, 'min_samples_split': 60, 'min_samples_leaf': 40, 'max_features': 'log2', 'bootstrap': False, 'n_jobs': 4, 'class_weight': 'balanced'}. Best is trial 1 with value: 0.4148331088160455.\u001b[0m\n",
      "\u001b[32m[I 2022-11-30 08:09:55,109]\u001b[0m Trial 5 finished with value: 0.3158209848825026 and parameters: {'n_estimators': 150, 'criterion': 'gini', 'max_depth': 6, 'min_samples_split': 100, 'min_samples_leaf': 50, 'max_features': 'sqrt', 'bootstrap': False, 'n_jobs': 2, 'class_weight': 'balanced_subsample'}. Best is trial 1 with value: 0.4148331088160455.\u001b[0m\n",
      "\u001b[32m[I 2022-11-30 08:35:11,119]\u001b[0m Trial 6 finished with value: 0.18866936087412065 and parameters: {'n_estimators': 550, 'criterion': 'gini', 'max_depth': 4, 'min_samples_split': 20, 'min_samples_leaf': 40, 'max_features': None, 'bootstrap': True, 'n_jobs': 2, 'class_weight': 'balanced_subsample'}. Best is trial 1 with value: 0.4148331088160455.\u001b[0m\n",
      "\u001b[32m[I 2022-11-30 08:35:15,393]\u001b[0m Trial 7 finished with value: 0.4020356234096692 and parameters: {'n_estimators': 50, 'criterion': 'gini', 'max_depth': 10, 'min_samples_split': 40, 'min_samples_leaf': 30, 'max_features': 'log2', 'bootstrap': False, 'n_jobs': 9, 'class_weight': 'balanced'}. Best is trial 1 with value: 0.4148331088160455.\u001b[0m\n",
      "\u001b[32m[I 2022-11-30 08:37:48,437]\u001b[0m Trial 8 finished with value: 0.3751683879658734 and parameters: {'n_estimators': 150, 'criterion': 'entropy', 'max_depth': 8, 'min_samples_split': 60, 'min_samples_leaf': 50, 'max_features': 'sqrt', 'bootstrap': False, 'n_jobs': 3, 'class_weight': 'balanced_subsample'}. Best is trial 1 with value: 0.4148331088160455.\u001b[0m\n",
      "\u001b[32m[I 2022-11-30 08:41:31,990]\u001b[0m Trial 9 finished with value: 0.3711270767849124 and parameters: {'n_estimators': 450, 'criterion': 'gini', 'max_depth': 8, 'min_samples_split': 40, 'min_samples_leaf': 40, 'max_features': 'sqrt', 'bootstrap': False, 'n_jobs': 2, 'class_weight': 'balanced'}. Best is trial 1 with value: 0.4148331088160455.\u001b[0m\n"
     ]
    }
   ],
   "source": [
    "rfc_study = optuna.create_study(study_name=\"Random Forest Classifier\", direction=\"maximize\")\n",
    "rfc_study.optimize(rfc_objective, n_trials=10)"
   ]
  },
  {
   "cell_type": "code",
   "execution_count": 67,
   "id": "f58ccc16",
   "metadata": {},
   "outputs": [
    {
     "name": "stdout",
     "output_type": "stream",
     "text": [
      "Best Params: {'n_estimators': 50, 'criterion': 'entropy', 'max_depth': 10, 'min_samples_split': 60, 'min_samples_leaf': 40, 'max_features': 'sqrt', 'bootstrap': True, 'n_jobs': 6, 'class_weight': 'balanced'}\n",
      "\n",
      "Best Accuracy: 0.4148331088160455\n"
     ]
    }
   ],
   "source": [
    "print(\"Best Params: {}\".format(rfc_study.best_params))\n",
    "print(\"\\nBest Accuracy: {}\".format(rfc_study.best_value))"
   ]
  },
  {
   "cell_type": "code",
   "execution_count": 68,
   "id": "8d9e40db",
   "metadata": {},
   "outputs": [
    {
     "name": "stdout",
     "output_type": "stream",
     "text": [
      "Random Forest Classifier Accuracy on Train Dataset: 0.5196093106803383\n",
      "\n",
      "Random Forest Classifier Accuracy on Test Dataset: 0.41251309684179016\n",
      "#####################\n",
      "\n",
      "Random Forest Classifier F1 Score on Train Dataset: 0.5144852914419898\n",
      "\n",
      "Random Forest Classifier F1 Score on Test Dataset: 0.41299311552137113\n"
     ]
    },
    {
     "data": {
      "text/html": [
       "<div>\n",
       "<style scoped>\n",
       "    .dataframe tbody tr th:only-of-type {\n",
       "        vertical-align: middle;\n",
       "    }\n",
       "\n",
       "    .dataframe tbody tr th {\n",
       "        vertical-align: top;\n",
       "    }\n",
       "\n",
       "    .dataframe thead th {\n",
       "        text-align: right;\n",
       "    }\n",
       "</style>\n",
       "<table border=\"1\" class=\"dataframe\">\n",
       "  <thead>\n",
       "    <tr style=\"text-align: right;\">\n",
       "      <th></th>\n",
       "      <th>precision</th>\n",
       "      <th>recall</th>\n",
       "      <th>f1-score</th>\n",
       "      <th>support</th>\n",
       "    </tr>\n",
       "  </thead>\n",
       "  <tbody>\n",
       "    <tr>\n",
       "      <th>0</th>\n",
       "      <td>0.368035</td>\n",
       "      <td>0.219790</td>\n",
       "      <td>0.275219</td>\n",
       "      <td>1142.000000</td>\n",
       "    </tr>\n",
       "    <tr>\n",
       "      <th>1</th>\n",
       "      <td>0.289134</td>\n",
       "      <td>0.213315</td>\n",
       "      <td>0.245504</td>\n",
       "      <td>736.000000</td>\n",
       "    </tr>\n",
       "    <tr>\n",
       "      <th>2</th>\n",
       "      <td>0.413793</td>\n",
       "      <td>0.174023</td>\n",
       "      <td>0.245007</td>\n",
       "      <td>1586.000000</td>\n",
       "    </tr>\n",
       "    <tr>\n",
       "      <th>3</th>\n",
       "      <td>0.434645</td>\n",
       "      <td>0.710180</td>\n",
       "      <td>0.539254</td>\n",
       "      <td>2505.000000</td>\n",
       "    </tr>\n",
       "    <tr>\n",
       "      <th>4</th>\n",
       "      <td>0.585405</td>\n",
       "      <td>0.308459</td>\n",
       "      <td>0.404029</td>\n",
       "      <td>3511.000000</td>\n",
       "    </tr>\n",
       "    <tr>\n",
       "      <th>5</th>\n",
       "      <td>0.103560</td>\n",
       "      <td>0.240602</td>\n",
       "      <td>0.144796</td>\n",
       "      <td>133.000000</td>\n",
       "    </tr>\n",
       "    <tr>\n",
       "      <th>6</th>\n",
       "      <td>0.590170</td>\n",
       "      <td>0.535188</td>\n",
       "      <td>0.561336</td>\n",
       "      <td>2984.000000</td>\n",
       "    </tr>\n",
       "    <tr>\n",
       "      <th>7</th>\n",
       "      <td>0.000000</td>\n",
       "      <td>0.000000</td>\n",
       "      <td>0.000000</td>\n",
       "      <td>22.000000</td>\n",
       "    </tr>\n",
       "    <tr>\n",
       "      <th>8</th>\n",
       "      <td>0.057183</td>\n",
       "      <td>0.282759</td>\n",
       "      <td>0.095128</td>\n",
       "      <td>145.000000</td>\n",
       "    </tr>\n",
       "    <tr>\n",
       "      <th>9</th>\n",
       "      <td>0.109756</td>\n",
       "      <td>0.523256</td>\n",
       "      <td>0.181452</td>\n",
       "      <td>172.000000</td>\n",
       "    </tr>\n",
       "    <tr>\n",
       "      <th>10</th>\n",
       "      <td>0.213472</td>\n",
       "      <td>0.483568</td>\n",
       "      <td>0.296190</td>\n",
       "      <td>426.000000</td>\n",
       "    </tr>\n",
       "    <tr>\n",
       "      <th>accuracy</th>\n",
       "      <td>0.412513</td>\n",
       "      <td>0.412513</td>\n",
       "      <td>0.412513</td>\n",
       "      <td>0.412513</td>\n",
       "    </tr>\n",
       "    <tr>\n",
       "      <th>macro avg</th>\n",
       "      <td>0.287741</td>\n",
       "      <td>0.335558</td>\n",
       "      <td>0.271629</td>\n",
       "      <td>13362.000000</td>\n",
       "    </tr>\n",
       "    <tr>\n",
       "      <th>weighted avg</th>\n",
       "      <td>0.473467</td>\n",
       "      <td>0.412513</td>\n",
       "      <td>0.412993</td>\n",
       "      <td>13362.000000</td>\n",
       "    </tr>\n",
       "  </tbody>\n",
       "</table>\n",
       "</div>"
      ],
      "text/plain": [
       "              precision    recall  f1-score       support\n",
       "0              0.368035  0.219790  0.275219   1142.000000\n",
       "1              0.289134  0.213315  0.245504    736.000000\n",
       "2              0.413793  0.174023  0.245007   1586.000000\n",
       "3              0.434645  0.710180  0.539254   2505.000000\n",
       "4              0.585405  0.308459  0.404029   3511.000000\n",
       "5              0.103560  0.240602  0.144796    133.000000\n",
       "6              0.590170  0.535188  0.561336   2984.000000\n",
       "7              0.000000  0.000000  0.000000     22.000000\n",
       "8              0.057183  0.282759  0.095128    145.000000\n",
       "9              0.109756  0.523256  0.181452    172.000000\n",
       "10             0.213472  0.483568  0.296190    426.000000\n",
       "accuracy       0.412513  0.412513  0.412513      0.412513\n",
       "macro avg      0.287741  0.335558  0.271629  13362.000000\n",
       "weighted avg   0.473467  0.412513  0.412993  13362.000000"
      ]
     },
     "execution_count": 68,
     "metadata": {},
     "output_type": "execute_result"
    }
   ],
   "source": [
    "rfc_clf = RandomForestClassifier(**rfc_study.best_params)\n",
    "rfc_clf.fit(X_train, y_train)\n",
    "\n",
    "y_pred_train = rfc_clf.predict(X_train)\n",
    "y_pred_test = rfc_clf.predict(X_test)\n",
    "\n",
    "rfc_train_acc = accuracy_score(y_train, y_pred_train)\n",
    "rfc_test_acc = accuracy_score(y_test, y_pred_test)\n",
    "\n",
    "rfc_train_f1 = f1_score(y_train, y_pred_train, average='weighted')\n",
    "rfc_test_f1 = f1_score(y_test, y_pred_test, average='weighted')\n",
    "\n",
    "print(\"Random Forest Classifier Accuracy on Train Dataset: {}\".format(rfc_train_acc))\n",
    "print(\"\\nRandom Forest Classifier Accuracy on Test Dataset: {}\".format(rfc_test_acc))\n",
    "print(\"#####################\")\n",
    "print(\"\\nRandom Forest Classifier F1 Score on Train Dataset: {}\".format(rfc_train_f1))\n",
    "print(\"\\nRandom Forest Classifier F1 Score on Test Dataset: {}\".format(rfc_test_f1))\n",
    "\n",
    "# Create Test Confusion Matrix and Classification Report\n",
    "cm_rfc = confusion_matrix(y_test, y_pred_test) # can use to make heatmap\n",
    "cr_rfc = pd.DataFrame(classification_report(y_test, y_pred_test, zero_division=1, output_dict=True)).T #, average= 'weighted')\n",
    "cr_rfc"
   ]
  },
  {
   "cell_type": "code",
   "execution_count": 69,
   "id": "7423406c",
   "metadata": {},
   "outputs": [
    {
     "data": {
      "image/png": "[encoded data removed]",
      "text/plain": [
       "<Figure size 720x720 with 2 Axes>"
      ]
     },
     "metadata": {
      "needs_background": "light"
     },
     "output_type": "display_data"
    }
   ],
   "source": [
    "# Plotting the confusion matrix as heatmap\n",
    "plt.figure(figsize=(10,10))\n",
    "sns.heatmap(cm_rfc, annot=True, cmap='viridis') #, cmap='crest')#, linewidth=.1)#, annot=True)\n",
    "plt.title('Confusion Matrix - Random Forest Classifier')\n",
    "plt.ylabel('Actual Values')\n",
    "plt.xlabel('Predicted Values')\n",
    "plt.show()"
   ]
  },
  {
   "cell_type": "markdown",
   "id": "a0873604",
   "metadata": {},
   "source": [
    "- ### Random Forest Classifier performed worse than Passive Aggressive and Logistic Regression Classifiers.\n",
    "- ### Marginal evidence of overfitting with slightly higher metrics on training data."
   ]
  },
  {
   "cell_type": "markdown",
   "id": "dc529c1f",
   "metadata": {},
   "source": [
    "## XGBoost Classifier"
   ]
  },
  {
   "cell_type": "code",
   "execution_count": 70,
   "id": "ee6cbaaf",
   "metadata": {},
   "outputs": [],
   "source": [
    "# XGBoost Classifier needs y_train label encoded\n",
    "#le = LabelEncoder() #scaler = StandardScaler()\n",
    "#y_train_le = le.fit_transform(y_train)\n",
    "\n",
    "# Optimize XGBoost Classifier Classifier with optuna\n",
    "def xgb_objective(trial):\n",
    "    booster = trial.suggest_categorical(\"booster\", [\"gbtree\", \"gblinear\", \"dart\"])\n",
    "    eta = trial.suggest_float(\"eta\", 0.1, 1.0, step=0.1, log=False)\n",
    "    gamma = trial.suggest_int(\"gamma\", 0, 100, step=10, log=False)\n",
    "    max_depth = trial.suggest_int(\"max_depth\", 2, 42, step=4, log=False)\n",
    "    min_child_weight = trial.suggest_int(\"min_child_weight\", 0, 50, step=10, log=False)\n",
    "    subsample = trial.suggest_float(\"subsample\", 0.5, 1.0, step=0.1, log=False)\n",
    "    #sampling_method = trial.suggest_categorical(\"sampling_method\", [\"uniform\", \"gradient_based\"]) #gradient_based only for tree_method: gpu_hist\n",
    "            \n",
    "    ## Create Model\n",
    "    xgb = XGBClassifier(booster=booster, eta=eta, gamma=gamma, max_depth=max_depth, min_child_weight=min_child_weight, \n",
    "                            subsample=subsample, random_state = 2022) # booster=booster, sampling_method=sampling_method,\n",
    "\n",
    "    ## Fit Model\n",
    "    xgb.fit(X_train, y_train)\n",
    "\n",
    "    return accuracy_score(y_test, xgb.predict(X_test))"
   ]
  },
  {
   "cell_type": "code",
   "execution_count": 71,
   "id": "a6a5a368",
   "metadata": {},
   "outputs": [
    {
     "name": "stderr",
     "output_type": "stream",
     "text": [
      "\u001b[32m[I 2022-11-30 08:41:53,976]\u001b[0m A new study created in memory with name: XGBoost Classifier\u001b[0m\n",
      "\u001b[32m[I 2022-11-30 08:54:33,876]\u001b[0m Trial 0 finished with value: 0.5657835653345308 and parameters: {'booster': 'dart', 'eta': 0.6, 'gamma': 30, 'max_depth': 10, 'min_child_weight': 40, 'subsample': 0.7}. Best is trial 0 with value: 0.5657835653345308.\u001b[0m\n",
      "\u001b[32m[I 2022-11-30 09:05:42,217]\u001b[0m Trial 1 finished with value: 0.46063463553360273 and parameters: {'booster': 'dart', 'eta': 0.30000000000000004, 'gamma': 100, 'max_depth': 38, 'min_child_weight': 50, 'subsample': 0.5}. Best is trial 0 with value: 0.5657835653345308.\u001b[0m\n",
      "\u001b[32m[I 2022-11-30 09:21:58,279]\u001b[0m Trial 2 finished with value: 0.5194581649453675 and parameters: {'booster': 'dart', 'eta': 0.5, 'gamma': 60, 'max_depth': 18, 'min_child_weight': 20, 'subsample': 1.0}. Best is trial 0 with value: 0.5657835653345308.\u001b[0m\n",
      "\u001b[32m[I 2022-11-30 09:37:25,406]\u001b[0m Trial 3 finished with value: 0.49348899865289625 and parameters: {'booster': 'dart', 'eta': 1.0, 'gamma': 70, 'max_depth': 34, 'min_child_weight': 20, 'subsample': 0.8}. Best is trial 0 with value: 0.5657835653345308.\u001b[0m\n",
      "\u001b[32m[I 2022-11-30 09:45:22,053]\u001b[0m Trial 4 finished with value: 0.6232599910193085 and parameters: {'booster': 'dart', 'eta': 0.7000000000000001, 'gamma': 0, 'max_depth': 2, 'min_child_weight': 40, 'subsample': 0.8}. Best is trial 4 with value: 0.6232599910193085.\u001b[0m\n",
      "\u001b[32m[I 2022-11-30 09:55:07,339]\u001b[0m Trial 5 finished with value: 0.515566531956294 and parameters: {'booster': 'gbtree', 'eta': 0.4, 'gamma': 70, 'max_depth': 18, 'min_child_weight': 20, 'subsample': 0.9}. Best is trial 4 with value: 0.6232599910193085.\u001b[0m\n"
     ]
    },
    {
     "name": "stdout",
     "output_type": "stream",
     "text": [
      "[09:55:07] WARNING: C:/buildkite-agent/builds/buildkite-windows-cpu-autoscaling-group-i-03de431ba26204c4d-1/xgboost/xgboost-ci-windows/src/learner.cc:767: \n",
      "Parameters: { \"gamma\", \"max_depth\", \"min_child_weight\", \"subsample\" } are not used.\n",
      "\n"
     ]
    },
    {
     "name": "stderr",
     "output_type": "stream",
     "text": [
      "\u001b[32m[I 2022-11-30 09:55:28,953]\u001b[0m Trial 6 finished with value: 0.6990719952102978 and parameters: {'booster': 'gblinear', 'eta': 0.8, 'gamma': 20, 'max_depth': 14, 'min_child_weight': 30, 'subsample': 0.9}. Best is trial 6 with value: 0.6990719952102978.\u001b[0m\n",
      "\u001b[32m[I 2022-11-30 10:08:29,784]\u001b[0m Trial 7 finished with value: 0.6467594671456369 and parameters: {'booster': 'dart', 'eta': 0.6, 'gamma': 0, 'max_depth': 34, 'min_child_weight': 20, 'subsample': 0.8}. Best is trial 6 with value: 0.6990719952102978.\u001b[0m\n",
      "\u001b[32m[I 2022-11-30 10:28:03,905]\u001b[0m Trial 8 finished with value: 0.5144439455171381 and parameters: {'booster': 'gbtree', 'eta': 0.4, 'gamma': 70, 'max_depth': 30, 'min_child_weight': 0, 'subsample': 0.8}. Best is trial 6 with value: 0.6990719952102978.\u001b[0m\n",
      "\u001b[32m[I 2022-11-30 10:39:14,622]\u001b[0m Trial 9 finished with value: 0.5991618021254304 and parameters: {'booster': 'dart', 'eta': 1.0, 'gamma': 10, 'max_depth': 6, 'min_child_weight': 30, 'subsample': 0.8}. Best is trial 6 with value: 0.6990719952102978.\u001b[0m\n"
     ]
    }
   ],
   "source": [
    "xgb_study = optuna.create_study(study_name=\"XGBoost Classifier\", direction=\"maximize\")\n",
    "xgb_study.optimize(xgb_objective, n_trials=10)"
   ]
  },
  {
   "cell_type": "code",
   "execution_count": 72,
   "id": "b4da4e35",
   "metadata": {},
   "outputs": [
    {
     "name": "stdout",
     "output_type": "stream",
     "text": [
      "Best Params: {'booster': 'gblinear', 'eta': 0.8, 'gamma': 20, 'max_depth': 14, 'min_child_weight': 30, 'subsample': 0.9}\n",
      "\n",
      "Best Accuracy: 0.6990719952102978\n"
     ]
    }
   ],
   "source": [
    "print(\"Best Params: {}\".format(xgb_study.best_params))\n",
    "print(\"\\nBest Accuracy: {}\".format(xgb_study.best_value))"
   ]
  },
  {
   "cell_type": "code",
   "execution_count": 73,
   "id": "48af95da",
   "metadata": {},
   "outputs": [
    {
     "name": "stdout",
     "output_type": "stream",
     "text": [
      "[10:39:15] WARNING: C:/buildkite-agent/builds/buildkite-windows-cpu-autoscaling-group-i-03de431ba26204c4d-1/xgboost/xgboost-ci-windows/src/learner.cc:767: \n",
      "Parameters: { \"gamma\", \"max_depth\", \"min_child_weight\", \"subsample\" } are not used.\n",
      "\n",
      "XGBoost Classifier Accuracy on Train Dataset: 0.7716862510291146\n",
      "\n",
      "XGBoost Classifier Accuracy on Test Dataset: 0.6978745696751983\n",
      "#####################\n",
      "\n",
      "XGBoost Classifier F1 Score on Train Dataset: 0.7692077347830241\n",
      "\n",
      "XGBoost Classifier F1 Score on Test Dataset: 0.6892609843592143\n"
     ]
    },
    {
     "data": {
      "text/html": [
       "<div>\n",
       "<style scoped>\n",
       "    .dataframe tbody tr th:only-of-type {\n",
       "        vertical-align: middle;\n",
       "    }\n",
       "\n",
       "    .dataframe tbody tr th {\n",
       "        vertical-align: top;\n",
       "    }\n",
       "\n",
       "    .dataframe thead th {\n",
       "        text-align: right;\n",
       "    }\n",
       "</style>\n",
       "<table border=\"1\" class=\"dataframe\">\n",
       "  <thead>\n",
       "    <tr style=\"text-align: right;\">\n",
       "      <th></th>\n",
       "      <th>precision</th>\n",
       "      <th>recall</th>\n",
       "      <th>f1-score</th>\n",
       "      <th>support</th>\n",
       "    </tr>\n",
       "  </thead>\n",
       "  <tbody>\n",
       "    <tr>\n",
       "      <th>0</th>\n",
       "      <td>0.721035</td>\n",
       "      <td>0.561296</td>\n",
       "      <td>0.631216</td>\n",
       "      <td>1142.000000</td>\n",
       "    </tr>\n",
       "    <tr>\n",
       "      <th>1</th>\n",
       "      <td>0.651007</td>\n",
       "      <td>0.395380</td>\n",
       "      <td>0.491970</td>\n",
       "      <td>736.000000</td>\n",
       "    </tr>\n",
       "    <tr>\n",
       "      <th>2</th>\n",
       "      <td>0.649408</td>\n",
       "      <td>0.553594</td>\n",
       "      <td>0.597686</td>\n",
       "      <td>1586.000000</td>\n",
       "    </tr>\n",
       "    <tr>\n",
       "      <th>3</th>\n",
       "      <td>0.669277</td>\n",
       "      <td>0.750499</td>\n",
       "      <td>0.707565</td>\n",
       "      <td>2505.000000</td>\n",
       "    </tr>\n",
       "    <tr>\n",
       "      <th>4</th>\n",
       "      <td>0.655556</td>\n",
       "      <td>0.806608</td>\n",
       "      <td>0.723279</td>\n",
       "      <td>3511.000000</td>\n",
       "    </tr>\n",
       "    <tr>\n",
       "      <th>5</th>\n",
       "      <td>0.437500</td>\n",
       "      <td>0.210526</td>\n",
       "      <td>0.284264</td>\n",
       "      <td>133.000000</td>\n",
       "    </tr>\n",
       "    <tr>\n",
       "      <th>6</th>\n",
       "      <td>0.815098</td>\n",
       "      <td>0.821381</td>\n",
       "      <td>0.818227</td>\n",
       "      <td>2984.000000</td>\n",
       "    </tr>\n",
       "    <tr>\n",
       "      <th>7</th>\n",
       "      <td>0.090909</td>\n",
       "      <td>0.045455</td>\n",
       "      <td>0.060606</td>\n",
       "      <td>22.000000</td>\n",
       "    </tr>\n",
       "    <tr>\n",
       "      <th>8</th>\n",
       "      <td>0.400000</td>\n",
       "      <td>0.124138</td>\n",
       "      <td>0.189474</td>\n",
       "      <td>145.000000</td>\n",
       "    </tr>\n",
       "    <tr>\n",
       "      <th>9</th>\n",
       "      <td>0.630252</td>\n",
       "      <td>0.436047</td>\n",
       "      <td>0.515464</td>\n",
       "      <td>172.000000</td>\n",
       "    </tr>\n",
       "    <tr>\n",
       "      <th>10</th>\n",
       "      <td>0.769231</td>\n",
       "      <td>0.539906</td>\n",
       "      <td>0.634483</td>\n",
       "      <td>426.000000</td>\n",
       "    </tr>\n",
       "    <tr>\n",
       "      <th>accuracy</th>\n",
       "      <td>0.697875</td>\n",
       "      <td>0.697875</td>\n",
       "      <td>0.697875</td>\n",
       "      <td>0.697875</td>\n",
       "    </tr>\n",
       "    <tr>\n",
       "      <th>macro avg</th>\n",
       "      <td>0.589934</td>\n",
       "      <td>0.476803</td>\n",
       "      <td>0.514021</td>\n",
       "      <td>13362.000000</td>\n",
       "    </tr>\n",
       "    <tr>\n",
       "      <th>weighted avg</th>\n",
       "      <td>0.695798</td>\n",
       "      <td>0.697875</td>\n",
       "      <td>0.689261</td>\n",
       "      <td>13362.000000</td>\n",
       "    </tr>\n",
       "  </tbody>\n",
       "</table>\n",
       "</div>"
      ],
      "text/plain": [
       "              precision    recall  f1-score       support\n",
       "0              0.721035  0.561296  0.631216   1142.000000\n",
       "1              0.651007  0.395380  0.491970    736.000000\n",
       "2              0.649408  0.553594  0.597686   1586.000000\n",
       "3              0.669277  0.750499  0.707565   2505.000000\n",
       "4              0.655556  0.806608  0.723279   3511.000000\n",
       "5              0.437500  0.210526  0.284264    133.000000\n",
       "6              0.815098  0.821381  0.818227   2984.000000\n",
       "7              0.090909  0.045455  0.060606     22.000000\n",
       "8              0.400000  0.124138  0.189474    145.000000\n",
       "9              0.630252  0.436047  0.515464    172.000000\n",
       "10             0.769231  0.539906  0.634483    426.000000\n",
       "accuracy       0.697875  0.697875  0.697875      0.697875\n",
       "macro avg      0.589934  0.476803  0.514021  13362.000000\n",
       "weighted avg   0.695798  0.697875  0.689261  13362.000000"
      ]
     },
     "execution_count": 73,
     "metadata": {},
     "output_type": "execute_result"
    }
   ],
   "source": [
    "xgb_clf = XGBClassifier(**xgb_study.best_params)\n",
    "xgb_clf.fit(X_train, y_train)\n",
    "\n",
    "y_pred_train = xgb_clf.predict(X_train)\n",
    "y_pred_test = xgb_clf.predict(X_test)\n",
    "\n",
    "xgb_train_acc = accuracy_score(y_train, y_pred_train)\n",
    "xgb_test_acc = accuracy_score(y_test, y_pred_test)\n",
    "\n",
    "xgb_train_f1 = f1_score(y_train, y_pred_train, average='weighted')\n",
    "xgb_test_f1 = f1_score(y_test, y_pred_test, average='weighted')\n",
    "\n",
    "print(\"XGBoost Classifier Accuracy on Train Dataset: {}\".format(xgb_train_acc))\n",
    "print(\"\\nXGBoost Classifier Accuracy on Test Dataset: {}\".format(xgb_test_acc))\n",
    "print(\"#####################\")\n",
    "print(\"\\nXGBoost Classifier F1 Score on Train Dataset: {}\".format(xgb_train_f1))\n",
    "print(\"\\nXGBoost Classifier F1 Score on Test Dataset: {}\".format(xgb_test_f1))\n",
    "\n",
    "# Create Test Confusion Matrix and Classification Report\n",
    "cm_xgb = confusion_matrix(y_test, y_pred_test) # can use to make heatmap\n",
    "cr_xgb = pd.DataFrame(classification_report(y_test, y_pred_test, zero_division=1, output_dict=True)).T #, average= 'weighted')\n",
    "cr_xgb"
   ]
  },
  {
   "cell_type": "code",
   "execution_count": 74,
   "id": "1ada6f5a",
   "metadata": {},
   "outputs": [
    {
     "data": {
      "image/png": "[encoded data removed]",
      "text/plain": [
       "<Figure size 720x720 with 2 Axes>"
      ]
     },
     "metadata": {
      "needs_background": "light"
     },
     "output_type": "display_data"
    }
   ],
   "source": [
    "#Plotting the confusion matrix as heatmap\n",
    "plt.figure(figsize=(10,10))\n",
    "sns.heatmap(cm_xgb, annot=True, cmap='viridis') #, ax=ax) #, cmap='crest')#, linewidth=.1)#, annot=True)\n",
    "plt.title('Confusion Matrix - XGBoost Classifier Model')\n",
    "plt.ylabel('Actual Values')\n",
    "plt.xlabel('Predicted Values')\n",
    "plt.show()"
   ]
  },
  {
   "cell_type": "markdown",
   "id": "8874ced0",
   "metadata": {},
   "source": [
    "- ### XGBoost Classifier performed similar to Passive Aggressive and Logistic Regression Classifiers and, therefore, better than Random Forest Classifier.\n",
    "- ### Slight evidence of overfitting with higher metrics on training data."
   ]
  },
  {
   "cell_type": "markdown",
   "id": "8c1f5dd4",
   "metadata": {},
   "source": [
    "## LightGBM Classifier"
   ]
  },
  {
   "cell_type": "code",
   "execution_count": 75,
   "id": "ee6cbaaf",
   "metadata": {},
   "outputs": [],
   "source": [
    "# Optimize LightGBM Classifier Classifier with optuna\n",
    "def lgb_objective(trial):\n",
    "    #boosting_type = trial.suggest_categorical(\"boosting_type\", [\"gbdt\", \"dart\", \"goss\", \"rf\"])\n",
    "    num_leaves = trial.suggest_int(\"num_leaves\", 4, 20, step=4, log=False)\n",
    "    max_depth = trial.suggest_int(\"max_depth\", 2, 8, step=2, log=False)\n",
    "    learning_rate = trial.suggest_float(\"learning_rate\", 0.06, 1.2, step=0.02, log=False)\n",
    "    n_estimators = trial.suggest_int(\"n_estimators\", 350, 500, step=25, log=False)\n",
    "    min_child_weight = trial.suggest_float(\"min_child_weight\", 0.01, 0.10, step=0.01, log=False)\n",
    "    min_child_samples = trial.suggest_int(\"min_child_samples\", 200, 300, step=25, log=False)\n",
    "    subsample = trial.suggest_float(\"subsample\", 0.2, 1.0, step=0.2, log=False)\n",
    "            \n",
    "    ## Create Model\n",
    "    lgb = LGBMClassifier(boosting_type=\"gbdt\", num_leaves=num_leaves, max_depth=max_depth, learning_rate=learning_rate, \n",
    "                            n_estimators=n_estimators, min_child_weight=min_child_weight, min_child_samples=min_child_samples, \n",
    "                            subsample=subsample, objective=\"multiclass\", random_state = 2022) \n",
    "\n",
    "    ## Fit Model\n",
    "    lgb.fit(X_train, y_train)\n",
    "\n",
    "    return accuracy_score(y_test, lgb.predict(X_test))"
   ]
  },
  {
   "cell_type": "code",
   "execution_count": 76,
   "id": "a6a5a368",
   "metadata": {},
   "outputs": [
    {
     "name": "stderr",
     "output_type": "stream",
     "text": [
      "\u001b[32m[I 2022-11-30 10:39:39,428]\u001b[0m A new study created in memory with name: LightGBM Classifier\u001b[0m\n",
      "\u001b[32m[I 2022-11-30 10:40:19,776]\u001b[0m Trial 0 finished with value: 0.6748989672204759 and parameters: {'num_leaves': 20, 'max_depth': 4, 'learning_rate': 0.32, 'n_estimators': 500, 'min_child_weight': 0.06999999999999999, 'min_child_samples': 250, 'subsample': 1.0}. Best is trial 0 with value: 0.6748989672204759.\u001b[0m\n",
      "\u001b[32m[I 2022-11-30 10:40:37,677]\u001b[0m Trial 1 finished with value: 0.2653794342164347 and parameters: {'num_leaves': 20, 'max_depth': 2, 'learning_rate': 1.1800000000000002, 'n_estimators': 450, 'min_child_weight': 0.09999999999999999, 'min_child_samples': 275, 'subsample': 0.2}. Best is trial 0 with value: 0.6748989672204759.\u001b[0m\n",
      "\u001b[32m[I 2022-11-30 10:41:03,473]\u001b[0m Trial 2 finished with value: 0.6670408621463852 and parameters: {'num_leaves': 4, 'max_depth': 8, 'learning_rate': 0.26, 'n_estimators': 425, 'min_child_weight': 0.09, 'min_child_samples': 250, 'subsample': 0.6000000000000001}. Best is trial 0 with value: 0.6748989672204759.\u001b[0m\n",
      "\u001b[32m[I 2022-11-30 10:41:36,304]\u001b[0m Trial 3 finished with value: 0.6589582397844634 and parameters: {'num_leaves': 16, 'max_depth': 4, 'learning_rate': 0.74, 'n_estimators': 400, 'min_child_weight': 0.04, 'min_child_samples': 250, 'subsample': 0.2}. Best is trial 0 with value: 0.6748989672204759.\u001b[0m\n",
      "\u001b[32m[I 2022-11-30 10:42:01,483]\u001b[0m Trial 4 finished with value: 0.6710073342314025 and parameters: {'num_leaves': 4, 'max_depth': 8, 'learning_rate': 0.3, 'n_estimators': 450, 'min_child_weight': 0.08, 'min_child_samples': 300, 'subsample': 1.0}. Best is trial 0 with value: 0.6748989672204759.\u001b[0m\n",
      "\u001b[32m[I 2022-11-30 10:42:23,605]\u001b[0m Trial 5 finished with value: 0.3488998652896273 and parameters: {'num_leaves': 16, 'max_depth': 6, 'learning_rate': 0.74, 'n_estimators': 450, 'min_child_weight': 0.06999999999999999, 'min_child_samples': 225, 'subsample': 0.2}. Best is trial 0 with value: 0.6748989672204759.\u001b[0m\n",
      "\u001b[32m[I 2022-11-30 10:42:49,254]\u001b[0m Trial 6 finished with value: 0.2928453824277803 and parameters: {'num_leaves': 16, 'max_depth': 8, 'learning_rate': 0.8200000000000001, 'n_estimators': 500, 'min_child_weight': 0.02, 'min_child_samples': 300, 'subsample': 0.4}. Best is trial 0 with value: 0.6748989672204759.\u001b[0m\n",
      "\u001b[32m[I 2022-11-30 10:43:42,915]\u001b[0m Trial 7 finished with value: 0.6745247717407574 and parameters: {'num_leaves': 20, 'max_depth': 8, 'learning_rate': 0.7, 'n_estimators': 475, 'min_child_weight': 0.04, 'min_child_samples': 225, 'subsample': 0.4}. Best is trial 0 with value: 0.6748989672204759.\u001b[0m\n",
      "\u001b[32m[I 2022-11-30 10:44:03,454]\u001b[0m Trial 8 finished with value: 0.6484059272563988 and parameters: {'num_leaves': 8, 'max_depth': 2, 'learning_rate': 0.8200000000000001, 'n_estimators': 425, 'min_child_weight': 0.01, 'min_child_samples': 200, 'subsample': 1.0}. Best is trial 0 with value: 0.6748989672204759.\u001b[0m\n",
      "\u001b[32m[I 2022-11-30 10:44:36,052]\u001b[0m Trial 9 finished with value: 0.6589582397844634 and parameters: {'num_leaves': 8, 'max_depth': 4, 'learning_rate': 0.6000000000000001, 'n_estimators': 500, 'min_child_weight': 0.060000000000000005, 'min_child_samples': 225, 'subsample': 1.0}. Best is trial 0 with value: 0.6748989672204759.\u001b[0m\n"
     ]
    }
   ],
   "source": [
    "lgb_study = optuna.create_study(study_name=\"LightGBM Classifier\", direction=\"maximize\")\n",
    "lgb_study.optimize(lgb_objective, n_trials=10)"
   ]
  },
  {
   "cell_type": "code",
   "execution_count": 77,
   "id": "b4da4e35",
   "metadata": {},
   "outputs": [
    {
     "name": "stdout",
     "output_type": "stream",
     "text": [
      "Best Params: {'num_leaves': 20, 'max_depth': 4, 'learning_rate': 0.32, 'n_estimators': 500, 'min_child_weight': 0.06999999999999999, 'min_child_samples': 250, 'subsample': 1.0}\n",
      "\n",
      "Best Accuracy: 0.6748989672204759\n"
     ]
    }
   ],
   "source": [
    "print(\"Best Params: {}\".format(lgb_study.best_params))\n",
    "print(\"\\nBest Accuracy: {}\".format(lgb_study.best_value))"
   ]
  },
  {
   "cell_type": "code",
   "execution_count": 78,
   "id": "48af95da",
   "metadata": {},
   "outputs": [
    {
     "name": "stdout",
     "output_type": "stream",
     "text": [
      "LightGBM Classifier Accuracy on Train Dataset: 0.9999812888256867\n",
      "\n",
      "LightGBM Classifier Accuracy on Test Dataset: 0.6748989672204759\n",
      "#####################\n",
      "\n",
      "LightGBM Classifier F1 Score on Train Dataset: 0.9999812885549311\n",
      "\n",
      "LightGBM Classifier F1 Score on Test Dataset: 0.6604369097573356\n"
     ]
    },
    {
     "data": {
      "text/html": [
       "<div>\n",
       "<style scoped>\n",
       "    .dataframe tbody tr th:only-of-type {\n",
       "        vertical-align: middle;\n",
       "    }\n",
       "\n",
       "    .dataframe tbody tr th {\n",
       "        vertical-align: top;\n",
       "    }\n",
       "\n",
       "    .dataframe thead th {\n",
       "        text-align: right;\n",
       "    }\n",
       "</style>\n",
       "<table border=\"1\" class=\"dataframe\">\n",
       "  <thead>\n",
       "    <tr style=\"text-align: right;\">\n",
       "      <th></th>\n",
       "      <th>precision</th>\n",
       "      <th>recall</th>\n",
       "      <th>f1-score</th>\n",
       "      <th>support</th>\n",
       "    </tr>\n",
       "  </thead>\n",
       "  <tbody>\n",
       "    <tr>\n",
       "      <th>0</th>\n",
       "      <td>0.626556</td>\n",
       "      <td>0.528897</td>\n",
       "      <td>0.573599</td>\n",
       "      <td>1142.000000</td>\n",
       "    </tr>\n",
       "    <tr>\n",
       "      <th>1</th>\n",
       "      <td>0.614325</td>\n",
       "      <td>0.302989</td>\n",
       "      <td>0.405823</td>\n",
       "      <td>736.000000</td>\n",
       "    </tr>\n",
       "    <tr>\n",
       "      <th>2</th>\n",
       "      <td>0.580369</td>\n",
       "      <td>0.555485</td>\n",
       "      <td>0.567655</td>\n",
       "      <td>1586.000000</td>\n",
       "    </tr>\n",
       "    <tr>\n",
       "      <th>3</th>\n",
       "      <td>0.656239</td>\n",
       "      <td>0.728543</td>\n",
       "      <td>0.690503</td>\n",
       "      <td>2505.000000</td>\n",
       "    </tr>\n",
       "    <tr>\n",
       "      <th>4</th>\n",
       "      <td>0.657170</td>\n",
       "      <td>0.794930</td>\n",
       "      <td>0.719515</td>\n",
       "      <td>3511.000000</td>\n",
       "    </tr>\n",
       "    <tr>\n",
       "      <th>5</th>\n",
       "      <td>0.680000</td>\n",
       "      <td>0.127820</td>\n",
       "      <td>0.215190</td>\n",
       "      <td>133.000000</td>\n",
       "    </tr>\n",
       "    <tr>\n",
       "      <th>6</th>\n",
       "      <td>0.771122</td>\n",
       "      <td>0.819705</td>\n",
       "      <td>0.794672</td>\n",
       "      <td>2984.000000</td>\n",
       "    </tr>\n",
       "    <tr>\n",
       "      <th>7</th>\n",
       "      <td>1.000000</td>\n",
       "      <td>0.000000</td>\n",
       "      <td>0.000000</td>\n",
       "      <td>22.000000</td>\n",
       "    </tr>\n",
       "    <tr>\n",
       "      <th>8</th>\n",
       "      <td>0.444444</td>\n",
       "      <td>0.027586</td>\n",
       "      <td>0.051948</td>\n",
       "      <td>145.000000</td>\n",
       "    </tr>\n",
       "    <tr>\n",
       "      <th>9</th>\n",
       "      <td>0.757143</td>\n",
       "      <td>0.308140</td>\n",
       "      <td>0.438017</td>\n",
       "      <td>172.000000</td>\n",
       "    </tr>\n",
       "    <tr>\n",
       "      <th>10</th>\n",
       "      <td>0.816901</td>\n",
       "      <td>0.408451</td>\n",
       "      <td>0.544601</td>\n",
       "      <td>426.000000</td>\n",
       "    </tr>\n",
       "    <tr>\n",
       "      <th>accuracy</th>\n",
       "      <td>0.674899</td>\n",
       "      <td>0.674899</td>\n",
       "      <td>0.674899</td>\n",
       "      <td>0.674899</td>\n",
       "    </tr>\n",
       "    <tr>\n",
       "      <th>macro avg</th>\n",
       "      <td>0.691297</td>\n",
       "      <td>0.418413</td>\n",
       "      <td>0.454684</td>\n",
       "      <td>13362.000000</td>\n",
       "    </tr>\n",
       "    <tr>\n",
       "      <th>weighted avg</th>\n",
       "      <td>0.673213</td>\n",
       "      <td>0.674899</td>\n",
       "      <td>0.660437</td>\n",
       "      <td>13362.000000</td>\n",
       "    </tr>\n",
       "  </tbody>\n",
       "</table>\n",
       "</div>"
      ],
      "text/plain": [
       "              precision    recall  f1-score       support\n",
       "0              0.626556  0.528897  0.573599   1142.000000\n",
       "1              0.614325  0.302989  0.405823    736.000000\n",
       "2              0.580369  0.555485  0.567655   1586.000000\n",
       "3              0.656239  0.728543  0.690503   2505.000000\n",
       "4              0.657170  0.794930  0.719515   3511.000000\n",
       "5              0.680000  0.127820  0.215190    133.000000\n",
       "6              0.771122  0.819705  0.794672   2984.000000\n",
       "7              1.000000  0.000000  0.000000     22.000000\n",
       "8              0.444444  0.027586  0.051948    145.000000\n",
       "9              0.757143  0.308140  0.438017    172.000000\n",
       "10             0.816901  0.408451  0.544601    426.000000\n",
       "accuracy       0.674899  0.674899  0.674899      0.674899\n",
       "macro avg      0.691297  0.418413  0.454684  13362.000000\n",
       "weighted avg   0.673213  0.674899  0.660437  13362.000000"
      ]
     },
     "execution_count": 78,
     "metadata": {},
     "output_type": "execute_result"
    }
   ],
   "source": [
    "lgb_clf = LGBMClassifier(**lgb_study.best_params)\n",
    "lgb_clf.fit(X_train, y_train)\n",
    "\n",
    "y_pred_train = lgb_clf.predict(X_train)\n",
    "y_pred_test = lgb_clf.predict(X_test)\n",
    "\n",
    "lgb_train_acc = accuracy_score(y_train, y_pred_train)\n",
    "lgb_test_acc = accuracy_score(y_test, y_pred_test)\n",
    "\n",
    "lgb_train_f1 = f1_score(y_train, y_pred_train, average='weighted')\n",
    "lgb_test_f1 = f1_score(y_test, y_pred_test, average='weighted')\n",
    "\n",
    "print(\"LightGBM Classifier Accuracy on Train Dataset: {}\".format(lgb_train_acc))\n",
    "print(\"\\nLightGBM Classifier Accuracy on Test Dataset: {}\".format(lgb_test_acc))\n",
    "print(\"#####################\")\n",
    "print(\"\\nLightGBM Classifier F1 Score on Train Dataset: {}\".format(lgb_train_f1))\n",
    "print(\"\\nLightGBM Classifier F1 Score on Test Dataset: {}\".format(lgb_test_f1))\n",
    "\n",
    "# Create Test Confusion Matrix and Classification Report\n",
    "cm_lgb = confusion_matrix(y_test, y_pred_test) # can use to make heatmap\n",
    "cr_lgb = pd.DataFrame(classification_report(y_test, y_pred_test, zero_division=1, output_dict=True)).T #, average= 'weighted')\n",
    "cr_lgb"
   ]
  },
  {
   "cell_type": "code",
   "execution_count": 79,
   "id": "1ada6f5a",
   "metadata": {},
   "outputs": [
    {
     "data": {
      "image/png": "[encoded data removed]",
      "text/plain": [
       "<Figure size 720x720 with 2 Axes>"
      ]
     },
     "metadata": {
      "needs_background": "light"
     },
     "output_type": "display_data"
    }
   ],
   "source": [
    "#Plotting the confusion matrix as heatmap\n",
    "plt.figure(figsize=(10,10))\n",
    "sns.heatmap(cm_lgb, annot=True, cmap='viridis') #, cmap='crest')#, linewidth=.1)#, annot=True)\n",
    "plt.title('Confusion Matrix - LightGBM Classifier Model')\n",
    "plt.ylabel('Actual Values')\n",
    "plt.xlabel('Predicted Values')\n",
    "plt.show()"
   ]
  },
  {
   "cell_type": "markdown",
   "id": "91a121f8",
   "metadata": {},
   "source": [
    "- ### LightGBM Classifier performed about the same as the Passive Aggressive, Logistic Regression, and XGBoost Classifiers but had a much larger degree of overfitting with much higher metrics on training data."
   ]
  },
  {
   "cell_type": "markdown",
   "id": "6578d99a",
   "metadata": {},
   "source": [
    "## Save models"
   ]
  },
  {
   "cell_type": "code",
   "execution_count": 80,
   "id": "9951a28d",
   "metadata": {},
   "outputs": [],
   "source": [
    "# save models\n",
    "pickle.dump(log_clf, open('./bin/Doc2Vec/log_clf.pkl', 'wb'))\n",
    "pickle.dump(pac_clf, open('./bin/Doc2Vec/pac_clf.pkl', 'wb'))\n",
    "pickle.dump(rfc_clf, open('./bin/Doc2Vec/rfc_clf.pkl', 'wb'))\n",
    "pickle.dump(xgb_clf, open('./bin/Doc2Vec/xgb_clf.pkl', 'wb'))\n",
    "pickle.dump(lgb_clf, open('./bin/Doc2Vec/lgb_clf.pkl', 'wb'))"
   ]
  },
  {
   "cell_type": "markdown",
   "id": "a5dcee91",
   "metadata": {},
   "source": [
    "## Ensemble best models together to balance bias-variance tradeoff / mitigate any overfitting."
   ]
  },
  {
   "cell_type": "code",
   "execution_count": 81,
   "id": "8ed71207",
   "metadata": {},
   "outputs": [],
   "source": [
    "# load 3 best saved models\n",
    "log_clf = pickle.load(open('./bin/Doc2Vec/log_clf.pkl', 'rb'))\n",
    "pac_clf = pickle.load(open('./bin/Doc2Vec/pac_clf.pkl', 'rb'))\n",
    "xgb_clf = pickle.load(open('./bin/Doc2Vec/xgb_clf.pkl', 'rb'))"
   ]
  },
  {
   "cell_type": "code",
   "execution_count": 82,
   "id": "86915e24",
   "metadata": {},
   "outputs": [],
   "source": [
    "ensemble_clf = VotingClassifier(estimators=[('log', log_clf), ('pac', pac_clf), ('xgb', xgb_clf)], \n",
    "                                    voting='hard') # must use 'hard' voting and not 'soft' argmax voting since pac does not have predict_proba"
   ]
  },
  {
   "cell_type": "code",
   "execution_count": 83,
   "id": "dfbe5ce8",
   "metadata": {},
   "outputs": [
    {
     "name": "stdout",
     "output_type": "stream",
     "text": [
      "[11:11:45] WARNING: C:/buildkite-agent/builds/buildkite-windows-cpu-autoscaling-group-i-03de431ba26204c4d-1/xgboost/xgboost-ci-windows/src/learner.cc:767: \n",
      "Parameters: { \"gamma\", \"max_depth\", \"min_child_weight\", \"subsample\" } are not used.\n",
      "\n"
     ]
    }
   ],
   "source": [
    "ensemble_clf = ensemble_clf.fit(X_train, y_train)"
   ]
  },
  {
   "cell_type": "code",
   "execution_count": 84,
   "id": "2acbcb0a",
   "metadata": {},
   "outputs": [],
   "source": [
    "y_pred_train_ensemble = ensemble_clf.predict(X_train)\n",
    "y_pred_test_ensemble = ensemble_clf.predict(X_test)"
   ]
  },
  {
   "cell_type": "code",
   "execution_count": 85,
   "id": "02e511c3",
   "metadata": {},
   "outputs": [
    {
     "name": "stdout",
     "output_type": "stream",
     "text": [
      "Ensemble Accuracy on Train Dataset: 0.7645760047900606\n",
      "\n",
      "Ensemble Accuracy on Test Dataset: 0.6973506960035922\n",
      "#####################\n",
      "\n",
      "Ensemble F1 Score on Train Dataset: 0.7600472971255634\n",
      "\n",
      "Ensemble F1 Score on Test Dataset: 0.6870680586242343\n"
     ]
    }
   ],
   "source": [
    "results_ensemble_train_acc = accuracy_score(y_train, y_pred_train_ensemble)\n",
    "results_ensemble_test_acc = accuracy_score(y_test, y_pred_test_ensemble)\n",
    "\n",
    "results_ensemble_train_f1 = f1_score(y_train, y_pred_train_ensemble, average='weighted')\n",
    "results_ensemble_test_f1 = f1_score(y_test, y_pred_test_ensemble, average='weighted')\n",
    "\n",
    "print(\"Ensemble Accuracy on Train Dataset: {}\".format(results_ensemble_train_acc))\n",
    "print(\"\\nEnsemble Accuracy on Test Dataset: {}\".format(results_ensemble_test_acc))\n",
    "print(\"#####################\")\n",
    "print(\"\\nEnsemble F1 Score on Train Dataset: {}\".format(results_ensemble_train_f1))\n",
    "print(\"\\nEnsemble F1 Score on Test Dataset: {}\".format(results_ensemble_test_f1))"
   ]
  },
  {
   "cell_type": "markdown",
   "id": "cf968e77",
   "metadata": {},
   "source": [
    "- ### Still some overfitting to training data.  Try removing pac and only ensembling Logistic Regression and XGBoost together using 'soft' argmax voting with predict_proba"
   ]
  },
  {
   "cell_type": "code",
   "execution_count": 86,
   "id": "af0c0a0e",
   "metadata": {},
   "outputs": [],
   "source": [
    "ensemble_clf_soft = VotingClassifier(estimators=[('log', log_clf), ('xgb', xgb_clf)], \n",
    "                                    voting='soft')"
   ]
  },
  {
   "cell_type": "code",
   "execution_count": 87,
   "id": "1516f13b",
   "metadata": {},
   "outputs": [
    {
     "name": "stdout",
     "output_type": "stream",
     "text": [
      "[11:13:22] WARNING: C:/buildkite-agent/builds/buildkite-windows-cpu-autoscaling-group-i-03de431ba26204c4d-1/xgboost/xgboost-ci-windows/src/learner.cc:767: \n",
      "Parameters: { \"gamma\", \"max_depth\", \"min_child_weight\", \"subsample\" } are not used.\n",
      "\n"
     ]
    }
   ],
   "source": [
    "ensemble_clf_soft = ensemble_clf_soft.fit(X_train, y_train)"
   ]
  },
  {
   "cell_type": "code",
   "execution_count": 88,
   "id": "a60d29c2",
   "metadata": {},
   "outputs": [],
   "source": [
    "y_pred_train_ensemble = ensemble_clf_soft.predict(X_train)\n",
    "y_pred_test_ensemble = ensemble_clf_soft.predict(X_test)"
   ]
  },
  {
   "cell_type": "code",
   "execution_count": 89,
   "id": "5d2d6a2b",
   "metadata": {},
   "outputs": [
    {
     "name": "stdout",
     "output_type": "stream",
     "text": [
      "Ensemble Accuracy on Train Dataset: 0.7683743731756605\n",
      "\n",
      "Ensemble Accuracy on Test Dataset: 0.7012423289926658\n",
      "#####################\n",
      "\n",
      "Ensemble F1 Score on Train Dataset: 0.7643676769105351\n",
      "\n",
      "Ensemble F1 Score on Test Dataset: 0.69093673083622\n"
     ]
    }
   ],
   "source": [
    "results_ensemble_train_acc = accuracy_score(y_train, y_pred_train_ensemble)\n",
    "results_ensemble_test_acc = accuracy_score(y_test, y_pred_test_ensemble)\n",
    "\n",
    "results_ensemble_train_f1 = f1_score(y_train, y_pred_train_ensemble, average='weighted')\n",
    "results_ensemble_test_f1 = f1_score(y_test, y_pred_test_ensemble, average='weighted')\n",
    "\n",
    "print(\"Ensemble Accuracy on Train Dataset: {}\".format(results_ensemble_train_acc))\n",
    "print(\"\\nEnsemble Accuracy on Test Dataset: {}\".format(results_ensemble_test_acc))\n",
    "print(\"#####################\")\n",
    "print(\"\\nEnsemble F1 Score on Train Dataset: {}\".format(results_ensemble_train_f1))\n",
    "print(\"\\nEnsemble F1 Score on Test Dataset: {}\".format(results_ensemble_test_f1))"
   ]
  },
  {
   "cell_type": "markdown",
   "id": "e264567a",
   "metadata": {},
   "source": [
    "- ### Only slight overfitting to training data and Accuracy / f1 scores are slightly better when ensembling Logistic Regression and XGBoost Classifiers using 'soft' argmax voting (predict_proba) than ensembling Logistic Regression, Passive Aggressive, and XGBoost Classifiers using 'hard' voting (predict, not predict_proba). \n",
    "- ### Results for Gensim's Doc2Vec embedded vectors are not as good as previous tfidf modeling.\n",
    "- ### Try pretrained Transformers from huggingface next."
   ]
  },
  {
   "cell_type": "code",
   "execution_count": null,
   "id": "919c6d3d",
   "metadata": {},
   "outputs": [],
   "source": []
  }
 ],
 "metadata": {
  "kernelspec": {
   "display_name": "Python 3.9.12 ('base')",
   "language": "python",
   "name": "python3"
  },
  "language_info": {
   "codemirror_mode": {
    "name": "ipython",
    "version": 3
   },
   "file_extension": ".py",
   "mimetype": "text/x-python",
   "name": "python",
   "nbconvert_exporter": "python",
   "pygments_lexer": "ipython3",
   "version": "3.9.12"
  },
  "vscode": {
   "interpreter": {
    "hash": "f1221626d38f612a20ecbe1e829aa068c791b4ef2833793e8e65f53f52760f36"
   }
  }
 },
 "nbformat": 4,
 "nbformat_minor": 5
}
