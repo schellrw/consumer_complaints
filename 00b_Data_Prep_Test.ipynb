{
 "cells": [
  {
   "cell_type": "markdown",
   "id": "cad504ae",
   "metadata": {},
   "source": [
    "## Package imports"
   ]
  },
  {
   "cell_type": "code",
   "execution_count": 1,
   "id": "e33e0e48",
   "metadata": {},
   "outputs": [],
   "source": [
    "import numpy as np\n",
    "import pandas as pd\n",
    "import datetime as dt\n",
    "from tqdm import tqdm\n",
    "tqdm.pandas(desc=\"progress-bar\")\n",
    "import nltk\n",
    "from nltk.corpus import stopwords\n",
    "from nltk.stem import WordNetLemmatizer, SnowballStemmer\n",
    "import string\n",
    "\n",
    "from pandas_profiling import ProfileReport\n",
    "from sklearn.model_selection import StratifiedShuffleSplit\n",
    "from sklearn.preprocessing import LabelEncoder, OneHotEncoder, StandardScaler\n",
    "from sklearn.feature_extraction.text import TfidfVectorizer\n",
    "from sklearn.metrics import accuracy_score, f1_score, classification_report, confusion_matrix\n",
    "\n",
    "import re\n",
    "import seaborn as sns\n",
    "import matplotlib.pyplot as plt\n",
    "\n",
    "import scipy.stats as st\n",
    "from scipy import sparse\n",
    "from scipy.sparse import hstack\n",
    "import pyarrow"
   ]
  },
  {
   "cell_type": "code",
   "execution_count": 2,
   "id": "c727bc62",
   "metadata": {},
   "outputs": [
    {
     "name": "stderr",
     "output_type": "stream",
     "text": [
      "[nltk_data] Downloading package stopwords to\n",
      "[nltk_data]     C:\\Users\\schel\\AppData\\Roaming\\nltk_data...\n",
      "[nltk_data]   Package stopwords is already up-to-date!\n",
      "[nltk_data] Downloading package wordnet to\n",
      "[nltk_data]     C:\\Users\\schel\\AppData\\Roaming\\nltk_data...\n",
      "[nltk_data]   Package wordnet is already up-to-date!\n",
      "[nltk_data] Downloading package punkt to\n",
      "[nltk_data]     C:\\Users\\schel\\AppData\\Roaming\\nltk_data...\n",
      "[nltk_data]   Package punkt is already up-to-date!\n",
      "[nltk_data] Downloading package omw-1.4 to\n",
      "[nltk_data]     C:\\Users\\schel\\AppData\\Roaming\\nltk_data...\n",
      "[nltk_data]   Package omw-1.4 is already up-to-date!\n"
     ]
    }
   ],
   "source": [
    "# Downloads and display options\n",
    "nltk.download('stopwords')\n",
    "nltk.download('wordnet')\n",
    "nltk.download('punkt')\n",
    "nltk.download('omw-1.4')\n",
    "punctuation = string.punctuation\n",
    "stop_words = list(stopwords.words('english'))\n",
    "#stop_words = set(stopwords.words('english'))\n",
    "pd.options.display.max_columns = None\n",
    "pd.options.display.max_rows = None\n",
    "%matplotlib inline"
   ]
  },
  {
   "cell_type": "markdown",
   "id": "78df11da",
   "metadata": {},
   "source": [
    "## Import data"
   ]
  },
  {
   "cell_type": "code",
   "execution_count": 3,
   "id": "3ec7fe4a",
   "metadata": {},
   "outputs": [
    {
     "data": {
      "text/html": [
       "<div>\n",
       "<style scoped>\n",
       "    .dataframe tbody tr th:only-of-type {\n",
       "        vertical-align: middle;\n",
       "    }\n",
       "\n",
       "    .dataframe tbody tr th {\n",
       "        vertical-align: top;\n",
       "    }\n",
       "\n",
       "    .dataframe thead th {\n",
       "        text-align: right;\n",
       "    }\n",
       "</style>\n",
       "<table border=\"1\" class=\"dataframe\">\n",
       "  <thead>\n",
       "    <tr style=\"text-align: right;\">\n",
       "      <th></th>\n",
       "      <th>date_received</th>\n",
       "      <th>sub_product</th>\n",
       "      <th>issue</th>\n",
       "      <th>sub_issue</th>\n",
       "      <th>consumer_complaint_narrative</th>\n",
       "      <th>company_public_response</th>\n",
       "      <th>company</th>\n",
       "      <th>state</th>\n",
       "      <th>zipcode</th>\n",
       "      <th>tags</th>\n",
       "      <th>consumer_consent_provided</th>\n",
       "      <th>submitted_via</th>\n",
       "      <th>date_sent_to_company</th>\n",
       "      <th>company_response_to_consumer</th>\n",
       "      <th>timely_response</th>\n",
       "      <th>consumer_disputed?</th>\n",
       "      <th>complaint_id</th>\n",
       "    </tr>\n",
       "  </thead>\n",
       "  <tbody>\n",
       "    <tr>\n",
       "      <th>0</th>\n",
       "      <td>10/17/2015</td>\n",
       "      <td>VA mortgage</td>\n",
       "      <td>Loan servicing, payments, escrow account</td>\n",
       "      <td>None</td>\n",
       "      <td>My husband and I agreed to pay off our mortgag...</td>\n",
       "      <td>Company chooses not to provide a public response</td>\n",
       "      <td>Wells Fargo &amp; Company</td>\n",
       "      <td>PA</td>\n",
       "      <td>170XX</td>\n",
       "      <td>Older American</td>\n",
       "      <td>Consent provided</td>\n",
       "      <td>Web</td>\n",
       "      <td>10/17/2015</td>\n",
       "      <td>Closed with explanation</td>\n",
       "      <td>Yes</td>\n",
       "      <td>No</td>\n",
       "      <td>1612298</td>\n",
       "    </tr>\n",
       "    <tr>\n",
       "      <th>1</th>\n",
       "      <td>10/06/2015</td>\n",
       "      <td>None</td>\n",
       "      <td>Credit reporting company's investigation</td>\n",
       "      <td>No notice of investigation status/result</td>\n",
       "      <td>I am filing a complaint because EQUIFAX has ig...</td>\n",
       "      <td>None</td>\n",
       "      <td>Equifax</td>\n",
       "      <td>MI</td>\n",
       "      <td>481XX</td>\n",
       "      <td>None</td>\n",
       "      <td>Consent provided</td>\n",
       "      <td>Web</td>\n",
       "      <td>10/06/2015</td>\n",
       "      <td>Closed with explanation</td>\n",
       "      <td>Yes</td>\n",
       "      <td>No</td>\n",
       "      <td>1594610</td>\n",
       "    </tr>\n",
       "    <tr>\n",
       "      <th>2</th>\n",
       "      <td>01/03/2016</td>\n",
       "      <td>I do not know</td>\n",
       "      <td>Cont'd attempts collect debt not owed</td>\n",
       "      <td>Debt resulted from identity theft</td>\n",
       "      <td>This account is fraudulent and the company ref...</td>\n",
       "      <td>None</td>\n",
       "      <td>Receivable Recovery Services, LLC</td>\n",
       "      <td>SC</td>\n",
       "      <td>293XX</td>\n",
       "      <td>None</td>\n",
       "      <td>Consent provided</td>\n",
       "      <td>Web</td>\n",
       "      <td>01/03/2016</td>\n",
       "      <td>Closed with explanation</td>\n",
       "      <td>Yes</td>\n",
       "      <td>Yes</td>\n",
       "      <td>1726546</td>\n",
       "    </tr>\n",
       "    <tr>\n",
       "      <th>3</th>\n",
       "      <td>10/03/2015</td>\n",
       "      <td>Checking account</td>\n",
       "      <td>Problems caused by my funds being low</td>\n",
       "      <td>None</td>\n",
       "      <td>Again, I lived in XXXX from : XX/XX/XXXX, unti...</td>\n",
       "      <td>Company chooses not to provide a public response</td>\n",
       "      <td>BB&amp;T Financial</td>\n",
       "      <td>WV</td>\n",
       "      <td>257XX</td>\n",
       "      <td>Older American, Servicemember</td>\n",
       "      <td>Consent provided</td>\n",
       "      <td>Web</td>\n",
       "      <td>10/06/2015</td>\n",
       "      <td>Closed with explanation</td>\n",
       "      <td>Yes</td>\n",
       "      <td>No</td>\n",
       "      <td>1591505</td>\n",
       "    </tr>\n",
       "    <tr>\n",
       "      <th>4</th>\n",
       "      <td>07/19/2015</td>\n",
       "      <td>I do not know</td>\n",
       "      <td>Communication tactics</td>\n",
       "      <td>Frequent or repeated calls</td>\n",
       "      <td>This company calls multiple times a day despit...</td>\n",
       "      <td>None</td>\n",
       "      <td>Portfolio Recovery Associates, Inc.</td>\n",
       "      <td>NC</td>\n",
       "      <td>276XX</td>\n",
       "      <td>None</td>\n",
       "      <td>Consent provided</td>\n",
       "      <td>Web</td>\n",
       "      <td>07/19/2015</td>\n",
       "      <td>Closed with non-monetary relief</td>\n",
       "      <td>Yes</td>\n",
       "      <td>No</td>\n",
       "      <td>1473494</td>\n",
       "    </tr>\n",
       "    <tr>\n",
       "      <th>5</th>\n",
       "      <td>03/01/2016</td>\n",
       "      <td>Conventional fixed mortgage</td>\n",
       "      <td>Loan modification,collection,foreclosure</td>\n",
       "      <td>None</td>\n",
       "      <td>in 2012 I entered into a \" settlement note '' ...</td>\n",
       "      <td>Company believes complaint caused principally ...</td>\n",
       "      <td>Dyck-O'Neal, Inc.</td>\n",
       "      <td>FL</td>\n",
       "      <td>331XX</td>\n",
       "      <td>None</td>\n",
       "      <td>Consent provided</td>\n",
       "      <td>Web</td>\n",
       "      <td>03/01/2016</td>\n",
       "      <td>Closed with explanation</td>\n",
       "      <td>Yes</td>\n",
       "      <td>Yes</td>\n",
       "      <td>1812016</td>\n",
       "    </tr>\n",
       "    <tr>\n",
       "      <th>6</th>\n",
       "      <td>10/05/2015</td>\n",
       "      <td>Conventional fixed mortgage</td>\n",
       "      <td>Loan servicing, payments, escrow account</td>\n",
       "      <td>None</td>\n",
       "      <td>Once again, I am registering a complaint again...</td>\n",
       "      <td>None</td>\n",
       "      <td>Ocwen</td>\n",
       "      <td>MO</td>\n",
       "      <td>630XX</td>\n",
       "      <td>None</td>\n",
       "      <td>Consent provided</td>\n",
       "      <td>Web</td>\n",
       "      <td>10/05/2015</td>\n",
       "      <td>Closed with explanation</td>\n",
       "      <td>Yes</td>\n",
       "      <td>Yes</td>\n",
       "      <td>1592138</td>\n",
       "    </tr>\n",
       "    <tr>\n",
       "      <th>7</th>\n",
       "      <td>10/26/2015</td>\n",
       "      <td>Credit card</td>\n",
       "      <td>Disclosure verification of debt</td>\n",
       "      <td>Right to dispute notice not received</td>\n",
       "      <td>I sent sample letter from CFPB requesting more...</td>\n",
       "      <td>None</td>\n",
       "      <td>Resurgent Capital Services L.P.</td>\n",
       "      <td>NC</td>\n",
       "      <td>283XX</td>\n",
       "      <td>None</td>\n",
       "      <td>Consent provided</td>\n",
       "      <td>Web</td>\n",
       "      <td>10/26/2015</td>\n",
       "      <td>Closed with explanation</td>\n",
       "      <td>Yes</td>\n",
       "      <td>Yes</td>\n",
       "      <td>1625400</td>\n",
       "    </tr>\n",
       "    <tr>\n",
       "      <th>8</th>\n",
       "      <td>06/20/2015</td>\n",
       "      <td>Conventional fixed mortgage</td>\n",
       "      <td>Loan modification,collection,foreclosure</td>\n",
       "      <td>None</td>\n",
       "      <td>CITI MORTGAGE COMPLAINT : Today my broker and ...</td>\n",
       "      <td>None</td>\n",
       "      <td>Citibank</td>\n",
       "      <td>FL</td>\n",
       "      <td>341XX</td>\n",
       "      <td>None</td>\n",
       "      <td>Consent provided</td>\n",
       "      <td>Web</td>\n",
       "      <td>06/20/2015</td>\n",
       "      <td>Closed with explanation</td>\n",
       "      <td>Yes</td>\n",
       "      <td>No</td>\n",
       "      <td>1428841</td>\n",
       "    </tr>\n",
       "    <tr>\n",
       "      <th>9</th>\n",
       "      <td>08/10/2015</td>\n",
       "      <td>FHA mortgage</td>\n",
       "      <td>Loan servicing, payments, escrow account</td>\n",
       "      <td>None</td>\n",
       "      <td>I have a mortgage loan with Amerihome Mortgage...</td>\n",
       "      <td>None</td>\n",
       "      <td>AmeriHome Mortgage Company, LLC</td>\n",
       "      <td>AZ</td>\n",
       "      <td>864XX</td>\n",
       "      <td>Older American</td>\n",
       "      <td>Consent provided</td>\n",
       "      <td>Web</td>\n",
       "      <td>08/10/2015</td>\n",
       "      <td>Closed with non-monetary relief</td>\n",
       "      <td>Yes</td>\n",
       "      <td>No</td>\n",
       "      <td>1511611</td>\n",
       "    </tr>\n",
       "  </tbody>\n",
       "</table>\n",
       "</div>"
      ],
      "text/plain": [
       "  date_received                  sub_product  \\\n",
       "0    10/17/2015                  VA mortgage   \n",
       "1    10/06/2015                         None   \n",
       "2    01/03/2016                I do not know   \n",
       "3    10/03/2015             Checking account   \n",
       "4    07/19/2015                I do not know   \n",
       "5    03/01/2016  Conventional fixed mortgage   \n",
       "6    10/05/2015  Conventional fixed mortgage   \n",
       "7    10/26/2015                  Credit card   \n",
       "8    06/20/2015  Conventional fixed mortgage   \n",
       "9    08/10/2015                 FHA mortgage   \n",
       "\n",
       "                                      issue  \\\n",
       "0  Loan servicing, payments, escrow account   \n",
       "1  Credit reporting company's investigation   \n",
       "2     Cont'd attempts collect debt not owed   \n",
       "3     Problems caused by my funds being low   \n",
       "4                     Communication tactics   \n",
       "5  Loan modification,collection,foreclosure   \n",
       "6  Loan servicing, payments, escrow account   \n",
       "7           Disclosure verification of debt   \n",
       "8  Loan modification,collection,foreclosure   \n",
       "9  Loan servicing, payments, escrow account   \n",
       "\n",
       "                                  sub_issue  \\\n",
       "0                                      None   \n",
       "1  No notice of investigation status/result   \n",
       "2         Debt resulted from identity theft   \n",
       "3                                      None   \n",
       "4                Frequent or repeated calls   \n",
       "5                                      None   \n",
       "6                                      None   \n",
       "7      Right to dispute notice not received   \n",
       "8                                      None   \n",
       "9                                      None   \n",
       "\n",
       "                        consumer_complaint_narrative  \\\n",
       "0  My husband and I agreed to pay off our mortgag...   \n",
       "1  I am filing a complaint because EQUIFAX has ig...   \n",
       "2  This account is fraudulent and the company ref...   \n",
       "3  Again, I lived in XXXX from : XX/XX/XXXX, unti...   \n",
       "4  This company calls multiple times a day despit...   \n",
       "5  in 2012 I entered into a \" settlement note '' ...   \n",
       "6  Once again, I am registering a complaint again...   \n",
       "7  I sent sample letter from CFPB requesting more...   \n",
       "8  CITI MORTGAGE COMPLAINT : Today my broker and ...   \n",
       "9  I have a mortgage loan with Amerihome Mortgage...   \n",
       "\n",
       "                             company_public_response  \\\n",
       "0   Company chooses not to provide a public response   \n",
       "1                                               None   \n",
       "2                                               None   \n",
       "3   Company chooses not to provide a public response   \n",
       "4                                               None   \n",
       "5  Company believes complaint caused principally ...   \n",
       "6                                               None   \n",
       "7                                               None   \n",
       "8                                               None   \n",
       "9                                               None   \n",
       "\n",
       "                               company state zipcode  \\\n",
       "0                Wells Fargo & Company    PA   170XX   \n",
       "1                              Equifax    MI   481XX   \n",
       "2    Receivable Recovery Services, LLC    SC   293XX   \n",
       "3                       BB&T Financial    WV   257XX   \n",
       "4  Portfolio Recovery Associates, Inc.    NC   276XX   \n",
       "5                    Dyck-O'Neal, Inc.    FL   331XX   \n",
       "6                                Ocwen    MO   630XX   \n",
       "7      Resurgent Capital Services L.P.    NC   283XX   \n",
       "8                             Citibank    FL   341XX   \n",
       "9      AmeriHome Mortgage Company, LLC    AZ   864XX   \n",
       "\n",
       "                            tags consumer_consent_provided submitted_via  \\\n",
       "0                 Older American          Consent provided           Web   \n",
       "1                           None          Consent provided           Web   \n",
       "2                           None          Consent provided           Web   \n",
       "3  Older American, Servicemember          Consent provided           Web   \n",
       "4                           None          Consent provided           Web   \n",
       "5                           None          Consent provided           Web   \n",
       "6                           None          Consent provided           Web   \n",
       "7                           None          Consent provided           Web   \n",
       "8                           None          Consent provided           Web   \n",
       "9                 Older American          Consent provided           Web   \n",
       "\n",
       "  date_sent_to_company     company_response_to_consumer timely_response  \\\n",
       "0           10/17/2015          Closed with explanation             Yes   \n",
       "1           10/06/2015          Closed with explanation             Yes   \n",
       "2           01/03/2016          Closed with explanation             Yes   \n",
       "3           10/06/2015          Closed with explanation             Yes   \n",
       "4           07/19/2015  Closed with non-monetary relief             Yes   \n",
       "5           03/01/2016          Closed with explanation             Yes   \n",
       "6           10/05/2015          Closed with explanation             Yes   \n",
       "7           10/26/2015          Closed with explanation             Yes   \n",
       "8           06/20/2015          Closed with explanation             Yes   \n",
       "9           08/10/2015  Closed with non-monetary relief             Yes   \n",
       "\n",
       "  consumer_disputed?  complaint_id  \n",
       "0                 No       1612298  \n",
       "1                 No       1594610  \n",
       "2                Yes       1726546  \n",
       "3                 No       1591505  \n",
       "4                 No       1473494  \n",
       "5                Yes       1812016  \n",
       "6                Yes       1592138  \n",
       "7                Yes       1625400  \n",
       "8                 No       1428841  \n",
       "9                 No       1511611  "
      ]
     },
     "execution_count": 3,
     "metadata": {},
     "output_type": "execute_result"
    }
   ],
   "source": [
    "data = pd.read_parquet('./input/dataframes/df_test.parquet')\n",
    "data.head(10)"
   ]
  },
  {
   "cell_type": "code",
   "execution_count": 4,
   "id": "548a4fde",
   "metadata": {},
   "outputs": [],
   "source": [
    "df_test = data.copy()"
   ]
  },
  {
   "cell_type": "code",
   "execution_count": 5,
   "id": "b5cd5ff4",
   "metadata": {},
   "outputs": [
    {
     "name": "stdout",
     "output_type": "stream",
     "text": [
      "<class 'pandas.core.frame.DataFrame'>\n",
      "RangeIndex: 6013 entries, 0 to 6012\n",
      "Data columns (total 17 columns):\n",
      " #   Column                        Non-Null Count  Dtype \n",
      "---  ------                        --------------  ----- \n",
      " 0   date_received                 6013 non-null   object\n",
      " 1   sub_product                   4171 non-null   object\n",
      " 2   issue                         6013 non-null   object\n",
      " 3   sub_issue                     2964 non-null   object\n",
      " 4   consumer_complaint_narrative  6013 non-null   object\n",
      " 5   company_public_response       2967 non-null   object\n",
      " 6   company                       6013 non-null   object\n",
      " 7   state                         5999 non-null   object\n",
      " 8   zipcode                       5998 non-null   object\n",
      " 9   tags                          1038 non-null   object\n",
      " 10  consumer_consent_provided     6013 non-null   object\n",
      " 11  submitted_via                 6013 non-null   object\n",
      " 12  date_sent_to_company          6013 non-null   object\n",
      " 13  company_response_to_consumer  6013 non-null   object\n",
      " 14  timely_response               6013 non-null   object\n",
      " 15  consumer_disputed?            6013 non-null   object\n",
      " 16  complaint_id                  6013 non-null   int64 \n",
      "dtypes: int64(1), object(16)\n",
      "memory usage: 798.7+ KB\n"
     ]
    }
   ],
   "source": [
    "df_test.info()"
   ]
  },
  {
   "cell_type": "code",
   "execution_count": 6,
   "id": "00de20b0",
   "metadata": {},
   "outputs": [
    {
     "data": {
      "text/plain": [
       "(6013, 17)"
      ]
     },
     "execution_count": 6,
     "metadata": {},
     "output_type": "execute_result"
    }
   ],
   "source": [
    "df_test.shape"
   ]
  },
  {
   "attachments": {},
   "cell_type": "markdown",
   "id": "601337c9",
   "metadata": {},
   "source": [
    "## Drop univariate and unneeded variables"
   ]
  },
  {
   "cell_type": "code",
   "execution_count": 7,
   "id": "ebca37d9",
   "metadata": {},
   "outputs": [],
   "source": [
    "df_test = df_test.drop(['consumer_consent_provided', 'submitted_via', 'complaint_id'], axis=1)"
   ]
  },
  {
   "cell_type": "code",
   "execution_count": 8,
   "id": "0955d3b0",
   "metadata": {},
   "outputs": [
    {
     "name": "stdout",
     "output_type": "stream",
     "text": [
      "<class 'pandas.core.frame.DataFrame'>\n",
      "RangeIndex: 6013 entries, 0 to 6012\n",
      "Data columns (total 14 columns):\n",
      " #   Column                        Non-Null Count  Dtype \n",
      "---  ------                        --------------  ----- \n",
      " 0   date_received                 6013 non-null   object\n",
      " 1   sub_product                   4171 non-null   object\n",
      " 2   issue                         6013 non-null   object\n",
      " 3   sub_issue                     2964 non-null   object\n",
      " 4   consumer_complaint_narrative  6013 non-null   object\n",
      " 5   company_public_response       2967 non-null   object\n",
      " 6   company                       6013 non-null   object\n",
      " 7   state                         5999 non-null   object\n",
      " 8   zipcode                       5998 non-null   object\n",
      " 9   tags                          1038 non-null   object\n",
      " 10  date_sent_to_company          6013 non-null   object\n",
      " 11  company_response_to_consumer  6013 non-null   object\n",
      " 12  timely_response               6013 non-null   object\n",
      " 13  consumer_disputed?            6013 non-null   object\n",
      "dtypes: object(14)\n",
      "memory usage: 657.8+ KB\n"
     ]
    }
   ],
   "source": [
    "df_test.info()"
   ]
  },
  {
   "cell_type": "code",
   "execution_count": 9,
   "id": "3748f4f5",
   "metadata": {},
   "outputs": [
    {
     "data": {
      "text/html": [
       "<div>\n",
       "<style scoped>\n",
       "    .dataframe tbody tr th:only-of-type {\n",
       "        vertical-align: middle;\n",
       "    }\n",
       "\n",
       "    .dataframe tbody tr th {\n",
       "        vertical-align: top;\n",
       "    }\n",
       "\n",
       "    .dataframe thead th {\n",
       "        text-align: right;\n",
       "    }\n",
       "</style>\n",
       "<table border=\"1\" class=\"dataframe\">\n",
       "  <thead>\n",
       "    <tr style=\"text-align: right;\">\n",
       "      <th></th>\n",
       "      <th>date_received</th>\n",
       "      <th>sub_product</th>\n",
       "      <th>issue</th>\n",
       "      <th>sub_issue</th>\n",
       "      <th>consumer_complaint_narrative</th>\n",
       "      <th>company_public_response</th>\n",
       "      <th>company</th>\n",
       "      <th>state</th>\n",
       "      <th>zipcode</th>\n",
       "      <th>tags</th>\n",
       "      <th>date_sent_to_company</th>\n",
       "      <th>company_response_to_consumer</th>\n",
       "      <th>timely_response</th>\n",
       "      <th>consumer_disputed?</th>\n",
       "    </tr>\n",
       "  </thead>\n",
       "  <tbody>\n",
       "    <tr>\n",
       "      <th>0</th>\n",
       "      <td>10/17/2015</td>\n",
       "      <td>VA mortgage</td>\n",
       "      <td>Loan servicing, payments, escrow account</td>\n",
       "      <td>None</td>\n",
       "      <td>My husband and I agreed to pay off our mortgag...</td>\n",
       "      <td>Company chooses not to provide a public response</td>\n",
       "      <td>Wells Fargo &amp; Company</td>\n",
       "      <td>PA</td>\n",
       "      <td>170XX</td>\n",
       "      <td>Older American</td>\n",
       "      <td>10/17/2015</td>\n",
       "      <td>Closed with explanation</td>\n",
       "      <td>Yes</td>\n",
       "      <td>No</td>\n",
       "    </tr>\n",
       "    <tr>\n",
       "      <th>1</th>\n",
       "      <td>10/06/2015</td>\n",
       "      <td>None</td>\n",
       "      <td>Credit reporting company's investigation</td>\n",
       "      <td>No notice of investigation status/result</td>\n",
       "      <td>I am filing a complaint because EQUIFAX has ig...</td>\n",
       "      <td>None</td>\n",
       "      <td>Equifax</td>\n",
       "      <td>MI</td>\n",
       "      <td>481XX</td>\n",
       "      <td>None</td>\n",
       "      <td>10/06/2015</td>\n",
       "      <td>Closed with explanation</td>\n",
       "      <td>Yes</td>\n",
       "      <td>No</td>\n",
       "    </tr>\n",
       "    <tr>\n",
       "      <th>2</th>\n",
       "      <td>01/03/2016</td>\n",
       "      <td>I do not know</td>\n",
       "      <td>Cont'd attempts collect debt not owed</td>\n",
       "      <td>Debt resulted from identity theft</td>\n",
       "      <td>This account is fraudulent and the company ref...</td>\n",
       "      <td>None</td>\n",
       "      <td>Receivable Recovery Services, LLC</td>\n",
       "      <td>SC</td>\n",
       "      <td>293XX</td>\n",
       "      <td>None</td>\n",
       "      <td>01/03/2016</td>\n",
       "      <td>Closed with explanation</td>\n",
       "      <td>Yes</td>\n",
       "      <td>Yes</td>\n",
       "    </tr>\n",
       "  </tbody>\n",
       "</table>\n",
       "</div>"
      ],
      "text/plain": [
       "  date_received    sub_product                                     issue  \\\n",
       "0    10/17/2015    VA mortgage  Loan servicing, payments, escrow account   \n",
       "1    10/06/2015           None  Credit reporting company's investigation   \n",
       "2    01/03/2016  I do not know     Cont'd attempts collect debt not owed   \n",
       "\n",
       "                                  sub_issue  \\\n",
       "0                                      None   \n",
       "1  No notice of investigation status/result   \n",
       "2         Debt resulted from identity theft   \n",
       "\n",
       "                        consumer_complaint_narrative  \\\n",
       "0  My husband and I agreed to pay off our mortgag...   \n",
       "1  I am filing a complaint because EQUIFAX has ig...   \n",
       "2  This account is fraudulent and the company ref...   \n",
       "\n",
       "                            company_public_response  \\\n",
       "0  Company chooses not to provide a public response   \n",
       "1                                              None   \n",
       "2                                              None   \n",
       "\n",
       "                             company state zipcode            tags  \\\n",
       "0              Wells Fargo & Company    PA   170XX  Older American   \n",
       "1                            Equifax    MI   481XX            None   \n",
       "2  Receivable Recovery Services, LLC    SC   293XX            None   \n",
       "\n",
       "  date_sent_to_company company_response_to_consumer timely_response  \\\n",
       "0           10/17/2015      Closed with explanation             Yes   \n",
       "1           10/06/2015      Closed with explanation             Yes   \n",
       "2           01/03/2016      Closed with explanation             Yes   \n",
       "\n",
       "  consumer_disputed?  \n",
       "0                 No  \n",
       "1                 No  \n",
       "2                Yes  "
      ]
     },
     "execution_count": 9,
     "metadata": {},
     "output_type": "execute_result"
    }
   ],
   "source": [
    "df_test.head(3)"
   ]
  },
  {
   "attachments": {},
   "cell_type": "markdown",
   "id": "f3378bec",
   "metadata": {},
   "source": [
    "## Explore target value and transform with LabelEncoder"
   ]
  },
  {
   "cell_type": "code",
   "execution_count": 10,
   "id": "ac00a438",
   "metadata": {},
   "outputs": [
    {
     "data": {
      "text/html": [
       "<div>\n",
       "<style scoped>\n",
       "    .dataframe tbody tr th:only-of-type {\n",
       "        vertical-align: middle;\n",
       "    }\n",
       "\n",
       "    .dataframe tbody tr th {\n",
       "        vertical-align: top;\n",
       "    }\n",
       "\n",
       "    .dataframe thead th {\n",
       "        text-align: right;\n",
       "    }\n",
       "</style>\n",
       "<table border=\"1\" class=\"dataframe\">\n",
       "  <thead>\n",
       "    <tr style=\"text-align: right;\">\n",
       "      <th></th>\n",
       "      <th>product</th>\n",
       "    </tr>\n",
       "  </thead>\n",
       "  <tbody>\n",
       "    <tr>\n",
       "      <th>0</th>\n",
       "      <td>Mortgage</td>\n",
       "    </tr>\n",
       "    <tr>\n",
       "      <th>1</th>\n",
       "      <td>Credit reporting</td>\n",
       "    </tr>\n",
       "    <tr>\n",
       "      <th>2</th>\n",
       "      <td>Debt collection</td>\n",
       "    </tr>\n",
       "    <tr>\n",
       "      <th>3</th>\n",
       "      <td>Bank account or service</td>\n",
       "    </tr>\n",
       "    <tr>\n",
       "      <th>4</th>\n",
       "      <td>Debt collection</td>\n",
       "    </tr>\n",
       "  </tbody>\n",
       "</table>\n",
       "</div>"
      ],
      "text/plain": [
       "                   product\n",
       "0                 Mortgage\n",
       "1         Credit reporting\n",
       "2          Debt collection\n",
       "3  Bank account or service\n",
       "4          Debt collection"
      ]
     },
     "execution_count": 10,
     "metadata": {},
     "output_type": "execute_result"
    }
   ],
   "source": [
    "y_test = pd.read_parquet('./input/y_targets/y_test.parquet')\n",
    "y_test.head()"
   ]
  },
  {
   "cell_type": "code",
   "execution_count": 11,
   "id": "cfa07370",
   "metadata": {},
   "outputs": [
    {
     "name": "stdout",
     "output_type": "stream",
     "text": [
      "Debt collection            1580\n",
      "Mortgage                   1343\n",
      "Credit reporting           1128\n",
      "Credit card                 714\n",
      "Bank account or service     514\n",
      "Consumer Loan               331\n",
      "Student loan                191\n",
      "Prepaid card                 77\n",
      "Payday loan                  65\n",
      "Money transfers              60\n",
      "Other financial service      10\n",
      "Name: product, dtype: int64\n"
     ]
    }
   ],
   "source": [
    "product_test = y_test['product'].value_counts()\n",
    "print(product_test)"
   ]
  },
  {
   "cell_type": "code",
   "execution_count": 12,
   "id": "a649dd10",
   "metadata": {
    "scrolled": false
   },
   "outputs": [
    {
     "data": {
      "image/png": "[encoded data removed]",
      "text/plain": [
       "<Figure size 1200x400 with 1 Axes>"
      ]
     },
     "metadata": {},
     "output_type": "display_data"
    }
   ],
   "source": [
    "plt.figure(figsize=(12,4))\n",
    "sns.barplot(x=product_test.index, y=product_test.values, alpha=0.8) \n",
    "plt.title('Test Data Target')\n",
    "plt.ylabel('Number of Occurrences', fontsize=12)\n",
    "plt.xlabel('Product', fontsize=12)\n",
    "plt.xticks(rotation=30)\n",
    "plt.show()"
   ]
  },
  {
   "cell_type": "code",
   "execution_count": 13,
   "id": "357d8295",
   "metadata": {},
   "outputs": [],
   "source": [
    "y_test['label'] = LabelEncoder().fit_transform(y_test['product'])"
   ]
  },
  {
   "cell_type": "code",
   "execution_count": 14,
   "id": "f97de5bc",
   "metadata": {},
   "outputs": [],
   "source": [
    "y_test_LE = y_test.drop(['product'], axis=1)"
   ]
  },
  {
   "cell_type": "code",
   "execution_count": 15,
   "id": "691c282d",
   "metadata": {},
   "outputs": [
    {
     "name": "stdout",
     "output_type": "stream",
     "text": [
      "<class 'pandas.core.frame.DataFrame'>\n",
      "RangeIndex: 6013 entries, 0 to 6012\n",
      "Data columns (total 1 columns):\n",
      " #   Column  Non-Null Count  Dtype\n",
      "---  ------  --------------  -----\n",
      " 0   label   6013 non-null   int32\n",
      "dtypes: int32(1)\n",
      "memory usage: 23.6 KB\n"
     ]
    }
   ],
   "source": [
    "y_test_LE.info()"
   ]
  },
  {
   "cell_type": "code",
   "execution_count": 16,
   "id": "9f8396c4",
   "metadata": {},
   "outputs": [],
   "source": [
    "# Save label-encoded target labels\n",
    "y_test_LE.to_parquet('./input/y_targets/y_test_LE.parquet')"
   ]
  },
  {
   "cell_type": "code",
   "execution_count": 17,
   "id": "779498b9",
   "metadata": {},
   "outputs": [],
   "source": [
    "# Drop original and label-encoded target dataframes from memory to mitigate potential data leakage\n",
    "y_list = [y_test, y_test_LE]\n",
    "del y_test, y_test_LE\n",
    "del y_list"
   ]
  },
  {
   "attachments": {},
   "cell_type": "markdown",
   "id": "66f7f92d",
   "metadata": {},
   "source": [
    "## Convert date values with datetime and create new feature for time between date_received and date_sent_to_company "
   ]
  },
  {
   "cell_type": "code",
   "execution_count": 18,
   "id": "0750a567",
   "metadata": {},
   "outputs": [],
   "source": [
    "# Vectorized operation to convert date string to datetime object\n",
    "# \"exact=False\" argument used because of errant whitespaces (i.e. /n)\n",
    "df_test['date_received'] = np.where(\n",
    "    pd.isna(df_test['date_received']) == False,\n",
    "    pd.to_datetime(df_test['date_received'], format='%m/%d/%Y', exact=False).dt.date,\n",
    "    None\n",
    ")"
   ]
  },
  {
   "cell_type": "code",
   "execution_count": 19,
   "id": "531eb13b",
   "metadata": {},
   "outputs": [],
   "source": [
    "# Vectorized operation to convert date string to datetime object\n",
    "# \"exact=False\" argument used because of errant whitespaces (i.e. /n)\n",
    "df_test['date_sent_to_company'] = np.where(\n",
    "    pd.isna(df_test['date_sent_to_company']) == False,\n",
    "    pd.to_datetime(df_test['date_sent_to_company'], format='%m/%d/%Y', exact=False).dt.date,\n",
    "    None\n",
    ")"
   ]
  },
  {
   "cell_type": "code",
   "execution_count": 20,
   "id": "f148b58e",
   "metadata": {},
   "outputs": [],
   "source": [
    "# Create new feature that is the difference in days between when a complaint was received and when it was sent to company\n",
    "df_test['days_between_receipt_and_sent'] = np.where(\n",
    "    (pd.isna(df_test['date_received']) == False) & (pd.isna(df_test['date_sent_to_company']) == False),\n",
    "    (df_test['date_sent_to_company'] - df_test['date_received']).dt.days,\n",
    "    None\n",
    ")"
   ]
  },
  {
   "cell_type": "code",
   "execution_count": 21,
   "id": "f9af0feb",
   "metadata": {},
   "outputs": [],
   "source": [
    "# Change new feature from datetime object to integer\n",
    "df_test['days_between_receipt_and_sent'] = pd.to_numeric(df_test['days_between_receipt_and_sent'])"
   ]
  },
  {
   "attachments": {},
   "cell_type": "markdown",
   "id": "481fdb1f",
   "metadata": {
    "notebookRunGroups": {
     "groupValue": ""
    }
   },
   "source": [
    "## Frequency encode 'sub_product' variable and add flag variables for missing/low-occurring"
   ]
  },
  {
   "cell_type": "code",
   "execution_count": 22,
   "id": "bb761bd6",
   "metadata": {},
   "outputs": [],
   "source": [
    "sub_product_freq = df_test.groupby('sub_product').size() / len(df_test)"
   ]
  },
  {
   "cell_type": "code",
   "execution_count": 23,
   "id": "d7550965",
   "metadata": {
    "notebookRunGroups": {
     "groupValue": ""
    }
   },
   "outputs": [],
   "source": [
    "# Vectorized operation to frequency encode sub_product category\n",
    "df_test['sub_product_freq'] = np.where(\n",
    "    pd.isna(df_test['sub_product']) == False,\n",
    "    df_test['sub_product'].map(sub_product_freq),\n",
    "    -1\n",
    ")"
   ]
  },
  {
   "cell_type": "code",
   "execution_count": 24,
   "id": "6aa74361",
   "metadata": {
    "notebookRunGroups": {
     "groupValue": ""
    }
   },
   "outputs": [],
   "source": [
    "# Vectorized operation to create binary flag variable for missing sub_product\n",
    "df_test['sub_product_null_flag'] = np.where(\n",
    "    pd.isna(df_test['sub_product']) == True,\n",
    "    1,\n",
    "    0\n",
    ")"
   ]
  },
  {
   "cell_type": "code",
   "execution_count": 25,
   "id": "387bf3b7",
   "metadata": {
    "notebookRunGroups": {
     "groupValue": ""
    }
   },
   "outputs": [],
   "source": [
    "# Vectorized operation to create binary flag variable for low-occuring sub_product\n",
    "df_test['sub_product_low_flag'] = np.where(\n",
    "    (df_test['sub_product_freq'] <= 0.01) & (pd.isna(df_test['sub_product']) == False),\n",
    "    1,\n",
    "    0\n",
    ")"
   ]
  },
  {
   "attachments": {},
   "cell_type": "markdown",
   "id": "481fdb1f",
   "metadata": {
    "notebookRunGroups": {
     "groupValue": ""
    }
   },
   "source": [
    "## Frequency encode 'issue' variable and add flag variable for low-occurring"
   ]
  },
  {
   "cell_type": "code",
   "execution_count": 26,
   "id": "bb761bd6",
   "metadata": {},
   "outputs": [],
   "source": [
    "issue_freq = df_test.groupby('issue').size() / len(df_test)"
   ]
  },
  {
   "cell_type": "code",
   "execution_count": 27,
   "id": "d7550965",
   "metadata": {
    "notebookRunGroups": {
     "groupValue": ""
    }
   },
   "outputs": [],
   "source": [
    "# Vectorized operation to frequency encode issue category\n",
    "df_test['issue_freq'] = np.where(\n",
    "    pd.isna(df_test['issue']) == False,\n",
    "    df_test['issue'].map(issue_freq),\n",
    "    -1\n",
    ")"
   ]
  },
  {
   "cell_type": "code",
   "execution_count": 28,
   "id": "387bf3b7",
   "metadata": {
    "notebookRunGroups": {
     "groupValue": ""
    }
   },
   "outputs": [],
   "source": [
    "# Vectorized operation to create binary flag variable for low-occuring issue\n",
    "df_test['issue_low_flag'] = np.where(\n",
    "    (df_test['issue_freq'] <= 0.01) & (pd.isna(df_test['issue']) == False),\n",
    "    1,\n",
    "    0\n",
    ")"
   ]
  },
  {
   "attachments": {},
   "cell_type": "markdown",
   "id": "481fdb1f",
   "metadata": {
    "notebookRunGroups": {
     "groupValue": ""
    }
   },
   "source": [
    "## Frequency encode 'sub_issue' variable and add flag variables for missing/low-occurring"
   ]
  },
  {
   "cell_type": "code",
   "execution_count": 29,
   "id": "bb761bd6",
   "metadata": {},
   "outputs": [],
   "source": [
    "sub_issue_freq = df_test.groupby('sub_issue').size() / len(df_test)"
   ]
  },
  {
   "cell_type": "code",
   "execution_count": 30,
   "id": "d7550965",
   "metadata": {
    "notebookRunGroups": {
     "groupValue": ""
    }
   },
   "outputs": [],
   "source": [
    "# Vectorized operation to frequency encode sub_issue category\n",
    "df_test['sub_issue_freq'] = np.where(\n",
    "    pd.isna(df_test['sub_issue']) == False,\n",
    "    df_test['sub_issue'].map(sub_issue_freq),\n",
    "    -1\n",
    ")"
   ]
  },
  {
   "cell_type": "code",
   "execution_count": 31,
   "id": "6aa74361",
   "metadata": {
    "notebookRunGroups": {
     "groupValue": ""
    }
   },
   "outputs": [],
   "source": [
    "# Vectorized operation to create binary flag variable for missing sub_issue\n",
    "df_test['sub_issue_null_flag'] = np.where(\n",
    "    pd.isna(df_test['sub_issue']) == True,\n",
    "    1,\n",
    "    0\n",
    ")"
   ]
  },
  {
   "cell_type": "code",
   "execution_count": 32,
   "id": "387bf3b7",
   "metadata": {
    "notebookRunGroups": {
     "groupValue": ""
    }
   },
   "outputs": [],
   "source": [
    "# Vectorized operation to create binary flag variable for low-occuring sub_issue\n",
    "df_test['sub_issue_low_flag'] = np.where(\n",
    "    (df_test['sub_issue_freq'] <= 0.01) & (pd.isna(df_test['sub_issue']) == False),\n",
    "    1,\n",
    "    0\n",
    ")"
   ]
  },
  {
   "attachments": {},
   "cell_type": "markdown",
   "id": "481fdb1f",
   "metadata": {
    "notebookRunGroups": {
     "groupValue": ""
    }
   },
   "source": [
    "## Frequency encode 'company_public_response' variable and add flag variables for missing/low-occurring"
   ]
  },
  {
   "cell_type": "code",
   "execution_count": 33,
   "id": "bb761bd6",
   "metadata": {},
   "outputs": [],
   "source": [
    "company_public_response_freq = df_test.groupby('company_public_response').size() / len(df_test)"
   ]
  },
  {
   "cell_type": "code",
   "execution_count": 34,
   "id": "d7550965",
   "metadata": {
    "notebookRunGroups": {
     "groupValue": ""
    }
   },
   "outputs": [],
   "source": [
    "# Vectorized operation to frequency encode company_public_response category\n",
    "df_test['company_public_response_freq'] = np.where(\n",
    "    pd.isna(df_test['company_public_response']) == False,\n",
    "    df_test['company_public_response'].map(company_public_response_freq),\n",
    "    -1\n",
    ")"
   ]
  },
  {
   "cell_type": "code",
   "execution_count": 35,
   "id": "6aa74361",
   "metadata": {
    "notebookRunGroups": {
     "groupValue": ""
    }
   },
   "outputs": [],
   "source": [
    "# Vectorized operation to create binary flag variable for missing company_public_response\n",
    "df_test['company_public_response_null_flag'] = np.where(\n",
    "    pd.isna(df_test['company_public_response']) == True,\n",
    "    1,\n",
    "    0\n",
    ")"
   ]
  },
  {
   "cell_type": "code",
   "execution_count": 36,
   "id": "387bf3b7",
   "metadata": {
    "notebookRunGroups": {
     "groupValue": ""
    }
   },
   "outputs": [],
   "source": [
    "# Vectorized operation to create binary flag variable for low-occuring company_public_response\n",
    "df_test['company_public_response_low_flag'] = np.where(\n",
    "    (df_test['company_public_response_freq'] <= 0.01) & (pd.isna(df_test['company_public_response']) == False),\n",
    "    1,\n",
    "    0\n",
    ")"
   ]
  },
  {
   "attachments": {},
   "cell_type": "markdown",
   "id": "481fdb1f",
   "metadata": {
    "notebookRunGroups": {
     "groupValue": ""
    }
   },
   "source": [
    "## Frequency encode 'company' variable and add flag variable for low-occurring"
   ]
  },
  {
   "cell_type": "code",
   "execution_count": 37,
   "id": "bb761bd6",
   "metadata": {},
   "outputs": [],
   "source": [
    "company_freq = df_test.groupby('company').size() / len(df_test)"
   ]
  },
  {
   "cell_type": "code",
   "execution_count": 38,
   "id": "d7550965",
   "metadata": {
    "notebookRunGroups": {
     "groupValue": ""
    }
   },
   "outputs": [],
   "source": [
    "# Vectorized operation to frequency encode company category\n",
    "df_test['company_freq'] = np.where(\n",
    "    pd.isna(df_test['company']) == False,\n",
    "    df_test['company'].map(company_freq),\n",
    "    -1\n",
    ")"
   ]
  },
  {
   "cell_type": "code",
   "execution_count": 39,
   "id": "387bf3b7",
   "metadata": {
    "notebookRunGroups": {
     "groupValue": ""
    }
   },
   "outputs": [],
   "source": [
    "# Vectorized operation to create binary flag variable for low-occuring company\n",
    "df_test['company_low_flag'] = np.where(\n",
    "    (df_test['company_freq'] <= 0.01) & (pd.isna(df_test['company']) == False),\n",
    "    1,\n",
    "    0\n",
    ")"
   ]
  },
  {
   "cell_type": "markdown",
   "id": "bc0504f8",
   "metadata": {},
   "source": [
    "## Frequency encode 'state' variable and add flag variables for missing/low-occurring"
   ]
  },
  {
   "cell_type": "code",
   "execution_count": 40,
   "id": "bb761bd6",
   "metadata": {},
   "outputs": [],
   "source": [
    "state_freq = df_test.groupby('state').size() / len(df_test)"
   ]
  },
  {
   "cell_type": "code",
   "execution_count": 41,
   "id": "d7550965",
   "metadata": {
    "notebookRunGroups": {
     "groupValue": ""
    }
   },
   "outputs": [],
   "source": [
    "# Vectorized operation to frequency encode state category\n",
    "df_test['state_freq'] = np.where(\n",
    "    pd.isna(df_test['state']) == False,\n",
    "    df_test['state'].map(state_freq),\n",
    "    -1\n",
    ")"
   ]
  },
  {
   "cell_type": "code",
   "execution_count": 42,
   "id": "6aa74361",
   "metadata": {
    "notebookRunGroups": {
     "groupValue": ""
    }
   },
   "outputs": [],
   "source": [
    "# Vectorized operation to create binary flag variable for missing state\n",
    "df_test['state_null_flag'] = np.where(\n",
    "    pd.isna(df_test['state']) == True,\n",
    "    1,\n",
    "    0\n",
    ")"
   ]
  },
  {
   "cell_type": "code",
   "execution_count": 43,
   "id": "387bf3b7",
   "metadata": {
    "notebookRunGroups": {
     "groupValue": ""
    }
   },
   "outputs": [],
   "source": [
    "# Vectorized operation to create binary flag variable for low-occuring state\n",
    "df_test['state_low_flag'] = np.where(\n",
    "    (df_test['state_freq'] <= 0.01) & (pd.isna(df_test['state']) == False),\n",
    "    1,\n",
    "    0\n",
    ")"
   ]
  },
  {
   "attachments": {},
   "cell_type": "markdown",
   "id": "481fdb1f",
   "metadata": {
    "notebookRunGroups": {
     "groupValue": ""
    }
   },
   "source": [
    "## Frequency encode 'zipcode' variable and add flag variables for missing/low-occurring"
   ]
  },
  {
   "cell_type": "code",
   "execution_count": 44,
   "id": "bb761bd6",
   "metadata": {},
   "outputs": [],
   "source": [
    "zipcode_freq = df_test.groupby('zipcode').size() / len(df_test)"
   ]
  },
  {
   "cell_type": "code",
   "execution_count": 45,
   "id": "d7550965",
   "metadata": {
    "notebookRunGroups": {
     "groupValue": ""
    }
   },
   "outputs": [],
   "source": [
    "# Vectorized operation to frequency encode zipcode category\n",
    "df_test['zipcode_freq'] = np.where(\n",
    "    pd.isna(df_test['zipcode']) == False,\n",
    "    df_test['zipcode'].map(zipcode_freq),\n",
    "    -1\n",
    ")"
   ]
  },
  {
   "cell_type": "code",
   "execution_count": 46,
   "id": "6aa74361",
   "metadata": {
    "notebookRunGroups": {
     "groupValue": ""
    }
   },
   "outputs": [],
   "source": [
    "# Vectorized operation to create binary flag variable for missing zipcode\n",
    "df_test['zipcode_null_flag'] = np.where(\n",
    "    pd.isna(df_test['zipcode']) == True,\n",
    "    1,\n",
    "    0\n",
    ")"
   ]
  },
  {
   "cell_type": "code",
   "execution_count": 47,
   "id": "387bf3b7",
   "metadata": {
    "notebookRunGroups": {
     "groupValue": ""
    }
   },
   "outputs": [],
   "source": [
    "# Vectorized operation to create binary flag variable for low-occuring zipcode\n",
    "df_test['zipcode_low_flag'] = np.where(\n",
    "    (df_test['zipcode_freq'] <= 0.001) & (pd.isna(df_test['zipcode']) == False), # change from 0.01 to 0.001 since zips are all fairly low-occurring\n",
    "    1,\n",
    "    0\n",
    ")"
   ]
  },
  {
   "attachments": {},
   "cell_type": "markdown",
   "id": "188b5a0c",
   "metadata": {},
   "source": [
    "## One-hot encode 'tags' variable but change nulls to \"Not Older American, Not Servicemember\" first"
   ]
  },
  {
   "cell_type": "code",
   "execution_count": 48,
   "id": "7260e79b",
   "metadata": {
    "notebookRunGroups": {
     "groupValue": ""
    }
   },
   "outputs": [],
   "source": [
    "df_test['tags'].fillna(\"Not Older American, Not Servicemember\", inplace=True)"
   ]
  },
  {
   "cell_type": "code",
   "execution_count": 49,
   "id": "ae8ae4c1",
   "metadata": {},
   "outputs": [
    {
     "data": {
      "text/plain": [
       "Not Older American, Not Servicemember    4975\n",
       "Older American                            552\n",
       "Servicemember                             409\n",
       "Older American, Servicemember              77\n",
       "Name: tags, dtype: int64"
      ]
     },
     "execution_count": 49,
     "metadata": {},
     "output_type": "execute_result"
    }
   ],
   "source": [
    "df_test['tags'].value_counts()"
   ]
  },
  {
   "cell_type": "code",
   "execution_count": 50,
   "id": "7c6f1b30",
   "metadata": {},
   "outputs": [],
   "source": [
    "OH_encoder = OneHotEncoder(dtype='int')\n",
    "tags_df_test = pd.DataFrame(OH_encoder.fit_transform(df_test[['tags']]).toarray(), columns=OH_encoder.categories_[0])"
   ]
  },
  {
   "cell_type": "code",
   "execution_count": 51,
   "id": "29ebd70f",
   "metadata": {},
   "outputs": [
    {
     "data": {
      "text/html": [
       "<div>\n",
       "<style scoped>\n",
       "    .dataframe tbody tr th:only-of-type {\n",
       "        vertical-align: middle;\n",
       "    }\n",
       "\n",
       "    .dataframe tbody tr th {\n",
       "        vertical-align: top;\n",
       "    }\n",
       "\n",
       "    .dataframe thead th {\n",
       "        text-align: right;\n",
       "    }\n",
       "</style>\n",
       "<table border=\"1\" class=\"dataframe\">\n",
       "  <thead>\n",
       "    <tr style=\"text-align: right;\">\n",
       "      <th></th>\n",
       "      <th>Not Older American, Not Servicemember</th>\n",
       "      <th>Older American</th>\n",
       "      <th>Older American, Servicemember</th>\n",
       "      <th>Servicemember</th>\n",
       "    </tr>\n",
       "  </thead>\n",
       "  <tbody>\n",
       "    <tr>\n",
       "      <th>0</th>\n",
       "      <td>0</td>\n",
       "      <td>1</td>\n",
       "      <td>0</td>\n",
       "      <td>0</td>\n",
       "    </tr>\n",
       "    <tr>\n",
       "      <th>1</th>\n",
       "      <td>1</td>\n",
       "      <td>0</td>\n",
       "      <td>0</td>\n",
       "      <td>0</td>\n",
       "    </tr>\n",
       "    <tr>\n",
       "      <th>2</th>\n",
       "      <td>1</td>\n",
       "      <td>0</td>\n",
       "      <td>0</td>\n",
       "      <td>0</td>\n",
       "    </tr>\n",
       "    <tr>\n",
       "      <th>3</th>\n",
       "      <td>0</td>\n",
       "      <td>0</td>\n",
       "      <td>1</td>\n",
       "      <td>0</td>\n",
       "    </tr>\n",
       "    <tr>\n",
       "      <th>4</th>\n",
       "      <td>1</td>\n",
       "      <td>0</td>\n",
       "      <td>0</td>\n",
       "      <td>0</td>\n",
       "    </tr>\n",
       "  </tbody>\n",
       "</table>\n",
       "</div>"
      ],
      "text/plain": [
       "   Not Older American, Not Servicemember  Older American  \\\n",
       "0                                      0               1   \n",
       "1                                      1               0   \n",
       "2                                      1               0   \n",
       "3                                      0               0   \n",
       "4                                      1               0   \n",
       "\n",
       "   Older American, Servicemember  Servicemember  \n",
       "0                              0              0  \n",
       "1                              0              0  \n",
       "2                              0              0  \n",
       "3                              1              0  \n",
       "4                              0              0  "
      ]
     },
     "execution_count": 51,
     "metadata": {},
     "output_type": "execute_result"
    }
   ],
   "source": [
    "tags_df_test.head()"
   ]
  },
  {
   "cell_type": "code",
   "execution_count": 52,
   "id": "b9853ce5",
   "metadata": {},
   "outputs": [],
   "source": [
    "df_test = df_test.join(tags_df_test)"
   ]
  },
  {
   "attachments": {},
   "cell_type": "markdown",
   "id": "383fc713",
   "metadata": {},
   "source": [
    "## One-hot encode 'company_response_to_consumer' variable"
   ]
  },
  {
   "cell_type": "code",
   "execution_count": 53,
   "id": "f1b68360",
   "metadata": {},
   "outputs": [
    {
     "data": {
      "text/plain": [
       "Closed with explanation            4582\n",
       "Closed with non-monetary relief     798\n",
       "Closed with monetary relief         443\n",
       "Closed                              142\n",
       "Untimely response                    48\n",
       "Name: company_response_to_consumer, dtype: int64"
      ]
     },
     "execution_count": 53,
     "metadata": {},
     "output_type": "execute_result"
    }
   ],
   "source": [
    "df_test['company_response_to_consumer'].value_counts()"
   ]
  },
  {
   "cell_type": "code",
   "execution_count": 54,
   "id": "2e6b2af2",
   "metadata": {},
   "outputs": [],
   "source": [
    "response_df_test = pd.DataFrame(OH_encoder.fit_transform(df_test[['company_response_to_consumer']]).toarray(), \n",
    "                    columns=OH_encoder.categories_[0])"
   ]
  },
  {
   "cell_type": "code",
   "execution_count": 55,
   "id": "f99a42e6",
   "metadata": {},
   "outputs": [
    {
     "data": {
      "text/html": [
       "<div>\n",
       "<style scoped>\n",
       "    .dataframe tbody tr th:only-of-type {\n",
       "        vertical-align: middle;\n",
       "    }\n",
       "\n",
       "    .dataframe tbody tr th {\n",
       "        vertical-align: top;\n",
       "    }\n",
       "\n",
       "    .dataframe thead th {\n",
       "        text-align: right;\n",
       "    }\n",
       "</style>\n",
       "<table border=\"1\" class=\"dataframe\">\n",
       "  <thead>\n",
       "    <tr style=\"text-align: right;\">\n",
       "      <th></th>\n",
       "      <th>Closed</th>\n",
       "      <th>Closed with explanation</th>\n",
       "      <th>Closed with monetary relief</th>\n",
       "      <th>Closed with non-monetary relief</th>\n",
       "      <th>Untimely response</th>\n",
       "    </tr>\n",
       "  </thead>\n",
       "  <tbody>\n",
       "    <tr>\n",
       "      <th>0</th>\n",
       "      <td>0</td>\n",
       "      <td>1</td>\n",
       "      <td>0</td>\n",
       "      <td>0</td>\n",
       "      <td>0</td>\n",
       "    </tr>\n",
       "    <tr>\n",
       "      <th>1</th>\n",
       "      <td>0</td>\n",
       "      <td>1</td>\n",
       "      <td>0</td>\n",
       "      <td>0</td>\n",
       "      <td>0</td>\n",
       "    </tr>\n",
       "    <tr>\n",
       "      <th>2</th>\n",
       "      <td>0</td>\n",
       "      <td>1</td>\n",
       "      <td>0</td>\n",
       "      <td>0</td>\n",
       "      <td>0</td>\n",
       "    </tr>\n",
       "    <tr>\n",
       "      <th>3</th>\n",
       "      <td>0</td>\n",
       "      <td>1</td>\n",
       "      <td>0</td>\n",
       "      <td>0</td>\n",
       "      <td>0</td>\n",
       "    </tr>\n",
       "    <tr>\n",
       "      <th>4</th>\n",
       "      <td>0</td>\n",
       "      <td>0</td>\n",
       "      <td>0</td>\n",
       "      <td>1</td>\n",
       "      <td>0</td>\n",
       "    </tr>\n",
       "  </tbody>\n",
       "</table>\n",
       "</div>"
      ],
      "text/plain": [
       "   Closed  Closed with explanation  Closed with monetary relief  \\\n",
       "0       0                        1                            0   \n",
       "1       0                        1                            0   \n",
       "2       0                        1                            0   \n",
       "3       0                        1                            0   \n",
       "4       0                        0                            0   \n",
       "\n",
       "   Closed with non-monetary relief  Untimely response  \n",
       "0                                0                  0  \n",
       "1                                0                  0  \n",
       "2                                0                  0  \n",
       "3                                0                  0  \n",
       "4                                1                  0  "
      ]
     },
     "execution_count": 55,
     "metadata": {},
     "output_type": "execute_result"
    }
   ],
   "source": [
    "response_df_test.head()"
   ]
  },
  {
   "cell_type": "code",
   "execution_count": 56,
   "id": "6162084f",
   "metadata": {},
   "outputs": [],
   "source": [
    "df_test = df_test.join(response_df_test)"
   ]
  },
  {
   "attachments": {},
   "cell_type": "markdown",
   "id": "7ade7903",
   "metadata": {},
   "source": [
    "## Binary encode 'timely_response' variable"
   ]
  },
  {
   "cell_type": "code",
   "execution_count": 57,
   "id": "a69d63b9",
   "metadata": {},
   "outputs": [
    {
     "data": {
      "text/plain": [
       "Yes    5814\n",
       "No      199\n",
       "Name: timely_response, dtype: int64"
      ]
     },
     "execution_count": 57,
     "metadata": {},
     "output_type": "execute_result"
    }
   ],
   "source": [
    "df_test['timely_response'].value_counts()"
   ]
  },
  {
   "cell_type": "code",
   "execution_count": 58,
   "id": "fc8145d3",
   "metadata": {},
   "outputs": [],
   "source": [
    "# Vectorized operation to create binary flag variable for timely_response\n",
    "df_test['timely_response'] = np.where(\n",
    "    df_test['timely_response'].str.contains('Yes'),\n",
    "    1,\n",
    "    0\n",
    ")"
   ]
  },
  {
   "cell_type": "code",
   "execution_count": 59,
   "id": "3118f258",
   "metadata": {},
   "outputs": [
    {
     "data": {
      "text/plain": [
       "1    5814\n",
       "0     199\n",
       "Name: timely_response, dtype: int64"
      ]
     },
     "execution_count": 59,
     "metadata": {},
     "output_type": "execute_result"
    }
   ],
   "source": [
    "df_test['timely_response'].value_counts()"
   ]
  },
  {
   "attachments": {},
   "cell_type": "markdown",
   "id": "4256ba41",
   "metadata": {},
   "source": [
    "## Binary encode 'consumer_disputed?' variable"
   ]
  },
  {
   "cell_type": "code",
   "execution_count": 60,
   "id": "9aca9494",
   "metadata": {},
   "outputs": [
    {
     "data": {
      "text/plain": [
       "No     4625\n",
       "Yes    1388\n",
       "Name: consumer_disputed?, dtype: int64"
      ]
     },
     "execution_count": 60,
     "metadata": {},
     "output_type": "execute_result"
    }
   ],
   "source": [
    "df_test['consumer_disputed?'].value_counts()"
   ]
  },
  {
   "cell_type": "code",
   "execution_count": 61,
   "id": "f47fd9e0",
   "metadata": {},
   "outputs": [],
   "source": [
    "# Vectorized operation to create binary flag variable for consumer_disputed?\n",
    "df_test['consumer_disputed?'] = np.where(\n",
    "    df_test['consumer_disputed?'].str.contains('Yes'), \n",
    "    1,\n",
    "    0\n",
    ")"
   ]
  },
  {
   "cell_type": "code",
   "execution_count": 62,
   "id": "fdfca35a",
   "metadata": {},
   "outputs": [
    {
     "data": {
      "text/plain": [
       "0    4625\n",
       "1    1388\n",
       "Name: consumer_disputed?, dtype: int64"
      ]
     },
     "execution_count": 62,
     "metadata": {},
     "output_type": "execute_result"
    }
   ],
   "source": [
    "df_test['consumer_disputed?'].value_counts()"
   ]
  },
  {
   "cell_type": "code",
   "execution_count": 63,
   "id": "8801f502",
   "metadata": {},
   "outputs": [
    {
     "name": "stdout",
     "output_type": "stream",
     "text": [
      "<class 'pandas.core.frame.DataFrame'>\n",
      "RangeIndex: 6013 entries, 0 to 6012\n",
      "Data columns (total 43 columns):\n",
      " #   Column                                 Non-Null Count  Dtype  \n",
      "---  ------                                 --------------  -----  \n",
      " 0   date_received                          6013 non-null   object \n",
      " 1   sub_product                            4171 non-null   object \n",
      " 2   issue                                  6013 non-null   object \n",
      " 3   sub_issue                              2964 non-null   object \n",
      " 4   consumer_complaint_narrative           6013 non-null   object \n",
      " 5   company_public_response                2967 non-null   object \n",
      " 6   company                                6013 non-null   object \n",
      " 7   state                                  5999 non-null   object \n",
      " 8   zipcode                                5998 non-null   object \n",
      " 9   tags                                   6013 non-null   object \n",
      " 10  date_sent_to_company                   6013 non-null   object \n",
      " 11  company_response_to_consumer           6013 non-null   object \n",
      " 12  timely_response                        6013 non-null   int32  \n",
      " 13  consumer_disputed?                     6013 non-null   int32  \n",
      " 14  days_between_receipt_and_sent          6013 non-null   int64  \n",
      " 15  sub_product_freq                       6013 non-null   float64\n",
      " 16  sub_product_null_flag                  6013 non-null   int32  \n",
      " 17  sub_product_low_flag                   6013 non-null   int32  \n",
      " 18  issue_freq                             6013 non-null   float64\n",
      " 19  issue_low_flag                         6013 non-null   int32  \n",
      " 20  sub_issue_freq                         6013 non-null   float64\n",
      " 21  sub_issue_null_flag                    6013 non-null   int32  \n",
      " 22  sub_issue_low_flag                     6013 non-null   int32  \n",
      " 23  company_public_response_freq           6013 non-null   float64\n",
      " 24  company_public_response_null_flag      6013 non-null   int32  \n",
      " 25  company_public_response_low_flag       6013 non-null   int32  \n",
      " 26  company_freq                           6013 non-null   float64\n",
      " 27  company_low_flag                       6013 non-null   int32  \n",
      " 28  state_freq                             6013 non-null   float64\n",
      " 29  state_null_flag                        6013 non-null   int32  \n",
      " 30  state_low_flag                         6013 non-null   int32  \n",
      " 31  zipcode_freq                           6013 non-null   float64\n",
      " 32  zipcode_null_flag                      6013 non-null   int32  \n",
      " 33  zipcode_low_flag                       6013 non-null   int32  \n",
      " 34  Not Older American, Not Servicemember  6013 non-null   int32  \n",
      " 35  Older American                         6013 non-null   int32  \n",
      " 36  Older American, Servicemember          6013 non-null   int32  \n",
      " 37  Servicemember                          6013 non-null   int32  \n",
      " 38  Closed                                 6013 non-null   int32  \n",
      " 39  Closed with explanation                6013 non-null   int32  \n",
      " 40  Closed with monetary relief            6013 non-null   int32  \n",
      " 41  Closed with non-monetary relief        6013 non-null   int32  \n",
      " 42  Untimely response                      6013 non-null   int32  \n",
      "dtypes: float64(7), int32(23), int64(1), object(12)\n",
      "memory usage: 1.4+ MB\n"
     ]
    }
   ],
   "source": [
    "df_test.info()"
   ]
  },
  {
   "cell_type": "code",
   "execution_count": 64,
   "id": "7d78124c",
   "metadata": {},
   "outputs": [
    {
     "data": {
      "text/html": [
       "<div>\n",
       "<style scoped>\n",
       "    .dataframe tbody tr th:only-of-type {\n",
       "        vertical-align: middle;\n",
       "    }\n",
       "\n",
       "    .dataframe tbody tr th {\n",
       "        vertical-align: top;\n",
       "    }\n",
       "\n",
       "    .dataframe thead th {\n",
       "        text-align: right;\n",
       "    }\n",
       "</style>\n",
       "<table border=\"1\" class=\"dataframe\">\n",
       "  <thead>\n",
       "    <tr style=\"text-align: right;\">\n",
       "      <th></th>\n",
       "      <th>date_received</th>\n",
       "      <th>sub_product</th>\n",
       "      <th>issue</th>\n",
       "      <th>sub_issue</th>\n",
       "      <th>consumer_complaint_narrative</th>\n",
       "      <th>company_public_response</th>\n",
       "      <th>company</th>\n",
       "      <th>state</th>\n",
       "      <th>zipcode</th>\n",
       "      <th>tags</th>\n",
       "      <th>date_sent_to_company</th>\n",
       "      <th>company_response_to_consumer</th>\n",
       "      <th>timely_response</th>\n",
       "      <th>consumer_disputed?</th>\n",
       "      <th>days_between_receipt_and_sent</th>\n",
       "      <th>sub_product_freq</th>\n",
       "      <th>sub_product_null_flag</th>\n",
       "      <th>sub_product_low_flag</th>\n",
       "      <th>issue_freq</th>\n",
       "      <th>issue_low_flag</th>\n",
       "      <th>sub_issue_freq</th>\n",
       "      <th>sub_issue_null_flag</th>\n",
       "      <th>sub_issue_low_flag</th>\n",
       "      <th>company_public_response_freq</th>\n",
       "      <th>company_public_response_null_flag</th>\n",
       "      <th>company_public_response_low_flag</th>\n",
       "      <th>company_freq</th>\n",
       "      <th>company_low_flag</th>\n",
       "      <th>state_freq</th>\n",
       "      <th>state_null_flag</th>\n",
       "      <th>state_low_flag</th>\n",
       "      <th>zipcode_freq</th>\n",
       "      <th>zipcode_null_flag</th>\n",
       "      <th>zipcode_low_flag</th>\n",
       "      <th>Not Older American, Not Servicemember</th>\n",
       "      <th>Older American</th>\n",
       "      <th>Older American, Servicemember</th>\n",
       "      <th>Servicemember</th>\n",
       "      <th>Closed</th>\n",
       "      <th>Closed with explanation</th>\n",
       "      <th>Closed with monetary relief</th>\n",
       "      <th>Closed with non-monetary relief</th>\n",
       "      <th>Untimely response</th>\n",
       "    </tr>\n",
       "  </thead>\n",
       "  <tbody>\n",
       "    <tr>\n",
       "      <th>0</th>\n",
       "      <td>2015-10-17</td>\n",
       "      <td>VA mortgage</td>\n",
       "      <td>Loan servicing, payments, escrow account</td>\n",
       "      <td>None</td>\n",
       "      <td>My husband and I agreed to pay off our mortgag...</td>\n",
       "      <td>Company chooses not to provide a public response</td>\n",
       "      <td>Wells Fargo &amp; Company</td>\n",
       "      <td>PA</td>\n",
       "      <td>170XX</td>\n",
       "      <td>Older American</td>\n",
       "      <td>2015-10-17</td>\n",
       "      <td>Closed with explanation</td>\n",
       "      <td>1</td>\n",
       "      <td>0</td>\n",
       "      <td>0</td>\n",
       "      <td>0.008482</td>\n",
       "      <td>0</td>\n",
       "      <td>1</td>\n",
       "      <td>0.098287</td>\n",
       "      <td>0</td>\n",
       "      <td>-1.000000</td>\n",
       "      <td>1</td>\n",
       "      <td>0</td>\n",
       "      <td>0.293032</td>\n",
       "      <td>0</td>\n",
       "      <td>0</td>\n",
       "      <td>0.043406</td>\n",
       "      <td>0</td>\n",
       "      <td>0.037086</td>\n",
       "      <td>0</td>\n",
       "      <td>0</td>\n",
       "      <td>0.001330</td>\n",
       "      <td>0</td>\n",
       "      <td>0</td>\n",
       "      <td>0</td>\n",
       "      <td>1</td>\n",
       "      <td>0</td>\n",
       "      <td>0</td>\n",
       "      <td>0</td>\n",
       "      <td>1</td>\n",
       "      <td>0</td>\n",
       "      <td>0</td>\n",
       "      <td>0</td>\n",
       "    </tr>\n",
       "    <tr>\n",
       "      <th>1</th>\n",
       "      <td>2015-10-06</td>\n",
       "      <td>None</td>\n",
       "      <td>Credit reporting company's investigation</td>\n",
       "      <td>No notice of investigation status/result</td>\n",
       "      <td>I am filing a complaint because EQUIFAX has ig...</td>\n",
       "      <td>None</td>\n",
       "      <td>Equifax</td>\n",
       "      <td>MI</td>\n",
       "      <td>481XX</td>\n",
       "      <td>Not Older American, Not Servicemember</td>\n",
       "      <td>2015-10-06</td>\n",
       "      <td>Closed with explanation</td>\n",
       "      <td>1</td>\n",
       "      <td>0</td>\n",
       "      <td>0</td>\n",
       "      <td>-1.000000</td>\n",
       "      <td>1</td>\n",
       "      <td>0</td>\n",
       "      <td>0.028771</td>\n",
       "      <td>0</td>\n",
       "      <td>0.012806</td>\n",
       "      <td>0</td>\n",
       "      <td>0</td>\n",
       "      <td>-1.000000</td>\n",
       "      <td>1</td>\n",
       "      <td>0</td>\n",
       "      <td>0.061034</td>\n",
       "      <td>0</td>\n",
       "      <td>0.020289</td>\n",
       "      <td>0</td>\n",
       "      <td>0</td>\n",
       "      <td>0.005322</td>\n",
       "      <td>0</td>\n",
       "      <td>0</td>\n",
       "      <td>1</td>\n",
       "      <td>0</td>\n",
       "      <td>0</td>\n",
       "      <td>0</td>\n",
       "      <td>0</td>\n",
       "      <td>1</td>\n",
       "      <td>0</td>\n",
       "      <td>0</td>\n",
       "      <td>0</td>\n",
       "    </tr>\n",
       "    <tr>\n",
       "      <th>2</th>\n",
       "      <td>2016-01-03</td>\n",
       "      <td>I do not know</td>\n",
       "      <td>Cont'd attempts collect debt not owed</td>\n",
       "      <td>Debt resulted from identity theft</td>\n",
       "      <td>This account is fraudulent and the company ref...</td>\n",
       "      <td>None</td>\n",
       "      <td>Receivable Recovery Services, LLC</td>\n",
       "      <td>SC</td>\n",
       "      <td>293XX</td>\n",
       "      <td>Not Older American, Not Servicemember</td>\n",
       "      <td>2016-01-03</td>\n",
       "      <td>Closed with explanation</td>\n",
       "      <td>1</td>\n",
       "      <td>1</td>\n",
       "      <td>0</td>\n",
       "      <td>0.059538</td>\n",
       "      <td>0</td>\n",
       "      <td>0</td>\n",
       "      <td>0.110095</td>\n",
       "      <td>0</td>\n",
       "      <td>0.010311</td>\n",
       "      <td>0</td>\n",
       "      <td>0</td>\n",
       "      <td>-1.000000</td>\n",
       "      <td>1</td>\n",
       "      <td>0</td>\n",
       "      <td>0.000333</td>\n",
       "      <td>1</td>\n",
       "      <td>0.013637</td>\n",
       "      <td>0</td>\n",
       "      <td>0</td>\n",
       "      <td>0.001829</td>\n",
       "      <td>0</td>\n",
       "      <td>0</td>\n",
       "      <td>1</td>\n",
       "      <td>0</td>\n",
       "      <td>0</td>\n",
       "      <td>0</td>\n",
       "      <td>0</td>\n",
       "      <td>1</td>\n",
       "      <td>0</td>\n",
       "      <td>0</td>\n",
       "      <td>0</td>\n",
       "    </tr>\n",
       "    <tr>\n",
       "      <th>3</th>\n",
       "      <td>2015-10-03</td>\n",
       "      <td>Checking account</td>\n",
       "      <td>Problems caused by my funds being low</td>\n",
       "      <td>None</td>\n",
       "      <td>Again, I lived in XXXX from : XX/XX/XXXX, unti...</td>\n",
       "      <td>Company chooses not to provide a public response</td>\n",
       "      <td>BB&amp;T Financial</td>\n",
       "      <td>WV</td>\n",
       "      <td>257XX</td>\n",
       "      <td>Older American, Servicemember</td>\n",
       "      <td>2015-10-06</td>\n",
       "      <td>Closed with explanation</td>\n",
       "      <td>1</td>\n",
       "      <td>0</td>\n",
       "      <td>3</td>\n",
       "      <td>0.056710</td>\n",
       "      <td>0</td>\n",
       "      <td>0</td>\n",
       "      <td>0.012972</td>\n",
       "      <td>0</td>\n",
       "      <td>-1.000000</td>\n",
       "      <td>1</td>\n",
       "      <td>0</td>\n",
       "      <td>0.293032</td>\n",
       "      <td>0</td>\n",
       "      <td>0</td>\n",
       "      <td>0.004823</td>\n",
       "      <td>1</td>\n",
       "      <td>0.002994</td>\n",
       "      <td>0</td>\n",
       "      <td>1</td>\n",
       "      <td>0.000499</td>\n",
       "      <td>0</td>\n",
       "      <td>1</td>\n",
       "      <td>0</td>\n",
       "      <td>0</td>\n",
       "      <td>1</td>\n",
       "      <td>0</td>\n",
       "      <td>0</td>\n",
       "      <td>1</td>\n",
       "      <td>0</td>\n",
       "      <td>0</td>\n",
       "      <td>0</td>\n",
       "    </tr>\n",
       "    <tr>\n",
       "      <th>4</th>\n",
       "      <td>2015-07-19</td>\n",
       "      <td>I do not know</td>\n",
       "      <td>Communication tactics</td>\n",
       "      <td>Frequent or repeated calls</td>\n",
       "      <td>This company calls multiple times a day despit...</td>\n",
       "      <td>None</td>\n",
       "      <td>Portfolio Recovery Associates, Inc.</td>\n",
       "      <td>NC</td>\n",
       "      <td>276XX</td>\n",
       "      <td>Not Older American, Not Servicemember</td>\n",
       "      <td>2015-07-19</td>\n",
       "      <td>Closed with non-monetary relief</td>\n",
       "      <td>1</td>\n",
       "      <td>0</td>\n",
       "      <td>0</td>\n",
       "      <td>0.059538</td>\n",
       "      <td>0</td>\n",
       "      <td>0</td>\n",
       "      <td>0.043240</td>\n",
       "      <td>0</td>\n",
       "      <td>0.023283</td>\n",
       "      <td>0</td>\n",
       "      <td>0</td>\n",
       "      <td>-1.000000</td>\n",
       "      <td>1</td>\n",
       "      <td>0</td>\n",
       "      <td>0.009147</td>\n",
       "      <td>1</td>\n",
       "      <td>0.032762</td>\n",
       "      <td>0</td>\n",
       "      <td>0</td>\n",
       "      <td>0.002661</td>\n",
       "      <td>0</td>\n",
       "      <td>0</td>\n",
       "      <td>1</td>\n",
       "      <td>0</td>\n",
       "      <td>0</td>\n",
       "      <td>0</td>\n",
       "      <td>0</td>\n",
       "      <td>0</td>\n",
       "      <td>0</td>\n",
       "      <td>1</td>\n",
       "      <td>0</td>\n",
       "    </tr>\n",
       "  </tbody>\n",
       "</table>\n",
       "</div>"
      ],
      "text/plain": [
       "  date_received       sub_product                                     issue  \\\n",
       "0    2015-10-17       VA mortgage  Loan servicing, payments, escrow account   \n",
       "1    2015-10-06              None  Credit reporting company's investigation   \n",
       "2    2016-01-03     I do not know     Cont'd attempts collect debt not owed   \n",
       "3    2015-10-03  Checking account     Problems caused by my funds being low   \n",
       "4    2015-07-19     I do not know                     Communication tactics   \n",
       "\n",
       "                                  sub_issue  \\\n",
       "0                                      None   \n",
       "1  No notice of investigation status/result   \n",
       "2         Debt resulted from identity theft   \n",
       "3                                      None   \n",
       "4                Frequent or repeated calls   \n",
       "\n",
       "                        consumer_complaint_narrative  \\\n",
       "0  My husband and I agreed to pay off our mortgag...   \n",
       "1  I am filing a complaint because EQUIFAX has ig...   \n",
       "2  This account is fraudulent and the company ref...   \n",
       "3  Again, I lived in XXXX from : XX/XX/XXXX, unti...   \n",
       "4  This company calls multiple times a day despit...   \n",
       "\n",
       "                            company_public_response  \\\n",
       "0  Company chooses not to provide a public response   \n",
       "1                                              None   \n",
       "2                                              None   \n",
       "3  Company chooses not to provide a public response   \n",
       "4                                              None   \n",
       "\n",
       "                               company state zipcode  \\\n",
       "0                Wells Fargo & Company    PA   170XX   \n",
       "1                              Equifax    MI   481XX   \n",
       "2    Receivable Recovery Services, LLC    SC   293XX   \n",
       "3                       BB&T Financial    WV   257XX   \n",
       "4  Portfolio Recovery Associates, Inc.    NC   276XX   \n",
       "\n",
       "                                    tags date_sent_to_company  \\\n",
       "0                         Older American           2015-10-17   \n",
       "1  Not Older American, Not Servicemember           2015-10-06   \n",
       "2  Not Older American, Not Servicemember           2016-01-03   \n",
       "3          Older American, Servicemember           2015-10-06   \n",
       "4  Not Older American, Not Servicemember           2015-07-19   \n",
       "\n",
       "      company_response_to_consumer  timely_response  consumer_disputed?  \\\n",
       "0          Closed with explanation                1                   0   \n",
       "1          Closed with explanation                1                   0   \n",
       "2          Closed with explanation                1                   1   \n",
       "3          Closed with explanation                1                   0   \n",
       "4  Closed with non-monetary relief                1                   0   \n",
       "\n",
       "   days_between_receipt_and_sent  sub_product_freq  sub_product_null_flag  \\\n",
       "0                              0          0.008482                      0   \n",
       "1                              0         -1.000000                      1   \n",
       "2                              0          0.059538                      0   \n",
       "3                              3          0.056710                      0   \n",
       "4                              0          0.059538                      0   \n",
       "\n",
       "   sub_product_low_flag  issue_freq  issue_low_flag  sub_issue_freq  \\\n",
       "0                     1    0.098287               0       -1.000000   \n",
       "1                     0    0.028771               0        0.012806   \n",
       "2                     0    0.110095               0        0.010311   \n",
       "3                     0    0.012972               0       -1.000000   \n",
       "4                     0    0.043240               0        0.023283   \n",
       "\n",
       "   sub_issue_null_flag  sub_issue_low_flag  company_public_response_freq  \\\n",
       "0                    1                   0                      0.293032   \n",
       "1                    0                   0                     -1.000000   \n",
       "2                    0                   0                     -1.000000   \n",
       "3                    1                   0                      0.293032   \n",
       "4                    0                   0                     -1.000000   \n",
       "\n",
       "   company_public_response_null_flag  company_public_response_low_flag  \\\n",
       "0                                  0                                 0   \n",
       "1                                  1                                 0   \n",
       "2                                  1                                 0   \n",
       "3                                  0                                 0   \n",
       "4                                  1                                 0   \n",
       "\n",
       "   company_freq  company_low_flag  state_freq  state_null_flag  \\\n",
       "0      0.043406                 0    0.037086                0   \n",
       "1      0.061034                 0    0.020289                0   \n",
       "2      0.000333                 1    0.013637                0   \n",
       "3      0.004823                 1    0.002994                0   \n",
       "4      0.009147                 1    0.032762                0   \n",
       "\n",
       "   state_low_flag  zipcode_freq  zipcode_null_flag  zipcode_low_flag  \\\n",
       "0               0      0.001330                  0                 0   \n",
       "1               0      0.005322                  0                 0   \n",
       "2               0      0.001829                  0                 0   \n",
       "3               1      0.000499                  0                 1   \n",
       "4               0      0.002661                  0                 0   \n",
       "\n",
       "   Not Older American, Not Servicemember  Older American  \\\n",
       "0                                      0               1   \n",
       "1                                      1               0   \n",
       "2                                      1               0   \n",
       "3                                      0               0   \n",
       "4                                      1               0   \n",
       "\n",
       "   Older American, Servicemember  Servicemember  Closed  \\\n",
       "0                              0              0       0   \n",
       "1                              0              0       0   \n",
       "2                              0              0       0   \n",
       "3                              1              0       0   \n",
       "4                              0              0       0   \n",
       "\n",
       "   Closed with explanation  Closed with monetary relief  \\\n",
       "0                        1                            0   \n",
       "1                        1                            0   \n",
       "2                        1                            0   \n",
       "3                        1                            0   \n",
       "4                        0                            0   \n",
       "\n",
       "   Closed with non-monetary relief  Untimely response  \n",
       "0                                0                  0  \n",
       "1                                0                  0  \n",
       "2                                0                  0  \n",
       "3                                0                  0  \n",
       "4                                1                  0  "
      ]
     },
     "execution_count": 64,
     "metadata": {},
     "output_type": "execute_result"
    }
   ],
   "source": [
    "df_test.head()"
   ]
  },
  {
   "attachments": {},
   "cell_type": "markdown",
   "id": "075665be",
   "metadata": {},
   "source": [
    "## Drop non-converted and unneeded columns to keep feature-engineered dataframe"
   ]
  },
  {
   "cell_type": "code",
   "execution_count": 65,
   "id": "8bec71f9",
   "metadata": {},
   "outputs": [],
   "source": [
    "# keep 'product' bc used LabelEncoder here but have used cat.code factorization previously\n",
    "df_test_fe = df_test.drop(['date_received', 'sub_product', 'issue', 'sub_issue', 'company_public_response', 'company', \n",
    "                         'state', 'zipcode', 'tags', 'date_sent_to_company', 'company_response_to_consumer'], axis=1)"
   ]
  },
  {
   "cell_type": "code",
   "execution_count": 66,
   "id": "33add222",
   "metadata": {},
   "outputs": [
    {
     "name": "stdout",
     "output_type": "stream",
     "text": [
      "<class 'pandas.core.frame.DataFrame'>\n",
      "RangeIndex: 6013 entries, 0 to 6012\n",
      "Data columns (total 32 columns):\n",
      " #   Column                                 Non-Null Count  Dtype  \n",
      "---  ------                                 --------------  -----  \n",
      " 0   consumer_complaint_narrative           6013 non-null   object \n",
      " 1   timely_response                        6013 non-null   int32  \n",
      " 2   consumer_disputed?                     6013 non-null   int32  \n",
      " 3   days_between_receipt_and_sent          6013 non-null   int64  \n",
      " 4   sub_product_freq                       6013 non-null   float64\n",
      " 5   sub_product_null_flag                  6013 non-null   int32  \n",
      " 6   sub_product_low_flag                   6013 non-null   int32  \n",
      " 7   issue_freq                             6013 non-null   float64\n",
      " 8   issue_low_flag                         6013 non-null   int32  \n",
      " 9   sub_issue_freq                         6013 non-null   float64\n",
      " 10  sub_issue_null_flag                    6013 non-null   int32  \n",
      " 11  sub_issue_low_flag                     6013 non-null   int32  \n",
      " 12  company_public_response_freq           6013 non-null   float64\n",
      " 13  company_public_response_null_flag      6013 non-null   int32  \n",
      " 14  company_public_response_low_flag       6013 non-null   int32  \n",
      " 15  company_freq                           6013 non-null   float64\n",
      " 16  company_low_flag                       6013 non-null   int32  \n",
      " 17  state_freq                             6013 non-null   float64\n",
      " 18  state_null_flag                        6013 non-null   int32  \n",
      " 19  state_low_flag                         6013 non-null   int32  \n",
      " 20  zipcode_freq                           6013 non-null   float64\n",
      " 21  zipcode_null_flag                      6013 non-null   int32  \n",
      " 22  zipcode_low_flag                       6013 non-null   int32  \n",
      " 23  Not Older American, Not Servicemember  6013 non-null   int32  \n",
      " 24  Older American                         6013 non-null   int32  \n",
      " 25  Older American, Servicemember          6013 non-null   int32  \n",
      " 26  Servicemember                          6013 non-null   int32  \n",
      " 27  Closed                                 6013 non-null   int32  \n",
      " 28  Closed with explanation                6013 non-null   int32  \n",
      " 29  Closed with monetary relief            6013 non-null   int32  \n",
      " 30  Closed with non-monetary relief        6013 non-null   int32  \n",
      " 31  Untimely response                      6013 non-null   int32  \n",
      "dtypes: float64(7), int32(23), int64(1), object(1)\n",
      "memory usage: 963.1+ KB\n"
     ]
    }
   ],
   "source": [
    "df_test_fe.info()"
   ]
  },
  {
   "cell_type": "code",
   "execution_count": 67,
   "id": "eee64600",
   "metadata": {},
   "outputs": [
    {
     "data": {
      "text/html": [
       "<div>\n",
       "<style scoped>\n",
       "    .dataframe tbody tr th:only-of-type {\n",
       "        vertical-align: middle;\n",
       "    }\n",
       "\n",
       "    .dataframe tbody tr th {\n",
       "        vertical-align: top;\n",
       "    }\n",
       "\n",
       "    .dataframe thead th {\n",
       "        text-align: right;\n",
       "    }\n",
       "</style>\n",
       "<table border=\"1\" class=\"dataframe\">\n",
       "  <thead>\n",
       "    <tr style=\"text-align: right;\">\n",
       "      <th></th>\n",
       "      <th>consumer_complaint_narrative</th>\n",
       "      <th>timely_response</th>\n",
       "      <th>consumer_disputed?</th>\n",
       "      <th>days_between_receipt_and_sent</th>\n",
       "      <th>sub_product_freq</th>\n",
       "      <th>sub_product_null_flag</th>\n",
       "      <th>sub_product_low_flag</th>\n",
       "      <th>issue_freq</th>\n",
       "      <th>issue_low_flag</th>\n",
       "      <th>sub_issue_freq</th>\n",
       "      <th>sub_issue_null_flag</th>\n",
       "      <th>sub_issue_low_flag</th>\n",
       "      <th>company_public_response_freq</th>\n",
       "      <th>company_public_response_null_flag</th>\n",
       "      <th>company_public_response_low_flag</th>\n",
       "      <th>company_freq</th>\n",
       "      <th>company_low_flag</th>\n",
       "      <th>state_freq</th>\n",
       "      <th>state_null_flag</th>\n",
       "      <th>state_low_flag</th>\n",
       "      <th>zipcode_freq</th>\n",
       "      <th>zipcode_null_flag</th>\n",
       "      <th>zipcode_low_flag</th>\n",
       "      <th>Not Older American, Not Servicemember</th>\n",
       "      <th>Older American</th>\n",
       "      <th>Older American, Servicemember</th>\n",
       "      <th>Servicemember</th>\n",
       "      <th>Closed</th>\n",
       "      <th>Closed with explanation</th>\n",
       "      <th>Closed with monetary relief</th>\n",
       "      <th>Closed with non-monetary relief</th>\n",
       "      <th>Untimely response</th>\n",
       "    </tr>\n",
       "  </thead>\n",
       "  <tbody>\n",
       "    <tr>\n",
       "      <th>0</th>\n",
       "      <td>My husband and I agreed to pay off our mortgag...</td>\n",
       "      <td>1</td>\n",
       "      <td>0</td>\n",
       "      <td>0</td>\n",
       "      <td>0.008482</td>\n",
       "      <td>0</td>\n",
       "      <td>1</td>\n",
       "      <td>0.098287</td>\n",
       "      <td>0</td>\n",
       "      <td>-1.000000</td>\n",
       "      <td>1</td>\n",
       "      <td>0</td>\n",
       "      <td>0.293032</td>\n",
       "      <td>0</td>\n",
       "      <td>0</td>\n",
       "      <td>0.043406</td>\n",
       "      <td>0</td>\n",
       "      <td>0.037086</td>\n",
       "      <td>0</td>\n",
       "      <td>0</td>\n",
       "      <td>0.001330</td>\n",
       "      <td>0</td>\n",
       "      <td>0</td>\n",
       "      <td>0</td>\n",
       "      <td>1</td>\n",
       "      <td>0</td>\n",
       "      <td>0</td>\n",
       "      <td>0</td>\n",
       "      <td>1</td>\n",
       "      <td>0</td>\n",
       "      <td>0</td>\n",
       "      <td>0</td>\n",
       "    </tr>\n",
       "    <tr>\n",
       "      <th>1</th>\n",
       "      <td>I am filing a complaint because EQUIFAX has ig...</td>\n",
       "      <td>1</td>\n",
       "      <td>0</td>\n",
       "      <td>0</td>\n",
       "      <td>-1.000000</td>\n",
       "      <td>1</td>\n",
       "      <td>0</td>\n",
       "      <td>0.028771</td>\n",
       "      <td>0</td>\n",
       "      <td>0.012806</td>\n",
       "      <td>0</td>\n",
       "      <td>0</td>\n",
       "      <td>-1.000000</td>\n",
       "      <td>1</td>\n",
       "      <td>0</td>\n",
       "      <td>0.061034</td>\n",
       "      <td>0</td>\n",
       "      <td>0.020289</td>\n",
       "      <td>0</td>\n",
       "      <td>0</td>\n",
       "      <td>0.005322</td>\n",
       "      <td>0</td>\n",
       "      <td>0</td>\n",
       "      <td>1</td>\n",
       "      <td>0</td>\n",
       "      <td>0</td>\n",
       "      <td>0</td>\n",
       "      <td>0</td>\n",
       "      <td>1</td>\n",
       "      <td>0</td>\n",
       "      <td>0</td>\n",
       "      <td>0</td>\n",
       "    </tr>\n",
       "    <tr>\n",
       "      <th>2</th>\n",
       "      <td>This account is fraudulent and the company ref...</td>\n",
       "      <td>1</td>\n",
       "      <td>1</td>\n",
       "      <td>0</td>\n",
       "      <td>0.059538</td>\n",
       "      <td>0</td>\n",
       "      <td>0</td>\n",
       "      <td>0.110095</td>\n",
       "      <td>0</td>\n",
       "      <td>0.010311</td>\n",
       "      <td>0</td>\n",
       "      <td>0</td>\n",
       "      <td>-1.000000</td>\n",
       "      <td>1</td>\n",
       "      <td>0</td>\n",
       "      <td>0.000333</td>\n",
       "      <td>1</td>\n",
       "      <td>0.013637</td>\n",
       "      <td>0</td>\n",
       "      <td>0</td>\n",
       "      <td>0.001829</td>\n",
       "      <td>0</td>\n",
       "      <td>0</td>\n",
       "      <td>1</td>\n",
       "      <td>0</td>\n",
       "      <td>0</td>\n",
       "      <td>0</td>\n",
       "      <td>0</td>\n",
       "      <td>1</td>\n",
       "      <td>0</td>\n",
       "      <td>0</td>\n",
       "      <td>0</td>\n",
       "    </tr>\n",
       "    <tr>\n",
       "      <th>3</th>\n",
       "      <td>Again, I lived in XXXX from : XX/XX/XXXX, unti...</td>\n",
       "      <td>1</td>\n",
       "      <td>0</td>\n",
       "      <td>3</td>\n",
       "      <td>0.056710</td>\n",
       "      <td>0</td>\n",
       "      <td>0</td>\n",
       "      <td>0.012972</td>\n",
       "      <td>0</td>\n",
       "      <td>-1.000000</td>\n",
       "      <td>1</td>\n",
       "      <td>0</td>\n",
       "      <td>0.293032</td>\n",
       "      <td>0</td>\n",
       "      <td>0</td>\n",
       "      <td>0.004823</td>\n",
       "      <td>1</td>\n",
       "      <td>0.002994</td>\n",
       "      <td>0</td>\n",
       "      <td>1</td>\n",
       "      <td>0.000499</td>\n",
       "      <td>0</td>\n",
       "      <td>1</td>\n",
       "      <td>0</td>\n",
       "      <td>0</td>\n",
       "      <td>1</td>\n",
       "      <td>0</td>\n",
       "      <td>0</td>\n",
       "      <td>1</td>\n",
       "      <td>0</td>\n",
       "      <td>0</td>\n",
       "      <td>0</td>\n",
       "    </tr>\n",
       "    <tr>\n",
       "      <th>4</th>\n",
       "      <td>This company calls multiple times a day despit...</td>\n",
       "      <td>1</td>\n",
       "      <td>0</td>\n",
       "      <td>0</td>\n",
       "      <td>0.059538</td>\n",
       "      <td>0</td>\n",
       "      <td>0</td>\n",
       "      <td>0.043240</td>\n",
       "      <td>0</td>\n",
       "      <td>0.023283</td>\n",
       "      <td>0</td>\n",
       "      <td>0</td>\n",
       "      <td>-1.000000</td>\n",
       "      <td>1</td>\n",
       "      <td>0</td>\n",
       "      <td>0.009147</td>\n",
       "      <td>1</td>\n",
       "      <td>0.032762</td>\n",
       "      <td>0</td>\n",
       "      <td>0</td>\n",
       "      <td>0.002661</td>\n",
       "      <td>0</td>\n",
       "      <td>0</td>\n",
       "      <td>1</td>\n",
       "      <td>0</td>\n",
       "      <td>0</td>\n",
       "      <td>0</td>\n",
       "      <td>0</td>\n",
       "      <td>0</td>\n",
       "      <td>0</td>\n",
       "      <td>1</td>\n",
       "      <td>0</td>\n",
       "    </tr>\n",
       "  </tbody>\n",
       "</table>\n",
       "</div>"
      ],
      "text/plain": [
       "                        consumer_complaint_narrative  timely_response  \\\n",
       "0  My husband and I agreed to pay off our mortgag...                1   \n",
       "1  I am filing a complaint because EQUIFAX has ig...                1   \n",
       "2  This account is fraudulent and the company ref...                1   \n",
       "3  Again, I lived in XXXX from : XX/XX/XXXX, unti...                1   \n",
       "4  This company calls multiple times a day despit...                1   \n",
       "\n",
       "   consumer_disputed?  days_between_receipt_and_sent  sub_product_freq  \\\n",
       "0                   0                              0          0.008482   \n",
       "1                   0                              0         -1.000000   \n",
       "2                   1                              0          0.059538   \n",
       "3                   0                              3          0.056710   \n",
       "4                   0                              0          0.059538   \n",
       "\n",
       "   sub_product_null_flag  sub_product_low_flag  issue_freq  issue_low_flag  \\\n",
       "0                      0                     1    0.098287               0   \n",
       "1                      1                     0    0.028771               0   \n",
       "2                      0                     0    0.110095               0   \n",
       "3                      0                     0    0.012972               0   \n",
       "4                      0                     0    0.043240               0   \n",
       "\n",
       "   sub_issue_freq  sub_issue_null_flag  sub_issue_low_flag  \\\n",
       "0       -1.000000                    1                   0   \n",
       "1        0.012806                    0                   0   \n",
       "2        0.010311                    0                   0   \n",
       "3       -1.000000                    1                   0   \n",
       "4        0.023283                    0                   0   \n",
       "\n",
       "   company_public_response_freq  company_public_response_null_flag  \\\n",
       "0                      0.293032                                  0   \n",
       "1                     -1.000000                                  1   \n",
       "2                     -1.000000                                  1   \n",
       "3                      0.293032                                  0   \n",
       "4                     -1.000000                                  1   \n",
       "\n",
       "   company_public_response_low_flag  company_freq  company_low_flag  \\\n",
       "0                                 0      0.043406                 0   \n",
       "1                                 0      0.061034                 0   \n",
       "2                                 0      0.000333                 1   \n",
       "3                                 0      0.004823                 1   \n",
       "4                                 0      0.009147                 1   \n",
       "\n",
       "   state_freq  state_null_flag  state_low_flag  zipcode_freq  \\\n",
       "0    0.037086                0               0      0.001330   \n",
       "1    0.020289                0               0      0.005322   \n",
       "2    0.013637                0               0      0.001829   \n",
       "3    0.002994                0               1      0.000499   \n",
       "4    0.032762                0               0      0.002661   \n",
       "\n",
       "   zipcode_null_flag  zipcode_low_flag  Not Older American, Not Servicemember  \\\n",
       "0                  0                 0                                      0   \n",
       "1                  0                 0                                      1   \n",
       "2                  0                 0                                      1   \n",
       "3                  0                 1                                      0   \n",
       "4                  0                 0                                      1   \n",
       "\n",
       "   Older American  Older American, Servicemember  Servicemember  Closed  \\\n",
       "0               1                              0              0       0   \n",
       "1               0                              0              0       0   \n",
       "2               0                              0              0       0   \n",
       "3               0                              1              0       0   \n",
       "4               0                              0              0       0   \n",
       "\n",
       "   Closed with explanation  Closed with monetary relief  \\\n",
       "0                        1                            0   \n",
       "1                        1                            0   \n",
       "2                        1                            0   \n",
       "3                        1                            0   \n",
       "4                        0                            0   \n",
       "\n",
       "   Closed with non-monetary relief  Untimely response  \n",
       "0                                0                  0  \n",
       "1                                0                  0  \n",
       "2                                0                  0  \n",
       "3                                0                  0  \n",
       "4                                1                  0  "
      ]
     },
     "execution_count": 67,
     "metadata": {},
     "output_type": "execute_result"
    }
   ],
   "source": [
    "df_test_fe.head()"
   ]
  },
  {
   "attachments": {},
   "cell_type": "markdown",
   "id": "ab4bb10c",
   "metadata": {},
   "source": [
    "## Save munged and feature-engineered dataframe for modeling"
   ]
  },
  {
   "cell_type": "code",
   "execution_count": 68,
   "id": "2ea7f4fa",
   "metadata": {},
   "outputs": [],
   "source": [
    "df_test_fe.to_parquet('./input/dataframes/df_test_FE.parquet')"
   ]
  },
  {
   "attachments": {},
   "cell_type": "markdown",
   "id": "45b80772",
   "metadata": {},
   "source": [
    "## NLP for validation set text"
   ]
  },
  {
   "attachments": {},
   "cell_type": "markdown",
   "id": "30ea1838",
   "metadata": {},
   "source": [
    "### Functions for cleaning and processing text"
   ]
  },
  {
   "cell_type": "code",
   "execution_count": 69,
   "id": "7453ea4f",
   "metadata": {},
   "outputs": [],
   "source": [
    "def clean_text(df):\n",
    "    for i in [char for char in ':;\"?,/|\\\\}{1234567890.~!@#$%^&*_+=<>']:\n",
    "        df.text=df.text.apply(lambda x: str(x).replace(i,\"\"))\n",
    "\n",
    "    df.text=df.text.apply(lambda x: str(x).replace('-',\" \"))\n",
    "    df.text=df.text.apply(lambda x: str(x).replace(\"X\",\"\"))\n",
    "    df.text=df.text.apply(lambda x: str(x).replace(\"XX\",\"\"))\n",
    "    df.text=df.text.apply(lambda x: str(x).replace(\"XXX\",\"\"))\n",
    "    df.text=df.text.apply(lambda x: str(x).replace(\"XXXX\",\"\"))\n",
    "    df.text=df.text.apply(lambda x: str(x).replace(\"XXXXX\",\"\"))\n",
    "    df.text=df.text.apply(lambda x: str(x).replace(\"XXXXXX\",\"\"))\n",
    "    df.text=df.text.apply(lambda x: str(x).replace(\"XXXXXXX\",\"\"))\n",
    "    df.text=df.text.apply(lambda x: str(x).replace(\"XXXXXXXX\",\"\")) # removes redactions \n",
    "\n",
    "    stopword_dict= set(stopwords.words('english'))\n",
    "\n",
    "    def sw_remover(arr):\n",
    "        res=[]\n",
    "        for i in arr:\n",
    "            if i not in stopword_dict:\n",
    "                res.append(i)\n",
    "        return res\n",
    "\n",
    "    # def digit_remover(arr):\n",
    "    #     res=[]\n",
    "    #     for i in arr:\n",
    "    #         if i.isdigit()==False:\n",
    "    #             res.append(i)\n",
    "    #     return res\n",
    "\n",
    "    def lemmatizer(arr):\n",
    "        lem=nltk.stem.WordNetLemmatizer()\n",
    "        res=[lem.lemmatize(i) for i in arr]\n",
    "        return res\n",
    "\n",
    "    def joiner(arr):\n",
    "        if len(arr)==0:\n",
    "            return ''\n",
    "        elif len(arr)==1:\n",
    "            return arr[0]\n",
    "        else:\n",
    "            return ' '.join(arr)\n",
    "    \n",
    "    df.text=df.text.apply(lambda x: re.sub(r'\\[rnt]',\"\",x))\n",
    "    df.text=df.text.apply(lambda x: x.lower())\n",
    "    df.text=df.text.apply(lambda x: x.split())\n",
    "    df.text=df.text.apply(sw_remover)\n",
    "    df.text=df.text.apply(lemmatizer)\n",
    "    df.text=df.text.apply(joiner)\n",
    "\n",
    "    df['len']=df['text'].apply(len)\n",
    "    \n",
    "    return df"
   ]
  },
  {
   "cell_type": "code",
   "execution_count": 73,
   "id": "54a6b3a2",
   "metadata": {},
   "outputs": [],
   "source": [
    "# #L = WordNetLemmatizer()\n",
    "# s = SnowballStemmer('english')\n",
    "\n",
    "# def wordPreProcess(sentence):\n",
    "#     return ' '.join([s.stem(x.lower()) for x in re.split('\\W', sentence) if len(x) >= 1])"
   ]
  },
  {
   "cell_type": "code",
   "execution_count": 70,
   "id": "e47db2f2",
   "metadata": {},
   "outputs": [],
   "source": [
    "def getTextFeatures(df, txt, max_features=5000, ngrams=(1,2), verbose=True): #, max_features=10000\n",
    "    if verbose:\n",
    "        print('processing: ', txt)\n",
    "    vectorizer = TfidfVectorizer(stop_words=stop_words,\n",
    "                                 #preprocessor=wordPreProcess,\n",
    "                                 max_features=max_features,\n",
    "                                 binary=True,\n",
    "                                 ngram_range=ngrams)\n",
    "    X = vectorizer.fit_transform(df[txt])\n",
    "    return X, vectorizer.get_feature_names_out()"
   ]
  },
  {
   "attachments": {},
   "cell_type": "markdown",
   "id": "942b6424",
   "metadata": {},
   "source": [
    "## View and prepare text"
   ]
  },
  {
   "cell_type": "code",
   "execution_count": 71,
   "id": "436bcf73",
   "metadata": {},
   "outputs": [
    {
     "name": "stdout",
     "output_type": "stream",
     "text": [
      "My husband and I agreed to pay off our mortgage. We felt the best way to pay this off would be to start making a payment per day. Our payment amount is less than {$600.00}. We decided to pay {$600.00} each day until the mortgage was completely payed off. Understanding that we confirmed with the bank that each payment would be recognized as a monthly payment. And we would not be held responsible for payments in arrears, should either of us fall ill and not be able to make a payment during a 90 day period that would let us rest at ease that payments represented a monthly payment. We see a full months amount of interest taken out of the payment, even though we have made the payments on a daily basis. or even several payments on one day. A mortgage should be interest calculated on the days required between payments against the balance. May we please have this in writing as to why they are making this payment as principal and interest for the full month 's interest? Am I mistaken on this issue? They did tell me that they would have a problem with escrow, if that were the case we could pay that separately. But interest needs to be corrected in my thoughts. Thank you for your time and consideration on this matter. I have included documentation to show this application of payments to the balance of the mortgage. \n",
      "The mortgage department has not been helpful with this situation. It seems that they can no longer use the regular method of calculating interest. That it is so given away to automation to be calculated by computers that it is no longer an application they can master when it is a trifle out of the ordinary. All of our statements are sent as soon as we make a payment instead at the end of a month, so each statement looks like a payment per month. This is a little discerning that a bank the size is having this issue with calculation. Earlier I caught an error on a checking account that fees were being deducted that should not have been and I had to have them reversed by the manager. Who is taking care of quality assurance in customers accounts. Why are the accounts allowed to persist with mistakes with no one watching them. Why are they not being reviewed and audited for these errors. We also had money from previous mortgages from this bank end up in the escheats division of the state because the checks was never forwarded to our address. Really, we did n't move, just refinanced. This happened 2 times with this bank. Why? Because if no one sends it out it does n't get returned, we could have cashed the funds from the previous errors in the mortgage payoffs. Which should have been calculated down to the penny by working with all the tax authorities and insurance agencies, etc. but no one is willing to work out the math and make the phone calls to get the amount correct. Again this is very discouraging. This last time we refinanced the person dealing with us made so many mistakes we were ready to walk away. The mortgage took twice as long and was twice as difficult and we were put into a VA loan immediately when all we ask was which would be the best benefit for us. Twice as long, twice the fees, when we needed it ASAP. \n",
      "\n",
      "#####################\n",
      "I am filing a complaint because EQUIFAX has ignored my request to provide me with the documents that their company has on file that was used to verify the accounts i disputed. Being that they have gone past the 30 day mark and can not verify these accounts, under Section 611 ( 5 ) ( A ) of the FCRA- they are required to \" ... promptly delete all information which can not be verified. '' that I have disputed. Please resolve this manner as soon as possible. Thank you \n",
      "\n",
      "#####################\n",
      "This account is fraudulent and the company refuse to remove the account due to identity theft. Someone went to the XXXX under my name and created a debt. \n",
      "\n",
      "#####################\n",
      "Again, I lived in XXXX from : XX/XX/XXXX, until XX/XX/XXXX. ALL XXXX-Credit Agencies are reporting my ADDRESSES from THAT TIME ... ( ALMOST 5-YEARS ), as me STILL LIVING IN XXXX! How can I live XXXX, & have an ADDRESS ( OF LIVING ), IN THE UNITED STATES? Please have ALL XXXX-Credit Agencies, take off any & all PREVIOUS ADDRESSES, from that period of time .... ( XX/XX/XXXX til XX/XX/XXXX ). \n",
      "Also, make sure ALL XXXX-CREDIT AGENCIES take off ''AFNI COLLECTION AGENCY '' report of the FRAUD .... ( already filed a report or claim to your Agency : # XXXX ). \n",
      "I PAID this XXXX XXXX XXXX Mobile Cell Phone '' off, via my ''B.B. & T. Bank '', XX/XX/XXXX ... .for : $ XXXX-Dollars. Despite me paying this off, ( even thou I did ''NOT '' owe it ). After I discovered I DID NOT OWE THIS BILL, I ASK MY BANK TO REFUND MY MONEY OF $ XXXX-Dollars ... which they are yet to do. I have filed a Dispute with ''B.B. & T. Bank '', for the above amount. \n",
      "Even thou I paid this FRAUD OFF ... .. '' XXXX '' STILL IS REPORTING THIS ON XXXX '' & XXXX '', as still being on my Account, ( as PAID OR CLOSED ), BUT STILL LISTING THIS ''FRAUD '', on my XXXX-above Credit Agencies. I requested ' '' XXXX '' to take this FRAUD OFF OF ALL XXXX-CREDIT AGENCIES, & they XXXX '', has ''NOT '' done this, despite THEM telling me that they would. \n",
      "\n",
      "PLEASE TELL ''B.B. & T. BANK '' ... ... TO REFUND MY XX/XX/XXXX XXXX XXXX XXXX XX/XX/XXXX XXXX XXXX XXXX BB & T CHECK CARD PURCHASE {$320.00}. \n",
      "\n",
      "PLUS, TELL ''B.B. & T. BANK '' ... ... TO REFUND MY LATE FEE AS WHEN I DEPOSITED THE CHECK FROM : XXXX XXXX XXXX XXXX THEY ( WERE SUPPOSE TO DISCARD MY CHECK, AS I NOW HAVE XXXX VA '' ... .INSURANCE FOR MY WIFE & SON ... .. ( AS I 'M A XXXX VETERAN ). THEREFORE, I DO N'T NEED THIS XXXX. \n",
      "SO HAVE ''B.B. & T. BANK '' TO RETURN THE {$320.00} ... ... ( AS XXXX '' LIED TO ME ), THEY TOLD ME I HAD TO PAY THIS OFF!!! & THEY WOULD TAKE IT OFF OF MY CREDIT REPORT ... ... AGAIN THEY LIED ... .TO DATE THEY HAVE NOT REMOVED THIS ITEM FROM MY CREDIT REPORT. \n",
      "MAKE SURE ''B.B. & T. BANK '' ... ..ALSO RETURNS MY LATE FEE OF $ XXXX-DOLLARS WHICH THEY CHARGE ME AS WELL. \n",
      "Thanks, XXXX ... ... ... OVERDRAFT FEEGet this notice fast. Sign up for free BB & T Alerts. \n",
      "\n",
      "Printable VersionYour account had insufficient funds to pay XXXX item ( s ). BB & T paid the following item ( s ). \n",
      "\n",
      "BB & T ONLINE BILL PAYMEXXXX $ XXXXTotal Item Amount : $ XXXXTOTAL OVERDRAFT FEE : {$36.00} {$36.00} - $ XXXXXX/XX/XXXX Check XXXX XXXX XXXX XXXX XXXX # XXXX View {$140.00}. \n",
      "\n",
      "AT FIRST THEY ONLY GAVE ME CREDIT FOR $ XXXX-DOLLARS, DESPITE THEM KNOWING OR THEM TELLING ME, THAT JUST AS SOON AS I GET THE ' '' XXXX XXXX XXXX CHECK '' FOR {$140.00} ... ..*DEPOSIT THE CHECK ... .... ( BB & T. BANK ONLY GAVE ME CREDIT FOR $ XXXX-DOLLARS! ***MAKING ME OVERDRAWEN*** \n",
      "\n",
      "#####################\n",
      "This company calls multiple times a day despite requests that they remove our number from their database. They do not provide information on the debt that they are attempting to collect. I know of no debts owed by me and am inclined to think that these computer generated calls are merely fishing expeditions seeking a similarly named person. They have not responded to requests to communicate via mail nor provided any evidence of a debt owed by me. \n",
      "\n",
      "#####################\n"
     ]
    }
   ],
   "source": [
    "for i in df_test_fe['consumer_complaint_narrative'].head(5):\n",
    "    print(i)\n",
    "    print(\"#####################\")"
   ]
  },
  {
   "cell_type": "code",
   "execution_count": 72,
   "id": "61ac8f73",
   "metadata": {},
   "outputs": [],
   "source": [
    "df_test_fe = df_test_fe.rename({'consumer_complaint_narrative':'text'},axis=1)"
   ]
  },
  {
   "cell_type": "code",
   "execution_count": 73,
   "id": "604135ae",
   "metadata": {},
   "outputs": [],
   "source": [
    "df_test_fe['text'] = df_test_fe['text'].astype(str)"
   ]
  },
  {
   "cell_type": "code",
   "execution_count": 74,
   "id": "ec022ef7",
   "metadata": {},
   "outputs": [
    {
     "data": {
      "text/html": [
       "<div>\n",
       "<style scoped>\n",
       "    .dataframe tbody tr th:only-of-type {\n",
       "        vertical-align: middle;\n",
       "    }\n",
       "\n",
       "    .dataframe tbody tr th {\n",
       "        vertical-align: top;\n",
       "    }\n",
       "\n",
       "    .dataframe thead th {\n",
       "        text-align: right;\n",
       "    }\n",
       "</style>\n",
       "<table border=\"1\" class=\"dataframe\">\n",
       "  <thead>\n",
       "    <tr style=\"text-align: right;\">\n",
       "      <th></th>\n",
       "      <th>text</th>\n",
       "      <th>timely_response</th>\n",
       "      <th>consumer_disputed?</th>\n",
       "      <th>days_between_receipt_and_sent</th>\n",
       "      <th>sub_product_freq</th>\n",
       "      <th>sub_product_null_flag</th>\n",
       "      <th>sub_product_low_flag</th>\n",
       "      <th>issue_freq</th>\n",
       "      <th>issue_low_flag</th>\n",
       "      <th>sub_issue_freq</th>\n",
       "      <th>sub_issue_null_flag</th>\n",
       "      <th>sub_issue_low_flag</th>\n",
       "      <th>company_public_response_freq</th>\n",
       "      <th>company_public_response_null_flag</th>\n",
       "      <th>company_public_response_low_flag</th>\n",
       "      <th>company_freq</th>\n",
       "      <th>company_low_flag</th>\n",
       "      <th>state_freq</th>\n",
       "      <th>state_null_flag</th>\n",
       "      <th>state_low_flag</th>\n",
       "      <th>zipcode_freq</th>\n",
       "      <th>zipcode_null_flag</th>\n",
       "      <th>zipcode_low_flag</th>\n",
       "      <th>Not Older American, Not Servicemember</th>\n",
       "      <th>Older American</th>\n",
       "      <th>Older American, Servicemember</th>\n",
       "      <th>Servicemember</th>\n",
       "      <th>Closed</th>\n",
       "      <th>Closed with explanation</th>\n",
       "      <th>Closed with monetary relief</th>\n",
       "      <th>Closed with non-monetary relief</th>\n",
       "      <th>Untimely response</th>\n",
       "    </tr>\n",
       "  </thead>\n",
       "  <tbody>\n",
       "    <tr>\n",
       "      <th>0</th>\n",
       "      <td>My husband and I agreed to pay off our mortgag...</td>\n",
       "      <td>1</td>\n",
       "      <td>0</td>\n",
       "      <td>0</td>\n",
       "      <td>0.008482</td>\n",
       "      <td>0</td>\n",
       "      <td>1</td>\n",
       "      <td>0.098287</td>\n",
       "      <td>0</td>\n",
       "      <td>-1.000000</td>\n",
       "      <td>1</td>\n",
       "      <td>0</td>\n",
       "      <td>0.293032</td>\n",
       "      <td>0</td>\n",
       "      <td>0</td>\n",
       "      <td>0.043406</td>\n",
       "      <td>0</td>\n",
       "      <td>0.037086</td>\n",
       "      <td>0</td>\n",
       "      <td>0</td>\n",
       "      <td>0.001330</td>\n",
       "      <td>0</td>\n",
       "      <td>0</td>\n",
       "      <td>0</td>\n",
       "      <td>1</td>\n",
       "      <td>0</td>\n",
       "      <td>0</td>\n",
       "      <td>0</td>\n",
       "      <td>1</td>\n",
       "      <td>0</td>\n",
       "      <td>0</td>\n",
       "      <td>0</td>\n",
       "    </tr>\n",
       "    <tr>\n",
       "      <th>1</th>\n",
       "      <td>I am filing a complaint because EQUIFAX has ig...</td>\n",
       "      <td>1</td>\n",
       "      <td>0</td>\n",
       "      <td>0</td>\n",
       "      <td>-1.000000</td>\n",
       "      <td>1</td>\n",
       "      <td>0</td>\n",
       "      <td>0.028771</td>\n",
       "      <td>0</td>\n",
       "      <td>0.012806</td>\n",
       "      <td>0</td>\n",
       "      <td>0</td>\n",
       "      <td>-1.000000</td>\n",
       "      <td>1</td>\n",
       "      <td>0</td>\n",
       "      <td>0.061034</td>\n",
       "      <td>0</td>\n",
       "      <td>0.020289</td>\n",
       "      <td>0</td>\n",
       "      <td>0</td>\n",
       "      <td>0.005322</td>\n",
       "      <td>0</td>\n",
       "      <td>0</td>\n",
       "      <td>1</td>\n",
       "      <td>0</td>\n",
       "      <td>0</td>\n",
       "      <td>0</td>\n",
       "      <td>0</td>\n",
       "      <td>1</td>\n",
       "      <td>0</td>\n",
       "      <td>0</td>\n",
       "      <td>0</td>\n",
       "    </tr>\n",
       "    <tr>\n",
       "      <th>2</th>\n",
       "      <td>This account is fraudulent and the company ref...</td>\n",
       "      <td>1</td>\n",
       "      <td>1</td>\n",
       "      <td>0</td>\n",
       "      <td>0.059538</td>\n",
       "      <td>0</td>\n",
       "      <td>0</td>\n",
       "      <td>0.110095</td>\n",
       "      <td>0</td>\n",
       "      <td>0.010311</td>\n",
       "      <td>0</td>\n",
       "      <td>0</td>\n",
       "      <td>-1.000000</td>\n",
       "      <td>1</td>\n",
       "      <td>0</td>\n",
       "      <td>0.000333</td>\n",
       "      <td>1</td>\n",
       "      <td>0.013637</td>\n",
       "      <td>0</td>\n",
       "      <td>0</td>\n",
       "      <td>0.001829</td>\n",
       "      <td>0</td>\n",
       "      <td>0</td>\n",
       "      <td>1</td>\n",
       "      <td>0</td>\n",
       "      <td>0</td>\n",
       "      <td>0</td>\n",
       "      <td>0</td>\n",
       "      <td>1</td>\n",
       "      <td>0</td>\n",
       "      <td>0</td>\n",
       "      <td>0</td>\n",
       "    </tr>\n",
       "    <tr>\n",
       "      <th>3</th>\n",
       "      <td>Again, I lived in XXXX from : XX/XX/XXXX, unti...</td>\n",
       "      <td>1</td>\n",
       "      <td>0</td>\n",
       "      <td>3</td>\n",
       "      <td>0.056710</td>\n",
       "      <td>0</td>\n",
       "      <td>0</td>\n",
       "      <td>0.012972</td>\n",
       "      <td>0</td>\n",
       "      <td>-1.000000</td>\n",
       "      <td>1</td>\n",
       "      <td>0</td>\n",
       "      <td>0.293032</td>\n",
       "      <td>0</td>\n",
       "      <td>0</td>\n",
       "      <td>0.004823</td>\n",
       "      <td>1</td>\n",
       "      <td>0.002994</td>\n",
       "      <td>0</td>\n",
       "      <td>1</td>\n",
       "      <td>0.000499</td>\n",
       "      <td>0</td>\n",
       "      <td>1</td>\n",
       "      <td>0</td>\n",
       "      <td>0</td>\n",
       "      <td>1</td>\n",
       "      <td>0</td>\n",
       "      <td>0</td>\n",
       "      <td>1</td>\n",
       "      <td>0</td>\n",
       "      <td>0</td>\n",
       "      <td>0</td>\n",
       "    </tr>\n",
       "    <tr>\n",
       "      <th>4</th>\n",
       "      <td>This company calls multiple times a day despit...</td>\n",
       "      <td>1</td>\n",
       "      <td>0</td>\n",
       "      <td>0</td>\n",
       "      <td>0.059538</td>\n",
       "      <td>0</td>\n",
       "      <td>0</td>\n",
       "      <td>0.043240</td>\n",
       "      <td>0</td>\n",
       "      <td>0.023283</td>\n",
       "      <td>0</td>\n",
       "      <td>0</td>\n",
       "      <td>-1.000000</td>\n",
       "      <td>1</td>\n",
       "      <td>0</td>\n",
       "      <td>0.009147</td>\n",
       "      <td>1</td>\n",
       "      <td>0.032762</td>\n",
       "      <td>0</td>\n",
       "      <td>0</td>\n",
       "      <td>0.002661</td>\n",
       "      <td>0</td>\n",
       "      <td>0</td>\n",
       "      <td>1</td>\n",
       "      <td>0</td>\n",
       "      <td>0</td>\n",
       "      <td>0</td>\n",
       "      <td>0</td>\n",
       "      <td>0</td>\n",
       "      <td>0</td>\n",
       "      <td>1</td>\n",
       "      <td>0</td>\n",
       "    </tr>\n",
       "  </tbody>\n",
       "</table>\n",
       "</div>"
      ],
      "text/plain": [
       "                                                text  timely_response  \\\n",
       "0  My husband and I agreed to pay off our mortgag...                1   \n",
       "1  I am filing a complaint because EQUIFAX has ig...                1   \n",
       "2  This account is fraudulent and the company ref...                1   \n",
       "3  Again, I lived in XXXX from : XX/XX/XXXX, unti...                1   \n",
       "4  This company calls multiple times a day despit...                1   \n",
       "\n",
       "   consumer_disputed?  days_between_receipt_and_sent  sub_product_freq  \\\n",
       "0                   0                              0          0.008482   \n",
       "1                   0                              0         -1.000000   \n",
       "2                   1                              0          0.059538   \n",
       "3                   0                              3          0.056710   \n",
       "4                   0                              0          0.059538   \n",
       "\n",
       "   sub_product_null_flag  sub_product_low_flag  issue_freq  issue_low_flag  \\\n",
       "0                      0                     1    0.098287               0   \n",
       "1                      1                     0    0.028771               0   \n",
       "2                      0                     0    0.110095               0   \n",
       "3                      0                     0    0.012972               0   \n",
       "4                      0                     0    0.043240               0   \n",
       "\n",
       "   sub_issue_freq  sub_issue_null_flag  sub_issue_low_flag  \\\n",
       "0       -1.000000                    1                   0   \n",
       "1        0.012806                    0                   0   \n",
       "2        0.010311                    0                   0   \n",
       "3       -1.000000                    1                   0   \n",
       "4        0.023283                    0                   0   \n",
       "\n",
       "   company_public_response_freq  company_public_response_null_flag  \\\n",
       "0                      0.293032                                  0   \n",
       "1                     -1.000000                                  1   \n",
       "2                     -1.000000                                  1   \n",
       "3                      0.293032                                  0   \n",
       "4                     -1.000000                                  1   \n",
       "\n",
       "   company_public_response_low_flag  company_freq  company_low_flag  \\\n",
       "0                                 0      0.043406                 0   \n",
       "1                                 0      0.061034                 0   \n",
       "2                                 0      0.000333                 1   \n",
       "3                                 0      0.004823                 1   \n",
       "4                                 0      0.009147                 1   \n",
       "\n",
       "   state_freq  state_null_flag  state_low_flag  zipcode_freq  \\\n",
       "0    0.037086                0               0      0.001330   \n",
       "1    0.020289                0               0      0.005322   \n",
       "2    0.013637                0               0      0.001829   \n",
       "3    0.002994                0               1      0.000499   \n",
       "4    0.032762                0               0      0.002661   \n",
       "\n",
       "   zipcode_null_flag  zipcode_low_flag  Not Older American, Not Servicemember  \\\n",
       "0                  0                 0                                      0   \n",
       "1                  0                 0                                      1   \n",
       "2                  0                 0                                      1   \n",
       "3                  0                 1                                      0   \n",
       "4                  0                 0                                      1   \n",
       "\n",
       "   Older American  Older American, Servicemember  Servicemember  Closed  \\\n",
       "0               1                              0              0       0   \n",
       "1               0                              0              0       0   \n",
       "2               0                              0              0       0   \n",
       "3               0                              1              0       0   \n",
       "4               0                              0              0       0   \n",
       "\n",
       "   Closed with explanation  Closed with monetary relief  \\\n",
       "0                        1                            0   \n",
       "1                        1                            0   \n",
       "2                        1                            0   \n",
       "3                        1                            0   \n",
       "4                        0                            0   \n",
       "\n",
       "   Closed with non-monetary relief  Untimely response  \n",
       "0                                0                  0  \n",
       "1                                0                  0  \n",
       "2                                0                  0  \n",
       "3                                0                  0  \n",
       "4                                1                  0  "
      ]
     },
     "execution_count": 74,
     "metadata": {},
     "output_type": "execute_result"
    }
   ],
   "source": [
    "df_test_fe.head()"
   ]
  },
  {
   "cell_type": "markdown",
   "id": "f4946ba2",
   "metadata": {},
   "source": [
    "## Sanitize and vectorize text"
   ]
  },
  {
   "cell_type": "code",
   "execution_count": 75,
   "id": "3480c46e",
   "metadata": {},
   "outputs": [],
   "source": [
    "df_test_fe = clean_text(df_test_fe)"
   ]
  },
  {
   "cell_type": "code",
   "execution_count": 76,
   "id": "4d7f1975",
   "metadata": {},
   "outputs": [
    {
     "name": "stdout",
     "output_type": "stream",
     "text": [
      "processing:  text\n"
     ]
    }
   ],
   "source": [
    "X_text_test, feat_text_test = getTextFeatures(df_test_fe, 'text')"
   ]
  },
  {
   "cell_type": "code",
   "execution_count": 77,
   "id": "5fb81528",
   "metadata": {},
   "outputs": [
    {
     "name": "stdout",
     "output_type": "stream",
     "text": [
      "  (0, 4732)\t0.1022796168977645\n",
      "  (0, 2381)\t0.084324956793756\n",
      "  (0, 691)\t0.09757906569804507\n",
      "  (0, 3319)\t0.055254935974706924\n",
      "  (0, 4861)\t0.1022796168977645\n",
      "  (0, 4489)\t0.09757906569804507\n",
      "  (0, 869)\t0.10138476433060865\n",
      "  (0, 2806)\t0.09204838550437117\n",
      "  (0, 34)\t0.08204960847092578\n",
      "  (0, 878)\t0.06420819006033306\n",
      "  (0, 3290)\t0.07583226740964166\n",
      "  (0, 2578)\t0.09251701365147422\n",
      "  (0, 1559)\t0.09401938187359811\n",
      "  (0, 4277)\t0.10323224075899479\n",
      "  (0, 2817)\t0.09757906569804507\n",
      "  (0, 4445)\t0.09204838550437117\n",
      "  (0, 1145)\t0.08575914684943171\n",
      "  (0, 2777)\t0.09511325606433979\n",
      "  (0, 3425)\t0.09629473019642834\n",
      "  (0, 3216)\t0.10138476433060865\n",
      "  (0, 3039)\t0.09251701365147422\n",
      "  (0, 3249)\t0.1022796168977645\n",
      "  (0, 2618)\t0.06522156661404496\n",
      "  (0, 1620)\t0.057517576120434094\n",
      "  (0, 3230)\t0.08460086289775101\n",
      "  :\t:\n",
      "  (6011, 940)\t0.14752308505453476\n",
      "  (6011, 1185)\t0.09151950998802136\n",
      "  (6011, 1291)\t0.13084125815592723\n",
      "  (6011, 973)\t0.11949919894318194\n",
      "  (6011, 33)\t0.09751027201755406\n",
      "  (6011, 4054)\t0.13138237813113868\n",
      "  (6012, 2813)\t0.33519857435260164\n",
      "  (6012, 2820)\t0.3267281522602175\n",
      "  (6012, 3434)\t0.2549946192386179\n",
      "  (6012, 4093)\t0.23620365734976903\n",
      "  (6012, 4473)\t0.3426320550071991\n",
      "  (6012, 3366)\t0.3036334162741179\n",
      "  (6012, 4469)\t0.22252450799384152\n",
      "  (6012, 1501)\t0.2887383559510998\n",
      "  (6012, 2401)\t0.17805096470226903\n",
      "  (6012, 3370)\t0.19113632974301534\n",
      "  (6012, 1801)\t0.17405640635567166\n",
      "  (6012, 4165)\t0.1344987248134643\n",
      "  (6012, 3847)\t0.1651813159609699\n",
      "  (6012, 3124)\t0.1288405367622449\n",
      "  (6012, 2278)\t0.19819602089416588\n",
      "  (6012, 2039)\t0.21867776020127386\n",
      "  (6012, 4483)\t0.10342980804341514\n",
      "  (6012, 3854)\t0.201386045596337\n",
      "  (6012, 2803)\t0.136886858288465\n"
     ]
    }
   ],
   "source": [
    "print(X_text_test)"
   ]
  },
  {
   "cell_type": "code",
   "execution_count": 78,
   "id": "edf5fa9b",
   "metadata": {},
   "outputs": [],
   "source": [
    "#Saving the validation text features into an NPZ file\n",
    "sparse.save_npz(\"./input/X_matrices/tfidf/X_text_test.npz\", X_text_test)"
   ]
  },
  {
   "attachments": {},
   "cell_type": "markdown",
   "id": "cc35030d",
   "metadata": {},
   "source": [
    "## Combine text matrix with engineered features from EDA"
   ]
  },
  {
   "cell_type": "code",
   "execution_count": 79,
   "id": "8a6ee4c6",
   "metadata": {},
   "outputs": [],
   "source": [
    "# get engineered features together in place\n",
    "numFeatures =['timely_response', 'consumer_disputed?', 'days_between_receipt_and_sent',\n",
    "              'sub_product_freq', 'sub_product_null_flag', 'sub_product_low_flag', 'issue_freq',\n",
    "              'issue_low_flag', 'sub_issue_freq','sub_issue_null_flag', 'sub_issue_low_flag',\n",
    "              'company_public_response_freq', 'company_public_response_null_flag', 'company_public_response_low_flag',\n",
    "              'company_freq', 'company_low_flag', 'state_freq', 'state_null_flag', 'state_low_flag',\n",
    "              'zipcode_freq', 'zipcode_null_flag', 'zipcode_low_flag', 'Not Older American, Not Servicemember',\n",
    "              'Older American', 'Older American, Servicemember', 'Servicemember', 'Closed', 'Closed with explanation',\n",
    "              'Closed with monetary relief', 'Closed with non-monetary relief', 'Untimely response']"
   ]
  },
  {
   "cell_type": "code",
   "execution_count": 80,
   "id": "e9691292",
   "metadata": {},
   "outputs": [],
   "source": [
    "X_test = hstack((X_text_test, StandardScaler().fit_transform(df_test_fe[numFeatures]))).tocsr()"
   ]
  },
  {
   "cell_type": "code",
   "execution_count": 81,
   "id": "ccce2543",
   "metadata": {},
   "outputs": [],
   "source": [
    "#Saving the combined features into an NPZ file\n",
    "sparse.save_npz(\"./input/X_matrices/tfidf/X_test.npz\", X_test)"
   ]
  },
  {
   "cell_type": "code",
   "execution_count": null,
   "id": "fabb8dd0",
   "metadata": {},
   "outputs": [],
   "source": []
  }
 ],
 "metadata": {
  "kernelspec": {
   "display_name": "Python 3",
   "language": "python",
   "name": "python3"
  },
  "language_info": {
   "codemirror_mode": {
    "name": "ipython",
    "version": 3
   },
   "file_extension": ".py",
   "mimetype": "text/x-python",
   "name": "python",
   "nbconvert_exporter": "python",
   "pygments_lexer": "ipython3",
   "version": "3.9.0"
  },
  "vscode": {
   "interpreter": {
    "hash": "3d00ce96abf83bb4cf2960a98ebc0f7617ff67904ab36479ee95b5efd4b346a2"
   }
  }
 },
 "nbformat": 4,
 "nbformat_minor": 5
}
