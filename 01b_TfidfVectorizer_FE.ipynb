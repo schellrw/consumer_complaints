{
 "cells": [
  {
   "cell_type": "markdown",
   "id": "cad504ae",
   "metadata": {},
   "source": [
    "## Package imports"
   ]
  },
  {
   "cell_type": "code",
   "execution_count": 1,
   "id": "e33e0e48",
   "metadata": {},
   "outputs": [],
   "source": [
    "import pandas as pd\n",
    "import numpy as np\n",
    "from tqdm import tqdm\n",
    "tqdm.pandas(desc=\"progress-bar\")\n",
    "import nltk\n",
    "from nltk.corpus import stopwords\n",
    "from nltk.stem import SnowballStemmer\n",
    "import string\n",
    "from textblob import TextBlob\n",
    "\n",
    "from sklearn.feature_extraction.text import TfidfVectorizer\n",
    "from sklearn.linear_model import LogisticRegression, PassiveAggressiveClassifier\n",
    "from sklearn.ensemble import RandomForestClassifier, VotingClassifier\n",
    "from sklearn.metrics import accuracy_score, f1_score, classification_report, confusion_matrix\n",
    "from sklearn.model_selection import StratifiedShuffleSplit\n",
    "from sklearn.preprocessing import StandardScaler\n",
    "\n",
    "from xgboost import XGBClassifier\n",
    "from lightgbm import LGBMClassifier\n",
    "\n",
    "import optuna\n",
    "\n",
    "import re\n",
    "import seaborn as sns\n",
    "import matplotlib.pyplot as plt\n",
    "\n",
    "import scipy.stats as st\n",
    "from scipy import sparse\n",
    "from scipy.sparse import hstack\n",
    "import pyarrow\n",
    "import pickle"
   ]
  },
  {
   "cell_type": "code",
   "execution_count": 2,
   "id": "c727bc62",
   "metadata": {},
   "outputs": [
    {
     "name": "stderr",
     "output_type": "stream",
     "text": [
      "[nltk_data] Downloading package stopwords to\n",
      "[nltk_data]     C:\\Users\\schel\\AppData\\Roaming\\nltk_data...\n",
      "[nltk_data]   Package stopwords is already up-to-date!\n",
      "[nltk_data] Downloading package wordnet to\n",
      "[nltk_data]     C:\\Users\\schel\\AppData\\Roaming\\nltk_data...\n",
      "[nltk_data]   Package wordnet is already up-to-date!\n",
      "[nltk_data] Downloading package punkt to\n",
      "[nltk_data]     C:\\Users\\schel\\AppData\\Roaming\\nltk_data...\n",
      "[nltk_data]   Package punkt is already up-to-date!\n",
      "[nltk_data] Downloading package omw-1.4 to\n",
      "[nltk_data]     C:\\Users\\schel\\AppData\\Roaming\\nltk_data...\n",
      "[nltk_data]   Package omw-1.4 is already up-to-date!\n"
     ]
    }
   ],
   "source": [
    "# Downloads and display options\n",
    "nltk.download('stopwords')\n",
    "nltk.download('wordnet')\n",
    "nltk.download('punkt')\n",
    "nltk.download('omw-1.4')\n",
    "punctuation = string.punctuation\n",
    "stop_words = list(stopwords.words('english'))\n",
    "#stop_words = set(stopwords.words('english'))\n",
    "pd.options.display.max_columns = None\n",
    "pd.options.display.max_rows = None\n",
    "%matplotlib inline"
   ]
  },
  {
   "cell_type": "markdown",
   "id": "13533c37",
   "metadata": {},
   "source": [
    "## Define functions"
   ]
  },
  {
   "cell_type": "code",
   "execution_count": 3,
   "id": "7453ea4f",
   "metadata": {},
   "outputs": [],
   "source": [
    "def clean_text(df):\n",
    "    for i in [char for char in ':;\"?,/|\\\\}{1234567890.~!@#$%^&*_+=<>']:\n",
    "        df.text=df.text.apply(lambda x: str(x).replace(i,\"\"))\n",
    "\n",
    "    df.text=df.text.apply(lambda x: str(x).replace('-',\" \"))\n",
    "    return df"
   ]
  },
  {
   "cell_type": "code",
   "execution_count": 4,
   "id": "54a6b3a2",
   "metadata": {},
   "outputs": [],
   "source": [
    "#L = WordNetLemmatizer()\n",
    "s = SnowballStemmer('english')\n",
    "\n",
    "def wordPreProcess(sentence):\n",
    "    return ' '.join([s.stem(x.lower()) for x in re.split('\\W', sentence) if len(x) >= 1])"
   ]
  },
  {
   "cell_type": "code",
   "execution_count": 5,
   "id": "e47db2f2",
   "metadata": {},
   "outputs": [],
   "source": [
    "def getTextFeatures(df, txt, max_features=5000, ngrams=(1,2), verbose=True): #, max_features=10000\n",
    "    if verbose:\n",
    "        print('processing: ', txt)\n",
    "    vectorizer = TfidfVectorizer(stop_words=stop_words,\n",
    "                                 preprocessor=wordPreProcess,\n",
    "                                 max_features=max_features,\n",
    "                                 binary=True,\n",
    "                                 ngram_range=ngrams)\n",
    "    X = vectorizer.fit_transform(df[txt])\n",
    "    return X, vectorizer.get_feature_names_out()"
   ]
  },
  {
   "attachments": {},
   "cell_type": "markdown",
   "id": "78df11da",
   "metadata": {},
   "source": [
    "## Import FEATURE-ENGINEERED data from EDA"
   ]
  },
  {
   "cell_type": "code",
   "execution_count": 6,
   "id": "3ec7fe4a",
   "metadata": {},
   "outputs": [
    {
     "data": {
      "text/html": [
       "<div>\n",
       "<style scoped>\n",
       "    .dataframe tbody tr th:only-of-type {\n",
       "        vertical-align: middle;\n",
       "    }\n",
       "\n",
       "    .dataframe tbody tr th {\n",
       "        vertical-align: top;\n",
       "    }\n",
       "\n",
       "    .dataframe thead th {\n",
       "        text-align: right;\n",
       "    }\n",
       "</style>\n",
       "<table border=\"1\" class=\"dataframe\">\n",
       "  <thead>\n",
       "    <tr style=\"text-align: right;\">\n",
       "      <th></th>\n",
       "      <th>product</th>\n",
       "      <th>consumer_complaint_narrative</th>\n",
       "      <th>timely_response</th>\n",
       "      <th>consumer_disputed?</th>\n",
       "      <th>label</th>\n",
       "      <th>days_between_receipt_and_sent</th>\n",
       "      <th>issue_low_flag</th>\n",
       "      <th>sub_issue_null_flag</th>\n",
       "      <th>sub_issue_low_flag</th>\n",
       "      <th>company_public_response_null_flag</th>\n",
       "      <th>company_low_flag</th>\n",
       "      <th>state_null_flag</th>\n",
       "      <th>state_low_flag</th>\n",
       "      <th>zipcode_low_flag</th>\n",
       "      <th>Older American</th>\n",
       "      <th>Older American, Servicemember</th>\n",
       "      <th>Closed</th>\n",
       "      <th>Closed with monetary relief</th>\n",
       "      <th>Untimely response</th>\n",
       "    </tr>\n",
       "  </thead>\n",
       "  <tbody>\n",
       "    <tr>\n",
       "      <th>0</th>\n",
       "      <td>Debt collection</td>\n",
       "      <td>XXXX has claimed I owe them {$27.00} for XXXX ...</td>\n",
       "      <td>1</td>\n",
       "      <td>0</td>\n",
       "      <td>4</td>\n",
       "      <td>0</td>\n",
       "      <td>0</td>\n",
       "      <td>0</td>\n",
       "      <td>0</td>\n",
       "      <td>1</td>\n",
       "      <td>1</td>\n",
       "      <td>0</td>\n",
       "      <td>0</td>\n",
       "      <td>1</td>\n",
       "      <td>1</td>\n",
       "      <td>0</td>\n",
       "      <td>0</td>\n",
       "      <td>0</td>\n",
       "      <td>0</td>\n",
       "    </tr>\n",
       "    <tr>\n",
       "      <th>1</th>\n",
       "      <td>Consumer Loan</td>\n",
       "      <td>Due to inconsistencies in the amount owed that...</td>\n",
       "      <td>1</td>\n",
       "      <td>0</td>\n",
       "      <td>1</td>\n",
       "      <td>0</td>\n",
       "      <td>0</td>\n",
       "      <td>1</td>\n",
       "      <td>0</td>\n",
       "      <td>1</td>\n",
       "      <td>1</td>\n",
       "      <td>0</td>\n",
       "      <td>0</td>\n",
       "      <td>0</td>\n",
       "      <td>0</td>\n",
       "      <td>0</td>\n",
       "      <td>0</td>\n",
       "      <td>0</td>\n",
       "      <td>0</td>\n",
       "    </tr>\n",
       "    <tr>\n",
       "      <th>2</th>\n",
       "      <td>Mortgage</td>\n",
       "      <td>In XX/XX/XXXX my wages that I earned at my job...</td>\n",
       "      <td>1</td>\n",
       "      <td>1</td>\n",
       "      <td>6</td>\n",
       "      <td>0</td>\n",
       "      <td>0</td>\n",
       "      <td>1</td>\n",
       "      <td>0</td>\n",
       "      <td>1</td>\n",
       "      <td>0</td>\n",
       "      <td>0</td>\n",
       "      <td>0</td>\n",
       "      <td>0</td>\n",
       "      <td>0</td>\n",
       "      <td>0</td>\n",
       "      <td>0</td>\n",
       "      <td>0</td>\n",
       "      <td>0</td>\n",
       "    </tr>\n",
       "    <tr>\n",
       "      <th>3</th>\n",
       "      <td>Mortgage</td>\n",
       "      <td>I have an open and current mortgage with Chase...</td>\n",
       "      <td>1</td>\n",
       "      <td>1</td>\n",
       "      <td>6</td>\n",
       "      <td>0</td>\n",
       "      <td>0</td>\n",
       "      <td>1</td>\n",
       "      <td>0</td>\n",
       "      <td>1</td>\n",
       "      <td>0</td>\n",
       "      <td>0</td>\n",
       "      <td>0</td>\n",
       "      <td>0</td>\n",
       "      <td>1</td>\n",
       "      <td>0</td>\n",
       "      <td>0</td>\n",
       "      <td>0</td>\n",
       "      <td>0</td>\n",
       "    </tr>\n",
       "    <tr>\n",
       "      <th>4</th>\n",
       "      <td>Mortgage</td>\n",
       "      <td>XXXX was submitted XX/XX/XXXX. At the time I s...</td>\n",
       "      <td>1</td>\n",
       "      <td>1</td>\n",
       "      <td>6</td>\n",
       "      <td>0</td>\n",
       "      <td>1</td>\n",
       "      <td>1</td>\n",
       "      <td>0</td>\n",
       "      <td>1</td>\n",
       "      <td>1</td>\n",
       "      <td>0</td>\n",
       "      <td>0</td>\n",
       "      <td>0</td>\n",
       "      <td>1</td>\n",
       "      <td>0</td>\n",
       "      <td>0</td>\n",
       "      <td>0</td>\n",
       "      <td>0</td>\n",
       "    </tr>\n",
       "    <tr>\n",
       "      <th>5</th>\n",
       "      <td>Mortgage</td>\n",
       "      <td>Experian is reporting my OPEN and CURRENT Mort...</td>\n",
       "      <td>1</td>\n",
       "      <td>0</td>\n",
       "      <td>6</td>\n",
       "      <td>6</td>\n",
       "      <td>0</td>\n",
       "      <td>1</td>\n",
       "      <td>0</td>\n",
       "      <td>0</td>\n",
       "      <td>0</td>\n",
       "      <td>0</td>\n",
       "      <td>0</td>\n",
       "      <td>0</td>\n",
       "      <td>1</td>\n",
       "      <td>0</td>\n",
       "      <td>0</td>\n",
       "      <td>0</td>\n",
       "      <td>0</td>\n",
       "    </tr>\n",
       "    <tr>\n",
       "      <th>6</th>\n",
       "      <td>Mortgage</td>\n",
       "      <td>This complaint is against Wells Fargo Bank for...</td>\n",
       "      <td>1</td>\n",
       "      <td>0</td>\n",
       "      <td>6</td>\n",
       "      <td>0</td>\n",
       "      <td>0</td>\n",
       "      <td>1</td>\n",
       "      <td>0</td>\n",
       "      <td>1</td>\n",
       "      <td>0</td>\n",
       "      <td>0</td>\n",
       "      <td>0</td>\n",
       "      <td>1</td>\n",
       "      <td>0</td>\n",
       "      <td>0</td>\n",
       "      <td>0</td>\n",
       "      <td>0</td>\n",
       "      <td>0</td>\n",
       "    </tr>\n",
       "    <tr>\n",
       "      <th>7</th>\n",
       "      <td>Mortgage</td>\n",
       "      <td>I spoke to XXXX of green tree representatives ...</td>\n",
       "      <td>1</td>\n",
       "      <td>0</td>\n",
       "      <td>6</td>\n",
       "      <td>0</td>\n",
       "      <td>0</td>\n",
       "      <td>1</td>\n",
       "      <td>0</td>\n",
       "      <td>1</td>\n",
       "      <td>0</td>\n",
       "      <td>0</td>\n",
       "      <td>0</td>\n",
       "      <td>1</td>\n",
       "      <td>0</td>\n",
       "      <td>0</td>\n",
       "      <td>0</td>\n",
       "      <td>0</td>\n",
       "      <td>0</td>\n",
       "    </tr>\n",
       "    <tr>\n",
       "      <th>8</th>\n",
       "      <td>Credit card</td>\n",
       "      <td>i opened XXXX Bank of America credit cards 15-...</td>\n",
       "      <td>1</td>\n",
       "      <td>1</td>\n",
       "      <td>2</td>\n",
       "      <td>0</td>\n",
       "      <td>0</td>\n",
       "      <td>1</td>\n",
       "      <td>0</td>\n",
       "      <td>0</td>\n",
       "      <td>0</td>\n",
       "      <td>0</td>\n",
       "      <td>0</td>\n",
       "      <td>1</td>\n",
       "      <td>0</td>\n",
       "      <td>0</td>\n",
       "      <td>0</td>\n",
       "      <td>1</td>\n",
       "      <td>0</td>\n",
       "    </tr>\n",
       "    <tr>\n",
       "      <th>9</th>\n",
       "      <td>Consumer Loan</td>\n",
       "      <td>I applied for a loan with XXXX XXXX and had pu...</td>\n",
       "      <td>1</td>\n",
       "      <td>0</td>\n",
       "      <td>1</td>\n",
       "      <td>0</td>\n",
       "      <td>1</td>\n",
       "      <td>1</td>\n",
       "      <td>0</td>\n",
       "      <td>1</td>\n",
       "      <td>1</td>\n",
       "      <td>0</td>\n",
       "      <td>1</td>\n",
       "      <td>1</td>\n",
       "      <td>0</td>\n",
       "      <td>0</td>\n",
       "      <td>0</td>\n",
       "      <td>0</td>\n",
       "      <td>0</td>\n",
       "    </tr>\n",
       "  </tbody>\n",
       "</table>\n",
       "</div>"
      ],
      "text/plain": [
       "           product                       consumer_complaint_narrative  \\\n",
       "0  Debt collection  XXXX has claimed I owe them {$27.00} for XXXX ...   \n",
       "1    Consumer Loan  Due to inconsistencies in the amount owed that...   \n",
       "2         Mortgage  In XX/XX/XXXX my wages that I earned at my job...   \n",
       "3         Mortgage  I have an open and current mortgage with Chase...   \n",
       "4         Mortgage  XXXX was submitted XX/XX/XXXX. At the time I s...   \n",
       "5         Mortgage  Experian is reporting my OPEN and CURRENT Mort...   \n",
       "6         Mortgage  This complaint is against Wells Fargo Bank for...   \n",
       "7         Mortgage  I spoke to XXXX of green tree representatives ...   \n",
       "8      Credit card  i opened XXXX Bank of America credit cards 15-...   \n",
       "9    Consumer Loan  I applied for a loan with XXXX XXXX and had pu...   \n",
       "\n",
       "   timely_response  consumer_disputed?  label  days_between_receipt_and_sent  \\\n",
       "0                1                   0      4                              0   \n",
       "1                1                   0      1                              0   \n",
       "2                1                   1      6                              0   \n",
       "3                1                   1      6                              0   \n",
       "4                1                   1      6                              0   \n",
       "5                1                   0      6                              6   \n",
       "6                1                   0      6                              0   \n",
       "7                1                   0      6                              0   \n",
       "8                1                   1      2                              0   \n",
       "9                1                   0      1                              0   \n",
       "\n",
       "   issue_low_flag  sub_issue_null_flag  sub_issue_low_flag  \\\n",
       "0               0                    0                   0   \n",
       "1               0                    1                   0   \n",
       "2               0                    1                   0   \n",
       "3               0                    1                   0   \n",
       "4               1                    1                   0   \n",
       "5               0                    1                   0   \n",
       "6               0                    1                   0   \n",
       "7               0                    1                   0   \n",
       "8               0                    1                   0   \n",
       "9               1                    1                   0   \n",
       "\n",
       "   company_public_response_null_flag  company_low_flag  state_null_flag  \\\n",
       "0                                  1                 1                0   \n",
       "1                                  1                 1                0   \n",
       "2                                  1                 0                0   \n",
       "3                                  1                 0                0   \n",
       "4                                  1                 1                0   \n",
       "5                                  0                 0                0   \n",
       "6                                  1                 0                0   \n",
       "7                                  1                 0                0   \n",
       "8                                  0                 0                0   \n",
       "9                                  1                 1                0   \n",
       "\n",
       "   state_low_flag  zipcode_low_flag  Older American  \\\n",
       "0               0                 1               1   \n",
       "1               0                 0               0   \n",
       "2               0                 0               0   \n",
       "3               0                 0               1   \n",
       "4               0                 0               1   \n",
       "5               0                 0               1   \n",
       "6               0                 1               0   \n",
       "7               0                 1               0   \n",
       "8               0                 1               0   \n",
       "9               1                 1               0   \n",
       "\n",
       "   Older American, Servicemember  Closed  Closed with monetary relief  \\\n",
       "0                              0       0                            0   \n",
       "1                              0       0                            0   \n",
       "2                              0       0                            0   \n",
       "3                              0       0                            0   \n",
       "4                              0       0                            0   \n",
       "5                              0       0                            0   \n",
       "6                              0       0                            0   \n",
       "7                              0       0                            0   \n",
       "8                              0       0                            1   \n",
       "9                              0       0                            0   \n",
       "\n",
       "   Untimely response  \n",
       "0                  0  \n",
       "1                  0  \n",
       "2                  0  \n",
       "3                  0  \n",
       "4                  0  \n",
       "5                  0  \n",
       "6                  0  \n",
       "7                  0  \n",
       "8                  0  \n",
       "9                  0  "
      ]
     },
     "execution_count": 6,
     "metadata": {},
     "output_type": "execute_result"
    }
   ],
   "source": [
    "data = pd.read_parquet('./input/consumer_complaints_FE.parquet')\n",
    "data.head(10)"
   ]
  },
  {
   "cell_type": "code",
   "execution_count": 7,
   "id": "56ead125",
   "metadata": {},
   "outputs": [],
   "source": [
    "# save data to df so won't have to reload data if need to start over with df.\n",
    "df = data.copy()"
   ]
  },
  {
   "cell_type": "code",
   "execution_count": 8,
   "id": "46bc2d31",
   "metadata": {},
   "outputs": [
    {
     "name": "stdout",
     "output_type": "stream",
     "text": [
      "<class 'pandas.core.frame.DataFrame'>\n",
      "RangeIndex: 66806 entries, 0 to 66805\n",
      "Data columns (total 19 columns):\n",
      " #   Column                             Non-Null Count  Dtype \n",
      "---  ------                             --------------  ----- \n",
      " 0   product                            66806 non-null  object\n",
      " 1   consumer_complaint_narrative       66806 non-null  object\n",
      " 2   timely_response                    66806 non-null  int32 \n",
      " 3   consumer_disputed?                 66806 non-null  int32 \n",
      " 4   label                              66806 non-null  int32 \n",
      " 5   days_between_receipt_and_sent      66806 non-null  int64 \n",
      " 6   issue_low_flag                     66806 non-null  int32 \n",
      " 7   sub_issue_null_flag                66806 non-null  int32 \n",
      " 8   sub_issue_low_flag                 66806 non-null  int32 \n",
      " 9   company_public_response_null_flag  66806 non-null  int32 \n",
      " 10  company_low_flag                   66806 non-null  int32 \n",
      " 11  state_null_flag                    66806 non-null  int32 \n",
      " 12  state_low_flag                     66806 non-null  int32 \n",
      " 13  zipcode_low_flag                   66806 non-null  int32 \n",
      " 14  Older American                     66806 non-null  int32 \n",
      " 15  Older American, Servicemember      66806 non-null  int32 \n",
      " 16  Closed                             66806 non-null  int32 \n",
      " 17  Closed with monetary relief        66806 non-null  int32 \n",
      " 18  Untimely response                  66806 non-null  int32 \n",
      "dtypes: int32(16), int64(1), object(2)\n",
      "memory usage: 5.6+ MB\n"
     ]
    }
   ],
   "source": [
    "df.info()"
   ]
  },
  {
   "cell_type": "raw",
   "id": "8c8bcc1d",
   "metadata": {},
   "source": [
    "# Only keep records with a complaint narrative\n",
    "df = df[~df['consumer_complaint_narrative'].isnull()]"
   ]
  },
  {
   "cell_type": "raw",
   "id": "1f72ecc3",
   "metadata": {},
   "source": [
    "# Only keep complaint narrative & product columns to see how well diff methods predict product from just text\n",
    "df = df[['consumer_complaint_narrative', 'product']]"
   ]
  },
  {
   "cell_type": "code",
   "execution_count": 9,
   "id": "00de20b0",
   "metadata": {},
   "outputs": [
    {
     "data": {
      "text/plain": [
       "(66806, 19)"
      ]
     },
     "execution_count": 9,
     "metadata": {},
     "output_type": "execute_result"
    }
   ],
   "source": [
    "df.shape"
   ]
  },
  {
   "cell_type": "code",
   "execution_count": 10,
   "id": "e7527a7f",
   "metadata": {},
   "outputs": [
    {
     "data": {
      "text/plain": [
       "['product',\n",
       " 'consumer_complaint_narrative',\n",
       " 'timely_response',\n",
       " 'consumer_disputed?',\n",
       " 'label',\n",
       " 'days_between_receipt_and_sent',\n",
       " 'issue_low_flag',\n",
       " 'sub_issue_null_flag',\n",
       " 'sub_issue_low_flag',\n",
       " 'company_public_response_null_flag',\n",
       " 'company_low_flag',\n",
       " 'state_null_flag',\n",
       " 'state_low_flag',\n",
       " 'zipcode_low_flag',\n",
       " 'Older American',\n",
       " 'Older American, Servicemember',\n",
       " 'Closed',\n",
       " 'Closed with monetary relief',\n",
       " 'Untimely response']"
      ]
     },
     "execution_count": 10,
     "metadata": {},
     "output_type": "execute_result"
    }
   ],
   "source": [
    "list(df.columns)"
   ]
  },
  {
   "cell_type": "code",
   "execution_count": 11,
   "id": "cfa07370",
   "metadata": {},
   "outputs": [
    {
     "name": "stdout",
     "output_type": "stream",
     "text": [
      "Debt collection            17552\n",
      "Mortgage                   14919\n",
      "Credit reporting           12526\n",
      "Credit card                 7929\n",
      "Bank account or service     5711\n",
      "Consumer Loan               3678\n",
      "Student loan                2128\n",
      "Prepaid card                 861\n",
      "Payday loan                  726\n",
      "Money transfers              666\n",
      "Other financial service      110\n",
      "Name: product, dtype: int64\n"
     ]
    }
   ],
   "source": [
    "product = df['product'].value_counts()\n",
    "print(product)"
   ]
  },
  {
   "cell_type": "code",
   "execution_count": 12,
   "id": "a649dd10",
   "metadata": {
    "scrolled": false
   },
   "outputs": [
    {
     "data": {
      "image/png": "[encoded data removed]",
      "text/plain": [
       "<Figure size 1200x400 with 1 Axes>"
      ]
     },
     "metadata": {},
     "output_type": "display_data"
    }
   ],
   "source": [
    "plt.figure(figsize=(12,4))\n",
    "sns.barplot(x=product.index, y=product.values, alpha=0.8) \n",
    "plt.ylabel('Number of Occurrences', fontsize=12)\n",
    "plt.xlabel('Product', fontsize=12)\n",
    "plt.xticks(rotation=30)\n",
    "plt.show()"
   ]
  },
  {
   "cell_type": "code",
   "execution_count": 13,
   "id": "436bcf73",
   "metadata": {},
   "outputs": [
    {
     "name": "stdout",
     "output_type": "stream",
     "text": [
      "XXXX has claimed I owe them {$27.00} for XXXX years despite the PROOF of PAYMENT I sent them : canceled check and their ownPAID INVOICE for {$27.00}! \n",
      "They continue to insist I owe them and collection agencies are after me. \n",
      "How can I stop this harassment for a bill I already paid four years ago? \n",
      "\n",
      "#####################\n",
      "Due to inconsistencies in the amount owed that I was told by M & T Bank and the amount that was reported to the credit reporting agencies, I was advised to write a good will letter in order to address the issue and request the negative entry be removed from my credit report all together. I had a vehicle that was stolen and it was declared a total loss by insurance company. The insurance company and the GAP insurancw companypaid the outstanding balance of the loan, but I was told by M & T Bank that there was still a balance due on the loan. In good faith, without having received any proof as to why there was still a balance, I made a partial payment towards the remaining debt. I then sent the goodwill letter still offering to pay the remainder of the debt, but in exchange for the removal of the negative entry on my credit report. At one point, in XXXX 2015, per my credit monitoring agency, it showed a delinquent balance of {$0.00}, but when I checked my credit report again on XXXX XXXX 2015, there was a delinquent balance of {$1400.00}. The monies from the GAP insurance and my insurance company has been paid, M & T Bank says that I still owe {$620.00}, of which {$210.00} has already been paid. I contacted M & T Bank via return receipt mail, but I have not been given the courtesy of a response yet. \n",
      "\n",
      "#####################\n",
      "In XX/XX/XXXX my wages that I earned at my job decreased by almost half, by XX/XX/XXXX I knew I was in trouble with my home loan. I began contacting WFB whom my home loan is with, for assitance and options. \n",
      "In early XX/XX/XXXX I began the Loan Modification process with Wells Fargo Bank. I was told that they would not assist me with anything financial on my home loan until I fell 90 days behind, though at the time I started to inquire for assistance from WFB I was only a few weeks behind. So, I began working with a program called XXXX. They approved me for a variety of assistence and reached out to Wells Fargo Bank to determine what they could assist with. Wells Fargo then turned down the assistance from XXXX and finally offered to do a Loan Modification for me. The outcome was totally unknow about what I would be offered in the end by WFB for assistance. Wells Fargo lost my paperwork twice during this process, so it took 2 months from the time I started to the time my paperwork began to be processed for some kind of approval. In XX/XX/XXXX I was in a trial period of 3 months of payments based on a slightly modified amount. Roughly {$75.00} less than what I was paying on my original payment. However, my caseworker with WFB, failed to tell me that since the payments during this time were not the full amount of the original mortgage payment so they were not applied to the loan. I discovered this in XX/XX/XXXX when I was told by a creditor with XXXX that she could n't restore my line of credit because of something to do with my mortgage. I then called and found this out. My caseworker at WFB then told me it was n't her responsibility to tell me this information. I told her that she could have told me that if I could come up with the remaining amount of {$75.00} then the payments would be applied. Instead, she chose to withhold this information and damage my credit even further. Now we are into 5 months ( including the 90 days WFB told me I had to fall behind until they would help me ) without an applied payment to my home loan, going on 6 months. \n",
      "More paperwork was lost in XXXX as the modification was being finalized and my loan modification did n't go through until XX/XX/XXXX. I spoke to a lawyer that is working on a class-action lawsuit against WFB for people in a similar situation and said this paper loss is typical. \n",
      "Wells Fargo did not reduce the interest rate, but they did reduce the payment by less than {$100.00} and the payments I was behind went back into the loan. \n",
      "My property taxes also fell behind in my escrow account at this time because there was no payment on the loan. So, I am behind on my property taxes, have damaged credit, and and I am not in any better payment situation than I was. \n",
      "They can not give me a reason on why they rejected XXXX assistance. I was originally told they were not an approved agency but on a later phone call to Wells Fargo Bank I was told that they work with that program often and the WFB employee could not understand why they would reject the help. I also spoke with XXXX and they said that Wells Fargo works with this program all the time and could n't understand why they would do this. \n",
      "I feel that I have been taken advantage of by Wells Fargo and would like to pursue legal action against them based on negligence. \n",
      "Although my payments are back on track I am not making much more money now than I was before so it is only a matter of time before something like this happens again if something unforeseen happens to my life that affects my finances. \n",
      "\n",
      "#####################\n",
      "I have an open and current mortgage with Chase Bank # XXXX. Chase is reporting the loan payments to XXXX but XXXX is surpressing the information and reporting the loan as Discharged in BK. This mortgage was reaffirmed in a Chapter XXXX BK discharged dated XXXX/XXXX/2013. Chase keeps referring to BK Law for Chapter XXXX and we keep providing documentation for Chapter XXXX, and the account should be open and current with all the payments \n",
      "\n",
      "#####################\n",
      "XXXX was submitted XX/XX/XXXX. At the time I submitted this complaint, I had dealt with Rushmore Mortgage directly endeavoring to get them to stop the continuous daily calls I was receiving trying to collect on a mortgage for which I was not responsible due to bankruptcy. They denied having knowledge of the bankruptcy, even though I had spoken with them about it repeatedly and had written them repeatedly referencing the bankruptcy requesting them to cease the pursuit, they continued to do so. When they were unable to trick me into paying, force me into paying in retaliation they placed reported to my credit bureaus a past due mortgage amount that had been discharged in Federal Court. On XX/XX/XXXX Rushmore responded the referenced complaint indicating that they would remove the reporting from my bureau, yet it is still there now in XX/XX/XXXX. I would like them to remove it immediately and send me a letter indicating that it should not have been there in the first place and they are going to remove it from all my bureaus. Rushmore, when speaking to me, represented themselves as the new note holder, but when CFPB was involved, they identified themselves as the servicing agency for XXXX XXXX XXXX. This credit bullying and racial discrimination practices is damaging to anyone who is exposed to these tactics and this needs to stop. Them denying their intent and then walking away with no penalties of any kind is one of the reasons it continues. Please assist me in procuring the resolution once and for all. \n",
      "\n",
      "#####################\n"
     ]
    }
   ],
   "source": [
    "for i in df['consumer_complaint_narrative'].head(5):\n",
    "    print(i)\n",
    "    print(\"#####################\")"
   ]
  },
  {
   "cell_type": "code",
   "execution_count": 14,
   "id": "61ac8f73",
   "metadata": {},
   "outputs": [],
   "source": [
    "df = df.rename({'consumer_complaint_narrative':'text'},axis=1) #, 'product':'label'"
   ]
  },
  {
   "cell_type": "code",
   "execution_count": 15,
   "id": "604135ae",
   "metadata": {},
   "outputs": [],
   "source": [
    "df['text'] = df['text'].astype(str)"
   ]
  },
  {
   "cell_type": "code",
   "execution_count": 16,
   "id": "ec022ef7",
   "metadata": {},
   "outputs": [
    {
     "data": {
      "text/html": [
       "<div>\n",
       "<style scoped>\n",
       "    .dataframe tbody tr th:only-of-type {\n",
       "        vertical-align: middle;\n",
       "    }\n",
       "\n",
       "    .dataframe tbody tr th {\n",
       "        vertical-align: top;\n",
       "    }\n",
       "\n",
       "    .dataframe thead th {\n",
       "        text-align: right;\n",
       "    }\n",
       "</style>\n",
       "<table border=\"1\" class=\"dataframe\">\n",
       "  <thead>\n",
       "    <tr style=\"text-align: right;\">\n",
       "      <th></th>\n",
       "      <th>product</th>\n",
       "      <th>text</th>\n",
       "      <th>timely_response</th>\n",
       "      <th>consumer_disputed?</th>\n",
       "      <th>label</th>\n",
       "      <th>days_between_receipt_and_sent</th>\n",
       "      <th>issue_low_flag</th>\n",
       "      <th>sub_issue_null_flag</th>\n",
       "      <th>sub_issue_low_flag</th>\n",
       "      <th>company_public_response_null_flag</th>\n",
       "      <th>company_low_flag</th>\n",
       "      <th>state_null_flag</th>\n",
       "      <th>state_low_flag</th>\n",
       "      <th>zipcode_low_flag</th>\n",
       "      <th>Older American</th>\n",
       "      <th>Older American, Servicemember</th>\n",
       "      <th>Closed</th>\n",
       "      <th>Closed with monetary relief</th>\n",
       "      <th>Untimely response</th>\n",
       "    </tr>\n",
       "  </thead>\n",
       "  <tbody>\n",
       "    <tr>\n",
       "      <th>0</th>\n",
       "      <td>Debt collection</td>\n",
       "      <td>XXXX has claimed I owe them {$27.00} for XXXX ...</td>\n",
       "      <td>1</td>\n",
       "      <td>0</td>\n",
       "      <td>4</td>\n",
       "      <td>0</td>\n",
       "      <td>0</td>\n",
       "      <td>0</td>\n",
       "      <td>0</td>\n",
       "      <td>1</td>\n",
       "      <td>1</td>\n",
       "      <td>0</td>\n",
       "      <td>0</td>\n",
       "      <td>1</td>\n",
       "      <td>1</td>\n",
       "      <td>0</td>\n",
       "      <td>0</td>\n",
       "      <td>0</td>\n",
       "      <td>0</td>\n",
       "    </tr>\n",
       "    <tr>\n",
       "      <th>1</th>\n",
       "      <td>Consumer Loan</td>\n",
       "      <td>Due to inconsistencies in the amount owed that...</td>\n",
       "      <td>1</td>\n",
       "      <td>0</td>\n",
       "      <td>1</td>\n",
       "      <td>0</td>\n",
       "      <td>0</td>\n",
       "      <td>1</td>\n",
       "      <td>0</td>\n",
       "      <td>1</td>\n",
       "      <td>1</td>\n",
       "      <td>0</td>\n",
       "      <td>0</td>\n",
       "      <td>0</td>\n",
       "      <td>0</td>\n",
       "      <td>0</td>\n",
       "      <td>0</td>\n",
       "      <td>0</td>\n",
       "      <td>0</td>\n",
       "    </tr>\n",
       "    <tr>\n",
       "      <th>2</th>\n",
       "      <td>Mortgage</td>\n",
       "      <td>In XX/XX/XXXX my wages that I earned at my job...</td>\n",
       "      <td>1</td>\n",
       "      <td>1</td>\n",
       "      <td>6</td>\n",
       "      <td>0</td>\n",
       "      <td>0</td>\n",
       "      <td>1</td>\n",
       "      <td>0</td>\n",
       "      <td>1</td>\n",
       "      <td>0</td>\n",
       "      <td>0</td>\n",
       "      <td>0</td>\n",
       "      <td>0</td>\n",
       "      <td>0</td>\n",
       "      <td>0</td>\n",
       "      <td>0</td>\n",
       "      <td>0</td>\n",
       "      <td>0</td>\n",
       "    </tr>\n",
       "    <tr>\n",
       "      <th>3</th>\n",
       "      <td>Mortgage</td>\n",
       "      <td>I have an open and current mortgage with Chase...</td>\n",
       "      <td>1</td>\n",
       "      <td>1</td>\n",
       "      <td>6</td>\n",
       "      <td>0</td>\n",
       "      <td>0</td>\n",
       "      <td>1</td>\n",
       "      <td>0</td>\n",
       "      <td>1</td>\n",
       "      <td>0</td>\n",
       "      <td>0</td>\n",
       "      <td>0</td>\n",
       "      <td>0</td>\n",
       "      <td>1</td>\n",
       "      <td>0</td>\n",
       "      <td>0</td>\n",
       "      <td>0</td>\n",
       "      <td>0</td>\n",
       "    </tr>\n",
       "    <tr>\n",
       "      <th>4</th>\n",
       "      <td>Mortgage</td>\n",
       "      <td>XXXX was submitted XX/XX/XXXX. At the time I s...</td>\n",
       "      <td>1</td>\n",
       "      <td>1</td>\n",
       "      <td>6</td>\n",
       "      <td>0</td>\n",
       "      <td>1</td>\n",
       "      <td>1</td>\n",
       "      <td>0</td>\n",
       "      <td>1</td>\n",
       "      <td>1</td>\n",
       "      <td>0</td>\n",
       "      <td>0</td>\n",
       "      <td>0</td>\n",
       "      <td>1</td>\n",
       "      <td>0</td>\n",
       "      <td>0</td>\n",
       "      <td>0</td>\n",
       "      <td>0</td>\n",
       "    </tr>\n",
       "  </tbody>\n",
       "</table>\n",
       "</div>"
      ],
      "text/plain": [
       "           product                                               text  \\\n",
       "0  Debt collection  XXXX has claimed I owe them {$27.00} for XXXX ...   \n",
       "1    Consumer Loan  Due to inconsistencies in the amount owed that...   \n",
       "2         Mortgage  In XX/XX/XXXX my wages that I earned at my job...   \n",
       "3         Mortgage  I have an open and current mortgage with Chase...   \n",
       "4         Mortgage  XXXX was submitted XX/XX/XXXX. At the time I s...   \n",
       "\n",
       "   timely_response  consumer_disputed?  label  days_between_receipt_and_sent  \\\n",
       "0                1                   0      4                              0   \n",
       "1                1                   0      1                              0   \n",
       "2                1                   1      6                              0   \n",
       "3                1                   1      6                              0   \n",
       "4                1                   1      6                              0   \n",
       "\n",
       "   issue_low_flag  sub_issue_null_flag  sub_issue_low_flag  \\\n",
       "0               0                    0                   0   \n",
       "1               0                    1                   0   \n",
       "2               0                    1                   0   \n",
       "3               0                    1                   0   \n",
       "4               1                    1                   0   \n",
       "\n",
       "   company_public_response_null_flag  company_low_flag  state_null_flag  \\\n",
       "0                                  1                 1                0   \n",
       "1                                  1                 1                0   \n",
       "2                                  1                 0                0   \n",
       "3                                  1                 0                0   \n",
       "4                                  1                 1                0   \n",
       "\n",
       "   state_low_flag  zipcode_low_flag  Older American  \\\n",
       "0               0                 1               1   \n",
       "1               0                 0               0   \n",
       "2               0                 0               0   \n",
       "3               0                 0               1   \n",
       "4               0                 0               1   \n",
       "\n",
       "   Older American, Servicemember  Closed  Closed with monetary relief  \\\n",
       "0                              0       0                            0   \n",
       "1                              0       0                            0   \n",
       "2                              0       0                            0   \n",
       "3                              0       0                            0   \n",
       "4                              0       0                            0   \n",
       "\n",
       "   Untimely response  \n",
       "0                  0  \n",
       "1                  0  \n",
       "2                  0  \n",
       "3                  0  \n",
       "4                  0  "
      ]
     },
     "execution_count": 16,
     "metadata": {},
     "output_type": "execute_result"
    }
   ],
   "source": [
    "df.head()"
   ]
  },
  {
   "cell_type": "markdown",
   "id": "f4946ba2",
   "metadata": {},
   "source": [
    "## Sanitize and vectorize text"
   ]
  },
  {
   "cell_type": "code",
   "execution_count": 17,
   "id": "3480c46e",
   "metadata": {},
   "outputs": [],
   "source": [
    "df = clean_text(df)"
   ]
  },
  {
   "cell_type": "code",
   "execution_count": 18,
   "id": "4d7f1975",
   "metadata": {},
   "outputs": [
    {
     "name": "stdout",
     "output_type": "stream",
     "text": [
      "processing:  text\n"
     ]
    },
    {
     "name": "stderr",
     "output_type": "stream",
     "text": [
      "c:\\Miniconda\\envs\\tf\\lib\\site-packages\\sklearn\\feature_extraction\\text.py:409: UserWarning: Your stop_words may be inconsistent with your preprocessing. Tokenizing the stop words generated tokens ['abov', 'ani', 'becaus', 'befor', 'doe', 'dure', 'onc', 'onli', 'ourselv', 'themselv', 'veri', 'whi', 'yourselv'] not in stop_words.\n",
      "  warnings.warn(\n"
     ]
    }
   ],
   "source": [
    "X_text, feat_text = getTextFeatures(df, 'text')"
   ]
  },
  {
   "cell_type": "code",
   "execution_count": 19,
   "id": "5fb81528",
   "metadata": {},
   "outputs": [
    {
     "name": "stdout",
     "output_type": "stream",
     "text": [
      "  (0, 4971)\t0.16561904809480174\n",
      "  (0, 1754)\t0.26636888787163054\n",
      "  (0, 203)\t0.22365830584947977\n",
      "  (0, 3958)\t0.2619335812486446\n",
      "  (0, 894)\t0.14766461202505765\n",
      "  (0, 717)\t0.2606784861169404\n",
      "  (0, 3006)\t0.23642049527306408\n",
      "  (0, 3186)\t0.2476183440143874\n",
      "  (0, 4927)\t0.15260029231073144\n",
      "  (0, 2871)\t0.1853503057215472\n",
      "  (0, 860)\t0.22115749727707837\n",
      "  (0, 4636)\t0.2108612506766266\n",
      "  (0, 179)\t0.13975713778412782\n",
      "  (0, 1753)\t0.21647967772925253\n",
      "  (0, 2879)\t0.09908123962976813\n",
      "  (0, 202)\t0.1405638338092625\n",
      "  (0, 569)\t0.11730573254807165\n",
      "  (0, 1903)\t0.15482017344254168\n",
      "  (0, 3955)\t0.1349832894429062\n",
      "  (0, 172)\t0.11841887712565843\n",
      "  (0, 891)\t0.09891690865826656\n",
      "  (0, 2110)\t0.20079812332469088\n",
      "  (0, 1024)\t0.11590478672554481\n",
      "  (0, 2148)\t0.22912396180812358\n",
      "  (0, 826)\t0.10935226522853173\n",
      "  :\t:\n",
      "  (66805, 3164)\t0.04839373956643697\n",
      "  (66805, 4924)\t0.02396194138933754\n",
      "  (66805, 3538)\t0.048249824055887174\n",
      "  (66805, 2410)\t0.04573509575777334\n",
      "  (66805, 3273)\t0.06673490202603373\n",
      "  (66805, 3031)\t0.05870888189817904\n",
      "  (66805, 3101)\t0.05488141146235317\n",
      "  (66805, 2790)\t0.04389807876207311\n",
      "  (66805, 2921)\t0.0347204058983352\n",
      "  (66805, 255)\t0.034669300613499876\n",
      "  (66805, 3274)\t0.0309205325539957\n",
      "  (66805, 2315)\t0.03517126193331168\n",
      "  (66805, 4203)\t0.057787677450254586\n",
      "  (66805, 3493)\t0.038294662672150974\n",
      "  (66805, 2151)\t0.0439450712679856\n",
      "  (66805, 140)\t0.049415196059701225\n",
      "  (66805, 2834)\t0.05542882282779663\n",
      "  (66805, 2260)\t0.038418531544287024\n",
      "  (66805, 484)\t0.03587197537578762\n",
      "  (66805, 4168)\t0.03461262740552282\n",
      "  (66805, 239)\t0.041042866063094666\n",
      "  (66805, 1415)\t0.040690999238682246\n",
      "  (66805, 202)\t0.05484394833924309\n",
      "  (66805, 826)\t0.042666095697922034\n",
      "  (66805, 4577)\t0.017899501895199416\n"
     ]
    }
   ],
   "source": [
    "print(X_text)"
   ]
  },
  {
   "cell_type": "code",
   "execution_count": 20,
   "id": "edf5fa9b",
   "metadata": {},
   "outputs": [],
   "source": [
    "#Saving the text features into an NPZ file\n",
    "sparse.save_npz(\"./bin/tfidf/X_text_FE.npz\", X_text)"
   ]
  },
  {
   "attachments": {},
   "cell_type": "markdown",
   "id": "cc35030d",
   "metadata": {},
   "source": [
    "## Combine text matrix with engineered features from EDA"
   ]
  },
  {
   "cell_type": "code",
   "execution_count": 21,
   "id": "8a6ee4c6",
   "metadata": {},
   "outputs": [],
   "source": [
    "# get engineered features together in place\n",
    "numFeatures =['timely_response', 'consumer_disputed?', 'consumer_disputed?', 'label', 'days_between_receipt_and_sent',\n",
    "              'issue_low_flag', 'sub_issue_null_flag', 'sub_issue_low_flag', 'company_public_response_null_flag',\n",
    "              'company_low_flag', 'state_null_flag', 'state_low_flag', 'zipcode_low_flag', 'Older American',\n",
    "              'Older American, Servicemember', 'Closed', 'Closed with monetary relief', 'Untimely response' ]"
   ]
  },
  {
   "cell_type": "code",
   "execution_count": 22,
   "id": "e9691292",
   "metadata": {},
   "outputs": [],
   "source": [
    "X = hstack((X_text, StandardScaler().fit_transform(df[numFeatures]))).tocsr()"
   ]
  },
  {
   "cell_type": "code",
   "execution_count": 23,
   "id": "ccce2543",
   "metadata": {},
   "outputs": [],
   "source": [
    "#Saving the combined features into an NPZ file\n",
    "sparse.save_npz(\"./bin/tfidf/X_combined_FE.npz\", X)"
   ]
  },
  {
   "cell_type": "code",
   "execution_count": null,
   "id": "821c2b43",
   "metadata": {},
   "outputs": [],
   "source": [
    "X = sparse.load_npz(\"./bin/tfidf/X_combined_FE.npz\")"
   ]
  },
  {
   "attachments": {},
   "cell_type": "markdown",
   "id": "4db27909",
   "metadata": {},
   "source": [
    "## Used cat.codes to factorize target from product previously.\n",
    "## Used LabelEncoder to encode label from product during EDA.\n",
    "## Will evaluate differences."
   ]
  },
  {
   "cell_type": "code",
   "execution_count": 24,
   "id": "5a991dd2",
   "metadata": {},
   "outputs": [],
   "source": [
    "df['target'] = df['product'].astype('category').cat.codes  ## better way to factorize product code to categorical IDs"
   ]
  },
  {
   "cell_type": "code",
   "execution_count": 26,
   "id": "a633b9c6",
   "metadata": {},
   "outputs": [
    {
     "data": {
      "text/plain": [
       "4     17552\n",
       "6     14919\n",
       "3     12526\n",
       "2      7929\n",
       "0      5711\n",
       "1      3678\n",
       "10     2128\n",
       "9       861\n",
       "8       726\n",
       "5       666\n",
       "7       110\n",
       "Name: target, dtype: int64"
      ]
     },
     "execution_count": 26,
     "metadata": {},
     "output_type": "execute_result"
    }
   ],
   "source": [
    "df['target'].value_counts()"
   ]
  },
  {
   "cell_type": "code",
   "execution_count": 27,
   "id": "6ec06bcf",
   "metadata": {},
   "outputs": [
    {
     "data": {
      "text/plain": [
       "4     17552\n",
       "6     14919\n",
       "3     12526\n",
       "2      7929\n",
       "0      5711\n",
       "1      3678\n",
       "10     2128\n",
       "9       861\n",
       "8       726\n",
       "5       666\n",
       "7       110\n",
       "Name: label, dtype: int64"
      ]
     },
     "execution_count": 27,
     "metadata": {},
     "output_type": "execute_result"
    }
   ],
   "source": [
    "df['label'].value_counts()"
   ]
  },
  {
   "cell_type": "code",
   "execution_count": 29,
   "id": "e549cb4b",
   "metadata": {},
   "outputs": [
    {
     "name": "stdout",
     "output_type": "stream",
     "text": [
      "(66806, 5018)\n",
      "(66806,)\n"
     ]
    }
   ],
   "source": [
    "# No difference between factorized and label encoded - will use label encoded for y target.\n",
    "y = df['label'].values\n",
    "print(X.shape)\n",
    "print(y.shape)"
   ]
  },
  {
   "cell_type": "markdown",
   "id": "dae7f1a7",
   "metadata": {},
   "source": [
    "## Stratified shuffle split data into training and test datasets"
   ]
  },
  {
   "cell_type": "code",
   "execution_count": 30,
   "id": "23c2f7c3",
   "metadata": {},
   "outputs": [],
   "source": [
    "# Use stratified shuffle split to keep same class proportions in train and test data.\n",
    "sss = StratifiedShuffleSplit(n_splits=2, test_size=0.2, random_state=2022)"
   ]
  },
  {
   "cell_type": "code",
   "execution_count": 31,
   "id": "76697a24",
   "metadata": {},
   "outputs": [
    {
     "name": "stdout",
     "output_type": "stream",
     "text": [
      "TRAIN: [21552 17614 26675 ... 21287 55579 26041] TEST: [38106 56208   152 ... 62311   397 32064]\n",
      "TRAIN: [31334 33221 32682 ... 43019 57821  1023] TEST: [45340 25255 49937 ...  9552 47021 23457]\n"
     ]
    }
   ],
   "source": [
    "for train_index, test_index in sss.split(X, y):\n",
    "    print(\"TRAIN:\", train_index, \"TEST:\", test_index)\n",
    "    X_train, X_test = X[train_index], X[test_index]\n",
    "    y_train, y_test = y[train_index], y[test_index]"
   ]
  },
  {
   "cell_type": "code",
   "execution_count": 32,
   "id": "a2d43096",
   "metadata": {},
   "outputs": [
    {
     "name": "stdout",
     "output_type": "stream",
     "text": [
      "Testing accuracy 0.9988774135608441\n",
      "Testing f1 score 0.998674412560416\n"
     ]
    },
    {
     "data": {
      "text/html": [
       "<div>\n",
       "<style scoped>\n",
       "    .dataframe tbody tr th:only-of-type {\n",
       "        vertical-align: middle;\n",
       "    }\n",
       "\n",
       "    .dataframe tbody tr th {\n",
       "        vertical-align: top;\n",
       "    }\n",
       "\n",
       "    .dataframe thead th {\n",
       "        text-align: right;\n",
       "    }\n",
       "</style>\n",
       "<table border=\"1\" class=\"dataframe\">\n",
       "  <thead>\n",
       "    <tr style=\"text-align: right;\">\n",
       "      <th></th>\n",
       "      <th>precision</th>\n",
       "      <th>recall</th>\n",
       "      <th>f1-score</th>\n",
       "      <th>support</th>\n",
       "    </tr>\n",
       "  </thead>\n",
       "  <tbody>\n",
       "    <tr>\n",
       "      <th>0</th>\n",
       "      <td>1.000000</td>\n",
       "      <td>1.000000</td>\n",
       "      <td>1.000000</td>\n",
       "      <td>1142.000000</td>\n",
       "    </tr>\n",
       "    <tr>\n",
       "      <th>1</th>\n",
       "      <td>1.000000</td>\n",
       "      <td>0.998641</td>\n",
       "      <td>0.999320</td>\n",
       "      <td>736.000000</td>\n",
       "    </tr>\n",
       "    <tr>\n",
       "      <th>2</th>\n",
       "      <td>0.999370</td>\n",
       "      <td>1.000000</td>\n",
       "      <td>0.999685</td>\n",
       "      <td>1586.000000</td>\n",
       "    </tr>\n",
       "    <tr>\n",
       "      <th>3</th>\n",
       "      <td>1.000000</td>\n",
       "      <td>1.000000</td>\n",
       "      <td>1.000000</td>\n",
       "      <td>2505.000000</td>\n",
       "    </tr>\n",
       "    <tr>\n",
       "      <th>4</th>\n",
       "      <td>1.000000</td>\n",
       "      <td>1.000000</td>\n",
       "      <td>1.000000</td>\n",
       "      <td>3511.000000</td>\n",
       "    </tr>\n",
       "    <tr>\n",
       "      <th>5</th>\n",
       "      <td>0.992481</td>\n",
       "      <td>0.992481</td>\n",
       "      <td>0.992481</td>\n",
       "      <td>133.000000</td>\n",
       "    </tr>\n",
       "    <tr>\n",
       "      <th>6</th>\n",
       "      <td>0.995995</td>\n",
       "      <td>1.000000</td>\n",
       "      <td>0.997993</td>\n",
       "      <td>2984.000000</td>\n",
       "    </tr>\n",
       "    <tr>\n",
       "      <th>7</th>\n",
       "      <td>1.000000</td>\n",
       "      <td>0.409091</td>\n",
       "      <td>0.580645</td>\n",
       "      <td>22.000000</td>\n",
       "    </tr>\n",
       "    <tr>\n",
       "      <th>8</th>\n",
       "      <td>1.000000</td>\n",
       "      <td>1.000000</td>\n",
       "      <td>1.000000</td>\n",
       "      <td>145.000000</td>\n",
       "    </tr>\n",
       "    <tr>\n",
       "      <th>9</th>\n",
       "      <td>0.994220</td>\n",
       "      <td>1.000000</td>\n",
       "      <td>0.997101</td>\n",
       "      <td>172.000000</td>\n",
       "    </tr>\n",
       "    <tr>\n",
       "      <th>10</th>\n",
       "      <td>1.000000</td>\n",
       "      <td>1.000000</td>\n",
       "      <td>1.000000</td>\n",
       "      <td>426.000000</td>\n",
       "    </tr>\n",
       "    <tr>\n",
       "      <th>accuracy</th>\n",
       "      <td>0.998877</td>\n",
       "      <td>0.998877</td>\n",
       "      <td>0.998877</td>\n",
       "      <td>0.998877</td>\n",
       "    </tr>\n",
       "    <tr>\n",
       "      <th>macro avg</th>\n",
       "      <td>0.998370</td>\n",
       "      <td>0.945474</td>\n",
       "      <td>0.960657</td>\n",
       "      <td>13362.000000</td>\n",
       "    </tr>\n",
       "    <tr>\n",
       "      <th>weighted avg</th>\n",
       "      <td>0.998881</td>\n",
       "      <td>0.998877</td>\n",
       "      <td>0.998674</td>\n",
       "      <td>13362.000000</td>\n",
       "    </tr>\n",
       "  </tbody>\n",
       "</table>\n",
       "</div>"
      ],
      "text/plain": [
       "              precision    recall  f1-score       support\n",
       "0              1.000000  1.000000  1.000000   1142.000000\n",
       "1              1.000000  0.998641  0.999320    736.000000\n",
       "2              0.999370  1.000000  0.999685   1586.000000\n",
       "3              1.000000  1.000000  1.000000   2505.000000\n",
       "4              1.000000  1.000000  1.000000   3511.000000\n",
       "5              0.992481  0.992481  0.992481    133.000000\n",
       "6              0.995995  1.000000  0.997993   2984.000000\n",
       "7              1.000000  0.409091  0.580645     22.000000\n",
       "8              1.000000  1.000000  1.000000    145.000000\n",
       "9              0.994220  1.000000  0.997101    172.000000\n",
       "10             1.000000  1.000000  1.000000    426.000000\n",
       "accuracy       0.998877  0.998877  0.998877      0.998877\n",
       "macro avg      0.998370  0.945474  0.960657  13362.000000\n",
       "weighted avg   0.998881  0.998877  0.998674  13362.000000"
      ]
     },
     "execution_count": 32,
     "metadata": {},
     "output_type": "execute_result"
    }
   ],
   "source": [
    "# Baseline label classifier with logistic regression - minimal params\n",
    "\n",
    "log_base = LogisticRegression(\n",
    "    max_iter=10000,\n",
    "    random_state=2022\n",
    ")\n",
    "\n",
    "log_base.fit(X_train, y_train)\n",
    "\n",
    "y_pred = log_base.predict(X_test)\n",
    "print('Testing accuracy %s' % accuracy_score(y_test, y_pred))\n",
    "print('Testing f1 score %s' % f1_score(y_test, y_pred, average='weighted'))\n",
    "cm_log_base = confusion_matrix(y_test, y_pred) # can use to make heatmap\n",
    "cr_log_base = pd.DataFrame(classification_report(y_test, y_pred, zero_division=1, output_dict=True)).T #, average= 'weighted')\n",
    "cr_log_base"
   ]
  },
  {
   "cell_type": "code",
   "execution_count": 33,
   "id": "d2d118d3",
   "metadata": {},
   "outputs": [
    {
     "data": {
      "image/png": "[encoded data removed]",
      "text/plain": [
       "<Figure size 1000x1000 with 2 Axes>"
      ]
     },
     "metadata": {},
     "output_type": "display_data"
    }
   ],
   "source": [
    "#Plotting the confusion matrix as heatmap\n",
    "plt.figure(figsize=(10,10))\n",
    "sns.heatmap(cm_log_base, annot=True, cmap='viridis') # cmap='crest')#, linewidth=.1)#, annot=True)\n",
    "plt.title('Confusion Matrix - Logistic Regression Model - Baseline')\n",
    "plt.ylabel('Actual Values')\n",
    "plt.xlabel('Predicted Values')\n",
    "plt.show()"
   ]
  },
  {
   "attachments": {},
   "cell_type": "markdown",
   "id": "9f54abbf",
   "metadata": {},
   "source": [
    "- ### Baseline logistic regression performs extremely well with accuracy and f1 score ~99.9% on the test dataset.  This will be a difficult baseline to beat - not a bad problem to have ;) \n",
    "    - ### Without EDA/FE, accuracy and f1 score was only ~84% on test data"
   ]
  },
  {
   "cell_type": "markdown",
   "id": "5919fdde",
   "metadata": {},
   "source": [
    "# Try hyperparameter optimization for the logistic regression model"
   ]
  },
  {
   "cell_type": "code",
   "execution_count": 34,
   "id": "2f04b801",
   "metadata": {},
   "outputs": [],
   "source": [
    "# Optimize logistic regression classifier with optuna\n",
    "def log_objective(trial):\n",
    "    #penalty = trial.suggest_categorical(\"penalty\", [\"l2\", \"l1\", \"elasticnet\", \"none\"]) #use defaut l2 penalty\n",
    "    tol = trial.suggest_float(\"tol\", 0.0001, 0.0091, step=0.001, log=False)\n",
    "    C = trial.suggest_float(\"C\", 0.1, 1.0, step=0.1, log=False)\n",
    "    #fit_intercept = trial.suggest_categorical(\"fit_intercept\", [\"True\", \"False\"])\n",
    "    class_weight = trial.suggest_categorical(\"class_weight\", [\"balanced\", None])\n",
    "    solver = trial.suggest_categorical(\"solver\", [\"newton-cg\", \"lbfgs\", \"sag\", \"saga\"]) #\"liblinear\", \n",
    "    #l1_ratio = trial.suggest_float(\"l1_ratio\", 0.1, 1.0, step=0.1, log=False) ## only used by elasticnet\n",
    "        \n",
    "    ## Create Model\n",
    "    log = LogisticRegression(tol=tol, C=C, class_weight=class_weight, solver=solver,\n",
    "                            max_iter=10000, multi_class = \"multinomial\", random_state = 2022) #fit_intercept=fit_intercept, l1_ratio=l1_ratio, warm_start=True\n",
    "    ## Fit Model\n",
    "    log.fit(X_train, y_train)\n",
    "\n",
    "    return accuracy_score(y_test, log.predict(X_test))"
   ]
  },
  {
   "cell_type": "code",
   "execution_count": 35,
   "id": "9d2eeac7",
   "metadata": {},
   "outputs": [
    {
     "name": "stderr",
     "output_type": "stream",
     "text": [
      "\u001b[32m[I 2023-01-03 19:38:44,885]\u001b[0m A new study created in memory with name: Logistic Regression Classifier\u001b[0m\n",
      "\u001b[32m[I 2023-01-03 19:41:54,254]\u001b[0m Trial 0 finished with value: 0.9964077233947014 and parameters: {'tol': 0.0001, 'C': 0.4, 'class_weight': None, 'solver': 'sag'}. Best is trial 0 with value: 0.9964077233947014.\u001b[0m\n",
      "\u001b[32m[I 2023-01-03 19:42:30,274]\u001b[0m Trial 1 finished with value: 0.9982038616973506 and parameters: {'tol': 0.0031, 'C': 0.6, 'class_weight': None, 'solver': 'lbfgs'}. Best is trial 1 with value: 0.9982038616973506.\u001b[0m\n",
      "\u001b[32m[I 2023-01-03 19:43:06,089]\u001b[0m Trial 2 finished with value: 0.9921418949259093 and parameters: {'tol': 0.0021, 'C': 0.2, 'class_weight': 'balanced', 'solver': 'newton-cg'}. Best is trial 1 with value: 0.9982038616973506.\u001b[0m\n",
      "\u001b[32m[I 2023-01-03 19:43:16,822]\u001b[0m Trial 3 finished with value: 0.9904205957192037 and parameters: {'tol': 0.0021, 'C': 0.4, 'class_weight': 'balanced', 'solver': 'sag'}. Best is trial 1 with value: 0.9982038616973506.\u001b[0m\n",
      "\u001b[32m[I 2023-01-03 19:43:35,535]\u001b[0m Trial 4 finished with value: 0.9967070797784763 and parameters: {'tol': 0.0021, 'C': 0.2, 'class_weight': None, 'solver': 'lbfgs'}. Best is trial 1 with value: 0.9982038616973506.\u001b[0m\n",
      "\u001b[32m[I 2023-01-03 19:43:45,932]\u001b[0m Trial 5 finished with value: 0.98712767549768 and parameters: {'tol': 0.0061, 'C': 0.5, 'class_weight': 'balanced', 'solver': 'saga'}. Best is trial 1 with value: 0.9982038616973506.\u001b[0m\n",
      "\u001b[32m[I 2023-01-03 19:43:53,915]\u001b[0m Trial 6 finished with value: 0.9910193084867535 and parameters: {'tol': 0.0091, 'C': 0.7000000000000001, 'class_weight': None, 'solver': 'saga'}. Best is trial 1 with value: 0.9982038616973506.\u001b[0m\n",
      "\u001b[32m[I 2023-01-03 19:44:28,190]\u001b[0m Trial 7 finished with value: 0.9966322406825325 and parameters: {'tol': 0.0091, 'C': 0.7000000000000001, 'class_weight': 'balanced', 'solver': 'lbfgs'}. Best is trial 1 with value: 0.9982038616973506.\u001b[0m\n",
      "\u001b[32m[I 2023-01-03 19:45:56,790]\u001b[0m Trial 8 finished with value: 0.9946864241879958 and parameters: {'tol': 0.0001, 'C': 0.6, 'class_weight': 'balanced', 'solver': 'saga'}. Best is trial 1 with value: 0.9982038616973506.\u001b[0m\n",
      "\u001b[32m[I 2023-01-03 19:46:05,096]\u001b[0m Trial 9 finished with value: 0.9861547672504116 and parameters: {'tol': 0.0091, 'C': 0.6, 'class_weight': 'balanced', 'solver': 'saga'}. Best is trial 1 with value: 0.9982038616973506.\u001b[0m\n"
     ]
    }
   ],
   "source": [
    "log_study = optuna.create_study(study_name=\"Logistic Regression Classifier\", direction=\"maximize\")\n",
    "log_study.optimize(log_objective, n_trials=10)"
   ]
  },
  {
   "cell_type": "code",
   "execution_count": 36,
   "id": "e1a37963",
   "metadata": {},
   "outputs": [
    {
     "name": "stdout",
     "output_type": "stream",
     "text": [
      "Best Params: {'tol': 0.0031, 'C': 0.6, 'class_weight': None, 'solver': 'lbfgs'}\n",
      "\n",
      "Best Accuracy: 0.9982038616973506\n"
     ]
    }
   ],
   "source": [
    "print(\"Best Params: {}\".format(log_study.best_params))\n",
    "print(\"\\nBest Accuracy: {}\".format(log_study.best_value))"
   ]
  },
  {
   "cell_type": "code",
   "execution_count": 37,
   "id": "116eee6b",
   "metadata": {},
   "outputs": [
    {
     "name": "stdout",
     "output_type": "stream",
     "text": [
      "Logistic Regression Accuracy on Train Dataset: 0.9993825312476611\n",
      "\n",
      "Logistic Regression Accuracy on Test Dataset: 0.9982038616973506\n",
      "\n",
      "#####################\n",
      "\n",
      "Logistic Regression F1 Score on Train Dataset: 0.9993332640001746\n",
      "\n",
      "Logistic Regression F1 Score on Test Dataset: 0.9975824948204283\n"
     ]
    },
    {
     "data": {
      "text/html": [
       "<div>\n",
       "<style scoped>\n",
       "    .dataframe tbody tr th:only-of-type {\n",
       "        vertical-align: middle;\n",
       "    }\n",
       "\n",
       "    .dataframe tbody tr th {\n",
       "        vertical-align: top;\n",
       "    }\n",
       "\n",
       "    .dataframe thead th {\n",
       "        text-align: right;\n",
       "    }\n",
       "</style>\n",
       "<table border=\"1\" class=\"dataframe\">\n",
       "  <thead>\n",
       "    <tr style=\"text-align: right;\">\n",
       "      <th></th>\n",
       "      <th>precision</th>\n",
       "      <th>recall</th>\n",
       "      <th>f1-score</th>\n",
       "      <th>support</th>\n",
       "    </tr>\n",
       "  </thead>\n",
       "  <tbody>\n",
       "    <tr>\n",
       "      <th>0</th>\n",
       "      <td>0.999125</td>\n",
       "      <td>1.000000</td>\n",
       "      <td>0.999562</td>\n",
       "      <td>1142.000000</td>\n",
       "    </tr>\n",
       "    <tr>\n",
       "      <th>1</th>\n",
       "      <td>1.000000</td>\n",
       "      <td>0.995924</td>\n",
       "      <td>0.997958</td>\n",
       "      <td>736.000000</td>\n",
       "    </tr>\n",
       "    <tr>\n",
       "      <th>2</th>\n",
       "      <td>0.998741</td>\n",
       "      <td>1.000000</td>\n",
       "      <td>0.999370</td>\n",
       "      <td>1586.000000</td>\n",
       "    </tr>\n",
       "    <tr>\n",
       "      <th>3</th>\n",
       "      <td>1.000000</td>\n",
       "      <td>1.000000</td>\n",
       "      <td>1.000000</td>\n",
       "      <td>2505.000000</td>\n",
       "    </tr>\n",
       "    <tr>\n",
       "      <th>4</th>\n",
       "      <td>1.000000</td>\n",
       "      <td>1.000000</td>\n",
       "      <td>1.000000</td>\n",
       "      <td>3511.000000</td>\n",
       "    </tr>\n",
       "    <tr>\n",
       "      <th>5</th>\n",
       "      <td>0.992481</td>\n",
       "      <td>0.992481</td>\n",
       "      <td>0.992481</td>\n",
       "      <td>133.000000</td>\n",
       "    </tr>\n",
       "    <tr>\n",
       "      <th>6</th>\n",
       "      <td>0.994004</td>\n",
       "      <td>1.000000</td>\n",
       "      <td>0.996993</td>\n",
       "      <td>2984.000000</td>\n",
       "    </tr>\n",
       "    <tr>\n",
       "      <th>7</th>\n",
       "      <td>1.000000</td>\n",
       "      <td>0.090909</td>\n",
       "      <td>0.166667</td>\n",
       "      <td>22.000000</td>\n",
       "    </tr>\n",
       "    <tr>\n",
       "      <th>8</th>\n",
       "      <td>1.000000</td>\n",
       "      <td>1.000000</td>\n",
       "      <td>1.000000</td>\n",
       "      <td>145.000000</td>\n",
       "    </tr>\n",
       "    <tr>\n",
       "      <th>9</th>\n",
       "      <td>0.988506</td>\n",
       "      <td>1.000000</td>\n",
       "      <td>0.994220</td>\n",
       "      <td>172.000000</td>\n",
       "    </tr>\n",
       "    <tr>\n",
       "      <th>10</th>\n",
       "      <td>1.000000</td>\n",
       "      <td>1.000000</td>\n",
       "      <td>1.000000</td>\n",
       "      <td>426.000000</td>\n",
       "    </tr>\n",
       "    <tr>\n",
       "      <th>accuracy</th>\n",
       "      <td>0.998204</td>\n",
       "      <td>0.998204</td>\n",
       "      <td>0.998204</td>\n",
       "      <td>0.998204</td>\n",
       "    </tr>\n",
       "    <tr>\n",
       "      <th>macro avg</th>\n",
       "      <td>0.997532</td>\n",
       "      <td>0.916301</td>\n",
       "      <td>0.922477</td>\n",
       "      <td>13362.000000</td>\n",
       "    </tr>\n",
       "    <tr>\n",
       "      <th>weighted avg</th>\n",
       "      <td>0.998214</td>\n",
       "      <td>0.998204</td>\n",
       "      <td>0.997582</td>\n",
       "      <td>13362.000000</td>\n",
       "    </tr>\n",
       "  </tbody>\n",
       "</table>\n",
       "</div>"
      ],
      "text/plain": [
       "              precision    recall  f1-score       support\n",
       "0              0.999125  1.000000  0.999562   1142.000000\n",
       "1              1.000000  0.995924  0.997958    736.000000\n",
       "2              0.998741  1.000000  0.999370   1586.000000\n",
       "3              1.000000  1.000000  1.000000   2505.000000\n",
       "4              1.000000  1.000000  1.000000   3511.000000\n",
       "5              0.992481  0.992481  0.992481    133.000000\n",
       "6              0.994004  1.000000  0.996993   2984.000000\n",
       "7              1.000000  0.090909  0.166667     22.000000\n",
       "8              1.000000  1.000000  1.000000    145.000000\n",
       "9              0.988506  1.000000  0.994220    172.000000\n",
       "10             1.000000  1.000000  1.000000    426.000000\n",
       "accuracy       0.998204  0.998204  0.998204      0.998204\n",
       "macro avg      0.997532  0.916301  0.922477  13362.000000\n",
       "weighted avg   0.998214  0.998204  0.997582  13362.000000"
      ]
     },
     "execution_count": 37,
     "metadata": {},
     "output_type": "execute_result"
    }
   ],
   "source": [
    "log_clf = LogisticRegression(**log_study.best_params, max_iter=10000, multi_class = \"multinomial\", random_state = 2022)\n",
    "log_clf.fit(X_train, y_train)\n",
    "\n",
    "y_pred_train = log_clf.predict(X_train)\n",
    "y_pred_test = log_clf.predict(X_test)\n",
    "\n",
    "log_train_acc = accuracy_score(y_train, y_pred_train)\n",
    "log_test_acc = accuracy_score(y_test, y_pred_test)\n",
    "\n",
    "log_train_f1 = f1_score(y_train, y_pred_train, average='weighted')\n",
    "log_test_f1 = f1_score(y_test, y_pred_test, average='weighted')\n",
    "\n",
    "print(\"Logistic Regression Accuracy on Train Dataset: {}\".format(log_train_acc))\n",
    "print(\"\\nLogistic Regression Accuracy on Test Dataset: {}\".format(log_test_acc))\n",
    "print(\"\\n#####################\")\n",
    "print(\"\\nLogistic Regression F1 Score on Train Dataset: {}\".format(log_train_f1))\n",
    "print(\"\\nLogistic Regression F1 Score on Test Dataset: {}\".format(log_test_f1))\n",
    "\n",
    "# Create Test Confusion Matrix and Classification Report\n",
    "cm_log = confusion_matrix(y_test, y_pred_test) # can use to make heatmap\n",
    "cr_log = pd.DataFrame(classification_report(y_test, y_pred_test, zero_division=1, output_dict=True)).T #, average= 'weighted')\n",
    "cr_log"
   ]
  },
  {
   "cell_type": "code",
   "execution_count": 38,
   "id": "f808ca6f",
   "metadata": {},
   "outputs": [
    {
     "data": {
      "image/png": "[encoded data removed]",
      "text/plain": [
       "<Figure size 1000x1000 with 2 Axes>"
      ]
     },
     "metadata": {},
     "output_type": "display_data"
    }
   ],
   "source": [
    "# Plotting the confusion matrix as heatmap\n",
    "plt.figure(figsize=(10,10))\n",
    "sns.heatmap(cm_log, annot=True, cmap='viridis') #, cmap='crest')#, linewidth=.1)#, annot=True)\n",
    "plt.title('Confusion Matrix - Logistic Regression Model')\n",
    "plt.ylabel('Actual Values')\n",
    "plt.xlabel('Predicted Values')\n",
    "plt.show()"
   ]
  },
  {
   "attachments": {},
   "cell_type": "markdown",
   "id": "05a49663",
   "metadata": {},
   "source": [
    "- ### Hyperparameter optimization with Optuna did not improve upon stellar logistic regression baseline classification accuracy and f1 score.\n",
    "- ### Classification heatmap demonstrates extremely good classification overall. \n",
    "- ### Classifier had some issue with Class 7 and predicted it as Class 6 (17 out of 22 times).\n",
    "- ### Overfitting not an issue with similar metrics across training and test data.\n",
    "    - ### Without EDA/FE, accuracy and f1 score was only ~84% on test data and ~88% on training data"
   ]
  },
  {
   "cell_type": "markdown",
   "id": "5065bb29",
   "metadata": {},
   "source": [
    "# Try other classification model types with hyperparameter optimization"
   ]
  },
  {
   "cell_type": "markdown",
   "id": "b91c3aac",
   "metadata": {},
   "source": [
    "## Passive Aggressive Classifier"
   ]
  },
  {
   "cell_type": "code",
   "execution_count": 39,
   "id": "4006bcf2",
   "metadata": {},
   "outputs": [],
   "source": [
    "# Optimize passive aggressive classifier with optuna\n",
    "def pac_objective(trial):\n",
    "    C = trial.suggest_float(\"C\", 0.1, 1.0, step=0.1, log=False)\n",
    "    tol = trial.suggest_float(\"tol\", 0.001, 0.01, step=0.001, log=False)\n",
    "    loss = trial.suggest_categorical(\"loss\", [\"hinge\", \"squared_hinge\"])\n",
    "    class_weight = trial.suggest_categorical(\"class_weight\", [\"balanced\", None])\n",
    "            \n",
    "    ## Create Model\n",
    "    pac = PassiveAggressiveClassifier(C=C, tol=tol, loss=loss, class_weight=class_weight, \n",
    "                                        max_iter=10000, random_state = 2022) \n",
    "\n",
    "    ## Fit Model\n",
    "    pac.fit(X_train, y_train)\n",
    "\n",
    "    return accuracy_score(y_test, pac.predict(X_test))"
   ]
  },
  {
   "cell_type": "code",
   "execution_count": 40,
   "id": "dd8a533f",
   "metadata": {},
   "outputs": [
    {
     "name": "stderr",
     "output_type": "stream",
     "text": [
      "\u001b[32m[I 2023-01-03 19:46:29,733]\u001b[0m A new study created in memory with name: Passive Aggressive Classifier\u001b[0m\n",
      "\u001b[32m[I 2023-01-03 19:46:32,090]\u001b[0m Trial 0 finished with value: 0.9668462804969316 and parameters: {'C': 0.7000000000000001, 'tol': 0.002, 'loss': 'squared_hinge', 'class_weight': None}. Best is trial 0 with value: 0.9668462804969316.\u001b[0m\n",
      "\u001b[32m[I 2023-01-03 19:46:35,451]\u001b[0m Trial 1 finished with value: 0.9666217632091004 and parameters: {'C': 0.6, 'tol': 0.002, 'loss': 'hinge', 'class_weight': 'balanced'}. Best is trial 0 with value: 0.9668462804969316.\u001b[0m\n",
      "\u001b[32m[I 2023-01-03 19:46:38,998]\u001b[0m Trial 2 finished with value: 0.9678940278401437 and parameters: {'C': 0.4, 'tol': 0.001, 'loss': 'hinge', 'class_weight': None}. Best is trial 2 with value: 0.9678940278401437.\u001b[0m\n",
      "\u001b[32m[I 2023-01-03 19:46:40,447]\u001b[0m Trial 3 finished with value: 0.9635533602754078 and parameters: {'C': 0.6, 'tol': 0.01, 'loss': 'hinge', 'class_weight': None}. Best is trial 2 with value: 0.9678940278401437.\u001b[0m\n",
      "\u001b[32m[I 2023-01-03 19:46:42,437]\u001b[0m Trial 4 finished with value: 0.9622810956443646 and parameters: {'C': 0.7000000000000001, 'tol': 0.007, 'loss': 'hinge', 'class_weight': 'balanced'}. Best is trial 2 with value: 0.9678940278401437.\u001b[0m\n",
      "\u001b[32m[I 2023-01-03 19:46:44,830]\u001b[0m Trial 5 finished with value: 0.9613081873970962 and parameters: {'C': 0.5, 'tol': 0.005, 'loss': 'hinge', 'class_weight': 'balanced'}. Best is trial 2 with value: 0.9678940278401437.\u001b[0m\n",
      "\u001b[32m[I 2023-01-03 19:46:47,306]\u001b[0m Trial 6 finished with value: 0.9645262685226762 and parameters: {'C': 0.4, 'tol': 0.006, 'loss': 'hinge', 'class_weight': 'balanced'}. Best is trial 2 with value: 0.9678940278401437.\u001b[0m\n",
      "\u001b[32m[I 2023-01-03 19:46:49,047]\u001b[0m Trial 7 finished with value: 0.9557700942972609 and parameters: {'C': 0.1, 'tol': 0.007, 'loss': 'hinge', 'class_weight': 'balanced'}. Best is trial 2 with value: 0.9678940278401437.\u001b[0m\n",
      "\u001b[32m[I 2023-01-03 19:46:51,228]\u001b[0m Trial 8 finished with value: 0.9610088310133214 and parameters: {'C': 0.2, 'tol': 0.009000000000000001, 'loss': 'hinge', 'class_weight': 'balanced'}. Best is trial 2 with value: 0.9678940278401437.\u001b[0m\n",
      "\u001b[32m[I 2023-01-03 19:46:52,704]\u001b[0m Trial 9 finished with value: 0.9642269121389013 and parameters: {'C': 0.5, 'tol': 0.008, 'loss': 'hinge', 'class_weight': None}. Best is trial 2 with value: 0.9678940278401437.\u001b[0m\n"
     ]
    }
   ],
   "source": [
    "pac_study = optuna.create_study(study_name=\"Passive Aggressive Classifier\", direction=\"maximize\")\n",
    "pac_study.optimize(pac_objective, n_trials=10)"
   ]
  },
  {
   "cell_type": "code",
   "execution_count": 41,
   "id": "5a43e08a",
   "metadata": {},
   "outputs": [
    {
     "name": "stdout",
     "output_type": "stream",
     "text": [
      "Best Params: {'C': 0.4, 'tol': 0.001, 'loss': 'hinge', 'class_weight': None}\n",
      "\n",
      "Best Accuracy: 0.9678940278401437\n"
     ]
    }
   ],
   "source": [
    "print(\"Best Params: {}\".format(pac_study.best_params))\n",
    "print(\"\\nBest Accuracy: {}\".format(pac_study.best_value))"
   ]
  },
  {
   "cell_type": "code",
   "execution_count": 42,
   "id": "6913247d",
   "metadata": {},
   "outputs": [
    {
     "name": "stdout",
     "output_type": "stream",
     "text": [
      "Passive Aggressive Classifier Accuracy on Train Dataset: 0.9916173939076417\n",
      "\n",
      "Passive Aggressive Classifier Accuracy on Test Dataset: 0.9678940278401437\n",
      "\n",
      "#####################\n",
      "\n",
      "Passive Aggressive Classifier F1 Score on Train Dataset: 0.9915167255624483\n",
      "\n",
      "Passive Aggressive Classifier F1 Score on Test Dataset: 0.9671800520295847\n"
     ]
    },
    {
     "data": {
      "text/html": [
       "<div>\n",
       "<style scoped>\n",
       "    .dataframe tbody tr th:only-of-type {\n",
       "        vertical-align: middle;\n",
       "    }\n",
       "\n",
       "    .dataframe tbody tr th {\n",
       "        vertical-align: top;\n",
       "    }\n",
       "\n",
       "    .dataframe thead th {\n",
       "        text-align: right;\n",
       "    }\n",
       "</style>\n",
       "<table border=\"1\" class=\"dataframe\">\n",
       "  <thead>\n",
       "    <tr style=\"text-align: right;\">\n",
       "      <th></th>\n",
       "      <th>precision</th>\n",
       "      <th>recall</th>\n",
       "      <th>f1-score</th>\n",
       "      <th>support</th>\n",
       "    </tr>\n",
       "  </thead>\n",
       "  <tbody>\n",
       "    <tr>\n",
       "      <th>0</th>\n",
       "      <td>0.957333</td>\n",
       "      <td>0.943082</td>\n",
       "      <td>0.950154</td>\n",
       "      <td>1142.000000</td>\n",
       "    </tr>\n",
       "    <tr>\n",
       "      <th>1</th>\n",
       "      <td>0.923754</td>\n",
       "      <td>0.855978</td>\n",
       "      <td>0.888575</td>\n",
       "      <td>736.000000</td>\n",
       "    </tr>\n",
       "    <tr>\n",
       "      <th>2</th>\n",
       "      <td>0.915663</td>\n",
       "      <td>0.958386</td>\n",
       "      <td>0.936537</td>\n",
       "      <td>1586.000000</td>\n",
       "    </tr>\n",
       "    <tr>\n",
       "      <th>3</th>\n",
       "      <td>0.972565</td>\n",
       "      <td>0.976447</td>\n",
       "      <td>0.974502</td>\n",
       "      <td>2505.000000</td>\n",
       "    </tr>\n",
       "    <tr>\n",
       "      <th>4</th>\n",
       "      <td>0.980057</td>\n",
       "      <td>0.979778</td>\n",
       "      <td>0.979917</td>\n",
       "      <td>3511.000000</td>\n",
       "    </tr>\n",
       "    <tr>\n",
       "      <th>5</th>\n",
       "      <td>0.858156</td>\n",
       "      <td>0.909774</td>\n",
       "      <td>0.883212</td>\n",
       "      <td>133.000000</td>\n",
       "    </tr>\n",
       "    <tr>\n",
       "      <th>6</th>\n",
       "      <td>0.995318</td>\n",
       "      <td>0.997319</td>\n",
       "      <td>0.996317</td>\n",
       "      <td>2984.000000</td>\n",
       "    </tr>\n",
       "    <tr>\n",
       "      <th>7</th>\n",
       "      <td>0.000000</td>\n",
       "      <td>0.000000</td>\n",
       "      <td>0.000000</td>\n",
       "      <td>22.000000</td>\n",
       "    </tr>\n",
       "    <tr>\n",
       "      <th>8</th>\n",
       "      <td>0.973154</td>\n",
       "      <td>1.000000</td>\n",
       "      <td>0.986395</td>\n",
       "      <td>145.000000</td>\n",
       "    </tr>\n",
       "    <tr>\n",
       "      <th>9</th>\n",
       "      <td>0.953757</td>\n",
       "      <td>0.959302</td>\n",
       "      <td>0.956522</td>\n",
       "      <td>172.000000</td>\n",
       "    </tr>\n",
       "    <tr>\n",
       "      <th>10</th>\n",
       "      <td>1.000000</td>\n",
       "      <td>0.969484</td>\n",
       "      <td>0.984505</td>\n",
       "      <td>426.000000</td>\n",
       "    </tr>\n",
       "    <tr>\n",
       "      <th>accuracy</th>\n",
       "      <td>0.967894</td>\n",
       "      <td>0.967894</td>\n",
       "      <td>0.967894</td>\n",
       "      <td>0.967894</td>\n",
       "    </tr>\n",
       "    <tr>\n",
       "      <th>macro avg</th>\n",
       "      <td>0.866342</td>\n",
       "      <td>0.868141</td>\n",
       "      <td>0.866967</td>\n",
       "      <td>13362.000000</td>\n",
       "    </tr>\n",
       "    <tr>\n",
       "      <th>weighted avg</th>\n",
       "      <td>0.966769</td>\n",
       "      <td>0.967894</td>\n",
       "      <td>0.967180</td>\n",
       "      <td>13362.000000</td>\n",
       "    </tr>\n",
       "  </tbody>\n",
       "</table>\n",
       "</div>"
      ],
      "text/plain": [
       "              precision    recall  f1-score       support\n",
       "0              0.957333  0.943082  0.950154   1142.000000\n",
       "1              0.923754  0.855978  0.888575    736.000000\n",
       "2              0.915663  0.958386  0.936537   1586.000000\n",
       "3              0.972565  0.976447  0.974502   2505.000000\n",
       "4              0.980057  0.979778  0.979917   3511.000000\n",
       "5              0.858156  0.909774  0.883212    133.000000\n",
       "6              0.995318  0.997319  0.996317   2984.000000\n",
       "7              0.000000  0.000000  0.000000     22.000000\n",
       "8              0.973154  1.000000  0.986395    145.000000\n",
       "9              0.953757  0.959302  0.956522    172.000000\n",
       "10             1.000000  0.969484  0.984505    426.000000\n",
       "accuracy       0.967894  0.967894  0.967894      0.967894\n",
       "macro avg      0.866342  0.868141  0.866967  13362.000000\n",
       "weighted avg   0.966769  0.967894  0.967180  13362.000000"
      ]
     },
     "execution_count": 42,
     "metadata": {},
     "output_type": "execute_result"
    }
   ],
   "source": [
    "pac_clf = PassiveAggressiveClassifier(**pac_study.best_params, max_iter=10000, random_state = 2022)\n",
    "pac_clf.fit(X_train, y_train)\n",
    "\n",
    "y_pred_train = pac_clf.predict(X_train)\n",
    "y_pred_test = pac_clf.predict(X_test)\n",
    "\n",
    "pac_train_acc = accuracy_score(y_train, y_pred_train)\n",
    "pac_test_acc = accuracy_score(y_test, y_pred_test)\n",
    "\n",
    "pac_train_f1 = f1_score(y_train, y_pred_train, average='weighted')\n",
    "pac_test_f1 = f1_score(y_test, y_pred_test, average='weighted')\n",
    "\n",
    "print(\"Passive Aggressive Classifier Accuracy on Train Dataset: {}\".format(pac_train_acc))\n",
    "print(\"\\nPassive Aggressive Classifier Accuracy on Test Dataset: {}\".format(pac_test_acc))\n",
    "print(\"\\n#####################\")\n",
    "print(\"\\nPassive Aggressive Classifier F1 Score on Train Dataset: {}\".format(pac_train_f1))\n",
    "print(\"\\nPassive Aggressive Classifier F1 Score on Test Dataset: {}\".format(pac_test_f1))\n",
    "\n",
    "# Create Test Confusion Matrix and Classification Report\n",
    "cm_pac = confusion_matrix(y_test, y_pred_test) # can use to make heatmap\n",
    "cr_pac = pd.DataFrame(classification_report(y_test, y_pred_test, zero_division=1, output_dict=True)).T #, average= 'weighted')\n",
    "cr_pac"
   ]
  },
  {
   "cell_type": "code",
   "execution_count": 43,
   "id": "9bc04e28",
   "metadata": {},
   "outputs": [
    {
     "data": {
      "image/png": "[encoded data removed]",
      "text/plain": [
       "<Figure size 1000x1000 with 2 Axes>"
      ]
     },
     "metadata": {},
     "output_type": "display_data"
    }
   ],
   "source": [
    "# Plotting the confusion matrix as heatmap\n",
    "plt.figure(figsize=(10,10))\n",
    "sns.heatmap(cm_pac, annot=True, cmap='viridis') #, cmap='crest')#, linewidth=.1)#, annot=True)\n",
    "plt.title('Confusion Matrix - Passive Aggressive Classifier')\n",
    "plt.ylabel('Actual Values')\n",
    "plt.xlabel('Predicted Values')\n",
    "plt.show()"
   ]
  },
  {
   "attachments": {},
   "cell_type": "markdown",
   "id": "f62a4d83",
   "metadata": {},
   "source": [
    "- ### Passive Aggressive Classifier exhibited slightly lower accuracy and f1 score than Logistic Regression Classifier.\n",
    "- ### Classification heatmap demonstrates very good classification overall but high degree of misclassifications between classes 3 and 4. \n",
    "- ### Class 7 with least amount of support (22 samples) was not correctly predicted once.\n",
    "- ### Small degree of overfitting with slightly higher metrics on training data.\n",
    "    - ### Without EDA/FE, accuracy and f1 score was only ~85% on test data and ~90% on training data"
   ]
  },
  {
   "cell_type": "markdown",
   "id": "7d9b8056",
   "metadata": {},
   "source": [
    "## Random Forest Classifier"
   ]
  },
  {
   "cell_type": "code",
   "execution_count": 44,
   "id": "51a15ee5",
   "metadata": {},
   "outputs": [],
   "source": [
    "# Optimize Random Forest Classifier with optuna\n",
    "def rfc_objective(trial):\n",
    "    n_estimators = trial.suggest_int(\"n_estimators\", 50, 550, step=100, log=False)\n",
    "    criterion = trial.suggest_categorical(\"criterion\", [\"gini\", \"entropy\", \"log_loss\"])\n",
    "    max_depth = trial.suggest_int(\"max_depth\", 2, 10, step=2, log=False)\n",
    "    min_samples_split = trial.suggest_int(\"min_samples_split\", 20, 100, step=20, log=False)\n",
    "    min_samples_leaf = trial.suggest_int(\"min_samples_leaf\", 10, 50, step=10, log=False)\n",
    "    max_features = trial.suggest_categorical(\"max_features\", [\"sqrt\", \"log2\", None])\n",
    "    bootstrap = trial.suggest_categorical(\"bootstrap\", [True, False])\n",
    "    class_weight = trial.suggest_categorical(\"class_weight\", [\"balanced\", \"balanced_subsample\"])\n",
    "            \n",
    "    ## Create Model\n",
    "    rfc = RandomForestClassifier(n_estimators=n_estimators, criterion=criterion, max_depth=max_depth, min_samples_split=min_samples_split, \n",
    "                                    min_samples_leaf=min_samples_leaf, max_features=max_features, bootstrap=bootstrap, \n",
    "                                    class_weight=class_weight, random_state = 2022) \n",
    "\n",
    "    ## Fit Model\n",
    "    rfc.fit(X_train, y_train)\n",
    "\n",
    "    return accuracy_score(y_test, rfc.predict(X_test))"
   ]
  },
  {
   "cell_type": "code",
   "execution_count": 45,
   "id": "d8c6b31d",
   "metadata": {},
   "outputs": [
    {
     "name": "stderr",
     "output_type": "stream",
     "text": [
      "\u001b[32m[I 2023-01-03 19:46:57,008]\u001b[0m A new study created in memory with name: Random Forest Classifier\u001b[0m\n",
      "\u001b[32m[I 2023-01-03 19:47:20,700]\u001b[0m Trial 0 finished with value: 0.8284687920969914 and parameters: {'n_estimators': 450, 'criterion': 'gini', 'max_depth': 4, 'min_samples_split': 100, 'min_samples_leaf': 10, 'max_features': 'sqrt', 'bootstrap': False, 'class_weight': 'balanced_subsample'}. Best is trial 0 with value: 0.8284687920969914.\u001b[0m\n",
      "\u001b[32m[I 2023-01-03 20:01:20,579]\u001b[0m Trial 1 finished with value: 1.0 and parameters: {'n_estimators': 150, 'criterion': 'entropy', 'max_depth': 6, 'min_samples_split': 40, 'min_samples_leaf': 20, 'max_features': None, 'bootstrap': False, 'class_weight': 'balanced_subsample'}. Best is trial 1 with value: 1.0.\u001b[0m\n",
      "\u001b[32m[I 2023-01-03 20:01:55,552]\u001b[0m Trial 2 finished with value: 0.8622960634635534 and parameters: {'n_estimators': 450, 'criterion': 'gini', 'max_depth': 6, 'min_samples_split': 60, 'min_samples_leaf': 40, 'max_features': 'sqrt', 'bootstrap': False, 'class_weight': 'balanced_subsample'}. Best is trial 1 with value: 1.0.\u001b[0m\n",
      "\u001b[32m[I 2023-01-03 20:02:13,556]\u001b[0m Trial 3 finished with value: 0.8216584343661129 and parameters: {'n_estimators': 350, 'criterion': 'gini', 'max_depth': 4, 'min_samples_split': 60, 'min_samples_leaf': 50, 'max_features': 'sqrt', 'bootstrap': False, 'class_weight': 'balanced_subsample'}. Best is trial 1 with value: 1.0.\u001b[0m\n",
      "\u001b[32m[I 2023-01-03 20:02:17,580]\u001b[0m Trial 4 finished with value: 0.8192635832959138 and parameters: {'n_estimators': 50, 'criterion': 'entropy', 'max_depth': 4, 'min_samples_split': 20, 'min_samples_leaf': 40, 'max_features': 'sqrt', 'bootstrap': True, 'class_weight': 'balanced_subsample'}. Best is trial 1 with value: 1.0.\u001b[0m\n",
      "\u001b[32m[I 2023-01-03 20:06:49,473]\u001b[0m Trial 5 finished with value: 1.0 and parameters: {'n_estimators': 150, 'criterion': 'gini', 'max_depth': 4, 'min_samples_split': 80, 'min_samples_leaf': 30, 'max_features': None, 'bootstrap': True, 'class_weight': 'balanced'}. Best is trial 1 with value: 1.0.\u001b[0m\n",
      "\u001b[32m[I 2023-01-03 20:07:34,289]\u001b[0m Trial 6 finished with value: 0.8519682682233198 and parameters: {'n_estimators': 550, 'criterion': 'log_loss', 'max_depth': 4, 'min_samples_split': 80, 'min_samples_leaf': 20, 'max_features': 'sqrt', 'bootstrap': True, 'class_weight': 'balanced_subsample'}. Best is trial 1 with value: 1.0.\u001b[0m\n",
      "\u001b[32m[I 2023-01-03 20:07:39,340]\u001b[0m Trial 7 finished with value: 0.7522825924262835 and parameters: {'n_estimators': 350, 'criterion': 'log_loss', 'max_depth': 2, 'min_samples_split': 40, 'min_samples_leaf': 50, 'max_features': 'log2', 'bootstrap': True, 'class_weight': 'balanced'}. Best is trial 1 with value: 1.0.\u001b[0m\n",
      "\u001b[32m[I 2023-01-03 20:16:22,308]\u001b[0m Trial 8 finished with value: 0.12730130220026942 and parameters: {'n_estimators': 350, 'criterion': 'gini', 'max_depth': 2, 'min_samples_split': 40, 'min_samples_leaf': 20, 'max_features': None, 'bootstrap': False, 'class_weight': 'balanced_subsample'}. Best is trial 1 with value: 1.0.\u001b[0m\n",
      "\u001b[32m[I 2023-01-03 20:19:00,298]\u001b[0m Trial 9 finished with value: 0.22496632240682532 and parameters: {'n_estimators': 50, 'criterion': 'entropy', 'max_depth': 2, 'min_samples_split': 60, 'min_samples_leaf': 20, 'max_features': None, 'bootstrap': False, 'class_weight': 'balanced_subsample'}. Best is trial 1 with value: 1.0.\u001b[0m\n"
     ]
    }
   ],
   "source": [
    "rfc_study = optuna.create_study(study_name=\"Random Forest Classifier\", direction=\"maximize\")\n",
    "rfc_study.optimize(rfc_objective, n_trials=10)"
   ]
  },
  {
   "cell_type": "code",
   "execution_count": 46,
   "id": "ac5972b1",
   "metadata": {},
   "outputs": [
    {
     "name": "stdout",
     "output_type": "stream",
     "text": [
      "Best Params: {'n_estimators': 150, 'criterion': 'entropy', 'max_depth': 6, 'min_samples_split': 40, 'min_samples_leaf': 20, 'max_features': None, 'bootstrap': False, 'class_weight': 'balanced_subsample'}\n",
      "\n",
      "Best Accuracy: 1.0\n"
     ]
    }
   ],
   "source": [
    "print(\"Best Params: {}\".format(rfc_study.best_params))\n",
    "print(\"\\nBest Accuracy: {}\".format(rfc_study.best_value))"
   ]
  },
  {
   "cell_type": "code",
   "execution_count": 47,
   "id": "2f6fc067",
   "metadata": {},
   "outputs": [
    {
     "name": "stdout",
     "output_type": "stream",
     "text": [
      "Random Forest Classifier Accuracy on Train Dataset: 1.0\n",
      "\n",
      "Random Forest Classifier Accuracy on Test Dataset: 1.0\n",
      "\n",
      "#####################\n",
      "\n",
      "Random Forest Classifier F1 Score on Train Dataset: 1.0\n",
      "\n",
      "Random Forest Classifier F1 Score on Test Dataset: 1.0\n"
     ]
    },
    {
     "data": {
      "text/html": [
       "<div>\n",
       "<style scoped>\n",
       "    .dataframe tbody tr th:only-of-type {\n",
       "        vertical-align: middle;\n",
       "    }\n",
       "\n",
       "    .dataframe tbody tr th {\n",
       "        vertical-align: top;\n",
       "    }\n",
       "\n",
       "    .dataframe thead th {\n",
       "        text-align: right;\n",
       "    }\n",
       "</style>\n",
       "<table border=\"1\" class=\"dataframe\">\n",
       "  <thead>\n",
       "    <tr style=\"text-align: right;\">\n",
       "      <th></th>\n",
       "      <th>precision</th>\n",
       "      <th>recall</th>\n",
       "      <th>f1-score</th>\n",
       "      <th>support</th>\n",
       "    </tr>\n",
       "  </thead>\n",
       "  <tbody>\n",
       "    <tr>\n",
       "      <th>0</th>\n",
       "      <td>1.0</td>\n",
       "      <td>1.0</td>\n",
       "      <td>1.0</td>\n",
       "      <td>1142.0</td>\n",
       "    </tr>\n",
       "    <tr>\n",
       "      <th>1</th>\n",
       "      <td>1.0</td>\n",
       "      <td>1.0</td>\n",
       "      <td>1.0</td>\n",
       "      <td>736.0</td>\n",
       "    </tr>\n",
       "    <tr>\n",
       "      <th>2</th>\n",
       "      <td>1.0</td>\n",
       "      <td>1.0</td>\n",
       "      <td>1.0</td>\n",
       "      <td>1586.0</td>\n",
       "    </tr>\n",
       "    <tr>\n",
       "      <th>3</th>\n",
       "      <td>1.0</td>\n",
       "      <td>1.0</td>\n",
       "      <td>1.0</td>\n",
       "      <td>2505.0</td>\n",
       "    </tr>\n",
       "    <tr>\n",
       "      <th>4</th>\n",
       "      <td>1.0</td>\n",
       "      <td>1.0</td>\n",
       "      <td>1.0</td>\n",
       "      <td>3511.0</td>\n",
       "    </tr>\n",
       "    <tr>\n",
       "      <th>5</th>\n",
       "      <td>1.0</td>\n",
       "      <td>1.0</td>\n",
       "      <td>1.0</td>\n",
       "      <td>133.0</td>\n",
       "    </tr>\n",
       "    <tr>\n",
       "      <th>6</th>\n",
       "      <td>1.0</td>\n",
       "      <td>1.0</td>\n",
       "      <td>1.0</td>\n",
       "      <td>2984.0</td>\n",
       "    </tr>\n",
       "    <tr>\n",
       "      <th>7</th>\n",
       "      <td>1.0</td>\n",
       "      <td>1.0</td>\n",
       "      <td>1.0</td>\n",
       "      <td>22.0</td>\n",
       "    </tr>\n",
       "    <tr>\n",
       "      <th>8</th>\n",
       "      <td>1.0</td>\n",
       "      <td>1.0</td>\n",
       "      <td>1.0</td>\n",
       "      <td>145.0</td>\n",
       "    </tr>\n",
       "    <tr>\n",
       "      <th>9</th>\n",
       "      <td>1.0</td>\n",
       "      <td>1.0</td>\n",
       "      <td>1.0</td>\n",
       "      <td>172.0</td>\n",
       "    </tr>\n",
       "    <tr>\n",
       "      <th>10</th>\n",
       "      <td>1.0</td>\n",
       "      <td>1.0</td>\n",
       "      <td>1.0</td>\n",
       "      <td>426.0</td>\n",
       "    </tr>\n",
       "    <tr>\n",
       "      <th>accuracy</th>\n",
       "      <td>1.0</td>\n",
       "      <td>1.0</td>\n",
       "      <td>1.0</td>\n",
       "      <td>1.0</td>\n",
       "    </tr>\n",
       "    <tr>\n",
       "      <th>macro avg</th>\n",
       "      <td>1.0</td>\n",
       "      <td>1.0</td>\n",
       "      <td>1.0</td>\n",
       "      <td>13362.0</td>\n",
       "    </tr>\n",
       "    <tr>\n",
       "      <th>weighted avg</th>\n",
       "      <td>1.0</td>\n",
       "      <td>1.0</td>\n",
       "      <td>1.0</td>\n",
       "      <td>13362.0</td>\n",
       "    </tr>\n",
       "  </tbody>\n",
       "</table>\n",
       "</div>"
      ],
      "text/plain": [
       "              precision  recall  f1-score  support\n",
       "0                   1.0     1.0       1.0   1142.0\n",
       "1                   1.0     1.0       1.0    736.0\n",
       "2                   1.0     1.0       1.0   1586.0\n",
       "3                   1.0     1.0       1.0   2505.0\n",
       "4                   1.0     1.0       1.0   3511.0\n",
       "5                   1.0     1.0       1.0    133.0\n",
       "6                   1.0     1.0       1.0   2984.0\n",
       "7                   1.0     1.0       1.0     22.0\n",
       "8                   1.0     1.0       1.0    145.0\n",
       "9                   1.0     1.0       1.0    172.0\n",
       "10                  1.0     1.0       1.0    426.0\n",
       "accuracy            1.0     1.0       1.0      1.0\n",
       "macro avg           1.0     1.0       1.0  13362.0\n",
       "weighted avg        1.0     1.0       1.0  13362.0"
      ]
     },
     "execution_count": 47,
     "metadata": {},
     "output_type": "execute_result"
    }
   ],
   "source": [
    "rfc_clf = RandomForestClassifier(**rfc_study.best_params, random_state = 2022)\n",
    "rfc_clf.fit(X_train, y_train)\n",
    "\n",
    "y_pred_train = rfc_clf.predict(X_train)\n",
    "y_pred_test = rfc_clf.predict(X_test)\n",
    "\n",
    "rfc_train_acc = accuracy_score(y_train, y_pred_train)\n",
    "rfc_test_acc = accuracy_score(y_test, y_pred_test)\n",
    "\n",
    "rfc_train_f1 = f1_score(y_train, y_pred_train, average='weighted')\n",
    "rfc_test_f1 = f1_score(y_test, y_pred_test, average='weighted')\n",
    "\n",
    "print(\"Random Forest Classifier Accuracy on Train Dataset: {}\".format(rfc_train_acc))\n",
    "print(\"\\nRandom Forest Classifier Accuracy on Test Dataset: {}\".format(rfc_test_acc))\n",
    "print(\"\\n#####################\")\n",
    "print(\"\\nRandom Forest Classifier F1 Score on Train Dataset: {}\".format(rfc_train_f1))\n",
    "print(\"\\nRandom Forest Classifier F1 Score on Test Dataset: {}\".format(rfc_test_f1))\n",
    "\n",
    "# Create Test Confusion Matrix and Classification Report\n",
    "cm_rfc = confusion_matrix(y_test, y_pred_test) # can use to make heatmap\n",
    "cr_rfc = pd.DataFrame(classification_report(y_test, y_pred_test, zero_division=1, output_dict=True)).T #, average= 'weighted')\n",
    "cr_rfc"
   ]
  },
  {
   "cell_type": "code",
   "execution_count": 48,
   "id": "47ae5e67",
   "metadata": {},
   "outputs": [
    {
     "data": {
      "image/png": "[encoded data removed]",
      "text/plain": [
       "<Figure size 1000x1000 with 2 Axes>"
      ]
     },
     "metadata": {},
     "output_type": "display_data"
    }
   ],
   "source": [
    "# Plotting the confusion matrix as heatmap\n",
    "plt.figure(figsize=(10,10))\n",
    "sns.heatmap(cm_rfc, annot=True, cmap='viridis') #, cmap='crest')#, linewidth=.1)#, annot=True)\n",
    "plt.title('Confusion Matrix - Random Forest Classifier')\n",
    "plt.ylabel('Actual Values')\n",
    "plt.xlabel('Predicted Values')\n",
    "plt.show()"
   ]
  },
  {
   "attachments": {},
   "cell_type": "markdown",
   "id": "f5c632c8",
   "metadata": {},
   "source": [
    "- ### Random Forest Classifier performed slightly better than Passive Aggressive and Logistic Regression Classifiers with perfect accuracy and f1 score on test and training data.\n",
    "- ### Classification heatmap demonstrates perfect classification with no misclassifications. \n",
    "- ### Class 7 with least amount of support (22 samples) was predicted correctly every time.\n",
    "- ### No evidence of overfitting with the same metrics between training and test data.\n",
    "    - ### Without EDA/FE, accuracy and f1 score was only ~76% on test data and ~77% on training data"
   ]
  },
  {
   "cell_type": "markdown",
   "id": "e62342d4",
   "metadata": {},
   "source": [
    "## XGBoost Classifier"
   ]
  },
  {
   "cell_type": "code",
   "execution_count": 49,
   "id": "1ee72688",
   "metadata": {},
   "outputs": [],
   "source": [
    "# Optimize XGBoost Classifier with optuna   ## may be better to use xgboost w/o any hyperparams/optuna to overfit and then regularize after to reduce overfit\n",
    "def xgb_objective(trial):\n",
    "    #booster = trial.suggest_categorical(\"booster\", [\"gbtree\", \"gblinear\", \"dart\"])\n",
    "    eta = trial.suggest_float(\"eta\", 0.1, 1.0, step=0.1, log=False)\n",
    "    gamma = trial.suggest_int(\"gamma\", 0, 100, step=10, log=False)\n",
    "    max_depth = trial.suggest_int(\"max_depth\", 2, 42, step=4, log=False)\n",
    "    min_child_weight = trial.suggest_int(\"min_child_weight\", 0, 50, step=10, log=False)\n",
    "    subsample = trial.suggest_float(\"subsample\", 0.5, 1.0, step=0.1, log=False)\n",
    "    #sampling_method = trial.suggest_categorical(\"sampling_method\", [\"uniform\", \"gradient_based\"]) #gradient_based only for tree_method: gpu_hist\n",
    "            \n",
    "    ## Create Model\n",
    "    xgb = XGBClassifier(booster=\"gbtree\", eta=eta, gamma=gamma, max_depth=max_depth, min_child_weight=min_child_weight, \n",
    "                            subsample=subsample, eval_metric=\"mlogloss\", use_label_encoder=False, random_state = 2022) # booster=booster, sampling_method=sampling_method,\n",
    "\n",
    "    ## Fit Model\n",
    "    xgb.fit(X_train, y_train)\n",
    "\n",
    "    return accuracy_score(y_test, xgb.predict(X_test))"
   ]
  },
  {
   "cell_type": "code",
   "execution_count": 50,
   "id": "aea39e1a",
   "metadata": {},
   "outputs": [
    {
     "name": "stderr",
     "output_type": "stream",
     "text": [
      "\u001b[32m[I 2023-01-03 20:33:04,655]\u001b[0m A new study created in memory with name: XGBoost Classifier\u001b[0m\n",
      "c:\\Miniconda\\envs\\tf\\lib\\site-packages\\xgboost\\sklearn.py:1421: UserWarning: `use_label_encoder` is deprecated in 1.7.0.\n",
      "  warnings.warn(\"`use_label_encoder` is deprecated in 1.7.0.\")\n",
      "\u001b[32m[I 2023-01-03 20:35:03,247]\u001b[0m Trial 0 finished with value: 1.0 and parameters: {'eta': 0.30000000000000004, 'gamma': 70, 'max_depth': 14, 'min_child_weight': 0, 'subsample': 1.0}. Best is trial 0 with value: 1.0.\u001b[0m\n",
      "c:\\Miniconda\\envs\\tf\\lib\\site-packages\\xgboost\\sklearn.py:1421: UserWarning: `use_label_encoder` is deprecated in 1.7.0.\n",
      "  warnings.warn(\"`use_label_encoder` is deprecated in 1.7.0.\")\n",
      "\u001b[32m[I 2023-01-03 20:35:51,096]\u001b[0m Trial 1 finished with value: 0.9983535398892381 and parameters: {'eta': 0.6, 'gamma': 40, 'max_depth': 22, 'min_child_weight': 40, 'subsample': 0.6}. Best is trial 0 with value: 1.0.\u001b[0m\n",
      "c:\\Miniconda\\envs\\tf\\lib\\site-packages\\xgboost\\sklearn.py:1421: UserWarning: `use_label_encoder` is deprecated in 1.7.0.\n",
      "  warnings.warn(\"`use_label_encoder` is deprecated in 1.7.0.\")\n",
      "\u001b[32m[I 2023-01-03 20:36:43,484]\u001b[0m Trial 2 finished with value: 1.0 and parameters: {'eta': 0.7000000000000001, 'gamma': 80, 'max_depth': 42, 'min_child_weight': 20, 'subsample': 0.5}. Best is trial 0 with value: 1.0.\u001b[0m\n",
      "c:\\Miniconda\\envs\\tf\\lib\\site-packages\\xgboost\\sklearn.py:1421: UserWarning: `use_label_encoder` is deprecated in 1.7.0.\n",
      "  warnings.warn(\"`use_label_encoder` is deprecated in 1.7.0.\")\n",
      "\u001b[32m[I 2023-01-03 20:37:36,362]\u001b[0m Trial 3 finished with value: 1.0 and parameters: {'eta': 0.5, 'gamma': 60, 'max_depth': 26, 'min_child_weight': 30, 'subsample': 0.8}. Best is trial 0 with value: 1.0.\u001b[0m\n",
      "c:\\Miniconda\\envs\\tf\\lib\\site-packages\\xgboost\\sklearn.py:1421: UserWarning: `use_label_encoder` is deprecated in 1.7.0.\n",
      "  warnings.warn(\"`use_label_encoder` is deprecated in 1.7.0.\")\n",
      "\u001b[32m[I 2023-01-03 20:39:54,646]\u001b[0m Trial 4 finished with value: 1.0 and parameters: {'eta': 0.30000000000000004, 'gamma': 10, 'max_depth': 30, 'min_child_weight': 0, 'subsample': 1.0}. Best is trial 0 with value: 1.0.\u001b[0m\n",
      "c:\\Miniconda\\envs\\tf\\lib\\site-packages\\xgboost\\sklearn.py:1421: UserWarning: `use_label_encoder` is deprecated in 1.7.0.\n",
      "  warnings.warn(\"`use_label_encoder` is deprecated in 1.7.0.\")\n",
      "\u001b[32m[I 2023-01-03 20:41:10,206]\u001b[0m Trial 5 finished with value: 1.0 and parameters: {'eta': 0.1, 'gamma': 40, 'max_depth': 2, 'min_child_weight': 0, 'subsample': 0.6}. Best is trial 0 with value: 1.0.\u001b[0m\n",
      "c:\\Miniconda\\envs\\tf\\lib\\site-packages\\xgboost\\sklearn.py:1421: UserWarning: `use_label_encoder` is deprecated in 1.7.0.\n",
      "  warnings.warn(\"`use_label_encoder` is deprecated in 1.7.0.\")\n",
      "\u001b[32m[I 2023-01-03 20:42:04,935]\u001b[0m Trial 6 finished with value: 1.0 and parameters: {'eta': 0.30000000000000004, 'gamma': 30, 'max_depth': 18, 'min_child_weight': 10, 'subsample': 1.0}. Best is trial 0 with value: 1.0.\u001b[0m\n",
      "c:\\Miniconda\\envs\\tf\\lib\\site-packages\\xgboost\\sklearn.py:1421: UserWarning: `use_label_encoder` is deprecated in 1.7.0.\n",
      "  warnings.warn(\"`use_label_encoder` is deprecated in 1.7.0.\")\n",
      "\u001b[32m[I 2023-01-03 20:42:56,226]\u001b[0m Trial 7 finished with value: 0.9983535398892381 and parameters: {'eta': 0.9, 'gamma': 100, 'max_depth': 34, 'min_child_weight': 30, 'subsample': 0.8}. Best is trial 0 with value: 1.0.\u001b[0m\n",
      "c:\\Miniconda\\envs\\tf\\lib\\site-packages\\xgboost\\sklearn.py:1421: UserWarning: `use_label_encoder` is deprecated in 1.7.0.\n",
      "  warnings.warn(\"`use_label_encoder` is deprecated in 1.7.0.\")\n",
      "\u001b[32m[I 2023-01-03 20:43:52,853]\u001b[0m Trial 8 finished with value: 1.0 and parameters: {'eta': 0.4, 'gamma': 70, 'max_depth': 34, 'min_child_weight': 20, 'subsample': 0.9}. Best is trial 0 with value: 1.0.\u001b[0m\n",
      "c:\\Miniconda\\envs\\tf\\lib\\site-packages\\xgboost\\sklearn.py:1421: UserWarning: `use_label_encoder` is deprecated in 1.7.0.\n",
      "  warnings.warn(\"`use_label_encoder` is deprecated in 1.7.0.\")\n",
      "\u001b[32m[I 2023-01-03 20:44:26,615]\u001b[0m Trial 9 finished with value: 1.0 and parameters: {'eta': 0.7000000000000001, 'gamma': 20, 'max_depth': 42, 'min_child_weight': 50, 'subsample': 0.6}. Best is trial 0 with value: 1.0.\u001b[0m\n"
     ]
    }
   ],
   "source": [
    "xgb_study = optuna.create_study(study_name=\"XGBoost Classifier\", direction=\"maximize\")\n",
    "xgb_study.optimize(xgb_objective, n_trials=10)"
   ]
  },
  {
   "cell_type": "code",
   "execution_count": 51,
   "id": "17a68a43",
   "metadata": {},
   "outputs": [
    {
     "name": "stdout",
     "output_type": "stream",
     "text": [
      "Best Params: {'eta': 0.30000000000000004, 'gamma': 70, 'max_depth': 14, 'min_child_weight': 0, 'subsample': 1.0}\n",
      "\n",
      "Best Accuracy: 1.0\n"
     ]
    }
   ],
   "source": [
    "print(\"Best Params: {}\".format(xgb_study.best_params))\n",
    "print(\"\\nBest Accuracy: {}\".format(xgb_study.best_value))"
   ]
  },
  {
   "cell_type": "code",
   "execution_count": 52,
   "id": "f91df8da",
   "metadata": {},
   "outputs": [
    {
     "name": "stderr",
     "output_type": "stream",
     "text": [
      "c:\\Miniconda\\envs\\tf\\lib\\site-packages\\xgboost\\sklearn.py:1421: UserWarning: `use_label_encoder` is deprecated in 1.7.0.\n",
      "  warnings.warn(\"`use_label_encoder` is deprecated in 1.7.0.\")\n"
     ]
    },
    {
     "name": "stdout",
     "output_type": "stream",
     "text": [
      "XGBoost Classifier Accuracy on Train Dataset: 1.0\n",
      "\n",
      "XGBoost Classifier Accuracy on Test Dataset: 1.0\n",
      "\n",
      "#####################\n",
      "\n",
      "XGBoost Classifier F1 Score on Train Dataset: 1.0\n",
      "\n",
      "XGBoost Classifier F1 Score on Test Dataset: 1.0\n"
     ]
    },
    {
     "data": {
      "text/html": [
       "<div>\n",
       "<style scoped>\n",
       "    .dataframe tbody tr th:only-of-type {\n",
       "        vertical-align: middle;\n",
       "    }\n",
       "\n",
       "    .dataframe tbody tr th {\n",
       "        vertical-align: top;\n",
       "    }\n",
       "\n",
       "    .dataframe thead th {\n",
       "        text-align: right;\n",
       "    }\n",
       "</style>\n",
       "<table border=\"1\" class=\"dataframe\">\n",
       "  <thead>\n",
       "    <tr style=\"text-align: right;\">\n",
       "      <th></th>\n",
       "      <th>precision</th>\n",
       "      <th>recall</th>\n",
       "      <th>f1-score</th>\n",
       "      <th>support</th>\n",
       "    </tr>\n",
       "  </thead>\n",
       "  <tbody>\n",
       "    <tr>\n",
       "      <th>0</th>\n",
       "      <td>1.0</td>\n",
       "      <td>1.0</td>\n",
       "      <td>1.0</td>\n",
       "      <td>1142.0</td>\n",
       "    </tr>\n",
       "    <tr>\n",
       "      <th>1</th>\n",
       "      <td>1.0</td>\n",
       "      <td>1.0</td>\n",
       "      <td>1.0</td>\n",
       "      <td>736.0</td>\n",
       "    </tr>\n",
       "    <tr>\n",
       "      <th>2</th>\n",
       "      <td>1.0</td>\n",
       "      <td>1.0</td>\n",
       "      <td>1.0</td>\n",
       "      <td>1586.0</td>\n",
       "    </tr>\n",
       "    <tr>\n",
       "      <th>3</th>\n",
       "      <td>1.0</td>\n",
       "      <td>1.0</td>\n",
       "      <td>1.0</td>\n",
       "      <td>2505.0</td>\n",
       "    </tr>\n",
       "    <tr>\n",
       "      <th>4</th>\n",
       "      <td>1.0</td>\n",
       "      <td>1.0</td>\n",
       "      <td>1.0</td>\n",
       "      <td>3511.0</td>\n",
       "    </tr>\n",
       "    <tr>\n",
       "      <th>5</th>\n",
       "      <td>1.0</td>\n",
       "      <td>1.0</td>\n",
       "      <td>1.0</td>\n",
       "      <td>133.0</td>\n",
       "    </tr>\n",
       "    <tr>\n",
       "      <th>6</th>\n",
       "      <td>1.0</td>\n",
       "      <td>1.0</td>\n",
       "      <td>1.0</td>\n",
       "      <td>2984.0</td>\n",
       "    </tr>\n",
       "    <tr>\n",
       "      <th>7</th>\n",
       "      <td>1.0</td>\n",
       "      <td>1.0</td>\n",
       "      <td>1.0</td>\n",
       "      <td>22.0</td>\n",
       "    </tr>\n",
       "    <tr>\n",
       "      <th>8</th>\n",
       "      <td>1.0</td>\n",
       "      <td>1.0</td>\n",
       "      <td>1.0</td>\n",
       "      <td>145.0</td>\n",
       "    </tr>\n",
       "    <tr>\n",
       "      <th>9</th>\n",
       "      <td>1.0</td>\n",
       "      <td>1.0</td>\n",
       "      <td>1.0</td>\n",
       "      <td>172.0</td>\n",
       "    </tr>\n",
       "    <tr>\n",
       "      <th>10</th>\n",
       "      <td>1.0</td>\n",
       "      <td>1.0</td>\n",
       "      <td>1.0</td>\n",
       "      <td>426.0</td>\n",
       "    </tr>\n",
       "    <tr>\n",
       "      <th>accuracy</th>\n",
       "      <td>1.0</td>\n",
       "      <td>1.0</td>\n",
       "      <td>1.0</td>\n",
       "      <td>1.0</td>\n",
       "    </tr>\n",
       "    <tr>\n",
       "      <th>macro avg</th>\n",
       "      <td>1.0</td>\n",
       "      <td>1.0</td>\n",
       "      <td>1.0</td>\n",
       "      <td>13362.0</td>\n",
       "    </tr>\n",
       "    <tr>\n",
       "      <th>weighted avg</th>\n",
       "      <td>1.0</td>\n",
       "      <td>1.0</td>\n",
       "      <td>1.0</td>\n",
       "      <td>13362.0</td>\n",
       "    </tr>\n",
       "  </tbody>\n",
       "</table>\n",
       "</div>"
      ],
      "text/plain": [
       "              precision  recall  f1-score  support\n",
       "0                   1.0     1.0       1.0   1142.0\n",
       "1                   1.0     1.0       1.0    736.0\n",
       "2                   1.0     1.0       1.0   1586.0\n",
       "3                   1.0     1.0       1.0   2505.0\n",
       "4                   1.0     1.0       1.0   3511.0\n",
       "5                   1.0     1.0       1.0    133.0\n",
       "6                   1.0     1.0       1.0   2984.0\n",
       "7                   1.0     1.0       1.0     22.0\n",
       "8                   1.0     1.0       1.0    145.0\n",
       "9                   1.0     1.0       1.0    172.0\n",
       "10                  1.0     1.0       1.0    426.0\n",
       "accuracy            1.0     1.0       1.0      1.0\n",
       "macro avg           1.0     1.0       1.0  13362.0\n",
       "weighted avg        1.0     1.0       1.0  13362.0"
      ]
     },
     "execution_count": 52,
     "metadata": {},
     "output_type": "execute_result"
    }
   ],
   "source": [
    "xgb_clf = XGBClassifier(**xgb_study.best_params, booster=\"gbtree\", use_label_encoder=False, eval_metric=\"mlogloss\", random_state = 2022)\n",
    "xgb_clf.fit(X_train, y_train)\n",
    "\n",
    "y_pred_train = xgb_clf.predict(X_train)\n",
    "y_pred_test = xgb_clf.predict(X_test)\n",
    "\n",
    "xgb_train_acc = accuracy_score(y_train, y_pred_train)\n",
    "xgb_test_acc = accuracy_score(y_test, y_pred_test)\n",
    "\n",
    "xgb_train_f1 = f1_score(y_train, y_pred_train, average='weighted')\n",
    "xgb_test_f1 = f1_score(y_test, y_pred_test, average='weighted')\n",
    "\n",
    "print(\"XGBoost Classifier Accuracy on Train Dataset: {}\".format(xgb_train_acc))\n",
    "print(\"\\nXGBoost Classifier Accuracy on Test Dataset: {}\".format(xgb_test_acc))\n",
    "print(\"\\n#####################\")\n",
    "print(\"\\nXGBoost Classifier F1 Score on Train Dataset: {}\".format(xgb_train_f1))\n",
    "print(\"\\nXGBoost Classifier F1 Score on Test Dataset: {}\".format(xgb_test_f1))\n",
    "\n",
    "# Create Test Confusion Matrix and Classification Report\n",
    "cm_xgb = confusion_matrix(y_test, y_pred_test) # can use to make heatmap\n",
    "cr_xgb = pd.DataFrame(classification_report(y_test, y_pred_test, zero_division=1, output_dict=True)).T #, average= 'weighted')\n",
    "cr_xgb"
   ]
  },
  {
   "cell_type": "code",
   "execution_count": 53,
   "id": "1868762d",
   "metadata": {},
   "outputs": [
    {
     "data": {
      "image/png": "[encoded data removed]",
      "text/plain": [
       "<Figure size 1000x1000 with 2 Axes>"
      ]
     },
     "metadata": {},
     "output_type": "display_data"
    }
   ],
   "source": [
    "#Plotting the confusion matrix as heatmap\n",
    "plt.figure(figsize=(10,10))\n",
    "sns.heatmap(cm_xgb, annot=True, cmap='viridis') #, ax=ax) #, cmap='crest')#, linewidth=.1)#, annot=True)\n",
    "plt.title('Confusion Matrix - XGBoost Classifier Model')\n",
    "plt.ylabel('Actual Values')\n",
    "plt.xlabel('Predicted Values')\n",
    "plt.show()"
   ]
  },
  {
   "attachments": {},
   "cell_type": "markdown",
   "id": "a03524e0",
   "metadata": {},
   "source": [
    "- ### XGBoost Classifier performed the same as Random Forest Classifier with perfect accuracy and f1 score on test and training data.\n",
    "- ### Classification heatmap demonstrates perfect classification with no misclassifications. \n",
    "- ### Class 7 with least amount of support (22 samples) was predicted correctly every time.\n",
    "- ### No evidence of overfitting with the same metrics between training and test data.\n",
    "    - ### Without EDA/FE, accuracy and f1 score was only ~85% on test data and ~95% on training data"
   ]
  },
  {
   "cell_type": "markdown",
   "id": "95fe73db",
   "metadata": {},
   "source": [
    "## LightGBM Classifier"
   ]
  },
  {
   "cell_type": "code",
   "execution_count": 54,
   "id": "2b3f8f42",
   "metadata": {},
   "outputs": [],
   "source": [
    "# Optimize LightGBM Classifier Classifier with optuna\n",
    "def lgb_objective(trial):\n",
    "    #boosting_type = trial.suggest_categorical(\"boosting_type\", [\"gbdt\", \"dart\", \"goss\", \"rf\"])\n",
    "    num_leaves = trial.suggest_int(\"num_leaves\", 4, 20, step=4, log=False) #decrease\n",
    "    max_depth = trial.suggest_int(\"max_depth\", 2, 8, step=2, log=False) #decrease\n",
    "    learning_rate = trial.suggest_float(\"learning_rate\", 0.001, 0.010, step=0.001, log=False)\n",
    "    n_estimators = trial.suggest_int(\"n_estimators\", 350, 500, step=25, log=False) #increase\n",
    "    min_child_weight = trial.suggest_float(\"min_child_weight\", 0.01, 0.10, step=0.01, log=False) #increase ## may be too high\n",
    "    min_child_samples = trial.suggest_int(\"min_child_samples\", 100, 200, step=25, log=False) #decrease  ## may be too high\n",
    "    subsample = trial.suggest_float(\"subsample\", 0.2, 1.0, step=0.2, log=False)\n",
    "            \n",
    "    ## Create Model\n",
    "    lgb = LGBMClassifier(boosting_type=\"gbdt\", num_leaves=num_leaves, max_depth=max_depth, learning_rate=learning_rate, \n",
    "                            n_estimators=n_estimators, min_child_weight=min_child_weight, min_child_samples=min_child_samples, \n",
    "                            subsample=subsample, objective=\"multiclass\", random_state = 2022) #class_weight=class_weights_dict, \n",
    "\n",
    "    ## Fit Model\n",
    "    lgb.fit(X_train, y_train)\n",
    "\n",
    "    return accuracy_score(y_test, lgb.predict(X_test))"
   ]
  },
  {
   "cell_type": "code",
   "execution_count": 55,
   "id": "5ffea6d6",
   "metadata": {},
   "outputs": [
    {
     "name": "stderr",
     "output_type": "stream",
     "text": [
      "\u001b[32m[I 2023-01-03 20:46:30,814]\u001b[0m A new study created in memory with name: LightGBM Classifier\u001b[0m\n",
      "\u001b[32m[I 2023-01-03 20:59:10,799]\u001b[0m Trial 0 finished with value: 1.0 and parameters: {'num_leaves': 20, 'max_depth': 8, 'learning_rate': 0.002, 'n_estimators': 500, 'min_child_weight': 0.01, 'min_child_samples': 200, 'subsample': 0.2}. Best is trial 0 with value: 1.0.\u001b[0m\n",
      "\u001b[32m[I 2023-01-03 21:05:11,865]\u001b[0m Trial 1 finished with value: 1.0 and parameters: {'num_leaves': 8, 'max_depth': 2, 'learning_rate': 0.004, 'n_estimators': 400, 'min_child_weight': 0.060000000000000005, 'min_child_samples': 150, 'subsample': 0.6000000000000001}. Best is trial 0 with value: 1.0.\u001b[0m\n",
      "\u001b[32m[I 2023-01-03 21:10:49,714]\u001b[0m Trial 2 finished with value: 1.0 and parameters: {'num_leaves': 4, 'max_depth': 8, 'learning_rate': 0.006, 'n_estimators': 400, 'min_child_weight': 0.06999999999999999, 'min_child_samples': 200, 'subsample': 1.0}. Best is trial 0 with value: 1.0.\u001b[0m\n",
      "\u001b[32m[I 2023-01-03 21:19:31,578]\u001b[0m Trial 3 finished with value: 1.0 and parameters: {'num_leaves': 12, 'max_depth': 4, 'learning_rate': 0.005, 'n_estimators': 350, 'min_child_weight': 0.05, 'min_child_samples': 150, 'subsample': 0.8}. Best is trial 0 with value: 1.0.\u001b[0m\n",
      "\u001b[32m[I 2023-01-03 21:34:13,768]\u001b[0m Trial 4 finished with value: 1.0 and parameters: {'num_leaves': 12, 'max_depth': 8, 'learning_rate': 0.004, 'n_estimators': 425, 'min_child_weight': 0.02, 'min_child_samples': 125, 'subsample': 0.2}. Best is trial 0 with value: 1.0.\u001b[0m\n",
      "\u001b[32m[I 2023-01-03 21:47:01,715]\u001b[0m Trial 5 finished with value: 1.0 and parameters: {'num_leaves': 12, 'max_depth': 8, 'learning_rate': 0.009000000000000001, 'n_estimators': 450, 'min_child_weight': 0.05, 'min_child_samples': 200, 'subsample': 0.2}. Best is trial 0 with value: 1.0.\u001b[0m\n",
      "\u001b[32m[I 2023-01-03 21:51:38,825]\u001b[0m Trial 6 finished with value: 1.0 and parameters: {'num_leaves': 12, 'max_depth': 2, 'learning_rate': 0.004, 'n_estimators': 400, 'min_child_weight': 0.01, 'min_child_samples': 175, 'subsample': 0.2}. Best is trial 0 with value: 1.0.\u001b[0m\n",
      "\u001b[32m[I 2023-01-03 22:05:28,866]\u001b[0m Trial 7 finished with value: 1.0 and parameters: {'num_leaves': 20, 'max_depth': 8, 'learning_rate': 0.004, 'n_estimators': 475, 'min_child_weight': 0.09, 'min_child_samples': 125, 'subsample': 0.2}. Best is trial 0 with value: 1.0.\u001b[0m\n",
      "\u001b[32m[I 2023-01-03 22:15:26,200]\u001b[0m Trial 8 finished with value: 1.0 and parameters: {'num_leaves': 12, 'max_depth': 6, 'learning_rate': 0.006, 'n_estimators': 400, 'min_child_weight': 0.02, 'min_child_samples': 100, 'subsample': 0.6000000000000001}. Best is trial 0 with value: 1.0.\u001b[0m\n",
      "\u001b[32m[I 2023-01-03 22:19:20,415]\u001b[0m Trial 9 finished with value: 1.0 and parameters: {'num_leaves': 4, 'max_depth': 2, 'learning_rate': 0.007, 'n_estimators': 350, 'min_child_weight': 0.05, 'min_child_samples': 175, 'subsample': 0.8}. Best is trial 0 with value: 1.0.\u001b[0m\n"
     ]
    }
   ],
   "source": [
    "lgb_study = optuna.create_study(study_name=\"LightGBM Classifier\", direction=\"maximize\")\n",
    "lgb_study.optimize(lgb_objective, n_trials=10)"
   ]
  },
  {
   "cell_type": "code",
   "execution_count": 56,
   "id": "91044b6b",
   "metadata": {},
   "outputs": [
    {
     "name": "stdout",
     "output_type": "stream",
     "text": [
      "Best Params: {'num_leaves': 20, 'max_depth': 8, 'learning_rate': 0.002, 'n_estimators': 500, 'min_child_weight': 0.01, 'min_child_samples': 200, 'subsample': 0.2}\n",
      "\n",
      "Best Accuracy: 1.0\n"
     ]
    }
   ],
   "source": [
    "print(\"Best Params: {}\".format(lgb_study.best_params))\n",
    "print(\"\\nBest Accuracy: {}\".format(lgb_study.best_value))"
   ]
  },
  {
   "cell_type": "code",
   "execution_count": 57,
   "id": "738467e3",
   "metadata": {},
   "outputs": [
    {
     "name": "stdout",
     "output_type": "stream",
     "text": [
      "LightGBM Classifier Accuracy on Train Dataset: 1.0\n",
      "\n",
      "LightGBM Classifier Accuracy on Test Dataset: 1.0\n",
      "\n",
      "#####################\n",
      "\n",
      "LightGBM Classifier F1 Score on Train Dataset: 1.0\n",
      "\n",
      "LightGBM Classifier F1 Score on Test Dataset: 1.0\n"
     ]
    },
    {
     "data": {
      "text/html": [
       "<div>\n",
       "<style scoped>\n",
       "    .dataframe tbody tr th:only-of-type {\n",
       "        vertical-align: middle;\n",
       "    }\n",
       "\n",
       "    .dataframe tbody tr th {\n",
       "        vertical-align: top;\n",
       "    }\n",
       "\n",
       "    .dataframe thead th {\n",
       "        text-align: right;\n",
       "    }\n",
       "</style>\n",
       "<table border=\"1\" class=\"dataframe\">\n",
       "  <thead>\n",
       "    <tr style=\"text-align: right;\">\n",
       "      <th></th>\n",
       "      <th>precision</th>\n",
       "      <th>recall</th>\n",
       "      <th>f1-score</th>\n",
       "      <th>support</th>\n",
       "    </tr>\n",
       "  </thead>\n",
       "  <tbody>\n",
       "    <tr>\n",
       "      <th>0</th>\n",
       "      <td>1.0</td>\n",
       "      <td>1.0</td>\n",
       "      <td>1.0</td>\n",
       "      <td>1142.0</td>\n",
       "    </tr>\n",
       "    <tr>\n",
       "      <th>1</th>\n",
       "      <td>1.0</td>\n",
       "      <td>1.0</td>\n",
       "      <td>1.0</td>\n",
       "      <td>736.0</td>\n",
       "    </tr>\n",
       "    <tr>\n",
       "      <th>2</th>\n",
       "      <td>1.0</td>\n",
       "      <td>1.0</td>\n",
       "      <td>1.0</td>\n",
       "      <td>1586.0</td>\n",
       "    </tr>\n",
       "    <tr>\n",
       "      <th>3</th>\n",
       "      <td>1.0</td>\n",
       "      <td>1.0</td>\n",
       "      <td>1.0</td>\n",
       "      <td>2505.0</td>\n",
       "    </tr>\n",
       "    <tr>\n",
       "      <th>4</th>\n",
       "      <td>1.0</td>\n",
       "      <td>1.0</td>\n",
       "      <td>1.0</td>\n",
       "      <td>3511.0</td>\n",
       "    </tr>\n",
       "    <tr>\n",
       "      <th>5</th>\n",
       "      <td>1.0</td>\n",
       "      <td>1.0</td>\n",
       "      <td>1.0</td>\n",
       "      <td>133.0</td>\n",
       "    </tr>\n",
       "    <tr>\n",
       "      <th>6</th>\n",
       "      <td>1.0</td>\n",
       "      <td>1.0</td>\n",
       "      <td>1.0</td>\n",
       "      <td>2984.0</td>\n",
       "    </tr>\n",
       "    <tr>\n",
       "      <th>7</th>\n",
       "      <td>1.0</td>\n",
       "      <td>1.0</td>\n",
       "      <td>1.0</td>\n",
       "      <td>22.0</td>\n",
       "    </tr>\n",
       "    <tr>\n",
       "      <th>8</th>\n",
       "      <td>1.0</td>\n",
       "      <td>1.0</td>\n",
       "      <td>1.0</td>\n",
       "      <td>145.0</td>\n",
       "    </tr>\n",
       "    <tr>\n",
       "      <th>9</th>\n",
       "      <td>1.0</td>\n",
       "      <td>1.0</td>\n",
       "      <td>1.0</td>\n",
       "      <td>172.0</td>\n",
       "    </tr>\n",
       "    <tr>\n",
       "      <th>10</th>\n",
       "      <td>1.0</td>\n",
       "      <td>1.0</td>\n",
       "      <td>1.0</td>\n",
       "      <td>426.0</td>\n",
       "    </tr>\n",
       "    <tr>\n",
       "      <th>accuracy</th>\n",
       "      <td>1.0</td>\n",
       "      <td>1.0</td>\n",
       "      <td>1.0</td>\n",
       "      <td>1.0</td>\n",
       "    </tr>\n",
       "    <tr>\n",
       "      <th>macro avg</th>\n",
       "      <td>1.0</td>\n",
       "      <td>1.0</td>\n",
       "      <td>1.0</td>\n",
       "      <td>13362.0</td>\n",
       "    </tr>\n",
       "    <tr>\n",
       "      <th>weighted avg</th>\n",
       "      <td>1.0</td>\n",
       "      <td>1.0</td>\n",
       "      <td>1.0</td>\n",
       "      <td>13362.0</td>\n",
       "    </tr>\n",
       "  </tbody>\n",
       "</table>\n",
       "</div>"
      ],
      "text/plain": [
       "              precision  recall  f1-score  support\n",
       "0                   1.0     1.0       1.0   1142.0\n",
       "1                   1.0     1.0       1.0    736.0\n",
       "2                   1.0     1.0       1.0   1586.0\n",
       "3                   1.0     1.0       1.0   2505.0\n",
       "4                   1.0     1.0       1.0   3511.0\n",
       "5                   1.0     1.0       1.0    133.0\n",
       "6                   1.0     1.0       1.0   2984.0\n",
       "7                   1.0     1.0       1.0     22.0\n",
       "8                   1.0     1.0       1.0    145.0\n",
       "9                   1.0     1.0       1.0    172.0\n",
       "10                  1.0     1.0       1.0    426.0\n",
       "accuracy            1.0     1.0       1.0      1.0\n",
       "macro avg           1.0     1.0       1.0  13362.0\n",
       "weighted avg        1.0     1.0       1.0  13362.0"
      ]
     },
     "execution_count": 57,
     "metadata": {},
     "output_type": "execute_result"
    }
   ],
   "source": [
    "lgb_clf = LGBMClassifier(**lgb_study.best_params, boosting_type=\"gbdt\", objective=\"multiclass\", random_state = 2022)\n",
    "lgb_clf.fit(X_train, y_train)\n",
    "\n",
    "y_pred_train = lgb_clf.predict(X_train)\n",
    "y_pred_test = lgb_clf.predict(X_test)\n",
    "\n",
    "lgb_train_acc = accuracy_score(y_train, y_pred_train)\n",
    "lgb_test_acc = accuracy_score(y_test, y_pred_test)\n",
    "\n",
    "lgb_train_f1 = f1_score(y_train, y_pred_train, average='weighted')\n",
    "lgb_test_f1 = f1_score(y_test, y_pred_test, average='weighted')\n",
    "\n",
    "print(\"LightGBM Classifier Accuracy on Train Dataset: {}\".format(lgb_train_acc))\n",
    "print(\"\\nLightGBM Classifier Accuracy on Test Dataset: {}\".format(lgb_test_acc))\n",
    "print(\"\\n#####################\")\n",
    "print(\"\\nLightGBM Classifier F1 Score on Train Dataset: {}\".format(lgb_train_f1))\n",
    "print(\"\\nLightGBM Classifier F1 Score on Test Dataset: {}\".format(lgb_test_f1))\n",
    "\n",
    "# Create Test Confusion Matrix and Classification Report\n",
    "cm_lgb = confusion_matrix(y_test, y_pred_test) # can use to make heatmap\n",
    "cr_lgb = pd.DataFrame(classification_report(y_test, y_pred_test, zero_division=1, output_dict=True)).T #, average= 'weighted')\n",
    "cr_lgb"
   ]
  },
  {
   "cell_type": "code",
   "execution_count": 58,
   "id": "58301ae3",
   "metadata": {},
   "outputs": [
    {
     "data": {
      "image/png": "[encoded data removed]",
      "text/plain": [
       "<Figure size 1000x1000 with 2 Axes>"
      ]
     },
     "metadata": {},
     "output_type": "display_data"
    }
   ],
   "source": [
    "#Plotting the confusion matrix as heatmap\n",
    "plt.figure(figsize=(10,10))\n",
    "sns.heatmap(cm_lgb, annot=True, cmap='viridis') #, linewidth=.1)#, annot=True)\n",
    "plt.title('Confusion Matrix - LightGBM Classifier Model')\n",
    "plt.ylabel('Actual Values')\n",
    "plt.xlabel('Predicted Values')\n",
    "plt.show()"
   ]
  },
  {
   "attachments": {},
   "cell_type": "markdown",
   "id": "71aaff3b",
   "metadata": {},
   "source": [
    "- ### LightGBM Classifier performed the same as XGBoost Classifier and Random Forest Classifier with perfect accuracy and f1 score on test and training data.\n",
    "- ### Classification heatmap demonstrates perfect classification with no misclassifications. \n",
    "- ### Class 7 with least amount of support (22 samples) was predicted correctly every time.\n",
    "- ### No evidence of overfitting with the same metrics between training and test data.\n",
    "    - ### Without EDA/FE, accuracy and f1 score was only ~81% on test data and ~82% on training data"
   ]
  },
  {
   "cell_type": "markdown",
   "id": "25c30f9f",
   "metadata": {},
   "source": [
    "## Save Models"
   ]
  },
  {
   "cell_type": "code",
   "execution_count": 59,
   "id": "c79796c0",
   "metadata": {},
   "outputs": [],
   "source": [
    "pickle.dump(log_clf, open('./bin/tfidf/log_clf_FE.pkl', 'wb'))\n",
    "pickle.dump(pac_clf, open('./bin/tfidf/pac_clf_FE.pkl', 'wb'))\n",
    "pickle.dump(rfc_clf, open('./bin/tfidf/rfc_clf_FE.pkl', 'wb'))\n",
    "pickle.dump(xgb_clf, open('./bin/tfidf/xgb_clf_FE.pkl', 'wb'))\n",
    "pickle.dump(lgb_clf, open('./bin/tfidf/lgb_clf_FE.pkl', 'wb'))"
   ]
  },
  {
   "attachments": {},
   "cell_type": "markdown",
   "id": "e1664c1f",
   "metadata": {},
   "source": [
    "## Ensemble best models together to balance bias-variance tradeoff for out-of-sample data."
   ]
  },
  {
   "cell_type": "code",
   "execution_count": 60,
   "id": "f34b2b98",
   "metadata": {},
   "outputs": [],
   "source": [
    "# load 3 best saved models\n",
    "rfc_clf = pickle.load(open('./bin/tfidf/rfc_clf_FE.pkl', 'rb'))\n",
    "xgb_clf = pickle.load(open('./bin/tfidf/xgb_clf_FE.pkl', 'rb'))\n",
    "lgb_clf = pickle.load(open('./bin/tfidf/lgb_clf_FE.pkl', 'rb'))"
   ]
  },
  {
   "cell_type": "code",
   "execution_count": 61,
   "id": "b9cb1709",
   "metadata": {},
   "outputs": [],
   "source": [
    "ensemble_clf = VotingClassifier(estimators=[('rfc', rfc_clf), ('xgb', xgb_clf), ('lgb', lgb_clf)], \n",
    "                                    voting='soft') # can use 'soft' argmax voting since each classifier has predict_proba"
   ]
  },
  {
   "cell_type": "code",
   "execution_count": 62,
   "id": "8644201b",
   "metadata": {},
   "outputs": [
    {
     "name": "stderr",
     "output_type": "stream",
     "text": [
      "c:\\Miniconda\\envs\\tf\\lib\\site-packages\\xgboost\\sklearn.py:1421: UserWarning: `use_label_encoder` is deprecated in 1.7.0.\n",
      "  warnings.warn(\"`use_label_encoder` is deprecated in 1.7.0.\")\n"
     ]
    }
   ],
   "source": [
    "ensemble_clf = ensemble_clf.fit(X_train, y_train)"
   ]
  },
  {
   "cell_type": "code",
   "execution_count": 63,
   "id": "3f6df065",
   "metadata": {},
   "outputs": [],
   "source": [
    "y_pred_train_ensemble = ensemble_clf.predict(X_train)\n",
    "y_pred_test_ensemble = ensemble_clf.predict(X_test)"
   ]
  },
  {
   "cell_type": "code",
   "execution_count": 64,
   "id": "0123a36e",
   "metadata": {},
   "outputs": [
    {
     "name": "stdout",
     "output_type": "stream",
     "text": [
      "Ensemble Accuracy on Train Dataset: 1.0\n",
      "\n",
      "Ensemble Accuracy on Test Dataset: 1.0\n",
      "\n",
      "#####################\n",
      "\n",
      "Ensemble F1 Score on Train Dataset: 1.0\n",
      "\n",
      "Ensemble F1 Score on Test Dataset: 1.0\n"
     ]
    }
   ],
   "source": [
    "results_ensemble_train_acc = accuracy_score(y_train, y_pred_train_ensemble)\n",
    "results_ensemble_test_acc = accuracy_score(y_test, y_pred_test_ensemble)\n",
    "\n",
    "results_ensemble_train_f1 = f1_score(y_train, y_pred_train_ensemble, average='weighted')\n",
    "results_ensemble_test_f1 = f1_score(y_test, y_pred_test_ensemble, average='weighted')\n",
    "\n",
    "print(\"Ensemble Accuracy on Train Dataset: {}\".format(results_ensemble_train_acc))\n",
    "print(\"\\nEnsemble Accuracy on Test Dataset: {}\".format(results_ensemble_test_acc))\n",
    "print(\"\\n#####################\")\n",
    "print(\"\\nEnsemble F1 Score on Train Dataset: {}\".format(results_ensemble_train_f1))\n",
    "print(\"\\nEnsemble F1 Score on Test Dataset: {}\".format(results_ensemble_test_f1))"
   ]
  },
  {
   "attachments": {},
   "cell_type": "markdown",
   "id": "16e65af3",
   "metadata": {},
   "source": [
    "- ### Perfect accuracy and f1 score on test and training data with ensemble model.\n",
    "- ### No need to engineer additional features from text."
   ]
  },
  {
   "cell_type": "code",
   "execution_count": null,
   "id": "1f719ab4",
   "metadata": {},
   "outputs": [],
   "source": []
  }
 ],
 "metadata": {
  "kernelspec": {
   "display_name": "Python 3",
   "language": "python",
   "name": "python3"
  },
  "language_info": {
   "codemirror_mode": {
    "name": "ipython",
    "version": 3
   },
   "file_extension": ".py",
   "mimetype": "text/x-python",
   "name": "python",
   "nbconvert_exporter": "python",
   "pygments_lexer": "ipython3",
   "version": "3.9.0"
  },
  "vscode": {
   "interpreter": {
    "hash": "3d00ce96abf83bb4cf2960a98ebc0f7617ff67904ab36479ee95b5efd4b346a2"
   }
  }
 },
 "nbformat": 4,
 "nbformat_minor": 5
}
