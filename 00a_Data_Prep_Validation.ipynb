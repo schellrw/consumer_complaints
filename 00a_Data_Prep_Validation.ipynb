{
 "cells": [
  {
   "cell_type": "markdown",
   "id": "cad504ae",
   "metadata": {},
   "source": [
    "## Package imports"
   ]
  },
  {
   "cell_type": "code",
   "execution_count": 1,
   "id": "e33e0e48",
   "metadata": {},
   "outputs": [],
   "source": [
    "import numpy as np\n",
    "import pandas as pd\n",
    "import datetime as dt\n",
    "from tqdm import tqdm\n",
    "tqdm.pandas(desc=\"progress-bar\")\n",
    "import nltk\n",
    "from nltk.corpus import stopwords\n",
    "from nltk.stem import WordNetLemmatizer, SnowballStemmer\n",
    "import string\n",
    "\n",
    "from pandas_profiling import ProfileReport\n",
    "from sklearn.model_selection import StratifiedShuffleSplit\n",
    "from sklearn.preprocessing import LabelEncoder, OneHotEncoder, StandardScaler\n",
    "from sklearn.feature_extraction.text import TfidfVectorizer\n",
    "from sklearn.metrics import accuracy_score, f1_score, classification_report, confusion_matrix\n",
    "\n",
    "import re\n",
    "import seaborn as sns\n",
    "import matplotlib.pyplot as plt\n",
    "\n",
    "import scipy.stats as st\n",
    "from scipy import sparse\n",
    "from scipy.sparse import hstack\n",
    "import pyarrow"
   ]
  },
  {
   "cell_type": "code",
   "execution_count": 2,
   "id": "c727bc62",
   "metadata": {},
   "outputs": [
    {
     "name": "stderr",
     "output_type": "stream",
     "text": [
      "[nltk_data] Downloading package stopwords to\n",
      "[nltk_data]     C:\\Users\\schel\\AppData\\Roaming\\nltk_data...\n",
      "[nltk_data]   Package stopwords is already up-to-date!\n",
      "[nltk_data] Downloading package wordnet to\n",
      "[nltk_data]     C:\\Users\\schel\\AppData\\Roaming\\nltk_data...\n",
      "[nltk_data]   Package wordnet is already up-to-date!\n",
      "[nltk_data] Downloading package punkt to\n",
      "[nltk_data]     C:\\Users\\schel\\AppData\\Roaming\\nltk_data...\n",
      "[nltk_data]   Package punkt is already up-to-date!\n",
      "[nltk_data] Downloading package omw-1.4 to\n",
      "[nltk_data]     C:\\Users\\schel\\AppData\\Roaming\\nltk_data...\n",
      "[nltk_data]   Package omw-1.4 is already up-to-date!\n"
     ]
    }
   ],
   "source": [
    "# Downloads and display options\n",
    "nltk.download('stopwords')\n",
    "nltk.download('wordnet')\n",
    "nltk.download('punkt')\n",
    "nltk.download('omw-1.4')\n",
    "punctuation = string.punctuation\n",
    "stop_words = list(stopwords.words('english'))\n",
    "#stop_words = set(stopwords.words('english'))\n",
    "pd.options.display.max_columns = None\n",
    "pd.options.display.max_rows = None\n",
    "%matplotlib inline"
   ]
  },
  {
   "cell_type": "markdown",
   "id": "78df11da",
   "metadata": {},
   "source": [
    "## Import data"
   ]
  },
  {
   "cell_type": "code",
   "execution_count": 3,
   "id": "3ec7fe4a",
   "metadata": {},
   "outputs": [
    {
     "data": {
      "text/html": [
       "<div>\n",
       "<style scoped>\n",
       "    .dataframe tbody tr th:only-of-type {\n",
       "        vertical-align: middle;\n",
       "    }\n",
       "\n",
       "    .dataframe tbody tr th {\n",
       "        vertical-align: top;\n",
       "    }\n",
       "\n",
       "    .dataframe thead th {\n",
       "        text-align: right;\n",
       "    }\n",
       "</style>\n",
       "<table border=\"1\" class=\"dataframe\">\n",
       "  <thead>\n",
       "    <tr style=\"text-align: right;\">\n",
       "      <th></th>\n",
       "      <th>date_received</th>\n",
       "      <th>sub_product</th>\n",
       "      <th>issue</th>\n",
       "      <th>sub_issue</th>\n",
       "      <th>consumer_complaint_narrative</th>\n",
       "      <th>company_public_response</th>\n",
       "      <th>company</th>\n",
       "      <th>state</th>\n",
       "      <th>zipcode</th>\n",
       "      <th>tags</th>\n",
       "      <th>consumer_consent_provided</th>\n",
       "      <th>submitted_via</th>\n",
       "      <th>date_sent_to_company</th>\n",
       "      <th>company_response_to_consumer</th>\n",
       "      <th>timely_response</th>\n",
       "      <th>consumer_disputed?</th>\n",
       "      <th>complaint_id</th>\n",
       "    </tr>\n",
       "  </thead>\n",
       "  <tbody>\n",
       "    <tr>\n",
       "      <th>0</th>\n",
       "      <td>11/18/2015</td>\n",
       "      <td>FHA mortgage</td>\n",
       "      <td>Loan modification,collection,foreclosure</td>\n",
       "      <td>None</td>\n",
       "      <td>I bought a house in XXXX XXXX in XXXX. It was ...</td>\n",
       "      <td>Company chooses not to provide a public response</td>\n",
       "      <td>Bank of America</td>\n",
       "      <td>CA</td>\n",
       "      <td>935XX</td>\n",
       "      <td>None</td>\n",
       "      <td>Consent provided</td>\n",
       "      <td>Web</td>\n",
       "      <td>11/18/2015</td>\n",
       "      <td>Closed with explanation</td>\n",
       "      <td>Yes</td>\n",
       "      <td>No</td>\n",
       "      <td>1662008</td>\n",
       "    </tr>\n",
       "    <tr>\n",
       "      <th>1</th>\n",
       "      <td>09/03/2015</td>\n",
       "      <td>Home equity loan or line of credit</td>\n",
       "      <td>Application, originator, mortgage broker</td>\n",
       "      <td>None</td>\n",
       "      <td>XX/XX/XXXX my husband and I took an equity lin...</td>\n",
       "      <td>Company chooses not to provide a public response</td>\n",
       "      <td>Bank of America</td>\n",
       "      <td>PA</td>\n",
       "      <td>189XX</td>\n",
       "      <td>None</td>\n",
       "      <td>Consent provided</td>\n",
       "      <td>Web</td>\n",
       "      <td>09/03/2015</td>\n",
       "      <td>Closed with explanation</td>\n",
       "      <td>Yes</td>\n",
       "      <td>No</td>\n",
       "      <td>1551463</td>\n",
       "    </tr>\n",
       "    <tr>\n",
       "      <th>2</th>\n",
       "      <td>07/12/2015</td>\n",
       "      <td>Medical</td>\n",
       "      <td>Cont'd attempts collect debt not owed</td>\n",
       "      <td>Debt is not mine</td>\n",
       "      <td>Dear sir/madam, I want ESCALLATE to remove the...</td>\n",
       "      <td>Company chooses not to provide a public response</td>\n",
       "      <td>Escallate, LLC</td>\n",
       "      <td>IL</td>\n",
       "      <td>604XX</td>\n",
       "      <td>None</td>\n",
       "      <td>Consent provided</td>\n",
       "      <td>Web</td>\n",
       "      <td>07/12/2015</td>\n",
       "      <td>Closed</td>\n",
       "      <td>Yes</td>\n",
       "      <td>Yes</td>\n",
       "      <td>1463692</td>\n",
       "    </tr>\n",
       "    <tr>\n",
       "      <th>3</th>\n",
       "      <td>07/03/2015</td>\n",
       "      <td>Other (i.e. phone, health club, etc.)</td>\n",
       "      <td>False statements or representation</td>\n",
       "      <td>Attempted to collect wrong amount</td>\n",
       "      <td>I had XXXX Alliance One Accounts on my credit ...</td>\n",
       "      <td>None</td>\n",
       "      <td>AllianceOne Recievables Management</td>\n",
       "      <td>WA</td>\n",
       "      <td>981XX</td>\n",
       "      <td>None</td>\n",
       "      <td>Consent provided</td>\n",
       "      <td>Web</td>\n",
       "      <td>07/03/2015</td>\n",
       "      <td>Closed with explanation</td>\n",
       "      <td>Yes</td>\n",
       "      <td>No</td>\n",
       "      <td>1451082</td>\n",
       "    </tr>\n",
       "    <tr>\n",
       "      <th>4</th>\n",
       "      <td>12/10/2015</td>\n",
       "      <td>Credit card</td>\n",
       "      <td>Communication tactics</td>\n",
       "      <td>Frequent or repeated calls</td>\n",
       "      <td>Portfolio Recovery continues to contact me and...</td>\n",
       "      <td>None</td>\n",
       "      <td>Portfolio Recovery Associates, Inc.</td>\n",
       "      <td>MD</td>\n",
       "      <td>214XX</td>\n",
       "      <td>None</td>\n",
       "      <td>Consent provided</td>\n",
       "      <td>Web</td>\n",
       "      <td>12/10/2015</td>\n",
       "      <td>Closed with non-monetary relief</td>\n",
       "      <td>Yes</td>\n",
       "      <td>No</td>\n",
       "      <td>1691577</td>\n",
       "    </tr>\n",
       "    <tr>\n",
       "      <th>5</th>\n",
       "      <td>08/28/2015</td>\n",
       "      <td>Vehicle loan</td>\n",
       "      <td>Taking out the loan or lease</td>\n",
       "      <td>None</td>\n",
       "      <td>From my experience with DriveTime, there was a...</td>\n",
       "      <td>Company chooses not to provide a public response</td>\n",
       "      <td>DriveTime</td>\n",
       "      <td>NC</td>\n",
       "      <td>282XX</td>\n",
       "      <td>None</td>\n",
       "      <td>Consent provided</td>\n",
       "      <td>Web</td>\n",
       "      <td>08/28/2015</td>\n",
       "      <td>Closed with explanation</td>\n",
       "      <td>Yes</td>\n",
       "      <td>Yes</td>\n",
       "      <td>1541730</td>\n",
       "    </tr>\n",
       "    <tr>\n",
       "      <th>6</th>\n",
       "      <td>08/12/2015</td>\n",
       "      <td>Other mortgage</td>\n",
       "      <td>Loan modification,collection,foreclosure</td>\n",
       "      <td>None</td>\n",
       "      <td>An Affidavit of Truth Final Opportunity To Cur...</td>\n",
       "      <td>Company chooses not to provide a public response</td>\n",
       "      <td>Specialized Loan Servicing LLC</td>\n",
       "      <td>MD</td>\n",
       "      <td>207XX</td>\n",
       "      <td>Servicemember</td>\n",
       "      <td>Consent provided</td>\n",
       "      <td>Web</td>\n",
       "      <td>08/12/2015</td>\n",
       "      <td>Closed with explanation</td>\n",
       "      <td>Yes</td>\n",
       "      <td>No</td>\n",
       "      <td>1516435</td>\n",
       "    </tr>\n",
       "    <tr>\n",
       "      <th>7</th>\n",
       "      <td>04/06/2016</td>\n",
       "      <td>None</td>\n",
       "      <td>Late fee</td>\n",
       "      <td>None</td>\n",
       "      <td>We used a Home Depot credit card with a 6 mont...</td>\n",
       "      <td>Company has responded to the consumer and the ...</td>\n",
       "      <td>Citibank</td>\n",
       "      <td>MN</td>\n",
       "      <td>566XX</td>\n",
       "      <td>None</td>\n",
       "      <td>Consent provided</td>\n",
       "      <td>Web</td>\n",
       "      <td>04/06/2016</td>\n",
       "      <td>Closed with monetary relief</td>\n",
       "      <td>Yes</td>\n",
       "      <td>No</td>\n",
       "      <td>1867949</td>\n",
       "    </tr>\n",
       "    <tr>\n",
       "      <th>8</th>\n",
       "      <td>09/04/2015</td>\n",
       "      <td>Payday loan</td>\n",
       "      <td>Can't stop charges to bank account</td>\n",
       "      <td>Can't stop charges to bank account</td>\n",
       "      <td>I took out a loan from this company, just afte...</td>\n",
       "      <td>Company believes it acted appropriately as aut...</td>\n",
       "      <td>Bliksum, LLC</td>\n",
       "      <td>SC</td>\n",
       "      <td>297XX</td>\n",
       "      <td>None</td>\n",
       "      <td>Consent provided</td>\n",
       "      <td>Web</td>\n",
       "      <td>09/08/2015</td>\n",
       "      <td>Closed with explanation</td>\n",
       "      <td>Yes</td>\n",
       "      <td>No</td>\n",
       "      <td>1552107</td>\n",
       "    </tr>\n",
       "    <tr>\n",
       "      <th>9</th>\n",
       "      <td>03/03/2016</td>\n",
       "      <td>Conventional fixed mortgage</td>\n",
       "      <td>Loan servicing, payments, escrow account</td>\n",
       "      <td>None</td>\n",
       "      <td>In 2010, I declared bankruptcy. My mortgage wi...</td>\n",
       "      <td>Company has responded to the consumer and the ...</td>\n",
       "      <td>Wells Fargo &amp; Company</td>\n",
       "      <td>CA</td>\n",
       "      <td>954XX</td>\n",
       "      <td>None</td>\n",
       "      <td>Consent provided</td>\n",
       "      <td>Web</td>\n",
       "      <td>03/03/2016</td>\n",
       "      <td>Closed with explanation</td>\n",
       "      <td>Yes</td>\n",
       "      <td>Yes</td>\n",
       "      <td>1812417</td>\n",
       "    </tr>\n",
       "  </tbody>\n",
       "</table>\n",
       "</div>"
      ],
      "text/plain": [
       "  date_received                            sub_product  \\\n",
       "0    11/18/2015                           FHA mortgage   \n",
       "1    09/03/2015     Home equity loan or line of credit   \n",
       "2    07/12/2015                                Medical   \n",
       "3    07/03/2015  Other (i.e. phone, health club, etc.)   \n",
       "4    12/10/2015                            Credit card   \n",
       "5    08/28/2015                           Vehicle loan   \n",
       "6    08/12/2015                         Other mortgage   \n",
       "7    04/06/2016                                   None   \n",
       "8    09/04/2015                            Payday loan   \n",
       "9    03/03/2016            Conventional fixed mortgage   \n",
       "\n",
       "                                      issue  \\\n",
       "0  Loan modification,collection,foreclosure   \n",
       "1  Application, originator, mortgage broker   \n",
       "2     Cont'd attempts collect debt not owed   \n",
       "3        False statements or representation   \n",
       "4                     Communication tactics   \n",
       "5              Taking out the loan or lease   \n",
       "6  Loan modification,collection,foreclosure   \n",
       "7                                  Late fee   \n",
       "8        Can't stop charges to bank account   \n",
       "9  Loan servicing, payments, escrow account   \n",
       "\n",
       "                            sub_issue  \\\n",
       "0                                None   \n",
       "1                                None   \n",
       "2                    Debt is not mine   \n",
       "3   Attempted to collect wrong amount   \n",
       "4          Frequent or repeated calls   \n",
       "5                                None   \n",
       "6                                None   \n",
       "7                                None   \n",
       "8  Can't stop charges to bank account   \n",
       "9                                None   \n",
       "\n",
       "                        consumer_complaint_narrative  \\\n",
       "0  I bought a house in XXXX XXXX in XXXX. It was ...   \n",
       "1  XX/XX/XXXX my husband and I took an equity lin...   \n",
       "2  Dear sir/madam, I want ESCALLATE to remove the...   \n",
       "3  I had XXXX Alliance One Accounts on my credit ...   \n",
       "4  Portfolio Recovery continues to contact me and...   \n",
       "5  From my experience with DriveTime, there was a...   \n",
       "6  An Affidavit of Truth Final Opportunity To Cur...   \n",
       "7  We used a Home Depot credit card with a 6 mont...   \n",
       "8  I took out a loan from this company, just afte...   \n",
       "9  In 2010, I declared bankruptcy. My mortgage wi...   \n",
       "\n",
       "                             company_public_response  \\\n",
       "0   Company chooses not to provide a public response   \n",
       "1   Company chooses not to provide a public response   \n",
       "2   Company chooses not to provide a public response   \n",
       "3                                               None   \n",
       "4                                               None   \n",
       "5   Company chooses not to provide a public response   \n",
       "6   Company chooses not to provide a public response   \n",
       "7  Company has responded to the consumer and the ...   \n",
       "8  Company believes it acted appropriately as aut...   \n",
       "9  Company has responded to the consumer and the ...   \n",
       "\n",
       "                               company state zipcode           tags  \\\n",
       "0                      Bank of America    CA   935XX           None   \n",
       "1                      Bank of America    PA   189XX           None   \n",
       "2                       Escallate, LLC    IL   604XX           None   \n",
       "3   AllianceOne Recievables Management    WA   981XX           None   \n",
       "4  Portfolio Recovery Associates, Inc.    MD   214XX           None   \n",
       "5                            DriveTime    NC   282XX           None   \n",
       "6       Specialized Loan Servicing LLC    MD   207XX  Servicemember   \n",
       "7                             Citibank    MN   566XX           None   \n",
       "8                         Bliksum, LLC    SC   297XX           None   \n",
       "9                Wells Fargo & Company    CA   954XX           None   \n",
       "\n",
       "  consumer_consent_provided submitted_via date_sent_to_company  \\\n",
       "0          Consent provided           Web           11/18/2015   \n",
       "1          Consent provided           Web           09/03/2015   \n",
       "2          Consent provided           Web           07/12/2015   \n",
       "3          Consent provided           Web           07/03/2015   \n",
       "4          Consent provided           Web           12/10/2015   \n",
       "5          Consent provided           Web           08/28/2015   \n",
       "6          Consent provided           Web           08/12/2015   \n",
       "7          Consent provided           Web           04/06/2016   \n",
       "8          Consent provided           Web           09/08/2015   \n",
       "9          Consent provided           Web           03/03/2016   \n",
       "\n",
       "      company_response_to_consumer timely_response consumer_disputed?  \\\n",
       "0          Closed with explanation             Yes                 No   \n",
       "1          Closed with explanation             Yes                 No   \n",
       "2                           Closed             Yes                Yes   \n",
       "3          Closed with explanation             Yes                 No   \n",
       "4  Closed with non-monetary relief             Yes                 No   \n",
       "5          Closed with explanation             Yes                Yes   \n",
       "6          Closed with explanation             Yes                 No   \n",
       "7      Closed with monetary relief             Yes                 No   \n",
       "8          Closed with explanation             Yes                 No   \n",
       "9          Closed with explanation             Yes                Yes   \n",
       "\n",
       "   complaint_id  \n",
       "0       1662008  \n",
       "1       1551463  \n",
       "2       1463692  \n",
       "3       1451082  \n",
       "4       1691577  \n",
       "5       1541730  \n",
       "6       1516435  \n",
       "7       1867949  \n",
       "8       1552107  \n",
       "9       1812417  "
      ]
     },
     "execution_count": 3,
     "metadata": {},
     "output_type": "execute_result"
    }
   ],
   "source": [
    "data = pd.read_parquet('./input/dataframes/df_val.parquet')\n",
    "data.head(10)"
   ]
  },
  {
   "cell_type": "code",
   "execution_count": 4,
   "id": "548a4fde",
   "metadata": {},
   "outputs": [],
   "source": [
    "df_val = data.copy()"
   ]
  },
  {
   "cell_type": "code",
   "execution_count": 5,
   "id": "b5cd5ff4",
   "metadata": {},
   "outputs": [
    {
     "name": "stdout",
     "output_type": "stream",
     "text": [
      "<class 'pandas.core.frame.DataFrame'>\n",
      "RangeIndex: 14029 entries, 0 to 14028\n",
      "Data columns (total 17 columns):\n",
      " #   Column                        Non-Null Count  Dtype \n",
      "---  ------                        --------------  ----- \n",
      " 0   date_received                 14029 non-null  object\n",
      " 1   sub_product                   9734 non-null   object\n",
      " 2   issue                         14029 non-null  object\n",
      " 3   sub_issue                     6916 non-null   object\n",
      " 4   consumer_complaint_narrative  14029 non-null  object\n",
      " 5   company_public_response       6879 non-null   object\n",
      " 6   company                       14029 non-null  object\n",
      " 7   state                         13993 non-null  object\n",
      " 8   zipcode                       13993 non-null  object\n",
      " 9   tags                          2427 non-null   object\n",
      " 10  consumer_consent_provided     14029 non-null  object\n",
      " 11  submitted_via                 14029 non-null  object\n",
      " 12  date_sent_to_company          14029 non-null  object\n",
      " 13  company_response_to_consumer  14029 non-null  object\n",
      " 14  timely_response               14029 non-null  object\n",
      " 15  consumer_disputed?            14029 non-null  object\n",
      " 16  complaint_id                  14029 non-null  int64 \n",
      "dtypes: int64(1), object(16)\n",
      "memory usage: 1.8+ MB\n"
     ]
    }
   ],
   "source": [
    "df_val.info()"
   ]
  },
  {
   "cell_type": "code",
   "execution_count": 6,
   "id": "00de20b0",
   "metadata": {},
   "outputs": [
    {
     "data": {
      "text/plain": [
       "(14029, 17)"
      ]
     },
     "execution_count": 6,
     "metadata": {},
     "output_type": "execute_result"
    }
   ],
   "source": [
    "df_val.shape"
   ]
  },
  {
   "attachments": {},
   "cell_type": "markdown",
   "id": "601337c9",
   "metadata": {},
   "source": [
    "## Drop univariate and unneeded variables"
   ]
  },
  {
   "cell_type": "code",
   "execution_count": 7,
   "id": "ebca37d9",
   "metadata": {},
   "outputs": [],
   "source": [
    "df_val = df_val.drop(['consumer_consent_provided', 'submitted_via', 'complaint_id'], axis=1)"
   ]
  },
  {
   "cell_type": "code",
   "execution_count": 8,
   "id": "0955d3b0",
   "metadata": {},
   "outputs": [
    {
     "name": "stdout",
     "output_type": "stream",
     "text": [
      "<class 'pandas.core.frame.DataFrame'>\n",
      "RangeIndex: 14029 entries, 0 to 14028\n",
      "Data columns (total 14 columns):\n",
      " #   Column                        Non-Null Count  Dtype \n",
      "---  ------                        --------------  ----- \n",
      " 0   date_received                 14029 non-null  object\n",
      " 1   sub_product                   9734 non-null   object\n",
      " 2   issue                         14029 non-null  object\n",
      " 3   sub_issue                     6916 non-null   object\n",
      " 4   consumer_complaint_narrative  14029 non-null  object\n",
      " 5   company_public_response       6879 non-null   object\n",
      " 6   company                       14029 non-null  object\n",
      " 7   state                         13993 non-null  object\n",
      " 8   zipcode                       13993 non-null  object\n",
      " 9   tags                          2427 non-null   object\n",
      " 10  date_sent_to_company          14029 non-null  object\n",
      " 11  company_response_to_consumer  14029 non-null  object\n",
      " 12  timely_response               14029 non-null  object\n",
      " 13  consumer_disputed?            14029 non-null  object\n",
      "dtypes: object(14)\n",
      "memory usage: 1.5+ MB\n"
     ]
    }
   ],
   "source": [
    "df_val.info()"
   ]
  },
  {
   "cell_type": "code",
   "execution_count": 9,
   "id": "3748f4f5",
   "metadata": {},
   "outputs": [
    {
     "data": {
      "text/html": [
       "<div>\n",
       "<style scoped>\n",
       "    .dataframe tbody tr th:only-of-type {\n",
       "        vertical-align: middle;\n",
       "    }\n",
       "\n",
       "    .dataframe tbody tr th {\n",
       "        vertical-align: top;\n",
       "    }\n",
       "\n",
       "    .dataframe thead th {\n",
       "        text-align: right;\n",
       "    }\n",
       "</style>\n",
       "<table border=\"1\" class=\"dataframe\">\n",
       "  <thead>\n",
       "    <tr style=\"text-align: right;\">\n",
       "      <th></th>\n",
       "      <th>date_received</th>\n",
       "      <th>sub_product</th>\n",
       "      <th>issue</th>\n",
       "      <th>sub_issue</th>\n",
       "      <th>consumer_complaint_narrative</th>\n",
       "      <th>company_public_response</th>\n",
       "      <th>company</th>\n",
       "      <th>state</th>\n",
       "      <th>zipcode</th>\n",
       "      <th>tags</th>\n",
       "      <th>date_sent_to_company</th>\n",
       "      <th>company_response_to_consumer</th>\n",
       "      <th>timely_response</th>\n",
       "      <th>consumer_disputed?</th>\n",
       "    </tr>\n",
       "  </thead>\n",
       "  <tbody>\n",
       "    <tr>\n",
       "      <th>0</th>\n",
       "      <td>11/18/2015</td>\n",
       "      <td>FHA mortgage</td>\n",
       "      <td>Loan modification,collection,foreclosure</td>\n",
       "      <td>None</td>\n",
       "      <td>I bought a house in XXXX XXXX in XXXX. It was ...</td>\n",
       "      <td>Company chooses not to provide a public response</td>\n",
       "      <td>Bank of America</td>\n",
       "      <td>CA</td>\n",
       "      <td>935XX</td>\n",
       "      <td>None</td>\n",
       "      <td>11/18/2015</td>\n",
       "      <td>Closed with explanation</td>\n",
       "      <td>Yes</td>\n",
       "      <td>No</td>\n",
       "    </tr>\n",
       "    <tr>\n",
       "      <th>1</th>\n",
       "      <td>09/03/2015</td>\n",
       "      <td>Home equity loan or line of credit</td>\n",
       "      <td>Application, originator, mortgage broker</td>\n",
       "      <td>None</td>\n",
       "      <td>XX/XX/XXXX my husband and I took an equity lin...</td>\n",
       "      <td>Company chooses not to provide a public response</td>\n",
       "      <td>Bank of America</td>\n",
       "      <td>PA</td>\n",
       "      <td>189XX</td>\n",
       "      <td>None</td>\n",
       "      <td>09/03/2015</td>\n",
       "      <td>Closed with explanation</td>\n",
       "      <td>Yes</td>\n",
       "      <td>No</td>\n",
       "    </tr>\n",
       "    <tr>\n",
       "      <th>2</th>\n",
       "      <td>07/12/2015</td>\n",
       "      <td>Medical</td>\n",
       "      <td>Cont'd attempts collect debt not owed</td>\n",
       "      <td>Debt is not mine</td>\n",
       "      <td>Dear sir/madam, I want ESCALLATE to remove the...</td>\n",
       "      <td>Company chooses not to provide a public response</td>\n",
       "      <td>Escallate, LLC</td>\n",
       "      <td>IL</td>\n",
       "      <td>604XX</td>\n",
       "      <td>None</td>\n",
       "      <td>07/12/2015</td>\n",
       "      <td>Closed</td>\n",
       "      <td>Yes</td>\n",
       "      <td>Yes</td>\n",
       "    </tr>\n",
       "  </tbody>\n",
       "</table>\n",
       "</div>"
      ],
      "text/plain": [
       "  date_received                         sub_product  \\\n",
       "0    11/18/2015                        FHA mortgage   \n",
       "1    09/03/2015  Home equity loan or line of credit   \n",
       "2    07/12/2015                             Medical   \n",
       "\n",
       "                                      issue         sub_issue  \\\n",
       "0  Loan modification,collection,foreclosure              None   \n",
       "1  Application, originator, mortgage broker              None   \n",
       "2     Cont'd attempts collect debt not owed  Debt is not mine   \n",
       "\n",
       "                        consumer_complaint_narrative  \\\n",
       "0  I bought a house in XXXX XXXX in XXXX. It was ...   \n",
       "1  XX/XX/XXXX my husband and I took an equity lin...   \n",
       "2  Dear sir/madam, I want ESCALLATE to remove the...   \n",
       "\n",
       "                            company_public_response          company state  \\\n",
       "0  Company chooses not to provide a public response  Bank of America    CA   \n",
       "1  Company chooses not to provide a public response  Bank of America    PA   \n",
       "2  Company chooses not to provide a public response   Escallate, LLC    IL   \n",
       "\n",
       "  zipcode  tags date_sent_to_company company_response_to_consumer  \\\n",
       "0   935XX  None           11/18/2015      Closed with explanation   \n",
       "1   189XX  None           09/03/2015      Closed with explanation   \n",
       "2   604XX  None           07/12/2015                       Closed   \n",
       "\n",
       "  timely_response consumer_disputed?  \n",
       "0             Yes                 No  \n",
       "1             Yes                 No  \n",
       "2             Yes                Yes  "
      ]
     },
     "execution_count": 9,
     "metadata": {},
     "output_type": "execute_result"
    }
   ],
   "source": [
    "df_val.head(3)"
   ]
  },
  {
   "attachments": {},
   "cell_type": "markdown",
   "id": "f3378bec",
   "metadata": {},
   "source": [
    "## Explore target value and transform with LabelEncoder"
   ]
  },
  {
   "cell_type": "code",
   "execution_count": 10,
   "id": "ac00a438",
   "metadata": {},
   "outputs": [
    {
     "data": {
      "text/html": [
       "<div>\n",
       "<style scoped>\n",
       "    .dataframe tbody tr th:only-of-type {\n",
       "        vertical-align: middle;\n",
       "    }\n",
       "\n",
       "    .dataframe tbody tr th {\n",
       "        vertical-align: top;\n",
       "    }\n",
       "\n",
       "    .dataframe thead th {\n",
       "        text-align: right;\n",
       "    }\n",
       "</style>\n",
       "<table border=\"1\" class=\"dataframe\">\n",
       "  <thead>\n",
       "    <tr style=\"text-align: right;\">\n",
       "      <th></th>\n",
       "      <th>product</th>\n",
       "    </tr>\n",
       "  </thead>\n",
       "  <tbody>\n",
       "    <tr>\n",
       "      <th>0</th>\n",
       "      <td>Mortgage</td>\n",
       "    </tr>\n",
       "    <tr>\n",
       "      <th>1</th>\n",
       "      <td>Mortgage</td>\n",
       "    </tr>\n",
       "    <tr>\n",
       "      <th>2</th>\n",
       "      <td>Debt collection</td>\n",
       "    </tr>\n",
       "    <tr>\n",
       "      <th>3</th>\n",
       "      <td>Debt collection</td>\n",
       "    </tr>\n",
       "    <tr>\n",
       "      <th>4</th>\n",
       "      <td>Debt collection</td>\n",
       "    </tr>\n",
       "  </tbody>\n",
       "</table>\n",
       "</div>"
      ],
      "text/plain": [
       "           product\n",
       "0         Mortgage\n",
       "1         Mortgage\n",
       "2  Debt collection\n",
       "3  Debt collection\n",
       "4  Debt collection"
      ]
     },
     "execution_count": 10,
     "metadata": {},
     "output_type": "execute_result"
    }
   ],
   "source": [
    "y_val = pd.read_parquet('./input/y_targets/y_val.parquet')\n",
    "y_val.head()"
   ]
  },
  {
   "cell_type": "code",
   "execution_count": 11,
   "id": "cfa07370",
   "metadata": {},
   "outputs": [
    {
     "name": "stdout",
     "output_type": "stream",
     "text": [
      "Debt collection            3686\n",
      "Mortgage                   3133\n",
      "Credit reporting           2630\n",
      "Credit card                1665\n",
      "Bank account or service    1199\n",
      "Consumer Loan               772\n",
      "Student loan                447\n",
      "Prepaid card                181\n",
      "Payday loan                 153\n",
      "Money transfers             140\n",
      "Other financial service      23\n",
      "Name: product, dtype: int64\n"
     ]
    }
   ],
   "source": [
    "product_val = y_val['product'].value_counts()\n",
    "print(product_val)"
   ]
  },
  {
   "cell_type": "code",
   "execution_count": 12,
   "id": "a649dd10",
   "metadata": {
    "scrolled": false
   },
   "outputs": [
    {
     "data": {
      "image/png": "[encoded data removed]",
      "text/plain": [
       "<Figure size 1200x400 with 1 Axes>"
      ]
     },
     "metadata": {},
     "output_type": "display_data"
    }
   ],
   "source": [
    "plt.figure(figsize=(12,4))\n",
    "sns.barplot(x=product_val.index, y=product_val.values, alpha=0.8) \n",
    "plt.title('Validation Data Target')\n",
    "plt.ylabel('Number of Occurrences', fontsize=12)\n",
    "plt.xlabel('Product', fontsize=12)\n",
    "plt.xticks(rotation=30)\n",
    "plt.show()"
   ]
  },
  {
   "cell_type": "code",
   "execution_count": 13,
   "id": "357d8295",
   "metadata": {},
   "outputs": [],
   "source": [
    "y_val['label'] = LabelEncoder().fit_transform(y_val['product'])"
   ]
  },
  {
   "cell_type": "code",
   "execution_count": 14,
   "id": "f97de5bc",
   "metadata": {},
   "outputs": [],
   "source": [
    "y_val_LE = y_val.drop(['product'], axis=1)"
   ]
  },
  {
   "cell_type": "code",
   "execution_count": 15,
   "id": "691c282d",
   "metadata": {},
   "outputs": [
    {
     "name": "stdout",
     "output_type": "stream",
     "text": [
      "<class 'pandas.core.frame.DataFrame'>\n",
      "RangeIndex: 14029 entries, 0 to 14028\n",
      "Data columns (total 1 columns):\n",
      " #   Column  Non-Null Count  Dtype\n",
      "---  ------  --------------  -----\n",
      " 0   label   14029 non-null  int32\n",
      "dtypes: int32(1)\n",
      "memory usage: 54.9 KB\n"
     ]
    }
   ],
   "source": [
    "y_val_LE.info()"
   ]
  },
  {
   "cell_type": "code",
   "execution_count": 16,
   "id": "9f8396c4",
   "metadata": {},
   "outputs": [],
   "source": [
    "# Save label-encoded target labels\n",
    "y_val_LE.to_parquet('./input/y_targets/y_val_LE.parquet')"
   ]
  },
  {
   "cell_type": "code",
   "execution_count": 17,
   "id": "779498b9",
   "metadata": {},
   "outputs": [],
   "source": [
    "# Drop original and label-encoded target dataframes from memory to mitigate potential data leakage\n",
    "y_list = [y_val, y_val_LE]\n",
    "del y_val, y_val_LE\n",
    "del y_list"
   ]
  },
  {
   "attachments": {},
   "cell_type": "markdown",
   "id": "66f7f92d",
   "metadata": {},
   "source": [
    "## Convert date values with datetime and create new feature for time between date_received and date_sent_to_company "
   ]
  },
  {
   "cell_type": "code",
   "execution_count": 18,
   "id": "0750a567",
   "metadata": {},
   "outputs": [],
   "source": [
    "# Vectorized operation to convert date string to datetime object\n",
    "# \"exact=False\" argument used because of errant whitespaces (i.e. /n)\n",
    "df_val['date_received'] = np.where(\n",
    "    pd.isna(df_val['date_received']) == False,\n",
    "    pd.to_datetime(df_val['date_received'], format='%m/%d/%Y', exact=False).dt.date,\n",
    "    None\n",
    ")"
   ]
  },
  {
   "cell_type": "code",
   "execution_count": 19,
   "id": "531eb13b",
   "metadata": {},
   "outputs": [],
   "source": [
    "# Vectorized operation to convert date string to datetime object\n",
    "# \"exact=False\" argument used because of errant whitespaces (i.e. /n)\n",
    "df_val['date_sent_to_company'] = np.where(\n",
    "    pd.isna(df_val['date_sent_to_company']) == False,\n",
    "    pd.to_datetime(df_val['date_sent_to_company'], format='%m/%d/%Y', exact=False).dt.date,\n",
    "    None\n",
    ")"
   ]
  },
  {
   "cell_type": "code",
   "execution_count": 20,
   "id": "f148b58e",
   "metadata": {},
   "outputs": [],
   "source": [
    "# Create new feature that is the difference in days between when a complaint was received and when it was sent to company\n",
    "df_val['days_between_receipt_and_sent'] = np.where(\n",
    "    (pd.isna(df_val['date_received']) == False) & (pd.isna(df_val['date_sent_to_company']) == False),\n",
    "    (df_val['date_sent_to_company'] - df_val['date_received']).dt.days,\n",
    "    None\n",
    ")"
   ]
  },
  {
   "cell_type": "code",
   "execution_count": 21,
   "id": "f9af0feb",
   "metadata": {},
   "outputs": [],
   "source": [
    "# Change new feature from datetime object to integer\n",
    "df_val['days_between_receipt_and_sent'] = pd.to_numeric(df_val['days_between_receipt_and_sent'])"
   ]
  },
  {
   "attachments": {},
   "cell_type": "markdown",
   "id": "481fdb1f",
   "metadata": {
    "notebookRunGroups": {
     "groupValue": ""
    }
   },
   "source": [
    "## Frequency encode 'sub_product' variable and add flag variables for missing/low-occurring"
   ]
  },
  {
   "cell_type": "code",
   "execution_count": 22,
   "id": "bb761bd6",
   "metadata": {},
   "outputs": [],
   "source": [
    "sub_product_freq = df_val.groupby('sub_product').size() / len(df_val)"
   ]
  },
  {
   "cell_type": "code",
   "execution_count": 23,
   "id": "d7550965",
   "metadata": {
    "notebookRunGroups": {
     "groupValue": ""
    }
   },
   "outputs": [],
   "source": [
    "# Vectorized operation to frequency encode sub_product category\n",
    "df_val['sub_product_freq'] = np.where(\n",
    "    pd.isna(df_val['sub_product']) == False,\n",
    "    df_val['sub_product'].map(sub_product_freq),\n",
    "    -1\n",
    ")"
   ]
  },
  {
   "cell_type": "code",
   "execution_count": 24,
   "id": "6aa74361",
   "metadata": {
    "notebookRunGroups": {
     "groupValue": ""
    }
   },
   "outputs": [],
   "source": [
    "# Vectorized operation to create binary flag variable for missing sub_product\n",
    "df_val['sub_product_null_flag'] = np.where(\n",
    "    pd.isna(df_val['sub_product']) == True,\n",
    "    1,\n",
    "    0\n",
    ")"
   ]
  },
  {
   "cell_type": "code",
   "execution_count": 25,
   "id": "387bf3b7",
   "metadata": {
    "notebookRunGroups": {
     "groupValue": ""
    }
   },
   "outputs": [],
   "source": [
    "# Vectorized operation to create binary flag variable for low-occuring sub_product\n",
    "df_val['sub_product_low_flag'] = np.where(\n",
    "    (df_val['sub_product_freq'] <= 0.01) & (pd.isna(df_val['sub_product']) == False),\n",
    "    1,\n",
    "    0\n",
    ")"
   ]
  },
  {
   "attachments": {},
   "cell_type": "markdown",
   "id": "481fdb1f",
   "metadata": {
    "notebookRunGroups": {
     "groupValue": ""
    }
   },
   "source": [
    "## Frequency encode 'issue' variable and add flag variable for low-occurring"
   ]
  },
  {
   "cell_type": "code",
   "execution_count": 26,
   "id": "bb761bd6",
   "metadata": {},
   "outputs": [],
   "source": [
    "issue_freq = df_val.groupby('issue').size() / len(df_val)"
   ]
  },
  {
   "cell_type": "code",
   "execution_count": 27,
   "id": "d7550965",
   "metadata": {
    "notebookRunGroups": {
     "groupValue": ""
    }
   },
   "outputs": [],
   "source": [
    "# Vectorized operation to frequency encode issue category\n",
    "df_val['issue_freq'] = np.where(\n",
    "    pd.isna(df_val['issue']) == False,\n",
    "    df_val['issue'].map(issue_freq),\n",
    "    -1\n",
    ")"
   ]
  },
  {
   "cell_type": "code",
   "execution_count": 28,
   "id": "387bf3b7",
   "metadata": {
    "notebookRunGroups": {
     "groupValue": ""
    }
   },
   "outputs": [],
   "source": [
    "# Vectorized operation to create binary flag variable for low-occuring issue\n",
    "df_val['issue_low_flag'] = np.where(\n",
    "    (df_val['issue_freq'] <= 0.01) & (pd.isna(df_val['issue']) == False),\n",
    "    1,\n",
    "    0\n",
    ")"
   ]
  },
  {
   "attachments": {},
   "cell_type": "markdown",
   "id": "481fdb1f",
   "metadata": {
    "notebookRunGroups": {
     "groupValue": ""
    }
   },
   "source": [
    "## Frequency encode 'sub_issue' variable and add flag variables for missing/low-occurring"
   ]
  },
  {
   "cell_type": "code",
   "execution_count": 29,
   "id": "bb761bd6",
   "metadata": {},
   "outputs": [],
   "source": [
    "sub_issue_freq = df_val.groupby('sub_issue').size() / len(df_val)"
   ]
  },
  {
   "cell_type": "code",
   "execution_count": 30,
   "id": "d7550965",
   "metadata": {
    "notebookRunGroups": {
     "groupValue": ""
    }
   },
   "outputs": [],
   "source": [
    "# Vectorized operation to frequency encode sub_issue category\n",
    "df_val['sub_issue_freq'] = np.where(\n",
    "    pd.isna(df_val['sub_issue']) == False,\n",
    "    df_val['sub_issue'].map(sub_issue_freq),\n",
    "    -1\n",
    ")"
   ]
  },
  {
   "cell_type": "code",
   "execution_count": 31,
   "id": "6aa74361",
   "metadata": {
    "notebookRunGroups": {
     "groupValue": ""
    }
   },
   "outputs": [],
   "source": [
    "# Vectorized operation to create binary flag variable for missing sub_issue\n",
    "df_val['sub_issue_null_flag'] = np.where(\n",
    "    pd.isna(df_val['sub_issue']) == True,\n",
    "    1,\n",
    "    0\n",
    ")"
   ]
  },
  {
   "cell_type": "code",
   "execution_count": 32,
   "id": "387bf3b7",
   "metadata": {
    "notebookRunGroups": {
     "groupValue": ""
    }
   },
   "outputs": [],
   "source": [
    "# Vectorized operation to create binary flag variable for low-occuring sub_issue\n",
    "df_val['sub_issue_low_flag'] = np.where(\n",
    "    (df_val['sub_issue_freq'] <= 0.01) & (pd.isna(df_val['sub_issue']) == False),\n",
    "    1,\n",
    "    0\n",
    ")"
   ]
  },
  {
   "attachments": {},
   "cell_type": "markdown",
   "id": "481fdb1f",
   "metadata": {
    "notebookRunGroups": {
     "groupValue": ""
    }
   },
   "source": [
    "## Frequency encode 'company_public_response' variable and add flag variables for missing/low-occurring"
   ]
  },
  {
   "cell_type": "code",
   "execution_count": 33,
   "id": "bb761bd6",
   "metadata": {},
   "outputs": [],
   "source": [
    "company_public_response_freq = df_val.groupby('company_public_response').size() / len(df_val)"
   ]
  },
  {
   "cell_type": "code",
   "execution_count": 34,
   "id": "d7550965",
   "metadata": {
    "notebookRunGroups": {
     "groupValue": ""
    }
   },
   "outputs": [],
   "source": [
    "# Vectorized operation to frequency encode company_public_response category\n",
    "df_val['company_public_response_freq'] = np.where(\n",
    "    pd.isna(df_val['company_public_response']) == False,\n",
    "    df_val['company_public_response'].map(company_public_response_freq),\n",
    "    -1\n",
    ")"
   ]
  },
  {
   "cell_type": "code",
   "execution_count": 35,
   "id": "6aa74361",
   "metadata": {
    "notebookRunGroups": {
     "groupValue": ""
    }
   },
   "outputs": [],
   "source": [
    "# Vectorized operation to create binary flag variable for missing company_public_response\n",
    "df_val['company_public_response_null_flag'] = np.where(\n",
    "    pd.isna(df_val['company_public_response']) == True,\n",
    "    1,\n",
    "    0\n",
    ")"
   ]
  },
  {
   "cell_type": "code",
   "execution_count": 36,
   "id": "387bf3b7",
   "metadata": {
    "notebookRunGroups": {
     "groupValue": ""
    }
   },
   "outputs": [],
   "source": [
    "# Vectorized operation to create binary flag variable for low-occuring company_public_response\n",
    "df_val['company_public_response_low_flag'] = np.where(\n",
    "    (df_val['company_public_response_freq'] <= 0.01) & (pd.isna(df_val['company_public_response']) == False),\n",
    "    1,\n",
    "    0\n",
    ")"
   ]
  },
  {
   "attachments": {},
   "cell_type": "markdown",
   "id": "481fdb1f",
   "metadata": {
    "notebookRunGroups": {
     "groupValue": ""
    }
   },
   "source": [
    "## Frequency encode 'company' variable and add flag variable for low-occurring"
   ]
  },
  {
   "cell_type": "code",
   "execution_count": 37,
   "id": "bb761bd6",
   "metadata": {},
   "outputs": [],
   "source": [
    "company_freq = df_val.groupby('company').size() / len(df_val)"
   ]
  },
  {
   "cell_type": "code",
   "execution_count": 38,
   "id": "d7550965",
   "metadata": {
    "notebookRunGroups": {
     "groupValue": ""
    }
   },
   "outputs": [],
   "source": [
    "# Vectorized operation to frequency encode company category\n",
    "df_val['company_freq'] = np.where(\n",
    "    pd.isna(df_val['company']) == False,\n",
    "    df_val['company'].map(company_freq),\n",
    "    -1\n",
    ")"
   ]
  },
  {
   "cell_type": "code",
   "execution_count": 39,
   "id": "387bf3b7",
   "metadata": {
    "notebookRunGroups": {
     "groupValue": ""
    }
   },
   "outputs": [],
   "source": [
    "# Vectorized operation to create binary flag variable for low-occuring company\n",
    "df_val['company_low_flag'] = np.where(\n",
    "    (df_val['company_freq'] <= 0.01) & (pd.isna(df_val['company']) == False),\n",
    "    1,\n",
    "    0\n",
    ")"
   ]
  },
  {
   "cell_type": "markdown",
   "id": "bc0504f8",
   "metadata": {},
   "source": [
    "## Frequency encode 'state' variable and add flag variables for missing/low-occurring"
   ]
  },
  {
   "cell_type": "code",
   "execution_count": 40,
   "id": "bb761bd6",
   "metadata": {},
   "outputs": [],
   "source": [
    "state_freq = df_val.groupby('state').size() / len(df_val)"
   ]
  },
  {
   "cell_type": "code",
   "execution_count": 41,
   "id": "d7550965",
   "metadata": {
    "notebookRunGroups": {
     "groupValue": ""
    }
   },
   "outputs": [],
   "source": [
    "# Vectorized operation to frequency encode state category\n",
    "df_val['state_freq'] = np.where(\n",
    "    pd.isna(df_val['state']) == False,\n",
    "    df_val['state'].map(state_freq),\n",
    "    -1\n",
    ")"
   ]
  },
  {
   "cell_type": "code",
   "execution_count": 42,
   "id": "6aa74361",
   "metadata": {
    "notebookRunGroups": {
     "groupValue": ""
    }
   },
   "outputs": [],
   "source": [
    "# Vectorized operation to create binary flag variable for missing state\n",
    "df_val['state_null_flag'] = np.where(\n",
    "    pd.isna(df_val['state']) == True,\n",
    "    1,\n",
    "    0\n",
    ")"
   ]
  },
  {
   "cell_type": "code",
   "execution_count": 43,
   "id": "387bf3b7",
   "metadata": {
    "notebookRunGroups": {
     "groupValue": ""
    }
   },
   "outputs": [],
   "source": [
    "# Vectorized operation to create binary flag variable for low-occuring state\n",
    "df_val['state_low_flag'] = np.where(\n",
    "    (df_val['state_freq'] <= 0.01) & (pd.isna(df_val['state']) == False),\n",
    "    1,\n",
    "    0\n",
    ")"
   ]
  },
  {
   "attachments": {},
   "cell_type": "markdown",
   "id": "481fdb1f",
   "metadata": {
    "notebookRunGroups": {
     "groupValue": ""
    }
   },
   "source": [
    "## Frequency encode 'zipcode' variable and add flag variables for missing/low-occurring"
   ]
  },
  {
   "cell_type": "code",
   "execution_count": 44,
   "id": "bb761bd6",
   "metadata": {},
   "outputs": [],
   "source": [
    "zipcode_freq = df_val.groupby('zipcode').size() / len(df_val)"
   ]
  },
  {
   "cell_type": "code",
   "execution_count": 45,
   "id": "d7550965",
   "metadata": {
    "notebookRunGroups": {
     "groupValue": ""
    }
   },
   "outputs": [],
   "source": [
    "# Vectorized operation to frequency encode zipcode category\n",
    "df_val['zipcode_freq'] = np.where(\n",
    "    pd.isna(df_val['zipcode']) == False,\n",
    "    df_val['zipcode'].map(zipcode_freq),\n",
    "    -1\n",
    ")"
   ]
  },
  {
   "cell_type": "code",
   "execution_count": 46,
   "id": "6aa74361",
   "metadata": {
    "notebookRunGroups": {
     "groupValue": ""
    }
   },
   "outputs": [],
   "source": [
    "# Vectorized operation to create binary flag variable for missing zipcode\n",
    "df_val['zipcode_null_flag'] = np.where(\n",
    "    pd.isna(df_val['zipcode']) == True,\n",
    "    1,\n",
    "    0\n",
    ")"
   ]
  },
  {
   "cell_type": "code",
   "execution_count": 47,
   "id": "387bf3b7",
   "metadata": {
    "notebookRunGroups": {
     "groupValue": ""
    }
   },
   "outputs": [],
   "source": [
    "# Vectorized operation to create binary flag variable for low-occuring zipcode\n",
    "df_val['zipcode_low_flag'] = np.where(\n",
    "    (df_val['zipcode_freq'] <= 0.001) & (pd.isna(df_val['zipcode']) == False), # change from 0.01 to 0.001 since zips are all fairly low-occurring\n",
    "    1,\n",
    "    0\n",
    ")"
   ]
  },
  {
   "attachments": {},
   "cell_type": "markdown",
   "id": "188b5a0c",
   "metadata": {},
   "source": [
    "## One-hot encode 'tags' variable but change nulls to \"Not Older American, Not Servicemember\" first"
   ]
  },
  {
   "cell_type": "code",
   "execution_count": 48,
   "id": "7260e79b",
   "metadata": {
    "notebookRunGroups": {
     "groupValue": ""
    }
   },
   "outputs": [],
   "source": [
    "df_val['tags'].fillna(\"Not Older American, Not Servicemember\", inplace=True)"
   ]
  },
  {
   "cell_type": "code",
   "execution_count": 49,
   "id": "ae8ae4c1",
   "metadata": {},
   "outputs": [
    {
     "data": {
      "text/plain": [
       "Not Older American, Not Servicemember    11602\n",
       "Older American                            1278\n",
       "Servicemember                              964\n",
       "Older American, Servicemember              185\n",
       "Name: tags, dtype: int64"
      ]
     },
     "execution_count": 49,
     "metadata": {},
     "output_type": "execute_result"
    }
   ],
   "source": [
    "df_val['tags'].value_counts()"
   ]
  },
  {
   "cell_type": "code",
   "execution_count": 50,
   "id": "7c6f1b30",
   "metadata": {},
   "outputs": [],
   "source": [
    "OH_encoder = OneHotEncoder(dtype='int')\n",
    "tags_df_val = pd.DataFrame(OH_encoder.fit_transform(df_val[['tags']]).toarray(), columns=OH_encoder.categories_[0])"
   ]
  },
  {
   "cell_type": "code",
   "execution_count": 51,
   "id": "29ebd70f",
   "metadata": {},
   "outputs": [
    {
     "data": {
      "text/html": [
       "<div>\n",
       "<style scoped>\n",
       "    .dataframe tbody tr th:only-of-type {\n",
       "        vertical-align: middle;\n",
       "    }\n",
       "\n",
       "    .dataframe tbody tr th {\n",
       "        vertical-align: top;\n",
       "    }\n",
       "\n",
       "    .dataframe thead th {\n",
       "        text-align: right;\n",
       "    }\n",
       "</style>\n",
       "<table border=\"1\" class=\"dataframe\">\n",
       "  <thead>\n",
       "    <tr style=\"text-align: right;\">\n",
       "      <th></th>\n",
       "      <th>Not Older American, Not Servicemember</th>\n",
       "      <th>Older American</th>\n",
       "      <th>Older American, Servicemember</th>\n",
       "      <th>Servicemember</th>\n",
       "    </tr>\n",
       "  </thead>\n",
       "  <tbody>\n",
       "    <tr>\n",
       "      <th>0</th>\n",
       "      <td>1</td>\n",
       "      <td>0</td>\n",
       "      <td>0</td>\n",
       "      <td>0</td>\n",
       "    </tr>\n",
       "    <tr>\n",
       "      <th>1</th>\n",
       "      <td>1</td>\n",
       "      <td>0</td>\n",
       "      <td>0</td>\n",
       "      <td>0</td>\n",
       "    </tr>\n",
       "    <tr>\n",
       "      <th>2</th>\n",
       "      <td>1</td>\n",
       "      <td>0</td>\n",
       "      <td>0</td>\n",
       "      <td>0</td>\n",
       "    </tr>\n",
       "    <tr>\n",
       "      <th>3</th>\n",
       "      <td>1</td>\n",
       "      <td>0</td>\n",
       "      <td>0</td>\n",
       "      <td>0</td>\n",
       "    </tr>\n",
       "    <tr>\n",
       "      <th>4</th>\n",
       "      <td>1</td>\n",
       "      <td>0</td>\n",
       "      <td>0</td>\n",
       "      <td>0</td>\n",
       "    </tr>\n",
       "  </tbody>\n",
       "</table>\n",
       "</div>"
      ],
      "text/plain": [
       "   Not Older American, Not Servicemember  Older American  \\\n",
       "0                                      1               0   \n",
       "1                                      1               0   \n",
       "2                                      1               0   \n",
       "3                                      1               0   \n",
       "4                                      1               0   \n",
       "\n",
       "   Older American, Servicemember  Servicemember  \n",
       "0                              0              0  \n",
       "1                              0              0  \n",
       "2                              0              0  \n",
       "3                              0              0  \n",
       "4                              0              0  "
      ]
     },
     "execution_count": 51,
     "metadata": {},
     "output_type": "execute_result"
    }
   ],
   "source": [
    "tags_df_val.head()"
   ]
  },
  {
   "cell_type": "code",
   "execution_count": 52,
   "id": "b9853ce5",
   "metadata": {},
   "outputs": [],
   "source": [
    "df_val = df_val.join(tags_df_val)"
   ]
  },
  {
   "attachments": {},
   "cell_type": "markdown",
   "id": "383fc713",
   "metadata": {},
   "source": [
    "## One-hot encode 'company_response_to_consumer' variable"
   ]
  },
  {
   "cell_type": "code",
   "execution_count": 53,
   "id": "f1b68360",
   "metadata": {},
   "outputs": [
    {
     "data": {
      "text/plain": [
       "Closed with explanation            10727\n",
       "Closed with non-monetary relief     1768\n",
       "Closed with monetary relief         1062\n",
       "Closed                               357\n",
       "Untimely response                    115\n",
       "Name: company_response_to_consumer, dtype: int64"
      ]
     },
     "execution_count": 53,
     "metadata": {},
     "output_type": "execute_result"
    }
   ],
   "source": [
    "df_val['company_response_to_consumer'].value_counts()"
   ]
  },
  {
   "cell_type": "code",
   "execution_count": 54,
   "id": "2e6b2af2",
   "metadata": {},
   "outputs": [],
   "source": [
    "response_df_val = pd.DataFrame(OH_encoder.fit_transform(df_val[['company_response_to_consumer']]).toarray(), \n",
    "                    columns=OH_encoder.categories_[0])"
   ]
  },
  {
   "cell_type": "code",
   "execution_count": 55,
   "id": "f99a42e6",
   "metadata": {},
   "outputs": [
    {
     "data": {
      "text/html": [
       "<div>\n",
       "<style scoped>\n",
       "    .dataframe tbody tr th:only-of-type {\n",
       "        vertical-align: middle;\n",
       "    }\n",
       "\n",
       "    .dataframe tbody tr th {\n",
       "        vertical-align: top;\n",
       "    }\n",
       "\n",
       "    .dataframe thead th {\n",
       "        text-align: right;\n",
       "    }\n",
       "</style>\n",
       "<table border=\"1\" class=\"dataframe\">\n",
       "  <thead>\n",
       "    <tr style=\"text-align: right;\">\n",
       "      <th></th>\n",
       "      <th>Closed</th>\n",
       "      <th>Closed with explanation</th>\n",
       "      <th>Closed with monetary relief</th>\n",
       "      <th>Closed with non-monetary relief</th>\n",
       "      <th>Untimely response</th>\n",
       "    </tr>\n",
       "  </thead>\n",
       "  <tbody>\n",
       "    <tr>\n",
       "      <th>0</th>\n",
       "      <td>0</td>\n",
       "      <td>1</td>\n",
       "      <td>0</td>\n",
       "      <td>0</td>\n",
       "      <td>0</td>\n",
       "    </tr>\n",
       "    <tr>\n",
       "      <th>1</th>\n",
       "      <td>0</td>\n",
       "      <td>1</td>\n",
       "      <td>0</td>\n",
       "      <td>0</td>\n",
       "      <td>0</td>\n",
       "    </tr>\n",
       "    <tr>\n",
       "      <th>2</th>\n",
       "      <td>1</td>\n",
       "      <td>0</td>\n",
       "      <td>0</td>\n",
       "      <td>0</td>\n",
       "      <td>0</td>\n",
       "    </tr>\n",
       "    <tr>\n",
       "      <th>3</th>\n",
       "      <td>0</td>\n",
       "      <td>1</td>\n",
       "      <td>0</td>\n",
       "      <td>0</td>\n",
       "      <td>0</td>\n",
       "    </tr>\n",
       "    <tr>\n",
       "      <th>4</th>\n",
       "      <td>0</td>\n",
       "      <td>0</td>\n",
       "      <td>0</td>\n",
       "      <td>1</td>\n",
       "      <td>0</td>\n",
       "    </tr>\n",
       "  </tbody>\n",
       "</table>\n",
       "</div>"
      ],
      "text/plain": [
       "   Closed  Closed with explanation  Closed with monetary relief  \\\n",
       "0       0                        1                            0   \n",
       "1       0                        1                            0   \n",
       "2       1                        0                            0   \n",
       "3       0                        1                            0   \n",
       "4       0                        0                            0   \n",
       "\n",
       "   Closed with non-monetary relief  Untimely response  \n",
       "0                                0                  0  \n",
       "1                                0                  0  \n",
       "2                                0                  0  \n",
       "3                                0                  0  \n",
       "4                                1                  0  "
      ]
     },
     "execution_count": 55,
     "metadata": {},
     "output_type": "execute_result"
    }
   ],
   "source": [
    "response_df_val.head()"
   ]
  },
  {
   "cell_type": "code",
   "execution_count": 56,
   "id": "6162084f",
   "metadata": {},
   "outputs": [],
   "source": [
    "df_val = df_val.join(response_df_val)"
   ]
  },
  {
   "attachments": {},
   "cell_type": "markdown",
   "id": "7ade7903",
   "metadata": {},
   "source": [
    "## Binary encode 'timely_response' variable"
   ]
  },
  {
   "cell_type": "code",
   "execution_count": 57,
   "id": "a69d63b9",
   "metadata": {},
   "outputs": [
    {
     "data": {
      "text/plain": [
       "Yes    13591\n",
       "No       438\n",
       "Name: timely_response, dtype: int64"
      ]
     },
     "execution_count": 57,
     "metadata": {},
     "output_type": "execute_result"
    }
   ],
   "source": [
    "df_val['timely_response'].value_counts()"
   ]
  },
  {
   "cell_type": "code",
   "execution_count": 58,
   "id": "fc8145d3",
   "metadata": {},
   "outputs": [],
   "source": [
    "# Vectorized operation to create binary flag variable for timely_response\n",
    "df_val['timely_response'] = np.where(\n",
    "    df_val['timely_response'].str.contains('Yes'),\n",
    "    1,\n",
    "    0\n",
    ")"
   ]
  },
  {
   "cell_type": "code",
   "execution_count": 59,
   "id": "3118f258",
   "metadata": {},
   "outputs": [
    {
     "data": {
      "text/plain": [
       "1    13591\n",
       "0      438\n",
       "Name: timely_response, dtype: int64"
      ]
     },
     "execution_count": 59,
     "metadata": {},
     "output_type": "execute_result"
    }
   ],
   "source": [
    "df_val['timely_response'].value_counts()"
   ]
  },
  {
   "attachments": {},
   "cell_type": "markdown",
   "id": "4256ba41",
   "metadata": {},
   "source": [
    "## Binary encode 'consumer_disputed?' variable"
   ]
  },
  {
   "cell_type": "code",
   "execution_count": 60,
   "id": "9aca9494",
   "metadata": {},
   "outputs": [
    {
     "data": {
      "text/plain": [
       "No     10728\n",
       "Yes     3301\n",
       "Name: consumer_disputed?, dtype: int64"
      ]
     },
     "execution_count": 60,
     "metadata": {},
     "output_type": "execute_result"
    }
   ],
   "source": [
    "df_val['consumer_disputed?'].value_counts()"
   ]
  },
  {
   "cell_type": "code",
   "execution_count": 61,
   "id": "f47fd9e0",
   "metadata": {},
   "outputs": [],
   "source": [
    "# Vectorized operation to create binary flag variable for consumer_disputed?\n",
    "df_val['consumer_disputed?'] = np.where(\n",
    "    df_val['consumer_disputed?'].str.contains('Yes'), \n",
    "    1,\n",
    "    0\n",
    ")"
   ]
  },
  {
   "cell_type": "code",
   "execution_count": 62,
   "id": "fdfca35a",
   "metadata": {},
   "outputs": [
    {
     "data": {
      "text/plain": [
       "0    10728\n",
       "1     3301\n",
       "Name: consumer_disputed?, dtype: int64"
      ]
     },
     "execution_count": 62,
     "metadata": {},
     "output_type": "execute_result"
    }
   ],
   "source": [
    "df_val['consumer_disputed?'].value_counts()"
   ]
  },
  {
   "cell_type": "code",
   "execution_count": 63,
   "id": "8801f502",
   "metadata": {},
   "outputs": [
    {
     "name": "stdout",
     "output_type": "stream",
     "text": [
      "<class 'pandas.core.frame.DataFrame'>\n",
      "RangeIndex: 14029 entries, 0 to 14028\n",
      "Data columns (total 43 columns):\n",
      " #   Column                                 Non-Null Count  Dtype  \n",
      "---  ------                                 --------------  -----  \n",
      " 0   date_received                          14029 non-null  object \n",
      " 1   sub_product                            9734 non-null   object \n",
      " 2   issue                                  14029 non-null  object \n",
      " 3   sub_issue                              6916 non-null   object \n",
      " 4   consumer_complaint_narrative           14029 non-null  object \n",
      " 5   company_public_response                6879 non-null   object \n",
      " 6   company                                14029 non-null  object \n",
      " 7   state                                  13993 non-null  object \n",
      " 8   zipcode                                13993 non-null  object \n",
      " 9   tags                                   14029 non-null  object \n",
      " 10  date_sent_to_company                   14029 non-null  object \n",
      " 11  company_response_to_consumer           14029 non-null  object \n",
      " 12  timely_response                        14029 non-null  int32  \n",
      " 13  consumer_disputed?                     14029 non-null  int32  \n",
      " 14  days_between_receipt_and_sent          14029 non-null  int64  \n",
      " 15  sub_product_freq                       14029 non-null  float64\n",
      " 16  sub_product_null_flag                  14029 non-null  int32  \n",
      " 17  sub_product_low_flag                   14029 non-null  int32  \n",
      " 18  issue_freq                             14029 non-null  float64\n",
      " 19  issue_low_flag                         14029 non-null  int32  \n",
      " 20  sub_issue_freq                         14029 non-null  float64\n",
      " 21  sub_issue_null_flag                    14029 non-null  int32  \n",
      " 22  sub_issue_low_flag                     14029 non-null  int32  \n",
      " 23  company_public_response_freq           14029 non-null  float64\n",
      " 24  company_public_response_null_flag      14029 non-null  int32  \n",
      " 25  company_public_response_low_flag       14029 non-null  int32  \n",
      " 26  company_freq                           14029 non-null  float64\n",
      " 27  company_low_flag                       14029 non-null  int32  \n",
      " 28  state_freq                             14029 non-null  float64\n",
      " 29  state_null_flag                        14029 non-null  int32  \n",
      " 30  state_low_flag                         14029 non-null  int32  \n",
      " 31  zipcode_freq                           14029 non-null  float64\n",
      " 32  zipcode_null_flag                      14029 non-null  int32  \n",
      " 33  zipcode_low_flag                       14029 non-null  int32  \n",
      " 34  Not Older American, Not Servicemember  14029 non-null  int32  \n",
      " 35  Older American                         14029 non-null  int32  \n",
      " 36  Older American, Servicemember          14029 non-null  int32  \n",
      " 37  Servicemember                          14029 non-null  int32  \n",
      " 38  Closed                                 14029 non-null  int32  \n",
      " 39  Closed with explanation                14029 non-null  int32  \n",
      " 40  Closed with monetary relief            14029 non-null  int32  \n",
      " 41  Closed with non-monetary relief        14029 non-null  int32  \n",
      " 42  Untimely response                      14029 non-null  int32  \n",
      "dtypes: float64(7), int32(23), int64(1), object(12)\n",
      "memory usage: 3.4+ MB\n"
     ]
    }
   ],
   "source": [
    "df_val.info()"
   ]
  },
  {
   "cell_type": "code",
   "execution_count": 64,
   "id": "7d78124c",
   "metadata": {},
   "outputs": [
    {
     "data": {
      "text/html": [
       "<div>\n",
       "<style scoped>\n",
       "    .dataframe tbody tr th:only-of-type {\n",
       "        vertical-align: middle;\n",
       "    }\n",
       "\n",
       "    .dataframe tbody tr th {\n",
       "        vertical-align: top;\n",
       "    }\n",
       "\n",
       "    .dataframe thead th {\n",
       "        text-align: right;\n",
       "    }\n",
       "</style>\n",
       "<table border=\"1\" class=\"dataframe\">\n",
       "  <thead>\n",
       "    <tr style=\"text-align: right;\">\n",
       "      <th></th>\n",
       "      <th>date_received</th>\n",
       "      <th>sub_product</th>\n",
       "      <th>issue</th>\n",
       "      <th>sub_issue</th>\n",
       "      <th>consumer_complaint_narrative</th>\n",
       "      <th>company_public_response</th>\n",
       "      <th>company</th>\n",
       "      <th>state</th>\n",
       "      <th>zipcode</th>\n",
       "      <th>tags</th>\n",
       "      <th>date_sent_to_company</th>\n",
       "      <th>company_response_to_consumer</th>\n",
       "      <th>timely_response</th>\n",
       "      <th>consumer_disputed?</th>\n",
       "      <th>days_between_receipt_and_sent</th>\n",
       "      <th>sub_product_freq</th>\n",
       "      <th>sub_product_null_flag</th>\n",
       "      <th>sub_product_low_flag</th>\n",
       "      <th>issue_freq</th>\n",
       "      <th>issue_low_flag</th>\n",
       "      <th>sub_issue_freq</th>\n",
       "      <th>sub_issue_null_flag</th>\n",
       "      <th>sub_issue_low_flag</th>\n",
       "      <th>company_public_response_freq</th>\n",
       "      <th>company_public_response_null_flag</th>\n",
       "      <th>company_public_response_low_flag</th>\n",
       "      <th>company_freq</th>\n",
       "      <th>company_low_flag</th>\n",
       "      <th>state_freq</th>\n",
       "      <th>state_null_flag</th>\n",
       "      <th>state_low_flag</th>\n",
       "      <th>zipcode_freq</th>\n",
       "      <th>zipcode_null_flag</th>\n",
       "      <th>zipcode_low_flag</th>\n",
       "      <th>Not Older American, Not Servicemember</th>\n",
       "      <th>Older American</th>\n",
       "      <th>Older American, Servicemember</th>\n",
       "      <th>Servicemember</th>\n",
       "      <th>Closed</th>\n",
       "      <th>Closed with explanation</th>\n",
       "      <th>Closed with monetary relief</th>\n",
       "      <th>Closed with non-monetary relief</th>\n",
       "      <th>Untimely response</th>\n",
       "    </tr>\n",
       "  </thead>\n",
       "  <tbody>\n",
       "    <tr>\n",
       "      <th>0</th>\n",
       "      <td>2015-11-18</td>\n",
       "      <td>FHA mortgage</td>\n",
       "      <td>Loan modification,collection,foreclosure</td>\n",
       "      <td>None</td>\n",
       "      <td>I bought a house in XXXX XXXX in XXXX. It was ...</td>\n",
       "      <td>Company chooses not to provide a public response</td>\n",
       "      <td>Bank of America</td>\n",
       "      <td>CA</td>\n",
       "      <td>935XX</td>\n",
       "      <td>Not Older American, Not Servicemember</td>\n",
       "      <td>2015-11-18</td>\n",
       "      <td>Closed with explanation</td>\n",
       "      <td>1</td>\n",
       "      <td>0</td>\n",
       "      <td>0</td>\n",
       "      <td>0.040416</td>\n",
       "      <td>0</td>\n",
       "      <td>0</td>\n",
       "      <td>0.076057</td>\n",
       "      <td>0</td>\n",
       "      <td>-1.000000</td>\n",
       "      <td>1</td>\n",
       "      <td>0</td>\n",
       "      <td>0.291824</td>\n",
       "      <td>0</td>\n",
       "      <td>0</td>\n",
       "      <td>0.051108</td>\n",
       "      <td>0</td>\n",
       "      <td>0.149975</td>\n",
       "      <td>0</td>\n",
       "      <td>0</td>\n",
       "      <td>0.001996</td>\n",
       "      <td>0</td>\n",
       "      <td>0</td>\n",
       "      <td>1</td>\n",
       "      <td>0</td>\n",
       "      <td>0</td>\n",
       "      <td>0</td>\n",
       "      <td>0</td>\n",
       "      <td>1</td>\n",
       "      <td>0</td>\n",
       "      <td>0</td>\n",
       "      <td>0</td>\n",
       "    </tr>\n",
       "    <tr>\n",
       "      <th>1</th>\n",
       "      <td>2015-09-03</td>\n",
       "      <td>Home equity loan or line of credit</td>\n",
       "      <td>Application, originator, mortgage broker</td>\n",
       "      <td>None</td>\n",
       "      <td>XX/XX/XXXX my husband and I took an equity lin...</td>\n",
       "      <td>Company chooses not to provide a public response</td>\n",
       "      <td>Bank of America</td>\n",
       "      <td>PA</td>\n",
       "      <td>189XX</td>\n",
       "      <td>Not Older American, Not Servicemember</td>\n",
       "      <td>2015-09-03</td>\n",
       "      <td>Closed with explanation</td>\n",
       "      <td>1</td>\n",
       "      <td>0</td>\n",
       "      <td>0</td>\n",
       "      <td>0.013044</td>\n",
       "      <td>0</td>\n",
       "      <td>0</td>\n",
       "      <td>0.023950</td>\n",
       "      <td>0</td>\n",
       "      <td>-1.000000</td>\n",
       "      <td>1</td>\n",
       "      <td>0</td>\n",
       "      <td>0.291824</td>\n",
       "      <td>0</td>\n",
       "      <td>0</td>\n",
       "      <td>0.051108</td>\n",
       "      <td>0</td>\n",
       "      <td>0.034571</td>\n",
       "      <td>0</td>\n",
       "      <td>0</td>\n",
       "      <td>0.001212</td>\n",
       "      <td>0</td>\n",
       "      <td>0</td>\n",
       "      <td>1</td>\n",
       "      <td>0</td>\n",
       "      <td>0</td>\n",
       "      <td>0</td>\n",
       "      <td>0</td>\n",
       "      <td>1</td>\n",
       "      <td>0</td>\n",
       "      <td>0</td>\n",
       "      <td>0</td>\n",
       "    </tr>\n",
       "    <tr>\n",
       "      <th>2</th>\n",
       "      <td>2015-07-12</td>\n",
       "      <td>Medical</td>\n",
       "      <td>Cont'd attempts collect debt not owed</td>\n",
       "      <td>Debt is not mine</td>\n",
       "      <td>Dear sir/madam, I want ESCALLATE to remove the...</td>\n",
       "      <td>Company chooses not to provide a public response</td>\n",
       "      <td>Escallate, LLC</td>\n",
       "      <td>IL</td>\n",
       "      <td>604XX</td>\n",
       "      <td>Not Older American, Not Servicemember</td>\n",
       "      <td>2015-07-12</td>\n",
       "      <td>Closed</td>\n",
       "      <td>1</td>\n",
       "      <td>1</td>\n",
       "      <td>0</td>\n",
       "      <td>0.039490</td>\n",
       "      <td>0</td>\n",
       "      <td>0</td>\n",
       "      <td>0.115546</td>\n",
       "      <td>0</td>\n",
       "      <td>0.070283</td>\n",
       "      <td>0</td>\n",
       "      <td>0</td>\n",
       "      <td>0.291824</td>\n",
       "      <td>0</td>\n",
       "      <td>0</td>\n",
       "      <td>0.000143</td>\n",
       "      <td>1</td>\n",
       "      <td>0.037066</td>\n",
       "      <td>0</td>\n",
       "      <td>0</td>\n",
       "      <td>0.006914</td>\n",
       "      <td>0</td>\n",
       "      <td>0</td>\n",
       "      <td>1</td>\n",
       "      <td>0</td>\n",
       "      <td>0</td>\n",
       "      <td>0</td>\n",
       "      <td>1</td>\n",
       "      <td>0</td>\n",
       "      <td>0</td>\n",
       "      <td>0</td>\n",
       "      <td>0</td>\n",
       "    </tr>\n",
       "    <tr>\n",
       "      <th>3</th>\n",
       "      <td>2015-07-03</td>\n",
       "      <td>Other (i.e. phone, health club, etc.)</td>\n",
       "      <td>False statements or representation</td>\n",
       "      <td>Attempted to collect wrong amount</td>\n",
       "      <td>I had XXXX Alliance One Accounts on my credit ...</td>\n",
       "      <td>None</td>\n",
       "      <td>AllianceOne Recievables Management</td>\n",
       "      <td>WA</td>\n",
       "      <td>981XX</td>\n",
       "      <td>Not Older American, Not Servicemember</td>\n",
       "      <td>2015-07-03</td>\n",
       "      <td>Closed with explanation</td>\n",
       "      <td>1</td>\n",
       "      <td>0</td>\n",
       "      <td>0</td>\n",
       "      <td>0.077625</td>\n",
       "      <td>0</td>\n",
       "      <td>0</td>\n",
       "      <td>0.024449</td>\n",
       "      <td>0</td>\n",
       "      <td>0.017963</td>\n",
       "      <td>0</td>\n",
       "      <td>0</td>\n",
       "      <td>-1.000000</td>\n",
       "      <td>1</td>\n",
       "      <td>0</td>\n",
       "      <td>0.000998</td>\n",
       "      <td>1</td>\n",
       "      <td>0.022168</td>\n",
       "      <td>0</td>\n",
       "      <td>0</td>\n",
       "      <td>0.003707</td>\n",
       "      <td>0</td>\n",
       "      <td>0</td>\n",
       "      <td>1</td>\n",
       "      <td>0</td>\n",
       "      <td>0</td>\n",
       "      <td>0</td>\n",
       "      <td>0</td>\n",
       "      <td>1</td>\n",
       "      <td>0</td>\n",
       "      <td>0</td>\n",
       "      <td>0</td>\n",
       "    </tr>\n",
       "    <tr>\n",
       "      <th>4</th>\n",
       "      <td>2015-12-10</td>\n",
       "      <td>Credit card</td>\n",
       "      <td>Communication tactics</td>\n",
       "      <td>Frequent or repeated calls</td>\n",
       "      <td>Portfolio Recovery continues to contact me and...</td>\n",
       "      <td>None</td>\n",
       "      <td>Portfolio Recovery Associates, Inc.</td>\n",
       "      <td>MD</td>\n",
       "      <td>214XX</td>\n",
       "      <td>Not Older American, Not Servicemember</td>\n",
       "      <td>2015-12-10</td>\n",
       "      <td>Closed with non-monetary relief</td>\n",
       "      <td>1</td>\n",
       "      <td>0</td>\n",
       "      <td>0</td>\n",
       "      <td>0.052890</td>\n",
       "      <td>0</td>\n",
       "      <td>0</td>\n",
       "      <td>0.039775</td>\n",
       "      <td>0</td>\n",
       "      <td>0.023024</td>\n",
       "      <td>0</td>\n",
       "      <td>0</td>\n",
       "      <td>-1.000000</td>\n",
       "      <td>1</td>\n",
       "      <td>0</td>\n",
       "      <td>0.010692</td>\n",
       "      <td>0</td>\n",
       "      <td>0.031150</td>\n",
       "      <td>0</td>\n",
       "      <td>0</td>\n",
       "      <td>0.000356</td>\n",
       "      <td>0</td>\n",
       "      <td>1</td>\n",
       "      <td>1</td>\n",
       "      <td>0</td>\n",
       "      <td>0</td>\n",
       "      <td>0</td>\n",
       "      <td>0</td>\n",
       "      <td>0</td>\n",
       "      <td>0</td>\n",
       "      <td>1</td>\n",
       "      <td>0</td>\n",
       "    </tr>\n",
       "  </tbody>\n",
       "</table>\n",
       "</div>"
      ],
      "text/plain": [
       "  date_received                            sub_product  \\\n",
       "0    2015-11-18                           FHA mortgage   \n",
       "1    2015-09-03     Home equity loan or line of credit   \n",
       "2    2015-07-12                                Medical   \n",
       "3    2015-07-03  Other (i.e. phone, health club, etc.)   \n",
       "4    2015-12-10                            Credit card   \n",
       "\n",
       "                                      issue  \\\n",
       "0  Loan modification,collection,foreclosure   \n",
       "1  Application, originator, mortgage broker   \n",
       "2     Cont'd attempts collect debt not owed   \n",
       "3        False statements or representation   \n",
       "4                     Communication tactics   \n",
       "\n",
       "                           sub_issue  \\\n",
       "0                               None   \n",
       "1                               None   \n",
       "2                   Debt is not mine   \n",
       "3  Attempted to collect wrong amount   \n",
       "4         Frequent or repeated calls   \n",
       "\n",
       "                        consumer_complaint_narrative  \\\n",
       "0  I bought a house in XXXX XXXX in XXXX. It was ...   \n",
       "1  XX/XX/XXXX my husband and I took an equity lin...   \n",
       "2  Dear sir/madam, I want ESCALLATE to remove the...   \n",
       "3  I had XXXX Alliance One Accounts on my credit ...   \n",
       "4  Portfolio Recovery continues to contact me and...   \n",
       "\n",
       "                            company_public_response  \\\n",
       "0  Company chooses not to provide a public response   \n",
       "1  Company chooses not to provide a public response   \n",
       "2  Company chooses not to provide a public response   \n",
       "3                                              None   \n",
       "4                                              None   \n",
       "\n",
       "                               company state zipcode  \\\n",
       "0                      Bank of America    CA   935XX   \n",
       "1                      Bank of America    PA   189XX   \n",
       "2                       Escallate, LLC    IL   604XX   \n",
       "3   AllianceOne Recievables Management    WA   981XX   \n",
       "4  Portfolio Recovery Associates, Inc.    MD   214XX   \n",
       "\n",
       "                                    tags date_sent_to_company  \\\n",
       "0  Not Older American, Not Servicemember           2015-11-18   \n",
       "1  Not Older American, Not Servicemember           2015-09-03   \n",
       "2  Not Older American, Not Servicemember           2015-07-12   \n",
       "3  Not Older American, Not Servicemember           2015-07-03   \n",
       "4  Not Older American, Not Servicemember           2015-12-10   \n",
       "\n",
       "      company_response_to_consumer  timely_response  consumer_disputed?  \\\n",
       "0          Closed with explanation                1                   0   \n",
       "1          Closed with explanation                1                   0   \n",
       "2                           Closed                1                   1   \n",
       "3          Closed with explanation                1                   0   \n",
       "4  Closed with non-monetary relief                1                   0   \n",
       "\n",
       "   days_between_receipt_and_sent  sub_product_freq  sub_product_null_flag  \\\n",
       "0                              0          0.040416                      0   \n",
       "1                              0          0.013044                      0   \n",
       "2                              0          0.039490                      0   \n",
       "3                              0          0.077625                      0   \n",
       "4                              0          0.052890                      0   \n",
       "\n",
       "   sub_product_low_flag  issue_freq  issue_low_flag  sub_issue_freq  \\\n",
       "0                     0    0.076057               0       -1.000000   \n",
       "1                     0    0.023950               0       -1.000000   \n",
       "2                     0    0.115546               0        0.070283   \n",
       "3                     0    0.024449               0        0.017963   \n",
       "4                     0    0.039775               0        0.023024   \n",
       "\n",
       "   sub_issue_null_flag  sub_issue_low_flag  company_public_response_freq  \\\n",
       "0                    1                   0                      0.291824   \n",
       "1                    1                   0                      0.291824   \n",
       "2                    0                   0                      0.291824   \n",
       "3                    0                   0                     -1.000000   \n",
       "4                    0                   0                     -1.000000   \n",
       "\n",
       "   company_public_response_null_flag  company_public_response_low_flag  \\\n",
       "0                                  0                                 0   \n",
       "1                                  0                                 0   \n",
       "2                                  0                                 0   \n",
       "3                                  1                                 0   \n",
       "4                                  1                                 0   \n",
       "\n",
       "   company_freq  company_low_flag  state_freq  state_null_flag  \\\n",
       "0      0.051108                 0    0.149975                0   \n",
       "1      0.051108                 0    0.034571                0   \n",
       "2      0.000143                 1    0.037066                0   \n",
       "3      0.000998                 1    0.022168                0   \n",
       "4      0.010692                 0    0.031150                0   \n",
       "\n",
       "   state_low_flag  zipcode_freq  zipcode_null_flag  zipcode_low_flag  \\\n",
       "0               0      0.001996                  0                 0   \n",
       "1               0      0.001212                  0                 0   \n",
       "2               0      0.006914                  0                 0   \n",
       "3               0      0.003707                  0                 0   \n",
       "4               0      0.000356                  0                 1   \n",
       "\n",
       "   Not Older American, Not Servicemember  Older American  \\\n",
       "0                                      1               0   \n",
       "1                                      1               0   \n",
       "2                                      1               0   \n",
       "3                                      1               0   \n",
       "4                                      1               0   \n",
       "\n",
       "   Older American, Servicemember  Servicemember  Closed  \\\n",
       "0                              0              0       0   \n",
       "1                              0              0       0   \n",
       "2                              0              0       1   \n",
       "3                              0              0       0   \n",
       "4                              0              0       0   \n",
       "\n",
       "   Closed with explanation  Closed with monetary relief  \\\n",
       "0                        1                            0   \n",
       "1                        1                            0   \n",
       "2                        0                            0   \n",
       "3                        1                            0   \n",
       "4                        0                            0   \n",
       "\n",
       "   Closed with non-monetary relief  Untimely response  \n",
       "0                                0                  0  \n",
       "1                                0                  0  \n",
       "2                                0                  0  \n",
       "3                                0                  0  \n",
       "4                                1                  0  "
      ]
     },
     "execution_count": 64,
     "metadata": {},
     "output_type": "execute_result"
    }
   ],
   "source": [
    "df_val.head()"
   ]
  },
  {
   "attachments": {},
   "cell_type": "markdown",
   "id": "075665be",
   "metadata": {},
   "source": [
    "## Drop non-converted and unneeded columns to keep feature-engineered dataframe"
   ]
  },
  {
   "cell_type": "code",
   "execution_count": 65,
   "id": "8bec71f9",
   "metadata": {},
   "outputs": [],
   "source": [
    "# keep 'product' bc used LabelEncoder here but have used cat.code factorization previously\n",
    "df_val_fe = df_val.drop(['date_received', 'sub_product', 'issue', 'sub_issue', 'company_public_response', 'company', \n",
    "                         'state', 'zipcode', 'tags', 'date_sent_to_company', 'company_response_to_consumer'], axis=1)"
   ]
  },
  {
   "cell_type": "code",
   "execution_count": 66,
   "id": "33add222",
   "metadata": {},
   "outputs": [
    {
     "name": "stdout",
     "output_type": "stream",
     "text": [
      "<class 'pandas.core.frame.DataFrame'>\n",
      "RangeIndex: 14029 entries, 0 to 14028\n",
      "Data columns (total 32 columns):\n",
      " #   Column                                 Non-Null Count  Dtype  \n",
      "---  ------                                 --------------  -----  \n",
      " 0   consumer_complaint_narrative           14029 non-null  object \n",
      " 1   timely_response                        14029 non-null  int32  \n",
      " 2   consumer_disputed?                     14029 non-null  int32  \n",
      " 3   days_between_receipt_and_sent          14029 non-null  int64  \n",
      " 4   sub_product_freq                       14029 non-null  float64\n",
      " 5   sub_product_null_flag                  14029 non-null  int32  \n",
      " 6   sub_product_low_flag                   14029 non-null  int32  \n",
      " 7   issue_freq                             14029 non-null  float64\n",
      " 8   issue_low_flag                         14029 non-null  int32  \n",
      " 9   sub_issue_freq                         14029 non-null  float64\n",
      " 10  sub_issue_null_flag                    14029 non-null  int32  \n",
      " 11  sub_issue_low_flag                     14029 non-null  int32  \n",
      " 12  company_public_response_freq           14029 non-null  float64\n",
      " 13  company_public_response_null_flag      14029 non-null  int32  \n",
      " 14  company_public_response_low_flag       14029 non-null  int32  \n",
      " 15  company_freq                           14029 non-null  float64\n",
      " 16  company_low_flag                       14029 non-null  int32  \n",
      " 17  state_freq                             14029 non-null  float64\n",
      " 18  state_null_flag                        14029 non-null  int32  \n",
      " 19  state_low_flag                         14029 non-null  int32  \n",
      " 20  zipcode_freq                           14029 non-null  float64\n",
      " 21  zipcode_null_flag                      14029 non-null  int32  \n",
      " 22  zipcode_low_flag                       14029 non-null  int32  \n",
      " 23  Not Older American, Not Servicemember  14029 non-null  int32  \n",
      " 24  Older American                         14029 non-null  int32  \n",
      " 25  Older American, Servicemember          14029 non-null  int32  \n",
      " 26  Servicemember                          14029 non-null  int32  \n",
      " 27  Closed                                 14029 non-null  int32  \n",
      " 28  Closed with explanation                14029 non-null  int32  \n",
      " 29  Closed with monetary relief            14029 non-null  int32  \n",
      " 30  Closed with non-monetary relief        14029 non-null  int32  \n",
      " 31  Untimely response                      14029 non-null  int32  \n",
      "dtypes: float64(7), int32(23), int64(1), object(1)\n",
      "memory usage: 2.2+ MB\n"
     ]
    }
   ],
   "source": [
    "df_val_fe.info()"
   ]
  },
  {
   "cell_type": "code",
   "execution_count": 67,
   "id": "eee64600",
   "metadata": {},
   "outputs": [
    {
     "data": {
      "text/html": [
       "<div>\n",
       "<style scoped>\n",
       "    .dataframe tbody tr th:only-of-type {\n",
       "        vertical-align: middle;\n",
       "    }\n",
       "\n",
       "    .dataframe tbody tr th {\n",
       "        vertical-align: top;\n",
       "    }\n",
       "\n",
       "    .dataframe thead th {\n",
       "        text-align: right;\n",
       "    }\n",
       "</style>\n",
       "<table border=\"1\" class=\"dataframe\">\n",
       "  <thead>\n",
       "    <tr style=\"text-align: right;\">\n",
       "      <th></th>\n",
       "      <th>consumer_complaint_narrative</th>\n",
       "      <th>timely_response</th>\n",
       "      <th>consumer_disputed?</th>\n",
       "      <th>days_between_receipt_and_sent</th>\n",
       "      <th>sub_product_freq</th>\n",
       "      <th>sub_product_null_flag</th>\n",
       "      <th>sub_product_low_flag</th>\n",
       "      <th>issue_freq</th>\n",
       "      <th>issue_low_flag</th>\n",
       "      <th>sub_issue_freq</th>\n",
       "      <th>sub_issue_null_flag</th>\n",
       "      <th>sub_issue_low_flag</th>\n",
       "      <th>company_public_response_freq</th>\n",
       "      <th>company_public_response_null_flag</th>\n",
       "      <th>company_public_response_low_flag</th>\n",
       "      <th>company_freq</th>\n",
       "      <th>company_low_flag</th>\n",
       "      <th>state_freq</th>\n",
       "      <th>state_null_flag</th>\n",
       "      <th>state_low_flag</th>\n",
       "      <th>zipcode_freq</th>\n",
       "      <th>zipcode_null_flag</th>\n",
       "      <th>zipcode_low_flag</th>\n",
       "      <th>Not Older American, Not Servicemember</th>\n",
       "      <th>Older American</th>\n",
       "      <th>Older American, Servicemember</th>\n",
       "      <th>Servicemember</th>\n",
       "      <th>Closed</th>\n",
       "      <th>Closed with explanation</th>\n",
       "      <th>Closed with monetary relief</th>\n",
       "      <th>Closed with non-monetary relief</th>\n",
       "      <th>Untimely response</th>\n",
       "    </tr>\n",
       "  </thead>\n",
       "  <tbody>\n",
       "    <tr>\n",
       "      <th>0</th>\n",
       "      <td>I bought a house in XXXX XXXX in XXXX. It was ...</td>\n",
       "      <td>1</td>\n",
       "      <td>0</td>\n",
       "      <td>0</td>\n",
       "      <td>0.040416</td>\n",
       "      <td>0</td>\n",
       "      <td>0</td>\n",
       "      <td>0.076057</td>\n",
       "      <td>0</td>\n",
       "      <td>-1.000000</td>\n",
       "      <td>1</td>\n",
       "      <td>0</td>\n",
       "      <td>0.291824</td>\n",
       "      <td>0</td>\n",
       "      <td>0</td>\n",
       "      <td>0.051108</td>\n",
       "      <td>0</td>\n",
       "      <td>0.149975</td>\n",
       "      <td>0</td>\n",
       "      <td>0</td>\n",
       "      <td>0.001996</td>\n",
       "      <td>0</td>\n",
       "      <td>0</td>\n",
       "      <td>1</td>\n",
       "      <td>0</td>\n",
       "      <td>0</td>\n",
       "      <td>0</td>\n",
       "      <td>0</td>\n",
       "      <td>1</td>\n",
       "      <td>0</td>\n",
       "      <td>0</td>\n",
       "      <td>0</td>\n",
       "    </tr>\n",
       "    <tr>\n",
       "      <th>1</th>\n",
       "      <td>XX/XX/XXXX my husband and I took an equity lin...</td>\n",
       "      <td>1</td>\n",
       "      <td>0</td>\n",
       "      <td>0</td>\n",
       "      <td>0.013044</td>\n",
       "      <td>0</td>\n",
       "      <td>0</td>\n",
       "      <td>0.023950</td>\n",
       "      <td>0</td>\n",
       "      <td>-1.000000</td>\n",
       "      <td>1</td>\n",
       "      <td>0</td>\n",
       "      <td>0.291824</td>\n",
       "      <td>0</td>\n",
       "      <td>0</td>\n",
       "      <td>0.051108</td>\n",
       "      <td>0</td>\n",
       "      <td>0.034571</td>\n",
       "      <td>0</td>\n",
       "      <td>0</td>\n",
       "      <td>0.001212</td>\n",
       "      <td>0</td>\n",
       "      <td>0</td>\n",
       "      <td>1</td>\n",
       "      <td>0</td>\n",
       "      <td>0</td>\n",
       "      <td>0</td>\n",
       "      <td>0</td>\n",
       "      <td>1</td>\n",
       "      <td>0</td>\n",
       "      <td>0</td>\n",
       "      <td>0</td>\n",
       "    </tr>\n",
       "    <tr>\n",
       "      <th>2</th>\n",
       "      <td>Dear sir/madam, I want ESCALLATE to remove the...</td>\n",
       "      <td>1</td>\n",
       "      <td>1</td>\n",
       "      <td>0</td>\n",
       "      <td>0.039490</td>\n",
       "      <td>0</td>\n",
       "      <td>0</td>\n",
       "      <td>0.115546</td>\n",
       "      <td>0</td>\n",
       "      <td>0.070283</td>\n",
       "      <td>0</td>\n",
       "      <td>0</td>\n",
       "      <td>0.291824</td>\n",
       "      <td>0</td>\n",
       "      <td>0</td>\n",
       "      <td>0.000143</td>\n",
       "      <td>1</td>\n",
       "      <td>0.037066</td>\n",
       "      <td>0</td>\n",
       "      <td>0</td>\n",
       "      <td>0.006914</td>\n",
       "      <td>0</td>\n",
       "      <td>0</td>\n",
       "      <td>1</td>\n",
       "      <td>0</td>\n",
       "      <td>0</td>\n",
       "      <td>0</td>\n",
       "      <td>1</td>\n",
       "      <td>0</td>\n",
       "      <td>0</td>\n",
       "      <td>0</td>\n",
       "      <td>0</td>\n",
       "    </tr>\n",
       "    <tr>\n",
       "      <th>3</th>\n",
       "      <td>I had XXXX Alliance One Accounts on my credit ...</td>\n",
       "      <td>1</td>\n",
       "      <td>0</td>\n",
       "      <td>0</td>\n",
       "      <td>0.077625</td>\n",
       "      <td>0</td>\n",
       "      <td>0</td>\n",
       "      <td>0.024449</td>\n",
       "      <td>0</td>\n",
       "      <td>0.017963</td>\n",
       "      <td>0</td>\n",
       "      <td>0</td>\n",
       "      <td>-1.000000</td>\n",
       "      <td>1</td>\n",
       "      <td>0</td>\n",
       "      <td>0.000998</td>\n",
       "      <td>1</td>\n",
       "      <td>0.022168</td>\n",
       "      <td>0</td>\n",
       "      <td>0</td>\n",
       "      <td>0.003707</td>\n",
       "      <td>0</td>\n",
       "      <td>0</td>\n",
       "      <td>1</td>\n",
       "      <td>0</td>\n",
       "      <td>0</td>\n",
       "      <td>0</td>\n",
       "      <td>0</td>\n",
       "      <td>1</td>\n",
       "      <td>0</td>\n",
       "      <td>0</td>\n",
       "      <td>0</td>\n",
       "    </tr>\n",
       "    <tr>\n",
       "      <th>4</th>\n",
       "      <td>Portfolio Recovery continues to contact me and...</td>\n",
       "      <td>1</td>\n",
       "      <td>0</td>\n",
       "      <td>0</td>\n",
       "      <td>0.052890</td>\n",
       "      <td>0</td>\n",
       "      <td>0</td>\n",
       "      <td>0.039775</td>\n",
       "      <td>0</td>\n",
       "      <td>0.023024</td>\n",
       "      <td>0</td>\n",
       "      <td>0</td>\n",
       "      <td>-1.000000</td>\n",
       "      <td>1</td>\n",
       "      <td>0</td>\n",
       "      <td>0.010692</td>\n",
       "      <td>0</td>\n",
       "      <td>0.031150</td>\n",
       "      <td>0</td>\n",
       "      <td>0</td>\n",
       "      <td>0.000356</td>\n",
       "      <td>0</td>\n",
       "      <td>1</td>\n",
       "      <td>1</td>\n",
       "      <td>0</td>\n",
       "      <td>0</td>\n",
       "      <td>0</td>\n",
       "      <td>0</td>\n",
       "      <td>0</td>\n",
       "      <td>0</td>\n",
       "      <td>1</td>\n",
       "      <td>0</td>\n",
       "    </tr>\n",
       "  </tbody>\n",
       "</table>\n",
       "</div>"
      ],
      "text/plain": [
       "                        consumer_complaint_narrative  timely_response  \\\n",
       "0  I bought a house in XXXX XXXX in XXXX. It was ...                1   \n",
       "1  XX/XX/XXXX my husband and I took an equity lin...                1   \n",
       "2  Dear sir/madam, I want ESCALLATE to remove the...                1   \n",
       "3  I had XXXX Alliance One Accounts on my credit ...                1   \n",
       "4  Portfolio Recovery continues to contact me and...                1   \n",
       "\n",
       "   consumer_disputed?  days_between_receipt_and_sent  sub_product_freq  \\\n",
       "0                   0                              0          0.040416   \n",
       "1                   0                              0          0.013044   \n",
       "2                   1                              0          0.039490   \n",
       "3                   0                              0          0.077625   \n",
       "4                   0                              0          0.052890   \n",
       "\n",
       "   sub_product_null_flag  sub_product_low_flag  issue_freq  issue_low_flag  \\\n",
       "0                      0                     0    0.076057               0   \n",
       "1                      0                     0    0.023950               0   \n",
       "2                      0                     0    0.115546               0   \n",
       "3                      0                     0    0.024449               0   \n",
       "4                      0                     0    0.039775               0   \n",
       "\n",
       "   sub_issue_freq  sub_issue_null_flag  sub_issue_low_flag  \\\n",
       "0       -1.000000                    1                   0   \n",
       "1       -1.000000                    1                   0   \n",
       "2        0.070283                    0                   0   \n",
       "3        0.017963                    0                   0   \n",
       "4        0.023024                    0                   0   \n",
       "\n",
       "   company_public_response_freq  company_public_response_null_flag  \\\n",
       "0                      0.291824                                  0   \n",
       "1                      0.291824                                  0   \n",
       "2                      0.291824                                  0   \n",
       "3                     -1.000000                                  1   \n",
       "4                     -1.000000                                  1   \n",
       "\n",
       "   company_public_response_low_flag  company_freq  company_low_flag  \\\n",
       "0                                 0      0.051108                 0   \n",
       "1                                 0      0.051108                 0   \n",
       "2                                 0      0.000143                 1   \n",
       "3                                 0      0.000998                 1   \n",
       "4                                 0      0.010692                 0   \n",
       "\n",
       "   state_freq  state_null_flag  state_low_flag  zipcode_freq  \\\n",
       "0    0.149975                0               0      0.001996   \n",
       "1    0.034571                0               0      0.001212   \n",
       "2    0.037066                0               0      0.006914   \n",
       "3    0.022168                0               0      0.003707   \n",
       "4    0.031150                0               0      0.000356   \n",
       "\n",
       "   zipcode_null_flag  zipcode_low_flag  Not Older American, Not Servicemember  \\\n",
       "0                  0                 0                                      1   \n",
       "1                  0                 0                                      1   \n",
       "2                  0                 0                                      1   \n",
       "3                  0                 0                                      1   \n",
       "4                  0                 1                                      1   \n",
       "\n",
       "   Older American  Older American, Servicemember  Servicemember  Closed  \\\n",
       "0               0                              0              0       0   \n",
       "1               0                              0              0       0   \n",
       "2               0                              0              0       1   \n",
       "3               0                              0              0       0   \n",
       "4               0                              0              0       0   \n",
       "\n",
       "   Closed with explanation  Closed with monetary relief  \\\n",
       "0                        1                            0   \n",
       "1                        1                            0   \n",
       "2                        0                            0   \n",
       "3                        1                            0   \n",
       "4                        0                            0   \n",
       "\n",
       "   Closed with non-monetary relief  Untimely response  \n",
       "0                                0                  0  \n",
       "1                                0                  0  \n",
       "2                                0                  0  \n",
       "3                                0                  0  \n",
       "4                                1                  0  "
      ]
     },
     "execution_count": 67,
     "metadata": {},
     "output_type": "execute_result"
    }
   ],
   "source": [
    "df_val_fe.head()"
   ]
  },
  {
   "attachments": {},
   "cell_type": "markdown",
   "id": "ab4bb10c",
   "metadata": {},
   "source": [
    "## Save munged and feature-engineered dataframe for modeling"
   ]
  },
  {
   "cell_type": "code",
   "execution_count": 68,
   "id": "2ea7f4fa",
   "metadata": {},
   "outputs": [],
   "source": [
    "df_val_fe.to_parquet('./input/dataframes/df_val_FE.parquet')"
   ]
  },
  {
   "attachments": {},
   "cell_type": "markdown",
   "id": "45b80772",
   "metadata": {},
   "source": [
    "## NLP for validation set text"
   ]
  },
  {
   "attachments": {},
   "cell_type": "markdown",
   "id": "30ea1838",
   "metadata": {},
   "source": [
    "### Functions for cleaning and processing text"
   ]
  },
  {
   "cell_type": "code",
   "execution_count": 69,
   "id": "7453ea4f",
   "metadata": {},
   "outputs": [],
   "source": [
    "def clean_text(df):\n",
    "    for i in [char for char in ':;\"?,/|\\\\}{1234567890.~!@#$%^&*_+=<>']:\n",
    "        df.text=df.text.apply(lambda x: str(x).replace(i,\"\"))\n",
    "\n",
    "    df.text=df.text.apply(lambda x: str(x).replace('-',\" \"))\n",
    "    df.text=df.text.apply(lambda x: str(x).replace(\"X\",\"\"))\n",
    "    df.text=df.text.apply(lambda x: str(x).replace(\"XX\",\"\"))\n",
    "    df.text=df.text.apply(lambda x: str(x).replace(\"XXX\",\"\"))\n",
    "    df.text=df.text.apply(lambda x: str(x).replace(\"XXXX\",\"\"))\n",
    "    df.text=df.text.apply(lambda x: str(x).replace(\"XXXXX\",\"\"))\n",
    "    df.text=df.text.apply(lambda x: str(x).replace(\"XXXXXX\",\"\"))\n",
    "    df.text=df.text.apply(lambda x: str(x).replace(\"XXXXXXX\",\"\"))\n",
    "    df.text=df.text.apply(lambda x: str(x).replace(\"XXXXXXXX\",\"\")) # removes redactions \n",
    "\n",
    "    stopword_dict= set(stopwords.words('english'))\n",
    "\n",
    "    def sw_remover(arr):\n",
    "        res=[]\n",
    "        for i in arr:\n",
    "            if i not in stopword_dict:\n",
    "                res.append(i)\n",
    "        return res\n",
    "\n",
    "    # def digit_remover(arr):\n",
    "    #     res=[]\n",
    "    #     for i in arr:\n",
    "    #         if i.isdigit()==False:\n",
    "    #             res.append(i)\n",
    "    #     return res\n",
    "\n",
    "    def lemmatizer(arr):\n",
    "        lem=nltk.stem.WordNetLemmatizer()\n",
    "        res=[lem.lemmatize(i) for i in arr]\n",
    "        return res\n",
    "\n",
    "    def joiner(arr):\n",
    "        if len(arr)==0:\n",
    "            return ''\n",
    "        elif len(arr)==1:\n",
    "            return arr[0]\n",
    "        else:\n",
    "            return ' '.join(arr)\n",
    "    \n",
    "    df.text=df.text.apply(lambda x: re.sub(r'\\[rnt]',\"\",x))\n",
    "    df.text=df.text.apply(lambda x: x.lower())\n",
    "    df.text=df.text.apply(lambda x: x.split())\n",
    "    df.text=df.text.apply(sw_remover)\n",
    "    df.text=df.text.apply(lemmatizer)\n",
    "    df.text=df.text.apply(joiner)\n",
    "\n",
    "    df['len']=df['text'].apply(len)\n",
    "    \n",
    "    return df"
   ]
  },
  {
   "cell_type": "code",
   "execution_count": null,
   "id": "54a6b3a2",
   "metadata": {},
   "outputs": [],
   "source": [
    "# #L = WordNetLemmatizer()\n",
    "# s = SnowballStemmer('english')\n",
    "\n",
    "# def wordPreProcess(sentence):\n",
    "#     return ' '.join([s.stem(x.lower()) for x in re.split('\\W', sentence) if len(x) >= 1])"
   ]
  },
  {
   "cell_type": "code",
   "execution_count": 70,
   "id": "e47db2f2",
   "metadata": {},
   "outputs": [],
   "source": [
    "def getTextFeatures(df, txt, max_features=5000, ngrams=(1,2), verbose=True): #, max_features=10000\n",
    "    if verbose:\n",
    "        print('processing: ', txt)\n",
    "    vectorizer = TfidfVectorizer(stop_words=stop_words,\n",
    "                                 #preprocessor=wordPreProcess,\n",
    "                                 max_features=max_features,\n",
    "                                 binary=True,\n",
    "                                 ngram_range=ngrams)\n",
    "    X = vectorizer.fit_transform(df[txt])\n",
    "    return X, vectorizer.get_feature_names_out()"
   ]
  },
  {
   "attachments": {},
   "cell_type": "markdown",
   "id": "942b6424",
   "metadata": {},
   "source": [
    "## View and prepare text"
   ]
  },
  {
   "cell_type": "code",
   "execution_count": 71,
   "id": "436bcf73",
   "metadata": {},
   "outputs": [
    {
     "name": "stdout",
     "output_type": "stream",
     "text": [
      "I bought a house in XXXX XXXX in XXXX. It was my primary residence. I fixed it up and made the payments regularly until about XXXX XXXX at which point I called the bank to see what options were available. I explained that I was unable to make the payments any longer, that my parents were sick and that I had put the house on the market in XXXX and moved to XXXX. I gave them all the information they requested. Since then they have continually bounced me from one representative to another almost like a shell game. They did this until the information was outdated and I had to submit all new information such as my XXXX tax statements, bank statements, recent pay stubs, and an explanation why I was unable to make the payments. They would then tell me via mail that I do n't meet investor guidelines. I talked to HUD and they tell me I do! The bank assigns me another representative and we go through the whole procedure again. By now we are 9 months into this process doing this hide and seek and we start a new year. Now I must submit my XXXX taxes, bank info and an explaination why I cant make the payments. My realtor has been going through all this with me over and over again I think at least XXXX times in the past year, so my realtor tells me this week that this is going to be the last time! Today I get a letter from the bank stating that my mortgage is being transferred to another servicer! This XXXX has been going on now for a year and 8 months! \n",
      "\n",
      "#####################\n",
      "XX/XX/XXXX my husband and I took an equity line of credit with Bank of America. We had a pre-existing 2nd mortgage with them for {$120000.00}. and a {$530000.00} 1st mortgage with XXXX XXXX ( whom is not XXXX XXXX ). At the time, the appraisal came in at {$750000.00} and so Bank of America gave us a new 2nd mortgage at {$210000.00}. \n",
      "We did not know that we could not finance 100 % of the equity in our home. We still have the XXXX mortgages with an appraisal at {$580000.00}. I am only paying interest on the Bank of America loan and I have modified my mortgage payment 2 years ago. I tried to modify it again but was unable because they could not lower my payment to the govt. percentage rate. That is when I learned that I should n't have been able to finance to 100 %. I did all the mortgage application through a salesman that had contacted me by phone and thus the mortgage is in my name only ( we really do n't understand why ). \n",
      "At this point, my salary is XXXX of the amount it was in XXXX am a XXXX and my reimbursements from the XXXX is the reason for the lower pay. I am taking classes to obtain a XXXX in XXXX but I am only partially into this program. When I finish, I have {$95000.00} of student loan debt to begin paying also. This is why I tried to modify again ; I sent paper work in once using my salary and a contribution from my husband 's and I was denied because they said I did not make enough money. I reapplied and tried to have my husband 's name put on the mortgage and was denied again due to not meeting the govt percentage requirement. XXXX told me that I can not add his name without refinancing and we would be denied for that. \n",
      "Yes, we were stupid like so many others. We are hanging on and I am afraid to even contact Bank of America for fear that they will want me to give back a percentage of the 2nd mortgage. We have no savings, living week to week so there 's no possible way we could handle that. My office is in my home so even if I was to downsize my home, I would have to lease office space so I ca n't win. \n",
      "2 years ago, I had to file Chapter XXXX bankruptcy for myself because of the loss of income. The attorney at that time was not a mortgage attorney but felt that there has been some questionable activities in loaning us money. I can not afford to hire another attorney to investigate especially when XXXX XXXX says there is nothing that can be modified. \n",
      "Is there? \n",
      "\n",
      "#####################\n",
      "Dear sir/madam, I want ESCALLATE to remove the negative report they noted on my credit report because I do n't own the debt in question ( MEDICAL BILL ). They have to remove that from my credit report IMMEDIATELY \n",
      "\n",
      "#####################\n",
      "I had XXXX Alliance One Accounts on my credit report, for {$60.00} each from \" parking tickets. '' They were from a car that I had sold, but the buyer did n't transfer the title. \n",
      "When I called to make a payment, they told me they would delete the accounts from my credit report. On XXXX XXXX, I was notified by the credit bureaus they came off my report. On XXXX XXXX, they re-reported with no notification from the debt collector or the credit bureaus. Now, when I call the debt collector, they say that I owe {$5400.00} in past parking tickets. Every time I 've ever dealt with this company, I 've paid my account IN FULL. This is so disheartening that they do this to consumers. I paid them in full, they agreed to delete the accounts, not they re-reported them and it weighed down my credit score by XXXX points. \n",
      "\n",
      "#####################\n",
      "Portfolio Recovery continues to contact me and my parents from multiple numbers at all times of the day! \n",
      "\n",
      "#####################\n"
     ]
    }
   ],
   "source": [
    "for i in df_val_fe['consumer_complaint_narrative'].head(5):\n",
    "    print(i)\n",
    "    print(\"#####################\")"
   ]
  },
  {
   "cell_type": "code",
   "execution_count": 72,
   "id": "61ac8f73",
   "metadata": {},
   "outputs": [],
   "source": [
    "df_val_fe = df_val_fe.rename({'consumer_complaint_narrative':'text'},axis=1)"
   ]
  },
  {
   "cell_type": "code",
   "execution_count": 73,
   "id": "604135ae",
   "metadata": {},
   "outputs": [],
   "source": [
    "df_val_fe['text'] = df_val_fe['text'].astype(str)"
   ]
  },
  {
   "cell_type": "code",
   "execution_count": 74,
   "id": "ec022ef7",
   "metadata": {},
   "outputs": [
    {
     "data": {
      "text/html": [
       "<div>\n",
       "<style scoped>\n",
       "    .dataframe tbody tr th:only-of-type {\n",
       "        vertical-align: middle;\n",
       "    }\n",
       "\n",
       "    .dataframe tbody tr th {\n",
       "        vertical-align: top;\n",
       "    }\n",
       "\n",
       "    .dataframe thead th {\n",
       "        text-align: right;\n",
       "    }\n",
       "</style>\n",
       "<table border=\"1\" class=\"dataframe\">\n",
       "  <thead>\n",
       "    <tr style=\"text-align: right;\">\n",
       "      <th></th>\n",
       "      <th>text</th>\n",
       "      <th>timely_response</th>\n",
       "      <th>consumer_disputed?</th>\n",
       "      <th>days_between_receipt_and_sent</th>\n",
       "      <th>sub_product_freq</th>\n",
       "      <th>sub_product_null_flag</th>\n",
       "      <th>sub_product_low_flag</th>\n",
       "      <th>issue_freq</th>\n",
       "      <th>issue_low_flag</th>\n",
       "      <th>sub_issue_freq</th>\n",
       "      <th>sub_issue_null_flag</th>\n",
       "      <th>sub_issue_low_flag</th>\n",
       "      <th>company_public_response_freq</th>\n",
       "      <th>company_public_response_null_flag</th>\n",
       "      <th>company_public_response_low_flag</th>\n",
       "      <th>company_freq</th>\n",
       "      <th>company_low_flag</th>\n",
       "      <th>state_freq</th>\n",
       "      <th>state_null_flag</th>\n",
       "      <th>state_low_flag</th>\n",
       "      <th>zipcode_freq</th>\n",
       "      <th>zipcode_null_flag</th>\n",
       "      <th>zipcode_low_flag</th>\n",
       "      <th>Not Older American, Not Servicemember</th>\n",
       "      <th>Older American</th>\n",
       "      <th>Older American, Servicemember</th>\n",
       "      <th>Servicemember</th>\n",
       "      <th>Closed</th>\n",
       "      <th>Closed with explanation</th>\n",
       "      <th>Closed with monetary relief</th>\n",
       "      <th>Closed with non-monetary relief</th>\n",
       "      <th>Untimely response</th>\n",
       "    </tr>\n",
       "  </thead>\n",
       "  <tbody>\n",
       "    <tr>\n",
       "      <th>0</th>\n",
       "      <td>I bought a house in XXXX XXXX in XXXX. It was ...</td>\n",
       "      <td>1</td>\n",
       "      <td>0</td>\n",
       "      <td>0</td>\n",
       "      <td>0.040416</td>\n",
       "      <td>0</td>\n",
       "      <td>0</td>\n",
       "      <td>0.076057</td>\n",
       "      <td>0</td>\n",
       "      <td>-1.000000</td>\n",
       "      <td>1</td>\n",
       "      <td>0</td>\n",
       "      <td>0.291824</td>\n",
       "      <td>0</td>\n",
       "      <td>0</td>\n",
       "      <td>0.051108</td>\n",
       "      <td>0</td>\n",
       "      <td>0.149975</td>\n",
       "      <td>0</td>\n",
       "      <td>0</td>\n",
       "      <td>0.001996</td>\n",
       "      <td>0</td>\n",
       "      <td>0</td>\n",
       "      <td>1</td>\n",
       "      <td>0</td>\n",
       "      <td>0</td>\n",
       "      <td>0</td>\n",
       "      <td>0</td>\n",
       "      <td>1</td>\n",
       "      <td>0</td>\n",
       "      <td>0</td>\n",
       "      <td>0</td>\n",
       "    </tr>\n",
       "    <tr>\n",
       "      <th>1</th>\n",
       "      <td>XX/XX/XXXX my husband and I took an equity lin...</td>\n",
       "      <td>1</td>\n",
       "      <td>0</td>\n",
       "      <td>0</td>\n",
       "      <td>0.013044</td>\n",
       "      <td>0</td>\n",
       "      <td>0</td>\n",
       "      <td>0.023950</td>\n",
       "      <td>0</td>\n",
       "      <td>-1.000000</td>\n",
       "      <td>1</td>\n",
       "      <td>0</td>\n",
       "      <td>0.291824</td>\n",
       "      <td>0</td>\n",
       "      <td>0</td>\n",
       "      <td>0.051108</td>\n",
       "      <td>0</td>\n",
       "      <td>0.034571</td>\n",
       "      <td>0</td>\n",
       "      <td>0</td>\n",
       "      <td>0.001212</td>\n",
       "      <td>0</td>\n",
       "      <td>0</td>\n",
       "      <td>1</td>\n",
       "      <td>0</td>\n",
       "      <td>0</td>\n",
       "      <td>0</td>\n",
       "      <td>0</td>\n",
       "      <td>1</td>\n",
       "      <td>0</td>\n",
       "      <td>0</td>\n",
       "      <td>0</td>\n",
       "    </tr>\n",
       "    <tr>\n",
       "      <th>2</th>\n",
       "      <td>Dear sir/madam, I want ESCALLATE to remove the...</td>\n",
       "      <td>1</td>\n",
       "      <td>1</td>\n",
       "      <td>0</td>\n",
       "      <td>0.039490</td>\n",
       "      <td>0</td>\n",
       "      <td>0</td>\n",
       "      <td>0.115546</td>\n",
       "      <td>0</td>\n",
       "      <td>0.070283</td>\n",
       "      <td>0</td>\n",
       "      <td>0</td>\n",
       "      <td>0.291824</td>\n",
       "      <td>0</td>\n",
       "      <td>0</td>\n",
       "      <td>0.000143</td>\n",
       "      <td>1</td>\n",
       "      <td>0.037066</td>\n",
       "      <td>0</td>\n",
       "      <td>0</td>\n",
       "      <td>0.006914</td>\n",
       "      <td>0</td>\n",
       "      <td>0</td>\n",
       "      <td>1</td>\n",
       "      <td>0</td>\n",
       "      <td>0</td>\n",
       "      <td>0</td>\n",
       "      <td>1</td>\n",
       "      <td>0</td>\n",
       "      <td>0</td>\n",
       "      <td>0</td>\n",
       "      <td>0</td>\n",
       "    </tr>\n",
       "    <tr>\n",
       "      <th>3</th>\n",
       "      <td>I had XXXX Alliance One Accounts on my credit ...</td>\n",
       "      <td>1</td>\n",
       "      <td>0</td>\n",
       "      <td>0</td>\n",
       "      <td>0.077625</td>\n",
       "      <td>0</td>\n",
       "      <td>0</td>\n",
       "      <td>0.024449</td>\n",
       "      <td>0</td>\n",
       "      <td>0.017963</td>\n",
       "      <td>0</td>\n",
       "      <td>0</td>\n",
       "      <td>-1.000000</td>\n",
       "      <td>1</td>\n",
       "      <td>0</td>\n",
       "      <td>0.000998</td>\n",
       "      <td>1</td>\n",
       "      <td>0.022168</td>\n",
       "      <td>0</td>\n",
       "      <td>0</td>\n",
       "      <td>0.003707</td>\n",
       "      <td>0</td>\n",
       "      <td>0</td>\n",
       "      <td>1</td>\n",
       "      <td>0</td>\n",
       "      <td>0</td>\n",
       "      <td>0</td>\n",
       "      <td>0</td>\n",
       "      <td>1</td>\n",
       "      <td>0</td>\n",
       "      <td>0</td>\n",
       "      <td>0</td>\n",
       "    </tr>\n",
       "    <tr>\n",
       "      <th>4</th>\n",
       "      <td>Portfolio Recovery continues to contact me and...</td>\n",
       "      <td>1</td>\n",
       "      <td>0</td>\n",
       "      <td>0</td>\n",
       "      <td>0.052890</td>\n",
       "      <td>0</td>\n",
       "      <td>0</td>\n",
       "      <td>0.039775</td>\n",
       "      <td>0</td>\n",
       "      <td>0.023024</td>\n",
       "      <td>0</td>\n",
       "      <td>0</td>\n",
       "      <td>-1.000000</td>\n",
       "      <td>1</td>\n",
       "      <td>0</td>\n",
       "      <td>0.010692</td>\n",
       "      <td>0</td>\n",
       "      <td>0.031150</td>\n",
       "      <td>0</td>\n",
       "      <td>0</td>\n",
       "      <td>0.000356</td>\n",
       "      <td>0</td>\n",
       "      <td>1</td>\n",
       "      <td>1</td>\n",
       "      <td>0</td>\n",
       "      <td>0</td>\n",
       "      <td>0</td>\n",
       "      <td>0</td>\n",
       "      <td>0</td>\n",
       "      <td>0</td>\n",
       "      <td>1</td>\n",
       "      <td>0</td>\n",
       "    </tr>\n",
       "  </tbody>\n",
       "</table>\n",
       "</div>"
      ],
      "text/plain": [
       "                                                text  timely_response  \\\n",
       "0  I bought a house in XXXX XXXX in XXXX. It was ...                1   \n",
       "1  XX/XX/XXXX my husband and I took an equity lin...                1   \n",
       "2  Dear sir/madam, I want ESCALLATE to remove the...                1   \n",
       "3  I had XXXX Alliance One Accounts on my credit ...                1   \n",
       "4  Portfolio Recovery continues to contact me and...                1   \n",
       "\n",
       "   consumer_disputed?  days_between_receipt_and_sent  sub_product_freq  \\\n",
       "0                   0                              0          0.040416   \n",
       "1                   0                              0          0.013044   \n",
       "2                   1                              0          0.039490   \n",
       "3                   0                              0          0.077625   \n",
       "4                   0                              0          0.052890   \n",
       "\n",
       "   sub_product_null_flag  sub_product_low_flag  issue_freq  issue_low_flag  \\\n",
       "0                      0                     0    0.076057               0   \n",
       "1                      0                     0    0.023950               0   \n",
       "2                      0                     0    0.115546               0   \n",
       "3                      0                     0    0.024449               0   \n",
       "4                      0                     0    0.039775               0   \n",
       "\n",
       "   sub_issue_freq  sub_issue_null_flag  sub_issue_low_flag  \\\n",
       "0       -1.000000                    1                   0   \n",
       "1       -1.000000                    1                   0   \n",
       "2        0.070283                    0                   0   \n",
       "3        0.017963                    0                   0   \n",
       "4        0.023024                    0                   0   \n",
       "\n",
       "   company_public_response_freq  company_public_response_null_flag  \\\n",
       "0                      0.291824                                  0   \n",
       "1                      0.291824                                  0   \n",
       "2                      0.291824                                  0   \n",
       "3                     -1.000000                                  1   \n",
       "4                     -1.000000                                  1   \n",
       "\n",
       "   company_public_response_low_flag  company_freq  company_low_flag  \\\n",
       "0                                 0      0.051108                 0   \n",
       "1                                 0      0.051108                 0   \n",
       "2                                 0      0.000143                 1   \n",
       "3                                 0      0.000998                 1   \n",
       "4                                 0      0.010692                 0   \n",
       "\n",
       "   state_freq  state_null_flag  state_low_flag  zipcode_freq  \\\n",
       "0    0.149975                0               0      0.001996   \n",
       "1    0.034571                0               0      0.001212   \n",
       "2    0.037066                0               0      0.006914   \n",
       "3    0.022168                0               0      0.003707   \n",
       "4    0.031150                0               0      0.000356   \n",
       "\n",
       "   zipcode_null_flag  zipcode_low_flag  Not Older American, Not Servicemember  \\\n",
       "0                  0                 0                                      1   \n",
       "1                  0                 0                                      1   \n",
       "2                  0                 0                                      1   \n",
       "3                  0                 0                                      1   \n",
       "4                  0                 1                                      1   \n",
       "\n",
       "   Older American  Older American, Servicemember  Servicemember  Closed  \\\n",
       "0               0                              0              0       0   \n",
       "1               0                              0              0       0   \n",
       "2               0                              0              0       1   \n",
       "3               0                              0              0       0   \n",
       "4               0                              0              0       0   \n",
       "\n",
       "   Closed with explanation  Closed with monetary relief  \\\n",
       "0                        1                            0   \n",
       "1                        1                            0   \n",
       "2                        0                            0   \n",
       "3                        1                            0   \n",
       "4                        0                            0   \n",
       "\n",
       "   Closed with non-monetary relief  Untimely response  \n",
       "0                                0                  0  \n",
       "1                                0                  0  \n",
       "2                                0                  0  \n",
       "3                                0                  0  \n",
       "4                                1                  0  "
      ]
     },
     "execution_count": 74,
     "metadata": {},
     "output_type": "execute_result"
    }
   ],
   "source": [
    "df_val_fe.head()"
   ]
  },
  {
   "cell_type": "markdown",
   "id": "f4946ba2",
   "metadata": {},
   "source": [
    "## Sanitize and vectorize text"
   ]
  },
  {
   "cell_type": "code",
   "execution_count": 75,
   "id": "3480c46e",
   "metadata": {},
   "outputs": [],
   "source": [
    "df_val_fe = clean_text(df_val_fe)"
   ]
  },
  {
   "cell_type": "code",
   "execution_count": 76,
   "id": "4d7f1975",
   "metadata": {},
   "outputs": [
    {
     "name": "stdout",
     "output_type": "stream",
     "text": [
      "processing:  text\n"
     ]
    }
   ],
   "source": [
    "X_text_val, feat_text_val = getTextFeatures(df_val_fe, 'text')"
   ]
  },
  {
   "cell_type": "code",
   "execution_count": 77,
   "id": "5fb81528",
   "metadata": {},
   "outputs": [
    {
     "name": "stdout",
     "output_type": "stream",
     "text": [
      "  (0, 2828)\t0.1482135909183692\n",
      "  (0, 2449)\t0.1414872351877788\n",
      "  (0, 1954)\t0.14067789753837404\n",
      "  (0, 2384)\t0.12446666471937698\n",
      "  (0, 3170)\t0.11621109385080053\n",
      "  (0, 4496)\t0.14506969372566447\n",
      "  (0, 2420)\t0.13392101525119746\n",
      "  (0, 4769)\t0.1322491376049367\n",
      "  (0, 4952)\t0.1419036541434029\n",
      "  (0, 3271)\t0.10656450958628484\n",
      "  (0, 3194)\t0.14937305720050173\n",
      "  (0, 529)\t0.11509842862127745\n",
      "  (0, 2244)\t0.13392101525119746\n",
      "  (0, 1934)\t0.14878548887370843\n",
      "  (0, 2635)\t0.0884058533944306\n",
      "  (0, 4661)\t0.1441164300166864\n",
      "  (0, 699)\t0.11934831350884734\n",
      "  (0, 2610)\t0.0944138400849343\n",
      "  (0, 3418)\t0.14997717890702902\n",
      "  (0, 4076)\t0.1027221846544153\n",
      "  (0, 4597)\t0.08765571673740374\n",
      "  (0, 2804)\t0.058145682842892565\n",
      "  (0, 4267)\t0.07111601496438637\n",
      "  (0, 2445)\t0.05459710251486573\n",
      "  (0, 1943)\t0.052300393452712875\n",
      "  :\t:\n",
      "  (14028, 30)\t0.0399391636147313\n",
      "  (14028, 3741)\t0.04843203279986235\n",
      "  (14028, 471)\t0.055479837520629884\n",
      "  (14028, 1973)\t0.07388350502415936\n",
      "  (14028, 4531)\t0.049128118095654316\n",
      "  (14028, 2748)\t0.06074624574227231\n",
      "  (14028, 4721)\t0.08758800240191099\n",
      "  (14028, 4030)\t0.05423012153267578\n",
      "  (14028, 245)\t0.053668446819885134\n",
      "  (14028, 4395)\t0.09481516947377938\n",
      "  (14028, 1)\t0.07282698145703775\n",
      "  (14028, 4284)\t0.058002953861321205\n",
      "  (14028, 1119)\t0.057830208427895914\n",
      "  (14028, 4525)\t0.07504852488301149\n",
      "  (14028, 4473)\t0.043297745696682564\n",
      "  (14028, 2419)\t0.09454595841958953\n",
      "  (14028, 4968)\t0.05226136843687525\n",
      "  (14028, 2764)\t0.05308802260058268\n",
      "  (14028, 4399)\t0.10346706589551467\n",
      "  (14028, 2615)\t0.07108228877058768\n",
      "  (14028, 3173)\t0.05356725810138183\n",
      "  (14028, 2944)\t0.06732076041914568\n",
      "  (14028, 3516)\t0.07366123424314004\n",
      "  (14028, 3992)\t0.07146316344541107\n",
      "  (14028, 506)\t0.05169844818570815\n"
     ]
    }
   ],
   "source": [
    "print(X_text_val)"
   ]
  },
  {
   "cell_type": "code",
   "execution_count": 78,
   "id": "edf5fa9b",
   "metadata": {},
   "outputs": [],
   "source": [
    "#Saving the validation text features into an NPZ file\n",
    "sparse.save_npz(\"./input/X_matrices/tfidf/X_text_val.npz\", X_text_val)"
   ]
  },
  {
   "attachments": {},
   "cell_type": "markdown",
   "id": "cc35030d",
   "metadata": {},
   "source": [
    "## Combine text matrix with engineered features from EDA"
   ]
  },
  {
   "cell_type": "code",
   "execution_count": 79,
   "id": "8a6ee4c6",
   "metadata": {},
   "outputs": [],
   "source": [
    "# get engineered features together in place\n",
    "numFeatures =['timely_response', 'consumer_disputed?', 'days_between_receipt_and_sent',\n",
    "              'sub_product_freq', 'sub_product_null_flag', 'sub_product_low_flag', 'issue_freq',\n",
    "              'issue_low_flag', 'sub_issue_freq','sub_issue_null_flag', 'sub_issue_low_flag',\n",
    "              'company_public_response_freq', 'company_public_response_null_flag', 'company_public_response_low_flag',\n",
    "              'company_freq', 'company_low_flag', 'state_freq', 'state_null_flag', 'state_low_flag',\n",
    "              'zipcode_freq', 'zipcode_null_flag', 'zipcode_low_flag', 'Not Older American, Not Servicemember',\n",
    "              'Older American', 'Older American, Servicemember', 'Servicemember', 'Closed', 'Closed with explanation',\n",
    "              'Closed with monetary relief', 'Closed with non-monetary relief', 'Untimely response']"
   ]
  },
  {
   "cell_type": "code",
   "execution_count": 80,
   "id": "e9691292",
   "metadata": {},
   "outputs": [],
   "source": [
    "X_val = hstack((X_text_val, StandardScaler().fit_transform(df_val_fe[numFeatures]))).tocsr()"
   ]
  },
  {
   "cell_type": "code",
   "execution_count": 81,
   "id": "ccce2543",
   "metadata": {},
   "outputs": [],
   "source": [
    "#Saving the combined features into an NPZ file\n",
    "sparse.save_npz(\"./input/X_matrices/tfidf/X_val.npz\", X_val)"
   ]
  },
  {
   "cell_type": "code",
   "execution_count": null,
   "id": "fabb8dd0",
   "metadata": {},
   "outputs": [],
   "source": []
  }
 ],
 "metadata": {
  "kernelspec": {
   "display_name": "Python 3",
   "language": "python",
   "name": "python3"
  },
  "language_info": {
   "codemirror_mode": {
    "name": "ipython",
    "version": 3
   },
   "file_extension": ".py",
   "mimetype": "text/x-python",
   "name": "python",
   "nbconvert_exporter": "python",
   "pygments_lexer": "ipython3",
   "version": "3.9.0"
  },
  "vscode": {
   "interpreter": {
    "hash": "3d00ce96abf83bb4cf2960a98ebc0f7617ff67904ab36479ee95b5efd4b346a2"
   }
  }
 },
 "nbformat": 4,
 "nbformat_minor": 5
}
