{
 "cells": [
  {
   "cell_type": "markdown",
   "id": "cad504ae",
   "metadata": {},
   "source": [
    "## Package imports"
   ]
  },
  {
   "cell_type": "code",
   "execution_count": 1,
   "id": "e33e0e48",
   "metadata": {},
   "outputs": [],
   "source": [
    "import numpy as np\n",
    "import pandas as pd\n",
    "import datetime as dt\n",
    "from tqdm import tqdm\n",
    "tqdm.pandas(desc=\"progress-bar\")\n",
    "from pandas_profiling import ProfileReport\n",
    "from sklearn.model_selection import StratifiedShuffleSplit\n",
    "from sklearn.preprocessing import LabelEncoder, OneHotEncoder\n",
    "import seaborn as sns\n",
    "import matplotlib.pyplot as plt\n",
    "import pyarrow"
   ]
  },
  {
   "cell_type": "code",
   "execution_count": 2,
   "id": "c727bc62",
   "metadata": {},
   "outputs": [],
   "source": [
    "pd.options.display.max_columns = None\n",
    "pd.options.display.max_rows = None\n",
    "%matplotlib inline"
   ]
  },
  {
   "cell_type": "markdown",
   "id": "78df11da",
   "metadata": {},
   "source": [
    "## Import data"
   ]
  },
  {
   "cell_type": "code",
   "execution_count": 3,
   "id": "3ec7fe4a",
   "metadata": {},
   "outputs": [
    {
     "data": {
      "text/html": [
       "<div>\n",
       "<style scoped>\n",
       "    .dataframe tbody tr th:only-of-type {\n",
       "        vertical-align: middle;\n",
       "    }\n",
       "\n",
       "    .dataframe tbody tr th {\n",
       "        vertical-align: top;\n",
       "    }\n",
       "\n",
       "    .dataframe thead th {\n",
       "        text-align: right;\n",
       "    }\n",
       "</style>\n",
       "<table border=\"1\" class=\"dataframe\">\n",
       "  <thead>\n",
       "    <tr style=\"text-align: right;\">\n",
       "      <th></th>\n",
       "      <th>date_received</th>\n",
       "      <th>product</th>\n",
       "      <th>sub_product</th>\n",
       "      <th>issue</th>\n",
       "      <th>sub_issue</th>\n",
       "      <th>consumer_complaint_narrative</th>\n",
       "      <th>company_public_response</th>\n",
       "      <th>company</th>\n",
       "      <th>state</th>\n",
       "      <th>zipcode</th>\n",
       "      <th>tags</th>\n",
       "      <th>consumer_consent_provided</th>\n",
       "      <th>submitted_via</th>\n",
       "      <th>date_sent_to_company</th>\n",
       "      <th>company_response_to_consumer</th>\n",
       "      <th>timely_response</th>\n",
       "      <th>consumer_disputed?</th>\n",
       "      <th>complaint_id</th>\n",
       "    </tr>\n",
       "  </thead>\n",
       "  <tbody>\n",
       "    <tr>\n",
       "      <th>0</th>\n",
       "      <td>08/30/2013</td>\n",
       "      <td>Mortgage</td>\n",
       "      <td>Other mortgage</td>\n",
       "      <td>Loan modification,collection,foreclosure</td>\n",
       "      <td>None</td>\n",
       "      <td>None</td>\n",
       "      <td>None</td>\n",
       "      <td>U.S. Bancorp</td>\n",
       "      <td>CA</td>\n",
       "      <td>95993</td>\n",
       "      <td>None</td>\n",
       "      <td>None</td>\n",
       "      <td>Referral</td>\n",
       "      <td>09/03/2013</td>\n",
       "      <td>Closed with explanation</td>\n",
       "      <td>Yes</td>\n",
       "      <td>Yes</td>\n",
       "      <td>511074</td>\n",
       "    </tr>\n",
       "    <tr>\n",
       "      <th>1</th>\n",
       "      <td>08/30/2013</td>\n",
       "      <td>Mortgage</td>\n",
       "      <td>Other mortgage</td>\n",
       "      <td>Loan servicing, payments, escrow account</td>\n",
       "      <td>None</td>\n",
       "      <td>None</td>\n",
       "      <td>None</td>\n",
       "      <td>Wells Fargo &amp; Company</td>\n",
       "      <td>CA</td>\n",
       "      <td>91104</td>\n",
       "      <td>None</td>\n",
       "      <td>None</td>\n",
       "      <td>Referral</td>\n",
       "      <td>09/03/2013</td>\n",
       "      <td>Closed with explanation</td>\n",
       "      <td>Yes</td>\n",
       "      <td>Yes</td>\n",
       "      <td>511080</td>\n",
       "    </tr>\n",
       "    <tr>\n",
       "      <th>2</th>\n",
       "      <td>08/30/2013</td>\n",
       "      <td>Credit reporting</td>\n",
       "      <td>None</td>\n",
       "      <td>Incorrect information on credit report</td>\n",
       "      <td>Account status</td>\n",
       "      <td>None</td>\n",
       "      <td>None</td>\n",
       "      <td>Wells Fargo &amp; Company</td>\n",
       "      <td>NY</td>\n",
       "      <td>11764</td>\n",
       "      <td>None</td>\n",
       "      <td>None</td>\n",
       "      <td>Postal mail</td>\n",
       "      <td>09/18/2013</td>\n",
       "      <td>Closed with explanation</td>\n",
       "      <td>Yes</td>\n",
       "      <td>No</td>\n",
       "      <td>510473</td>\n",
       "    </tr>\n",
       "    <tr>\n",
       "      <th>3</th>\n",
       "      <td>08/30/2013</td>\n",
       "      <td>Student loan</td>\n",
       "      <td>Non-federal student loan</td>\n",
       "      <td>Repaying your loan</td>\n",
       "      <td>Repaying your loan</td>\n",
       "      <td>None</td>\n",
       "      <td>None</td>\n",
       "      <td>Navient Solutions, Inc.</td>\n",
       "      <td>MD</td>\n",
       "      <td>21402</td>\n",
       "      <td>None</td>\n",
       "      <td>None</td>\n",
       "      <td>Email</td>\n",
       "      <td>08/30/2013</td>\n",
       "      <td>Closed with explanation</td>\n",
       "      <td>Yes</td>\n",
       "      <td>Yes</td>\n",
       "      <td>510326</td>\n",
       "    </tr>\n",
       "    <tr>\n",
       "      <th>4</th>\n",
       "      <td>08/30/2013</td>\n",
       "      <td>Debt collection</td>\n",
       "      <td>Credit card</td>\n",
       "      <td>False statements or representation</td>\n",
       "      <td>Attempted to collect wrong amount</td>\n",
       "      <td>None</td>\n",
       "      <td>None</td>\n",
       "      <td>Resurgent Capital Services L.P.</td>\n",
       "      <td>GA</td>\n",
       "      <td>30106</td>\n",
       "      <td>None</td>\n",
       "      <td>None</td>\n",
       "      <td>Web</td>\n",
       "      <td>08/30/2013</td>\n",
       "      <td>Closed with explanation</td>\n",
       "      <td>Yes</td>\n",
       "      <td>Yes</td>\n",
       "      <td>511067</td>\n",
       "    </tr>\n",
       "    <tr>\n",
       "      <th>5</th>\n",
       "      <td>08/30/2013</td>\n",
       "      <td>Credit card</td>\n",
       "      <td>None</td>\n",
       "      <td>Application processing delay</td>\n",
       "      <td>None</td>\n",
       "      <td>None</td>\n",
       "      <td>None</td>\n",
       "      <td>Capital One</td>\n",
       "      <td>NY</td>\n",
       "      <td>12206</td>\n",
       "      <td>None</td>\n",
       "      <td>None</td>\n",
       "      <td>Phone</td>\n",
       "      <td>09/03/2013</td>\n",
       "      <td>Closed with explanation</td>\n",
       "      <td>Yes</td>\n",
       "      <td>Yes</td>\n",
       "      <td>510098</td>\n",
       "    </tr>\n",
       "    <tr>\n",
       "      <th>6</th>\n",
       "      <td>08/30/2013</td>\n",
       "      <td>Credit card</td>\n",
       "      <td>None</td>\n",
       "      <td>Credit line increase/decrease</td>\n",
       "      <td>None</td>\n",
       "      <td>None</td>\n",
       "      <td>None</td>\n",
       "      <td>Wells Fargo &amp; Company</td>\n",
       "      <td>AZ</td>\n",
       "      <td>85730</td>\n",
       "      <td>None</td>\n",
       "      <td>None</td>\n",
       "      <td>Postal mail</td>\n",
       "      <td>09/05/2013</td>\n",
       "      <td>Closed with explanation</td>\n",
       "      <td>Yes</td>\n",
       "      <td>No</td>\n",
       "      <td>511062</td>\n",
       "    </tr>\n",
       "    <tr>\n",
       "      <th>7</th>\n",
       "      <td>08/30/2013</td>\n",
       "      <td>Bank account or service</td>\n",
       "      <td>Checking account</td>\n",
       "      <td>Deposits and withdrawals</td>\n",
       "      <td>None</td>\n",
       "      <td>None</td>\n",
       "      <td>None</td>\n",
       "      <td>Bank of America</td>\n",
       "      <td>IL</td>\n",
       "      <td>60660</td>\n",
       "      <td>None</td>\n",
       "      <td>None</td>\n",
       "      <td>Referral</td>\n",
       "      <td>09/04/2013</td>\n",
       "      <td>Closed with explanation</td>\n",
       "      <td>Yes</td>\n",
       "      <td>No</td>\n",
       "      <td>511116</td>\n",
       "    </tr>\n",
       "    <tr>\n",
       "      <th>8</th>\n",
       "      <td>08/30/2013</td>\n",
       "      <td>Bank account or service</td>\n",
       "      <td>Checking account</td>\n",
       "      <td>Deposits and withdrawals</td>\n",
       "      <td>None</td>\n",
       "      <td>None</td>\n",
       "      <td>None</td>\n",
       "      <td>Bank of America</td>\n",
       "      <td>GA</td>\n",
       "      <td>30016</td>\n",
       "      <td>None</td>\n",
       "      <td>None</td>\n",
       "      <td>Referral</td>\n",
       "      <td>09/04/2013</td>\n",
       "      <td>Closed with explanation</td>\n",
       "      <td>Yes</td>\n",
       "      <td>No</td>\n",
       "      <td>511091</td>\n",
       "    </tr>\n",
       "    <tr>\n",
       "      <th>9</th>\n",
       "      <td>09/17/2013</td>\n",
       "      <td>Mortgage</td>\n",
       "      <td>Conventional adjustable mortgage (ARM)</td>\n",
       "      <td>Loan modification,collection,foreclosure</td>\n",
       "      <td>None</td>\n",
       "      <td>None</td>\n",
       "      <td>None</td>\n",
       "      <td>SunTrust Banks, Inc.</td>\n",
       "      <td>CA</td>\n",
       "      <td>94551</td>\n",
       "      <td>None</td>\n",
       "      <td>None</td>\n",
       "      <td>Web</td>\n",
       "      <td>09/18/2013</td>\n",
       "      <td>Closed with explanation</td>\n",
       "      <td>Yes</td>\n",
       "      <td>Yes</td>\n",
       "      <td>530602</td>\n",
       "    </tr>\n",
       "  </tbody>\n",
       "</table>\n",
       "</div>"
      ],
      "text/plain": [
       "  date_received                  product  \\\n",
       "0    08/30/2013                 Mortgage   \n",
       "1    08/30/2013                 Mortgage   \n",
       "2    08/30/2013         Credit reporting   \n",
       "3    08/30/2013             Student loan   \n",
       "4    08/30/2013          Debt collection   \n",
       "5    08/30/2013              Credit card   \n",
       "6    08/30/2013              Credit card   \n",
       "7    08/30/2013  Bank account or service   \n",
       "8    08/30/2013  Bank account or service   \n",
       "9    09/17/2013                 Mortgage   \n",
       "\n",
       "                              sub_product  \\\n",
       "0                          Other mortgage   \n",
       "1                          Other mortgage   \n",
       "2                                    None   \n",
       "3                Non-federal student loan   \n",
       "4                             Credit card   \n",
       "5                                    None   \n",
       "6                                    None   \n",
       "7                        Checking account   \n",
       "8                        Checking account   \n",
       "9  Conventional adjustable mortgage (ARM)   \n",
       "\n",
       "                                      issue  \\\n",
       "0  Loan modification,collection,foreclosure   \n",
       "1  Loan servicing, payments, escrow account   \n",
       "2    Incorrect information on credit report   \n",
       "3                        Repaying your loan   \n",
       "4        False statements or representation   \n",
       "5              Application processing delay   \n",
       "6             Credit line increase/decrease   \n",
       "7                  Deposits and withdrawals   \n",
       "8                  Deposits and withdrawals   \n",
       "9  Loan modification,collection,foreclosure   \n",
       "\n",
       "                           sub_issue consumer_complaint_narrative  \\\n",
       "0                               None                         None   \n",
       "1                               None                         None   \n",
       "2                     Account status                         None   \n",
       "3                 Repaying your loan                         None   \n",
       "4  Attempted to collect wrong amount                         None   \n",
       "5                               None                         None   \n",
       "6                               None                         None   \n",
       "7                               None                         None   \n",
       "8                               None                         None   \n",
       "9                               None                         None   \n",
       "\n",
       "  company_public_response                          company state zipcode  \\\n",
       "0                    None                     U.S. Bancorp    CA   95993   \n",
       "1                    None            Wells Fargo & Company    CA   91104   \n",
       "2                    None            Wells Fargo & Company    NY   11764   \n",
       "3                    None          Navient Solutions, Inc.    MD   21402   \n",
       "4                    None  Resurgent Capital Services L.P.    GA   30106   \n",
       "5                    None                      Capital One    NY   12206   \n",
       "6                    None            Wells Fargo & Company    AZ   85730   \n",
       "7                    None                  Bank of America    IL   60660   \n",
       "8                    None                  Bank of America    GA   30016   \n",
       "9                    None             SunTrust Banks, Inc.    CA   94551   \n",
       "\n",
       "   tags consumer_consent_provided submitted_via date_sent_to_company  \\\n",
       "0  None                      None      Referral           09/03/2013   \n",
       "1  None                      None      Referral           09/03/2013   \n",
       "2  None                      None   Postal mail           09/18/2013   \n",
       "3  None                      None         Email           08/30/2013   \n",
       "4  None                      None           Web           08/30/2013   \n",
       "5  None                      None         Phone           09/03/2013   \n",
       "6  None                      None   Postal mail           09/05/2013   \n",
       "7  None                      None      Referral           09/04/2013   \n",
       "8  None                      None      Referral           09/04/2013   \n",
       "9  None                      None           Web           09/18/2013   \n",
       "\n",
       "  company_response_to_consumer timely_response consumer_disputed?  \\\n",
       "0      Closed with explanation             Yes                Yes   \n",
       "1      Closed with explanation             Yes                Yes   \n",
       "2      Closed with explanation             Yes                 No   \n",
       "3      Closed with explanation             Yes                Yes   \n",
       "4      Closed with explanation             Yes                Yes   \n",
       "5      Closed with explanation             Yes                Yes   \n",
       "6      Closed with explanation             Yes                 No   \n",
       "7      Closed with explanation             Yes                 No   \n",
       "8      Closed with explanation             Yes                 No   \n",
       "9      Closed with explanation             Yes                Yes   \n",
       "\n",
       "   complaint_id  \n",
       "0        511074  \n",
       "1        511080  \n",
       "2        510473  \n",
       "3        510326  \n",
       "4        511067  \n",
       "5        510098  \n",
       "6        511062  \n",
       "7        511116  \n",
       "8        511091  \n",
       "9        530602  "
      ]
     },
     "execution_count": 3,
     "metadata": {},
     "output_type": "execute_result"
    }
   ],
   "source": [
    "data = pd.read_parquet('./input/consumer_complaints.parquet')\n",
    "data.head(10)"
   ]
  },
  {
   "cell_type": "code",
   "execution_count": 4,
   "id": "69ee9ce2",
   "metadata": {},
   "outputs": [],
   "source": [
    "# Only keep records with a complaint narrative for NLP\n",
    "# Will reduce dataset from over a half million to ~67k, which is still well sized \n",
    "data = data[~data['consumer_complaint_narrative'].isnull()].reset_index(drop=True)"
   ]
  },
  {
   "cell_type": "code",
   "execution_count": 5,
   "id": "b5cd5ff4",
   "metadata": {},
   "outputs": [
    {
     "name": "stdout",
     "output_type": "stream",
     "text": [
      "<class 'pandas.core.frame.DataFrame'>\n",
      "RangeIndex: 66806 entries, 0 to 66805\n",
      "Data columns (total 18 columns):\n",
      " #   Column                        Non-Null Count  Dtype \n",
      "---  ------                        --------------  ----- \n",
      " 0   date_received                 66806 non-null  object\n",
      " 1   product                       66806 non-null  object\n",
      " 2   sub_product                   46351 non-null  object\n",
      " 3   issue                         66806 non-null  object\n",
      " 4   sub_issue                     32932 non-null  object\n",
      " 5   consumer_complaint_narrative  66806 non-null  object\n",
      " 6   company_public_response       32776 non-null  object\n",
      " 7   company                       66806 non-null  object\n",
      " 8   state                         66620 non-null  object\n",
      " 9   zipcode                       66617 non-null  object\n",
      " 10  tags                          11417 non-null  object\n",
      " 11  consumer_consent_provided     66806 non-null  object\n",
      " 12  submitted_via                 66806 non-null  object\n",
      " 13  date_sent_to_company          66806 non-null  object\n",
      " 14  company_response_to_consumer  66806 non-null  object\n",
      " 15  timely_response               66806 non-null  object\n",
      " 16  consumer_disputed?            66806 non-null  object\n",
      " 17  complaint_id                  66806 non-null  int64 \n",
      "dtypes: int64(1), object(17)\n",
      "memory usage: 9.2+ MB\n"
     ]
    }
   ],
   "source": [
    "data.info()"
   ]
  },
  {
   "cell_type": "code",
   "execution_count": 6,
   "id": "b4a32e74",
   "metadata": {},
   "outputs": [],
   "source": [
    "# Move target (product) column to end, where I like it :)\n",
    "col_at_end = ['product']\n",
    "data = data[[c for c in data if c not in col_at_end] \n",
    "        + [c for c in col_at_end if c in data]]"
   ]
  },
  {
   "cell_type": "code",
   "execution_count": 7,
   "id": "df427982",
   "metadata": {},
   "outputs": [
    {
     "name": "stdout",
     "output_type": "stream",
     "text": [
      "<class 'pandas.core.frame.DataFrame'>\n",
      "RangeIndex: 66806 entries, 0 to 66805\n",
      "Data columns (total 18 columns):\n",
      " #   Column                        Non-Null Count  Dtype \n",
      "---  ------                        --------------  ----- \n",
      " 0   date_received                 66806 non-null  object\n",
      " 1   sub_product                   46351 non-null  object\n",
      " 2   issue                         66806 non-null  object\n",
      " 3   sub_issue                     32932 non-null  object\n",
      " 4   consumer_complaint_narrative  66806 non-null  object\n",
      " 5   company_public_response       32776 non-null  object\n",
      " 6   company                       66806 non-null  object\n",
      " 7   state                         66620 non-null  object\n",
      " 8   zipcode                       66617 non-null  object\n",
      " 9   tags                          11417 non-null  object\n",
      " 10  consumer_consent_provided     66806 non-null  object\n",
      " 11  submitted_via                 66806 non-null  object\n",
      " 12  date_sent_to_company          66806 non-null  object\n",
      " 13  company_response_to_consumer  66806 non-null  object\n",
      " 14  timely_response               66806 non-null  object\n",
      " 15  consumer_disputed?            66806 non-null  object\n",
      " 16  complaint_id                  66806 non-null  int64 \n",
      " 17  product                       66806 non-null  object\n",
      "dtypes: int64(1), object(17)\n",
      "memory usage: 9.2+ MB\n"
     ]
    }
   ],
   "source": [
    "data.info()"
   ]
  },
  {
   "cell_type": "code",
   "execution_count": 8,
   "id": "3c2a9441",
   "metadata": {},
   "outputs": [
    {
     "data": {
      "text/html": [
       "<div>\n",
       "<style scoped>\n",
       "    .dataframe tbody tr th:only-of-type {\n",
       "        vertical-align: middle;\n",
       "    }\n",
       "\n",
       "    .dataframe tbody tr th {\n",
       "        vertical-align: top;\n",
       "    }\n",
       "\n",
       "    .dataframe thead th {\n",
       "        text-align: right;\n",
       "    }\n",
       "</style>\n",
       "<table border=\"1\" class=\"dataframe\">\n",
       "  <thead>\n",
       "    <tr style=\"text-align: right;\">\n",
       "      <th></th>\n",
       "      <th>date_received</th>\n",
       "      <th>sub_product</th>\n",
       "      <th>issue</th>\n",
       "      <th>sub_issue</th>\n",
       "      <th>consumer_complaint_narrative</th>\n",
       "      <th>company_public_response</th>\n",
       "      <th>company</th>\n",
       "      <th>state</th>\n",
       "      <th>zipcode</th>\n",
       "      <th>tags</th>\n",
       "      <th>consumer_consent_provided</th>\n",
       "      <th>submitted_via</th>\n",
       "      <th>date_sent_to_company</th>\n",
       "      <th>company_response_to_consumer</th>\n",
       "      <th>timely_response</th>\n",
       "      <th>consumer_disputed?</th>\n",
       "      <th>complaint_id</th>\n",
       "      <th>product</th>\n",
       "    </tr>\n",
       "  </thead>\n",
       "  <tbody>\n",
       "    <tr>\n",
       "      <th>0</th>\n",
       "      <td>03/19/2015</td>\n",
       "      <td>Other (i.e. phone, health club, etc.)</td>\n",
       "      <td>Cont'd attempts collect debt not owed</td>\n",
       "      <td>Debt was paid</td>\n",
       "      <td>XXXX has claimed I owe them {$27.00} for XXXX ...</td>\n",
       "      <td>None</td>\n",
       "      <td>Diversified Consultants, Inc.</td>\n",
       "      <td>NY</td>\n",
       "      <td>121XX</td>\n",
       "      <td>Older American</td>\n",
       "      <td>Consent provided</td>\n",
       "      <td>Web</td>\n",
       "      <td>03/19/2015</td>\n",
       "      <td>Closed with explanation</td>\n",
       "      <td>Yes</td>\n",
       "      <td>No</td>\n",
       "      <td>1290516</td>\n",
       "      <td>Debt collection</td>\n",
       "    </tr>\n",
       "    <tr>\n",
       "      <th>1</th>\n",
       "      <td>03/19/2015</td>\n",
       "      <td>Vehicle loan</td>\n",
       "      <td>Managing the loan or lease</td>\n",
       "      <td>None</td>\n",
       "      <td>Due to inconsistencies in the amount owed that...</td>\n",
       "      <td>None</td>\n",
       "      <td>M&amp;T Bank Corporation</td>\n",
       "      <td>VA</td>\n",
       "      <td>221XX</td>\n",
       "      <td>Servicemember</td>\n",
       "      <td>Consent provided</td>\n",
       "      <td>Web</td>\n",
       "      <td>03/19/2015</td>\n",
       "      <td>Closed with explanation</td>\n",
       "      <td>Yes</td>\n",
       "      <td>No</td>\n",
       "      <td>1290492</td>\n",
       "      <td>Consumer Loan</td>\n",
       "    </tr>\n",
       "    <tr>\n",
       "      <th>2</th>\n",
       "      <td>03/19/2015</td>\n",
       "      <td>Conventional fixed mortgage</td>\n",
       "      <td>Loan modification,collection,foreclosure</td>\n",
       "      <td>None</td>\n",
       "      <td>In XX/XX/XXXX my wages that I earned at my job...</td>\n",
       "      <td>None</td>\n",
       "      <td>Wells Fargo &amp; Company</td>\n",
       "      <td>CA</td>\n",
       "      <td>946XX</td>\n",
       "      <td>None</td>\n",
       "      <td>Consent provided</td>\n",
       "      <td>Web</td>\n",
       "      <td>03/19/2015</td>\n",
       "      <td>Closed with explanation</td>\n",
       "      <td>Yes</td>\n",
       "      <td>Yes</td>\n",
       "      <td>1290524</td>\n",
       "      <td>Mortgage</td>\n",
       "    </tr>\n",
       "    <tr>\n",
       "      <th>3</th>\n",
       "      <td>03/19/2015</td>\n",
       "      <td>Conventional fixed mortgage</td>\n",
       "      <td>Loan servicing, payments, escrow account</td>\n",
       "      <td>None</td>\n",
       "      <td>I have an open and current mortgage with Chase...</td>\n",
       "      <td>None</td>\n",
       "      <td>JPMorgan Chase &amp; Co.</td>\n",
       "      <td>CA</td>\n",
       "      <td>900XX</td>\n",
       "      <td>Older American</td>\n",
       "      <td>Consent provided</td>\n",
       "      <td>Web</td>\n",
       "      <td>03/19/2015</td>\n",
       "      <td>Closed with explanation</td>\n",
       "      <td>Yes</td>\n",
       "      <td>Yes</td>\n",
       "      <td>1290253</td>\n",
       "      <td>Mortgage</td>\n",
       "    </tr>\n",
       "    <tr>\n",
       "      <th>4</th>\n",
       "      <td>03/19/2015</td>\n",
       "      <td>Conventional fixed mortgage</td>\n",
       "      <td>Credit decision / Underwriting</td>\n",
       "      <td>None</td>\n",
       "      <td>XXXX was submitted XX/XX/XXXX. At the time I s...</td>\n",
       "      <td>None</td>\n",
       "      <td>Rushmore Loan Management Services LLC</td>\n",
       "      <td>CA</td>\n",
       "      <td>956XX</td>\n",
       "      <td>Older American</td>\n",
       "      <td>Consent provided</td>\n",
       "      <td>Web</td>\n",
       "      <td>03/19/2015</td>\n",
       "      <td>Closed with explanation</td>\n",
       "      <td>Yes</td>\n",
       "      <td>Yes</td>\n",
       "      <td>1292137</td>\n",
       "      <td>Mortgage</td>\n",
       "    </tr>\n",
       "  </tbody>\n",
       "</table>\n",
       "</div>"
      ],
      "text/plain": [
       "  date_received                            sub_product  \\\n",
       "0    03/19/2015  Other (i.e. phone, health club, etc.)   \n",
       "1    03/19/2015                           Vehicle loan   \n",
       "2    03/19/2015            Conventional fixed mortgage   \n",
       "3    03/19/2015            Conventional fixed mortgage   \n",
       "4    03/19/2015            Conventional fixed mortgage   \n",
       "\n",
       "                                      issue      sub_issue  \\\n",
       "0     Cont'd attempts collect debt not owed  Debt was paid   \n",
       "1                Managing the loan or lease           None   \n",
       "2  Loan modification,collection,foreclosure           None   \n",
       "3  Loan servicing, payments, escrow account           None   \n",
       "4            Credit decision / Underwriting           None   \n",
       "\n",
       "                        consumer_complaint_narrative company_public_response  \\\n",
       "0  XXXX has claimed I owe them {$27.00} for XXXX ...                    None   \n",
       "1  Due to inconsistencies in the amount owed that...                    None   \n",
       "2  In XX/XX/XXXX my wages that I earned at my job...                    None   \n",
       "3  I have an open and current mortgage with Chase...                    None   \n",
       "4  XXXX was submitted XX/XX/XXXX. At the time I s...                    None   \n",
       "\n",
       "                                 company state zipcode            tags  \\\n",
       "0          Diversified Consultants, Inc.    NY   121XX  Older American   \n",
       "1                   M&T Bank Corporation    VA   221XX   Servicemember   \n",
       "2                  Wells Fargo & Company    CA   946XX            None   \n",
       "3                   JPMorgan Chase & Co.    CA   900XX  Older American   \n",
       "4  Rushmore Loan Management Services LLC    CA   956XX  Older American   \n",
       "\n",
       "  consumer_consent_provided submitted_via date_sent_to_company  \\\n",
       "0          Consent provided           Web           03/19/2015   \n",
       "1          Consent provided           Web           03/19/2015   \n",
       "2          Consent provided           Web           03/19/2015   \n",
       "3          Consent provided           Web           03/19/2015   \n",
       "4          Consent provided           Web           03/19/2015   \n",
       "\n",
       "  company_response_to_consumer timely_response consumer_disputed?  \\\n",
       "0      Closed with explanation             Yes                 No   \n",
       "1      Closed with explanation             Yes                 No   \n",
       "2      Closed with explanation             Yes                Yes   \n",
       "3      Closed with explanation             Yes                Yes   \n",
       "4      Closed with explanation             Yes                Yes   \n",
       "\n",
       "   complaint_id          product  \n",
       "0       1290516  Debt collection  \n",
       "1       1290492    Consumer Loan  \n",
       "2       1290524         Mortgage  \n",
       "3       1290253         Mortgage  \n",
       "4       1292137         Mortgage  "
      ]
     },
     "execution_count": 8,
     "metadata": {},
     "output_type": "execute_result"
    }
   ],
   "source": [
    "data.head()"
   ]
  },
  {
   "cell_type": "code",
   "execution_count": 9,
   "id": "548a4fde",
   "metadata": {},
   "outputs": [
    {
     "data": {
      "text/html": [
       "<div>\n",
       "<style scoped>\n",
       "    .dataframe tbody tr th:only-of-type {\n",
       "        vertical-align: middle;\n",
       "    }\n",
       "\n",
       "    .dataframe tbody tr th {\n",
       "        vertical-align: top;\n",
       "    }\n",
       "\n",
       "    .dataframe thead th {\n",
       "        text-align: right;\n",
       "    }\n",
       "</style>\n",
       "<table border=\"1\" class=\"dataframe\">\n",
       "  <thead>\n",
       "    <tr style=\"text-align: right;\">\n",
       "      <th></th>\n",
       "      <th>date_received</th>\n",
       "      <th>sub_product</th>\n",
       "      <th>issue</th>\n",
       "      <th>sub_issue</th>\n",
       "      <th>consumer_complaint_narrative</th>\n",
       "      <th>company_public_response</th>\n",
       "      <th>company</th>\n",
       "      <th>state</th>\n",
       "      <th>zipcode</th>\n",
       "      <th>tags</th>\n",
       "      <th>consumer_consent_provided</th>\n",
       "      <th>submitted_via</th>\n",
       "      <th>date_sent_to_company</th>\n",
       "      <th>company_response_to_consumer</th>\n",
       "      <th>timely_response</th>\n",
       "      <th>consumer_disputed?</th>\n",
       "      <th>complaint_id</th>\n",
       "      <th>product</th>\n",
       "    </tr>\n",
       "  </thead>\n",
       "  <tbody>\n",
       "    <tr>\n",
       "      <th>66801</th>\n",
       "      <td>02/10/2016</td>\n",
       "      <td>None</td>\n",
       "      <td>Incorrect information on credit report</td>\n",
       "      <td>Account status</td>\n",
       "      <td>XXXX XXXX is reporting incorrectly, payments h...</td>\n",
       "      <td>Company chooses not to provide a public response</td>\n",
       "      <td>TransUnion Intermediate Holdings, Inc.</td>\n",
       "      <td>WA</td>\n",
       "      <td>980XX</td>\n",
       "      <td>None</td>\n",
       "      <td>Consent provided</td>\n",
       "      <td>Web</td>\n",
       "      <td>02/10/2016</td>\n",
       "      <td>Closed with explanation</td>\n",
       "      <td>Yes</td>\n",
       "      <td>No</td>\n",
       "      <td>1782682</td>\n",
       "      <td>Credit reporting</td>\n",
       "    </tr>\n",
       "    <tr>\n",
       "      <th>66802</th>\n",
       "      <td>02/10/2016</td>\n",
       "      <td>None</td>\n",
       "      <td>Incorrect information on credit report</td>\n",
       "      <td>Account status</td>\n",
       "      <td>Reflecting incorrect payment status. Have been...</td>\n",
       "      <td>Company chooses not to provide a public response</td>\n",
       "      <td>TransUnion Intermediate Holdings, Inc.</td>\n",
       "      <td>WA</td>\n",
       "      <td>980XX</td>\n",
       "      <td>None</td>\n",
       "      <td>Consent provided</td>\n",
       "      <td>Web</td>\n",
       "      <td>02/10/2016</td>\n",
       "      <td>Closed with explanation</td>\n",
       "      <td>Yes</td>\n",
       "      <td>No</td>\n",
       "      <td>1781861</td>\n",
       "      <td>Credit reporting</td>\n",
       "    </tr>\n",
       "    <tr>\n",
       "      <th>66803</th>\n",
       "      <td>02/11/2016</td>\n",
       "      <td>Payday loan</td>\n",
       "      <td>Charged fees or interest I didn't expect</td>\n",
       "      <td>Charged fees or interest I didn't expect</td>\n",
       "      <td>I have been paying {$180.00} a month through d...</td>\n",
       "      <td>None</td>\n",
       "      <td>Zarvad III S.A.</td>\n",
       "      <td>NV</td>\n",
       "      <td>891XX</td>\n",
       "      <td>Servicemember</td>\n",
       "      <td>Consent provided</td>\n",
       "      <td>Web</td>\n",
       "      <td>02/11/2016</td>\n",
       "      <td>Closed with explanation</td>\n",
       "      <td>Yes</td>\n",
       "      <td>No</td>\n",
       "      <td>1782804</td>\n",
       "      <td>Payday loan</td>\n",
       "    </tr>\n",
       "    <tr>\n",
       "      <th>66804</th>\n",
       "      <td>03/30/2016</td>\n",
       "      <td>Conventional fixed mortgage</td>\n",
       "      <td>Application, originator, mortgage broker</td>\n",
       "      <td>None</td>\n",
       "      <td>I recently became aware that Amerisave Mortgag...</td>\n",
       "      <td>Company believes it acted appropriately as aut...</td>\n",
       "      <td>Amerisave</td>\n",
       "      <td>AZ</td>\n",
       "      <td>853XX</td>\n",
       "      <td>None</td>\n",
       "      <td>Consent provided</td>\n",
       "      <td>Web</td>\n",
       "      <td>03/30/2016</td>\n",
       "      <td>Closed with explanation</td>\n",
       "      <td>Yes</td>\n",
       "      <td>Yes</td>\n",
       "      <td>1855199</td>\n",
       "      <td>Mortgage</td>\n",
       "    </tr>\n",
       "    <tr>\n",
       "      <th>66805</th>\n",
       "      <td>02/12/2016</td>\n",
       "      <td>Conventional fixed mortgage</td>\n",
       "      <td>Application, originator, mortgage broker</td>\n",
       "      <td>None</td>\n",
       "      <td>Bank of America has demonstrated an on-going l...</td>\n",
       "      <td>Company has responded to the consumer and the ...</td>\n",
       "      <td>Bank of America</td>\n",
       "      <td>GA</td>\n",
       "      <td>300XX</td>\n",
       "      <td>None</td>\n",
       "      <td>Consent provided</td>\n",
       "      <td>Web</td>\n",
       "      <td>02/12/2016</td>\n",
       "      <td>Closed with explanation</td>\n",
       "      <td>Yes</td>\n",
       "      <td>Yes</td>\n",
       "      <td>1786225</td>\n",
       "      <td>Mortgage</td>\n",
       "    </tr>\n",
       "  </tbody>\n",
       "</table>\n",
       "</div>"
      ],
      "text/plain": [
       "      date_received                  sub_product  \\\n",
       "66801    02/10/2016                         None   \n",
       "66802    02/10/2016                         None   \n",
       "66803    02/11/2016                  Payday loan   \n",
       "66804    03/30/2016  Conventional fixed mortgage   \n",
       "66805    02/12/2016  Conventional fixed mortgage   \n",
       "\n",
       "                                          issue  \\\n",
       "66801    Incorrect information on credit report   \n",
       "66802    Incorrect information on credit report   \n",
       "66803  Charged fees or interest I didn't expect   \n",
       "66804  Application, originator, mortgage broker   \n",
       "66805  Application, originator, mortgage broker   \n",
       "\n",
       "                                      sub_issue  \\\n",
       "66801                            Account status   \n",
       "66802                            Account status   \n",
       "66803  Charged fees or interest I didn't expect   \n",
       "66804                                      None   \n",
       "66805                                      None   \n",
       "\n",
       "                            consumer_complaint_narrative  \\\n",
       "66801  XXXX XXXX is reporting incorrectly, payments h...   \n",
       "66802  Reflecting incorrect payment status. Have been...   \n",
       "66803  I have been paying {$180.00} a month through d...   \n",
       "66804  I recently became aware that Amerisave Mortgag...   \n",
       "66805  Bank of America has demonstrated an on-going l...   \n",
       "\n",
       "                                 company_public_response  \\\n",
       "66801   Company chooses not to provide a public response   \n",
       "66802   Company chooses not to provide a public response   \n",
       "66803                                               None   \n",
       "66804  Company believes it acted appropriately as aut...   \n",
       "66805  Company has responded to the consumer and the ...   \n",
       "\n",
       "                                      company state zipcode           tags  \\\n",
       "66801  TransUnion Intermediate Holdings, Inc.    WA   980XX           None   \n",
       "66802  TransUnion Intermediate Holdings, Inc.    WA   980XX           None   \n",
       "66803                         Zarvad III S.A.    NV   891XX  Servicemember   \n",
       "66804                               Amerisave    AZ   853XX           None   \n",
       "66805                         Bank of America    GA   300XX           None   \n",
       "\n",
       "      consumer_consent_provided submitted_via date_sent_to_company  \\\n",
       "66801          Consent provided           Web           02/10/2016   \n",
       "66802          Consent provided           Web           02/10/2016   \n",
       "66803          Consent provided           Web           02/11/2016   \n",
       "66804          Consent provided           Web           03/30/2016   \n",
       "66805          Consent provided           Web           02/12/2016   \n",
       "\n",
       "      company_response_to_consumer timely_response consumer_disputed?  \\\n",
       "66801      Closed with explanation             Yes                 No   \n",
       "66802      Closed with explanation             Yes                 No   \n",
       "66803      Closed with explanation             Yes                 No   \n",
       "66804      Closed with explanation             Yes                Yes   \n",
       "66805      Closed with explanation             Yes                Yes   \n",
       "\n",
       "       complaint_id           product  \n",
       "66801       1782682  Credit reporting  \n",
       "66802       1781861  Credit reporting  \n",
       "66803       1782804       Payday loan  \n",
       "66804       1855199          Mortgage  \n",
       "66805       1786225          Mortgage  "
      ]
     },
     "execution_count": 9,
     "metadata": {},
     "output_type": "execute_result"
    }
   ],
   "source": [
    "data.tail()"
   ]
  },
  {
   "attachments": {},
   "cell_type": "markdown",
   "id": "f85ff59f",
   "metadata": {},
   "source": [
    "## Split data into training, validation, and test datasets"
   ]
  },
  {
   "cell_type": "code",
   "execution_count": 10,
   "id": "4b1d1070",
   "metadata": {},
   "outputs": [],
   "source": [
    "# Use stratified shuffle split to keep same class proportions in train, validation, and test datasets.\n",
    "sss = StratifiedShuffleSplit(n_splits=2, test_size=0.3, random_state=2023)"
   ]
  },
  {
   "cell_type": "code",
   "execution_count": 11,
   "id": "49ed955b",
   "metadata": {},
   "outputs": [],
   "source": [
    "col_names = ['date_received', 'sub_product', 'issue', 'sub_issue', 'consumer_complaint_narrative', 'company_public_response', \n",
    "             'company', 'state', 'zipcode', 'tags', 'consumer_consent_provided', 'submitted_via', 'date_sent_to_company', \n",
    "             'company_response_to_consumer', 'timely_response', 'consumer_disputed?', 'complaint_id'] \n",
    "target_name = ['product']"
   ]
  },
  {
   "cell_type": "code",
   "execution_count": 12,
   "id": "688020a0",
   "metadata": {},
   "outputs": [],
   "source": [
    "# Separate target (product) from rest of df_train_train to mitigate any data leakage. Convert to X, y values for splitting.\n",
    "X_0 = data.drop(['product'],axis=1).values\n",
    "y_0 = data['product'].values"
   ]
  },
  {
   "cell_type": "code",
   "execution_count": 13,
   "id": "01e514af",
   "metadata": {},
   "outputs": [
    {
     "name": "stdout",
     "output_type": "stream",
     "text": [
      "TRAIN: [66532 50895 42628 ... 28892 50019 29706] notTrain: [60595 22367 24282 ... 62846 37483 11606]\n",
      "TRAIN: [59338 36899 41681 ... 19526  1461  4941] notTrain: [65569 32378 21315 ... 13714 37343  6037]\n"
     ]
    }
   ],
   "source": [
    "# Split out training data and set aside notTrain data to be further split into validation and test datasets.\n",
    "for train_index, notTrain_index in sss.split(X_0, y_0):\n",
    "    print(\"TRAIN:\", train_index, \"notTrain:\", notTrain_index)\n",
    "    df_train, df_notTrain = pd.DataFrame(X_0[train_index], columns=col_names), pd.DataFrame(X_0[notTrain_index], columns=col_names)\n",
    "    y_train, y_notTrain = pd.DataFrame(y_0[train_index], columns=target_name), pd.DataFrame(y_0[notTrain_index], columns=target_name)"
   ]
  },
  {
   "cell_type": "code",
   "execution_count": 14,
   "id": "b9e373d1",
   "metadata": {},
   "outputs": [
    {
     "name": "stdout",
     "output_type": "stream",
     "text": [
      "<class 'pandas.core.frame.DataFrame'>\n",
      "RangeIndex: 46764 entries, 0 to 46763\n",
      "Data columns (total 17 columns):\n",
      " #   Column                        Non-Null Count  Dtype \n",
      "---  ------                        --------------  ----- \n",
      " 0   date_received                 46764 non-null  object\n",
      " 1   sub_product                   32446 non-null  object\n",
      " 2   issue                         46764 non-null  object\n",
      " 3   sub_issue                     23052 non-null  object\n",
      " 4   consumer_complaint_narrative  46764 non-null  object\n",
      " 5   company_public_response       22930 non-null  object\n",
      " 6   company                       46764 non-null  object\n",
      " 7   state                         46628 non-null  object\n",
      " 8   zipcode                       46626 non-null  object\n",
      " 9   tags                          7952 non-null   object\n",
      " 10  consumer_consent_provided     46764 non-null  object\n",
      " 11  submitted_via                 46764 non-null  object\n",
      " 12  date_sent_to_company          46764 non-null  object\n",
      " 13  company_response_to_consumer  46764 non-null  object\n",
      " 14  timely_response               46764 non-null  object\n",
      " 15  consumer_disputed?            46764 non-null  object\n",
      " 16  complaint_id                  46764 non-null  object\n",
      "dtypes: object(17)\n",
      "memory usage: 6.1+ MB\n"
     ]
    }
   ],
   "source": [
    "df_train.info()"
   ]
  },
  {
   "cell_type": "code",
   "execution_count": 15,
   "id": "fb4116c7",
   "metadata": {},
   "outputs": [
    {
     "name": "stdout",
     "output_type": "stream",
     "text": [
      "<class 'pandas.core.frame.DataFrame'>\n",
      "RangeIndex: 46764 entries, 0 to 46763\n",
      "Data columns (total 1 columns):\n",
      " #   Column   Non-Null Count  Dtype \n",
      "---  ------   --------------  ----- \n",
      " 0   product  46764 non-null  object\n",
      "dtypes: object(1)\n",
      "memory usage: 365.5+ KB\n"
     ]
    }
   ],
   "source": [
    "y_train.info()"
   ]
  },
  {
   "cell_type": "code",
   "execution_count": 16,
   "id": "ac8ef1e0",
   "metadata": {},
   "outputs": [
    {
     "name": "stdout",
     "output_type": "stream",
     "text": [
      "<class 'pandas.core.frame.DataFrame'>\n",
      "RangeIndex: 20042 entries, 0 to 20041\n",
      "Data columns (total 17 columns):\n",
      " #   Column                        Non-Null Count  Dtype \n",
      "---  ------                        --------------  ----- \n",
      " 0   date_received                 20042 non-null  object\n",
      " 1   sub_product                   13905 non-null  object\n",
      " 2   issue                         20042 non-null  object\n",
      " 3   sub_issue                     9880 non-null   object\n",
      " 4   consumer_complaint_narrative  20042 non-null  object\n",
      " 5   company_public_response       9846 non-null   object\n",
      " 6   company                       20042 non-null  object\n",
      " 7   state                         19992 non-null  object\n",
      " 8   zipcode                       19991 non-null  object\n",
      " 9   tags                          3465 non-null   object\n",
      " 10  consumer_consent_provided     20042 non-null  object\n",
      " 11  submitted_via                 20042 non-null  object\n",
      " 12  date_sent_to_company          20042 non-null  object\n",
      " 13  company_response_to_consumer  20042 non-null  object\n",
      " 14  timely_response               20042 non-null  object\n",
      " 15  consumer_disputed?            20042 non-null  object\n",
      " 16  complaint_id                  20042 non-null  object\n",
      "dtypes: object(17)\n",
      "memory usage: 2.6+ MB\n"
     ]
    }
   ],
   "source": [
    "df_notTrain.info()"
   ]
  },
  {
   "cell_type": "code",
   "execution_count": 17,
   "id": "3d47781c",
   "metadata": {},
   "outputs": [
    {
     "name": "stdout",
     "output_type": "stream",
     "text": [
      "<class 'pandas.core.frame.DataFrame'>\n",
      "RangeIndex: 20042 entries, 0 to 20041\n",
      "Data columns (total 1 columns):\n",
      " #   Column   Non-Null Count  Dtype \n",
      "---  ------   --------------  ----- \n",
      " 0   product  20042 non-null  object\n",
      "dtypes: object(1)\n",
      "memory usage: 156.7+ KB\n"
     ]
    }
   ],
   "source": [
    "y_notTrain.info()"
   ]
  },
  {
   "cell_type": "code",
   "execution_count": 18,
   "id": "688020a0",
   "metadata": {},
   "outputs": [],
   "source": [
    "# Convert non-training data to X, y for splitting.\n",
    "X_1 = df_notTrain.values\n",
    "y_1 = y_notTrain.values"
   ]
  },
  {
   "cell_type": "code",
   "execution_count": 19,
   "id": "01e514af",
   "metadata": {},
   "outputs": [
    {
     "name": "stdout",
     "output_type": "stream",
     "text": [
      "VALIDATION: [ 1586   294 10173 ... 10776  8524  1703] TEST [10590  1753  2477 ... 19792   628 17342]\n",
      "VALIDATION: [12174 19911  6159 ...  5701   781  3389] TEST [14047  5799  8842 ... 18952 17501  9710]\n"
     ]
    }
   ],
   "source": [
    "# Split out notTrain data into validation and test datasets.\n",
    "for val_index, test_index in sss.split(X_1, y_1):\n",
    "    print(\"VALIDATION:\", val_index, \"TEST\", test_index)\n",
    "    df_val, df_test = pd.DataFrame(X_1[val_index], columns=col_names), pd.DataFrame(X_1[test_index], columns=col_names)\n",
    "    y_val, y_test = pd.DataFrame(y_1[val_index], columns=target_name), pd.DataFrame(y_1[test_index], columns=target_name)"
   ]
  },
  {
   "cell_type": "code",
   "execution_count": 20,
   "id": "b9e373d1",
   "metadata": {},
   "outputs": [
    {
     "name": "stdout",
     "output_type": "stream",
     "text": [
      "<class 'pandas.core.frame.DataFrame'>\n",
      "RangeIndex: 14029 entries, 0 to 14028\n",
      "Data columns (total 17 columns):\n",
      " #   Column                        Non-Null Count  Dtype \n",
      "---  ------                        --------------  ----- \n",
      " 0   date_received                 14029 non-null  object\n",
      " 1   sub_product                   9734 non-null   object\n",
      " 2   issue                         14029 non-null  object\n",
      " 3   sub_issue                     6916 non-null   object\n",
      " 4   consumer_complaint_narrative  14029 non-null  object\n",
      " 5   company_public_response       6879 non-null   object\n",
      " 6   company                       14029 non-null  object\n",
      " 7   state                         13993 non-null  object\n",
      " 8   zipcode                       13993 non-null  object\n",
      " 9   tags                          2427 non-null   object\n",
      " 10  consumer_consent_provided     14029 non-null  object\n",
      " 11  submitted_via                 14029 non-null  object\n",
      " 12  date_sent_to_company          14029 non-null  object\n",
      " 13  company_response_to_consumer  14029 non-null  object\n",
      " 14  timely_response               14029 non-null  object\n",
      " 15  consumer_disputed?            14029 non-null  object\n",
      " 16  complaint_id                  14029 non-null  object\n",
      "dtypes: object(17)\n",
      "memory usage: 1.8+ MB\n"
     ]
    }
   ],
   "source": [
    "df_val.info()"
   ]
  },
  {
   "cell_type": "code",
   "execution_count": 21,
   "id": "fb4116c7",
   "metadata": {},
   "outputs": [
    {
     "name": "stdout",
     "output_type": "stream",
     "text": [
      "<class 'pandas.core.frame.DataFrame'>\n",
      "RangeIndex: 14029 entries, 0 to 14028\n",
      "Data columns (total 1 columns):\n",
      " #   Column   Non-Null Count  Dtype \n",
      "---  ------   --------------  ----- \n",
      " 0   product  14029 non-null  object\n",
      "dtypes: object(1)\n",
      "memory usage: 109.7+ KB\n"
     ]
    }
   ],
   "source": [
    "y_val.info()"
   ]
  },
  {
   "cell_type": "code",
   "execution_count": 22,
   "id": "ac8ef1e0",
   "metadata": {},
   "outputs": [
    {
     "name": "stdout",
     "output_type": "stream",
     "text": [
      "<class 'pandas.core.frame.DataFrame'>\n",
      "RangeIndex: 6013 entries, 0 to 6012\n",
      "Data columns (total 17 columns):\n",
      " #   Column                        Non-Null Count  Dtype \n",
      "---  ------                        --------------  ----- \n",
      " 0   date_received                 6013 non-null   object\n",
      " 1   sub_product                   4171 non-null   object\n",
      " 2   issue                         6013 non-null   object\n",
      " 3   sub_issue                     2964 non-null   object\n",
      " 4   consumer_complaint_narrative  6013 non-null   object\n",
      " 5   company_public_response       2967 non-null   object\n",
      " 6   company                       6013 non-null   object\n",
      " 7   state                         5999 non-null   object\n",
      " 8   zipcode                       5998 non-null   object\n",
      " 9   tags                          1038 non-null   object\n",
      " 10  consumer_consent_provided     6013 non-null   object\n",
      " 11  submitted_via                 6013 non-null   object\n",
      " 12  date_sent_to_company          6013 non-null   object\n",
      " 13  company_response_to_consumer  6013 non-null   object\n",
      " 14  timely_response               6013 non-null   object\n",
      " 15  consumer_disputed?            6013 non-null   object\n",
      " 16  complaint_id                  6013 non-null   object\n",
      "dtypes: object(17)\n",
      "memory usage: 798.7+ KB\n"
     ]
    }
   ],
   "source": [
    "df_test.info()"
   ]
  },
  {
   "cell_type": "code",
   "execution_count": 23,
   "id": "3d47781c",
   "metadata": {},
   "outputs": [
    {
     "name": "stdout",
     "output_type": "stream",
     "text": [
      "<class 'pandas.core.frame.DataFrame'>\n",
      "RangeIndex: 6013 entries, 0 to 6012\n",
      "Data columns (total 1 columns):\n",
      " #   Column   Non-Null Count  Dtype \n",
      "---  ------   --------------  ----- \n",
      " 0   product  6013 non-null   object\n",
      "dtypes: object(1)\n",
      "memory usage: 47.1+ KB\n"
     ]
    }
   ],
   "source": [
    "y_test.info()"
   ]
  },
  {
   "attachments": {},
   "cell_type": "markdown",
   "id": "68d297b7",
   "metadata": {},
   "source": [
    "## Save data and targets for all training, validation, and test datasets."
   ]
  },
  {
   "cell_type": "code",
   "execution_count": 24,
   "id": "229b01a3",
   "metadata": {},
   "outputs": [],
   "source": [
    "df_train.to_parquet('./input/dataframes/df_train.parquet')"
   ]
  },
  {
   "cell_type": "code",
   "execution_count": 25,
   "id": "6d9c53a4",
   "metadata": {},
   "outputs": [],
   "source": [
    "y_train.to_parquet('./input/y_targets/y_train.parquet')"
   ]
  },
  {
   "cell_type": "code",
   "execution_count": 26,
   "id": "229b01a3",
   "metadata": {},
   "outputs": [],
   "source": [
    "df_val.to_parquet('./input/dataframes/df_val.parquet')"
   ]
  },
  {
   "cell_type": "code",
   "execution_count": 27,
   "id": "6d9c53a4",
   "metadata": {},
   "outputs": [],
   "source": [
    "y_val.to_parquet('./input/y_targets/y_val.parquet')"
   ]
  },
  {
   "cell_type": "code",
   "execution_count": 28,
   "id": "229b01a3",
   "metadata": {},
   "outputs": [],
   "source": [
    "df_test.to_parquet('./input/dataframes/df_test.parquet')"
   ]
  },
  {
   "cell_type": "code",
   "execution_count": 29,
   "id": "6d9c53a4",
   "metadata": {},
   "outputs": [],
   "source": [
    "y_test.to_parquet('./input/y_targets/y_test.parquet')"
   ]
  },
  {
   "attachments": {},
   "cell_type": "markdown",
   "id": "7ad71dcb",
   "metadata": {},
   "source": [
    "- ## Remove all dataframes from memory besides the training data\n",
    "    - ### Mitigates any possibility of data leakage"
   ]
  },
  {
   "cell_type": "code",
   "execution_count": 30,
   "id": "b0c1168a",
   "metadata": {},
   "outputs": [],
   "source": [
    "df_list = [df_notTrain, y_notTrain, df_val, y_val, df_test, y_test]\n",
    "del df_notTrain, y_notTrain, df_val, y_val, df_test, y_test\n",
    "del df_list"
   ]
  },
  {
   "attachments": {},
   "cell_type": "markdown",
   "id": "773df43f",
   "metadata": {},
   "source": [
    "## Read in training data"
   ]
  },
  {
   "cell_type": "code",
   "execution_count": 31,
   "id": "0cabbffc",
   "metadata": {},
   "outputs": [],
   "source": [
    "df_train = pd.read_parquet('./input/dataframes/df_train.parquet')"
   ]
  },
  {
   "cell_type": "code",
   "execution_count": 32,
   "id": "46bc2d31",
   "metadata": {},
   "outputs": [
    {
     "name": "stdout",
     "output_type": "stream",
     "text": [
      "<class 'pandas.core.frame.DataFrame'>\n",
      "RangeIndex: 46764 entries, 0 to 46763\n",
      "Data columns (total 17 columns):\n",
      " #   Column                        Non-Null Count  Dtype \n",
      "---  ------                        --------------  ----- \n",
      " 0   date_received                 46764 non-null  object\n",
      " 1   sub_product                   32446 non-null  object\n",
      " 2   issue                         46764 non-null  object\n",
      " 3   sub_issue                     23052 non-null  object\n",
      " 4   consumer_complaint_narrative  46764 non-null  object\n",
      " 5   company_public_response       22930 non-null  object\n",
      " 6   company                       46764 non-null  object\n",
      " 7   state                         46628 non-null  object\n",
      " 8   zipcode                       46626 non-null  object\n",
      " 9   tags                          7952 non-null   object\n",
      " 10  consumer_consent_provided     46764 non-null  object\n",
      " 11  submitted_via                 46764 non-null  object\n",
      " 12  date_sent_to_company          46764 non-null  object\n",
      " 13  company_response_to_consumer  46764 non-null  object\n",
      " 14  timely_response               46764 non-null  object\n",
      " 15  consumer_disputed?            46764 non-null  object\n",
      " 16  complaint_id                  46764 non-null  int64 \n",
      "dtypes: int64(1), object(16)\n",
      "memory usage: 6.1+ MB\n"
     ]
    }
   ],
   "source": [
    "df_train.info()"
   ]
  },
  {
   "cell_type": "code",
   "execution_count": 33,
   "id": "00de20b0",
   "metadata": {},
   "outputs": [
    {
     "data": {
      "text/plain": [
       "(46764, 17)"
      ]
     },
     "execution_count": 33,
     "metadata": {},
     "output_type": "execute_result"
    }
   ],
   "source": [
    "df_train.shape"
   ]
  },
  {
   "cell_type": "code",
   "execution_count": 34,
   "id": "e7527a7f",
   "metadata": {},
   "outputs": [
    {
     "data": {
      "text/plain": [
       "['date_received',\n",
       " 'sub_product',\n",
       " 'issue',\n",
       " 'sub_issue',\n",
       " 'consumer_complaint_narrative',\n",
       " 'company_public_response',\n",
       " 'company',\n",
       " 'state',\n",
       " 'zipcode',\n",
       " 'tags',\n",
       " 'consumer_consent_provided',\n",
       " 'submitted_via',\n",
       " 'date_sent_to_company',\n",
       " 'company_response_to_consumer',\n",
       " 'timely_response',\n",
       " 'consumer_disputed?',\n",
       " 'complaint_id']"
      ]
     },
     "execution_count": 34,
     "metadata": {},
     "output_type": "execute_result"
    }
   ],
   "source": [
    "list(df_train.columns)"
   ]
  },
  {
   "attachments": {},
   "cell_type": "markdown",
   "id": "ba00ae00",
   "metadata": {},
   "source": [
    "## Explore dataset with pandas profiling\n",
    "- ### Quick way to look at distributions, find missing values, etc."
   ]
  },
  {
   "cell_type": "code",
   "execution_count": 35,
   "id": "87154bcf",
   "metadata": {},
   "outputs": [],
   "source": [
    "# don't output within notebook because it will affect view in github\n",
    "initial_profile_training = ProfileReport(df_train, title=\"Initial Consumer Complaints Profiling Report for Training Dataset\")"
   ]
  },
  {
   "cell_type": "code",
   "execution_count": 36,
   "id": "9ba9ec5d",
   "metadata": {},
   "outputs": [
    {
     "data": {
      "application/vnd.jupyter.widget-view+json": {
       "model_id": "de774330196c407bb8796b20f247df60",
       "version_major": 2,
       "version_minor": 0
      },
      "text/plain": [
       "Summarize dataset:   0%|          | 0/5 [00:00<?, ?it/s]"
      ]
     },
     "metadata": {},
     "output_type": "display_data"
    },
    {
     "data": {
      "application/vnd.jupyter.widget-view+json": {
       "model_id": "d8104279c9aa48f0b86584a6476e0ad1",
       "version_major": 2,
       "version_minor": 0
      },
      "text/plain": [
       "Generate report structure:   0%|          | 0/1 [00:00<?, ?it/s]"
      ]
     },
     "metadata": {},
     "output_type": "display_data"
    },
    {
     "data": {
      "application/vnd.jupyter.widget-view+json": {
       "model_id": "b2ff4888033f4f7aaca203e8376e2f66",
       "version_major": 2,
       "version_minor": 0
      },
      "text/plain": [
       "Render HTML:   0%|          | 0/1 [00:00<?, ?it/s]"
      ]
     },
     "metadata": {},
     "output_type": "display_data"
    },
    {
     "data": {
      "application/vnd.jupyter.widget-view+json": {
       "model_id": "a3955f31b51a410c97a6180ed02e5e45",
       "version_major": 2,
       "version_minor": 0
      },
      "text/plain": [
       "Export report to file:   0%|          | 0/1 [00:00<?, ?it/s]"
      ]
     },
     "metadata": {},
     "output_type": "display_data"
    }
   ],
   "source": [
    "# save EDA profile report to separate html\n",
    "initial_profile_training.to_file(\"./EDA/profile_reports/00_initial_consumer_complaints_profiling_report_training.html\")"
   ]
  },
  {
   "attachments": {},
   "cell_type": "markdown",
   "id": "c0dae7ff",
   "metadata": {},
   "source": [
    "## Summary of initial dataset profile report findings:"
   ]
  },
  {
   "attachments": {},
   "cell_type": "markdown",
   "id": "85ed00f5",
   "metadata": {},
   "source": [
    "- #### date_received: categorical, no missing values, convert to datetime\n",
    "- #### sub_product: categorical, missing 30.6% of values, frequency encode with potential flag variables for low-occurring and missing\n",
    "- #### issue: categorical, no missing values, frequency encode with potential flag variable for low-occurring\n",
    "- #### sub_issue: categorical, missing 50.7% of values, DROP or frequency encode with potential flag variables for low-occurring and missing\n",
    "- #### consumer_complaint_narrative: TEXT, no missing values, various NLP methodologies and potential flag variable for low-occurring but duplicate narratives\n",
    "- #### company_public_response: categorical, missing 51.0% of values, DROP or frequency encode with potential flag variables for low-occurring and missing\n",
    "- #### company: categorical, no missing values, frequency encode with potential flag variable for low-occurring\n",
    "- #### state: categorical, missing 0.3% of values, frequency encode with potential flag variables for low-occurring and missing\n",
    "- #### zipcode: categorical (slightly ordinal), missing 0.3% of values, frequency or label encode with potential flag variables for low-occurring and missing\n",
    "- #### tags: categorical, missing 83.0% of values, Don't drop because missing is taken as non servicemember and not older - one-hot encode with null values changed to non servicemember and not older\n",
    "- #### consumer_consent_provided: categorical, no missing values, DROP because univariate (consent always provided for this dataset)\n",
    "- #### submitted_via: categorical, no missing values, DROP because univariate (all submissions via web)\n",
    "- #### date_sent_to_company: categorical, no missing values, convert to datetime\n",
    "- #### company_response_to_consumer: categorical, no missing values, one-hot encode \n",
    "- #### timely_response: boolean, no missing values, binary encode\n",
    "- #### consumer_disputed?: boolean, no missing values, binary encode\n",
    "- #### complaint_id: complaint identifier index, DROP not needed"
   ]
  },
  {
   "attachments": {},
   "cell_type": "markdown",
   "id": "601337c9",
   "metadata": {},
   "source": [
    "## Drop univariate and unneeded variables"
   ]
  },
  {
   "cell_type": "code",
   "execution_count": 37,
   "id": "ebca37d9",
   "metadata": {},
   "outputs": [],
   "source": [
    "df_train = df_train.drop(['consumer_consent_provided', 'submitted_via', 'complaint_id'], axis=1)"
   ]
  },
  {
   "cell_type": "code",
   "execution_count": 38,
   "id": "0955d3b0",
   "metadata": {},
   "outputs": [
    {
     "name": "stdout",
     "output_type": "stream",
     "text": [
      "<class 'pandas.core.frame.DataFrame'>\n",
      "RangeIndex: 46764 entries, 0 to 46763\n",
      "Data columns (total 14 columns):\n",
      " #   Column                        Non-Null Count  Dtype \n",
      "---  ------                        --------------  ----- \n",
      " 0   date_received                 46764 non-null  object\n",
      " 1   sub_product                   32446 non-null  object\n",
      " 2   issue                         46764 non-null  object\n",
      " 3   sub_issue                     23052 non-null  object\n",
      " 4   consumer_complaint_narrative  46764 non-null  object\n",
      " 5   company_public_response       22930 non-null  object\n",
      " 6   company                       46764 non-null  object\n",
      " 7   state                         46628 non-null  object\n",
      " 8   zipcode                       46626 non-null  object\n",
      " 9   tags                          7952 non-null   object\n",
      " 10  date_sent_to_company          46764 non-null  object\n",
      " 11  company_response_to_consumer  46764 non-null  object\n",
      " 12  timely_response               46764 non-null  object\n",
      " 13  consumer_disputed?            46764 non-null  object\n",
      "dtypes: object(14)\n",
      "memory usage: 5.0+ MB\n"
     ]
    }
   ],
   "source": [
    "df_train.info()"
   ]
  },
  {
   "cell_type": "code",
   "execution_count": 39,
   "id": "3748f4f5",
   "metadata": {},
   "outputs": [
    {
     "data": {
      "text/html": [
       "<div>\n",
       "<style scoped>\n",
       "    .dataframe tbody tr th:only-of-type {\n",
       "        vertical-align: middle;\n",
       "    }\n",
       "\n",
       "    .dataframe tbody tr th {\n",
       "        vertical-align: top;\n",
       "    }\n",
       "\n",
       "    .dataframe thead th {\n",
       "        text-align: right;\n",
       "    }\n",
       "</style>\n",
       "<table border=\"1\" class=\"dataframe\">\n",
       "  <thead>\n",
       "    <tr style=\"text-align: right;\">\n",
       "      <th></th>\n",
       "      <th>date_received</th>\n",
       "      <th>sub_product</th>\n",
       "      <th>issue</th>\n",
       "      <th>sub_issue</th>\n",
       "      <th>consumer_complaint_narrative</th>\n",
       "      <th>company_public_response</th>\n",
       "      <th>company</th>\n",
       "      <th>state</th>\n",
       "      <th>zipcode</th>\n",
       "      <th>tags</th>\n",
       "      <th>date_sent_to_company</th>\n",
       "      <th>company_response_to_consumer</th>\n",
       "      <th>timely_response</th>\n",
       "      <th>consumer_disputed?</th>\n",
       "    </tr>\n",
       "  </thead>\n",
       "  <tbody>\n",
       "    <tr>\n",
       "      <th>0</th>\n",
       "      <td>01/16/2016</td>\n",
       "      <td>Conventional fixed mortgage</td>\n",
       "      <td>Loan servicing, payments, escrow account</td>\n",
       "      <td>None</td>\n",
       "      <td>Dear Sir or Madam, Ever since XXXX XXXX XXXX s...</td>\n",
       "      <td>None</td>\n",
       "      <td>Nationstar Mortgage</td>\n",
       "      <td>MA</td>\n",
       "      <td>020XX</td>\n",
       "      <td>None</td>\n",
       "      <td>01/16/2016</td>\n",
       "      <td>Closed with explanation</td>\n",
       "      <td>Yes</td>\n",
       "      <td>No</td>\n",
       "    </tr>\n",
       "    <tr>\n",
       "      <th>1</th>\n",
       "      <td>10/25/2015</td>\n",
       "      <td>Other bank product/service</td>\n",
       "      <td>Deposits and withdrawals</td>\n",
       "      <td>None</td>\n",
       "      <td>on XXXX XXXX, 2015 there was an ACH transactio...</td>\n",
       "      <td>None</td>\n",
       "      <td>Fifth Third Financial Corporation</td>\n",
       "      <td>FL</td>\n",
       "      <td>331XX</td>\n",
       "      <td>None</td>\n",
       "      <td>10/25/2015</td>\n",
       "      <td>Closed with explanation</td>\n",
       "      <td>Yes</td>\n",
       "      <td>No</td>\n",
       "    </tr>\n",
       "    <tr>\n",
       "      <th>2</th>\n",
       "      <td>10/28/2015</td>\n",
       "      <td>None</td>\n",
       "      <td>Billing disputes</td>\n",
       "      <td>None</td>\n",
       "      <td>My wife has not received a paper bill from Cha...</td>\n",
       "      <td>None</td>\n",
       "      <td>JPMorgan Chase &amp; Co.</td>\n",
       "      <td>TN</td>\n",
       "      <td>381XX</td>\n",
       "      <td>None</td>\n",
       "      <td>10/28/2015</td>\n",
       "      <td>Closed with explanation</td>\n",
       "      <td>Yes</td>\n",
       "      <td>No</td>\n",
       "    </tr>\n",
       "  </tbody>\n",
       "</table>\n",
       "</div>"
      ],
      "text/plain": [
       "  date_received                  sub_product  \\\n",
       "0    01/16/2016  Conventional fixed mortgage   \n",
       "1    10/25/2015   Other bank product/service   \n",
       "2    10/28/2015                         None   \n",
       "\n",
       "                                      issue sub_issue  \\\n",
       "0  Loan servicing, payments, escrow account      None   \n",
       "1                  Deposits and withdrawals      None   \n",
       "2                          Billing disputes      None   \n",
       "\n",
       "                        consumer_complaint_narrative company_public_response  \\\n",
       "0  Dear Sir or Madam, Ever since XXXX XXXX XXXX s...                    None   \n",
       "1  on XXXX XXXX, 2015 there was an ACH transactio...                    None   \n",
       "2  My wife has not received a paper bill from Cha...                    None   \n",
       "\n",
       "                             company state zipcode  tags date_sent_to_company  \\\n",
       "0                Nationstar Mortgage    MA   020XX  None           01/16/2016   \n",
       "1  Fifth Third Financial Corporation    FL   331XX  None           10/25/2015   \n",
       "2               JPMorgan Chase & Co.    TN   381XX  None           10/28/2015   \n",
       "\n",
       "  company_response_to_consumer timely_response consumer_disputed?  \n",
       "0      Closed with explanation             Yes                 No  \n",
       "1      Closed with explanation             Yes                 No  \n",
       "2      Closed with explanation             Yes                 No  "
      ]
     },
     "execution_count": 39,
     "metadata": {},
     "output_type": "execute_result"
    }
   ],
   "source": [
    "df_train.head(3)"
   ]
  },
  {
   "attachments": {},
   "cell_type": "markdown",
   "id": "f3378bec",
   "metadata": {},
   "source": [
    "## Explore target value and transform with LabelEncoder"
   ]
  },
  {
   "cell_type": "code",
   "execution_count": 40,
   "id": "cfa07370",
   "metadata": {},
   "outputs": [
    {
     "name": "stdout",
     "output_type": "stream",
     "text": [
      "Debt collection            12286\n",
      "Mortgage                   10443\n",
      "Credit reporting            8768\n",
      "Credit card                 5550\n",
      "Bank account or service     3998\n",
      "Consumer Loan               2575\n",
      "Student loan                1490\n",
      "Prepaid card                 603\n",
      "Payday loan                  508\n",
      "Money transfers              466\n",
      "Other financial service       77\n",
      "Name: product, dtype: int64\n"
     ]
    }
   ],
   "source": [
    "product = y_train['product'].value_counts()\n",
    "print(product)"
   ]
  },
  {
   "cell_type": "code",
   "execution_count": 41,
   "id": "a649dd10",
   "metadata": {
    "scrolled": false
   },
   "outputs": [
    {
     "data": {
      "image/png": "[encoded data removed]",
      "text/plain": [
       "<Figure size 1200x400 with 1 Axes>"
      ]
     },
     "metadata": {},
     "output_type": "display_data"
    }
   ],
   "source": [
    "plt.figure(figsize=(12,4))\n",
    "sns.barplot(x=product.index, y=product.values, alpha=0.8) \n",
    "plt.ylabel('Number of Occurrences', fontsize=12)\n",
    "plt.xlabel('Product', fontsize=12)\n",
    "plt.xticks(rotation=30)\n",
    "plt.show()"
   ]
  },
  {
   "cell_type": "code",
   "execution_count": 42,
   "id": "357d8295",
   "metadata": {},
   "outputs": [],
   "source": [
    "y_train['label'] = LabelEncoder().fit_transform(y_train['product'])"
   ]
  },
  {
   "cell_type": "code",
   "execution_count": 43,
   "id": "f97de5bc",
   "metadata": {},
   "outputs": [],
   "source": [
    "y_train_LE = y_train.drop(['product'], axis=1)"
   ]
  },
  {
   "cell_type": "code",
   "execution_count": 44,
   "id": "691c282d",
   "metadata": {},
   "outputs": [
    {
     "name": "stdout",
     "output_type": "stream",
     "text": [
      "<class 'pandas.core.frame.DataFrame'>\n",
      "RangeIndex: 46764 entries, 0 to 46763\n",
      "Data columns (total 1 columns):\n",
      " #   Column  Non-Null Count  Dtype\n",
      "---  ------  --------------  -----\n",
      " 0   label   46764 non-null  int32\n",
      "dtypes: int32(1)\n",
      "memory usage: 182.8 KB\n"
     ]
    }
   ],
   "source": [
    "y_train_LE.info()"
   ]
  },
  {
   "cell_type": "code",
   "execution_count": 45,
   "id": "9f8396c4",
   "metadata": {},
   "outputs": [],
   "source": [
    "# Save label-encoded target labels\n",
    "y_train_LE.to_parquet('./input/y_targets/y_train_LE.parquet')"
   ]
  },
  {
   "cell_type": "code",
   "execution_count": 46,
   "id": "779498b9",
   "metadata": {},
   "outputs": [],
   "source": [
    "# Drop original and label-encoded target dataframes from memory to mitigate potential data leakage\n",
    "y_list = [y_train, y_train_LE]\n",
    "del y_train, y_train_LE\n",
    "del y_list"
   ]
  },
  {
   "attachments": {},
   "cell_type": "markdown",
   "id": "66f7f92d",
   "metadata": {},
   "source": [
    "## Convert date values with datetime and create new feature for time between date_received and date_sent_to_company "
   ]
  },
  {
   "cell_type": "code",
   "execution_count": 47,
   "id": "0750a567",
   "metadata": {},
   "outputs": [],
   "source": [
    "# Vectorized operation to convert date string to datetime object\n",
    "# \"exact=False\" argument used because of errant whitespaces (i.e. /n)\n",
    "df_train['date_received'] = np.where(\n",
    "    pd.isna(df_train['date_received']) == False,\n",
    "    pd.to_datetime(df_train['date_received'], format='%m/%d/%Y', exact=False).dt.date,\n",
    "    None\n",
    ")"
   ]
  },
  {
   "cell_type": "code",
   "execution_count": 48,
   "id": "531eb13b",
   "metadata": {},
   "outputs": [],
   "source": [
    "# Vectorized operation to convert date string to datetime object\n",
    "# \"exact=False\" argument used because of errant whitespaces (i.e. /n)\n",
    "df_train['date_sent_to_company'] = np.where(\n",
    "    pd.isna(df_train['date_sent_to_company']) == False,\n",
    "    pd.to_datetime(df_train['date_sent_to_company'], format='%m/%d/%Y', exact=False).dt.date,\n",
    "    None\n",
    ")"
   ]
  },
  {
   "cell_type": "code",
   "execution_count": 49,
   "id": "f148b58e",
   "metadata": {},
   "outputs": [],
   "source": [
    "# Create new feature that is the difference in days between when a complaint was received and when it was sent to company\n",
    "df_train['days_between_receipt_and_sent'] = np.where(\n",
    "    (pd.isna(df_train['date_received']) == False) & (pd.isna(df_train['date_sent_to_company']) == False),\n",
    "    (df_train['date_sent_to_company'] - df_train['date_received']).dt.days,\n",
    "    None\n",
    ")"
   ]
  },
  {
   "cell_type": "code",
   "execution_count": 50,
   "id": "f9af0feb",
   "metadata": {},
   "outputs": [],
   "source": [
    "# Change new feature from datetime object to integer\n",
    "df_train['days_between_receipt_and_sent'] = pd.to_numeric(df_train['days_between_receipt_and_sent'])"
   ]
  },
  {
   "attachments": {},
   "cell_type": "markdown",
   "id": "481fdb1f",
   "metadata": {
    "notebookRunGroups": {
     "groupValue": ""
    }
   },
   "source": [
    "## Frequency encode 'sub_product' variable and add flag variables for missing/low-occurring"
   ]
  },
  {
   "cell_type": "code",
   "execution_count": 51,
   "id": "bb761bd6",
   "metadata": {},
   "outputs": [],
   "source": [
    "sub_product_freq = df_train.groupby('sub_product').size() / len(df_train)"
   ]
  },
  {
   "cell_type": "code",
   "execution_count": 52,
   "id": "d7550965",
   "metadata": {
    "notebookRunGroups": {
     "groupValue": ""
    }
   },
   "outputs": [],
   "source": [
    "# Vectorized operation to frequency encode sub_product category\n",
    "df_train['sub_product_freq'] = np.where(\n",
    "    pd.isna(df_train['sub_product']) == False,\n",
    "    df_train['sub_product'].map(sub_product_freq),\n",
    "    -1\n",
    ")"
   ]
  },
  {
   "cell_type": "code",
   "execution_count": 53,
   "id": "6aa74361",
   "metadata": {
    "notebookRunGroups": {
     "groupValue": ""
    }
   },
   "outputs": [],
   "source": [
    "# Vectorized operation to create binary flag variable for missing sub_product\n",
    "df_train['sub_product_null_flag'] = np.where(\n",
    "    pd.isna(df_train['sub_product']) == True,\n",
    "    1,\n",
    "    0\n",
    ")"
   ]
  },
  {
   "cell_type": "code",
   "execution_count": 54,
   "id": "387bf3b7",
   "metadata": {
    "notebookRunGroups": {
     "groupValue": ""
    }
   },
   "outputs": [],
   "source": [
    "# Vectorized operation to create binary flag variable for low-occuring sub_product\n",
    "df_train['sub_product_low_flag'] = np.where(\n",
    "    (df_train['sub_product_freq'] <= 0.01) & (pd.isna(df_train['sub_product']) == False),\n",
    "    1,\n",
    "    0\n",
    ")"
   ]
  },
  {
   "attachments": {},
   "cell_type": "markdown",
   "id": "481fdb1f",
   "metadata": {
    "notebookRunGroups": {
     "groupValue": ""
    }
   },
   "source": [
    "## Frequency encode 'issue' variable and add flag variable for low-occurring"
   ]
  },
  {
   "cell_type": "code",
   "execution_count": 55,
   "id": "bb761bd6",
   "metadata": {},
   "outputs": [],
   "source": [
    "issue_freq = df_train.groupby('issue').size() / len(df_train)"
   ]
  },
  {
   "cell_type": "code",
   "execution_count": 56,
   "id": "d7550965",
   "metadata": {
    "notebookRunGroups": {
     "groupValue": ""
    }
   },
   "outputs": [],
   "source": [
    "# Vectorized operation to frequency encode issue category\n",
    "df_train['issue_freq'] = np.where(\n",
    "    pd.isna(df_train['issue']) == False,\n",
    "    df_train['issue'].map(issue_freq),\n",
    "    -1\n",
    ")"
   ]
  },
  {
   "cell_type": "code",
   "execution_count": 57,
   "id": "387bf3b7",
   "metadata": {
    "notebookRunGroups": {
     "groupValue": ""
    }
   },
   "outputs": [],
   "source": [
    "# Vectorized operation to create binary flag variable for low-occuring issue\n",
    "df_train['issue_low_flag'] = np.where(\n",
    "    (df_train['issue_freq'] <= 0.01) & (pd.isna(df_train['issue']) == False),\n",
    "    1,\n",
    "    0\n",
    ")"
   ]
  },
  {
   "attachments": {},
   "cell_type": "markdown",
   "id": "481fdb1f",
   "metadata": {
    "notebookRunGroups": {
     "groupValue": ""
    }
   },
   "source": [
    "## Frequency encode 'sub_issue' variable and add flag variables for missing/low-occurring"
   ]
  },
  {
   "cell_type": "code",
   "execution_count": 58,
   "id": "bb761bd6",
   "metadata": {},
   "outputs": [],
   "source": [
    "sub_issue_freq = df_train.groupby('sub_issue').size() / len(df_train)"
   ]
  },
  {
   "cell_type": "code",
   "execution_count": 59,
   "id": "d7550965",
   "metadata": {
    "notebookRunGroups": {
     "groupValue": ""
    }
   },
   "outputs": [],
   "source": [
    "# Vectorized operation to frequency encode sub_issue category\n",
    "df_train['sub_issue_freq'] = np.where(\n",
    "    pd.isna(df_train['sub_issue']) == False,\n",
    "    df_train['sub_issue'].map(sub_issue_freq),\n",
    "    -1\n",
    ")"
   ]
  },
  {
   "cell_type": "code",
   "execution_count": 60,
   "id": "6aa74361",
   "metadata": {
    "notebookRunGroups": {
     "groupValue": ""
    }
   },
   "outputs": [],
   "source": [
    "# Vectorized operation to create binary flag variable for missing sub_issue\n",
    "df_train['sub_issue_null_flag'] = np.where(\n",
    "    pd.isna(df_train['sub_issue']) == True,\n",
    "    1,\n",
    "    0\n",
    ")"
   ]
  },
  {
   "cell_type": "code",
   "execution_count": 61,
   "id": "387bf3b7",
   "metadata": {
    "notebookRunGroups": {
     "groupValue": ""
    }
   },
   "outputs": [],
   "source": [
    "# Vectorized operation to create binary flag variable for low-occuring sub_issue\n",
    "df_train['sub_issue_low_flag'] = np.where(\n",
    "    (df_train['sub_issue_freq'] <= 0.01) & (pd.isna(df_train['sub_issue']) == False),\n",
    "    1,\n",
    "    0\n",
    ")"
   ]
  },
  {
   "attachments": {},
   "cell_type": "markdown",
   "id": "481fdb1f",
   "metadata": {
    "notebookRunGroups": {
     "groupValue": ""
    }
   },
   "source": [
    "## Frequency encode 'company_public_response' variable and add flag variables for missing/low-occurring"
   ]
  },
  {
   "cell_type": "code",
   "execution_count": 62,
   "id": "bb761bd6",
   "metadata": {},
   "outputs": [],
   "source": [
    "company_public_response_freq = df_train.groupby('company_public_response').size() / len(df_train)"
   ]
  },
  {
   "cell_type": "code",
   "execution_count": 63,
   "id": "d7550965",
   "metadata": {
    "notebookRunGroups": {
     "groupValue": ""
    }
   },
   "outputs": [],
   "source": [
    "# Vectorized operation to frequency encode company_public_response category\n",
    "df_train['company_public_response_freq'] = np.where(\n",
    "    pd.isna(df_train['company_public_response']) == False,\n",
    "    df_train['company_public_response'].map(company_public_response_freq),\n",
    "    -1\n",
    ")"
   ]
  },
  {
   "cell_type": "code",
   "execution_count": 64,
   "id": "6aa74361",
   "metadata": {
    "notebookRunGroups": {
     "groupValue": ""
    }
   },
   "outputs": [],
   "source": [
    "# Vectorized operation to create binary flag variable for missing company_public_response\n",
    "df_train['company_public_response_null_flag'] = np.where(\n",
    "    pd.isna(df_train['company_public_response']) == True,\n",
    "    1,\n",
    "    0\n",
    ")"
   ]
  },
  {
   "cell_type": "code",
   "execution_count": 65,
   "id": "387bf3b7",
   "metadata": {
    "notebookRunGroups": {
     "groupValue": ""
    }
   },
   "outputs": [],
   "source": [
    "# Vectorized operation to create binary flag variable for low-occuring company_public_response\n",
    "df_train['company_public_response_low_flag'] = np.where(\n",
    "    (df_train['company_public_response_freq'] <= 0.01) & (pd.isna(df_train['company_public_response']) == False),\n",
    "    1,\n",
    "    0\n",
    ")"
   ]
  },
  {
   "attachments": {},
   "cell_type": "markdown",
   "id": "481fdb1f",
   "metadata": {
    "notebookRunGroups": {
     "groupValue": ""
    }
   },
   "source": [
    "## Frequency encode 'company' variable and add flag variable for low-occurring"
   ]
  },
  {
   "cell_type": "code",
   "execution_count": 66,
   "id": "bb761bd6",
   "metadata": {},
   "outputs": [],
   "source": [
    "company_freq = df_train.groupby('company').size() / len(df_train)"
   ]
  },
  {
   "cell_type": "code",
   "execution_count": 67,
   "id": "d7550965",
   "metadata": {
    "notebookRunGroups": {
     "groupValue": ""
    }
   },
   "outputs": [],
   "source": [
    "# Vectorized operation to frequency encode company category\n",
    "df_train['company_freq'] = np.where(\n",
    "    pd.isna(df_train['company']) == False,\n",
    "    df_train['company'].map(company_freq),\n",
    "    -1\n",
    ")"
   ]
  },
  {
   "cell_type": "code",
   "execution_count": 68,
   "id": "387bf3b7",
   "metadata": {
    "notebookRunGroups": {
     "groupValue": ""
    }
   },
   "outputs": [],
   "source": [
    "# Vectorized operation to create binary flag variable for low-occuring company\n",
    "df_train['company_low_flag'] = np.where(\n",
    "    (df_train['company_freq'] <= 0.01) & (pd.isna(df_train['company']) == False),\n",
    "    1,\n",
    "    0\n",
    ")"
   ]
  },
  {
   "cell_type": "markdown",
   "id": "bc0504f8",
   "metadata": {},
   "source": [
    "## Frequency encode 'state' variable and add flag variables for missing/low-occurring"
   ]
  },
  {
   "cell_type": "code",
   "execution_count": 69,
   "id": "bb761bd6",
   "metadata": {},
   "outputs": [],
   "source": [
    "state_freq = df_train.groupby('state').size() / len(df_train)"
   ]
  },
  {
   "cell_type": "code",
   "execution_count": 70,
   "id": "d7550965",
   "metadata": {
    "notebookRunGroups": {
     "groupValue": ""
    }
   },
   "outputs": [],
   "source": [
    "# Vectorized operation to frequency encode state category\n",
    "df_train['state_freq'] = np.where(\n",
    "    pd.isna(df_train['state']) == False,\n",
    "    df_train['state'].map(state_freq),\n",
    "    -1\n",
    ")"
   ]
  },
  {
   "cell_type": "code",
   "execution_count": 71,
   "id": "6aa74361",
   "metadata": {
    "notebookRunGroups": {
     "groupValue": ""
    }
   },
   "outputs": [],
   "source": [
    "# Vectorized operation to create binary flag variable for missing state\n",
    "df_train['state_null_flag'] = np.where(\n",
    "    pd.isna(df_train['state']) == True,\n",
    "    1,\n",
    "    0\n",
    ")"
   ]
  },
  {
   "cell_type": "code",
   "execution_count": 72,
   "id": "387bf3b7",
   "metadata": {
    "notebookRunGroups": {
     "groupValue": ""
    }
   },
   "outputs": [],
   "source": [
    "# Vectorized operation to create binary flag variable for low-occuring state\n",
    "df_train['state_low_flag'] = np.where(\n",
    "    (df_train['state_freq'] <= 0.01) & (pd.isna(df_train['state']) == False),\n",
    "    1,\n",
    "    0\n",
    ")"
   ]
  },
  {
   "attachments": {},
   "cell_type": "markdown",
   "id": "481fdb1f",
   "metadata": {
    "notebookRunGroups": {
     "groupValue": ""
    }
   },
   "source": [
    "## Frequency encode 'zipcode' variable and add flag variables for missing/low-occurring"
   ]
  },
  {
   "cell_type": "code",
   "execution_count": 73,
   "id": "bb761bd6",
   "metadata": {},
   "outputs": [],
   "source": [
    "zipcode_freq = df_train.groupby('zipcode').size() / len(df_train)"
   ]
  },
  {
   "cell_type": "code",
   "execution_count": 74,
   "id": "d7550965",
   "metadata": {
    "notebookRunGroups": {
     "groupValue": ""
    }
   },
   "outputs": [],
   "source": [
    "# Vectorized operation to frequency encode zipcode category\n",
    "df_train['zipcode_freq'] = np.where(\n",
    "    pd.isna(df_train['zipcode']) == False,\n",
    "    df_train['zipcode'].map(zipcode_freq),\n",
    "    -1\n",
    ")"
   ]
  },
  {
   "cell_type": "code",
   "execution_count": 75,
   "id": "6aa74361",
   "metadata": {
    "notebookRunGroups": {
     "groupValue": ""
    }
   },
   "outputs": [],
   "source": [
    "# Vectorized operation to create binary flag variable for missing zipcode\n",
    "df_train['zipcode_null_flag'] = np.where(\n",
    "    pd.isna(df_train['zipcode']) == True,\n",
    "    1,\n",
    "    0\n",
    ")"
   ]
  },
  {
   "cell_type": "code",
   "execution_count": 76,
   "id": "387bf3b7",
   "metadata": {
    "notebookRunGroups": {
     "groupValue": ""
    }
   },
   "outputs": [],
   "source": [
    "# Vectorized operation to create binary flag variable for low-occuring zipcode\n",
    "df_train['zipcode_low_flag'] = np.where(\n",
    "    (df_train['zipcode_freq'] <= 0.001) & (pd.isna(df_train['zipcode']) == False), # change from 0.01 to 0.001 since zips are all fairly low-occurring\n",
    "    1,\n",
    "    0\n",
    ")"
   ]
  },
  {
   "attachments": {},
   "cell_type": "markdown",
   "id": "188b5a0c",
   "metadata": {},
   "source": [
    "## One-hot encode 'tags' variable but change nulls to \"Not Older American, Not Servicemember\" first"
   ]
  },
  {
   "cell_type": "code",
   "execution_count": 77,
   "id": "7260e79b",
   "metadata": {
    "notebookRunGroups": {
     "groupValue": ""
    }
   },
   "outputs": [],
   "source": [
    "df_train['tags'].fillna(\"Not Older American, Not Servicemember\", inplace=True)"
   ]
  },
  {
   "cell_type": "code",
   "execution_count": 78,
   "id": "ae8ae4c1",
   "metadata": {},
   "outputs": [
    {
     "data": {
      "text/plain": [
       "Not Older American, Not Servicemember    38812\n",
       "Older American                            4253\n",
       "Servicemember                             3131\n",
       "Older American, Servicemember              568\n",
       "Name: tags, dtype: int64"
      ]
     },
     "execution_count": 78,
     "metadata": {},
     "output_type": "execute_result"
    }
   ],
   "source": [
    "df_train['tags'].value_counts()"
   ]
  },
  {
   "cell_type": "code",
   "execution_count": 79,
   "id": "7c6f1b30",
   "metadata": {},
   "outputs": [],
   "source": [
    "OH_encoder = OneHotEncoder(dtype='int')\n",
    "tags_df_train = pd.DataFrame(OH_encoder.fit_transform(df_train[['tags']]).toarray(), columns=OH_encoder.categories_[0])"
   ]
  },
  {
   "cell_type": "code",
   "execution_count": 80,
   "id": "29ebd70f",
   "metadata": {},
   "outputs": [
    {
     "data": {
      "text/html": [
       "<div>\n",
       "<style scoped>\n",
       "    .dataframe tbody tr th:only-of-type {\n",
       "        vertical-align: middle;\n",
       "    }\n",
       "\n",
       "    .dataframe tbody tr th {\n",
       "        vertical-align: top;\n",
       "    }\n",
       "\n",
       "    .dataframe thead th {\n",
       "        text-align: right;\n",
       "    }\n",
       "</style>\n",
       "<table border=\"1\" class=\"dataframe\">\n",
       "  <thead>\n",
       "    <tr style=\"text-align: right;\">\n",
       "      <th></th>\n",
       "      <th>Not Older American, Not Servicemember</th>\n",
       "      <th>Older American</th>\n",
       "      <th>Older American, Servicemember</th>\n",
       "      <th>Servicemember</th>\n",
       "    </tr>\n",
       "  </thead>\n",
       "  <tbody>\n",
       "    <tr>\n",
       "      <th>0</th>\n",
       "      <td>1</td>\n",
       "      <td>0</td>\n",
       "      <td>0</td>\n",
       "      <td>0</td>\n",
       "    </tr>\n",
       "    <tr>\n",
       "      <th>1</th>\n",
       "      <td>1</td>\n",
       "      <td>0</td>\n",
       "      <td>0</td>\n",
       "      <td>0</td>\n",
       "    </tr>\n",
       "    <tr>\n",
       "      <th>2</th>\n",
       "      <td>1</td>\n",
       "      <td>0</td>\n",
       "      <td>0</td>\n",
       "      <td>0</td>\n",
       "    </tr>\n",
       "    <tr>\n",
       "      <th>3</th>\n",
       "      <td>1</td>\n",
       "      <td>0</td>\n",
       "      <td>0</td>\n",
       "      <td>0</td>\n",
       "    </tr>\n",
       "    <tr>\n",
       "      <th>4</th>\n",
       "      <td>0</td>\n",
       "      <td>0</td>\n",
       "      <td>0</td>\n",
       "      <td>1</td>\n",
       "    </tr>\n",
       "  </tbody>\n",
       "</table>\n",
       "</div>"
      ],
      "text/plain": [
       "   Not Older American, Not Servicemember  Older American  \\\n",
       "0                                      1               0   \n",
       "1                                      1               0   \n",
       "2                                      1               0   \n",
       "3                                      1               0   \n",
       "4                                      0               0   \n",
       "\n",
       "   Older American, Servicemember  Servicemember  \n",
       "0                              0              0  \n",
       "1                              0              0  \n",
       "2                              0              0  \n",
       "3                              0              0  \n",
       "4                              0              1  "
      ]
     },
     "execution_count": 80,
     "metadata": {},
     "output_type": "execute_result"
    }
   ],
   "source": [
    "tags_df_train.head()"
   ]
  },
  {
   "cell_type": "code",
   "execution_count": 81,
   "id": "b9853ce5",
   "metadata": {},
   "outputs": [],
   "source": [
    "df_train = df_train.join(tags_df_train)"
   ]
  },
  {
   "attachments": {},
   "cell_type": "markdown",
   "id": "383fc713",
   "metadata": {},
   "source": [
    "## One-hot encode 'company_response_to_consumer' variable"
   ]
  },
  {
   "cell_type": "code",
   "execution_count": 82,
   "id": "f1b68360",
   "metadata": {},
   "outputs": [
    {
     "data": {
      "text/plain": [
       "Closed with explanation            35619\n",
       "Closed with non-monetary relief     6041\n",
       "Closed with monetary relief         3469\n",
       "Closed                              1267\n",
       "Untimely response                    368\n",
       "Name: company_response_to_consumer, dtype: int64"
      ]
     },
     "execution_count": 82,
     "metadata": {},
     "output_type": "execute_result"
    }
   ],
   "source": [
    "df_train['company_response_to_consumer'].value_counts()"
   ]
  },
  {
   "cell_type": "code",
   "execution_count": 83,
   "id": "2e6b2af2",
   "metadata": {},
   "outputs": [],
   "source": [
    "response_df_train = pd.DataFrame(OH_encoder.fit_transform(df_train[['company_response_to_consumer']]).toarray(), \n",
    "                    columns=OH_encoder.categories_[0])"
   ]
  },
  {
   "cell_type": "code",
   "execution_count": 84,
   "id": "f99a42e6",
   "metadata": {},
   "outputs": [
    {
     "data": {
      "text/html": [
       "<div>\n",
       "<style scoped>\n",
       "    .dataframe tbody tr th:only-of-type {\n",
       "        vertical-align: middle;\n",
       "    }\n",
       "\n",
       "    .dataframe tbody tr th {\n",
       "        vertical-align: top;\n",
       "    }\n",
       "\n",
       "    .dataframe thead th {\n",
       "        text-align: right;\n",
       "    }\n",
       "</style>\n",
       "<table border=\"1\" class=\"dataframe\">\n",
       "  <thead>\n",
       "    <tr style=\"text-align: right;\">\n",
       "      <th></th>\n",
       "      <th>Closed</th>\n",
       "      <th>Closed with explanation</th>\n",
       "      <th>Closed with monetary relief</th>\n",
       "      <th>Closed with non-monetary relief</th>\n",
       "      <th>Untimely response</th>\n",
       "    </tr>\n",
       "  </thead>\n",
       "  <tbody>\n",
       "    <tr>\n",
       "      <th>0</th>\n",
       "      <td>0</td>\n",
       "      <td>1</td>\n",
       "      <td>0</td>\n",
       "      <td>0</td>\n",
       "      <td>0</td>\n",
       "    </tr>\n",
       "    <tr>\n",
       "      <th>1</th>\n",
       "      <td>0</td>\n",
       "      <td>1</td>\n",
       "      <td>0</td>\n",
       "      <td>0</td>\n",
       "      <td>0</td>\n",
       "    </tr>\n",
       "    <tr>\n",
       "      <th>2</th>\n",
       "      <td>0</td>\n",
       "      <td>1</td>\n",
       "      <td>0</td>\n",
       "      <td>0</td>\n",
       "      <td>0</td>\n",
       "    </tr>\n",
       "    <tr>\n",
       "      <th>3</th>\n",
       "      <td>0</td>\n",
       "      <td>1</td>\n",
       "      <td>0</td>\n",
       "      <td>0</td>\n",
       "      <td>0</td>\n",
       "    </tr>\n",
       "    <tr>\n",
       "      <th>4</th>\n",
       "      <td>0</td>\n",
       "      <td>1</td>\n",
       "      <td>0</td>\n",
       "      <td>0</td>\n",
       "      <td>0</td>\n",
       "    </tr>\n",
       "  </tbody>\n",
       "</table>\n",
       "</div>"
      ],
      "text/plain": [
       "   Closed  Closed with explanation  Closed with monetary relief  \\\n",
       "0       0                        1                            0   \n",
       "1       0                        1                            0   \n",
       "2       0                        1                            0   \n",
       "3       0                        1                            0   \n",
       "4       0                        1                            0   \n",
       "\n",
       "   Closed with non-monetary relief  Untimely response  \n",
       "0                                0                  0  \n",
       "1                                0                  0  \n",
       "2                                0                  0  \n",
       "3                                0                  0  \n",
       "4                                0                  0  "
      ]
     },
     "execution_count": 84,
     "metadata": {},
     "output_type": "execute_result"
    }
   ],
   "source": [
    "response_df_train.head()"
   ]
  },
  {
   "cell_type": "code",
   "execution_count": 85,
   "id": "6162084f",
   "metadata": {},
   "outputs": [],
   "source": [
    "df_train = df_train.join(response_df_train)"
   ]
  },
  {
   "attachments": {},
   "cell_type": "markdown",
   "id": "7ade7903",
   "metadata": {},
   "source": [
    "## Binary encode 'timely_response' variable"
   ]
  },
  {
   "cell_type": "code",
   "execution_count": 86,
   "id": "a69d63b9",
   "metadata": {},
   "outputs": [
    {
     "data": {
      "text/plain": [
       "Yes    45233\n",
       "No      1531\n",
       "Name: timely_response, dtype: int64"
      ]
     },
     "execution_count": 86,
     "metadata": {},
     "output_type": "execute_result"
    }
   ],
   "source": [
    "df_train['timely_response'].value_counts()"
   ]
  },
  {
   "cell_type": "code",
   "execution_count": 87,
   "id": "fc8145d3",
   "metadata": {},
   "outputs": [],
   "source": [
    "# Vectorized operation to create binary flag variable for timely_response\n",
    "df_train['timely_response'] = np.where(\n",
    "    df_train['timely_response'].str.contains('Yes'),\n",
    "    1,\n",
    "    0\n",
    ")"
   ]
  },
  {
   "cell_type": "code",
   "execution_count": 88,
   "id": "3118f258",
   "metadata": {},
   "outputs": [
    {
     "data": {
      "text/plain": [
       "1    45233\n",
       "0     1531\n",
       "Name: timely_response, dtype: int64"
      ]
     },
     "execution_count": 88,
     "metadata": {},
     "output_type": "execute_result"
    }
   ],
   "source": [
    "df_train['timely_response'].value_counts()"
   ]
  },
  {
   "attachments": {},
   "cell_type": "markdown",
   "id": "4256ba41",
   "metadata": {},
   "source": [
    "## Binary encode 'consumer_disputed?' variable"
   ]
  },
  {
   "cell_type": "code",
   "execution_count": 89,
   "id": "9aca9494",
   "metadata": {},
   "outputs": [
    {
     "data": {
      "text/plain": [
       "No     35876\n",
       "Yes    10888\n",
       "Name: consumer_disputed?, dtype: int64"
      ]
     },
     "execution_count": 89,
     "metadata": {},
     "output_type": "execute_result"
    }
   ],
   "source": [
    "df_train['consumer_disputed?'].value_counts()"
   ]
  },
  {
   "cell_type": "code",
   "execution_count": 90,
   "id": "f47fd9e0",
   "metadata": {},
   "outputs": [],
   "source": [
    "# Vectorized operation to create binary flag variable for consumer_disputed?\n",
    "df_train['consumer_disputed?'] = np.where(\n",
    "    df_train['consumer_disputed?'].str.contains('Yes'), \n",
    "    1,\n",
    "    0\n",
    ")"
   ]
  },
  {
   "cell_type": "code",
   "execution_count": 91,
   "id": "fdfca35a",
   "metadata": {},
   "outputs": [
    {
     "data": {
      "text/plain": [
       "0    35876\n",
       "1    10888\n",
       "Name: consumer_disputed?, dtype: int64"
      ]
     },
     "execution_count": 91,
     "metadata": {},
     "output_type": "execute_result"
    }
   ],
   "source": [
    "df_train['consumer_disputed?'].value_counts()"
   ]
  },
  {
   "cell_type": "code",
   "execution_count": 92,
   "id": "8801f502",
   "metadata": {},
   "outputs": [
    {
     "name": "stdout",
     "output_type": "stream",
     "text": [
      "<class 'pandas.core.frame.DataFrame'>\n",
      "RangeIndex: 46764 entries, 0 to 46763\n",
      "Data columns (total 43 columns):\n",
      " #   Column                                 Non-Null Count  Dtype  \n",
      "---  ------                                 --------------  -----  \n",
      " 0   date_received                          46764 non-null  object \n",
      " 1   sub_product                            32446 non-null  object \n",
      " 2   issue                                  46764 non-null  object \n",
      " 3   sub_issue                              23052 non-null  object \n",
      " 4   consumer_complaint_narrative           46764 non-null  object \n",
      " 5   company_public_response                22930 non-null  object \n",
      " 6   company                                46764 non-null  object \n",
      " 7   state                                  46628 non-null  object \n",
      " 8   zipcode                                46626 non-null  object \n",
      " 9   tags                                   46764 non-null  object \n",
      " 10  date_sent_to_company                   46764 non-null  object \n",
      " 11  company_response_to_consumer           46764 non-null  object \n",
      " 12  timely_response                        46764 non-null  int32  \n",
      " 13  consumer_disputed?                     46764 non-null  int32  \n",
      " 14  days_between_receipt_and_sent          46764 non-null  int64  \n",
      " 15  sub_product_freq                       46764 non-null  float64\n",
      " 16  sub_product_null_flag                  46764 non-null  int32  \n",
      " 17  sub_product_low_flag                   46764 non-null  int32  \n",
      " 18  issue_freq                             46764 non-null  float64\n",
      " 19  issue_low_flag                         46764 non-null  int32  \n",
      " 20  sub_issue_freq                         46764 non-null  float64\n",
      " 21  sub_issue_null_flag                    46764 non-null  int32  \n",
      " 22  sub_issue_low_flag                     46764 non-null  int32  \n",
      " 23  company_public_response_freq           46764 non-null  float64\n",
      " 24  company_public_response_null_flag      46764 non-null  int32  \n",
      " 25  company_public_response_low_flag       46764 non-null  int32  \n",
      " 26  company_freq                           46764 non-null  float64\n",
      " 27  company_low_flag                       46764 non-null  int32  \n",
      " 28  state_freq                             46764 non-null  float64\n",
      " 29  state_null_flag                        46764 non-null  int32  \n",
      " 30  state_low_flag                         46764 non-null  int32  \n",
      " 31  zipcode_freq                           46764 non-null  float64\n",
      " 32  zipcode_null_flag                      46764 non-null  int32  \n",
      " 33  zipcode_low_flag                       46764 non-null  int32  \n",
      " 34  Not Older American, Not Servicemember  46764 non-null  int32  \n",
      " 35  Older American                         46764 non-null  int32  \n",
      " 36  Older American, Servicemember          46764 non-null  int32  \n",
      " 37  Servicemember                          46764 non-null  int32  \n",
      " 38  Closed                                 46764 non-null  int32  \n",
      " 39  Closed with explanation                46764 non-null  int32  \n",
      " 40  Closed with monetary relief            46764 non-null  int32  \n",
      " 41  Closed with non-monetary relief        46764 non-null  int32  \n",
      " 42  Untimely response                      46764 non-null  int32  \n",
      "dtypes: float64(7), int32(23), int64(1), object(12)\n",
      "memory usage: 11.2+ MB\n"
     ]
    }
   ],
   "source": [
    "df_train.info()"
   ]
  },
  {
   "cell_type": "code",
   "execution_count": 93,
   "id": "7d78124c",
   "metadata": {},
   "outputs": [
    {
     "data": {
      "text/html": [
       "<div>\n",
       "<style scoped>\n",
       "    .dataframe tbody tr th:only-of-type {\n",
       "        vertical-align: middle;\n",
       "    }\n",
       "\n",
       "    .dataframe tbody tr th {\n",
       "        vertical-align: top;\n",
       "    }\n",
       "\n",
       "    .dataframe thead th {\n",
       "        text-align: right;\n",
       "    }\n",
       "</style>\n",
       "<table border=\"1\" class=\"dataframe\">\n",
       "  <thead>\n",
       "    <tr style=\"text-align: right;\">\n",
       "      <th></th>\n",
       "      <th>date_received</th>\n",
       "      <th>sub_product</th>\n",
       "      <th>issue</th>\n",
       "      <th>sub_issue</th>\n",
       "      <th>consumer_complaint_narrative</th>\n",
       "      <th>company_public_response</th>\n",
       "      <th>company</th>\n",
       "      <th>state</th>\n",
       "      <th>zipcode</th>\n",
       "      <th>tags</th>\n",
       "      <th>date_sent_to_company</th>\n",
       "      <th>company_response_to_consumer</th>\n",
       "      <th>timely_response</th>\n",
       "      <th>consumer_disputed?</th>\n",
       "      <th>days_between_receipt_and_sent</th>\n",
       "      <th>sub_product_freq</th>\n",
       "      <th>sub_product_null_flag</th>\n",
       "      <th>sub_product_low_flag</th>\n",
       "      <th>issue_freq</th>\n",
       "      <th>issue_low_flag</th>\n",
       "      <th>sub_issue_freq</th>\n",
       "      <th>sub_issue_null_flag</th>\n",
       "      <th>sub_issue_low_flag</th>\n",
       "      <th>company_public_response_freq</th>\n",
       "      <th>company_public_response_null_flag</th>\n",
       "      <th>company_public_response_low_flag</th>\n",
       "      <th>company_freq</th>\n",
       "      <th>company_low_flag</th>\n",
       "      <th>state_freq</th>\n",
       "      <th>state_null_flag</th>\n",
       "      <th>state_low_flag</th>\n",
       "      <th>zipcode_freq</th>\n",
       "      <th>zipcode_null_flag</th>\n",
       "      <th>zipcode_low_flag</th>\n",
       "      <th>Not Older American, Not Servicemember</th>\n",
       "      <th>Older American</th>\n",
       "      <th>Older American, Servicemember</th>\n",
       "      <th>Servicemember</th>\n",
       "      <th>Closed</th>\n",
       "      <th>Closed with explanation</th>\n",
       "      <th>Closed with monetary relief</th>\n",
       "      <th>Closed with non-monetary relief</th>\n",
       "      <th>Untimely response</th>\n",
       "    </tr>\n",
       "  </thead>\n",
       "  <tbody>\n",
       "    <tr>\n",
       "      <th>0</th>\n",
       "      <td>2016-01-16</td>\n",
       "      <td>Conventional fixed mortgage</td>\n",
       "      <td>Loan servicing, payments, escrow account</td>\n",
       "      <td>None</td>\n",
       "      <td>Dear Sir or Madam, Ever since XXXX XXXX XXXX s...</td>\n",
       "      <td>None</td>\n",
       "      <td>Nationstar Mortgage</td>\n",
       "      <td>MA</td>\n",
       "      <td>020XX</td>\n",
       "      <td>Not Older American, Not Servicemember</td>\n",
       "      <td>2016-01-16</td>\n",
       "      <td>Closed with explanation</td>\n",
       "      <td>1</td>\n",
       "      <td>0</td>\n",
       "      <td>0</td>\n",
       "      <td>0.098495</td>\n",
       "      <td>0</td>\n",
       "      <td>0</td>\n",
       "      <td>0.097832</td>\n",
       "      <td>0</td>\n",
       "      <td>-1.000000</td>\n",
       "      <td>1</td>\n",
       "      <td>0</td>\n",
       "      <td>-1.000000</td>\n",
       "      <td>1</td>\n",
       "      <td>0</td>\n",
       "      <td>0.020208</td>\n",
       "      <td>0</td>\n",
       "      <td>0.018711</td>\n",
       "      <td>0</td>\n",
       "      <td>0</td>\n",
       "      <td>0.001198</td>\n",
       "      <td>0</td>\n",
       "      <td>0</td>\n",
       "      <td>1</td>\n",
       "      <td>0</td>\n",
       "      <td>0</td>\n",
       "      <td>0</td>\n",
       "      <td>0</td>\n",
       "      <td>1</td>\n",
       "      <td>0</td>\n",
       "      <td>0</td>\n",
       "      <td>0</td>\n",
       "    </tr>\n",
       "    <tr>\n",
       "      <th>1</th>\n",
       "      <td>2015-10-25</td>\n",
       "      <td>Other bank product/service</td>\n",
       "      <td>Deposits and withdrawals</td>\n",
       "      <td>None</td>\n",
       "      <td>on XXXX XXXX, 2015 there was an ACH transactio...</td>\n",
       "      <td>None</td>\n",
       "      <td>Fifth Third Financial Corporation</td>\n",
       "      <td>FL</td>\n",
       "      <td>331XX</td>\n",
       "      <td>Not Older American, Not Servicemember</td>\n",
       "      <td>2015-10-25</td>\n",
       "      <td>Closed with explanation</td>\n",
       "      <td>1</td>\n",
       "      <td>0</td>\n",
       "      <td>0</td>\n",
       "      <td>0.019973</td>\n",
       "      <td>0</td>\n",
       "      <td>0</td>\n",
       "      <td>0.020742</td>\n",
       "      <td>0</td>\n",
       "      <td>-1.000000</td>\n",
       "      <td>1</td>\n",
       "      <td>0</td>\n",
       "      <td>-1.000000</td>\n",
       "      <td>1</td>\n",
       "      <td>0</td>\n",
       "      <td>0.003037</td>\n",
       "      <td>1</td>\n",
       "      <td>0.089449</td>\n",
       "      <td>0</td>\n",
       "      <td>0</td>\n",
       "      <td>0.009858</td>\n",
       "      <td>0</td>\n",
       "      <td>0</td>\n",
       "      <td>1</td>\n",
       "      <td>0</td>\n",
       "      <td>0</td>\n",
       "      <td>0</td>\n",
       "      <td>0</td>\n",
       "      <td>1</td>\n",
       "      <td>0</td>\n",
       "      <td>0</td>\n",
       "      <td>0</td>\n",
       "    </tr>\n",
       "    <tr>\n",
       "      <th>2</th>\n",
       "      <td>2015-10-28</td>\n",
       "      <td>None</td>\n",
       "      <td>Billing disputes</td>\n",
       "      <td>None</td>\n",
       "      <td>My wife has not received a paper bill from Cha...</td>\n",
       "      <td>None</td>\n",
       "      <td>JPMorgan Chase &amp; Co.</td>\n",
       "      <td>TN</td>\n",
       "      <td>381XX</td>\n",
       "      <td>Not Older American, Not Servicemember</td>\n",
       "      <td>2015-10-28</td>\n",
       "      <td>Closed with explanation</td>\n",
       "      <td>1</td>\n",
       "      <td>0</td>\n",
       "      <td>0</td>\n",
       "      <td>-1.000000</td>\n",
       "      <td>1</td>\n",
       "      <td>0</td>\n",
       "      <td>0.018283</td>\n",
       "      <td>0</td>\n",
       "      <td>-1.000000</td>\n",
       "      <td>1</td>\n",
       "      <td>0</td>\n",
       "      <td>-1.000000</td>\n",
       "      <td>1</td>\n",
       "      <td>0</td>\n",
       "      <td>0.038897</td>\n",
       "      <td>0</td>\n",
       "      <td>0.017599</td>\n",
       "      <td>0</td>\n",
       "      <td>0</td>\n",
       "      <td>0.002438</td>\n",
       "      <td>0</td>\n",
       "      <td>0</td>\n",
       "      <td>1</td>\n",
       "      <td>0</td>\n",
       "      <td>0</td>\n",
       "      <td>0</td>\n",
       "      <td>0</td>\n",
       "      <td>1</td>\n",
       "      <td>0</td>\n",
       "      <td>0</td>\n",
       "      <td>0</td>\n",
       "    </tr>\n",
       "    <tr>\n",
       "      <th>3</th>\n",
       "      <td>2015-06-20</td>\n",
       "      <td>Auto</td>\n",
       "      <td>Taking/threatening an illegal action</td>\n",
       "      <td>Seized/Attempted to seize property</td>\n",
       "      <td>the company m &amp; M funding has been harassing f...</td>\n",
       "      <td>None</td>\n",
       "      <td>M &amp; S FUNDING, INC.</td>\n",
       "      <td>CO</td>\n",
       "      <td>809XX</td>\n",
       "      <td>Not Older American, Not Servicemember</td>\n",
       "      <td>2015-06-26</td>\n",
       "      <td>Closed with explanation</td>\n",
       "      <td>1</td>\n",
       "      <td>0</td>\n",
       "      <td>6</td>\n",
       "      <td>0.005902</td>\n",
       "      <td>0</td>\n",
       "      <td>1</td>\n",
       "      <td>0.020015</td>\n",
       "      <td>0</td>\n",
       "      <td>0.002545</td>\n",
       "      <td>0</td>\n",
       "      <td>1</td>\n",
       "      <td>-1.000000</td>\n",
       "      <td>1</td>\n",
       "      <td>0</td>\n",
       "      <td>0.000021</td>\n",
       "      <td>1</td>\n",
       "      <td>0.016786</td>\n",
       "      <td>0</td>\n",
       "      <td>0</td>\n",
       "      <td>0.001711</td>\n",
       "      <td>0</td>\n",
       "      <td>0</td>\n",
       "      <td>1</td>\n",
       "      <td>0</td>\n",
       "      <td>0</td>\n",
       "      <td>0</td>\n",
       "      <td>0</td>\n",
       "      <td>1</td>\n",
       "      <td>0</td>\n",
       "      <td>0</td>\n",
       "      <td>0</td>\n",
       "    </tr>\n",
       "    <tr>\n",
       "      <th>4</th>\n",
       "      <td>2016-03-09</td>\n",
       "      <td>Installment loan</td>\n",
       "      <td>Managing the loan or lease</td>\n",
       "      <td>None</td>\n",
       "      <td>Can my reverse mortgage lender refuse to conti...</td>\n",
       "      <td>Company has responded to the consumer and the ...</td>\n",
       "      <td>Wells Fargo &amp; Company</td>\n",
       "      <td>ME</td>\n",
       "      <td>048XX</td>\n",
       "      <td>Servicemember</td>\n",
       "      <td>2016-03-10</td>\n",
       "      <td>Closed with explanation</td>\n",
       "      <td>1</td>\n",
       "      <td>0</td>\n",
       "      <td>1</td>\n",
       "      <td>0.017449</td>\n",
       "      <td>0</td>\n",
       "      <td>0</td>\n",
       "      <td>0.024741</td>\n",
       "      <td>0</td>\n",
       "      <td>-1.000000</td>\n",
       "      <td>1</td>\n",
       "      <td>0</td>\n",
       "      <td>0.055727</td>\n",
       "      <td>0</td>\n",
       "      <td>0</td>\n",
       "      <td>0.045890</td>\n",
       "      <td>0</td>\n",
       "      <td>0.003143</td>\n",
       "      <td>0</td>\n",
       "      <td>1</td>\n",
       "      <td>0.000128</td>\n",
       "      <td>0</td>\n",
       "      <td>1</td>\n",
       "      <td>0</td>\n",
       "      <td>0</td>\n",
       "      <td>0</td>\n",
       "      <td>1</td>\n",
       "      <td>0</td>\n",
       "      <td>1</td>\n",
       "      <td>0</td>\n",
       "      <td>0</td>\n",
       "      <td>0</td>\n",
       "    </tr>\n",
       "  </tbody>\n",
       "</table>\n",
       "</div>"
      ],
      "text/plain": [
       "  date_received                  sub_product  \\\n",
       "0    2016-01-16  Conventional fixed mortgage   \n",
       "1    2015-10-25   Other bank product/service   \n",
       "2    2015-10-28                         None   \n",
       "3    2015-06-20                         Auto   \n",
       "4    2016-03-09             Installment loan   \n",
       "\n",
       "                                      issue  \\\n",
       "0  Loan servicing, payments, escrow account   \n",
       "1                  Deposits and withdrawals   \n",
       "2                          Billing disputes   \n",
       "3      Taking/threatening an illegal action   \n",
       "4                Managing the loan or lease   \n",
       "\n",
       "                            sub_issue  \\\n",
       "0                                None   \n",
       "1                                None   \n",
       "2                                None   \n",
       "3  Seized/Attempted to seize property   \n",
       "4                                None   \n",
       "\n",
       "                        consumer_complaint_narrative  \\\n",
       "0  Dear Sir or Madam, Ever since XXXX XXXX XXXX s...   \n",
       "1  on XXXX XXXX, 2015 there was an ACH transactio...   \n",
       "2  My wife has not received a paper bill from Cha...   \n",
       "3  the company m & M funding has been harassing f...   \n",
       "4  Can my reverse mortgage lender refuse to conti...   \n",
       "\n",
       "                             company_public_response  \\\n",
       "0                                               None   \n",
       "1                                               None   \n",
       "2                                               None   \n",
       "3                                               None   \n",
       "4  Company has responded to the consumer and the ...   \n",
       "\n",
       "                             company state zipcode  \\\n",
       "0                Nationstar Mortgage    MA   020XX   \n",
       "1  Fifth Third Financial Corporation    FL   331XX   \n",
       "2               JPMorgan Chase & Co.    TN   381XX   \n",
       "3                M & S FUNDING, INC.    CO   809XX   \n",
       "4              Wells Fargo & Company    ME   048XX   \n",
       "\n",
       "                                    tags date_sent_to_company  \\\n",
       "0  Not Older American, Not Servicemember           2016-01-16   \n",
       "1  Not Older American, Not Servicemember           2015-10-25   \n",
       "2  Not Older American, Not Servicemember           2015-10-28   \n",
       "3  Not Older American, Not Servicemember           2015-06-26   \n",
       "4                          Servicemember           2016-03-10   \n",
       "\n",
       "  company_response_to_consumer  timely_response  consumer_disputed?  \\\n",
       "0      Closed with explanation                1                   0   \n",
       "1      Closed with explanation                1                   0   \n",
       "2      Closed with explanation                1                   0   \n",
       "3      Closed with explanation                1                   0   \n",
       "4      Closed with explanation                1                   0   \n",
       "\n",
       "   days_between_receipt_and_sent  sub_product_freq  sub_product_null_flag  \\\n",
       "0                              0          0.098495                      0   \n",
       "1                              0          0.019973                      0   \n",
       "2                              0         -1.000000                      1   \n",
       "3                              6          0.005902                      0   \n",
       "4                              1          0.017449                      0   \n",
       "\n",
       "   sub_product_low_flag  issue_freq  issue_low_flag  sub_issue_freq  \\\n",
       "0                     0    0.097832               0       -1.000000   \n",
       "1                     0    0.020742               0       -1.000000   \n",
       "2                     0    0.018283               0       -1.000000   \n",
       "3                     1    0.020015               0        0.002545   \n",
       "4                     0    0.024741               0       -1.000000   \n",
       "\n",
       "   sub_issue_null_flag  sub_issue_low_flag  company_public_response_freq  \\\n",
       "0                    1                   0                     -1.000000   \n",
       "1                    1                   0                     -1.000000   \n",
       "2                    1                   0                     -1.000000   \n",
       "3                    0                   1                     -1.000000   \n",
       "4                    1                   0                      0.055727   \n",
       "\n",
       "   company_public_response_null_flag  company_public_response_low_flag  \\\n",
       "0                                  1                                 0   \n",
       "1                                  1                                 0   \n",
       "2                                  1                                 0   \n",
       "3                                  1                                 0   \n",
       "4                                  0                                 0   \n",
       "\n",
       "   company_freq  company_low_flag  state_freq  state_null_flag  \\\n",
       "0      0.020208                 0    0.018711                0   \n",
       "1      0.003037                 1    0.089449                0   \n",
       "2      0.038897                 0    0.017599                0   \n",
       "3      0.000021                 1    0.016786                0   \n",
       "4      0.045890                 0    0.003143                0   \n",
       "\n",
       "   state_low_flag  zipcode_freq  zipcode_null_flag  zipcode_low_flag  \\\n",
       "0               0      0.001198                  0                 0   \n",
       "1               0      0.009858                  0                 0   \n",
       "2               0      0.002438                  0                 0   \n",
       "3               0      0.001711                  0                 0   \n",
       "4               1      0.000128                  0                 1   \n",
       "\n",
       "   Not Older American, Not Servicemember  Older American  \\\n",
       "0                                      1               0   \n",
       "1                                      1               0   \n",
       "2                                      1               0   \n",
       "3                                      1               0   \n",
       "4                                      0               0   \n",
       "\n",
       "   Older American, Servicemember  Servicemember  Closed  \\\n",
       "0                              0              0       0   \n",
       "1                              0              0       0   \n",
       "2                              0              0       0   \n",
       "3                              0              0       0   \n",
       "4                              0              1       0   \n",
       "\n",
       "   Closed with explanation  Closed with monetary relief  \\\n",
       "0                        1                            0   \n",
       "1                        1                            0   \n",
       "2                        1                            0   \n",
       "3                        1                            0   \n",
       "4                        1                            0   \n",
       "\n",
       "   Closed with non-monetary relief  Untimely response  \n",
       "0                                0                  0  \n",
       "1                                0                  0  \n",
       "2                                0                  0  \n",
       "3                                0                  0  \n",
       "4                                0                  0  "
      ]
     },
     "execution_count": 93,
     "metadata": {},
     "output_type": "execute_result"
    }
   ],
   "source": [
    "df_train.head()"
   ]
  },
  {
   "attachments": {},
   "cell_type": "markdown",
   "id": "075665be",
   "metadata": {},
   "source": [
    "## Drop non-converted and unneeded columns to keep feature-engineered dataframe"
   ]
  },
  {
   "cell_type": "code",
   "execution_count": 95,
   "id": "8bec71f9",
   "metadata": {},
   "outputs": [],
   "source": [
    "# keep 'product' bc used LabelEncoder here but have used cat.code factorization previously\n",
    "df_train_fe = df_train.drop(['date_received', 'sub_product', 'issue', 'sub_issue', 'company_public_response', 'company', \n",
    "                             'state', 'zipcode', 'tags', 'date_sent_to_company', 'company_response_to_consumer'], axis=1)"
   ]
  },
  {
   "cell_type": "code",
   "execution_count": 96,
   "id": "33add222",
   "metadata": {},
   "outputs": [
    {
     "name": "stdout",
     "output_type": "stream",
     "text": [
      "<class 'pandas.core.frame.DataFrame'>\n",
      "RangeIndex: 46764 entries, 0 to 46763\n",
      "Data columns (total 32 columns):\n",
      " #   Column                                 Non-Null Count  Dtype  \n",
      "---  ------                                 --------------  -----  \n",
      " 0   consumer_complaint_narrative           46764 non-null  object \n",
      " 1   timely_response                        46764 non-null  int32  \n",
      " 2   consumer_disputed?                     46764 non-null  int32  \n",
      " 3   days_between_receipt_and_sent          46764 non-null  int64  \n",
      " 4   sub_product_freq                       46764 non-null  float64\n",
      " 5   sub_product_null_flag                  46764 non-null  int32  \n",
      " 6   sub_product_low_flag                   46764 non-null  int32  \n",
      " 7   issue_freq                             46764 non-null  float64\n",
      " 8   issue_low_flag                         46764 non-null  int32  \n",
      " 9   sub_issue_freq                         46764 non-null  float64\n",
      " 10  sub_issue_null_flag                    46764 non-null  int32  \n",
      " 11  sub_issue_low_flag                     46764 non-null  int32  \n",
      " 12  company_public_response_freq           46764 non-null  float64\n",
      " 13  company_public_response_null_flag      46764 non-null  int32  \n",
      " 14  company_public_response_low_flag       46764 non-null  int32  \n",
      " 15  company_freq                           46764 non-null  float64\n",
      " 16  company_low_flag                       46764 non-null  int32  \n",
      " 17  state_freq                             46764 non-null  float64\n",
      " 18  state_null_flag                        46764 non-null  int32  \n",
      " 19  state_low_flag                         46764 non-null  int32  \n",
      " 20  zipcode_freq                           46764 non-null  float64\n",
      " 21  zipcode_null_flag                      46764 non-null  int32  \n",
      " 22  zipcode_low_flag                       46764 non-null  int32  \n",
      " 23  Not Older American, Not Servicemember  46764 non-null  int32  \n",
      " 24  Older American                         46764 non-null  int32  \n",
      " 25  Older American, Servicemember          46764 non-null  int32  \n",
      " 26  Servicemember                          46764 non-null  int32  \n",
      " 27  Closed                                 46764 non-null  int32  \n",
      " 28  Closed with explanation                46764 non-null  int32  \n",
      " 29  Closed with monetary relief            46764 non-null  int32  \n",
      " 30  Closed with non-monetary relief        46764 non-null  int32  \n",
      " 31  Untimely response                      46764 non-null  int32  \n",
      "dtypes: float64(7), int32(23), int64(1), object(1)\n",
      "memory usage: 7.3+ MB\n"
     ]
    }
   ],
   "source": [
    "df_train_fe.info()"
   ]
  },
  {
   "cell_type": "code",
   "execution_count": 100,
   "id": "21f284bc",
   "metadata": {},
   "outputs": [
    {
     "data": {
      "text/html": [
       "<div>\n",
       "<style scoped>\n",
       "    .dataframe tbody tr th:only-of-type {\n",
       "        vertical-align: middle;\n",
       "    }\n",
       "\n",
       "    .dataframe tbody tr th {\n",
       "        vertical-align: top;\n",
       "    }\n",
       "\n",
       "    .dataframe thead th {\n",
       "        text-align: right;\n",
       "    }\n",
       "</style>\n",
       "<table border=\"1\" class=\"dataframe\">\n",
       "  <thead>\n",
       "    <tr style=\"text-align: right;\">\n",
       "      <th></th>\n",
       "      <th>consumer_complaint_narrative</th>\n",
       "      <th>timely_response</th>\n",
       "      <th>consumer_disputed?</th>\n",
       "      <th>days_between_receipt_and_sent</th>\n",
       "      <th>sub_product_freq</th>\n",
       "      <th>sub_product_null_flag</th>\n",
       "      <th>sub_product_low_flag</th>\n",
       "      <th>issue_freq</th>\n",
       "      <th>issue_low_flag</th>\n",
       "      <th>sub_issue_freq</th>\n",
       "      <th>sub_issue_null_flag</th>\n",
       "      <th>sub_issue_low_flag</th>\n",
       "      <th>company_public_response_freq</th>\n",
       "      <th>company_public_response_null_flag</th>\n",
       "      <th>company_public_response_low_flag</th>\n",
       "      <th>company_freq</th>\n",
       "      <th>company_low_flag</th>\n",
       "      <th>state_freq</th>\n",
       "      <th>state_null_flag</th>\n",
       "      <th>state_low_flag</th>\n",
       "      <th>zipcode_freq</th>\n",
       "      <th>zipcode_null_flag</th>\n",
       "      <th>zipcode_low_flag</th>\n",
       "      <th>Not Older American, Not Servicemember</th>\n",
       "      <th>Older American</th>\n",
       "      <th>Older American, Servicemember</th>\n",
       "      <th>Servicemember</th>\n",
       "      <th>Closed</th>\n",
       "      <th>Closed with explanation</th>\n",
       "      <th>Closed with monetary relief</th>\n",
       "      <th>Closed with non-monetary relief</th>\n",
       "      <th>Untimely response</th>\n",
       "    </tr>\n",
       "  </thead>\n",
       "  <tbody>\n",
       "    <tr>\n",
       "      <th>0</th>\n",
       "      <td>Dear Sir or Madam, Ever since XXXX XXXX XXXX s...</td>\n",
       "      <td>1</td>\n",
       "      <td>0</td>\n",
       "      <td>0</td>\n",
       "      <td>0.098495</td>\n",
       "      <td>0</td>\n",
       "      <td>0</td>\n",
       "      <td>0.097832</td>\n",
       "      <td>0</td>\n",
       "      <td>-1.000000</td>\n",
       "      <td>1</td>\n",
       "      <td>0</td>\n",
       "      <td>-1.000000</td>\n",
       "      <td>1</td>\n",
       "      <td>0</td>\n",
       "      <td>0.020208</td>\n",
       "      <td>0</td>\n",
       "      <td>0.018711</td>\n",
       "      <td>0</td>\n",
       "      <td>0</td>\n",
       "      <td>0.001198</td>\n",
       "      <td>0</td>\n",
       "      <td>0</td>\n",
       "      <td>1</td>\n",
       "      <td>0</td>\n",
       "      <td>0</td>\n",
       "      <td>0</td>\n",
       "      <td>0</td>\n",
       "      <td>1</td>\n",
       "      <td>0</td>\n",
       "      <td>0</td>\n",
       "      <td>0</td>\n",
       "    </tr>\n",
       "    <tr>\n",
       "      <th>1</th>\n",
       "      <td>on XXXX XXXX, 2015 there was an ACH transactio...</td>\n",
       "      <td>1</td>\n",
       "      <td>0</td>\n",
       "      <td>0</td>\n",
       "      <td>0.019973</td>\n",
       "      <td>0</td>\n",
       "      <td>0</td>\n",
       "      <td>0.020742</td>\n",
       "      <td>0</td>\n",
       "      <td>-1.000000</td>\n",
       "      <td>1</td>\n",
       "      <td>0</td>\n",
       "      <td>-1.000000</td>\n",
       "      <td>1</td>\n",
       "      <td>0</td>\n",
       "      <td>0.003037</td>\n",
       "      <td>1</td>\n",
       "      <td>0.089449</td>\n",
       "      <td>0</td>\n",
       "      <td>0</td>\n",
       "      <td>0.009858</td>\n",
       "      <td>0</td>\n",
       "      <td>0</td>\n",
       "      <td>1</td>\n",
       "      <td>0</td>\n",
       "      <td>0</td>\n",
       "      <td>0</td>\n",
       "      <td>0</td>\n",
       "      <td>1</td>\n",
       "      <td>0</td>\n",
       "      <td>0</td>\n",
       "      <td>0</td>\n",
       "    </tr>\n",
       "    <tr>\n",
       "      <th>2</th>\n",
       "      <td>My wife has not received a paper bill from Cha...</td>\n",
       "      <td>1</td>\n",
       "      <td>0</td>\n",
       "      <td>0</td>\n",
       "      <td>-1.000000</td>\n",
       "      <td>1</td>\n",
       "      <td>0</td>\n",
       "      <td>0.018283</td>\n",
       "      <td>0</td>\n",
       "      <td>-1.000000</td>\n",
       "      <td>1</td>\n",
       "      <td>0</td>\n",
       "      <td>-1.000000</td>\n",
       "      <td>1</td>\n",
       "      <td>0</td>\n",
       "      <td>0.038897</td>\n",
       "      <td>0</td>\n",
       "      <td>0.017599</td>\n",
       "      <td>0</td>\n",
       "      <td>0</td>\n",
       "      <td>0.002438</td>\n",
       "      <td>0</td>\n",
       "      <td>0</td>\n",
       "      <td>1</td>\n",
       "      <td>0</td>\n",
       "      <td>0</td>\n",
       "      <td>0</td>\n",
       "      <td>0</td>\n",
       "      <td>1</td>\n",
       "      <td>0</td>\n",
       "      <td>0</td>\n",
       "      <td>0</td>\n",
       "    </tr>\n",
       "    <tr>\n",
       "      <th>3</th>\n",
       "      <td>the company m &amp; M funding has been harassing f...</td>\n",
       "      <td>1</td>\n",
       "      <td>0</td>\n",
       "      <td>6</td>\n",
       "      <td>0.005902</td>\n",
       "      <td>0</td>\n",
       "      <td>1</td>\n",
       "      <td>0.020015</td>\n",
       "      <td>0</td>\n",
       "      <td>0.002545</td>\n",
       "      <td>0</td>\n",
       "      <td>1</td>\n",
       "      <td>-1.000000</td>\n",
       "      <td>1</td>\n",
       "      <td>0</td>\n",
       "      <td>0.000021</td>\n",
       "      <td>1</td>\n",
       "      <td>0.016786</td>\n",
       "      <td>0</td>\n",
       "      <td>0</td>\n",
       "      <td>0.001711</td>\n",
       "      <td>0</td>\n",
       "      <td>0</td>\n",
       "      <td>1</td>\n",
       "      <td>0</td>\n",
       "      <td>0</td>\n",
       "      <td>0</td>\n",
       "      <td>0</td>\n",
       "      <td>1</td>\n",
       "      <td>0</td>\n",
       "      <td>0</td>\n",
       "      <td>0</td>\n",
       "    </tr>\n",
       "    <tr>\n",
       "      <th>4</th>\n",
       "      <td>Can my reverse mortgage lender refuse to conti...</td>\n",
       "      <td>1</td>\n",
       "      <td>0</td>\n",
       "      <td>1</td>\n",
       "      <td>0.017449</td>\n",
       "      <td>0</td>\n",
       "      <td>0</td>\n",
       "      <td>0.024741</td>\n",
       "      <td>0</td>\n",
       "      <td>-1.000000</td>\n",
       "      <td>1</td>\n",
       "      <td>0</td>\n",
       "      <td>0.055727</td>\n",
       "      <td>0</td>\n",
       "      <td>0</td>\n",
       "      <td>0.045890</td>\n",
       "      <td>0</td>\n",
       "      <td>0.003143</td>\n",
       "      <td>0</td>\n",
       "      <td>1</td>\n",
       "      <td>0.000128</td>\n",
       "      <td>0</td>\n",
       "      <td>1</td>\n",
       "      <td>0</td>\n",
       "      <td>0</td>\n",
       "      <td>0</td>\n",
       "      <td>1</td>\n",
       "      <td>0</td>\n",
       "      <td>1</td>\n",
       "      <td>0</td>\n",
       "      <td>0</td>\n",
       "      <td>0</td>\n",
       "    </tr>\n",
       "  </tbody>\n",
       "</table>\n",
       "</div>"
      ],
      "text/plain": [
       "                        consumer_complaint_narrative  timely_response  \\\n",
       "0  Dear Sir or Madam, Ever since XXXX XXXX XXXX s...                1   \n",
       "1  on XXXX XXXX, 2015 there was an ACH transactio...                1   \n",
       "2  My wife has not received a paper bill from Cha...                1   \n",
       "3  the company m & M funding has been harassing f...                1   \n",
       "4  Can my reverse mortgage lender refuse to conti...                1   \n",
       "\n",
       "   consumer_disputed?  days_between_receipt_and_sent  sub_product_freq  \\\n",
       "0                   0                              0          0.098495   \n",
       "1                   0                              0          0.019973   \n",
       "2                   0                              0         -1.000000   \n",
       "3                   0                              6          0.005902   \n",
       "4                   0                              1          0.017449   \n",
       "\n",
       "   sub_product_null_flag  sub_product_low_flag  issue_freq  issue_low_flag  \\\n",
       "0                      0                     0    0.097832               0   \n",
       "1                      0                     0    0.020742               0   \n",
       "2                      1                     0    0.018283               0   \n",
       "3                      0                     1    0.020015               0   \n",
       "4                      0                     0    0.024741               0   \n",
       "\n",
       "   sub_issue_freq  sub_issue_null_flag  sub_issue_low_flag  \\\n",
       "0       -1.000000                    1                   0   \n",
       "1       -1.000000                    1                   0   \n",
       "2       -1.000000                    1                   0   \n",
       "3        0.002545                    0                   1   \n",
       "4       -1.000000                    1                   0   \n",
       "\n",
       "   company_public_response_freq  company_public_response_null_flag  \\\n",
       "0                     -1.000000                                  1   \n",
       "1                     -1.000000                                  1   \n",
       "2                     -1.000000                                  1   \n",
       "3                     -1.000000                                  1   \n",
       "4                      0.055727                                  0   \n",
       "\n",
       "   company_public_response_low_flag  company_freq  company_low_flag  \\\n",
       "0                                 0      0.020208                 0   \n",
       "1                                 0      0.003037                 1   \n",
       "2                                 0      0.038897                 0   \n",
       "3                                 0      0.000021                 1   \n",
       "4                                 0      0.045890                 0   \n",
       "\n",
       "   state_freq  state_null_flag  state_low_flag  zipcode_freq  \\\n",
       "0    0.018711                0               0      0.001198   \n",
       "1    0.089449                0               0      0.009858   \n",
       "2    0.017599                0               0      0.002438   \n",
       "3    0.016786                0               0      0.001711   \n",
       "4    0.003143                0               1      0.000128   \n",
       "\n",
       "   zipcode_null_flag  zipcode_low_flag  Not Older American, Not Servicemember  \\\n",
       "0                  0                 0                                      1   \n",
       "1                  0                 0                                      1   \n",
       "2                  0                 0                                      1   \n",
       "3                  0                 0                                      1   \n",
       "4                  0                 1                                      0   \n",
       "\n",
       "   Older American  Older American, Servicemember  Servicemember  Closed  \\\n",
       "0               0                              0              0       0   \n",
       "1               0                              0              0       0   \n",
       "2               0                              0              0       0   \n",
       "3               0                              0              0       0   \n",
       "4               0                              0              1       0   \n",
       "\n",
       "   Closed with explanation  Closed with monetary relief  \\\n",
       "0                        1                            0   \n",
       "1                        1                            0   \n",
       "2                        1                            0   \n",
       "3                        1                            0   \n",
       "4                        1                            0   \n",
       "\n",
       "   Closed with non-monetary relief  Untimely response  \n",
       "0                                0                  0  \n",
       "1                                0                  0  \n",
       "2                                0                  0  \n",
       "3                                0                  0  \n",
       "4                                0                  0  "
      ]
     },
     "execution_count": 100,
     "metadata": {},
     "output_type": "execute_result"
    }
   ],
   "source": [
    "df_train_fe.head()"
   ]
  },
  {
   "attachments": {},
   "cell_type": "markdown",
   "id": "9cb2b303",
   "metadata": {},
   "source": [
    "## Use profile report on feature-engineered dataframe"
   ]
  },
  {
   "cell_type": "code",
   "execution_count": 97,
   "id": "0bc930ae",
   "metadata": {},
   "outputs": [],
   "source": [
    "FE_profile_training = ProfileReport(df_train_fe, title=\"Feature-Engineered Consumer Complaints Profiling Report for Training Dataset\")"
   ]
  },
  {
   "cell_type": "code",
   "execution_count": 98,
   "id": "29aabaff",
   "metadata": {},
   "outputs": [
    {
     "data": {
      "application/vnd.jupyter.widget-view+json": {
       "model_id": "89a2e9f93f6a4406a5d9609e376c2cdf",
       "version_major": 2,
       "version_minor": 0
      },
      "text/plain": [
       "Summarize dataset:   0%|          | 0/5 [00:00<?, ?it/s]"
      ]
     },
     "metadata": {},
     "output_type": "display_data"
    },
    {
     "name": "stderr",
     "output_type": "stream",
     "text": [
      "c:\\Miniconda\\envs\\tf\\lib\\site-packages\\multimethod\\__init__.py:315: FutureWarning: In a future version, `df.iloc[:, i] = newvals` will attempt to set the values inplace instead of always setting a new array. To retain the old behavior, use either `df[df.columns[i]] = newvals` or, if columns are non-unique, `df.isetitem(i, newvals)`\n",
      "  return func(*args, **kwargs)\n"
     ]
    },
    {
     "data": {
      "application/vnd.jupyter.widget-view+json": {
       "model_id": "76137ab8f56c4322ab5b5509b96c9ab6",
       "version_major": 2,
       "version_minor": 0
      },
      "text/plain": [
       "Generate report structure:   0%|          | 0/1 [00:00<?, ?it/s]"
      ]
     },
     "metadata": {},
     "output_type": "display_data"
    },
    {
     "data": {
      "application/vnd.jupyter.widget-view+json": {
       "model_id": "8271939989904afe94c6194f4aaf2ec8",
       "version_major": 2,
       "version_minor": 0
      },
      "text/plain": [
       "Render HTML:   0%|          | 0/1 [00:00<?, ?it/s]"
      ]
     },
     "metadata": {},
     "output_type": "display_data"
    },
    {
     "data": {
      "application/vnd.jupyter.widget-view+json": {
       "model_id": "da9dd4f3e53748da899b79bdd16bde37",
       "version_major": 2,
       "version_minor": 0
      },
      "text/plain": [
       "Export report to file:   0%|          | 0/1 [00:00<?, ?it/s]"
      ]
     },
     "metadata": {},
     "output_type": "display_data"
    }
   ],
   "source": [
    "# save EDA profile report to separate html\n",
    "FE_profile_training.to_file(\"./EDA/profile_reports/01_FE_consumer_complaints_EDA_profiling_report_training.html\")"
   ]
  },
  {
   "attachments": {},
   "cell_type": "markdown",
   "id": "74fca5a4",
   "metadata": {},
   "source": [
    "## Save munged and feature-engineered dataframe for modeling"
   ]
  },
  {
   "cell_type": "code",
   "execution_count": 101,
   "id": "6fd7db99",
   "metadata": {},
   "outputs": [],
   "source": [
    "df_train_fe.to_parquet('./input/dataframes/df_train_FE.parquet')"
   ]
  },
  {
   "cell_type": "code",
   "execution_count": null,
   "id": "067da793",
   "metadata": {},
   "outputs": [],
   "source": []
  },
  {
   "cell_type": "code",
   "execution_count": null,
   "id": "5a727f3d",
   "metadata": {},
   "outputs": [],
   "source": []
  },
  {
   "attachments": {},
   "cell_type": "raw",
   "id": "2e787460",
   "metadata": {},
   "source": [
    "## Summary of feature-engineered dataset profile report findings:"
   ]
  },
  {
   "attachments": {},
   "cell_type": "raw",
   "id": "71b82cbf",
   "metadata": {},
   "source": [
    "## Variables shown with correlation to label in parentheses: \n",
    "- #### Multicollinearity: issue_freq (0.209) / sub_issue_freq (0.041), keep highest correlated with label - keep issue_freq / drop sub_issue_freq\n",
    "- #### Multicollinearity: company_public_response_freq (-0.134) / company_public_response_null_flag (0.165) / company_public_response_low_flag (0.148), keep highest correlated with label - keep company_public_response_null_flag / drop company_public_response_freq and company_public_response_low_flag\n",
    "- #### Multicollinearity: company_freq (-0.250) / sub_product_null_flag (1.000) / sub_issue_null_flag (1.000) / company_low_flag (0.575), keep highest correlated with label - keep sub_issue_null_flag and company_low_flag / drop company_freq and sub_product_null_flag (may be leaking information, also drop sub_product_low_flag and sub_product_freq for same reason)\n",
    "- #### Multicollinearity: state_freq (0.002) / state_null_flag (0.055) / zipcode_null_flag (0.054), keep highest correlated with label - keep state_null_flag / drop state_freq and zipcode_null_flag\n",
    "- #### Multicollinearity: zipcode_freq (-0.007) / state_null_flag (0.055), keep highest correlated with label - keep state_null_flag / drop zipcode_freq\n",
    "- #### Multicollinearity: issue_low_flag (0.706) / issue_freq (0.209), keep highest correlated with label - keep issue_low_flag / drop issue_freq\n",
    "- #### Multicollinearity: \"Not Older American, Not Servicemember\" (0.059) / \"Older American\" (0.102) / \"Servicemember\" (0.086), keep highest correlated with label - keep \"Older American\" / drop \"Not Older American, Not Servicemember\" and \"Servicemember\"\n",
    "- #### Multicollinearity: \"Closed with explanation\" (0.206) / \"Closed with monetary relief\" (0.341) / \"Closed with non-monetary relief\" (0.211), keep highest correlated with label - keep \"Closed with monetary relief\" / drop \"Closed with explanation\" (0.206) and \"Closed with non-monetary relief\""
   ]
  },
  {
   "attachments": {},
   "cell_type": "raw",
   "id": "d3693796",
   "metadata": {},
   "source": [
    "## Remove multicollinear predictor variables that have lower correlation with label"
   ]
  },
  {
   "cell_type": "raw",
   "id": "26d99b67",
   "metadata": {},
   "source": [
    "df_train_fe_select = df_train_fe.drop(['sub_issue_freq', 'company_public_response_freq', 'company_public_response_low_flag', 'company_freq',\n",
    "                    'sub_product_null_flag', 'sub_product_low_flag', 'sub_product_freq', 'state_freq', 'zipcode_null_flag',\n",
    "                    'zipcode_freq', 'issue_freq', 'Not Older American, Not Servicemember', 'Servicemember',\n",
    "                    'Closed with explanation', 'Closed with non-monetary relief'], axis=1)"
   ]
  },
  {
   "cell_type": "raw",
   "id": "2d53863e",
   "metadata": {},
   "source": [
    "df_train_fe_select.info()"
   ]
  },
  {
   "cell_type": "raw",
   "id": "4718f8d5",
   "metadata": {},
   "source": [
    "df_train_fe_select.head()"
   ]
  },
  {
   "attachments": {},
   "cell_type": "raw",
   "id": "a7743867",
   "metadata": {},
   "source": [
    "## Use profile report on REVISED feature-engineered dataframe"
   ]
  },
  {
   "cell_type": "raw",
   "id": "917dd40d",
   "metadata": {},
   "source": [
    "REVISED_FE_profile_training = ProfileReport(df_train_fe_select, title=\"REVISED Feature-Engineered Consumer Complaints Profiling Report for Training Dataset\")"
   ]
  },
  {
   "cell_type": "raw",
   "id": "ef341927",
   "metadata": {},
   "source": [
    "# save EDA profile report to separate html\n",
    "REVISED_FE_profile_training.to_file(\"./EDA/profile_reports/02_REVISED_FE_consumer_complaints_profiling_report_training.html\")"
   ]
  },
  {
   "attachments": {},
   "cell_type": "markdown",
   "id": "ab4bb10c",
   "metadata": {},
   "source": [
    "## Save munged and select feature-engineered dataframe for modeling"
   ]
  },
  {
   "cell_type": "raw",
   "id": "2ea7f4fa",
   "metadata": {},
   "source": [
    "df_train_fe_select.to_parquet('./input/dataframes/df_train_FE_select.parquet')"
   ]
  }
 ],
 "metadata": {
  "kernelspec": {
   "display_name": "Python 3",
   "language": "python",
   "name": "python3"
  },
  "language_info": {
   "codemirror_mode": {
    "name": "ipython",
    "version": 3
   },
   "file_extension": ".py",
   "mimetype": "text/x-python",
   "name": "python",
   "nbconvert_exporter": "python",
   "pygments_lexer": "ipython3",
   "version": "3.9.0"
  },
  "vscode": {
   "interpreter": {
    "hash": "3d00ce96abf83bb4cf2960a98ebc0f7617ff67904ab36479ee95b5efd4b346a2"
   }
  }
 },
 "nbformat": 4,
 "nbformat_minor": 5
}
